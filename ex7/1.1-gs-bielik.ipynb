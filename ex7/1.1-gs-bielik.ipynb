{
  "cells": [
    {
      "cell_type": "markdown",
      "metadata": {},
      "source": [
        "# Fine-tune Llama 3.1 for Hate Speech Classification\n",
        "\n",
        "This notebook fine-tunes a Llama 3.1 model for hate-speech classification using a LoRA approach, following the tutorial at DataCamp: https://www.datacamp.com/tutorial/fine-tuning-llama-3-1.\n",
        "\n",
        "Replace `model_name` with your chosen model (e.g., `llama-3.1-8b-it`)."
      ]
    },
    {
      "cell_type": "code",
      "execution_count": 18,
      "metadata": {},
      "outputs": [],
      "source": [
        "import torch\n",
        "import bitsandbytes as bnb\n",
        "from datasets import load_dataset\n",
        "from transformers import AutoTokenizer, AutoModelForCausalLM, BitsAndBytesConfig, TrainingArguments\n",
        "from peft import LoraConfig\n",
        "from trl import SFTTrainer"
      ]
    },
    {
      "cell_type": "code",
      "execution_count": 19,
      "id": "b0b19364",
      "metadata": {},
      "outputs": [
        {
          "data": {
            "text/html": [
              "<div>\n",
              "<style scoped>\n",
              "    .dataframe tbody tr th:only-of-type {\n",
              "        vertical-align: middle;\n",
              "    }\n",
              "\n",
              "    .dataframe tbody tr th {\n",
              "        vertical-align: top;\n",
              "    }\n",
              "\n",
              "    .dataframe thead th {\n",
              "        text-align: right;\n",
              "    }\n",
              "</style>\n",
              "<table border=\"1\" class=\"dataframe\">\n",
              "  <thead>\n",
              "    <tr style=\"text-align: right;\">\n",
              "      <th></th>\n",
              "      <th>sentence</th>\n",
              "      <th>label</th>\n",
              "    </tr>\n",
              "  </thead>\n",
              "  <tbody>\n",
              "    <tr>\n",
              "      <th>0</th>\n",
              "      <td>Dla mnie faworytem do tytułu będzie Cracovia. ...</td>\n",
              "      <td>0</td>\n",
              "    </tr>\n",
              "    <tr>\n",
              "      <th>1</th>\n",
              "      <td>@anonymized_account @anonymized_account Brawo ...</td>\n",
              "      <td>0</td>\n",
              "    </tr>\n",
              "    <tr>\n",
              "      <th>2</th>\n",
              "      <td>@anonymized_account @anonymized_account Super,...</td>\n",
              "      <td>0</td>\n",
              "    </tr>\n",
              "    <tr>\n",
              "      <th>3</th>\n",
              "      <td>@anonymized_account @anonymized_account Musi. ...</td>\n",
              "      <td>0</td>\n",
              "    </tr>\n",
              "    <tr>\n",
              "      <th>4</th>\n",
              "      <td>Odrzut natychmiastowy, kwaśna mina, mam problem</td>\n",
              "      <td>0</td>\n",
              "    </tr>\n",
              "  </tbody>\n",
              "</table>\n",
              "</div>"
            ],
            "text/plain": [
              "                                            sentence  label\n",
              "0  Dla mnie faworytem do tytułu będzie Cracovia. ...      0\n",
              "1  @anonymized_account @anonymized_account Brawo ...      0\n",
              "2  @anonymized_account @anonymized_account Super,...      0\n",
              "3  @anonymized_account @anonymized_account Musi. ...      0\n",
              "4    Odrzut natychmiastowy, kwaśna mina, mam problem      0"
            ]
          },
          "execution_count": 19,
          "metadata": {},
          "output_type": "execute_result"
        }
      ],
      "source": [
        "import pandas as pd\n",
        "\n",
        "train_path = 'data/hate_train.csv'\n",
        "\n",
        "base_df = pd.read_csv(train_path)\n",
        "base_df.head()"
      ]
    },
    {
      "cell_type": "code",
      "execution_count": 20,
      "metadata": {},
      "outputs": [
        {
          "data": {
            "application/vnd.jupyter.widget-view+json": {
              "model_id": "495336436aee4a97b457d450b064d88c",
              "version_major": 2,
              "version_minor": 0
            },
            "text/plain": [
              "Map:   0%|          | 0/2000 [00:00<?, ? examples/s]"
            ]
          },
          "metadata": {},
          "output_type": "display_data"
        },
        {
          "data": {
            "application/vnd.jupyter.widget-view+json": {
              "model_id": "0b2ddfd6ad1b4a23b0079c5696f365f1",
              "version_major": 2,
              "version_minor": 0
            },
            "text/plain": [
              "Map:   0%|          | 0/400 [00:00<?, ? examples/s]"
            ]
          },
          "metadata": {},
          "output_type": "display_data"
        },
        {
          "name": "stdout",
          "output_type": "stream",
          "text": [
            "Train dataset size: 2000\n",
            "Eval dataset size: 400\n"
          ]
        }
      ],
      "source": [
        "from datasets import Dataset\n",
        "from sklearn.model_selection import train_test_split\n",
        "\n",
        "def prepare_dataset(path, test_size=0.2, random_state=42):\n",
        "    ds = pd.read_csv(path)\n",
        "    ds = ds.rename(columns={'sentence': 'text'})\n",
        "\n",
        "    train_df, val_df = train_test_split(ds, test_size=test_size, random_state=random_state, shuffle=True)\n",
        "    \n",
        "    # TODO: Remove after experiments\n",
        "    train_df = train_df.iloc[:2000].reset_index(drop=True)\n",
        "    val_df = val_df.iloc[:400].reset_index(drop=True)\n",
        "    \n",
        "    train = Dataset.from_pandas(train_df.reset_index(drop=True))\n",
        "    val = Dataset.from_pandas(val_df.reset_index(drop=True))\n",
        "\n",
        "    def make_prompt(ex):\n",
        "        label = \"1\" if ex[\"label\"] == 1 else \"0\"\n",
        "        return {\"text\": f\"Sklasyfikuj czy tekst spełnia normy kulturalnej wypowiedzi - jeśli tak, podaj 0, jeśli nie, podaj 1.\\n\\ntekst: {ex['text']}\\nwartość: {label}\"}\n",
        "\n",
        "    train = train.map(make_prompt, remove_columns=[\"text\", \"label\"])\n",
        "    val = val.map(make_prompt, remove_columns=[\"text\", \"label\"])\n",
        "    return train, val\n",
        "\n",
        "train_ds, eval_ds = prepare_dataset(train_path)\n",
        "\n",
        "print(f\"Train dataset size: {len(train_ds)}\")\n",
        "print(f\"Eval dataset size: {len(eval_ds)}\")"
      ]
    },
    {
      "cell_type": "code",
      "execution_count": 21,
      "metadata": {},
      "outputs": [
        {
          "data": {
            "application/vnd.jupyter.widget-view+json": {
              "model_id": "25fdeef5a0be4131b0cec8d42e283c92",
              "version_major": 2,
              "version_minor": 0
            },
            "text/plain": [
              "Loading checkpoint shards:   0%|          | 0/3 [00:00<?, ?it/s]"
            ]
          },
          "metadata": {},
          "output_type": "display_data"
        },
        {
          "data": {
            "application/vnd.jupyter.widget-view+json": {
              "model_id": "2a3b47b73d4443c393976bdc9f0e95f2",
              "version_major": 2,
              "version_minor": 0
            },
            "text/plain": [
              "Converting train dataset to ChatML:   0%|          | 0/2000 [00:00<?, ? examples/s]"
            ]
          },
          "metadata": {},
          "output_type": "display_data"
        },
        {
          "data": {
            "application/vnd.jupyter.widget-view+json": {
              "model_id": "8c35cf746ef24d8294534c672546c7ab",
              "version_major": 2,
              "version_minor": 0
            },
            "text/plain": [
              "Adding EOS to train dataset:   0%|          | 0/2000 [00:00<?, ? examples/s]"
            ]
          },
          "metadata": {},
          "output_type": "display_data"
        },
        {
          "data": {
            "application/vnd.jupyter.widget-view+json": {
              "model_id": "5f7e9f3667904eeebedb6d877e5a3258",
              "version_major": 2,
              "version_minor": 0
            },
            "text/plain": [
              "Tokenizing train dataset:   0%|          | 0/2000 [00:00<?, ? examples/s]"
            ]
          },
          "metadata": {},
          "output_type": "display_data"
        },
        {
          "data": {
            "application/vnd.jupyter.widget-view+json": {
              "model_id": "d836ba6727b745d2bed1964cf1ac263f",
              "version_major": 2,
              "version_minor": 0
            },
            "text/plain": [
              "Truncating train dataset:   0%|          | 0/2000 [00:00<?, ? examples/s]"
            ]
          },
          "metadata": {},
          "output_type": "display_data"
        },
        {
          "data": {
            "application/vnd.jupyter.widget-view+json": {
              "model_id": "d87621d06409436db36b0357dd31535a",
              "version_major": 2,
              "version_minor": 0
            },
            "text/plain": [
              "Converting eval dataset to ChatML:   0%|          | 0/400 [00:00<?, ? examples/s]"
            ]
          },
          "metadata": {},
          "output_type": "display_data"
        },
        {
          "data": {
            "application/vnd.jupyter.widget-view+json": {
              "model_id": "a343119ba4904d888ad3ba19922d5aa6",
              "version_major": 2,
              "version_minor": 0
            },
            "text/plain": [
              "Adding EOS to eval dataset:   0%|          | 0/400 [00:00<?, ? examples/s]"
            ]
          },
          "metadata": {},
          "output_type": "display_data"
        },
        {
          "data": {
            "application/vnd.jupyter.widget-view+json": {
              "model_id": "787472122a2d4ebead2f30866b7c60e2",
              "version_major": 2,
              "version_minor": 0
            },
            "text/plain": [
              "Tokenizing eval dataset:   0%|          | 0/400 [00:00<?, ? examples/s]"
            ]
          },
          "metadata": {},
          "output_type": "display_data"
        },
        {
          "data": {
            "application/vnd.jupyter.widget-view+json": {
              "model_id": "faa46c2ecd66442b9a9a152a3973a9d3",
              "version_major": 2,
              "version_minor": 0
            },
            "text/plain": [
              "Truncating eval dataset:   0%|          | 0/400 [00:00<?, ? examples/s]"
            ]
          },
          "metadata": {},
          "output_type": "display_data"
        },
        {
          "name": "stderr",
          "output_type": "stream",
          "text": [
            "No label_names provided for model class `PeftModelForCausalLM`. Since `PeftModel` hides base models input arguments, if label_names is not given, label_names can't be set automatically within `Trainer`. Note that empty label_names list will be used instead.\n"
          ]
        },
        {
          "data": {
            "text/html": [
              "\n",
              "    <div>\n",
              "      \n",
              "      <progress value='250' max='250' style='width:300px; height:20px; vertical-align: middle;'></progress>\n",
              "      [250/250 14:57, Epoch 1/1]\n",
              "    </div>\n",
              "    <table border=\"1\" class=\"dataframe\">\n",
              "  <thead>\n",
              " <tr style=\"text-align: left;\">\n",
              "      <th>Step</th>\n",
              "      <th>Training Loss</th>\n",
              "      <th>Validation Loss</th>\n",
              "    </tr>\n",
              "  </thead>\n",
              "  <tbody>\n",
              "    <tr>\n",
              "      <td>50</td>\n",
              "      <td>1.170500</td>\n",
              "      <td>0.909252</td>\n",
              "    </tr>\n",
              "    <tr>\n",
              "      <td>100</td>\n",
              "      <td>0.844600</td>\n",
              "      <td>0.826843</td>\n",
              "    </tr>\n",
              "    <tr>\n",
              "      <td>150</td>\n",
              "      <td>0.842300</td>\n",
              "      <td>0.813947</td>\n",
              "    </tr>\n",
              "    <tr>\n",
              "      <td>200</td>\n",
              "      <td>0.796600</td>\n",
              "      <td>0.808645</td>\n",
              "    </tr>\n",
              "    <tr>\n",
              "      <td>250</td>\n",
              "      <td>0.797600</td>\n",
              "      <td>0.804931</td>\n",
              "    </tr>\n",
              "  </tbody>\n",
              "</table><p>"
            ],
            "text/plain": [
              "<IPython.core.display.HTML object>"
            ]
          },
          "metadata": {},
          "output_type": "display_data"
        },
        {
          "name": "stdout",
          "output_type": "stream",
          "text": [
            "Fine-tuning complete! Model saved to bielik-hate-speech\n"
          ]
        }
      ],
      "source": [
        "model_name = \"speakleash/Bielik-7B-Instruct-v0.1\"\n",
        "output_dir = \"bielik-hate-speech\"\n",
        "epochs = 1\n",
        "batch_size = 1\n",
        "\n",
        "bnb_config = BitsAndBytesConfig(\n",
        "    load_in_4bit=True,\n",
        "    bnb_4bit_use_double_quant=False,\n",
        "    bnb_4bit_quant_type=\"nf4\",\n",
        "    bnb_4bit_compute_dtype=\"float16\",\n",
        ")\n",
        "model = AutoModelForCausalLM.from_pretrained(\n",
        "    model_name,\n",
        "    quantization_config=bnb_config,\n",
        "    device_map=\"auto\",\n",
        "    torch_dtype=torch.float16,\n",
        ")\n",
        "model.config.use_cache = False\n",
        "\n",
        "tokenizer = AutoTokenizer.from_pretrained(model_name)\n",
        "tokenizer.pad_token_id = tokenizer.eos_token_id\n",
        "\n",
        "target_modules = [\n",
        "    name for name, module in model.named_modules()\n",
        "    if isinstance(module, bnb.nn.Linear4bit)\n",
        "]\n",
        "peft_config = LoraConfig(\n",
        "    task_type=\"CAUSAL_LM\",\n",
        "    r=8,\n",
        "    lora_alpha=16,\n",
        "    lora_dropout=0.05,\n",
        "    bias=\"none\",\n",
        ")\n",
        "\n",
        "training_args = TrainingArguments(\n",
        "    output_dir=output_dir,\n",
        "    num_train_epochs=epochs,\n",
        "    per_device_train_batch_size=batch_size,\n",
        "    gradient_accumulation_steps=8,\n",
        "    learning_rate=2e-4,\n",
        "    optim=\"paged_adamw_32bit\",\n",
        "    fp16=True,\n",
        "    eval_strategy=\"steps\",\n",
        "    eval_steps=50,\n",
        "    logging_steps=50,\n",
        "    save_total_limit=2,\n",
        ")\n",
        "\n",
        "trainer = SFTTrainer(\n",
        "    model=model,\n",
        "    args=training_args,\n",
        "    train_dataset=train_ds,\n",
        "    eval_dataset=eval_ds,\n",
        "    peft_config=peft_config\n",
        ")\n",
        "trainer.train()\n",
        "trainer.save_model(output_dir)\n",
        "tokenizer.save_pretrained(output_dir)\n",
        "print(f\"Fine-tuning complete! Model saved to {output_dir}\")"
      ]
    },
    {
      "cell_type": "code",
      "execution_count": 30,
      "id": "f064b544",
      "metadata": {},
      "outputs": [
        {
          "name": "stdout",
          "output_type": "stream",
          "text": [
            "Accuracy: 0.9250\n"
          ]
        }
      ],
      "source": [
        "batch_size = 24\n",
        "prompts = []\n",
        "true_labels = []\n",
        "\n",
        "for sample in eval_ds:\n",
        "    full = sample[\"text\"]\n",
        "    prefix, true = full.rsplit(\"wartość:\", 1)\n",
        "    prompts.append(prefix + \"wartość:\")\n",
        "    true_labels.append(1 if true.strip()==\"1\" else 0)\n",
        "\n",
        "# now tokenize in batches and generate\n",
        "preds = []\n",
        "device = next(model.parameters()).device\n",
        "\n",
        "for i in range(0, len(prompts), batch_size):\n",
        "    batch_prompts = prompts[i : i+batch_size]\n",
        "    batch_labels  = true_labels[i : i+batch_size]\n",
        "    \n",
        "    batch_inputs = tokenizer(\n",
        "        batch_prompts,\n",
        "        return_tensors=\"pt\",\n",
        "        padding=True,\n",
        "        truncation=True\n",
        "    ).to(device)\n",
        "    \n",
        "    with torch.no_grad():\n",
        "        outs = model.generate(\n",
        "            **batch_inputs,\n",
        "            max_new_tokens=4,\n",
        "            pad_token_id=tokenizer.eos_token_id,\n",
        "            use_cache=True,        # make sure caching is on\n",
        "            num_beams=1,           # greedy search\n",
        "            do_sample=False        # deterministic\n",
        "        )\n",
        "    \n",
        "    # decode the newly generated tokens for each example\n",
        "    for seq, prompt in zip(outs, batch_prompts):\n",
        "        gen = tokenizer.decode(\n",
        "            seq[ len(batch_inputs[\"input_ids\"][0]) : ],\n",
        "            skip_special_tokens=True\n",
        "        ).strip().split()[0]\n",
        "        preds.append(1 if gen.lower().startswith(\"1\") else 0)\n",
        "\n",
        "labels = true_labels\n",
        "\n",
        "acc = sum([1 if p==l else 0 for p, l in zip(preds, labels)]) / len(labels)\n",
        "print(f\"Accuracy: {acc:.4f}\")"
      ]
    },
    {
      "cell_type": "code",
      "execution_count": 31,
      "id": "b5ca7c2f",
      "metadata": {},
      "outputs": [
        {
          "name": "stdout",
          "output_type": "stream",
          "text": [
            "Class 0 accuracy: 0.9863\n",
            "Class 1 accuracy: 0.3056\n"
          ]
        }
      ],
      "source": [
        "# per class accuracy\n",
        "class_0_acc = sum([1 if p==l and l==0 else 0 for p, l in zip(preds, labels)]) / sum([1 if l==0 else 0 for l in labels])\n",
        "class_1_acc = sum([1 if p==l and l==1 else 0 for p, l in zip(preds, labels)]) / sum([1 if l==1 else 0 for l in labels])\n",
        "\n",
        "print(f\"Class 0 accuracy: {class_0_acc:.4f}\")\n",
        "print(f\"Class 1 accuracy: {class_1_acc:.4f}\")"
      ]
    },
    {
      "cell_type": "code",
      "execution_count": 28,
      "id": "cf77960d",
      "metadata": {},
      "outputs": [
        {
          "data": {
            "image/png": "[encoded data removed]",
            "text/plain": [
              "<Figure size 640x480 with 1 Axes>"
            ]
          },
          "metadata": {},
          "output_type": "display_data"
        }
      ],
      "source": [
        "import numpy as np\n",
        "import pandas as pd\n",
        "import matplotlib.pyplot as plt\n",
        "\n",
        "id2label = {0: \"Normal\", 1: \"Hate\"}\n",
        "\n",
        "df = pd.DataFrame({'Actual': labels, 'Predicted': preds})\n",
        "cm = pd.crosstab(df['Actual'], df['Predicted'], dropna=False)\n",
        "\n",
        "fig, ax = plt.subplots()\n",
        "cax = ax.matshow(cm)  # default colormap\n",
        "cax.set_cmap('Blues')  # set colormap to 'Blues'\n",
        "\n",
        "for (i, j), v in np.ndenumerate(cm.values):\n",
        "    ax.text(j, i, v, ha='center', va='center')\n",
        "\n",
        "ax.set_xlabel('Predicted')\n",
        "ax.set_ylabel('Actual')\n",
        "ax.set_title('Confusion Matrix')\n",
        "ax.set_xticks(cm.columns.tolist())\n",
        "ax.set_xticklabels([id2label[x] for x in cm.columns.tolist()])\n",
        "ax.set_yticks(cm.index.tolist())\n",
        "ax.set_yticklabels([id2label[y] for y in cm.index.tolist()])\n",
        "plt.show()"
      ]
    },
    {
      "cell_type": "code",
      "execution_count": 16,
      "id": "a28f2f0f",
      "metadata": {},
      "outputs": [
        {
          "name": "stdout",
          "output_type": "stream",
          "text": [
            "Total misclassifications: 30\n",
            "\n",
            "#3  Actual: Hate  Predicted: Normal\n",
            "@anonymized_account @anonymized_account Czyli tylko dlatego nie napiszesz o konkretach 😂 dziękujemy łaskawco inaczej bylibyśmy już pogrążeni\n",
            "--------------------------------------------------------------------------------\n",
            "#6  Actual: Hate  Predicted: Normal\n",
            "@anonymized_account Urban powinien się od was uczyć. Jesteście żenujące gnojki. Aż przykro patrzeć.\n",
            "--------------------------------------------------------------------------------\n",
            "#12  Actual: Hate  Predicted: Normal\n",
            "@anonymized_account Pierdolisz tyle o ojczyźnie to ją szanuj, 1200 zł na m-c za taksówki to nie jest szacunek,\n",
            "--------------------------------------------------------------------------------\n",
            "#18  Actual: Hate  Predicted: Normal\n",
            "@anonymized_account hehe niech uważa bo jeszcze ktoś uwierzy że będzie stawiał na wychowanki\n",
            "--------------------------------------------------------------------------------\n",
            "#31  Actual: Hate  Predicted: Normal\n",
            "@anonymized_account Jesteś na urlopie, czy dalej doisz państwo na propagandę PiSu?\n",
            "--------------------------------------------------------------------------------\n",
            "#39  Actual: Hate  Predicted: Normal\n",
            "RT @anonymized_account @anonymized_account @anonymized_account Leczyć można z chorób - nie ze stanu umysłowego IQ :)\n",
            "--------------------------------------------------------------------------------\n",
            "#54  Actual: Hate  Predicted: Normal\n",
            "@anonymized_account @anonymized_account @anonymized_account A kto ci wierzy pisowski oszuście?\n",
            "--------------------------------------------------------------------------------\n",
            "#71  Actual: Hate  Predicted: Normal\n",
            "W tym kraju nie ma Żydów,  a jest pisdzielstwo\n",
            "--------------------------------------------------------------------------------\n",
            "#77  Actual: Hate  Predicted: Normal\n",
            "@anonymized_account Hehe, do gazu, hehe jeszcze jakieś emotikony wrzuć\n",
            "--------------------------------------------------------------------------------\n",
            "#80  Actual: Normal  Predicted: Hate\n",
            "@anonymized_account @anonymized_account @anonymized_account to nic jak radnia pisdzielscy  ssą wszystkimi  otworami, kurwa psl to mały pikuś, doją aż miło\n",
            "--------------------------------------------------------------------------------\n",
            "#90  Actual: Hate  Predicted: Normal\n",
            "@anonymized_account W tym wypadku chyba tańsza byłaby transplantacja głowy, bo lifting gęby musi uzupełnić wszczepienie mózgu, którego nie ma.\n",
            "--------------------------------------------------------------------------------\n",
            "#103  Actual: Hate  Predicted: Normal\n",
            "#Woronicza 17 poseł Halicki oburzony za Bolka.Naprawdè taki tępy czy tylko udaje idiotę?\n",
            "--------------------------------------------------------------------------------\n",
            "#119  Actual: Normal  Predicted: Hate\n",
            "@anonymized_account @anonymized_account Jaki nominat taki nominowany. Poziom prymitywizmu poniżej dna.\n",
            "--------------------------------------------------------------------------------\n",
            "#169  Actual: Hate  Predicted: Normal\n",
            "jak Patryk Jaki wygra wybory w Warszawie oczyści stolicę z byłych UBECKICH funkcjonariuszy ! #woronicza17\n",
            "--------------------------------------------------------------------------------\n",
            "#199  Actual: Hate  Predicted: Normal\n",
            "RT @anonymized_account @anonymized_account Nie największą konpromitacją w powojennej historii to był Pana udział w obalaniu Premiera Olszewskiego. #N…\n",
            "--------------------------------------------------------------------------------\n",
            "#225  Actual: Normal  Predicted: Hate\n",
            "@anonymized_account Pieprzona zakala sadownictwa ta Gersdorf jest i tojest fakt.\n",
            "--------------------------------------------------------------------------------\n",
            "#226  Actual: Hate  Predicted: Normal\n",
            "@anonymized_account Od dawna mówię ze on się z kangurem na glowy pozmieniał. Chory głupek z tytułem.\n",
            "--------------------------------------------------------------------------------\n",
            "#270  Actual: Hate  Predicted: Normal\n",
            "@anonymized_account @anonymized_account mowa o tej dupie ?:)\n",
            "--------------------------------------------------------------------------------\n",
            "#295  Actual: Hate  Predicted: Normal\n",
            "@anonymized_account @anonymized_account A ty wieś kretynie CONTI jest Acta2 i czego dotyczy? Najpierw przeczytaj a potem się wypowiadaj.\n",
            "--------------------------------------------------------------------------------\n",
            "#301  Actual: Hate  Predicted: Normal\n",
            "@anonymized_account @anonymized_account @anonymized_account gorzej nie, ale po zmianach może być bez zmian.Chujowo ale stabilnie.\n",
            "--------------------------------------------------------------------------------\n",
            "#306  Actual: Normal  Predicted: Hate\n",
            "RT @anonymized_account Szłapka opluwa marszałka Karczewskiego.Bezczelność tego młokosa przekracza  wszelkie granice.\n",
            "--------------------------------------------------------------------------------\n",
            "#313  Actual: Hate  Predicted: Normal\n",
            "@anonymized_account @anonymized_account @anonymized_account Rozmawiacie? O czym ty bredzisz pajacu.\n",
            "--------------------------------------------------------------------------------\n",
            "#325  Actual: Normal  Predicted: Hate\n",
            "@anonymized_account Dla Ciebie Pan Frasyniuk prymitywna kobieto.\n",
            "--------------------------------------------------------------------------------\n",
            "#330  Actual: Hate  Predicted: Normal\n",
            "@anonymized_account @anonymized_account @anonymized_account Kobieto twoja aktywność polega wyłącznie na braniu kasy podatników. W tym jesteś nie do pokonania.\n",
            "--------------------------------------------------------------------------------\n",
            "#341  Actual: Hate  Predicted: Normal\n",
            "@anonymized_account bezideowa partia władzy, szmalu, nepotyzmu\n",
            "--------------------------------------------------------------------------------\n",
            "#343  Actual: Hate  Predicted: Normal\n",
            "RT @anonymized_account #BezRetuszu Postkomunistyczne układy, sitwy,kasty wszystko to na śmietnik historii !! Natychmiast !!\n",
            "--------------------------------------------------------------------------------\n",
            "#344  Actual: Hate  Predicted: Normal\n",
            "Bardzo dobrze mi sie żyje jako polski żyd z ukrainy nie ma w Polsce antysemityzmu z wyjątkiem @anonymized_account\n",
            "--------------------------------------------------------------------------------\n",
            "#368  Actual: Hate  Predicted: Normal\n",
            "Gen Jaruzelski jast taki świerzy, a Kaczyński taki śmierdzący\n",
            "--------------------------------------------------------------------------------\n",
            "#382  Actual: Hate  Predicted: Normal\n",
            "RT @anonymized_account @anonymized_account PiS to komuniści wspierający nazistów, ONR to naziści wspierający komunistów.\n",
            "--------------------------------------------------------------------------------\n",
            "#386  Actual: Hate  Predicted: Normal\n",
            "Jak słucham posła Swiecickiego to to znów zapytam naprawdę taki tępy  czy tylko udaje idiotę\n",
            "--------------------------------------------------------------------------------\n"
          ]
        }
      ],
      "source": [
        "# Identify misclassified samples\n",
        "mis_idx = [i for i, (true, pred) in enumerate(zip(labels, preds)) if true != pred]\n",
        "\n",
        "print(f\"Total misclassifications: {len(mis_idx)}\\n\")\n",
        "\n",
        "for idx in mis_idx:\n",
        "    prompt = eval_ds[idx][\"text\"]\n",
        "    # extract the original sentence\n",
        "    sentence = prompt.split(\"text: \")[1].split(\"\\nlabel:\")[0]\n",
        "    actual = id2label[labels[idx]]\n",
        "    predicted = id2label[preds[idx]]\n",
        "    print(f\"#{idx}  Actual: {actual}  Predicted: {predicted}\")\n",
        "    print(sentence)\n",
        "    print(\"-\" * 80)"
      ]
    }
  ],
  "metadata": {
    "kernelspec": {
      "display_name": ".venv",
      "language": "python",
      "name": "python3"
    },
    "language_info": {
      "codemirror_mode": {
        "name": "ipython",
        "version": 3
      },
      "file_extension": ".py",
      "mimetype": "text/x-python",
      "name": "python",
      "nbconvert_exporter": "python",
      "pygments_lexer": "ipython3",
      "version": "3.10.12"
    }
  },
  "nbformat": 4,
  "nbformat_minor": 5
}
