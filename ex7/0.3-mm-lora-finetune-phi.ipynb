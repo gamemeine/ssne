{
 "cells": [
  {
   "cell_type": "code",
   "execution_count": 1,
   "id": "00db5f3b",
   "metadata": {},
   "outputs": [
    {
     "name": "stdout",
     "output_type": "stream",
     "text": [
      "Wed Jun 11 21:08:38 2025       \n",
      "+-----------------------------------------------------------------------------------------+\n",
      "| NVIDIA-SMI 570.124.06             Driver Version: 570.124.06     CUDA Version: 12.8     |\n",
      "|-----------------------------------------+------------------------+----------------------+\n",
      "| GPU  Name                 Persistence-M | Bus-Id          Disp.A | Volatile Uncorr. ECC |\n",
      "| Fan  Temp   Perf          Pwr:Usage/Cap |           Memory-Usage | GPU-Util  Compute M. |\n",
      "|                                         |                        |               MIG M. |\n",
      "|=========================================+========================+======================|\n",
      "|   0  NVIDIA A10                     On  |   00000000:06:00.0 Off |                    0 |\n",
      "|  0%   47C    P0             59W /  150W |    6309MiB /  23028MiB |      0%      Default |\n",
      "|                                         |                        |                  N/A |\n",
      "+-----------------------------------------+------------------------+----------------------+\n",
      "                                                                                         \n",
      "+-----------------------------------------------------------------------------------------+\n",
      "| Processes:                                                                              |\n",
      "|  GPU   GI   CI              PID   Type   Process name                        GPU Memory |\n",
      "|        ID   ID                                                               Usage      |\n",
      "|=========================================================================================|\n",
      "|    0   N/A  N/A           33610      C   ...untu/ssne-mm/.venv/bin/python       6300MiB |\n",
      "+-----------------------------------------------------------------------------------------+\n"
     ]
    }
   ],
   "source": [
    "!nvidia-smi"
   ]
  },
  {
   "cell_type": "code",
   "execution_count": 2,
   "id": "43035201",
   "metadata": {},
   "outputs": [
    {
     "name": "stderr",
     "output_type": "stream",
     "text": [
      "/home/ubuntu/ssne-mm/.venv/lib/python3.10/site-packages/tqdm/auto.py:21: TqdmWarning: IProgress not found. Please update jupyter and ipywidgets. See https://ipywidgets.readthedocs.io/en/stable/user_install.html\n",
      "  from .autonotebook import tqdm as notebook_tqdm\n"
     ]
    }
   ],
   "source": [
    "import pandas as pd\n",
    "import numpy as np\n",
    "import torch\n",
    "from tqdm.auto import tqdm\n",
    "import os\n",
    "\n",
    "from datasets import Dataset, DatasetDict\n",
    "from sklearn.model_selection import train_test_split\n",
    "import bitsandbytes as bnb\n",
    "from transformers import (\n",
    "    AutoTokenizer,\n",
    "    AutoModelForCausalLM,\n",
    "    TrainingArguments,\n",
    "    Trainer,\n",
    "    DataCollatorForLanguageModeling,\n",
    "    BitsAndBytesConfig,\n",
    "    pipeline,\n",
    ")\n",
    "from peft import LoraConfig, get_peft_model, TaskType, PeftModel"
   ]
  },
  {
   "cell_type": "code",
   "execution_count": 3,
   "id": "fa21c6e0",
   "metadata": {},
   "outputs": [],
   "source": [
    "MODEL_NAME = \"microsoft/phi-1_5\"\n",
    "LORA_MODEL_OUTPUT_DIR = \"./hate-speech-lora-model\"\n",
    "TRAIN_FILE = \"data/hate_train.csv\"\n",
    "TEST_FILE = \"data/hate_test_data.txt\"\n",
    "PREDICTION_FILE = \"pred.csv\"\n",
    "\n",
    "SEED = 42 # reproductivity"
   ]
  },
  {
   "cell_type": "code",
   "execution_count": 4,
   "id": "52d3b744",
   "metadata": {},
   "outputs": [
    {
     "name": "stdout",
     "output_type": "stream",
     "text": [
      "Loaded 10041 training samples and  test samples.\n",
      "                                            sentence  label\n",
      "0  @anonymized_account Najgorzej jak polityk mien...      0\n",
      "1  @anonymized_account I tak oto chrześcijańska p...      1\n",
      "2  @anonymized_account Sam się sobie dziwie ale n...      0\n",
      "3  RT @anonymized_account Przypominam.  Kto taśma...      0\n",
      "4  @anonymized_account Reklamy szamponu na TT jes...      0\n",
      "\n",
      "label\n",
      "0    1823\n",
      "1     177\n",
      "Name: count, dtype: int64\n"
     ]
    }
   ],
   "source": [
    "import pandas as pd\n",
    "\n",
    "df_train_full = pd.read_csv(TRAIN_FILE)\n",
    "with open(TEST_FILE, 'r', encoding='utf-8') as f:\n",
    "    test_texts = [line.strip() for line in f]\n",
    "df_test = pd.DataFrame(test_texts, columns=['sentence'])\n",
    "\n",
    "print(f\"Loaded {len(df_train_full)} training samples and  test samples.\")\n",
    "\n",
    "\n",
    "\n",
    "\n",
    "\n",
    "train_df, val_df = train_test_split(df_train_full, test_size=0.15, random_state=42, stratify=df_train_full['label'])\n",
    "\n",
    "# experimental\n",
    "train_df = train_df.iloc[:2000].reset_index(drop=True)\n",
    "val_df = val_df.iloc[:400].reset_index(drop=True)\n",
    "\n",
    "print(train_df.head())\n",
    "print()\n",
    "print(train_df['label'].value_counts())\n",
    "\n",
    "raw_datasets = DatasetDict({\n",
    "    'train': Dataset.from_pandas(train_df),\n",
    "    'validation': Dataset.from_pandas(val_df),\n",
    "    'test': Dataset.from_pandas(df_test)\n",
    "})"
   ]
  },
  {
   "cell_type": "code",
   "execution_count": 5,
   "id": "7f72fedc",
   "metadata": {},
   "outputs": [],
   "source": [
    "# bnb_config = BitsAndBytesConfig(\n",
    "#     load_in_4bit=True,\n",
    "#     bnb_4bit_quant_type=\"nf4\",\n",
    "#     bnb_4bit_compute_dtype=torch.float16,\n",
    "# )\n",
    "\n",
    "bnb_config = BitsAndBytesConfig(\n",
    "    load_in_8bit=True,\n",
    ")\n",
    "\n",
    "model = AutoModelForCausalLM.from_pretrained(\n",
    "    MODEL_NAME,\n",
    "    quantization_config=bnb_config,\n",
    "    trust_remote_code=True,\n",
    "    device_map=\"auto\"\n",
    ")\n",
    "model.config.use_cache = False\n",
    "\n",
    "tokenizer = AutoTokenizer.from_pretrained(MODEL_NAME, trust_remote_code=True)\n",
    "tokenizer.pad_token = tokenizer.eos_token\n",
    "tokenizer.padding_side = \"right\"\n"
   ]
  },
  {
   "cell_type": "code",
   "execution_count": 6,
   "id": "ae8d3ff8",
   "metadata": {},
   "outputs": [
    {
     "name": "stdout",
     "output_type": "stream",
     "text": [
      "trainable params: 3,145,728 || all params: 1,421,416,448 || trainable%: 0.2213\n"
     ]
    }
   ],
   "source": [
    "lora_config = LoraConfig(\n",
    "    r=8,\n",
    "    lora_alpha=16,\n",
    "    target_modules=[\n",
    "        \"q_proj\",\n",
    "        \"k_proj\",\n",
    "        \"v_proj\",\n",
    "        \"dense\",\n",
    "    ],\n",
    "    lora_dropout=0.05,\n",
    "    bias=\"none\",\n",
    "    task_type=\"CAUSAL_LM\",\n",
    ")\n",
    "\n",
    "model = get_peft_model(model, lora_config)\n",
    "\n",
    "model.print_trainable_parameters()"
   ]
  },
  {
   "cell_type": "code",
   "execution_count": 7,
   "id": "84408650",
   "metadata": {},
   "outputs": [
    {
     "name": "stderr",
     "output_type": "stream",
     "text": [
      "Map (num_proc=4): 100%|██████████| 2000/2000 [00:00<00:00, 11536.76 examples/s]\n",
      "Map: 100%|██████████| 2000/2000 [00:00<00:00, 3914.59 examples/s]\n",
      "Map (num_proc=4): 100%|██████████| 400/400 [00:00<00:00, 2837.79 examples/s]\n",
      "Map: 100%|██████████| 400/400 [00:00<00:00, 5546.13 examples/s]\n",
      "Map: 100%|██████████| 2000/2000 [00:00<00:00, 9652.05 examples/s]\n",
      "Map: 100%|██████████| 400/400 [00:00<00:00, 9508.68 examples/s]"
     ]
    },
    {
     "name": "stdout",
     "output_type": "stream",
     "text": [
      "\n",
      "Próbka danych po tokenizacji z nowym promptem:\n",
      "Przeanalizuj poniższy tekst i określ, czy jest to mowa nienawiści. Odpowiedz '1' dla mowy nienawiści lub '0' w przeciwnym razie. Tekst: @anonymized_account Najgorzej jak polityk mieniący się konserwatystą nie odróżnia konserwatysty od konserwy.\n",
      "Odpowiedź: 0<|endoftext|><|endoftext|><|endoftext|><|endoftext|><|endoftext|><|endoftext|><|endoftext|><|endoftext|><|endoftext|><|endoftext|><|endoftext|><|endoftext|><|endoftext|><|endoftext|><|endoftext|><|endoftext|><|endoftext|><|endoftext|><|endoftext|><|endoftext|><|endoftext|><|endoftext|><|endoftext|><|endoftext|><|endoftext|><|endoftext|><|endoftext|><|endoftext|><|endoftext|><|endoftext|><|endoftext|><|endoftext|><|endoftext|><|endoftext|><|endoftext|><|endoftext|><|endoftext|><|endoftext|><|endoftext|><|endoftext|><|endoftext|><|endoftext|><|endoftext|><|endoftext|><|endoftext|>\n"
     ]
    },
    {
     "name": "stderr",
     "output_type": "stream",
     "text": [
      "\n"
     ]
    }
   ],
   "source": [
    "PROMPT_TEMPLATE_FINETUNE = (\n",
    "    \"Przeanalizuj poniższy tekst i określ, czy jest to mowa nienawiści. \"\n",
    "    \"Odpowiedz '1' dla mowy nienawiści lub '0' w przeciwnym razie. \"\n",
    "    \"Tekst: {text}\\n\"\n",
    "    \"Odpowiedź: {label_str}{eos_token}\"\n",
    ")\n",
    "\n",
    "\n",
    "def format_dataset_for_finetuning(examples):\n",
    "    texts = examples['sentence']\n",
    "    labels_int = examples['label']\n",
    "    formatted_prompts = []\n",
    "    for text, label_int in zip(texts, labels_int):\n",
    "        label_str = str(label_int)\n",
    "        formatted_prompts.append(\n",
    "            PROMPT_TEMPLATE_FINETUNE.format(\n",
    "                text=text,\n",
    "                label_str=label_str,\n",
    "                eos_token=tokenizer.eos_token\n",
    "            )\n",
    "        )\n",
    "    return {\"formatted_prompt\": formatted_prompts}\n",
    "\n",
    "def tokenize_function(examples):\n",
    "    return tokenizer(\n",
    "        examples[\"formatted_prompt\"],\n",
    "        truncation=True,\n",
    "        max_length=180,\n",
    "        padding=\"max_length\"\n",
    "    )\n",
    "\n",
    "tokenized_datasets = DatasetDict()\n",
    "\n",
    "for split in ['train', 'validation']:\n",
    "    formatted_data = raw_datasets[split].map(format_dataset_for_finetuning, batched=True, num_proc=4)\n",
    "    tokenized_datasets[split] = formatted_data.map(\n",
    "        tokenize_function,\n",
    "        batched=True,\n",
    "        remove_columns=raw_datasets[split].column_names + [\"formatted_prompt\"]\n",
    "    )\n",
    "\n",
    "def set_labels(examples):\n",
    "    examples[\"labels\"] = examples[\"input_ids\"].copy()\n",
    "    return examples\n",
    "\n",
    "tokenized_datasets['train'] = tokenized_datasets['train'].map(set_labels, batched=True)\n",
    "tokenized_datasets['validation'] = tokenized_datasets['validation'].map(set_labels, batched=True)\n",
    "\n",
    "\n",
    "print(\"\\nPróbka danych po tokenizacji z nowym promptem:\")\n",
    "print(tokenizer.decode(tokenized_datasets[\"train\"][0]['input_ids'], skip_special_tokens=False))"
   ]
  },
  {
   "cell_type": "code",
   "execution_count": 8,
   "id": "c2782658",
   "metadata": {},
   "outputs": [
    {
     "name": "stderr",
     "output_type": "stream",
     "text": [
      "/tmp/ipykernel_56468/1432817989.py:22: FutureWarning: `tokenizer` is deprecated and will be removed in version 5.0.0 for `Trainer.__init__`. Use `processing_class` instead.\n",
      "  trainer = Trainer(\n",
      "No label_names provided for model class `PeftModelForCausalLM`. Since `PeftModel` hides base models input arguments, if label_names is not given, label_names can't be set automatically within `Trainer`. Note that empty label_names list will be used instead.\n"
     ]
    }
   ],
   "source": [
    "training_args = TrainingArguments(\n",
    "    output_dir=LORA_MODEL_OUTPUT_DIR,\n",
    "    per_device_train_batch_size=2,\n",
    "    per_device_eval_batch_size=2,\n",
    "    gradient_accumulation_steps=4,\n",
    "    learning_rate=2e-4,\n",
    "    weight_decay=0.01,\n",
    "    num_train_epochs=1,\n",
    "    logging_steps=10,\n",
    "    save_steps=100,\n",
    "    eval_strategy=\"steps\",\n",
    "    eval_steps=100,\n",
    "    load_best_model_at_end=True,\n",
    "    greater_is_better=False,\n",
    "    metric_for_best_model=\"eval_loss\",\n",
    "    save_total_limit=2,\n",
    "    fp16=True,\n",
    "    report_to=\"wandb\",\n",
    "    run_name=\"hate-speech-lora-finetuning\",\n",
    ")\n",
    "\n",
    "trainer = Trainer(\n",
    "    model=model,\n",
    "    args=training_args,\n",
    "    train_dataset=tokenized_datasets[\"train\"],\n",
    "    eval_dataset=tokenized_datasets[\"validation\"],\n",
    "    tokenizer=tokenizer,\n",
    "    data_collator=DataCollatorForLanguageModeling(tokenizer=tokenizer, mlm=False)\n",
    ")"
   ]
  },
  {
   "cell_type": "code",
   "execution_count": 9,
   "id": "1a2db8b4",
   "metadata": {},
   "outputs": [
    {
     "name": "stdout",
     "output_type": "stream",
     "text": [
      "Wed Jun 11 21:08:48 2025       \n",
      "+-----------------------------------------------------------------------------------------+\n",
      "| NVIDIA-SMI 570.124.06             Driver Version: 570.124.06     CUDA Version: 12.8     |\n",
      "|-----------------------------------------+------------------------+----------------------+\n",
      "| GPU  Name                 Persistence-M | Bus-Id          Disp.A | Volatile Uncorr. ECC |\n",
      "| Fan  Temp   Perf          Pwr:Usage/Cap |           Memory-Usage | GPU-Util  Compute M. |\n",
      "|                                         |                        |               MIG M. |\n",
      "|=========================================+========================+======================|\n",
      "|   0  NVIDIA A10                     On  |   00000000:06:00.0 Off |                    0 |\n",
      "|  0%   46C    P0             60W /  150W |    8182MiB /  23028MiB |      0%      Default |\n",
      "|                                         |                        |                  N/A |\n",
      "+-----------------------------------------+------------------------+----------------------+\n",
      "                                                                                         \n",
      "+-----------------------------------------------------------------------------------------+\n",
      "| Processes:                                                                              |\n",
      "|  GPU   GI   CI              PID   Type   Process name                        GPU Memory |\n",
      "|        ID   ID                                                               Usage      |\n",
      "|=========================================================================================|\n",
      "|    0   N/A  N/A           33610      C   ...untu/ssne-mm/.venv/bin/python       6300MiB |\n",
      "|    0   N/A  N/A           56468      C   ...untu/ssne-mm/.venv/bin/python       1868MiB |\n",
      "+-----------------------------------------------------------------------------------------+\n"
     ]
    }
   ],
   "source": [
    "!nvidia-smi"
   ]
  },
  {
   "cell_type": "code",
   "execution_count": 10,
   "id": "8870d447",
   "metadata": {},
   "outputs": [
    {
     "name": "stdout",
     "output_type": "stream",
     "text": [
      "\n",
      "Rozpoczynanie treningu...\n"
     ]
    },
    {
     "name": "stderr",
     "output_type": "stream",
     "text": [
      "\u001b[34m\u001b[1mwandb\u001b[0m: Currently logged in as: \u001b[33m01178563\u001b[0m (\u001b[33m01178563-warsaw-information-technology\u001b[0m) to \u001b[32mhttps://api.wandb.ai\u001b[0m. Use \u001b[1m`wandb login --relogin`\u001b[0m to force relogin\n"
     ]
    },
    {
     "data": {
      "text/html": [
       "Tracking run with wandb version 0.20.1"
      ],
      "text/plain": [
       "<IPython.core.display.HTML object>"
      ]
     },
     "metadata": {},
     "output_type": "display_data"
    },
    {
     "data": {
      "text/html": [
       "Run data is saved locally in <code>/home/ubuntu/ssne-mm/ssne/ex7/wandb/run-20250611_210848-2si57oxc</code>"
      ],
      "text/plain": [
       "<IPython.core.display.HTML object>"
      ]
     },
     "metadata": {},
     "output_type": "display_data"
    },
    {
     "data": {
      "text/html": [
       "Syncing run <strong><a href='https://wandb.ai/01178563-warsaw-information-technology/huggingface/runs/2si57oxc' target=\"_blank\">hate-speech-lora-finetuning</a></strong> to <a href='https://wandb.ai/01178563-warsaw-information-technology/huggingface' target=\"_blank\">Weights & Biases</a> (<a href='https://wandb.me/developer-guide' target=\"_blank\">docs</a>)<br>"
      ],
      "text/plain": [
       "<IPython.core.display.HTML object>"
      ]
     },
     "metadata": {},
     "output_type": "display_data"
    },
    {
     "data": {
      "text/html": [
       " View project at <a href='https://wandb.ai/01178563-warsaw-information-technology/huggingface' target=\"_blank\">https://wandb.ai/01178563-warsaw-information-technology/huggingface</a>"
      ],
      "text/plain": [
       "<IPython.core.display.HTML object>"
      ]
     },
     "metadata": {},
     "output_type": "display_data"
    },
    {
     "data": {
      "text/html": [
       " View run at <a href='https://wandb.ai/01178563-warsaw-information-technology/huggingface/runs/2si57oxc' target=\"_blank\">https://wandb.ai/01178563-warsaw-information-technology/huggingface/runs/2si57oxc</a>"
      ],
      "text/plain": [
       "<IPython.core.display.HTML object>"
      ]
     },
     "metadata": {},
     "output_type": "display_data"
    },
    {
     "name": "stderr",
     "output_type": "stream",
     "text": [
      "/home/ubuntu/ssne-mm/.venv/lib/python3.10/site-packages/bitsandbytes/autograd/_functions.py:185: UserWarning: MatMul8bitLt: inputs will be cast from torch.float32 to float16 during quantization\n",
      "  warnings.warn(f\"MatMul8bitLt: inputs will be cast from {A.dtype} to float16 during quantization\")\n"
     ]
    },
    {
     "data": {
      "text/html": [
       "\n",
       "    <div>\n",
       "      \n",
       "      <progress value='250' max='250' style='width:300px; height:20px; vertical-align: middle;'></progress>\n",
       "      [250/250 05:26, Epoch 1/1]\n",
       "    </div>\n",
       "    <table border=\"1\" class=\"dataframe\">\n",
       "  <thead>\n",
       " <tr style=\"text-align: left;\">\n",
       "      <th>Step</th>\n",
       "      <th>Training Loss</th>\n",
       "      <th>Validation Loss</th>\n",
       "    </tr>\n",
       "  </thead>\n",
       "  <tbody>\n",
       "    <tr>\n",
       "      <td>100</td>\n",
       "      <td>1.223700</td>\n",
       "      <td>1.206696</td>\n",
       "    </tr>\n",
       "    <tr>\n",
       "      <td>200</td>\n",
       "      <td>1.204100</td>\n",
       "      <td>1.178937</td>\n",
       "    </tr>\n",
       "  </tbody>\n",
       "</table><p>"
      ],
      "text/plain": [
       "<IPython.core.display.HTML object>"
      ]
     },
     "metadata": {},
     "output_type": "display_data"
    },
    {
     "name": "stderr",
     "output_type": "stream",
     "text": [
      "/home/ubuntu/ssne-mm/.venv/lib/python3.10/site-packages/bitsandbytes/autograd/_functions.py:185: UserWarning: MatMul8bitLt: inputs will be cast from torch.float32 to float16 during quantization\n",
      "  warnings.warn(f\"MatMul8bitLt: inputs will be cast from {A.dtype} to float16 during quantization\")\n",
      "/home/ubuntu/ssne-mm/.venv/lib/python3.10/site-packages/bitsandbytes/autograd/_functions.py:185: UserWarning: MatMul8bitLt: inputs will be cast from torch.float32 to float16 during quantization\n",
      "  warnings.warn(f\"MatMul8bitLt: inputs will be cast from {A.dtype} to float16 during quantization\")\n"
     ]
    },
    {
     "name": "stdout",
     "output_type": "stream",
     "text": [
      "Najlepszy model (adaptery LoRA) zapisany w: ./hate-speech-lora-model/best\n"
     ]
    }
   ],
   "source": [
    "print(\"\\nRozpoczynanie treningu...\")\n",
    "trainer.train()\n",
    "\n",
    "best_model_path = LORA_MODEL_OUTPUT_DIR+ \"/best\"\n",
    "trainer.save_model(best_model_path)\n",
    "print(f\"Najlepszy model (adaptery LoRA) zapisany w: {best_model_path}\")"
   ]
  },
  {
   "cell_type": "code",
   "execution_count": 11,
   "id": "806f850c",
   "metadata": {},
   "outputs": [],
   "source": [
    "from sklearn.metrics import accuracy_score, confusion_matrix, classification_report\n",
    "import seaborn as sns\n",
    "import matplotlib.pyplot as plt\n",
    "from peft import PeftModel\n",
    "from tqdm import tqdm"
   ]
  },
  {
   "cell_type": "code",
   "execution_count": 13,
   "id": "2e6d41d1",
   "metadata": {},
   "outputs": [
    {
     "name": "stdout",
     "output_type": "stream",
     "text": [
      "Załadowano model z adapterami z: ./hate-speech-lora-model/best\n"
     ]
    },
    {
     "name": "stderr",
     "output_type": "stream",
     "text": [
      "Ewaluacja na zbiorze walidacyjnym: 100%|██████████| 400/400 [01:42<00:00,  3.92it/s]"
     ]
    },
    {
     "name": "stdout",
     "output_type": "stream",
     "text": [
      "\n",
      "--- Wyniki ewaluacji na zbiorze walidacyjnym ---\n",
      "Dokładność (Accuracy): 0.8700\n",
      "\n",
      "Raport klasyfikacji:\n",
      "                     precision    recall  f1-score   support\n",
      "\n",
      "Not Hate-Speech (0)       0.89      0.97      0.93       359\n",
      "    Hate-Speech (1)       0.00      0.00      0.00        41\n",
      "\n",
      "           accuracy                           0.87       400\n",
      "          macro avg       0.45      0.48      0.47       400\n",
      "       weighted avg       0.80      0.87      0.84       400\n",
      "\n",
      "\n",
      "Macierz pomyłek:\n"
     ]
    },
    {
     "name": "stderr",
     "output_type": "stream",
     "text": [
      "\n"
     ]
    },
    {
     "data": {
      "image/png": "[encoded data removed]",
      "text/plain": [
       "<Figure size 800x600 with 2 Axes>"
      ]
     },
     "metadata": {},
     "output_type": "display_data"
    }
   ],
   "source": [
    "PROMPT_TEMPLATE_INFERENCE = (\n",
    "    \"Przeanalizuj poniższy tekst i określ, czy jest to mowa nienawiści. \"\n",
    "    \"Odpowiedz '1' dla mowy nienawiści lub '0' w przeciwnym razie. \"\n",
    "    \"Tekst: {text}\\n\"\n",
    "    \"Odpowiedź: \"\n",
    ")\n",
    "\n",
    "\n",
    "base_model_for_inference = AutoModelForCausalLM.from_pretrained(\n",
    "    MODEL_NAME,\n",
    "    quantization_config=bnb_config,\n",
    "    trust_remote_code=True,\n",
    "    device_map=\"auto\"\n",
    ")\n",
    "\n",
    "inference_model = PeftModel.from_pretrained(base_model_for_inference, best_model_path)\n",
    "print(f\"Załadowano model z adapterami z: {best_model_path}\")\n",
    "\n",
    "inference_model.eval()\n",
    "\n",
    "y_true = []\n",
    "y_pred = []\n",
    "\n",
    "\n",
    "for sample in tqdm(raw_datasets['validation'], desc=\"Ewaluacja na zbiorze walidacyjnym\"):\n",
    "    text = sample['sentence']\n",
    "    true_label = sample['label']\n",
    "\n",
    "    y_true.append(true_label)\n",
    "\n",
    "    prompt = PROMPT_TEMPLATE_INFERENCE.format(\n",
    "        text=text\n",
    "    )    \n",
    "    inputs = tokenizer(prompt, return_tensors=\"pt\").to(\"cuda\")\n",
    "\n",
    "    with torch.no_grad():\n",
    "        generate_ids = inference_model.generate(\n",
    "            **inputs,\n",
    "            max_new_tokens=3,\n",
    "            pad_token_id=tokenizer.eos_token_id\n",
    "        )\n",
    "\n",
    "    output_text = tokenizer.decode(generate_ids[0][inputs['input_ids'].shape[1]:], skip_special_tokens=True).strip()\n",
    "\n",
    "    if output_text in ['0', '1']:\n",
    "        prediction = int(output_text)\n",
    "    else:\n",
    "        prediction = 1 - true_label\n",
    "\n",
    "    y_pred.append(prediction)\n",
    "\n",
    "print(\"\\n--- Wyniki ewaluacji na zbiorze walidacyjnym ---\")\n",
    "\n",
    "accuracy = accuracy_score(y_true, y_pred)\n",
    "print(f\"Dokładność (Accuracy): {accuracy:.4f}\")\n",
    "\n",
    "print(\"\\nRaport klasyfikacji:\")\n",
    "print(classification_report(y_true, y_pred, target_names=['Not Hate-Speech (0)', 'Hate-Speech (1)']))\n",
    "\n",
    "print(\"\\nMacierz pomyłek:\")\n",
    "cm = confusion_matrix(y_true, y_pred)\n",
    "\n",
    "plt.figure(figsize=(8, 6))\n",
    "sns.heatmap(\n",
    "    cm,\n",
    "    annot=True,\n",
    "    fmt='d',\n",
    "    cmap='Blues',\n",
    "    xticklabels=['Not Hate-Speech (0)', 'Hate-Speech (1)'],\n",
    "    yticklabels=['Not Hate-Speech (0)', 'Hate-Speech (1)']\n",
    ")\n",
    "plt.ylabel('Prawdziwa etykieta (True Label)')\n",
    "plt.xlabel('Przewidziana etykieta (Predicted Label)')\n",
    "plt.title('Macierz pomyłek')\n",
    "plt.show()\n"
   ]
  }
 ],
 "metadata": {
  "kernelspec": {
   "display_name": ".venv",
   "language": "python",
   "name": "python3"
  },
  "language_info": {
   "codemirror_mode": {
    "name": "ipython",
    "version": 3
   },
   "file_extension": ".py",
   "mimetype": "text/x-python",
   "name": "python",
   "nbconvert_exporter": "python",
   "pygments_lexer": "ipython3",
   "version": "3.10.12"
  }
 },
 "nbformat": 4,
 "nbformat_minor": 5
}
