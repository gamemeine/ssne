{
  "cells": [
    {
      "cell_type": "markdown",
      "id": "4cd9e45e",
      "metadata": {},
      "source": [
        "## Prepare the dataset"
      ]
    },
    {
      "cell_type": "code",
      "execution_count": 1,
      "id": "b0b19364",
      "metadata": {},
      "outputs": [
        {
          "data": {
            "text/html": [
              "<div>\n",
              "<style scoped>\n",
              "    .dataframe tbody tr th:only-of-type {\n",
              "        vertical-align: middle;\n",
              "    }\n",
              "\n",
              "    .dataframe tbody tr th {\n",
              "        vertical-align: top;\n",
              "    }\n",
              "\n",
              "    .dataframe thead th {\n",
              "        text-align: right;\n",
              "    }\n",
              "</style>\n",
              "<table border=\"1\" class=\"dataframe\">\n",
              "  <thead>\n",
              "    <tr style=\"text-align: right;\">\n",
              "      <th></th>\n",
              "      <th>sentence</th>\n",
              "      <th>label</th>\n",
              "    </tr>\n",
              "  </thead>\n",
              "  <tbody>\n",
              "    <tr>\n",
              "      <th>0</th>\n",
              "      <td>Dla mnie faworytem do tytułu będzie Cracovia. ...</td>\n",
              "      <td>0</td>\n",
              "    </tr>\n",
              "    <tr>\n",
              "      <th>1</th>\n",
              "      <td>@anonymized_account @anonymized_account Brawo ...</td>\n",
              "      <td>0</td>\n",
              "    </tr>\n",
              "    <tr>\n",
              "      <th>2</th>\n",
              "      <td>@anonymized_account @anonymized_account Super,...</td>\n",
              "      <td>0</td>\n",
              "    </tr>\n",
              "    <tr>\n",
              "      <th>3</th>\n",
              "      <td>@anonymized_account @anonymized_account Musi. ...</td>\n",
              "      <td>0</td>\n",
              "    </tr>\n",
              "    <tr>\n",
              "      <th>4</th>\n",
              "      <td>Odrzut natychmiastowy, kwaśna mina, mam problem</td>\n",
              "      <td>0</td>\n",
              "    </tr>\n",
              "  </tbody>\n",
              "</table>\n",
              "</div>"
            ],
            "text/plain": [
              "                                            sentence  label\n",
              "0  Dla mnie faworytem do tytułu będzie Cracovia. ...      0\n",
              "1  @anonymized_account @anonymized_account Brawo ...      0\n",
              "2  @anonymized_account @anonymized_account Super,...      0\n",
              "3  @anonymized_account @anonymized_account Musi. ...      0\n",
              "4    Odrzut natychmiastowy, kwaśna mina, mam problem      0"
            ]
          },
          "execution_count": 1,
          "metadata": {},
          "output_type": "execute_result"
        }
      ],
      "source": [
        "import pandas as pd\n",
        "\n",
        "train_path = 'data/hate_train.csv'\n",
        "\n",
        "base_df = pd.read_csv(train_path)\n",
        "base_df.head()"
      ]
    },
    {
      "cell_type": "markdown",
      "id": "b5437bd7",
      "metadata": {},
      "source": [
        "Clean sentences - actualy no cleaning works best :D"
      ]
    },
    {
      "cell_type": "code",
      "execution_count": 2,
      "id": "f52ba990",
      "metadata": {},
      "outputs": [],
      "source": [
        "cleaned_df = base_df.copy()"
      ]
    },
    {
      "cell_type": "markdown",
      "id": "3dc0597c",
      "metadata": {},
      "source": [
        "Print example of cleaned sentences"
      ]
    },
    {
      "cell_type": "code",
      "execution_count": 4,
      "id": "6e48f046",
      "metadata": {},
      "outputs": [
        {
          "data": {
            "text/plain": [
              "['Dla mnie faworytem do tytułu będzie Cracovia. Zobaczymy, czy typ się sprawdzi.',\n",
              " '@anonymized_account @anonymized_account Brawo ty Daria kibic ma być na dobre i złe',\n",
              " '@anonymized_account @anonymized_account Super, polski premier składa kwiaty na grobach kolaborantów. Ale doczekaliśmy czasów.',\n",
              " '@anonymized_account @anonymized_account Musi. Innej drogi nie mamy.',\n",
              " 'Odrzut natychmiastowy, kwaśna mina, mam problem']"
            ]
          },
          "execution_count": 4,
          "metadata": {},
          "output_type": "execute_result"
        }
      ],
      "source": [
        "cleaned_df['sentence'][0:5].to_list()"
      ]
    },
    {
      "cell_type": "markdown",
      "id": "fcd93a9e",
      "metadata": {},
      "source": [
        "Train test split"
      ]
    },
    {
      "cell_type": "code",
      "execution_count": 5,
      "id": "5f74c664",
      "metadata": {},
      "outputs": [
        {
          "name": "stdout",
          "output_type": "stream",
          "text": [
            "Train dataset size: 8032\n",
            "Eval dataset size: 2009\n"
          ]
        }
      ],
      "source": [
        "from sklearn.model_selection import train_test_split\n",
        "from datasets import Dataset\n",
        "\n",
        "train_df, eval_df = train_test_split(\n",
        "    cleaned_df,\n",
        "    test_size=0.2,\n",
        "    random_state=42,\n",
        "    stratify=cleaned_df['label']\n",
        ")\n",
        "\n",
        "train_ds = Dataset.from_pandas(train_df.reset_index(drop=True))\n",
        "eval_ds = Dataset.from_pandas(eval_df .reset_index(drop=True))\n",
        "\n",
        "print(f\"Train dataset size: {len(train_ds)}\")\n",
        "print(f\"Eval dataset size: {len(eval_ds)}\")"
      ]
    },
    {
      "cell_type": "markdown",
      "id": "76061bd9",
      "metadata": {},
      "source": [
        "## Prepare the model"
      ]
    },
    {
      "cell_type": "markdown",
      "id": "10989ae2",
      "metadata": {},
      "source": [
        "Load the model"
      ]
    },
    {
      "cell_type": "code",
      "execution_count": 6,
      "id": "f433fad3",
      "metadata": {},
      "outputs": [
        {
          "name": "stderr",
          "output_type": "stream",
          "text": [
            "Some weights of BertForSequenceClassification were not initialized from the model checkpoint at allegro/herbert-large-cased and are newly initialized: ['classifier.bias', 'classifier.weight']\n",
            "You should probably TRAIN this model on a down-stream task to be able to use it for predictions and inference.\n"
          ]
        }
      ],
      "source": [
        "from transformers import AutoTokenizer, AutoModelForSequenceClassification\n",
        "\n",
        "# model_name = \"dkleczek/bert-base-polish-uncased-v1\"\n",
        "model_name = \"allegro/herbert-large-cased\"\n",
        "# model_name=\"deepsense-ai/trelbert\"\n",
        "tokenizer = AutoTokenizer.from_pretrained(model_name)\n",
        "model = AutoModelForSequenceClassification.from_pretrained(\n",
        "    model_name,\n",
        "    num_labels=2\n",
        ")"
      ]
    },
    {
      "cell_type": "code",
      "execution_count": 7,
      "id": "6056fb62",
      "metadata": {},
      "outputs": [],
      "source": [
        "# special_tokens_dict = {\n",
        "#     \"additional_special_tokens\": [\"[USER]\", \"[URL]\"]\n",
        "# }\n",
        "\n",
        "# tokenizer.add_special_tokens(special_tokens_dict)\n",
        "# model.resize_token_embeddings(len(tokenizer))"
      ]
    },
    {
      "cell_type": "markdown",
      "id": "ef520a9b",
      "metadata": {},
      "source": [
        "Tokenize the datasets"
      ]
    },
    {
      "cell_type": "code",
      "execution_count": 8,
      "id": "420bf6d6",
      "metadata": {},
      "outputs": [
        {
          "data": {
            "application/vnd.jupyter.widget-view+json": {
              "model_id": "6893c595b5ff412c862d085b07e5fb0f",
              "version_major": 2,
              "version_minor": 0
            },
            "text/plain": [
              "Map:   0%|          | 0/8032 [00:00<?, ? examples/s]"
            ]
          },
          "metadata": {},
          "output_type": "display_data"
        },
        {
          "data": {
            "application/vnd.jupyter.widget-view+json": {
              "model_id": "0c977ee950d3402aa1f60f92e57e8026",
              "version_major": 2,
              "version_minor": 0
            },
            "text/plain": [
              "Map:   0%|          | 0/2009 [00:00<?, ? examples/s]"
            ]
          },
          "metadata": {},
          "output_type": "display_data"
        }
      ],
      "source": [
        "from transformers.data.data_collator import DataCollatorWithPadding\n",
        "\n",
        "def tokenize_fn(row):\n",
        "    return tokenizer(row['sentence'], truncation=True, max_length=128)\n",
        "\n",
        "\n",
        "tokenized_train_ds = train_ds.map(tokenize_fn, batched=True)\n",
        "tokenized_eval_ds = eval_ds.map(tokenize_fn, batched=True)\n",
        "\n",
        "data_collator = DataCollatorWithPadding(tokenizer)"
      ]
    },
    {
      "cell_type": "markdown",
      "id": "ca18c422",
      "metadata": {},
      "source": [
        "Perform the training"
      ]
    },
    {
      "cell_type": "code",
      "execution_count": null,
      "id": "4009eb7e",
      "metadata": {},
      "outputs": [
        {
          "data": {
            "text/html": [
              "\n",
              "    <div>\n",
              "      \n",
              "      <progress value='528' max='630' style='width:300px; height:20px; vertical-align: middle;'></progress>\n",
              "      [528/630 04:38 < 00:54, 1.89 it/s, Epoch 4.18/5]\n",
              "    </div>\n",
              "    <table border=\"1\" class=\"dataframe\">\n",
              "  <thead>\n",
              " <tr style=\"text-align: left;\">\n",
              "      <th>Step</th>\n",
              "      <th>Training Loss</th>\n",
              "      <th>Validation Loss</th>\n",
              "      <th>Accuracy</th>\n",
              "      <th>Acc 0</th>\n",
              "      <th>Acc 1</th>\n",
              "      <th>Avg Acc</th>\n",
              "    </tr>\n",
              "  </thead>\n",
              "  <tbody>\n",
              "    <tr>\n",
              "      <td>50</td>\n",
              "      <td>0.632800</td>\n",
              "      <td>0.495032</td>\n",
              "      <td>0.915381</td>\n",
              "      <td>1.000000</td>\n",
              "      <td>0.000000</td>\n",
              "      <td>0.500000</td>\n",
              "    </tr>\n",
              "    <tr>\n",
              "      <td>100</td>\n",
              "      <td>0.456100</td>\n",
              "      <td>0.391562</td>\n",
              "      <td>0.927327</td>\n",
              "      <td>0.986406</td>\n",
              "      <td>0.288235</td>\n",
              "      <td>0.637320</td>\n",
              "    </tr>\n",
              "    <tr>\n",
              "      <td>150</td>\n",
              "      <td>0.374100</td>\n",
              "      <td>0.385690</td>\n",
              "      <td>0.924340</td>\n",
              "      <td>0.964111</td>\n",
              "      <td>0.494118</td>\n",
              "      <td>0.729114</td>\n",
              "    </tr>\n",
              "    <tr>\n",
              "      <td>200</td>\n",
              "      <td>0.363700</td>\n",
              "      <td>0.363920</td>\n",
              "      <td>0.908910</td>\n",
              "      <td>0.933660</td>\n",
              "      <td>0.641176</td>\n",
              "      <td>0.787418</td>\n",
              "    </tr>\n",
              "    <tr>\n",
              "      <td>250</td>\n",
              "      <td>0.351600</td>\n",
              "      <td>0.361332</td>\n",
              "      <td>0.928820</td>\n",
              "      <td>0.966830</td>\n",
              "      <td>0.517647</td>\n",
              "      <td>0.742238</td>\n",
              "    </tr>\n",
              "    <tr>\n",
              "      <td>300</td>\n",
              "      <td>0.303900</td>\n",
              "      <td>0.377715</td>\n",
              "      <td>0.929816</td>\n",
              "      <td>0.961392</td>\n",
              "      <td>0.588235</td>\n",
              "      <td>0.774814</td>\n",
              "    </tr>\n",
              "    <tr>\n",
              "      <td>350</td>\n",
              "      <td>0.292000</td>\n",
              "      <td>0.400018</td>\n",
              "      <td>0.910403</td>\n",
              "      <td>0.929309</td>\n",
              "      <td>0.705882</td>\n",
              "      <td>0.817596</td>\n",
              "    </tr>\n",
              "    <tr>\n",
              "      <td>400</td>\n",
              "      <td>0.274200</td>\n",
              "      <td>0.411959</td>\n",
              "      <td>0.925336</td>\n",
              "      <td>0.954867</td>\n",
              "      <td>0.605882</td>\n",
              "      <td>0.780375</td>\n",
              "    </tr>\n",
              "    <tr>\n",
              "      <td>450</td>\n",
              "      <td>0.252300</td>\n",
              "      <td>0.418278</td>\n",
              "      <td>0.919363</td>\n",
              "      <td>0.941816</td>\n",
              "      <td>0.676471</td>\n",
              "      <td>0.809143</td>\n",
              "    </tr>\n",
              "    <tr>\n",
              "      <td>500</td>\n",
              "      <td>0.260100</td>\n",
              "      <td>0.409480</td>\n",
              "      <td>0.929318</td>\n",
              "      <td>0.963567</td>\n",
              "      <td>0.558824</td>\n",
              "      <td>0.761195</td>\n",
              "    </tr>\n",
              "  </tbody>\n",
              "</table><p>\n",
              "    <div>\n",
              "      \n",
              "      <progress value='16' max='16' style='width:300px; height:20px; vertical-align: middle;'></progress>\n",
              "      [16/16 00:01]\n",
              "    </div>\n",
              "    "
            ],
            "text/plain": [
              "<IPython.core.display.HTML object>"
            ]
          },
          "metadata": {},
          "output_type": "display_data"
        },
        {
          "ename": "KeyboardInterrupt",
          "evalue": "",
          "output_type": "error",
          "traceback": [
            "\u001b[0;31m---------------------------------------------------------------------------\u001b[0m",
            "\u001b[0;31mKeyboardInterrupt\u001b[0m                         Traceback (most recent call last)",
            "Cell \u001b[0;32mIn[9], line 88\u001b[0m\n\u001b[1;32m     61\u001b[0m training_args \u001b[38;5;241m=\u001b[39m TrainingArguments(\n\u001b[1;32m     62\u001b[0m     output_dir\u001b[38;5;241m=\u001b[39m\u001b[38;5;124m\"\u001b[39m\u001b[38;5;124m./results\u001b[39m\u001b[38;5;124m\"\u001b[39m,\n\u001b[1;32m     63\u001b[0m     eval_strategy\u001b[38;5;241m=\u001b[39m\u001b[38;5;124m\"\u001b[39m\u001b[38;5;124msteps\u001b[39m\u001b[38;5;124m\"\u001b[39m,\n\u001b[0;32m   (...)\u001b[0m\n\u001b[1;32m     74\u001b[0m     metric_for_best_model\u001b[38;5;241m=\u001b[39m\u001b[38;5;124m\"\u001b[39m\u001b[38;5;124maccuracy\u001b[39m\u001b[38;5;124m\"\u001b[39m\n\u001b[1;32m     75\u001b[0m )\n\u001b[1;32m     77\u001b[0m trainer \u001b[38;5;241m=\u001b[39m Trainer(\n\u001b[1;32m     78\u001b[0m     model\u001b[38;5;241m=\u001b[39mmodel,\n\u001b[1;32m     79\u001b[0m     args\u001b[38;5;241m=\u001b[39mtraining_args,\n\u001b[0;32m   (...)\u001b[0m\n\u001b[1;32m     85\u001b[0m     compute_metrics\u001b[38;5;241m=\u001b[39mcompute_metrics\n\u001b[1;32m     86\u001b[0m )\n\u001b[0;32m---> 88\u001b[0m \u001b[43mtrainer\u001b[49m\u001b[38;5;241;43m.\u001b[39;49m\u001b[43mtrain\u001b[49m\u001b[43m(\u001b[49m\u001b[43m)\u001b[49m\n",
            "File \u001b[0;32m~/ssne/.venv/lib/python3.10/site-packages/transformers/trainer.py:2240\u001b[0m, in \u001b[0;36mTrainer.train\u001b[0;34m(self, resume_from_checkpoint, trial, ignore_keys_for_eval, **kwargs)\u001b[0m\n\u001b[1;32m   2238\u001b[0m         hf_hub_utils\u001b[38;5;241m.\u001b[39menable_progress_bars()\n\u001b[1;32m   2239\u001b[0m \u001b[38;5;28;01melse\u001b[39;00m:\n\u001b[0;32m-> 2240\u001b[0m     \u001b[38;5;28;01mreturn\u001b[39;00m \u001b[43minner_training_loop\u001b[49m\u001b[43m(\u001b[49m\n\u001b[1;32m   2241\u001b[0m \u001b[43m        \u001b[49m\u001b[43margs\u001b[49m\u001b[38;5;241;43m=\u001b[39;49m\u001b[43margs\u001b[49m\u001b[43m,\u001b[49m\n\u001b[1;32m   2242\u001b[0m \u001b[43m        \u001b[49m\u001b[43mresume_from_checkpoint\u001b[49m\u001b[38;5;241;43m=\u001b[39;49m\u001b[43mresume_from_checkpoint\u001b[49m\u001b[43m,\u001b[49m\n\u001b[1;32m   2243\u001b[0m \u001b[43m        \u001b[49m\u001b[43mtrial\u001b[49m\u001b[38;5;241;43m=\u001b[39;49m\u001b[43mtrial\u001b[49m\u001b[43m,\u001b[49m\n\u001b[1;32m   2244\u001b[0m \u001b[43m        \u001b[49m\u001b[43mignore_keys_for_eval\u001b[49m\u001b[38;5;241;43m=\u001b[39;49m\u001b[43mignore_keys_for_eval\u001b[49m\u001b[43m,\u001b[49m\n\u001b[1;32m   2245\u001b[0m \u001b[43m    \u001b[49m\u001b[43m)\u001b[49m\n",
            "File \u001b[0;32m~/ssne/.venv/lib/python3.10/site-packages/transformers/trainer.py:2560\u001b[0m, in \u001b[0;36mTrainer._inner_training_loop\u001b[0;34m(self, batch_size, args, resume_from_checkpoint, trial, ignore_keys_for_eval)\u001b[0m\n\u001b[1;32m   2554\u001b[0m \u001b[38;5;28;01mwith\u001b[39;00m context():\n\u001b[1;32m   2555\u001b[0m     tr_loss_step \u001b[38;5;241m=\u001b[39m \u001b[38;5;28mself\u001b[39m\u001b[38;5;241m.\u001b[39mtraining_step(model, inputs, num_items_in_batch)\n\u001b[1;32m   2557\u001b[0m \u001b[38;5;28;01mif\u001b[39;00m (\n\u001b[1;32m   2558\u001b[0m     args\u001b[38;5;241m.\u001b[39mlogging_nan_inf_filter\n\u001b[1;32m   2559\u001b[0m     \u001b[38;5;129;01mand\u001b[39;00m \u001b[38;5;129;01mnot\u001b[39;00m is_torch_xla_available()\n\u001b[0;32m-> 2560\u001b[0m     \u001b[38;5;129;01mand\u001b[39;00m (torch\u001b[38;5;241m.\u001b[39misnan(tr_loss_step) \u001b[38;5;129;01mor\u001b[39;00m \u001b[43mtorch\u001b[49m\u001b[38;5;241;43m.\u001b[39;49m\u001b[43misinf\u001b[49m\u001b[43m(\u001b[49m\u001b[43mtr_loss_step\u001b[49m\u001b[43m)\u001b[49m)\n\u001b[1;32m   2561\u001b[0m ):\n\u001b[1;32m   2562\u001b[0m     \u001b[38;5;66;03m# if loss is nan or inf simply add the average of previous logged losses\u001b[39;00m\n\u001b[1;32m   2563\u001b[0m     tr_loss \u001b[38;5;241m=\u001b[39m tr_loss \u001b[38;5;241m+\u001b[39m tr_loss \u001b[38;5;241m/\u001b[39m (\u001b[38;5;241m1\u001b[39m \u001b[38;5;241m+\u001b[39m \u001b[38;5;28mself\u001b[39m\u001b[38;5;241m.\u001b[39mstate\u001b[38;5;241m.\u001b[39mglobal_step \u001b[38;5;241m-\u001b[39m \u001b[38;5;28mself\u001b[39m\u001b[38;5;241m.\u001b[39m_globalstep_last_logged)\n\u001b[1;32m   2564\u001b[0m \u001b[38;5;28;01melse\u001b[39;00m:\n",
            "\u001b[0;31mKeyboardInterrupt\u001b[0m: "
          ]
        }
      ],
      "source": [
        "import numpy as np\n",
        "from evaluate import load\n",
        "from sklearn.utils import compute_class_weight\n",
        "import torch\n",
        "import torch.nn.functional as F\n",
        "from transformers.training_args import TrainingArguments\n",
        "from transformers.trainer import Trainer\n",
        "\n",
        "\n",
        "accuracy_metric = load(\"accuracy\")\n",
        "\n",
        "def compute_metrics(eval_pred):\n",
        "    logits, labels = eval_pred\n",
        "    preds = np.argmax(logits, axis=-1)\n",
        "    acc = accuracy_metric.compute(predictions=preds, references=labels)\n",
        "\n",
        "    acc0 = (preds[labels == 0] == 0).mean() if np.any(labels == 0) else float('nan')\n",
        "    acc1 = (preds[labels == 1] == 1).mean() if np.any(labels == 1) else float('nan')\n",
        "\n",
        "    acc[\"acc_0\"] = acc0\n",
        "    acc[\"acc_1\"] = acc1\n",
        "    acc[\"avg_acc\"] = (acc0 + acc1) / 2\n",
        "\n",
        "    return acc\n",
        "\n",
        "\n",
        "labels = np.array(tokenized_train_ds[\"label\"])\n",
        "weights = compute_class_weight(\"balanced\", classes=np.unique(labels), y=labels)\n",
        "class_weights = torch.tensor(weights, dtype=torch.float)\n",
        "\n",
        "\n",
        "def custom_loss_fn(raw_outputs, labels, num_items_in_batch=None):\n",
        "    logits = raw_outputs.logits if hasattr(raw_outputs, \"logits\") else raw_outputs\n",
        "    cw = class_weights.to(logits.device)\n",
        "    cw = torch.tensor([0.5, 1.0]).to(logits.device)\n",
        "    loss_fct = torch.nn.CrossEntropyLoss(weight=cw, label_smoothing=0.05)\n",
        "    loss = loss_fct(logits.view(-1, logits.size(-1)), labels.view(-1))\n",
        "    return loss\n",
        "\n",
        "batch_size = 64\n",
        "\n",
        "training_args = TrainingArguments(\n",
        "    output_dir=\"./results\",\n",
        "    eval_strategy=\"steps\",\n",
        "    warmup_steps=200,\n",
        "    learning_rate=1e-5,\n",
        "    per_device_train_batch_size=batch_size,\n",
        "    per_device_eval_batch_size=batch_size,\n",
        "    num_train_epochs=5,\n",
        "    max_grad_norm=1.0,\n",
        "    weight_decay=0.01,\n",
        "    logging_steps=50,\n",
        "    eval_steps=50,\n",
        "    load_best_model_at_end=True,\n",
        "    metric_for_best_model=\"accuracy\"\n",
        ")\n",
        "\n",
        "trainer = Trainer(\n",
        "    model=model,\n",
        "    args=training_args,\n",
        "    train_dataset=tokenized_train_ds,\n",
        "    eval_dataset=tokenized_eval_ds,\n",
        "    processing_class=tokenizer,\n",
        "    data_collator=data_collator,\n",
        "    compute_loss_func=custom_loss_fn,\n",
        "    compute_metrics=compute_metrics\n",
        ")\n",
        "\n",
        "trainer.train()"
      ]
    },
    {
      "cell_type": "markdown",
      "id": "1f1606bb",
      "metadata": {},
      "source": [
        "Train the model"
      ]
    },
    {
      "cell_type": "markdown",
      "id": "b82c1d78",
      "metadata": {},
      "source": [
        "## Evaluate"
      ]
    },
    {
      "cell_type": "code",
      "execution_count": 10,
      "id": "c825122a",
      "metadata": {},
      "outputs": [],
      "source": [
        "import numpy as np\n",
        "\n",
        "pred_output = trainer.predict(tokenized_eval_ds)\n",
        "\n",
        "logits = pred_output.predictions\n",
        "y_pred = np.argmax(logits, axis=-1)\n",
        "y_true = pred_output.label_ids"
      ]
    },
    {
      "cell_type": "markdown",
      "id": "84d4c7f6",
      "metadata": {},
      "source": [
        "Print the classification report"
      ]
    },
    {
      "cell_type": "code",
      "execution_count": 11,
      "id": "092cf53b",
      "metadata": {},
      "outputs": [
        {
          "name": "stdout",
          "output_type": "stream",
          "text": [
            "              precision    recall  f1-score   support\n",
            "\n",
            "    non-hate     0.9594    0.9630    0.9612      1839\n",
            "        hate     0.5828    0.5588    0.5706       170\n",
            "\n",
            "    accuracy                         0.9288      2009\n",
            "   macro avg     0.7711    0.7609    0.7659      2009\n",
            "weighted avg     0.9275    0.9288    0.9281      2009\n",
            "\n"
          ]
        }
      ],
      "source": [
        "from sklearn.metrics import classification_report\n",
        "\n",
        "cr = classification_report(y_true, y_pred, target_names=[\"non-hate\",\"hate\"], digits=4)\n",
        "print(cr)"
      ]
    },
    {
      "cell_type": "markdown",
      "id": "802556a9",
      "metadata": {},
      "source": [
        "Plot the confusion matrix"
      ]
    },
    {
      "cell_type": "code",
      "execution_count": 12,
      "id": "e8988d1f",
      "metadata": {},
      "outputs": [
        {
          "data": {
            "image/png": "[encoded data removed]",
            "text/plain": [
              "<Figure size 640x480 with 2 Axes>"
            ]
          },
          "metadata": {},
          "output_type": "display_data"
        }
      ],
      "source": [
        "import matplotlib.pyplot as plt\n",
        "from sklearn.metrics import confusion_matrix, ConfusionMatrixDisplay\n",
        "\n",
        "cm = confusion_matrix(y_true, y_pred)\n",
        "\n",
        "fig, ax = plt.subplots()\n",
        "disp = ConfusionMatrixDisplay(confusion_matrix=cm, display_labels=[\"non-hate\", \"hate\"])\n",
        "disp.plot(ax=ax, cmap=plt.cm.Blues)\n",
        "ax.set_title(\"Confusion Matrix\")\n",
        "plt.show()"
      ]
    },
    {
      "cell_type": "markdown",
      "id": "3b078998",
      "metadata": {},
      "source": [
        "Acc per threshold"
      ]
    },
    {
      "cell_type": "code",
      "execution_count": 13,
      "id": "bc570614",
      "metadata": {},
      "outputs": [
        {
          "data": {
            "image/png": "[encoded data removed]",
            "text/plain": [
              "<Figure size 640x480 with 1 Axes>"
            ]
          },
          "metadata": {},
          "output_type": "display_data"
        },
        {
          "name": "stdout",
          "output_type": "stream",
          "text": [
            "Najlepszy próg decyzyjny: 0.93\n",
            "Najlepsza dokładność ogólna: 0.9362867098058736\n"
          ]
        }
      ],
      "source": [
        "logits_stable = logits - np.max(logits, axis=1, keepdims=True)\n",
        "exp_logits = np.exp(logits_stable)\n",
        "probs = exp_logits[:, 1] / exp_logits.sum(axis=1)\n",
        " \n",
        "thresholds = np.linspace(0, 1, 101)\n",
        "acc0_list = []\n",
        "acc1_list = []\n",
        "acc_overall = []\n",
        "\n",
        "for thr in thresholds:\n",
        "    preds_thr = (probs > thr).astype(int)\n",
        "\n",
        "    mask0 = (y_true == 0)\n",
        "    mask1 = (y_true == 1)\n",
        "\n",
        "    acc0_list.append((preds_thr[mask0] == 0).mean())\n",
        "    acc1_list.append((preds_thr[mask1] == 1).mean())\n",
        "    acc_overall.append((preds_thr == y_true).mean())\n",
        "\n",
        "plt.plot(thresholds, acc0_list,   label=\"Acc klasy 0 (non-hate)\")\n",
        "plt.plot(thresholds, acc1_list,   label=\"Acc klasy 1 (hate)\")\n",
        "plt.plot(thresholds, acc_overall, label=\"Accuracy ogólna\")\n",
        "\n",
        "plt.xlabel(\"Próg decyzyjny\")\n",
        "plt.ylabel(\"Accuracy\")\n",
        "plt.title(\"Accuracy vs. Threshold dla każdej klasy i ogólna\")\n",
        "plt.legend()\n",
        "plt.grid(True)\n",
        "plt.show()\n",
        "\n",
        "print(\"Najlepszy próg decyzyjny:\", thresholds[np.argmax(acc_overall)])\n",
        "print(\"Najlepsza dokładność ogólna:\", max(acc_overall))"
      ]
    },
    {
      "cell_type": "markdown",
      "id": "90082348",
      "metadata": {},
      "source": [
        "Print examples of misclassified samples"
      ]
    },
    {
      "cell_type": "code",
      "execution_count": 14,
      "id": "13883096",
      "metadata": {},
      "outputs": [
        {
          "name": "stdout",
          "output_type": "stream",
          "text": [
            "Example 1\n",
            "Text:       Jarkacz boi się o odbyt, nie chce iść do ciupy, zrobi wszystko, nasi rodacy jednak to kupią\n",
            "Predicted:  1\n",
            "True:       0\n",
            "------------------------------------------------------------\n",
            "Example 2\n",
            "Text:       RT @anonymized_account @anonymized_account w politykę to sie bawi Pierwsza Prezes SN....nie zauważyła Pani????\n",
            "Predicted:  0\n",
            "True:       1\n",
            "------------------------------------------------------------\n",
            "Example 3\n",
            "Text:       Żolnierz żolnierza w dupę nawet tego wyklętego, ja jebię, chory kraj\n",
            "Predicted:  0\n",
            "True:       1\n",
            "------------------------------------------------------------\n",
            "Example 4\n",
            "Text:       @anonymized_account @anonymized_account lepiej napisać że dostali wpierdol.A nie, bo ludzie którzy dostali po ryju by się mogli głupio poczuć.\n",
            "Predicted:  0\n",
            "True:       1\n",
            "------------------------------------------------------------\n",
            "Example 5\n",
            "Text:       @anonymized_account co ty ćpasz chłopie ?\n",
            "Predicted:  1\n",
            "True:       0\n",
            "------------------------------------------------------------\n",
            "Example 6\n",
            "Text:       @anonymized_account @anonymized_account @anonymized_account @anonymized_account Przecież do debil o skończony tuman. Szkoda czasu na komentowanie jego bredni.\n",
            "Predicted:  1\n",
            "True:       0\n",
            "------------------------------------------------------------\n",
            "Example 7\n",
            "Text:       @anonymized_account Musi być pierwszy w okopie, nie straszne mu bombardowania, zuch\n",
            "Predicted:  0\n",
            "True:       1\n",
            "------------------------------------------------------------\n",
            "Example 8\n",
            "Text:       @anonymized_account Mistrz od wkurwiania się odezwał, bot roku 2015, 2016, 2917,2018,2019 ....\n",
            "Predicted:  0\n",
            "True:       1\n",
            "------------------------------------------------------------\n",
            "Example 9\n",
            "Text:       @anonymized_account @anonymized_account @anonymized_account Ktoś go urządził pod siebie, nie pod Panią.\n",
            "Predicted:  1\n",
            "True:       0\n",
            "------------------------------------------------------------\n",
            "Example 10\n",
            "Text:       @anonymized_account @anonymized_account A w mieście Łodzi ciemnogród. Ciemnota że ręce opadają.Jak długo jeszcze??\n",
            "Predicted:  0\n",
            "True:       1\n",
            "------------------------------------------------------------\n"
          ]
        }
      ],
      "source": [
        "count = 0\n",
        "texts = eval_df['sentence'].tolist()\n",
        "\n",
        "for text, true, pred in zip(texts, y_true, y_pred):\n",
        "    if true != pred:\n",
        "        count += 1\n",
        "        print(f\"Example {count}\")\n",
        "        print(\"Text:      \", text)\n",
        "        print(\"Predicted: \", pred)\n",
        "        print(\"True:      \", true)\n",
        "        print(\"-\" * 60)\n",
        "        if count >= 10:\n",
        "            break"
      ]
    },
    {
      "cell_type": "markdown",
      "id": "3140f2a3",
      "metadata": {},
      "source": [
        "## Save the results"
      ]
    },
    {
      "cell_type": "code",
      "execution_count": 22,
      "id": "99b12412",
      "metadata": {},
      "outputs": [
        {
          "data": {
            "text/html": [
              "<div>\n",
              "<style scoped>\n",
              "    .dataframe tbody tr th:only-of-type {\n",
              "        vertical-align: middle;\n",
              "    }\n",
              "\n",
              "    .dataframe tbody tr th {\n",
              "        vertical-align: top;\n",
              "    }\n",
              "\n",
              "    .dataframe thead th {\n",
              "        text-align: right;\n",
              "    }\n",
              "</style>\n",
              "<table border=\"1\" class=\"dataframe\">\n",
              "  <thead>\n",
              "    <tr style=\"text-align: right;\">\n",
              "      <th></th>\n",
              "      <th>sentence</th>\n",
              "    </tr>\n",
              "  </thead>\n",
              "  <tbody>\n",
              "    <tr>\n",
              "      <th>0</th>\n",
              "      <td>@anonymized_account Spoko, jak im Duda z Moraw...</td>\n",
              "    </tr>\n",
              "    <tr>\n",
              "      <th>1</th>\n",
              "      <td>@anonymized_account @anonymized_account Ale on...</td>\n",
              "    </tr>\n",
              "    <tr>\n",
              "      <th>2</th>\n",
              "      <td>@anonymized_account No czy Prezes nie miał rac...</td>\n",
              "    </tr>\n",
              "    <tr>\n",
              "      <th>3</th>\n",
              "      <td>@anonymized_account @anonymized_account Przeci...</td>\n",
              "    </tr>\n",
              "    <tr>\n",
              "      <th>4</th>\n",
              "      <td>@anonymized_account @anonymized_account Owszem...</td>\n",
              "    </tr>\n",
              "  </tbody>\n",
              "</table>\n",
              "</div>"
            ],
            "text/plain": [
              "                                            sentence\n",
              "0  @anonymized_account Spoko, jak im Duda z Moraw...\n",
              "1  @anonymized_account @anonymized_account Ale on...\n",
              "2  @anonymized_account No czy Prezes nie miał rac...\n",
              "3  @anonymized_account @anonymized_account Przeci...\n",
              "4  @anonymized_account @anonymized_account Owszem..."
            ]
          },
          "execution_count": 22,
          "metadata": {},
          "output_type": "execute_result"
        }
      ],
      "source": [
        "test_path = 'data/hate_test_data.txt'\n",
        "\n",
        "with open(test_path, encoding='utf-8') as f:\n",
        "    lines = [line.strip() for line in f if line.strip()]\n",
        "\n",
        "test_df = pd.DataFrame(lines, columns=['sentence'])\n",
        "test_df.head()"
      ]
    },
    {
      "cell_type": "code",
      "execution_count": 23,
      "id": "00f98872",
      "metadata": {},
      "outputs": [
        {
          "data": {
            "application/vnd.jupyter.widget-view+json": {
              "model_id": "af26c035a2b14dd1a8cdac43e6e2e197",
              "version_major": 2,
              "version_minor": 0
            },
            "text/plain": [
              "Map:   0%|          | 0/1000 [00:00<?, ? examples/s]"
            ]
          },
          "metadata": {},
          "output_type": "display_data"
        }
      ],
      "source": [
        "tokenized_test_ds = Dataset.from_pandas(test_df).map(tokenize_fn, batched=False)"
      ]
    },
    {
      "cell_type": "code",
      "execution_count": 27,
      "id": "02e1d8af",
      "metadata": {},
      "outputs": [],
      "source": [
        "import numpy as np\n",
        "import torch\n",
        "from sklearn.metrics import accuracy_score, classification_report\n",
        "\n",
        "pred_output = trainer.predict(tokenized_test_ds)\n",
        "logits      = pred_output.predictions\n",
        "y_true      = pred_output.label_ids\n",
        "\n",
        "logits_stable = logits - logits.max(axis=1, keepdims=True)\n",
        "exp_logits   = np.exp(logits_stable)\n",
        "probs        = exp_logits[:,1] / exp_logits.sum(axis=1)\n",
        "\n",
        "thr = 0.93\n",
        "\n",
        "y_pred_thr = (probs > thr).astype(int)\n",
        "\n",
        "output_dir = \"pred.csv\"\n",
        "\n",
        "output_df = pd.DataFrame({\"predicted\": y_pred_thr})\n",
        "output_df.to_csv(output_dir, index=False, header=False)"
      ]
    }
  ],
  "metadata": {
    "kernelspec": {
      "display_name": ".venv",
      "language": "python",
      "name": "python3"
    },
    "language_info": {
      "codemirror_mode": {
        "name": "ipython",
        "version": 3
      },
      "file_extension": ".py",
      "mimetype": "text/x-python",
      "name": "python",
      "nbconvert_exporter": "python",
      "pygments_lexer": "ipython3",
      "version": "3.10.12"
    }
  },
  "nbformat": 4,
  "nbformat_minor": 5
}
