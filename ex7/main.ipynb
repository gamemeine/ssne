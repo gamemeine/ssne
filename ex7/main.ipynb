{
  "cells": [
    {
      "cell_type": "markdown",
      "id": "cb7f9cc1",
      "metadata": {},
      "source": [
        "# Hate Speech Detection\n",
        "\n",
        "Grzegorz Statkiewicz, Matuesz Matukiewicz"
      ]
    },
    {
      "cell_type": "markdown",
      "id": "df6dc017",
      "metadata": {},
      "source": [
        "## Note\n",
        "\n",
        "We used VM with NVIDIA H-100 GPU, with around 80 GB of RAM, thus the parameters are set to high values, which may not be suitable for your machine."
      ]
    },
    {
      "cell_type": "markdown",
      "id": "cd2a2bd2",
      "metadata": {},
      "source": [
        "## Setup"
      ]
    },
    {
      "cell_type": "code",
      "execution_count": 1,
      "id": "5a19d5b4",
      "metadata": {},
      "outputs": [
        {
          "name": "stdout",
          "output_type": "stream",
          "text": [
            "Wed Jun 11 18:13:49 2025       \n",
            "+-----------------------------------------------------------------------------------------+\n",
            "| NVIDIA-SMI 570.124.06             Driver Version: 570.124.06     CUDA Version: 12.8     |\n",
            "|-----------------------------------------+------------------------+----------------------+\n",
            "| GPU  Name                 Persistence-M | Bus-Id          Disp.A | Volatile Uncorr. ECC |\n",
            "| Fan  Temp   Perf          Pwr:Usage/Cap |           Memory-Usage | GPU-Util  Compute M. |\n",
            "|                                         |                        |               MIG M. |\n",
            "|=========================================+========================+======================|\n",
            "|   0  NVIDIA H100 PCIe               On  |   00000000:06:00.0 Off |                    0 |\n",
            "| N/A   53C    P0             59W /  350W |       1MiB /  81559MiB |      0%      Default |\n",
            "|                                         |                        |             Disabled |\n",
            "+-----------------------------------------+------------------------+----------------------+\n",
            "                                                                                         \n",
            "+-----------------------------------------------------------------------------------------+\n",
            "| Processes:                                                                              |\n",
            "|  GPU   GI   CI              PID   Type   Process name                        GPU Memory |\n",
            "|        ID   ID                                                               Usage      |\n",
            "|=========================================================================================|\n",
            "|  No running processes found                                                             |\n",
            "+-----------------------------------------------------------------------------------------+\n"
          ]
        }
      ],
      "source": [
        "!nvidia-smi"
      ]
    },
    {
      "cell_type": "code",
      "execution_count": 2,
      "metadata": {},
      "outputs": [],
      "source": [
        "import torch\n",
        "import bitsandbytes as bnb\n",
        "from datasets import load_dataset\n",
        "from transformers import AutoTokenizer, AutoModelForCausalLM, BitsAndBytesConfig, TrainingArguments\n",
        "from peft import LoraConfig\n",
        "from trl import SFTTrainer"
      ]
    },
    {
      "cell_type": "markdown",
      "id": "4cd9e45e",
      "metadata": {},
      "source": [
        "## Prepare the dataset"
      ]
    },
    {
      "cell_type": "code",
      "execution_count": 3,
      "id": "b0b19364",
      "metadata": {},
      "outputs": [
        {
          "data": {
            "text/html": [
              "<div>\n",
              "<style scoped>\n",
              "    .dataframe tbody tr th:only-of-type {\n",
              "        vertical-align: middle;\n",
              "    }\n",
              "\n",
              "    .dataframe tbody tr th {\n",
              "        vertical-align: top;\n",
              "    }\n",
              "\n",
              "    .dataframe thead th {\n",
              "        text-align: right;\n",
              "    }\n",
              "</style>\n",
              "<table border=\"1\" class=\"dataframe\">\n",
              "  <thead>\n",
              "    <tr style=\"text-align: right;\">\n",
              "      <th></th>\n",
              "      <th>sentence</th>\n",
              "      <th>label</th>\n",
              "    </tr>\n",
              "  </thead>\n",
              "  <tbody>\n",
              "    <tr>\n",
              "      <th>0</th>\n",
              "      <td>Dla mnie faworytem do tytułu będzie Cracovia. ...</td>\n",
              "      <td>0</td>\n",
              "    </tr>\n",
              "    <tr>\n",
              "      <th>1</th>\n",
              "      <td>@anonymized_account @anonymized_account Brawo ...</td>\n",
              "      <td>0</td>\n",
              "    </tr>\n",
              "    <tr>\n",
              "      <th>2</th>\n",
              "      <td>@anonymized_account @anonymized_account Super,...</td>\n",
              "      <td>0</td>\n",
              "    </tr>\n",
              "    <tr>\n",
              "      <th>3</th>\n",
              "      <td>@anonymized_account @anonymized_account Musi. ...</td>\n",
              "      <td>0</td>\n",
              "    </tr>\n",
              "    <tr>\n",
              "      <th>4</th>\n",
              "      <td>Odrzut natychmiastowy, kwaśna mina, mam problem</td>\n",
              "      <td>0</td>\n",
              "    </tr>\n",
              "  </tbody>\n",
              "</table>\n",
              "</div>"
            ],
            "text/plain": [
              "                                            sentence  label\n",
              "0  Dla mnie faworytem do tytułu będzie Cracovia. ...      0\n",
              "1  @anonymized_account @anonymized_account Brawo ...      0\n",
              "2  @anonymized_account @anonymized_account Super,...      0\n",
              "3  @anonymized_account @anonymized_account Musi. ...      0\n",
              "4    Odrzut natychmiastowy, kwaśna mina, mam problem      0"
            ]
          },
          "execution_count": 3,
          "metadata": {},
          "output_type": "execute_result"
        }
      ],
      "source": [
        "import pandas as pd\n",
        "\n",
        "train_path = 'data/hate_train.csv'\n",
        "\n",
        "base_df = pd.read_csv(train_path)\n",
        "base_df.head()"
      ]
    },
    {
      "cell_type": "markdown",
      "id": "928a934e",
      "metadata": {},
      "source": [
        "## BIELIK with fine-tuning"
      ]
    },
    {
      "cell_type": "markdown",
      "id": "c38cf67a",
      "metadata": {},
      "source": [
        "Prepare prompt function"
      ]
    },
    {
      "cell_type": "code",
      "execution_count": 4,
      "id": "dcc26c41",
      "metadata": {},
      "outputs": [],
      "source": [
        "def make_prompt(text: str, label: int | None = None) -> int:\n",
        "    prompt = f\"\"\"Jesteś modelem klasyfikującym pojedyncze polskie tweety. Zwróć cyfrę:\n",
        "- 1, jeśli tekst zawiera bezpośrednie obelgi, dehumanizację lub mowę nienawiści (skierowaną do osób/grup; np. „jesteś idiotą”, „wszyscy oni to śmiecie”),\n",
        "- 0, jeśli tekst jest neutralny, pytający, polityczny, przenośny lub opisuje zjawiska/obiekty bez ataku na człowieka.\n",
        "\n",
        "Przykłady:\n",
        "Tekst: \"poseł Halicki oburzony za Bolka. Naprawdę taki tępy czy tylko udaje idiotę?\"\n",
        "Etykieta: 1\n",
        "\n",
        "Tekst: \"RT @anonymized_account Halicki: proszę nie mówić, że marnymi 15 mld można przykryć kilka milionów...😂😂😂\"\n",
        "Etykieta: 0\n",
        "\n",
        "Tekst: \"Chyba musimy się już do grobu pakować roczniku 98 😂👌🏻\"\n",
        "Etykieta: 0\n",
        "\n",
        "Twoja kolej:\n",
        "Tekst: \"{text}\"\n",
        "Etykieta: \"\"\" + (str(label) if label is not None else \"\")\n",
        "\n",
        "    return prompt.strip()"
      ]
    },
    {
      "cell_type": "markdown",
      "id": "9c0b7dd8",
      "metadata": {},
      "source": [
        "Prepare datasets"
      ]
    },
    {
      "cell_type": "code",
      "execution_count": 5,
      "metadata": {},
      "outputs": [
        {
          "data": {
            "application/vnd.jupyter.widget-view+json": {
              "model_id": "7da1ec16a1b948088f4ee366ca0399f6",
              "version_major": 2,
              "version_minor": 0
            },
            "text/plain": [
              "Map:   0%|          | 0/8032 [00:00<?, ? examples/s]"
            ]
          },
          "metadata": {},
          "output_type": "display_data"
        },
        {
          "data": {
            "application/vnd.jupyter.widget-view+json": {
              "model_id": "5ef5126629024c589bdc725fbfbb3d7f",
              "version_major": 2,
              "version_minor": 0
            },
            "text/plain": [
              "Map:   0%|          | 0/2009 [00:00<?, ? examples/s]"
            ]
          },
          "metadata": {},
          "output_type": "display_data"
        },
        {
          "name": "stdout",
          "output_type": "stream",
          "text": [
            "Train dataset size: 8032\n",
            "Eval dataset size: 2009\n"
          ]
        }
      ],
      "source": [
        "from datasets import Dataset\n",
        "from sklearn.model_selection import train_test_split\n",
        "\n",
        "\n",
        "def prepare_dataset(path, test_size=0.2, random_state=42):\n",
        "    ds = pd.read_csv(path)\n",
        "    ds = ds.rename(columns={'sentence': 'text'})\n",
        "\n",
        "    train_df, val_df = train_test_split(ds, test_size=test_size, random_state=random_state, shuffle=True)\n",
        "    \n",
        "    train = Dataset.from_pandas(train_df.reset_index(drop=True))\n",
        "    val = Dataset.from_pandas(val_df.reset_index(drop=True))\n",
        "\n",
        "    def map_fn(row):\n",
        "        return {\n",
        "            \"text\":  make_prompt(row[\"text\"], row[\"label\"]),\n",
        "            \"raw\": row[\"text\"],\n",
        "            \"label\": row[\"label\"]\n",
        "        }\n",
        "\n",
        "    train = train.map(map_fn, remove_columns=[\"text\", \"label\"])\n",
        "    val = val.map(map_fn, remove_columns=[\"text\", \"label\"])\n",
        "\n",
        "    return train, val\n",
        "\n",
        "train_ds, eval_ds = prepare_dataset(train_path)\n",
        "\n",
        "print(f\"Train dataset size: {len(train_ds)}\")\n",
        "print(f\"Eval dataset size: {len(eval_ds)}\")"
      ]
    },
    {
      "cell_type": "code",
      "execution_count": 6,
      "id": "ed6dc3c8",
      "metadata": {},
      "outputs": [
        {
          "data": {
            "text/plain": [
              "({'text': 'Jesteś modelem klasyfikującym pojedyncze polskie tweety. Zwróć cyfrę:\\n- 1, jeśli tekst zawiera bezpośrednie obelgi, dehumanizację lub mowę nienawiści (skierowaną do osób/grup; np. „jesteś idiotą”, „wszyscy oni to śmiecie”),\\n- 0, jeśli tekst jest neutralny, pytający, polityczny, przenośny lub opisuje zjawiska/obiekty bez ataku na człowieka.\\n\\nPrzykłady:\\nTekst: \"poseł Halicki oburzony za Bolka. Naprawdę taki tępy czy tylko udaje idiotę?\"\\nEtykieta: 1\\n\\nTekst: \"RT @anonymized_account Halicki: proszę nie mówić, że marnymi 15 mld można przykryć kilka milionów...😂😂😂\"\\nEtykieta: 0\\n\\nTekst: \"Chyba musimy się już do grobu pakować roczniku 98 😂👌🏻\"\\nEtykieta: 0\\n\\nTwoja kolej:\\nTekst: \"Dzisiaj brat przyjeżdża z dziećmi na obiad wiec zrobię zupę pieczarkową a na drugie powiem tacie żeby kupił pierogi\"\\nEtykieta: 0',\n",
              "  'label': 0,\n",
              "  'raw': 'Dzisiaj brat przyjeżdża z dziećmi na obiad wiec zrobię zupę pieczarkową a na drugie powiem tacie żeby kupił pierogi'},\n",
              " {'text': 'Jesteś modelem klasyfikującym pojedyncze polskie tweety. Zwróć cyfrę:\\n- 1, jeśli tekst zawiera bezpośrednie obelgi, dehumanizację lub mowę nienawiści (skierowaną do osób/grup; np. „jesteś idiotą”, „wszyscy oni to śmiecie”),\\n- 0, jeśli tekst jest neutralny, pytający, polityczny, przenośny lub opisuje zjawiska/obiekty bez ataku na człowieka.\\n\\nPrzykłady:\\nTekst: \"poseł Halicki oburzony za Bolka. Naprawdę taki tępy czy tylko udaje idiotę?\"\\nEtykieta: 1\\n\\nTekst: \"RT @anonymized_account Halicki: proszę nie mówić, że marnymi 15 mld można przykryć kilka milionów...😂😂😂\"\\nEtykieta: 0\\n\\nTekst: \"Chyba musimy się już do grobu pakować roczniku 98 😂👌🏻\"\\nEtykieta: 0\\n\\nTwoja kolej:\\nTekst: \"LUDZIE Z BYDGOSZCZY: NAJLEPSZA RESTAURACJA? Rt jeśli chcesz pomoc ulepszyć świat\"\\nEtykieta: 0',\n",
              "  'label': 0,\n",
              "  'raw': 'LUDZIE Z BYDGOSZCZY: NAJLEPSZA RESTAURACJA? Rt jeśli chcesz pomoc ulepszyć świat'})"
            ]
          },
          "execution_count": 6,
          "metadata": {},
          "output_type": "execute_result"
        }
      ],
      "source": [
        "train_ds[0], eval_ds[0]"
      ]
    },
    {
      "cell_type": "markdown",
      "id": "cdf7b970",
      "metadata": {},
      "source": [
        "### Fine tune model"
      ]
    },
    {
      "cell_type": "code",
      "execution_count": 13,
      "id": "d0bf15a3",
      "metadata": {},
      "outputs": [
        {
          "data": {
            "application/vnd.jupyter.widget-view+json": {
              "model_id": "69fd253499504fe6a57d154df902139d",
              "version_major": 2,
              "version_minor": 0
            },
            "text/plain": [
              "Loading checkpoint shards:   0%|          | 0/3 [00:00<?, ?it/s]"
            ]
          },
          "metadata": {},
          "output_type": "display_data"
        }
      ],
      "source": [
        "model_name = \"speakleash/Bielik-7B-Instruct-v0.1\"\n",
        "\n",
        "bnb_config = BitsAndBytesConfig(\n",
        "    load_in_8bit=True,\n",
        ")\n",
        "\n",
        "model = AutoModelForCausalLM.from_pretrained(\n",
        "    model_name,\n",
        "    quantization_config=bnb_config,\n",
        "    device_map=\"auto\",\n",
        "    torch_dtype=torch.float16,\n",
        ")\n",
        "model.config.use_cache = False\n",
        "\n",
        "tokenizer = AutoTokenizer.from_pretrained(model_name)\n",
        "tokenizer.pad_token_id = tokenizer.eos_token_id"
      ]
    },
    {
      "cell_type": "markdown",
      "id": "47ca0b4a",
      "metadata": {},
      "source": [
        "Determine the needed context length"
      ]
    },
    {
      "cell_type": "code",
      "execution_count": 10,
      "id": "afc371d8",
      "metadata": {},
      "outputs": [
        {
          "data": {
            "image/png": "[encoded data removed]",
            "text/plain": [
              "<Figure size 640x480 with 1 Axes>"
            ]
          },
          "metadata": {},
          "output_type": "display_data"
        }
      ],
      "source": [
        "import matplotlib.pyplot as plt\n",
        "\n",
        "texts = [ex[\"text\"] for ex in eval_ds]\n",
        "lengths = [len(tokenizer(text, truncation=False)[\"input_ids\"]) for text in texts]\n",
        "\n",
        "plt.figure()\n",
        "plt.hist(lengths, bins=30)\n",
        "plt.xlabel(\"Token length\")\n",
        "plt.ylabel(\"Number of examples\")\n",
        "plt.title(\"Distribution of Tweet Token Lengths\")\n",
        "plt.show()"
      ]
    },
    {
      "cell_type": "markdown",
      "id": "2c62edd7",
      "metadata": {},
      "source": [
        "Tokenize the dataset"
      ]
    },
    {
      "cell_type": "code",
      "execution_count": 11,
      "id": "a9ff2e00",
      "metadata": {},
      "outputs": [
        {
          "data": {
            "application/vnd.jupyter.widget-view+json": {
              "model_id": "51936080dead42d087f5342d80f2aa97",
              "version_major": 2,
              "version_minor": 0
            },
            "text/plain": [
              "Map:   0%|          | 0/8032 [00:00<?, ? examples/s]"
            ]
          },
          "metadata": {},
          "output_type": "display_data"
        },
        {
          "data": {
            "application/vnd.jupyter.widget-view+json": {
              "model_id": "624a224a495f42a09f265430c52c7a75",
              "version_major": 2,
              "version_minor": 0
            },
            "text/plain": [
              "Map:   0%|          | 0/2009 [00:00<?, ? examples/s]"
            ]
          },
          "metadata": {},
          "output_type": "display_data"
        }
      ],
      "source": [
        "def tokenize_fn(ex):\n",
        "    return tokenizer(\n",
        "        ex[\"text\"],\n",
        "        truncation=True,\n",
        "        max_length=512,\n",
        "        padding=\"max_length\",\n",
        "    )\n",
        "\n",
        "tokenized_train_ds = train_ds.map(\n",
        "    tokenize_fn,\n",
        "    batched=False,\n",
        "    remove_columns=[\"text\", \"raw\"],\n",
        ")\n",
        "tokenized_eval_ds = eval_ds.map(\n",
        "    tokenize_fn,\n",
        "    batched=False,\n",
        "    remove_columns=[\"text\", \"raw\"],\n",
        ")"
      ]
    },
    {
      "cell_type": "code",
      "execution_count": 14,
      "metadata": {},
      "outputs": [
        {
          "data": {
            "application/vnd.jupyter.widget-view+json": {
              "model_id": "8f4b82e66acd4920ae0c4c7c4bb44104",
              "version_major": 2,
              "version_minor": 0
            },
            "text/plain": [
              "Truncating train dataset:   0%|          | 0/8032 [00:00<?, ? examples/s]"
            ]
          },
          "metadata": {},
          "output_type": "display_data"
        },
        {
          "data": {
            "application/vnd.jupyter.widget-view+json": {
              "model_id": "f47976168e8746c8aee032345679d748",
              "version_major": 2,
              "version_minor": 0
            },
            "text/plain": [
              "Truncating eval dataset:   0%|          | 0/2009 [00:00<?, ? examples/s]"
            ]
          },
          "metadata": {},
          "output_type": "display_data"
        },
        {
          "name": "stderr",
          "output_type": "stream",
          "text": [
            "No label_names provided for model class `PeftModelForCausalLM`. Since `PeftModel` hides base models input arguments, if label_names is not given, label_names can't be set automatically within `Trainer`. Note that empty label_names list will be used instead.\n",
            "/home/ubuntu/ssne/.venv/lib/python3.10/site-packages/bitsandbytes/autograd/_functions.py:185: UserWarning: MatMul8bitLt: inputs will be cast from torch.float32 to float16 during quantization\n",
            "  warnings.warn(f\"MatMul8bitLt: inputs will be cast from {A.dtype} to float16 during quantization\")\n"
          ]
        },
        {
          "data": {
            "text/html": [
              "\n",
              "    <div>\n",
              "      \n",
              "      <progress value='251' max='251' style='width:300px; height:20px; vertical-align: middle;'></progress>\n",
              "      [251/251 1:12:54, Epoch 1/1]\n",
              "    </div>\n",
              "    <table border=\"1\" class=\"dataframe\">\n",
              "  <thead>\n",
              " <tr style=\"text-align: left;\">\n",
              "      <th>Step</th>\n",
              "      <th>Training Loss</th>\n",
              "      <th>Validation Loss</th>\n",
              "    </tr>\n",
              "  </thead>\n",
              "  <tbody>\n",
              "    <tr>\n",
              "      <td>25</td>\n",
              "      <td>2.144000</td>\n",
              "      <td>1.661550</td>\n",
              "    </tr>\n",
              "    <tr>\n",
              "      <td>50</td>\n",
              "      <td>1.424900</td>\n",
              "      <td>1.157212</td>\n",
              "    </tr>\n",
              "    <tr>\n",
              "      <td>75</td>\n",
              "      <td>0.848100</td>\n",
              "      <td>0.537793</td>\n",
              "    </tr>\n",
              "    <tr>\n",
              "      <td>100</td>\n",
              "      <td>0.376600</td>\n",
              "      <td>0.277109</td>\n",
              "    </tr>\n",
              "    <tr>\n",
              "      <td>125</td>\n",
              "      <td>0.241800</td>\n",
              "      <td>0.222371</td>\n",
              "    </tr>\n",
              "    <tr>\n",
              "      <td>150</td>\n",
              "      <td>0.211000</td>\n",
              "      <td>0.202350</td>\n",
              "    </tr>\n",
              "    <tr>\n",
              "      <td>175</td>\n",
              "      <td>0.190900</td>\n",
              "      <td>0.193003</td>\n",
              "    </tr>\n",
              "    <tr>\n",
              "      <td>200</td>\n",
              "      <td>0.193600</td>\n",
              "      <td>0.189642</td>\n",
              "    </tr>\n",
              "    <tr>\n",
              "      <td>225</td>\n",
              "      <td>0.192600</td>\n",
              "      <td>0.188342</td>\n",
              "    </tr>\n",
              "    <tr>\n",
              "      <td>250</td>\n",
              "      <td>0.188100</td>\n",
              "      <td>0.187750</td>\n",
              "    </tr>\n",
              "  </tbody>\n",
              "</table><p>"
            ],
            "text/plain": [
              "<IPython.core.display.HTML object>"
            ]
          },
          "metadata": {},
          "output_type": "display_data"
        },
        {
          "name": "stdout",
          "output_type": "stream",
          "text": [
            "Fine-tuning complete! Model saved to bielik-hate-speech\n"
          ]
        }
      ],
      "source": [
        "output_dir = \"bielik-hate-speech\"\n",
        "epochs = 1\n",
        "batch_size = 8\n",
        "\n",
        "target_modules = [\n",
        "    name for name, module in model.named_modules()\n",
        "    if isinstance(module, bnb.nn.Linear4bit)\n",
        "]\n",
        "\n",
        "peft_config = LoraConfig(\n",
        "    task_type=\"CAUSAL_LM\",\n",
        "    r=8,\n",
        "    lora_alpha=16,\n",
        "    lora_dropout=0.05,\n",
        "    bias=\"none\",\n",
        ")\n",
        "\n",
        "training_args = TrainingArguments(\n",
        "    output_dir=output_dir,\n",
        "    num_train_epochs=epochs,\n",
        "    per_device_train_batch_size=batch_size,\n",
        "    gradient_accumulation_steps=4,\n",
        "    learning_rate=2e-5,\n",
        "    optim=\"paged_adamw_32bit\",\n",
        "    fp16=True,\n",
        "    eval_strategy=\"steps\",\n",
        "    eval_steps=25,\n",
        "    logging_steps=25,\n",
        "    save_total_limit=2,\n",
        ")\n",
        "\n",
        "trainer = SFTTrainer(\n",
        "    model=model,\n",
        "    args=training_args,\n",
        "    train_dataset=tokenized_train_ds,\n",
        "    eval_dataset=tokenized_eval_ds,\n",
        "    peft_config=peft_config\n",
        ")\n",
        "trainer.train()\n",
        "trainer.save_model(output_dir)\n",
        "tokenizer.save_pretrained(output_dir)\n",
        "print(f\"Fine-tuning complete! Model saved to {output_dir}\")"
      ]
    },
    {
      "cell_type": "markdown",
      "id": "c0b2817e",
      "metadata": {},
      "source": [
        "### Evaluation"
      ]
    },
    {
      "cell_type": "markdown",
      "id": "7bf1f17d",
      "metadata": {},
      "source": [
        "Generate predictions for the evaluation set"
      ]
    },
    {
      "cell_type": "code",
      "execution_count": 16,
      "id": "adf38dc8",
      "metadata": {},
      "outputs": [
        {
          "name": "stderr",
          "output_type": "stream",
          "text": [
            "  0%|          | 0/126 [00:00<?, ?it/s]"
          ]
        },
        {
          "name": "stderr",
          "output_type": "stream",
          "text": [
            "/home/ubuntu/ssne/.venv/lib/python3.10/site-packages/bitsandbytes/autograd/_functions.py:185: UserWarning: MatMul8bitLt: inputs will be cast from torch.float32 to float16 during quantization\n",
            "  warnings.warn(f\"MatMul8bitLt: inputs will be cast from {A.dtype} to float16 during quantization\")\n",
            "100%|██████████| 126/126 [04:57<00:00,  2.36s/it]\n"
          ]
        }
      ],
      "source": [
        "from tqdm import tqdm\n",
        "\n",
        "BATCH_SIZE = 16\n",
        "\n",
        "texts   = [ex[\"raw\"] for ex in eval_ds]\n",
        "prompts = [make_prompt(t) for t in texts]\n",
        "\n",
        "model.eval()\n",
        "device = model.device\n",
        "\n",
        "y_pred = []\n",
        "with torch.no_grad():\n",
        "    for i in tqdm(range(0, len(prompts), BATCH_SIZE)):\n",
        "        chunk = prompts[i : i + BATCH_SIZE]\n",
        "        enc = tokenizer(chunk, return_tensors=\"pt\", padding=True, truncation=True, max_length=512).to(device)\n",
        "\n",
        "        outs = model.generate(\n",
        "            **enc,\n",
        "            max_new_tokens=4,\n",
        "            do_sample=False,\n",
        "            pad_token_id=tokenizer.eos_token_id,\n",
        "        )\n",
        "\n",
        "        decoded = tokenizer.batch_decode(outs, skip_special_tokens=True)\n",
        "        for dec, prom in zip(decoded, chunk):\n",
        "            gen = dec[len(prom):].strip()\n",
        "            y_pred.append(int(gen[0]) if gen and gen[0] in (\"0\",\"1\") else 0)\n",
        "\n",
        "        torch.cuda.empty_cache()\n",
        "\n",
        "y_true = [int(ex[\"label\"]) for ex in eval_ds]"
      ]
    },
    {
      "cell_type": "markdown",
      "id": "84d4c7f6",
      "metadata": {},
      "source": [
        "Print the classification report"
      ]
    },
    {
      "cell_type": "code",
      "execution_count": 17,
      "id": "092cf53b",
      "metadata": {},
      "outputs": [
        {
          "name": "stdout",
          "output_type": "stream",
          "text": [
            "              precision    recall  f1-score   support\n",
            "\n",
            "    non-hate     0.9385    0.8951    0.9163      1840\n",
            "        hate     0.2402    0.3609    0.2884       169\n",
            "\n",
            "    accuracy                         0.8502      2009\n",
            "   macro avg     0.5893    0.6280    0.6023      2009\n",
            "weighted avg     0.8797    0.8502    0.8635      2009\n",
            "\n"
          ]
        }
      ],
      "source": [
        "from sklearn.metrics import classification_report\n",
        "\n",
        "cr = classification_report(y_true, y_pred, target_names=[\"non-hate\",\"hate\"], digits=4)\n",
        "print(cr)"
      ]
    },
    {
      "cell_type": "markdown",
      "id": "802556a9",
      "metadata": {},
      "source": [
        "Plot the confusion matrix"
      ]
    },
    {
      "cell_type": "code",
      "execution_count": 18,
      "id": "e8988d1f",
      "metadata": {},
      "outputs": [
        {
          "data": {
            "image/png": "[encoded data removed]",
            "text/plain": [
              "<Figure size 640x480 with 2 Axes>"
            ]
          },
          "metadata": {},
          "output_type": "display_data"
        }
      ],
      "source": [
        "import matplotlib.pyplot as plt\n",
        "from sklearn.metrics import confusion_matrix, ConfusionMatrixDisplay\n",
        "\n",
        "cm = confusion_matrix(y_true, y_pred)\n",
        "\n",
        "fig, ax = plt.subplots()\n",
        "disp = ConfusionMatrixDisplay(confusion_matrix=cm, display_labels=[\"non-hate\", \"hate\"])\n",
        "disp.plot(ax=ax, cmap=plt.cm.Blues)\n",
        "ax.set_title(\"Confusion Matrix\")\n",
        "plt.show()"
      ]
    },
    {
      "cell_type": "markdown",
      "id": "90082348",
      "metadata": {},
      "source": [
        "Print examples of misclassified samples"
      ]
    },
    {
      "cell_type": "code",
      "execution_count": 19,
      "id": "13883096",
      "metadata": {},
      "outputs": [
        {
          "name": "stdout",
          "output_type": "stream",
          "text": [
            "Example 1\n",
            "Text:       @anonymized_account @anonymized_account Czyli tylko dlatego nie napiszesz o konkretach 😂 dziękujemy łaskawco inaczej bylibyśmy już pogrążeni\n",
            "Predicted:  0\n",
            "True:       1\n",
            "------------------------------------------------------------\n",
            "Example 2\n",
            "Text:       @anonymized_account Urban powinien się od was uczyć. Jesteście żenujące gnojki. Aż przykro patrzeć.\n",
            "Predicted:  0\n",
            "True:       1\n",
            "------------------------------------------------------------\n",
            "Example 3\n",
            "Text:       @anonymized_account A ile razy więcej niż na miesięcznicy?\\n\\nKretyńskie porównania...\n",
            "Predicted:  1\n",
            "True:       0\n",
            "------------------------------------------------------------\n",
            "Example 4\n",
            "Text:       @anonymized_account @anonymized_account @anonymized_account Uważaj, bo zaraz się Tobą zajmę i na pewno się coś znajdzie! :)\n",
            "Predicted:  1\n",
            "True:       0\n",
            "------------------------------------------------------------\n",
            "Example 5\n",
            "Text:       @anonymized_account hehe niech uważa bo jeszcze ktoś uwierzy że będzie stawiał na wychowanki\n",
            "Predicted:  0\n",
            "True:       1\n",
            "------------------------------------------------------------\n",
            "Example 6\n",
            "Text:       @anonymized_account Widocznie maja boskie wsparcie a Pani pozostalo tylko parcie na szklo i w WC. Oba przynosza ten sam efekt\n",
            "Predicted:  1\n",
            "True:       0\n",
            "------------------------------------------------------------\n",
            "Example 7\n",
            "Text:       @anonymized_account Żołnierze i żołnierki, wszystko pięknię, kwiaty a tu bach @anonymized_account\n",
            "Predicted:  1\n",
            "True:       0\n",
            "------------------------------------------------------------\n",
            "Example 8\n",
            "Text:       @anonymized_account Jesteś na urlopie, czy dalej doisz państwo na propagandę PiSu?\n",
            "Predicted:  0\n",
            "True:       1\n",
            "------------------------------------------------------------\n",
            "Example 9\n",
            "Text:       RT @anonymized_account @anonymized_account @anonymized_account Leczyć można z chorób - nie ze stanu umysłowego IQ :)\n",
            "Predicted:  0\n",
            "True:       1\n",
            "------------------------------------------------------------\n",
            "Example 10\n",
            "Text:       @anonymized_account No przecież, a osoby lgbt w ogóle nie korzystają z komunikacji miejskiej no nie, wiec oni nie są już pasażerami :) parodia\n",
            "Predicted:  1\n",
            "True:       0\n",
            "------------------------------------------------------------\n"
          ]
        }
      ],
      "source": [
        "count = 0\n",
        "for text, true, pred in zip(texts, y_true, y_pred):\n",
        "    if true != pred:\n",
        "        count += 1\n",
        "        print(f\"Example {count}\")\n",
        "        print(\"Text:      \", text)\n",
        "        print(\"Predicted: \", pred)\n",
        "        print(\"True:      \", true)\n",
        "        print(\"-\" * 60)\n",
        "        if count >= 10:\n",
        "            break"
      ]
    },
    {
      "cell_type": "markdown",
      "id": "174e8677",
      "metadata": {},
      "source": [
        "# Bert"
      ]
    },
    {
      "cell_type": "code",
      "execution_count": null,
      "id": "d64a9696",
      "metadata": {},
      "outputs": [],
      "source": [
        "cleaned_df = base_df.copy()"
      ]
    },
    {
      "cell_type": "markdown",
      "id": "b5542e75",
      "metadata": {},
      "source": [
        "Print example of cleaned sentences"
      ]
    },
    {
      "cell_type": "code",
      "execution_count": null,
      "id": "325652e7",
      "metadata": {},
      "outputs": [
        {
          "data": {
            "text/plain": [
              "['Dla mnie faworytem do tytułu będzie Cracovia. Zobaczymy, czy typ się sprawdzi.',\n",
              " '@anonymized_account @anonymized_account Brawo ty Daria kibic ma być na dobre i złe',\n",
              " '@anonymized_account @anonymized_account Super, polski premier składa kwiaty na grobach kolaborantów. Ale doczekaliśmy czasów.',\n",
              " '@anonymized_account @anonymized_account Musi. Innej drogi nie mamy.',\n",
              " 'Odrzut natychmiastowy, kwaśna mina, mam problem']"
            ]
          },
          "metadata": {},
          "output_type": "display_data"
        }
      ],
      "source": [
        "cleaned_df['sentence'][0:5].to_list()"
      ]
    },
    {
      "cell_type": "markdown",
      "id": "e0683567",
      "metadata": {},
      "source": [
        "Train test split"
      ]
    },
    {
      "cell_type": "code",
      "execution_count": null,
      "id": "d0358215",
      "metadata": {},
      "outputs": [
        {
          "name": "stdout",
          "output_type": "stream",
          "text": [
            "Train dataset size: 8032\n",
            "Eval dataset size: 2009\n"
          ]
        }
      ],
      "source": [
        "from sklearn.model_selection import train_test_split\n",
        "from datasets import Dataset\n",
        "\n",
        "train_df, eval_df = train_test_split(\n",
        "    cleaned_df,\n",
        "    test_size=0.2,\n",
        "    random_state=42,\n",
        "    stratify=cleaned_df['label']\n",
        ")\n",
        "\n",
        "train_ds = Dataset.from_pandas(train_df.reset_index(drop=True))\n",
        "eval_ds = Dataset.from_pandas(eval_df .reset_index(drop=True))\n",
        "\n",
        "print(f\"Train dataset size: {len(train_ds)}\")\n",
        "print(f\"Eval dataset size: {len(eval_ds)}\")"
      ]
    },
    {
      "cell_type": "markdown",
      "id": "506fec38",
      "metadata": {},
      "source": [
        "### Prepare the model"
      ]
    },
    {
      "cell_type": "markdown",
      "id": "36fc8860",
      "metadata": {},
      "source": [
        "Load the model"
      ]
    },
    {
      "cell_type": "code",
      "execution_count": null,
      "id": "b2eea286",
      "metadata": {},
      "outputs": [
        {
          "name": "stderr",
          "output_type": "stream",
          "text": [
            "Some weights of BertForSequenceClassification were not initialized from the model checkpoint at allegro/herbert-large-cased and are newly initialized: ['classifier.bias', 'classifier.weight']\n",
            "You should probably TRAIN this model on a down-stream task to be able to use it for predictions and inference.\n"
          ]
        }
      ],
      "source": [
        "from transformers import AutoTokenizer, AutoModelForSequenceClassification\n",
        "\n",
        "# model_name = \"dkleczek/bert-base-polish-uncased-v1\"\n",
        "model_name = \"allegro/herbert-large-cased\"\n",
        "# model_name=\"deepsense-ai/trelbert\"\n",
        "tokenizer = AutoTokenizer.from_pretrained(model_name)\n",
        "model = AutoModelForSequenceClassification.from_pretrained(\n",
        "    model_name,\n",
        "    num_labels=2\n",
        ")"
      ]
    },
    {
      "cell_type": "code",
      "execution_count": null,
      "id": "07b3d039",
      "metadata": {},
      "outputs": [],
      "source": [
        "# special_tokens_dict = {\n",
        "#     \"additional_special_tokens\": [\"[USER]\", \"[URL]\"]\n",
        "# }\n",
        "\n",
        "# tokenizer.add_special_tokens(special_tokens_dict)\n",
        "# model.resize_token_embeddings(len(tokenizer))"
      ]
    },
    {
      "cell_type": "markdown",
      "id": "5087e339",
      "metadata": {},
      "source": [
        "Tokenize the datasets"
      ]
    },
    {
      "cell_type": "code",
      "execution_count": null,
      "id": "b27e05f4",
      "metadata": {},
      "outputs": [
        {
          "data": {
            "application/vnd.jupyter.widget-view+json": {
              "model_id": "5788c595cda048d2b87197801c9eb722",
              "version_major": 2,
              "version_minor": 0
            },
            "text/plain": [
              "Map:   0%|          | 0/8032 [00:00<?, ? examples/s]"
            ]
          },
          "metadata": {},
          "output_type": "display_data"
        },
        {
          "data": {
            "application/vnd.jupyter.widget-view+json": {
              "model_id": "2f1b467b4d3e486bbcb1f9d50afaf2c1",
              "version_major": 2,
              "version_minor": 0
            },
            "text/plain": [
              "Map:   0%|          | 0/2009 [00:00<?, ? examples/s]"
            ]
          },
          "metadata": {},
          "output_type": "display_data"
        }
      ],
      "source": [
        "from transformers.data.data_collator import DataCollatorWithPadding\n",
        "\n",
        "def tokenize_fn(row):\n",
        "    return tokenizer(row['sentence'], truncation=True, max_length=128)\n",
        "\n",
        "\n",
        "tokenized_train_ds = train_ds.map(tokenize_fn, batched=True)\n",
        "tokenized_eval_ds = eval_ds.map(tokenize_fn, batched=True)\n",
        "\n",
        "data_collator = DataCollatorWithPadding(tokenizer)"
      ]
    },
    {
      "cell_type": "markdown",
      "id": "5a9c973d",
      "metadata": {},
      "source": [
        "Perform the training"
      ]
    },
    {
      "cell_type": "code",
      "execution_count": null,
      "id": "4611c973",
      "metadata": {},
      "outputs": [
        {
          "data": {
            "text/html": [
              "\n",
              "    <div>\n",
              "      \n",
              "      <progress value='630' max='630' style='width:300px; height:20px; vertical-align: middle;'></progress>\n",
              "      [630/630 05:35, Epoch 5/5]\n",
              "    </div>\n",
              "    <table border=\"1\" class=\"dataframe\">\n",
              "  <thead>\n",
              " <tr style=\"text-align: left;\">\n",
              "      <th>Step</th>\n",
              "      <th>Training Loss</th>\n",
              "      <th>Validation Loss</th>\n",
              "      <th>Accuracy</th>\n",
              "      <th>Acc 0</th>\n",
              "      <th>Acc 1</th>\n",
              "      <th>Avg Acc</th>\n",
              "    </tr>\n",
              "  </thead>\n",
              "  <tbody>\n",
              "    <tr>\n",
              "      <td>50</td>\n",
              "      <td>0.528900</td>\n",
              "      <td>0.421396</td>\n",
              "      <td>0.915381</td>\n",
              "      <td>1.000000</td>\n",
              "      <td>0.000000</td>\n",
              "      <td>0.500000</td>\n",
              "    </tr>\n",
              "    <tr>\n",
              "      <td>100</td>\n",
              "      <td>0.380700</td>\n",
              "      <td>0.300523</td>\n",
              "      <td>0.922847</td>\n",
              "      <td>0.995650</td>\n",
              "      <td>0.135294</td>\n",
              "      <td>0.565472</td>\n",
              "    </tr>\n",
              "    <tr>\n",
              "      <td>150</td>\n",
              "      <td>0.280000</td>\n",
              "      <td>0.267755</td>\n",
              "      <td>0.906421</td>\n",
              "      <td>0.939097</td>\n",
              "      <td>0.552941</td>\n",
              "      <td>0.746019</td>\n",
              "    </tr>\n",
              "    <tr>\n",
              "      <td>200</td>\n",
              "      <td>0.256300</td>\n",
              "      <td>0.255163</td>\n",
              "      <td>0.923345</td>\n",
              "      <td>0.957586</td>\n",
              "      <td>0.552941</td>\n",
              "      <td>0.755263</td>\n",
              "    </tr>\n",
              "    <tr>\n",
              "      <td>250</td>\n",
              "      <td>0.233300</td>\n",
              "      <td>0.249385</td>\n",
              "      <td>0.929816</td>\n",
              "      <td>0.971724</td>\n",
              "      <td>0.476471</td>\n",
              "      <td>0.724097</td>\n",
              "    </tr>\n",
              "    <tr>\n",
              "      <td>300</td>\n",
              "      <td>0.179900</td>\n",
              "      <td>0.258741</td>\n",
              "      <td>0.907417</td>\n",
              "      <td>0.924959</td>\n",
              "      <td>0.717647</td>\n",
              "      <td>0.821303</td>\n",
              "    </tr>\n",
              "    <tr>\n",
              "      <td>350</td>\n",
              "      <td>0.162300</td>\n",
              "      <td>0.287144</td>\n",
              "      <td>0.913390</td>\n",
              "      <td>0.934203</td>\n",
              "      <td>0.688235</td>\n",
              "      <td>0.811219</td>\n",
              "    </tr>\n",
              "    <tr>\n",
              "      <td>400</td>\n",
              "      <td>0.135900</td>\n",
              "      <td>0.338596</td>\n",
              "      <td>0.916874</td>\n",
              "      <td>0.938010</td>\n",
              "      <td>0.688235</td>\n",
              "      <td>0.813123</td>\n",
              "    </tr>\n",
              "    <tr>\n",
              "      <td>450</td>\n",
              "      <td>0.115300</td>\n",
              "      <td>0.317266</td>\n",
              "      <td>0.912394</td>\n",
              "      <td>0.931485</td>\n",
              "      <td>0.705882</td>\n",
              "      <td>0.818683</td>\n",
              "    </tr>\n",
              "    <tr>\n",
              "      <td>500</td>\n",
              "      <td>0.113000</td>\n",
              "      <td>0.329937</td>\n",
              "      <td>0.926829</td>\n",
              "      <td>0.950517</td>\n",
              "      <td>0.670588</td>\n",
              "      <td>0.810552</td>\n",
              "    </tr>\n",
              "    <tr>\n",
              "      <td>550</td>\n",
              "      <td>0.083100</td>\n",
              "      <td>0.388630</td>\n",
              "      <td>0.934296</td>\n",
              "      <td>0.969549</td>\n",
              "      <td>0.552941</td>\n",
              "      <td>0.761245</td>\n",
              "    </tr>\n",
              "    <tr>\n",
              "      <td>600</td>\n",
              "      <td>0.085200</td>\n",
              "      <td>0.371265</td>\n",
              "      <td>0.931309</td>\n",
              "      <td>0.961936</td>\n",
              "      <td>0.600000</td>\n",
              "      <td>0.780968</td>\n",
              "    </tr>\n",
              "  </tbody>\n",
              "</table><p>"
            ],
            "text/plain": [
              "<IPython.core.display.HTML object>"
            ]
          },
          "metadata": {},
          "output_type": "display_data"
        },
        {
          "data": {
            "text/plain": [
              "TrainOutput(global_step=630, training_loss=0.20575670325566853, metrics={'train_runtime': 336.2235, 'train_samples_per_second': 119.444, 'train_steps_per_second': 1.874, 'total_flos': 5285332235694336.0, 'train_loss': 0.20575670325566853, 'epoch': 5.0})"
            ]
          },
          "metadata": {},
          "output_type": "display_data"
        }
      ],
      "source": [
        "import numpy as np\n",
        "from evaluate import load\n",
        "from sklearn.utils import compute_class_weight\n",
        "import torch\n",
        "import torch.nn.functional as F\n",
        "from transformers.training_args import TrainingArguments\n",
        "from transformers.trainer import Trainer\n",
        "\n",
        "\n",
        "accuracy_metric = load(\"accuracy\")\n",
        "\n",
        "def compute_metrics(eval_pred):\n",
        "    logits, labels = eval_pred\n",
        "    preds = np.argmax(logits, axis=-1)\n",
        "    acc = accuracy_metric.compute(predictions=preds, references=labels)\n",
        "\n",
        "    acc0 = (preds[labels == 0] == 0).mean() if np.any(labels == 0) else float('nan')\n",
        "    acc1 = (preds[labels == 1] == 1).mean() if np.any(labels == 1) else float('nan')\n",
        "\n",
        "    acc[\"acc_0\"] = acc0\n",
        "    acc[\"acc_1\"] = acc1\n",
        "    acc[\"avg_acc\"] = (acc0 + acc1) / 2\n",
        "\n",
        "    return acc\n",
        "\n",
        "\n",
        "labels = np.array(tokenized_train_ds[\"label\"])\n",
        "weights = compute_class_weight(\"balanced\", classes=np.unique(labels), y=labels)\n",
        "class_weights = torch.tensor(weights, dtype=torch.float)\n",
        "\n",
        "\n",
        "def custom_loss_fn(raw_outputs, labels, num_items_in_batch=None):\n",
        "    logits = raw_outputs.logits if hasattr(raw_outputs, \"logits\") else raw_outputs\n",
        "    cw = class_weights.to(logits.device)\n",
        "    cw = torch.tensor([0.5, 1.0]).to(logits.device)\n",
        "    loss_fct = torch.nn.CrossEntropyLoss(weight=cw\n",
        "        # , label_smoothing=0.05\n",
        "        )\n",
        "    loss = loss_fct(logits.view(-1, logits.size(-1)), labels.view(-1))\n",
        "    return loss\n",
        "\n",
        "batch_size = 64\n",
        "\n",
        "training_args = TrainingArguments(\n",
        "    output_dir=\"./results\",\n",
        "    eval_strategy=\"steps\",\n",
        "    warmup_steps=200,\n",
        "    learning_rate=1e-5,\n",
        "    per_device_train_batch_size=batch_size,\n",
        "    per_device_eval_batch_size=batch_size,\n",
        "    num_train_epochs=5,\n",
        "    weight_decay=0.01,\n",
        "    logging_steps=50,\n",
        "    eval_steps=50,\n",
        "    load_best_model_at_end=True,\n",
        "    metric_for_best_model=\"accuracy\"\n",
        ")\n",
        "\n",
        "trainer = Trainer(\n",
        "    model=model,\n",
        "    args=training_args,\n",
        "    train_dataset=tokenized_train_ds,\n",
        "    eval_dataset=tokenized_eval_ds,\n",
        "    processing_class=tokenizer,\n",
        "    data_collator=data_collator,\n",
        "    compute_loss_func=custom_loss_fn,\n",
        "    compute_metrics=compute_metrics\n",
        ")\n",
        "\n",
        "trainer.train()"
      ]
    },
    {
      "cell_type": "markdown",
      "id": "281b9183",
      "metadata": {},
      "source": [
        "Train the model"
      ]
    },
    {
      "cell_type": "markdown",
      "id": "9f946a25",
      "metadata": {},
      "source": [
        "### Evaluate"
      ]
    },
    {
      "cell_type": "code",
      "execution_count": null,
      "id": "de3b5d2f",
      "metadata": {},
      "outputs": [
        {
          "data": {
            "text/html": [
              "\n",
              "    <div>\n",
              "      \n",
              "      <progress value='1' max='32' style='width:300px; height:20px; vertical-align: middle;'></progress>\n",
              "      [ 1/32 : < :]\n",
              "    </div>\n",
              "    "
            ],
            "text/plain": [
              "<IPython.core.display.HTML object>"
            ]
          },
          "metadata": {},
          "output_type": "display_data"
        }
      ],
      "source": [
        "import numpy as np\n",
        "\n",
        "pred_output = trainer.predict(tokenized_eval_ds)\n",
        "\n",
        "logits = pred_output.predictions\n",
        "y_pred = np.argmax(logits, axis=-1)\n",
        "y_true = pred_output.label_ids"
      ]
    },
    {
      "cell_type": "markdown",
      "id": "7ffaf2b1",
      "metadata": {},
      "source": [
        "Print the classification report"
      ]
    },
    {
      "cell_type": "code",
      "execution_count": null,
      "id": "8dd08c2b",
      "metadata": {},
      "outputs": [
        {
          "name": "stdout",
          "output_type": "stream",
          "text": [
            "              precision    recall  f1-score   support\n",
            "\n",
            "    non-hate     0.9620    0.9636    0.9628      1839\n",
            "        hate     0.5988    0.5882    0.5935       170\n",
            "\n",
            "    accuracy                         0.9318      2009\n",
            "   macro avg     0.7804    0.7759    0.7781      2009\n",
            "weighted avg     0.9313    0.9318    0.9315      2009\n",
            "\n"
          ]
        }
      ],
      "source": [
        "from sklearn.metrics import classification_report\n",
        "\n",
        "cr = classification_report(y_true, y_pred, target_names=[\"non-hate\",\"hate\"], digits=4)\n",
        "print(cr)"
      ]
    },
    {
      "cell_type": "markdown",
      "id": "bb6e4d6c",
      "metadata": {},
      "source": [
        "Plot the confusion matrix"
      ]
    },
    {
      "cell_type": "code",
      "execution_count": null,
      "id": "c1d1c9c1",
      "metadata": {},
      "outputs": [
        {
          "data": {
            "image/png": "[encoded data removed]",
            "text/plain": [
              "<Figure size 640x480 with 2 Axes>"
            ]
          },
          "metadata": {},
          "output_type": "display_data"
        }
      ],
      "source": [
        "import matplotlib.pyplot as plt\n",
        "from sklearn.metrics import confusion_matrix, ConfusionMatrixDisplay\n",
        "\n",
        "cm = confusion_matrix(y_true, y_pred)\n",
        "\n",
        "fig, ax = plt.subplots()\n",
        "disp = ConfusionMatrixDisplay(confusion_matrix=cm, display_labels=[\"non-hate\", \"hate\"])\n",
        "disp.plot(ax=ax, cmap=plt.cm.Blues)\n",
        "ax.set_title(\"Confusion Matrix\")\n",
        "plt.show()"
      ]
    },
    {
      "cell_type": "markdown",
      "id": "270985d0",
      "metadata": {},
      "source": [
        "Acc per threshold"
      ]
    },
    {
      "cell_type": "code",
      "execution_count": null,
      "id": "443da25b",
      "metadata": {},
      "outputs": [
        {
          "data": {
            "image/png": "[encoded data removed]",
            "text/plain": [
              "<Figure size 640x480 with 1 Axes>"
            ]
          },
          "metadata": {},
          "output_type": "display_data"
        },
        {
          "name": "stdout",
          "output_type": "stream",
          "text": [
            "Najlepszy próg decyzyjny: 0.8\n",
            "Najlepsza dokładność ogólna: 0.9392732702837232\n"
          ]
        }
      ],
      "source": [
        "logits_stable = logits - np.max(logits, axis=1, keepdims=True)\n",
        "exp_logits = np.exp(logits_stable)\n",
        "probs = exp_logits[:, 1] / exp_logits.sum(axis=1)\n",
        " \n",
        "thresholds = np.linspace(0, 1, 101)\n",
        "acc0_list = []\n",
        "acc1_list = []\n",
        "acc_overall = []\n",
        "\n",
        "for thr in thresholds:\n",
        "    preds_thr = (probs > thr).astype(int)\n",
        "\n",
        "    mask0 = (y_true == 0)\n",
        "    mask1 = (y_true == 1)\n",
        "\n",
        "    acc0_list.append((preds_thr[mask0] == 0).mean())\n",
        "    acc1_list.append((preds_thr[mask1] == 1).mean())\n",
        "    acc_overall.append((preds_thr == y_true).mean())\n",
        "\n",
        "plt.plot(thresholds, acc0_list,   label=\"Acc klasy 0 (non-hate)\")\n",
        "plt.plot(thresholds, acc1_list,   label=\"Acc klasy 1 (hate)\")\n",
        "plt.plot(thresholds, acc_overall, label=\"Accuracy ogólna\")\n",
        "\n",
        "plt.xlabel(\"Próg decyzyjny\")\n",
        "plt.ylabel(\"Accuracy\")\n",
        "plt.title(\"Accuracy vs. Threshold dla każdej klasy i ogólna\")\n",
        "plt.legend()\n",
        "plt.grid(True)\n",
        "plt.show()\n",
        "\n",
        "print(\"Najlepszy próg decyzyjny:\", thresholds[np.argmax(acc_overall)])\n",
        "print(\"Najlepsza dokładność ogólna:\", max(acc_overall))"
      ]
    },
    {
      "cell_type": "markdown",
      "id": "9d0534bf",
      "metadata": {},
      "source": [
        "Print examples of misclassified samples"
      ]
    },
    {
      "cell_type": "code",
      "execution_count": null,
      "id": "061abaa9",
      "metadata": {},
      "outputs": [
        {
          "name": "stdout",
          "output_type": "stream",
          "text": [
            "Example 1\n",
            "Text:       @anonymized_account @anonymized_account @anonymized_account @anonymized_account Odpierdolcie się.od samorządów a będą się bogacić\n",
            "Predicted:  0\n",
            "True:       1\n",
            "------------------------------------------------------------\n",
            "Example 2\n",
            "Text:       @anonymized_account @anonymized_account lepiej napisać że dostali wpierdol.A nie, bo ludzie którzy dostali po ryju by się mogli głupio poczuć.\n",
            "Predicted:  0\n",
            "True:       1\n",
            "------------------------------------------------------------\n",
            "Example 3\n",
            "Text:       @anonymized_account @anonymized_account Dostała mordy jak bocian dzioba\n",
            "Predicted:  1\n",
            "True:       0\n",
            "------------------------------------------------------------\n",
            "Example 4\n",
            "Text:       @anonymized_account co ty ćpasz chłopie ?\n",
            "Predicted:  1\n",
            "True:       0\n",
            "------------------------------------------------------------\n",
            "Example 5\n",
            "Text:       @anonymized_account @anonymized_account @anonymized_account @anonymized_account Przecież do debil o skończony tuman. Szkoda czasu na komentowanie jego bredni.\n",
            "Predicted:  1\n",
            "True:       0\n",
            "------------------------------------------------------------\n",
            "Example 6\n",
            "Text:       @anonymized_account Musi być pierwszy w okopie, nie straszne mu bombardowania, zuch\n",
            "Predicted:  0\n",
            "True:       1\n",
            "------------------------------------------------------------\n",
            "Example 7\n",
            "Text:       @anonymized_account Mistrz od wkurwiania się odezwał, bot roku 2015, 2016, 2917,2018,2019 ....\n",
            "Predicted:  0\n",
            "True:       1\n",
            "------------------------------------------------------------\n",
            "Example 8\n",
            "Text:       @anonymized_account @anonymized_account A w mieście Łodzi ciemnogród. Ciemnota że ręce opadają.Jak długo jeszcze??\n",
            "Predicted:  0\n",
            "True:       1\n",
            "------------------------------------------------------------\n",
            "Example 9\n",
            "Text:       @anonymized_account Głupi jesteś. Jak zwykle. Czarnecki zostanie odwołany za chamstwo a nie za prawdę. Jak masz wątpliwości to zapytaj carycę.\n",
            "Predicted:  1\n",
            "True:       0\n",
            "------------------------------------------------------------\n",
            "Example 10\n",
            "Text:       @anonymized_account Stalin się w grobie przewraca\n",
            "Predicted:  1\n",
            "True:       0\n",
            "------------------------------------------------------------\n"
          ]
        }
      ],
      "source": [
        "count = 0\n",
        "texts = eval_df['sentence'].tolist()\n",
        "\n",
        "for text, true, pred in zip(texts, y_true, y_pred):\n",
        "    if true != pred:\n",
        "        count += 1\n",
        "        print(f\"Example {count}\")\n",
        "        print(\"Text:      \", text)\n",
        "        print(\"Predicted: \", pred)\n",
        "        print(\"True:      \", true)\n",
        "        print(\"-\" * 60)\n",
        "        if count >= 10:\n",
        "            break"
      ]
    },
    {
      "cell_type": "markdown",
      "id": "fa863b4d",
      "metadata": {},
      "source": [
        "### Save the results"
      ]
    },
    {
      "cell_type": "code",
      "execution_count": null,
      "id": "ce7d7735",
      "metadata": {},
      "outputs": [
        {
          "data": {
            "text/html": [
              "<div>\n",
              "<style scoped>\n",
              "    .dataframe tbody tr th:only-of-type {\n",
              "        vertical-align: middle;\n",
              "    }\n",
              "\n",
              "    .dataframe tbody tr th {\n",
              "        vertical-align: top;\n",
              "    }\n",
              "\n",
              "    .dataframe thead th {\n",
              "        text-align: right;\n",
              "    }\n",
              "</style>\n",
              "<table border=\"1\" class=\"dataframe\">\n",
              "  <thead>\n",
              "    <tr style=\"text-align: right;\">\n",
              "      <th></th>\n",
              "      <th>sentence</th>\n",
              "    </tr>\n",
              "  </thead>\n",
              "  <tbody>\n",
              "    <tr>\n",
              "      <th>0</th>\n",
              "      <td>@anonymized_account Spoko, jak im Duda z Moraw...</td>\n",
              "    </tr>\n",
              "    <tr>\n",
              "      <th>1</th>\n",
              "      <td>@anonymized_account @anonymized_account Ale on...</td>\n",
              "    </tr>\n",
              "    <tr>\n",
              "      <th>2</th>\n",
              "      <td>@anonymized_account No czy Prezes nie miał rac...</td>\n",
              "    </tr>\n",
              "    <tr>\n",
              "      <th>3</th>\n",
              "      <td>@anonymized_account @anonymized_account Przeci...</td>\n",
              "    </tr>\n",
              "    <tr>\n",
              "      <th>4</th>\n",
              "      <td>@anonymized_account @anonymized_account Owszem...</td>\n",
              "    </tr>\n",
              "  </tbody>\n",
              "</table>\n",
              "</div>"
            ],
            "text/plain": [
              "                                            sentence\n",
              "0  @anonymized_account Spoko, jak im Duda z Moraw...\n",
              "1  @anonymized_account @anonymized_account Ale on...\n",
              "2  @anonymized_account No czy Prezes nie miał rac...\n",
              "3  @anonymized_account @anonymized_account Przeci...\n",
              "4  @anonymized_account @anonymized_account Owszem..."
            ]
          },
          "metadata": {},
          "output_type": "display_data"
        }
      ],
      "source": [
        "test_path = 'data/hate_test_data.txt'\n",
        "\n",
        "with open(test_path, encoding='utf-8') as f:\n",
        "    lines = [line.strip() for line in f if line.strip()]\n",
        "\n",
        "test_df = pd.DataFrame(lines, columns=['sentence'])\n",
        "test_df.head()"
      ]
    },
    {
      "cell_type": "code",
      "execution_count": null,
      "id": "1b8429e3",
      "metadata": {},
      "outputs": [
        {
          "data": {
            "application/vnd.jupyter.widget-view+json": {
              "model_id": "b8fa729c61fd45c2b50f453664e17772",
              "version_major": 2,
              "version_minor": 0
            },
            "text/plain": [
              "Map:   0%|          | 0/1000 [00:00<?, ? examples/s]"
            ]
          },
          "metadata": {},
          "output_type": "display_data"
        }
      ],
      "source": [
        "tokenized_test_ds = Dataset.from_pandas(test_df).map(tokenize_fn, batched=False)"
      ]
    },
    {
      "cell_type": "code",
      "execution_count": null,
      "id": "e41223e4",
      "metadata": {},
      "outputs": [
        {
          "data": {
            "text/html": [
              "\n",
              "    <div>\n",
              "      \n",
              "      <progress value='1' max='16' style='width:300px; height:20px; vertical-align: middle;'></progress>\n",
              "      [ 1/16 : < :]\n",
              "    </div>\n",
              "    "
            ],
            "text/plain": [
              "<IPython.core.display.HTML object>"
            ]
          },
          "metadata": {},
          "output_type": "display_data"
        }
      ],
      "source": [
        "import numpy as np\n",
        "import torch\n",
        "from sklearn.metrics import accuracy_score, classification_report\n",
        "\n",
        "pred_output = trainer.predict(tokenized_test_ds)\n",
        "logits      = pred_output.predictions\n",
        "y_true      = pred_output.label_ids\n",
        "\n",
        "logits_stable = logits - logits.max(axis=1, keepdims=True)\n",
        "exp_logits   = np.exp(logits_stable)\n",
        "probs        = exp_logits[:,1] / exp_logits.sum(axis=1)\n",
        "\n",
        "thr = 0.93\n",
        "\n",
        "y_pred_thr = (probs > thr).astype(int)\n",
        "\n",
        "output_dir = \"pred.csv\"\n",
        "\n",
        "output_df = pd.DataFrame({\"predicted\": y_pred_thr})\n",
        "output_df.to_csv(output_dir, index=False, header=False)"
      ]
    }
  ],
  "metadata": {
    "kernelspec": {
      "display_name": ".venv",
      "language": "python",
      "name": "python3"
    },
    "language_info": {
      "codemirror_mode": {
        "name": "ipython",
        "version": 3
      },
      "file_extension": ".py",
      "mimetype": "text/x-python",
      "name": "python",
      "nbconvert_exporter": "python",
      "pygments_lexer": "ipython3",
      "version": "3.10.12"
    }
  },
  "nbformat": 4,
  "nbformat_minor": 5
}
