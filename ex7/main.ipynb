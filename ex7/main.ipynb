{
  "cells": [
    {
      "cell_type": "markdown",
      "id": "cd2a2bd2",
      "metadata": {},
      "source": [
        "## Setup"
      ]
    },
    {
      "cell_type": "code",
      "execution_count": 1,
      "id": "5a19d5b4",
      "metadata": {},
      "outputs": [
        {
          "name": "stdout",
          "output_type": "stream",
          "text": [
            "Wed Jun 11 18:13:49 2025       \n",
            "+-----------------------------------------------------------------------------------------+\n",
            "| NVIDIA-SMI 570.124.06             Driver Version: 570.124.06     CUDA Version: 12.8     |\n",
            "|-----------------------------------------+------------------------+----------------------+\n",
            "| GPU  Name                 Persistence-M | Bus-Id          Disp.A | Volatile Uncorr. ECC |\n",
            "| Fan  Temp   Perf          Pwr:Usage/Cap |           Memory-Usage | GPU-Util  Compute M. |\n",
            "|                                         |                        |               MIG M. |\n",
            "|=========================================+========================+======================|\n",
            "|   0  NVIDIA H100 PCIe               On  |   00000000:06:00.0 Off |                    0 |\n",
            "| N/A   53C    P0             59W /  350W |       1MiB /  81559MiB |      0%      Default |\n",
            "|                                         |                        |             Disabled |\n",
            "+-----------------------------------------+------------------------+----------------------+\n",
            "                                                                                         \n",
            "+-----------------------------------------------------------------------------------------+\n",
            "| Processes:                                                                              |\n",
            "|  GPU   GI   CI              PID   Type   Process name                        GPU Memory |\n",
            "|        ID   ID                                                               Usage      |\n",
            "|=========================================================================================|\n",
            "|  No running processes found                                                             |\n",
            "+-----------------------------------------------------------------------------------------+\n"
          ]
        }
      ],
      "source": [
        "!nvidia-smi"
      ]
    },
    {
      "cell_type": "code",
      "execution_count": 2,
      "metadata": {},
      "outputs": [],
      "source": [
        "import torch\n",
        "import bitsandbytes as bnb\n",
        "from datasets import load_dataset\n",
        "from transformers import AutoTokenizer, AutoModelForCausalLM, BitsAndBytesConfig, TrainingArguments\n",
        "from peft import LoraConfig\n",
        "from trl import SFTTrainer"
      ]
    },
    {
      "cell_type": "markdown",
      "id": "4cd9e45e",
      "metadata": {},
      "source": [
        "## Prepare the dataset"
      ]
    },
    {
      "cell_type": "code",
      "execution_count": 3,
      "id": "b0b19364",
      "metadata": {},
      "outputs": [
        {
          "data": {
            "text/html": [
              "<div>\n",
              "<style scoped>\n",
              "    .dataframe tbody tr th:only-of-type {\n",
              "        vertical-align: middle;\n",
              "    }\n",
              "\n",
              "    .dataframe tbody tr th {\n",
              "        vertical-align: top;\n",
              "    }\n",
              "\n",
              "    .dataframe thead th {\n",
              "        text-align: right;\n",
              "    }\n",
              "</style>\n",
              "<table border=\"1\" class=\"dataframe\">\n",
              "  <thead>\n",
              "    <tr style=\"text-align: right;\">\n",
              "      <th></th>\n",
              "      <th>sentence</th>\n",
              "      <th>label</th>\n",
              "    </tr>\n",
              "  </thead>\n",
              "  <tbody>\n",
              "    <tr>\n",
              "      <th>0</th>\n",
              "      <td>Dla mnie faworytem do tytułu będzie Cracovia. ...</td>\n",
              "      <td>0</td>\n",
              "    </tr>\n",
              "    <tr>\n",
              "      <th>1</th>\n",
              "      <td>@anonymized_account @anonymized_account Brawo ...</td>\n",
              "      <td>0</td>\n",
              "    </tr>\n",
              "    <tr>\n",
              "      <th>2</th>\n",
              "      <td>@anonymized_account @anonymized_account Super,...</td>\n",
              "      <td>0</td>\n",
              "    </tr>\n",
              "    <tr>\n",
              "      <th>3</th>\n",
              "      <td>@anonymized_account @anonymized_account Musi. ...</td>\n",
              "      <td>0</td>\n",
              "    </tr>\n",
              "    <tr>\n",
              "      <th>4</th>\n",
              "      <td>Odrzut natychmiastowy, kwaśna mina, mam problem</td>\n",
              "      <td>0</td>\n",
              "    </tr>\n",
              "  </tbody>\n",
              "</table>\n",
              "</div>"
            ],
            "text/plain": [
              "                                            sentence  label\n",
              "0  Dla mnie faworytem do tytułu będzie Cracovia. ...      0\n",
              "1  @anonymized_account @anonymized_account Brawo ...      0\n",
              "2  @anonymized_account @anonymized_account Super,...      0\n",
              "3  @anonymized_account @anonymized_account Musi. ...      0\n",
              "4    Odrzut natychmiastowy, kwaśna mina, mam problem      0"
            ]
          },
          "execution_count": 3,
          "metadata": {},
          "output_type": "execute_result"
        }
      ],
      "source": [
        "import pandas as pd\n",
        "\n",
        "train_path = 'data/hate_train.csv'\n",
        "\n",
        "base_df = pd.read_csv(train_path)\n",
        "base_df.head()"
      ]
    },
    {
      "cell_type": "markdown",
      "id": "c38cf67a",
      "metadata": {},
      "source": [
        "Prepare prompt function"
      ]
    },
    {
      "cell_type": "code",
      "execution_count": 4,
      "id": "dcc26c41",
      "metadata": {},
      "outputs": [],
      "source": [
        "def make_prompt(text: str, label: int | None = None) -> int:\n",
        "    prompt = f\"\"\"Jesteś modelem klasyfikującym pojedyncze polskie tweety. Zwróć cyfrę:\n",
        "- 1, jeśli tekst zawiera bezpośrednie obelgi, dehumanizację lub mowę nienawiści (skierowaną do osób/grup; np. „jesteś idiotą”, „wszyscy oni to śmiecie”),\n",
        "- 0, jeśli tekst jest neutralny, pytający, polityczny, przenośny lub opisuje zjawiska/obiekty bez ataku na człowieka.\n",
        "\n",
        "Przykłady:\n",
        "Tekst: \"poseł Halicki oburzony za Bolka. Naprawdę taki tępy czy tylko udaje idiotę?\"\n",
        "Etykieta: 1\n",
        "\n",
        "Tekst: \"RT @anonymized_account Halicki: proszę nie mówić, że marnymi 15 mld można przykryć kilka milionów...😂😂😂\"\n",
        "Etykieta: 0\n",
        "\n",
        "Tekst: \"Chyba musimy się już do grobu pakować roczniku 98 😂👌🏻\"\n",
        "Etykieta: 0\n",
        "\n",
        "Twoja kolej:\n",
        "Tekst: \"{text}\"\n",
        "Etykieta: \"\"\" + (str(label) if label is not None else \"\")\n",
        "\n",
        "    return prompt.strip()"
      ]
    },
    {
      "cell_type": "markdown",
      "id": "9c0b7dd8",
      "metadata": {},
      "source": [
        "Prepare datasets"
      ]
    },
    {
      "cell_type": "code",
      "execution_count": 5,
      "metadata": {},
      "outputs": [
        {
          "data": {
            "application/vnd.jupyter.widget-view+json": {
              "model_id": "7da1ec16a1b948088f4ee366ca0399f6",
              "version_major": 2,
              "version_minor": 0
            },
            "text/plain": [
              "Map:   0%|          | 0/8032 [00:00<?, ? examples/s]"
            ]
          },
          "metadata": {},
          "output_type": "display_data"
        },
        {
          "data": {
            "application/vnd.jupyter.widget-view+json": {
              "model_id": "5ef5126629024c589bdc725fbfbb3d7f",
              "version_major": 2,
              "version_minor": 0
            },
            "text/plain": [
              "Map:   0%|          | 0/2009 [00:00<?, ? examples/s]"
            ]
          },
          "metadata": {},
          "output_type": "display_data"
        },
        {
          "name": "stdout",
          "output_type": "stream",
          "text": [
            "Train dataset size: 8032\n",
            "Eval dataset size: 2009\n"
          ]
        }
      ],
      "source": [
        "from datasets import Dataset\n",
        "from sklearn.model_selection import train_test_split\n",
        "\n",
        "\n",
        "def prepare_dataset(path, test_size=0.2, random_state=42):\n",
        "    ds = pd.read_csv(path)\n",
        "    ds = ds.rename(columns={'sentence': 'text'})\n",
        "\n",
        "    train_df, val_df = train_test_split(ds, test_size=test_size, random_state=random_state, shuffle=True)\n",
        "    \n",
        "    train = Dataset.from_pandas(train_df.reset_index(drop=True))\n",
        "    val = Dataset.from_pandas(val_df.reset_index(drop=True))\n",
        "\n",
        "    def map_fn(row):\n",
        "        return {\n",
        "            \"text\":  make_prompt(row[\"text\"], row[\"label\"]),\n",
        "            \"raw\": row[\"text\"],\n",
        "            \"label\": row[\"label\"]\n",
        "        }\n",
        "\n",
        "    train = train.map(map_fn, remove_columns=[\"text\", \"label\"])\n",
        "    val = val.map(map_fn, remove_columns=[\"text\", \"label\"])\n",
        "\n",
        "    return train, val\n",
        "\n",
        "train_ds, eval_ds = prepare_dataset(train_path)\n",
        "\n",
        "print(f\"Train dataset size: {len(train_ds)}\")\n",
        "print(f\"Eval dataset size: {len(eval_ds)}\")"
      ]
    },
    {
      "cell_type": "code",
      "execution_count": 6,
      "id": "ed6dc3c8",
      "metadata": {},
      "outputs": [
        {
          "data": {
            "text/plain": [
              "({'text': 'Jesteś modelem klasyfikującym pojedyncze polskie tweety. Zwróć cyfrę:\\n- 1, jeśli tekst zawiera bezpośrednie obelgi, dehumanizację lub mowę nienawiści (skierowaną do osób/grup; np. „jesteś idiotą”, „wszyscy oni to śmiecie”),\\n- 0, jeśli tekst jest neutralny, pytający, polityczny, przenośny lub opisuje zjawiska/obiekty bez ataku na człowieka.\\n\\nPrzykłady:\\nTekst: \"poseł Halicki oburzony za Bolka. Naprawdę taki tępy czy tylko udaje idiotę?\"\\nEtykieta: 1\\n\\nTekst: \"RT @anonymized_account Halicki: proszę nie mówić, że marnymi 15 mld można przykryć kilka milionów...😂😂😂\"\\nEtykieta: 0\\n\\nTekst: \"Chyba musimy się już do grobu pakować roczniku 98 😂👌🏻\"\\nEtykieta: 0\\n\\nTwoja kolej:\\nTekst: \"Dzisiaj brat przyjeżdża z dziećmi na obiad wiec zrobię zupę pieczarkową a na drugie powiem tacie żeby kupił pierogi\"\\nEtykieta: 0',\n",
              "  'label': 0,\n",
              "  'raw': 'Dzisiaj brat przyjeżdża z dziećmi na obiad wiec zrobię zupę pieczarkową a na drugie powiem tacie żeby kupił pierogi'},\n",
              " {'text': 'Jesteś modelem klasyfikującym pojedyncze polskie tweety. Zwróć cyfrę:\\n- 1, jeśli tekst zawiera bezpośrednie obelgi, dehumanizację lub mowę nienawiści (skierowaną do osób/grup; np. „jesteś idiotą”, „wszyscy oni to śmiecie”),\\n- 0, jeśli tekst jest neutralny, pytający, polityczny, przenośny lub opisuje zjawiska/obiekty bez ataku na człowieka.\\n\\nPrzykłady:\\nTekst: \"poseł Halicki oburzony za Bolka. Naprawdę taki tępy czy tylko udaje idiotę?\"\\nEtykieta: 1\\n\\nTekst: \"RT @anonymized_account Halicki: proszę nie mówić, że marnymi 15 mld można przykryć kilka milionów...😂😂😂\"\\nEtykieta: 0\\n\\nTekst: \"Chyba musimy się już do grobu pakować roczniku 98 😂👌🏻\"\\nEtykieta: 0\\n\\nTwoja kolej:\\nTekst: \"LUDZIE Z BYDGOSZCZY: NAJLEPSZA RESTAURACJA? Rt jeśli chcesz pomoc ulepszyć świat\"\\nEtykieta: 0',\n",
              "  'label': 0,\n",
              "  'raw': 'LUDZIE Z BYDGOSZCZY: NAJLEPSZA RESTAURACJA? Rt jeśli chcesz pomoc ulepszyć świat'})"
            ]
          },
          "execution_count": 6,
          "metadata": {},
          "output_type": "execute_result"
        }
      ],
      "source": [
        "train_ds[0], eval_ds[0]"
      ]
    },
    {
      "cell_type": "markdown",
      "id": "876ece36",
      "metadata": {},
      "source": [
        "# Bielik"
      ]
    },
    {
      "cell_type": "markdown",
      "id": "cdf7b970",
      "metadata": {},
      "source": [
        "## Fine tune model"
      ]
    },
    {
      "cell_type": "code",
      "execution_count": 13,
      "id": "d0bf15a3",
      "metadata": {},
      "outputs": [
        {
          "data": {
            "application/vnd.jupyter.widget-view+json": {
              "model_id": "69fd253499504fe6a57d154df902139d",
              "version_major": 2,
              "version_minor": 0
            },
            "text/plain": [
              "Loading checkpoint shards:   0%|          | 0/3 [00:00<?, ?it/s]"
            ]
          },
          "metadata": {},
          "output_type": "display_data"
        }
      ],
      "source": [
        "model_name = \"speakleash/Bielik-7B-Instruct-v0.1\"\n",
        "\n",
        "bnb_config = BitsAndBytesConfig(\n",
        "    load_in_8bit=True,\n",
        ")\n",
        "\n",
        "model = AutoModelForCausalLM.from_pretrained(\n",
        "    model_name,\n",
        "    quantization_config=bnb_config,\n",
        "    device_map=\"auto\",\n",
        "    torch_dtype=torch.float16,\n",
        ")\n",
        "model.config.use_cache = False\n",
        "\n",
        "tokenizer = AutoTokenizer.from_pretrained(model_name)\n",
        "tokenizer.pad_token_id = tokenizer.eos_token_id"
      ]
    },
    {
      "cell_type": "markdown",
      "id": "47ca0b4a",
      "metadata": {},
      "source": [
        "Determine the needed context length"
      ]
    },
    {
      "cell_type": "code",
      "execution_count": 10,
      "id": "afc371d8",
      "metadata": {},
      "outputs": [
        {
          "data": {
            "image/png": "[encoded data removed]",
            "text/plain": [
              "<Figure size 640x480 with 1 Axes>"
            ]
          },
          "metadata": {},
          "output_type": "display_data"
        }
      ],
      "source": [
        "import matplotlib.pyplot as plt\n",
        "\n",
        "texts = [ex[\"text\"] for ex in eval_ds]\n",
        "lengths = [len(tokenizer(text, truncation=False)[\"input_ids\"]) for text in texts]\n",
        "\n",
        "plt.figure()\n",
        "plt.hist(lengths, bins=30)\n",
        "plt.xlabel(\"Token length\")\n",
        "plt.ylabel(\"Number of examples\")\n",
        "plt.title(\"Distribution of Tweet Token Lengths\")\n",
        "plt.show()"
      ]
    },
    {
      "cell_type": "markdown",
      "id": "2c62edd7",
      "metadata": {},
      "source": [
        "Tokenize the dataset"
      ]
    },
    {
      "cell_type": "code",
      "execution_count": 11,
      "id": "a9ff2e00",
      "metadata": {},
      "outputs": [
        {
          "data": {
            "application/vnd.jupyter.widget-view+json": {
              "model_id": "51936080dead42d087f5342d80f2aa97",
              "version_major": 2,
              "version_minor": 0
            },
            "text/plain": [
              "Map:   0%|          | 0/8032 [00:00<?, ? examples/s]"
            ]
          },
          "metadata": {},
          "output_type": "display_data"
        },
        {
          "data": {
            "application/vnd.jupyter.widget-view+json": {
              "model_id": "624a224a495f42a09f265430c52c7a75",
              "version_major": 2,
              "version_minor": 0
            },
            "text/plain": [
              "Map:   0%|          | 0/2009 [00:00<?, ? examples/s]"
            ]
          },
          "metadata": {},
          "output_type": "display_data"
        }
      ],
      "source": [
        "def tokenize_fn(ex):\n",
        "    return tokenizer(\n",
        "        ex[\"text\"],\n",
        "        truncation=True,\n",
        "        max_length=512,\n",
        "        padding=\"max_length\",\n",
        "    )\n",
        "\n",
        "tokenized_train_ds = train_ds.map(\n",
        "    tokenize_fn,\n",
        "    batched=False,\n",
        "    remove_columns=[\"text\", \"raw\"],\n",
        ")\n",
        "tokenized_eval_ds = eval_ds.map(\n",
        "    tokenize_fn,\n",
        "    batched=False,\n",
        "    remove_columns=[\"text\", \"raw\"],\n",
        ")"
      ]
    },
    {
      "cell_type": "code",
      "execution_count": 14,
      "metadata": {},
      "outputs": [
        {
          "data": {
            "application/vnd.jupyter.widget-view+json": {
              "model_id": "8f4b82e66acd4920ae0c4c7c4bb44104",
              "version_major": 2,
              "version_minor": 0
            },
            "text/plain": [
              "Truncating train dataset:   0%|          | 0/8032 [00:00<?, ? examples/s]"
            ]
          },
          "metadata": {},
          "output_type": "display_data"
        },
        {
          "data": {
            "application/vnd.jupyter.widget-view+json": {
              "model_id": "f47976168e8746c8aee032345679d748",
              "version_major": 2,
              "version_minor": 0
            },
            "text/plain": [
              "Truncating eval dataset:   0%|          | 0/2009 [00:00<?, ? examples/s]"
            ]
          },
          "metadata": {},
          "output_type": "display_data"
        },
        {
          "name": "stderr",
          "output_type": "stream",
          "text": [
            "No label_names provided for model class `PeftModelForCausalLM`. Since `PeftModel` hides base models input arguments, if label_names is not given, label_names can't be set automatically within `Trainer`. Note that empty label_names list will be used instead.\n",
            "/home/ubuntu/ssne/.venv/lib/python3.10/site-packages/bitsandbytes/autograd/_functions.py:185: UserWarning: MatMul8bitLt: inputs will be cast from torch.float32 to float16 during quantization\n",
            "  warnings.warn(f\"MatMul8bitLt: inputs will be cast from {A.dtype} to float16 during quantization\")\n"
          ]
        },
        {
          "data": {
            "text/html": [
              "\n",
              "    <div>\n",
              "      \n",
              "      <progress value='251' max='251' style='width:300px; height:20px; vertical-align: middle;'></progress>\n",
              "      [251/251 1:12:54, Epoch 1/1]\n",
              "    </div>\n",
              "    <table border=\"1\" class=\"dataframe\">\n",
              "  <thead>\n",
              " <tr style=\"text-align: left;\">\n",
              "      <th>Step</th>\n",
              "      <th>Training Loss</th>\n",
              "      <th>Validation Loss</th>\n",
              "    </tr>\n",
              "  </thead>\n",
              "  <tbody>\n",
              "    <tr>\n",
              "      <td>25</td>\n",
              "      <td>2.144000</td>\n",
              "      <td>1.661550</td>\n",
              "    </tr>\n",
              "    <tr>\n",
              "      <td>50</td>\n",
              "      <td>1.424900</td>\n",
              "      <td>1.157212</td>\n",
              "    </tr>\n",
              "    <tr>\n",
              "      <td>75</td>\n",
              "      <td>0.848100</td>\n",
              "      <td>0.537793</td>\n",
              "    </tr>\n",
              "    <tr>\n",
              "      <td>100</td>\n",
              "      <td>0.376600</td>\n",
              "      <td>0.277109</td>\n",
              "    </tr>\n",
              "    <tr>\n",
              "      <td>125</td>\n",
              "      <td>0.241800</td>\n",
              "      <td>0.222371</td>\n",
              "    </tr>\n",
              "    <tr>\n",
              "      <td>150</td>\n",
              "      <td>0.211000</td>\n",
              "      <td>0.202350</td>\n",
              "    </tr>\n",
              "    <tr>\n",
              "      <td>175</td>\n",
              "      <td>0.190900</td>\n",
              "      <td>0.193003</td>\n",
              "    </tr>\n",
              "    <tr>\n",
              "      <td>200</td>\n",
              "      <td>0.193600</td>\n",
              "      <td>0.189642</td>\n",
              "    </tr>\n",
              "    <tr>\n",
              "      <td>225</td>\n",
              "      <td>0.192600</td>\n",
              "      <td>0.188342</td>\n",
              "    </tr>\n",
              "    <tr>\n",
              "      <td>250</td>\n",
              "      <td>0.188100</td>\n",
              "      <td>0.187750</td>\n",
              "    </tr>\n",
              "  </tbody>\n",
              "</table><p>"
            ],
            "text/plain": [
              "<IPython.core.display.HTML object>"
            ]
          },
          "metadata": {},
          "output_type": "display_data"
        },
        {
          "name": "stdout",
          "output_type": "stream",
          "text": [
            "Fine-tuning complete! Model saved to bielik-hate-speech\n"
          ]
        }
      ],
      "source": [
        "output_dir = \"bielik-hate-speech\"\n",
        "epochs = 1\n",
        "batch_size = 8\n",
        "\n",
        "target_modules = [\n",
        "    name for name, module in model.named_modules()\n",
        "    if isinstance(module, bnb.nn.Linear4bit)\n",
        "]\n",
        "\n",
        "peft_config = LoraConfig(\n",
        "    task_type=\"CAUSAL_LM\",\n",
        "    r=8,\n",
        "    lora_alpha=16,\n",
        "    lora_dropout=0.05,\n",
        "    bias=\"none\",\n",
        ")\n",
        "\n",
        "training_args = TrainingArguments(\n",
        "    output_dir=output_dir,\n",
        "    num_train_epochs=epochs,\n",
        "    per_device_train_batch_size=batch_size,\n",
        "    gradient_accumulation_steps=4,\n",
        "    learning_rate=2e-5,\n",
        "    optim=\"paged_adamw_32bit\",\n",
        "    fp16=True,\n",
        "    eval_strategy=\"steps\",\n",
        "    eval_steps=25,\n",
        "    logging_steps=25,\n",
        "    save_total_limit=2,\n",
        ")\n",
        "\n",
        "trainer = SFTTrainer(\n",
        "    model=model,\n",
        "    args=training_args,\n",
        "    train_dataset=tokenized_train_ds,\n",
        "    eval_dataset=tokenized_eval_ds,\n",
        "    peft_config=peft_config\n",
        ")\n",
        "trainer.train()\n",
        "trainer.save_model(output_dir)\n",
        "tokenizer.save_pretrained(output_dir)\n",
        "print(f\"Fine-tuning complete! Model saved to {output_dir}\")"
      ]
    },
    {
      "cell_type": "markdown",
      "id": "c0b2817e",
      "metadata": {},
      "source": [
        "## Evaluation"
      ]
    },
    {
      "cell_type": "markdown",
      "id": "7bf1f17d",
      "metadata": {},
      "source": [
        "Generate predictions for the evaluation set"
      ]
    },
    {
      "cell_type": "code",
      "execution_count": 16,
      "id": "adf38dc8",
      "metadata": {},
      "outputs": [
        {
          "name": "stderr",
          "output_type": "stream",
          "text": [
            "  0%|          | 0/126 [00:00<?, ?it/s]"
          ]
        },
        {
          "name": "stderr",
          "output_type": "stream",
          "text": [
            "/home/ubuntu/ssne/.venv/lib/python3.10/site-packages/bitsandbytes/autograd/_functions.py:185: UserWarning: MatMul8bitLt: inputs will be cast from torch.float32 to float16 during quantization\n",
            "  warnings.warn(f\"MatMul8bitLt: inputs will be cast from {A.dtype} to float16 during quantization\")\n",
            "100%|██████████| 126/126 [04:57<00:00,  2.36s/it]\n"
          ]
        }
      ],
      "source": [
        "from tqdm import tqdm\n",
        "\n",
        "BATCH_SIZE = 16\n",
        "\n",
        "texts   = [ex[\"raw\"] for ex in eval_ds]\n",
        "prompts = [make_prompt(t) for t in texts]\n",
        "\n",
        "model.eval()\n",
        "device = model.device\n",
        "\n",
        "y_pred = []\n",
        "with torch.no_grad():\n",
        "    for i in tqdm(range(0, len(prompts), BATCH_SIZE)):\n",
        "        chunk = prompts[i : i + BATCH_SIZE]\n",
        "        enc = tokenizer(chunk, return_tensors=\"pt\", padding=True, truncation=True, max_length=512).to(device)\n",
        "\n",
        "        outs = model.generate(\n",
        "            **enc,\n",
        "            max_new_tokens=4,\n",
        "            do_sample=False,\n",
        "            pad_token_id=tokenizer.eos_token_id,\n",
        "        )\n",
        "\n",
        "        decoded = tokenizer.batch_decode(outs, skip_special_tokens=True)\n",
        "        for dec, prom in zip(decoded, chunk):\n",
        "            gen = dec[len(prom):].strip()\n",
        "            y_pred.append(int(gen[0]) if gen and gen[0] in (\"0\",\"1\") else 0)\n",
        "\n",
        "        torch.cuda.empty_cache()\n",
        "\n",
        "y_true = [int(ex[\"label\"]) for ex in eval_ds]"
      ]
    },
    {
      "cell_type": "markdown",
      "id": "84d4c7f6",
      "metadata": {},
      "source": [
        "Print the classification report"
      ]
    },
    {
      "cell_type": "code",
      "execution_count": 17,
      "id": "092cf53b",
      "metadata": {},
      "outputs": [
        {
          "name": "stdout",
          "output_type": "stream",
          "text": [
            "              precision    recall  f1-score   support\n",
            "\n",
            "    non-hate     0.9385    0.8951    0.9163      1840\n",
            "        hate     0.2402    0.3609    0.2884       169\n",
            "\n",
            "    accuracy                         0.8502      2009\n",
            "   macro avg     0.5893    0.6280    0.6023      2009\n",
            "weighted avg     0.8797    0.8502    0.8635      2009\n",
            "\n"
          ]
        }
      ],
      "source": [
        "from sklearn.metrics import classification_report\n",
        "\n",
        "cr = classification_report(y_true, y_pred, target_names=[\"non-hate\",\"hate\"], digits=4)\n",
        "print(cr)"
      ]
    },
    {
      "cell_type": "markdown",
      "id": "802556a9",
      "metadata": {},
      "source": [
        "Plot the confusion matrix"
      ]
    },
    {
      "cell_type": "code",
      "execution_count": 18,
      "id": "e8988d1f",
      "metadata": {},
      "outputs": [
        {
          "data": {
            "image/png": "[encoded data removed]",
            "text/plain": [
              "<Figure size 640x480 with 2 Axes>"
            ]
          },
          "metadata": {},
          "output_type": "display_data"
        }
      ],
      "source": [
        "import matplotlib.pyplot as plt\n",
        "from sklearn.metrics import confusion_matrix, ConfusionMatrixDisplay\n",
        "\n",
        "cm = confusion_matrix(y_true, y_pred)\n",
        "\n",
        "fig, ax = plt.subplots()\n",
        "disp = ConfusionMatrixDisplay(confusion_matrix=cm, display_labels=[\"non-hate\", \"hate\"])\n",
        "disp.plot(ax=ax, cmap=plt.cm.Blues)\n",
        "ax.set_title(\"Confusion Matrix\")\n",
        "plt.show()"
      ]
    },
    {
      "cell_type": "markdown",
      "id": "90082348",
      "metadata": {},
      "source": [
        "Print examples of misclassified samples"
      ]
    },
    {
      "cell_type": "code",
      "execution_count": 19,
      "id": "13883096",
      "metadata": {},
      "outputs": [
        {
          "name": "stdout",
          "output_type": "stream",
          "text": [
            "Example 1\n",
            "Text:       @anonymized_account @anonymized_account Czyli tylko dlatego nie napiszesz o konkretach 😂 dziękujemy łaskawco inaczej bylibyśmy już pogrążeni\n",
            "Predicted:  0\n",
            "True:       1\n",
            "------------------------------------------------------------\n",
            "Example 2\n",
            "Text:       @anonymized_account Urban powinien się od was uczyć. Jesteście żenujące gnojki. Aż przykro patrzeć.\n",
            "Predicted:  0\n",
            "True:       1\n",
            "------------------------------------------------------------\n",
            "Example 3\n",
            "Text:       @anonymized_account A ile razy więcej niż na miesięcznicy?\\n\\nKretyńskie porównania...\n",
            "Predicted:  1\n",
            "True:       0\n",
            "------------------------------------------------------------\n",
            "Example 4\n",
            "Text:       @anonymized_account @anonymized_account @anonymized_account Uważaj, bo zaraz się Tobą zajmę i na pewno się coś znajdzie! :)\n",
            "Predicted:  1\n",
            "True:       0\n",
            "------------------------------------------------------------\n",
            "Example 5\n",
            "Text:       @anonymized_account hehe niech uważa bo jeszcze ktoś uwierzy że będzie stawiał na wychowanki\n",
            "Predicted:  0\n",
            "True:       1\n",
            "------------------------------------------------------------\n",
            "Example 6\n",
            "Text:       @anonymized_account Widocznie maja boskie wsparcie a Pani pozostalo tylko parcie na szklo i w WC. Oba przynosza ten sam efekt\n",
            "Predicted:  1\n",
            "True:       0\n",
            "------------------------------------------------------------\n",
            "Example 7\n",
            "Text:       @anonymized_account Żołnierze i żołnierki, wszystko pięknię, kwiaty a tu bach @anonymized_account\n",
            "Predicted:  1\n",
            "True:       0\n",
            "------------------------------------------------------------\n",
            "Example 8\n",
            "Text:       @anonymized_account Jesteś na urlopie, czy dalej doisz państwo na propagandę PiSu?\n",
            "Predicted:  0\n",
            "True:       1\n",
            "------------------------------------------------------------\n",
            "Example 9\n",
            "Text:       RT @anonymized_account @anonymized_account @anonymized_account Leczyć można z chorób - nie ze stanu umysłowego IQ :)\n",
            "Predicted:  0\n",
            "True:       1\n",
            "------------------------------------------------------------\n",
            "Example 10\n",
            "Text:       @anonymized_account No przecież, a osoby lgbt w ogóle nie korzystają z komunikacji miejskiej no nie, wiec oni nie są już pasażerami :) parodia\n",
            "Predicted:  1\n",
            "True:       0\n",
            "------------------------------------------------------------\n"
          ]
        }
      ],
      "source": [
        "count = 0\n",
        "for text, true, pred in zip(texts, y_true, y_pred):\n",
        "    if true != pred:\n",
        "        count += 1\n",
        "        print(f\"Example {count}\")\n",
        "        print(\"Text:      \", text)\n",
        "        print(\"Predicted: \", pred)\n",
        "        print(\"True:      \", true)\n",
        "        print(\"-\" * 60)\n",
        "        if count >= 10:\n",
        "            break"
      ]
    },
    {
      "cell_type": "markdown",
      "id": "174e8677",
      "metadata": {},
      "source": [
        "# Bert"
      ]
    },
    {
      "cell_type": "markdown",
      "id": "4d67b394",
      "metadata": {},
      "source": [
        "## Prepare the model"
      ]
    },
    {
      "cell_type": "markdown",
      "id": "a886cd5a",
      "metadata": {},
      "source": [
        "## Evaluate"
      ]
    },
    {
      "cell_type": "markdown",
      "id": "483c022d",
      "metadata": {},
      "source": [
        "## Save the results"
      ]
    },
    {
      "cell_type": "code",
      "execution_count": null,
      "id": "4443a006",
      "metadata": {},
      "outputs": [
        {
          "data": {
            "text/html": [
              "<div>\n",
              "<style scoped>\n",
              "    .dataframe tbody tr th:only-of-type {\n",
              "        vertical-align: middle;\n",
              "    }\n",
              "\n",
              "    .dataframe tbody tr th {\n",
              "        vertical-align: top;\n",
              "    }\n",
              "\n",
              "    .dataframe thead th {\n",
              "        text-align: right;\n",
              "    }\n",
              "</style>\n",
              "<table border=\"1\" class=\"dataframe\">\n",
              "  <thead>\n",
              "    <tr style=\"text-align: right;\">\n",
              "      <th></th>\n",
              "      <th>sentence</th>\n",
              "    </tr>\n",
              "  </thead>\n",
              "  <tbody>\n",
              "    <tr>\n",
              "      <th>0</th>\n",
              "      <td>@anonymized_account Spoko, jak im Duda z Moraw...</td>\n",
              "    </tr>\n",
              "    <tr>\n",
              "      <th>1</th>\n",
              "      <td>@anonymized_account @anonymized_account Ale on...</td>\n",
              "    </tr>\n",
              "    <tr>\n",
              "      <th>2</th>\n",
              "      <td>@anonymized_account No czy Prezes nie miał rac...</td>\n",
              "    </tr>\n",
              "    <tr>\n",
              "      <th>3</th>\n",
              "      <td>@anonymized_account @anonymized_account Przeci...</td>\n",
              "    </tr>\n",
              "    <tr>\n",
              "      <th>4</th>\n",
              "      <td>@anonymized_account @anonymized_account Owszem...</td>\n",
              "    </tr>\n",
              "  </tbody>\n",
              "</table>\n",
              "</div>"
            ],
            "text/plain": [
              "                                            sentence\n",
              "0  @anonymized_account Spoko, jak im Duda z Moraw...\n",
              "1  @anonymized_account @anonymized_account Ale on...\n",
              "2  @anonymized_account No czy Prezes nie miał rac...\n",
              "3  @anonymized_account @anonymized_account Przeci...\n",
              "4  @anonymized_account @anonymized_account Owszem..."
            ]
          },
          "metadata": {},
          "output_type": "display_data"
        }
      ],
      "source": [
        "test_path = 'data/hate_test_data.txt'\n",
        "\n",
        "with open(test_path, encoding='utf-8') as f:\n",
        "    lines = [line.strip() for line in f if line.strip()]\n",
        "\n",
        "test_df = pd.DataFrame(lines, columns=['sentence'])\n",
        "test_df.head()"
      ]
    },
    {
      "cell_type": "code",
      "execution_count": null,
      "id": "35edbe4e",
      "metadata": {},
      "outputs": [
        {
          "data": {
            "application/vnd.jupyter.widget-view+json": {
              "model_id": "af26c035a2b14dd1a8cdac43e6e2e197",
              "version_major": 2,
              "version_minor": 0
            },
            "text/plain": [
              "Map:   0%|          | 0/1000 [00:00<?, ? examples/s]"
            ]
          },
          "metadata": {},
          "output_type": "display_data"
        }
      ],
      "source": [
        "tokenized_test_ds = Dataset.from_pandas(test_df).map(tokenize_fn, batched=False)"
      ]
    },
    {
      "cell_type": "code",
      "execution_count": null,
      "id": "3f077057",
      "metadata": {},
      "outputs": [],
      "source": [
        "import numpy as np\n",
        "import torch\n",
        "from sklearn.metrics import accuracy_score, classification_report\n",
        "\n",
        "pred_output = trainer.predict(tokenized_test_ds)\n",
        "logits      = pred_output.predictions\n",
        "y_true      = pred_output.label_ids\n",
        "\n",
        "logits_stable = logits - logits.max(axis=1, keepdims=True)\n",
        "exp_logits   = np.exp(logits_stable)\n",
        "probs        = exp_logits[:,1] / exp_logits.sum(axis=1)\n",
        "\n",
        "thr = 0.93\n",
        "\n",
        "y_pred_thr = (probs > thr).astype(int)\n",
        "\n",
        "output_dir = \"pred.csv\"\n",
        "\n",
        "output_df = pd.DataFrame({\"predicted\": y_pred_thr})\n",
        "output_df.to_csv(output_dir, index=False, header=False)"
      ]
    },
    {
      "cell_type": "code",
      "execution_count": null,
      "id": "9f5bc64e",
      "metadata": {},
      "outputs": [],
      "source": [
        "import numpy as np\n",
        "\n",
        "pred_output = trainer.predict(tokenized_eval_ds)\n",
        "\n",
        "logits = pred_output.predictions\n",
        "y_pred = np.argmax(logits, axis=-1)\n",
        "y_true = pred_output.label_ids"
      ]
    },
    {
      "cell_type": "markdown",
      "id": "fef178dc",
      "metadata": {},
      "source": [
        "Print the classification report"
      ]
    },
    {
      "cell_type": "code",
      "execution_count": null,
      "id": "dacdb492",
      "metadata": {},
      "outputs": [
        {
          "name": "stdout",
          "output_type": "stream",
          "text": [
            "              precision    recall  f1-score   support\n",
            "\n",
            "    non-hate     0.9594    0.9630    0.9612      1839\n",
            "        hate     0.5828    0.5588    0.5706       170\n",
            "\n",
            "    accuracy                         0.9288      2009\n",
            "   macro avg     0.7711    0.7609    0.7659      2009\n",
            "weighted avg     0.9275    0.9288    0.9281      2009\n",
            "\n"
          ]
        }
      ],
      "source": [
        "from sklearn.metrics import classification_report\n",
        "\n",
        "cr = classification_report(y_true, y_pred, target_names=[\"non-hate\",\"hate\"], digits=4)\n",
        "print(cr)"
      ]
    },
    {
      "cell_type": "markdown",
      "id": "7ccd8fa4",
      "metadata": {},
      "source": [
        "Plot the confusion matrix"
      ]
    },
    {
      "cell_type": "code",
      "execution_count": null,
      "id": "c5526d20",
      "metadata": {},
      "outputs": [
        {
          "data": {
            "image/png": "[encoded data removed]",
            "text/plain": [
              "<Figure size 640x480 with 2 Axes>"
            ]
          },
          "metadata": {},
          "output_type": "display_data"
        }
      ],
      "source": [
        "import matplotlib.pyplot as plt\n",
        "from sklearn.metrics import confusion_matrix, ConfusionMatrixDisplay\n",
        "\n",
        "cm = confusion_matrix(y_true, y_pred)\n",
        "\n",
        "fig, ax = plt.subplots()\n",
        "disp = ConfusionMatrixDisplay(confusion_matrix=cm, display_labels=[\"non-hate\", \"hate\"])\n",
        "disp.plot(ax=ax, cmap=plt.cm.Blues)\n",
        "ax.set_title(\"Confusion Matrix\")\n",
        "plt.show()"
      ]
    },
    {
      "cell_type": "markdown",
      "id": "3f8bafca",
      "metadata": {},
      "source": [
        "Acc per threshold"
      ]
    },
    {
      "cell_type": "code",
      "execution_count": null,
      "id": "5888e11d",
      "metadata": {},
      "outputs": [
        {
          "data": {
            "image/png": "[encoded data removed]",
            "text/plain": [
              "<Figure size 640x480 with 1 Axes>"
            ]
          },
          "metadata": {},
          "output_type": "display_data"
        },
        {
          "name": "stdout",
          "output_type": "stream",
          "text": [
            "Najlepszy próg decyzyjny: 0.93\n",
            "Najlepsza dokładność ogólna: 0.9362867098058736\n"
          ]
        }
      ],
      "source": [
        "logits_stable = logits - np.max(logits, axis=1, keepdims=True)\n",
        "exp_logits = np.exp(logits_stable)\n",
        "probs = exp_logits[:, 1] / exp_logits.sum(axis=1)\n",
        " \n",
        "thresholds = np.linspace(0, 1, 101)\n",
        "acc0_list = []\n",
        "acc1_list = []\n",
        "acc_overall = []\n",
        "\n",
        "for thr in thresholds:\n",
        "    preds_thr = (probs > thr).astype(int)\n",
        "\n",
        "    mask0 = (y_true == 0)\n",
        "    mask1 = (y_true == 1)\n",
        "\n",
        "    acc0_list.append((preds_thr[mask0] == 0).mean())\n",
        "    acc1_list.append((preds_thr[mask1] == 1).mean())\n",
        "    acc_overall.append((preds_thr == y_true).mean())\n",
        "\n",
        "plt.plot(thresholds, acc0_list,   label=\"Acc klasy 0 (non-hate)\")\n",
        "plt.plot(thresholds, acc1_list,   label=\"Acc klasy 1 (hate)\")\n",
        "plt.plot(thresholds, acc_overall, label=\"Accuracy ogólna\")\n",
        "\n",
        "plt.xlabel(\"Próg decyzyjny\")\n",
        "plt.ylabel(\"Accuracy\")\n",
        "plt.title(\"Accuracy vs. Threshold dla każdej klasy i ogólna\")\n",
        "plt.legend()\n",
        "plt.grid(True)\n",
        "plt.show()\n",
        "\n",
        "print(\"Najlepszy próg decyzyjny:\", thresholds[np.argmax(acc_overall)])\n",
        "print(\"Najlepsza dokładność ogólna:\", max(acc_overall))"
      ]
    },
    {
      "cell_type": "markdown",
      "id": "65177050",
      "metadata": {},
      "source": [
        "Print examples of misclassified samples"
      ]
    },
    {
      "cell_type": "code",
      "execution_count": null,
      "id": "d33c383f",
      "metadata": {},
      "outputs": [
        {
          "name": "stdout",
          "output_type": "stream",
          "text": [
            "Example 1\n",
            "Text:       Jarkacz boi się o odbyt, nie chce iść do ciupy, zrobi wszystko, nasi rodacy jednak to kupią\n",
            "Predicted:  1\n",
            "True:       0\n",
            "------------------------------------------------------------\n",
            "Example 2\n",
            "Text:       RT @anonymized_account @anonymized_account w politykę to sie bawi Pierwsza Prezes SN....nie zauważyła Pani????\n",
            "Predicted:  0\n",
            "True:       1\n",
            "------------------------------------------------------------\n",
            "Example 3\n",
            "Text:       Żolnierz żolnierza w dupę nawet tego wyklętego, ja jebię, chory kraj\n",
            "Predicted:  0\n",
            "True:       1\n",
            "------------------------------------------------------------\n",
            "Example 4\n",
            "Text:       @anonymized_account @anonymized_account lepiej napisać że dostali wpierdol.A nie, bo ludzie którzy dostali po ryju by się mogli głupio poczuć.\n",
            "Predicted:  0\n",
            "True:       1\n",
            "------------------------------------------------------------\n",
            "Example 5\n",
            "Text:       @anonymized_account co ty ćpasz chłopie ?\n",
            "Predicted:  1\n",
            "True:       0\n",
            "------------------------------------------------------------\n",
            "Example 6\n",
            "Text:       @anonymized_account @anonymized_account @anonymized_account @anonymized_account Przecież do debil o skończony tuman. Szkoda czasu na komentowanie jego bredni.\n",
            "Predicted:  1\n",
            "True:       0\n",
            "------------------------------------------------------------\n",
            "Example 7\n",
            "Text:       @anonymized_account Musi być pierwszy w okopie, nie straszne mu bombardowania, zuch\n",
            "Predicted:  0\n",
            "True:       1\n",
            "------------------------------------------------------------\n",
            "Example 8\n",
            "Text:       @anonymized_account Mistrz od wkurwiania się odezwał, bot roku 2015, 2016, 2917,2018,2019 ....\n",
            "Predicted:  0\n",
            "True:       1\n",
            "------------------------------------------------------------\n",
            "Example 9\n",
            "Text:       @anonymized_account @anonymized_account @anonymized_account Ktoś go urządził pod siebie, nie pod Panią.\n",
            "Predicted:  1\n",
            "True:       0\n",
            "------------------------------------------------------------\n",
            "Example 10\n",
            "Text:       @anonymized_account @anonymized_account A w mieście Łodzi ciemnogród. Ciemnota że ręce opadają.Jak długo jeszcze??\n",
            "Predicted:  0\n",
            "True:       1\n",
            "------------------------------------------------------------\n"
          ]
        }
      ],
      "source": [
        "count = 0\n",
        "texts = eval_df['sentence'].tolist()\n",
        "\n",
        "for text, true, pred in zip(texts, y_true, y_pred):\n",
        "    if true != pred:\n",
        "        count += 1\n",
        "        print(f\"Example {count}\")\n",
        "        print(\"Text:      \", text)\n",
        "        print(\"Predicted: \", pred)\n",
        "        print(\"True:      \", true)\n",
        "        print(\"-\" * 60)\n",
        "        if count >= 10:\n",
        "            break"
      ]
    },
    {
      "cell_type": "markdown",
      "id": "aaccad1a",
      "metadata": {},
      "source": [
        "Load the model"
      ]
    },
    {
      "cell_type": "code",
      "execution_count": null,
      "id": "7f9cf469",
      "metadata": {},
      "outputs": [
        {
          "name": "stderr",
          "output_type": "stream",
          "text": [
            "Some weights of BertForSequenceClassification were not initialized from the model checkpoint at allegro/herbert-large-cased and are newly initialized: ['classifier.bias', 'classifier.weight']\n",
            "You should probably TRAIN this model on a down-stream task to be able to use it for predictions and inference.\n"
          ]
        }
      ],
      "source": [
        "from transformers import AutoTokenizer, AutoModelForSequenceClassification\n",
        "\n",
        "# model_name = \"dkleczek/bert-base-polish-uncased-v1\"\n",
        "model_name = \"allegro/herbert-large-cased\"\n",
        "# model_name=\"deepsense-ai/trelbert\"\n",
        "tokenizer = AutoTokenizer.from_pretrained(model_name)\n",
        "model = AutoModelForSequenceClassification.from_pretrained(\n",
        "    model_name,\n",
        "    num_labels=2\n",
        ")"
      ]
    },
    {
      "cell_type": "code",
      "execution_count": null,
      "id": "aa614f7c",
      "metadata": {},
      "outputs": [],
      "source": [
        "# special_tokens_dict = {\n",
        "#     \"additional_special_tokens\": [\"[USER]\", \"[URL]\"]\n",
        "# }\n",
        "\n",
        "# tokenizer.add_special_tokens(special_tokens_dict)\n",
        "# model.resize_token_embeddings(len(tokenizer))"
      ]
    },
    {
      "cell_type": "markdown",
      "id": "3b0d963a",
      "metadata": {},
      "source": [
        "Tokenize the datasets"
      ]
    },
    {
      "cell_type": "code",
      "execution_count": null,
      "id": "9f62c834",
      "metadata": {},
      "outputs": [
        {
          "data": {
            "application/vnd.jupyter.widget-view+json": {
              "model_id": "6893c595b5ff412c862d085b07e5fb0f",
              "version_major": 2,
              "version_minor": 0
            },
            "text/plain": [
              "Map:   0%|          | 0/8032 [00:00<?, ? examples/s]"
            ]
          },
          "metadata": {},
          "output_type": "display_data"
        },
        {
          "data": {
            "application/vnd.jupyter.widget-view+json": {
              "model_id": "0c977ee950d3402aa1f60f92e57e8026",
              "version_major": 2,
              "version_minor": 0
            },
            "text/plain": [
              "Map:   0%|          | 0/2009 [00:00<?, ? examples/s]"
            ]
          },
          "metadata": {},
          "output_type": "display_data"
        }
      ],
      "source": [
        "from transformers.data.data_collator import DataCollatorWithPadding\n",
        "\n",
        "def tokenize_fn(row):\n",
        "    return tokenizer(row['sentence'], truncation=True, max_length=128)\n",
        "\n",
        "\n",
        "tokenized_train_ds = train_ds.map(tokenize_fn, batched=True)\n",
        "tokenized_eval_ds = eval_ds.map(tokenize_fn, batched=True)\n",
        "\n",
        "data_collator = DataCollatorWithPadding(tokenizer)"
      ]
    },
    {
      "cell_type": "markdown",
      "id": "cb8ea01f",
      "metadata": {},
      "source": [
        "Perform the training"
      ]
    },
    {
      "cell_type": "code",
      "execution_count": null,
      "id": "1e71f97e",
      "metadata": {},
      "outputs": [
        {
          "data": {
            "text/html": [
              "\n",
              "    <div>\n",
              "      \n",
              "      <progress value='528' max='630' style='width:300px; height:20px; vertical-align: middle;'></progress>\n",
              "      [528/630 04:38 < 00:54, 1.89 it/s, Epoch 4.18/5]\n",
              "    </div>\n",
              "    <table border=\"1\" class=\"dataframe\">\n",
              "  <thead>\n",
              " <tr style=\"text-align: left;\">\n",
              "      <th>Step</th>\n",
              "      <th>Training Loss</th>\n",
              "      <th>Validation Loss</th>\n",
              "      <th>Accuracy</th>\n",
              "      <th>Acc 0</th>\n",
              "      <th>Acc 1</th>\n",
              "      <th>Avg Acc</th>\n",
              "    </tr>\n",
              "  </thead>\n",
              "  <tbody>\n",
              "    <tr>\n",
              "      <td>50</td>\n",
              "      <td>0.632800</td>\n",
              "      <td>0.495032</td>\n",
              "      <td>0.915381</td>\n",
              "      <td>1.000000</td>\n",
              "      <td>0.000000</td>\n",
              "      <td>0.500000</td>\n",
              "    </tr>\n",
              "    <tr>\n",
              "      <td>100</td>\n",
              "      <td>0.456100</td>\n",
              "      <td>0.391562</td>\n",
              "      <td>0.927327</td>\n",
              "      <td>0.986406</td>\n",
              "      <td>0.288235</td>\n",
              "      <td>0.637320</td>\n",
              "    </tr>\n",
              "    <tr>\n",
              "      <td>150</td>\n",
              "      <td>0.374100</td>\n",
              "      <td>0.385690</td>\n",
              "      <td>0.924340</td>\n",
              "      <td>0.964111</td>\n",
              "      <td>0.494118</td>\n",
              "      <td>0.729114</td>\n",
              "    </tr>\n",
              "    <tr>\n",
              "      <td>200</td>\n",
              "      <td>0.363700</td>\n",
              "      <td>0.363920</td>\n",
              "      <td>0.908910</td>\n",
              "      <td>0.933660</td>\n",
              "      <td>0.641176</td>\n",
              "      <td>0.787418</td>\n",
              "    </tr>\n",
              "    <tr>\n",
              "      <td>250</td>\n",
              "      <td>0.351600</td>\n",
              "      <td>0.361332</td>\n",
              "      <td>0.928820</td>\n",
              "      <td>0.966830</td>\n",
              "      <td>0.517647</td>\n",
              "      <td>0.742238</td>\n",
              "    </tr>\n",
              "    <tr>\n",
              "      <td>300</td>\n",
              "      <td>0.303900</td>\n",
              "      <td>0.377715</td>\n",
              "      <td>0.929816</td>\n",
              "      <td>0.961392</td>\n",
              "      <td>0.588235</td>\n",
              "      <td>0.774814</td>\n",
              "    </tr>\n",
              "    <tr>\n",
              "      <td>350</td>\n",
              "      <td>0.292000</td>\n",
              "      <td>0.400018</td>\n",
              "      <td>0.910403</td>\n",
              "      <td>0.929309</td>\n",
              "      <td>0.705882</td>\n",
              "      <td>0.817596</td>\n",
              "    </tr>\n",
              "    <tr>\n",
              "      <td>400</td>\n",
              "      <td>0.274200</td>\n",
              "      <td>0.411959</td>\n",
              "      <td>0.925336</td>\n",
              "      <td>0.954867</td>\n",
              "      <td>0.605882</td>\n",
              "      <td>0.780375</td>\n",
              "    </tr>\n",
              "    <tr>\n",
              "      <td>450</td>\n",
              "      <td>0.252300</td>\n",
              "      <td>0.418278</td>\n",
              "      <td>0.919363</td>\n",
              "      <td>0.941816</td>\n",
              "      <td>0.676471</td>\n",
              "      <td>0.809143</td>\n",
              "    </tr>\n",
              "    <tr>\n",
              "      <td>500</td>\n",
              "      <td>0.260100</td>\n",
              "      <td>0.409480</td>\n",
              "      <td>0.929318</td>\n",
              "      <td>0.963567</td>\n",
              "      <td>0.558824</td>\n",
              "      <td>0.761195</td>\n",
              "    </tr>\n",
              "  </tbody>\n",
              "</table><p>\n",
              "    <div>\n",
              "      \n",
              "      <progress value='16' max='16' style='width:300px; height:20px; vertical-align: middle;'></progress>\n",
              "      [16/16 00:01]\n",
              "    </div>\n",
              "    "
            ],
            "text/plain": [
              "<IPython.core.display.HTML object>"
            ]
          },
          "metadata": {},
          "output_type": "display_data"
        },
        {
          "ename": "KeyboardInterrupt",
          "evalue": "",
          "output_type": "error",
          "traceback": [
            "\u001b[0;31m---------------------------------------------------------------------------\u001b[0m\n",
            "\u001b[0;31mKeyboardInterrupt\u001b[0m                         Traceback (most recent call last)\n",
            "Cell \u001b[0;32mIn[9], line 88\u001b[0m\n",
            "\u001b[1;32m     61\u001b[0m training_args \u001b[38;5;241m=\u001b[39m TrainingArguments(\n",
            "\u001b[1;32m     62\u001b[0m     output_dir\u001b[38;5;241m=\u001b[39m\u001b[38;5;124m\"\u001b[39m\u001b[38;5;124m./results\u001b[39m\u001b[38;5;124m\"\u001b[39m,\n",
            "\u001b[1;32m     63\u001b[0m     eval_strategy\u001b[38;5;241m=\u001b[39m\u001b[38;5;124m\"\u001b[39m\u001b[38;5;124msteps\u001b[39m\u001b[38;5;124m\"\u001b[39m,\n",
            "\u001b[0;32m   (...)\u001b[0m\n",
            "\u001b[1;32m     74\u001b[0m     metric_for_best_model\u001b[38;5;241m=\u001b[39m\u001b[38;5;124m\"\u001b[39m\u001b[38;5;124maccuracy\u001b[39m\u001b[38;5;124m\"\u001b[39m\n",
            "\u001b[1;32m     75\u001b[0m )\n",
            "\u001b[1;32m     77\u001b[0m trainer \u001b[38;5;241m=\u001b[39m Trainer(\n",
            "\u001b[1;32m     78\u001b[0m     model\u001b[38;5;241m=\u001b[39mmodel,\n",
            "\u001b[1;32m     79\u001b[0m     args\u001b[38;5;241m=\u001b[39mtraining_args,\n",
            "\u001b[0;32m   (...)\u001b[0m\n",
            "\u001b[1;32m     85\u001b[0m     compute_metrics\u001b[38;5;241m=\u001b[39mcompute_metrics\n",
            "\u001b[1;32m     86\u001b[0m )\n",
            "\u001b[0;32m---> 88\u001b[0m \u001b[43mtrainer\u001b[49m\u001b[38;5;241;43m.\u001b[39;49m\u001b[43mtrain\u001b[49m\u001b[43m(\u001b[49m\u001b[43m)\u001b[49m\n",
            "\n",
            "File \u001b[0;32m~/ssne/.venv/lib/python3.10/site-packages/transformers/trainer.py:2240\u001b[0m, in \u001b[0;36mTrainer.train\u001b[0;34m(self, resume_from_checkpoint, trial, ignore_keys_for_eval, **kwargs)\u001b[0m\n",
            "\u001b[1;32m   2238\u001b[0m         hf_hub_utils\u001b[38;5;241m.\u001b[39menable_progress_bars()\n",
            "\u001b[1;32m   2239\u001b[0m \u001b[38;5;28;01melse\u001b[39;00m:\n",
            "\u001b[0;32m-> 2240\u001b[0m     \u001b[38;5;28;01mreturn\u001b[39;00m \u001b[43minner_training_loop\u001b[49m\u001b[43m(\u001b[49m\n",
            "\u001b[1;32m   2241\u001b[0m \u001b[43m        \u001b[49m\u001b[43margs\u001b[49m\u001b[38;5;241;43m=\u001b[39;49m\u001b[43margs\u001b[49m\u001b[43m,\u001b[49m\n",
            "\u001b[1;32m   2242\u001b[0m \u001b[43m        \u001b[49m\u001b[43mresume_from_checkpoint\u001b[49m\u001b[38;5;241;43m=\u001b[39;49m\u001b[43mresume_from_checkpoint\u001b[49m\u001b[43m,\u001b[49m\n",
            "\u001b[1;32m   2243\u001b[0m \u001b[43m        \u001b[49m\u001b[43mtrial\u001b[49m\u001b[38;5;241;43m=\u001b[39;49m\u001b[43mtrial\u001b[49m\u001b[43m,\u001b[49m\n",
            "\u001b[1;32m   2244\u001b[0m \u001b[43m        \u001b[49m\u001b[43mignore_keys_for_eval\u001b[49m\u001b[38;5;241;43m=\u001b[39;49m\u001b[43mignore_keys_for_eval\u001b[49m\u001b[43m,\u001b[49m\n",
            "\u001b[1;32m   2245\u001b[0m \u001b[43m    \u001b[49m\u001b[43m)\u001b[49m\n",
            "\n",
            "File \u001b[0;32m~/ssne/.venv/lib/python3.10/site-packages/transformers/trainer.py:2560\u001b[0m, in \u001b[0;36mTrainer._inner_training_loop\u001b[0;34m(self, batch_size, args, resume_from_checkpoint, trial, ignore_keys_for_eval)\u001b[0m\n",
            "\u001b[1;32m   2554\u001b[0m \u001b[38;5;28;01mwith\u001b[39;00m context():\n",
            "\u001b[1;32m   2555\u001b[0m     tr_loss_step \u001b[38;5;241m=\u001b[39m \u001b[38;5;28mself\u001b[39m\u001b[38;5;241m.\u001b[39mtraining_step(model, inputs, num_items_in_batch)\n",
            "\u001b[1;32m   2557\u001b[0m \u001b[38;5;28;01mif\u001b[39;00m (\n",
            "\u001b[1;32m   2558\u001b[0m     args\u001b[38;5;241m.\u001b[39mlogging_nan_inf_filter\n",
            "\u001b[1;32m   2559\u001b[0m     \u001b[38;5;129;01mand\u001b[39;00m \u001b[38;5;129;01mnot\u001b[39;00m is_torch_xla_available()\n",
            "\u001b[0;32m-> 2560\u001b[0m     \u001b[38;5;129;01mand\u001b[39;00m (torch\u001b[38;5;241m.\u001b[39misnan(tr_loss_step) \u001b[38;5;129;01mor\u001b[39;00m \u001b[43mtorch\u001b[49m\u001b[38;5;241;43m.\u001b[39;49m\u001b[43misinf\u001b[49m\u001b[43m(\u001b[49m\u001b[43mtr_loss_step\u001b[49m\u001b[43m)\u001b[49m)\n",
            "\u001b[1;32m   2561\u001b[0m ):\n",
            "\u001b[1;32m   2562\u001b[0m     \u001b[38;5;66;03m# if loss is nan or inf simply add the average of previous logged losses\u001b[39;00m\n",
            "\u001b[1;32m   2563\u001b[0m     tr_loss \u001b[38;5;241m=\u001b[39m tr_loss \u001b[38;5;241m+\u001b[39m tr_loss \u001b[38;5;241m/\u001b[39m (\u001b[38;5;241m1\u001b[39m \u001b[38;5;241m+\u001b[39m \u001b[38;5;28mself\u001b[39m\u001b[38;5;241m.\u001b[39mstate\u001b[38;5;241m.\u001b[39mglobal_step \u001b[38;5;241m-\u001b[39m \u001b[38;5;28mself\u001b[39m\u001b[38;5;241m.\u001b[39m_globalstep_last_logged)\n",
            "\u001b[1;32m   2564\u001b[0m \u001b[38;5;28;01melse\u001b[39;00m:\n",
            "\n",
            "\u001b[0;31mKeyboardInterrupt\u001b[0m: "
          ]
        }
      ],
      "source": [
        "import numpy as np\n",
        "from evaluate import load\n",
        "from sklearn.utils import compute_class_weight\n",
        "import torch\n",
        "import torch.nn.functional as F\n",
        "from transformers.training_args import TrainingArguments\n",
        "from transformers.trainer import Trainer\n",
        "\n",
        "\n",
        "accuracy_metric = load(\"accuracy\")\n",
        "\n",
        "def compute_metrics(eval_pred):\n",
        "    logits, labels = eval_pred\n",
        "    preds = np.argmax(logits, axis=-1)\n",
        "    acc = accuracy_metric.compute(predictions=preds, references=labels)\n",
        "\n",
        "    acc0 = (preds[labels == 0] == 0).mean() if np.any(labels == 0) else float('nan')\n",
        "    acc1 = (preds[labels == 1] == 1).mean() if np.any(labels == 1) else float('nan')\n",
        "\n",
        "    acc[\"acc_0\"] = acc0\n",
        "    acc[\"acc_1\"] = acc1\n",
        "    acc[\"avg_acc\"] = (acc0 + acc1) / 2\n",
        "\n",
        "    return acc\n",
        "\n",
        "\n",
        "labels = np.array(tokenized_train_ds[\"label\"])\n",
        "weights = compute_class_weight(\"balanced\", classes=np.unique(labels), y=labels)\n",
        "class_weights = torch.tensor(weights, dtype=torch.float)\n",
        "\n",
        "\n",
        "def custom_loss_fn(raw_outputs, labels, num_items_in_batch=None):\n",
        "    logits = raw_outputs.logits if hasattr(raw_outputs, \"logits\") else raw_outputs\n",
        "    cw = class_weights.to(logits.device)\n",
        "    cw = torch.tensor([0.5, 1.0]).to(logits.device)\n",
        "    loss_fct = torch.nn.CrossEntropyLoss(weight=cw, label_smoothing=0.05)\n",
        "    loss = loss_fct(logits.view(-1, logits.size(-1)), labels.view(-1))\n",
        "    return loss\n",
        "\n",
        "batch_size = 64\n",
        "\n",
        "training_args = TrainingArguments(\n",
        "    output_dir=\"./results\",\n",
        "    eval_strategy=\"steps\",\n",
        "    warmup_steps=200,\n",
        "    learning_rate=1e-5,\n",
        "    per_device_train_batch_size=batch_size,\n",
        "    per_device_eval_batch_size=batch_size,\n",
        "    num_train_epochs=5,\n",
        "    max_grad_norm=1.0,\n",
        "    weight_decay=0.01,\n",
        "    logging_steps=50,\n",
        "    eval_steps=50,\n",
        "    load_best_model_at_end=True,\n",
        "    metric_for_best_model=\"accuracy\"\n",
        ")\n",
        "\n",
        "trainer = Trainer(\n",
        "    model=model,\n",
        "    args=training_args,\n",
        "    train_dataset=tokenized_train_ds,\n",
        "    eval_dataset=tokenized_eval_ds,\n",
        "    processing_class=tokenizer,\n",
        "    data_collator=data_collator,\n",
        "    compute_loss_func=custom_loss_fn,\n",
        "    compute_metrics=compute_metrics\n",
        ")\n",
        "\n",
        "trainer.train()"
      ]
    },
    {
      "cell_type": "markdown",
      "id": "4f605db5",
      "metadata": {},
      "source": [
        "Train the model"
      ]
    },
    {
      "cell_type": "markdown",
      "id": "9b0aa200",
      "metadata": {},
      "source": [
        "# Phi1.5\n",
        "(experimental only due to bad results)"
      ]
    },
    {
      "cell_type": "markdown",
      "id": "c94eabc8",
      "metadata": {},
      "source": [
        "## Config"
      ]
    },
    {
      "cell_type": "markdown",
      "id": "ad2eb604",
      "metadata": {},
      "source": [
        "## Evaluate"
      ]
    },
    {
      "cell_type": "code",
      "execution_count": null,
      "id": "286b636d",
      "metadata": {},
      "outputs": [],
      "source": [
        "from sklearn.metrics import accuracy_score, confusion_matrix, classification_report\n",
        "import seaborn as sns\n",
        "import matplotlib.pyplot as plt\n",
        "from peft import PeftModel\n",
        "from tqdm import tqdm"
      ]
    },
    {
      "cell_type": "code",
      "execution_count": null,
      "id": "ea2cc75d",
      "metadata": {},
      "outputs": [
        {
          "name": "stdout",
          "output_type": "stream",
          "text": [
            "Załadowano model z adapterami z: ./hate-speech-lora-model/best\n"
          ]
        },
        {
          "name": "stderr",
          "output_type": "stream",
          "text": [
            "Ewaluacja na zbiorze walidacyjnym: 100%|██████████| 400/400 [01:42<00:00,  3.92it/s]"
          ]
        },
        {
          "name": "stdout",
          "output_type": "stream",
          "text": [
            "\n",
            "--- Wyniki ewaluacji na zbiorze walidacyjnym ---\n",
            "Dokładność (Accuracy): 0.8700\n",
            "\n",
            "Raport klasyfikacji:\n",
            "                     precision    recall  f1-score   support\n",
            "\n",
            "Not Hate-Speech (0)       0.89      0.97      0.93       359\n",
            "    Hate-Speech (1)       0.00      0.00      0.00        41\n",
            "\n",
            "           accuracy                           0.87       400\n",
            "          macro avg       0.45      0.48      0.47       400\n",
            "       weighted avg       0.80      0.87      0.84       400\n",
            "\n",
            "\n",
            "Macierz pomyłek:\n"
          ]
        },
        {
          "name": "stderr",
          "output_type": "stream",
          "text": [
            "\n"
          ]
        },
        {
          "data": {
            "image/png": "[encoded data removed]",
            "text/plain": [
              "<Figure size 800x600 with 2 Axes>"
            ]
          },
          "metadata": {},
          "output_type": "display_data"
        }
      ],
      "source": [
        "PROMPT_TEMPLATE_INFERENCE = (\n",
        "    \"Przeanalizuj poniższy tekst i określ, czy jest to mowa nienawiści. \"\n",
        "    \"Odpowiedz '1' dla mowy nienawiści lub '0' w przeciwnym razie. \"\n",
        "    \"Tekst: {text}\\n\"\n",
        "    \"Odpowiedź: \"\n",
        ")\n",
        "\n",
        "\n",
        "base_model_for_inference = AutoModelForCausalLM.from_pretrained(\n",
        "    MODEL_NAME,\n",
        "    quantization_config=bnb_config,\n",
        "    trust_remote_code=True,\n",
        "    device_map=\"auto\"\n",
        ")\n",
        "\n",
        "inference_model = PeftModel.from_pretrained(base_model_for_inference, best_model_path)\n",
        "print(f\"Załadowano model z adapterami z: {best_model_path}\")\n",
        "\n",
        "inference_model.eval()\n",
        "\n",
        "y_true = []\n",
        "y_pred = []\n",
        "\n",
        "\n",
        "for sample in tqdm(raw_datasets['validation'], desc=\"Ewaluacja na zbiorze walidacyjnym\"):\n",
        "    text = sample['sentence']\n",
        "    true_label = sample['label']\n",
        "\n",
        "    y_true.append(true_label)\n",
        "\n",
        "    prompt = PROMPT_TEMPLATE_INFERENCE.format(\n",
        "        text=text\n",
        "    )    \n",
        "    inputs = tokenizer(prompt, return_tensors=\"pt\").to(\"cuda\")\n",
        "\n",
        "    with torch.no_grad():\n",
        "        generate_ids = inference_model.generate(\n",
        "            **inputs,\n",
        "            max_new_tokens=3,\n",
        "            pad_token_id=tokenizer.eos_token_id\n",
        "        )\n",
        "\n",
        "    output_text = tokenizer.decode(generate_ids[0][inputs['input_ids'].shape[1]:], skip_special_tokens=True).strip()\n",
        "\n",
        "    if output_text in ['0', '1']:\n",
        "        prediction = int(output_text)\n",
        "    else:\n",
        "        prediction = 1 - true_label\n",
        "\n",
        "    y_pred.append(prediction)\n",
        "\n",
        "print(\"\\n--- Wyniki ewaluacji na zbiorze walidacyjnym ---\")\n",
        "\n",
        "accuracy = accuracy_score(y_true, y_pred)\n",
        "print(f\"Dokładność (Accuracy): {accuracy:.4f}\")\n",
        "\n",
        "print(\"\\nRaport klasyfikacji:\")\n",
        "print(classification_report(y_true, y_pred, target_names=['Not Hate-Speech (0)', 'Hate-Speech (1)']))\n",
        "\n",
        "print(\"\\nMacierz pomyłek:\")\n",
        "cm = confusion_matrix(y_true, y_pred)\n",
        "\n",
        "plt.figure(figsize=(8, 6))\n",
        "sns.heatmap(\n",
        "    cm,\n",
        "    annot=True,\n",
        "    fmt='d',\n",
        "    cmap='Blues',\n",
        "    xticklabels=['Not Hate-Speech (0)', 'Hate-Speech (1)'],\n",
        "    yticklabels=['Not Hate-Speech (0)', 'Hate-Speech (1)']\n",
        ")\n",
        "plt.ylabel('Prawdziwa etykieta (True Label)')\n",
        "plt.xlabel('Przewidziana etykieta (Predicted Label)')\n",
        "plt.title('Macierz pomyłek')\n",
        "plt.show()\n"
      ]
    },
    {
      "cell_type": "code",
      "execution_count": null,
      "id": "b75aa92a",
      "metadata": {},
      "outputs": [],
      "source": [
        "# bnb_config = BitsAndBytesConfig(\n",
        "#     load_in_4bit=True,\n",
        "#     bnb_4bit_quant_type=\"nf4\",\n",
        "#     bnb_4bit_compute_dtype=torch.float16,\n",
        "# )\n",
        "\n",
        "bnb_config = BitsAndBytesConfig(\n",
        "    load_in_8bit=True,\n",
        ")\n",
        "\n",
        "model = AutoModelForCausalLM.from_pretrained(\n",
        "    MODEL_NAME,\n",
        "    quantization_config=bnb_config,\n",
        "    trust_remote_code=True,\n",
        "    device_map=\"auto\"\n",
        ")\n",
        "model.config.use_cache = False\n",
        "\n",
        "tokenizer = AutoTokenizer.from_pretrained(MODEL_NAME, trust_remote_code=True)\n",
        "tokenizer.pad_token = tokenizer.eos_token\n",
        "tokenizer.padding_side = \"right\"\n"
      ]
    },
    {
      "cell_type": "code",
      "execution_count": null,
      "id": "dac2db44",
      "metadata": {},
      "outputs": [
        {
          "name": "stdout",
          "output_type": "stream",
          "text": [
            "trainable params: 3,145,728 || all params: 1,421,416,448 || trainable%: 0.2213\n"
          ]
        }
      ],
      "source": [
        "lora_config = LoraConfig(\n",
        "    r=8,\n",
        "    lora_alpha=16,\n",
        "    target_modules=[\n",
        "        \"q_proj\",\n",
        "        \"k_proj\",\n",
        "        \"v_proj\",\n",
        "        \"dense\",\n",
        "    ],\n",
        "    lora_dropout=0.05,\n",
        "    bias=\"none\",\n",
        "    task_type=\"CAUSAL_LM\",\n",
        ")\n",
        "\n",
        "model = get_peft_model(model, lora_config)\n",
        "\n",
        "model.print_trainable_parameters()"
      ]
    },
    {
      "cell_type": "code",
      "execution_count": null,
      "id": "cc918ac4",
      "metadata": {},
      "outputs": [
        {
          "name": "stderr",
          "output_type": "stream",
          "text": [
            "Map (num_proc=4): 100%|██████████| 2000/2000 [00:00<00:00, 11536.76 examples/s]\n",
            "Map: 100%|██████████| 2000/2000 [00:00<00:00, 3914.59 examples/s]\n",
            "Map (num_proc=4): 100%|██████████| 400/400 [00:00<00:00, 2837.79 examples/s]\n",
            "Map: 100%|██████████| 400/400 [00:00<00:00, 5546.13 examples/s]\n",
            "Map: 100%|██████████| 2000/2000 [00:00<00:00, 9652.05 examples/s]\n",
            "Map: 100%|██████████| 400/400 [00:00<00:00, 9508.68 examples/s]"
          ]
        },
        {
          "name": "stdout",
          "output_type": "stream",
          "text": [
            "\n",
            "Próbka danych po tokenizacji z nowym promptem:\n",
            "Przeanalizuj poniższy tekst i określ, czy jest to mowa nienawiści. Odpowiedz '1' dla mowy nienawiści lub '0' w przeciwnym razie. Tekst: @anonymized_account Najgorzej jak polityk mieniący się konserwatystą nie odróżnia konserwatysty od konserwy.\n",
            "Odpowiedź: 0<|endoftext|><|endoftext|><|endoftext|><|endoftext|><|endoftext|><|endoftext|><|endoftext|><|endoftext|><|endoftext|><|endoftext|><|endoftext|><|endoftext|><|endoftext|><|endoftext|><|endoftext|><|endoftext|><|endoftext|><|endoftext|><|endoftext|><|endoftext|><|endoftext|><|endoftext|><|endoftext|><|endoftext|><|endoftext|><|endoftext|><|endoftext|><|endoftext|><|endoftext|><|endoftext|><|endoftext|><|endoftext|><|endoftext|><|endoftext|><|endoftext|><|endoftext|><|endoftext|><|endoftext|><|endoftext|><|endoftext|><|endoftext|><|endoftext|><|endoftext|><|endoftext|><|endoftext|>\n"
          ]
        },
        {
          "name": "stderr",
          "output_type": "stream",
          "text": [
            "\n"
          ]
        }
      ],
      "source": [
        "PROMPT_TEMPLATE_FINETUNE = (\n",
        "    \"Przeanalizuj poniższy tekst i określ, czy jest to mowa nienawiści. \"\n",
        "    \"Odpowiedz '1' dla mowy nienawiści lub '0' w przeciwnym razie. \"\n",
        "    \"Tekst: {text}\\n\"\n",
        "    \"Odpowiedź: {label_str}{eos_token}\"\n",
        ")\n",
        "\n",
        "\n",
        "def format_dataset_for_finetuning(examples):\n",
        "    texts = examples['sentence']\n",
        "    labels_int = examples['label']\n",
        "    formatted_prompts = []\n",
        "    for text, label_int in zip(texts, labels_int):\n",
        "        label_str = str(label_int)\n",
        "        formatted_prompts.append(\n",
        "            PROMPT_TEMPLATE_FINETUNE.format(\n",
        "                text=text,\n",
        "                label_str=label_str,\n",
        "                eos_token=tokenizer.eos_token\n",
        "            )\n",
        "        )\n",
        "    return {\"formatted_prompt\": formatted_prompts}\n",
        "\n",
        "def tokenize_function(examples):\n",
        "    return tokenizer(\n",
        "        examples[\"formatted_prompt\"],\n",
        "        truncation=True,\n",
        "        max_length=180,\n",
        "        padding=\"max_length\"\n",
        "    )\n",
        "\n",
        "tokenized_datasets = DatasetDict()\n",
        "\n",
        "for split in ['train', 'validation']:\n",
        "    formatted_data = raw_datasets[split].map(format_dataset_for_finetuning, batched=True, num_proc=4)\n",
        "    tokenized_datasets[split] = formatted_data.map(\n",
        "        tokenize_function,\n",
        "        batched=True,\n",
        "        remove_columns=raw_datasets[split].column_names + [\"formatted_prompt\"]\n",
        "    )\n",
        "\n",
        "def set_labels(examples):\n",
        "    examples[\"labels\"] = examples[\"input_ids\"].copy()\n",
        "    return examples\n",
        "\n",
        "tokenized_datasets['train'] = tokenized_datasets['train'].map(set_labels, batched=True)\n",
        "tokenized_datasets['validation'] = tokenized_datasets['validation'].map(set_labels, batched=True)\n",
        "\n",
        "\n",
        "print(\"\\nPróbka danych po tokenizacji z nowym promptem:\")\n",
        "print(tokenizer.decode(tokenized_datasets[\"train\"][0]['input_ids'], skip_special_tokens=False))"
      ]
    },
    {
      "cell_type": "code",
      "execution_count": null,
      "id": "bb8b01e8",
      "metadata": {},
      "outputs": [
        {
          "name": "stderr",
          "output_type": "stream",
          "text": [
            "/tmp/ipykernel_56468/1432817989.py:22: FutureWarning: `tokenizer` is deprecated and will be removed in version 5.0.0 for `Trainer.__init__`. Use `processing_class` instead.\n",
            "  trainer = Trainer(\n",
            "No label_names provided for model class `PeftModelForCausalLM`. Since `PeftModel` hides base models input arguments, if label_names is not given, label_names can't be set automatically within `Trainer`. Note that empty label_names list will be used instead.\n"
          ]
        }
      ],
      "source": [
        "training_args = TrainingArguments(\n",
        "    output_dir=LORA_MODEL_OUTPUT_DIR,\n",
        "    per_device_train_batch_size=2,\n",
        "    per_device_eval_batch_size=2,\n",
        "    gradient_accumulation_steps=4,\n",
        "    learning_rate=2e-4,\n",
        "    weight_decay=0.01,\n",
        "    num_train_epochs=1,\n",
        "    logging_steps=10,\n",
        "    save_steps=100,\n",
        "    eval_strategy=\"steps\",\n",
        "    eval_steps=100,\n",
        "    load_best_model_at_end=True,\n",
        "    greater_is_better=False,\n",
        "    metric_for_best_model=\"eval_loss\",\n",
        "    save_total_limit=2,\n",
        "    fp16=True,\n",
        "    report_to=\"wandb\",\n",
        "    run_name=\"hate-speech-lora-finetuning\",\n",
        ")\n",
        "\n",
        "trainer = Trainer(\n",
        "    model=model,\n",
        "    args=training_args,\n",
        "    train_dataset=tokenized_datasets[\"train\"],\n",
        "    eval_dataset=tokenized_datasets[\"validation\"],\n",
        "    tokenizer=tokenizer,\n",
        "    data_collator=DataCollatorForLanguageModeling(tokenizer=tokenizer, mlm=False)\n",
        ")"
      ]
    },
    {
      "cell_type": "code",
      "execution_count": null,
      "id": "10747296",
      "metadata": {},
      "outputs": [
        {
          "name": "stdout",
          "output_type": "stream",
          "text": [
            "Wed Jun 11 21:08:48 2025       \n",
            "+-----------------------------------------------------------------------------------------+\n",
            "| NVIDIA-SMI 570.124.06             Driver Version: 570.124.06     CUDA Version: 12.8     |\n",
            "|-----------------------------------------+------------------------+----------------------+\n",
            "| GPU  Name                 Persistence-M | Bus-Id          Disp.A | Volatile Uncorr. ECC |\n",
            "| Fan  Temp   Perf          Pwr:Usage/Cap |           Memory-Usage | GPU-Util  Compute M. |\n",
            "|                                         |                        |               MIG M. |\n",
            "|=========================================+========================+======================|\n",
            "|   0  NVIDIA A10                     On  |   00000000:06:00.0 Off |                    0 |\n",
            "|  0%   46C    P0             60W /  150W |    8182MiB /  23028MiB |      0%      Default |\n",
            "|                                         |                        |                  N/A |\n",
            "+-----------------------------------------+------------------------+----------------------+\n",
            "                                                                                         \n",
            "+-----------------------------------------------------------------------------------------+\n",
            "| Processes:                                                                              |\n",
            "|  GPU   GI   CI              PID   Type   Process name                        GPU Memory |\n",
            "|        ID   ID                                                               Usage      |\n",
            "|=========================================================================================|\n",
            "|    0   N/A  N/A           33610      C   ...untu/ssne-mm/.venv/bin/python       6300MiB |\n",
            "|    0   N/A  N/A           56468      C   ...untu/ssne-mm/.venv/bin/python       1868MiB |\n",
            "+-----------------------------------------------------------------------------------------+\n"
          ]
        }
      ],
      "source": [
        "!nvidia-smi"
      ]
    },
    {
      "cell_type": "code",
      "execution_count": null,
      "id": "e57fd1e2",
      "metadata": {},
      "outputs": [
        {
          "name": "stdout",
          "output_type": "stream",
          "text": [
            "\n",
            "Rozpoczynanie treningu...\n"
          ]
        },
        {
          "name": "stderr",
          "output_type": "stream",
          "text": [
            "\u001b[34m\u001b[1mwandb\u001b[0m: Currently logged in as: \u001b[33m01178563\u001b[0m (\u001b[33m01178563-warsaw-information-technology\u001b[0m) to \u001b[32mhttps://api.wandb.ai\u001b[0m. Use \u001b[1m`wandb login --relogin`\u001b[0m to force relogin\n"
          ]
        },
        {
          "data": {
            "text/html": [
              "Tracking run with wandb version 0.20.1"
            ],
            "text/plain": [
              "<IPython.core.display.HTML object>"
            ]
          },
          "metadata": {},
          "output_type": "display_data"
        },
        {
          "data": {
            "text/html": [
              "Run data is saved locally in <code>/home/ubuntu/ssne-mm/ssne/ex7/wandb/run-20250611_210848-2si57oxc</code>"
            ],
            "text/plain": [
              "<IPython.core.display.HTML object>"
            ]
          },
          "metadata": {},
          "output_type": "display_data"
        },
        {
          "data": {
            "text/html": [
              "Syncing run <strong><a href='https://wandb.ai/01178563-warsaw-information-technology/huggingface/runs/2si57oxc' target=\"_blank\">hate-speech-lora-finetuning</a></strong> to <a href='https://wandb.ai/01178563-warsaw-information-technology/huggingface' target=\"_blank\">Weights & Biases</a> (<a href='https://wandb.me/developer-guide' target=\"_blank\">docs</a>)<br>"
            ],
            "text/plain": [
              "<IPython.core.display.HTML object>"
            ]
          },
          "metadata": {},
          "output_type": "display_data"
        },
        {
          "data": {
            "text/html": [
              " View project at <a href='https://wandb.ai/01178563-warsaw-information-technology/huggingface' target=\"_blank\">https://wandb.ai/01178563-warsaw-information-technology/huggingface</a>"
            ],
            "text/plain": [
              "<IPython.core.display.HTML object>"
            ]
          },
          "metadata": {},
          "output_type": "display_data"
        },
        {
          "data": {
            "text/html": [
              " View run at <a href='https://wandb.ai/01178563-warsaw-information-technology/huggingface/runs/2si57oxc' target=\"_blank\">https://wandb.ai/01178563-warsaw-information-technology/huggingface/runs/2si57oxc</a>"
            ],
            "text/plain": [
              "<IPython.core.display.HTML object>"
            ]
          },
          "metadata": {},
          "output_type": "display_data"
        },
        {
          "name": "stderr",
          "output_type": "stream",
          "text": [
            "/home/ubuntu/ssne-mm/.venv/lib/python3.10/site-packages/bitsandbytes/autograd/_functions.py:185: UserWarning: MatMul8bitLt: inputs will be cast from torch.float32 to float16 during quantization\n",
            "  warnings.warn(f\"MatMul8bitLt: inputs will be cast from {A.dtype} to float16 during quantization\")\n"
          ]
        },
        {
          "data": {
            "text/html": [
              "\n",
              "    <div>\n",
              "      \n",
              "      <progress value='250' max='250' style='width:300px; height:20px; vertical-align: middle;'></progress>\n",
              "      [250/250 05:26, Epoch 1/1]\n",
              "    </div>\n",
              "    <table border=\"1\" class=\"dataframe\">\n",
              "  <thead>\n",
              " <tr style=\"text-align: left;\">\n",
              "      <th>Step</th>\n",
              "      <th>Training Loss</th>\n",
              "      <th>Validation Loss</th>\n",
              "    </tr>\n",
              "  </thead>\n",
              "  <tbody>\n",
              "    <tr>\n",
              "      <td>100</td>\n",
              "      <td>1.223700</td>\n",
              "      <td>1.206696</td>\n",
              "    </tr>\n",
              "    <tr>\n",
              "      <td>200</td>\n",
              "      <td>1.204100</td>\n",
              "      <td>1.178937</td>\n",
              "    </tr>\n",
              "  </tbody>\n",
              "</table><p>"
            ],
            "text/plain": [
              "<IPython.core.display.HTML object>"
            ]
          },
          "metadata": {},
          "output_type": "display_data"
        },
        {
          "name": "stderr",
          "output_type": "stream",
          "text": [
            "/home/ubuntu/ssne-mm/.venv/lib/python3.10/site-packages/bitsandbytes/autograd/_functions.py:185: UserWarning: MatMul8bitLt: inputs will be cast from torch.float32 to float16 during quantization\n",
            "  warnings.warn(f\"MatMul8bitLt: inputs will be cast from {A.dtype} to float16 during quantization\")\n",
            "/home/ubuntu/ssne-mm/.venv/lib/python3.10/site-packages/bitsandbytes/autograd/_functions.py:185: UserWarning: MatMul8bitLt: inputs will be cast from torch.float32 to float16 during quantization\n",
            "  warnings.warn(f\"MatMul8bitLt: inputs will be cast from {A.dtype} to float16 during quantization\")\n"
          ]
        },
        {
          "name": "stdout",
          "output_type": "stream",
          "text": [
            "Najlepszy model (adaptery LoRA) zapisany w: ./hate-speech-lora-model/best\n"
          ]
        }
      ],
      "source": [
        "print(\"\\nRozpoczynanie treningu...\")\n",
        "trainer.train()\n",
        "\n",
        "best_model_path = LORA_MODEL_OUTPUT_DIR+ \"/best\"\n",
        "trainer.save_model(best_model_path)\n",
        "print(f\"Najlepszy model (adaptery LoRA) zapisany w: {best_model_path}\")"
      ]
    }
  ],
  "metadata": {
    "kernelspec": {
      "display_name": ".venv",
      "language": "python",
      "name": "python3"
    },
    "language_info": {
      "codemirror_mode": {
        "name": "ipython",
        "version": 3
      },
      "file_extension": ".py",
      "mimetype": "text/x-python",
      "name": "python",
      "nbconvert_exporter": "python",
      "pygments_lexer": "ipython3",
      "version": "3.10.12"
    }
  },
  "nbformat": 4,
  "nbformat_minor": 5
}
