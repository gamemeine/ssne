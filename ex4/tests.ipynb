{
 "cells": [
  {
   "cell_type": "markdown",
   "id": "7cc72ded",
   "metadata": {},
   "source": [
    "# Image classification"
   ]
  },
  {
   "cell_type": "code",
   "execution_count": 1,
   "id": "21f91952",
   "metadata": {},
   "outputs": [],
   "source": [
    "import torch\n",
    "from torch import Generator\n",
    "\n",
    "# Set the random seed for reproducibility\n",
    "random_state = 42"
   ]
  },
  {
   "cell_type": "code",
   "execution_count": 2,
   "id": "abf3d6e8",
   "metadata": {},
   "outputs": [
    {
     "name": "stdout",
     "output_type": "stream",
     "text": [
      "Using device: cuda\n"
     ]
    }
   ],
   "source": [
    "device = \"cuda\" if torch.cuda.is_available() else \"mps\" if torch.backends.mps.is_available() else \"cpu\"\n",
    "print(f\"Using device: {device}\")"
   ]
  },
  {
   "cell_type": "markdown",
   "id": "8fa6528d",
   "metadata": {},
   "source": [
    "## Preprocessing"
   ]
  },
  {
   "cell_type": "code",
   "execution_count": 3,
   "id": "3e6f0be5",
   "metadata": {},
   "outputs": [
    {
     "name": "stdout",
     "output_type": "stream",
     "text": [
      "Train and validation directories already exist.\n"
     ]
    }
   ],
   "source": [
    "import os\n",
    "from data import train_val_split\n",
    "\n",
    "base_dir = './data/train'\n",
    "train_dir = './data/preprocessed/train'\n",
    "val_dir = './data/preprocessed/val'\n",
    "\n",
    "val_ratio = 0.2\n",
    "\n",
    "if not os.path.exists(train_dir) and not os.path.exists(val_dir):\n",
    "    train_val_split(base_dir, train_dir, val_dir, val_ratio, random_state) \n",
    "\n",
    "    print(\"Saved train data to:\", train_dir)\n",
    "    print(\"Saved validation data to:\", val_dir)\n",
    "else:\n",
    "    print(\"Train and validation directories already exist.\")"
   ]
  },
  {
   "cell_type": "markdown",
   "id": "a6777f43",
   "metadata": {},
   "source": [
    "## Data"
   ]
  },
  {
   "cell_type": "code",
   "execution_count": 4,
   "id": "c97d0af7",
   "metadata": {},
   "outputs": [],
   "source": [
    "import torchvision.transforms as transforms\n",
    "\n",
    "mean_tensor = torch.tensor([0.5, 0.5, 0.5])\n",
    "std_tensor = torch.tensor([0.5, 0.5, 0.5])\n",
    "\n",
    "# mean_tensor = torch.tensor([0.5209, 0.4955, 0.4384])\n",
    "# std_tensor = torch.tensor([0.2111, 0.2103, 0.2101])\n",
    "\n",
    "default_transform = transforms.Compose([\n",
    "    transforms.ToTensor(),\n",
    "    transforms.Normalize(mean_tensor, std_tensor)\n",
    "])\n",
    "\n",
    "augmented_transform = transforms.Compose([\n",
    "    transforms.RandomCrop(64, padding=4),\n",
    "    transforms.RandomHorizontalFlip(),\n",
    "    transforms.RandomRotation(10),\n",
    "    transforms.ColorJitter(brightness=0.2, contrast=0.2, saturation=0.2, hue=0.1),\n",
    "    transforms.RandomAffine(degrees=5, translate=(0.05, 0.05), scale=(0.95, 1.05)),\n",
    "    transforms.ToTensor(),\n",
    "    transforms.Normalize(mean_tensor, std_tensor)\n",
    "])"
   ]
  },
  {
   "cell_type": "markdown",
   "id": "b4f26d0a",
   "metadata": {},
   "source": [
    "### Datasets and sampling"
   ]
  },
  {
   "cell_type": "code",
   "execution_count": 5,
   "id": "3b75adbe",
   "metadata": {},
   "outputs": [
    {
     "name": "stdout",
     "output_type": "stream",
     "text": [
      "Number of training samples: 140818\n",
      "Number of validation samples: 17602\n"
     ]
    }
   ],
   "source": [
    "from torchvision.datasets import ImageFolder\n",
    "from torch.utils.data import DataLoader, ConcatDataset\n",
    "from data import sample_dataset\n",
    "\n",
    "train_default_ds = ImageFolder(train_dir, transform=default_transform)\n",
    "train_augmented_ds = ImageFolder(train_dir, transform=augmented_transform)\n",
    "train_ds = ConcatDataset([train_default_ds, train_augmented_ds])\n",
    "\n",
    "val_ds = ImageFolder(val_dir, transform=default_transform)\n",
    "\n",
    "# downsample the dataset\n",
    "sample_ratio = 1\n",
    "sampled_train_ds = sample_dataset(train_ds, sample_ratio, seed=random_state)\n",
    "sampled_val_ds = sample_dataset(val_ds, sample_ratio, seed=random_state)\n",
    "\n",
    "num_classes = len(train_default_ds.classes)\n",
    "\n",
    "print(f\"Number of training samples: {len(sampled_train_ds)}\")\n",
    "print(f\"Number of validation samples: {len(sampled_val_ds)}\")"
   ]
  },
  {
   "cell_type": "markdown",
   "id": "a4ff8fec",
   "metadata": {},
   "source": [
    "### Data loaders"
   ]
  },
  {
   "cell_type": "code",
   "execution_count": 6,
   "id": "edc2dd2a",
   "metadata": {},
   "outputs": [],
   "source": [
    "batch_size = 256\n",
    "num_workers = 0\n",
    "\n",
    "# setup data loaders\n",
    "train_dl = DataLoader(sampled_train_ds,\n",
    "                      batch_size=batch_size,\n",
    "                      num_workers=num_workers,\n",
    "                      shuffle=True,\n",
    "                      generator=Generator().manual_seed(random_state))\n",
    "\n",
    "val_dl = DataLoader(sampled_val_ds,\n",
    "                    batch_size=batch_size,\n",
    "                    num_workers=num_workers,\n",
    "                    shuffle=False)"
   ]
  },
  {
   "cell_type": "markdown",
   "id": "8cad1b76",
   "metadata": {},
   "source": [
    "### Example"
   ]
  },
  {
   "cell_type": "code",
   "execution_count": 7,
   "id": "d0dedbb4",
   "metadata": {},
   "outputs": [
    {
     "name": "stdout",
     "output_type": "stream",
     "text": [
      "Sample image shape: torch.Size([3, 64, 64])\n",
      "Sample label: 0\n"
     ]
    },
    {
     "data": {
      "image/png": "[encoded data removed]",
      "text/plain": [
       "<Figure size 640x480 with 1 Axes>"
      ]
     },
     "metadata": {},
     "output_type": "display_data"
    }
   ],
   "source": [
    "from utils import show_image\n",
    "\n",
    "sample_img, sample_label = train_ds[0]\n",
    "\n",
    "print(f\"Sample image shape: {sample_img.size()}\")\n",
    "print(f\"Sample label: {sample_label}\")\n",
    "\n",
    "show_image(sample_img)\n"
   ]
  },
  {
   "cell_type": "markdown",
   "id": "517c5072",
   "metadata": {},
   "source": [
    "## Training"
   ]
  },
  {
   "cell_type": "code",
   "execution_count": 8,
   "id": "8d21d357",
   "metadata": {},
   "outputs": [],
   "source": [
    "from training import Trainer\n",
    "import torch.optim as optim"
   ]
  },
  {
   "cell_type": "markdown",
   "id": "465789b2",
   "metadata": {},
   "source": [
    "### BasicModel"
   ]
  },
  {
   "cell_type": "code",
   "execution_count": 9,
   "id": "184c7b8d",
   "metadata": {},
   "outputs": [
    {
     "name": "stderr",
     "output_type": "stream",
     "text": [
      "Epoch 1/50 (training): 100%|██████████| 551/551 [32:07<00:00,  3.50s/it] \n",
      "Epoch 1/50 (validation): 100%|██████████| 69/69 [04:51<00:00,  4.22s/it]\n"
     ]
    },
    {
     "name": "stdout",
     "output_type": "stream",
     "text": [
      "Epoch 1/50: Train Loss: 3.1975, Val Loss: 2.6314, Avg Class Accuracy: 0.2980\n"
     ]
    },
    {
     "name": "stderr",
     "output_type": "stream",
     "text": [
      "Epoch 2/50 (training): 100%|██████████| 551/551 [19:59<00:00,  2.18s/it]\n",
      "Epoch 2/50 (validation): 100%|██████████| 69/69 [03:41<00:00,  3.21s/it]\n"
     ]
    },
    {
     "name": "stdout",
     "output_type": "stream",
     "text": [
      "Epoch 2/50: Train Loss: 2.6930, Val Loss: 2.3056, Avg Class Accuracy: 0.3785\n"
     ]
    },
    {
     "name": "stderr",
     "output_type": "stream",
     "text": [
      "Epoch 3/50 (training): 100%|██████████| 551/551 [21:22<00:00,  2.33s/it]\n",
      "Epoch 3/50 (validation): 100%|██████████| 69/69 [03:46<00:00,  3.29s/it]\n"
     ]
    },
    {
     "name": "stdout",
     "output_type": "stream",
     "text": [
      "Epoch 3/50: Train Loss: 2.4777, Val Loss: 2.1555, Avg Class Accuracy: 0.4095\n"
     ]
    },
    {
     "name": "stderr",
     "output_type": "stream",
     "text": [
      "Epoch 4/50 (training): 100%|██████████| 551/551 [24:00<00:00,  2.61s/it]\n",
      "Epoch 4/50 (validation): 100%|██████████| 69/69 [04:18<00:00,  3.75s/it]\n"
     ]
    },
    {
     "name": "stdout",
     "output_type": "stream",
     "text": [
      "Epoch 4/50: Train Loss: 2.3423, Val Loss: 2.0635, Avg Class Accuracy: 0.4344\n"
     ]
    },
    {
     "name": "stderr",
     "output_type": "stream",
     "text": [
      "Epoch 5/50 (training): 100%|██████████| 551/551 [1:19:50<00:00,  8.69s/it]     \n",
      "Epoch 5/50 (validation): 100%|██████████| 69/69 [01:12<00:00,  1.06s/it]\n"
     ]
    },
    {
     "name": "stdout",
     "output_type": "stream",
     "text": [
      "Epoch 5/50: Train Loss: 2.2412, Val Loss: 1.9764, Avg Class Accuracy: 0.4526\n"
     ]
    },
    {
     "name": "stderr",
     "output_type": "stream",
     "text": [
      "Epoch 6/50 (training): 100%|██████████| 551/551 [03:23<00:00,  2.70it/s]\n",
      "Epoch 6/50 (validation): 100%|██████████| 69/69 [00:18<00:00,  3.74it/s]\n"
     ]
    },
    {
     "name": "stdout",
     "output_type": "stream",
     "text": [
      "Epoch 6/50: Train Loss: 2.1680, Val Loss: 1.9539, Avg Class Accuracy: 0.4627\n"
     ]
    },
    {
     "name": "stderr",
     "output_type": "stream",
     "text": [
      "Epoch 7/50 (training): 100%|██████████| 551/551 [03:23<00:00,  2.71it/s]\n",
      "Epoch 7/50 (validation): 100%|██████████| 69/69 [00:18<00:00,  3.82it/s]\n"
     ]
    },
    {
     "name": "stdout",
     "output_type": "stream",
     "text": [
      "Epoch 7/50: Train Loss: 2.1045, Val Loss: 1.8550, Avg Class Accuracy: 0.4872\n"
     ]
    },
    {
     "name": "stderr",
     "output_type": "stream",
     "text": [
      "Epoch 8/50 (training): 100%|██████████| 551/551 [03:23<00:00,  2.71it/s]\n",
      "Epoch 8/50 (validation): 100%|██████████| 69/69 [00:18<00:00,  3.73it/s]\n"
     ]
    },
    {
     "name": "stdout",
     "output_type": "stream",
     "text": [
      "Epoch 8/50: Train Loss: 2.0559, Val Loss: 1.8631, Avg Class Accuracy: 0.4850\n"
     ]
    },
    {
     "name": "stderr",
     "output_type": "stream",
     "text": [
      "Epoch 9/50 (training): 100%|██████████| 551/551 [40:18<00:00,  4.39s/it]    \n",
      "Epoch 9/50 (validation): 100%|██████████| 69/69 [00:18<00:00,  3.83it/s]\n"
     ]
    },
    {
     "name": "stdout",
     "output_type": "stream",
     "text": [
      "Epoch 9/50: Train Loss: 2.0099, Val Loss: 1.7911, Avg Class Accuracy: 0.5045\n"
     ]
    },
    {
     "name": "stderr",
     "output_type": "stream",
     "text": [
      "Epoch 10/50 (training): 100%|██████████| 551/551 [03:33<00:00,  2.58it/s]\n",
      "Epoch 10/50 (validation): 100%|██████████| 69/69 [00:17<00:00,  3.85it/s]\n"
     ]
    },
    {
     "name": "stdout",
     "output_type": "stream",
     "text": [
      "Epoch 10/50: Train Loss: 1.9668, Val Loss: 1.7395, Avg Class Accuracy: 0.5192\n"
     ]
    },
    {
     "name": "stderr",
     "output_type": "stream",
     "text": [
      "Epoch 11/50 (training): 100%|██████████| 551/551 [03:25<00:00,  2.68it/s]\n",
      "Epoch 11/50 (validation): 100%|██████████| 69/69 [00:18<00:00,  3.69it/s]\n"
     ]
    },
    {
     "name": "stdout",
     "output_type": "stream",
     "text": [
      "Epoch 11/50: Train Loss: 1.9296, Val Loss: 1.7159, Avg Class Accuracy: 0.5231\n"
     ]
    },
    {
     "name": "stderr",
     "output_type": "stream",
     "text": [
      "Epoch 12/50 (training): 100%|██████████| 551/551 [03:22<00:00,  2.72it/s]\n",
      "Epoch 12/50 (validation): 100%|██████████| 69/69 [00:23<00:00,  2.97it/s]\n"
     ]
    },
    {
     "name": "stdout",
     "output_type": "stream",
     "text": [
      "Epoch 12/50: Train Loss: 1.8968, Val Loss: 1.6782, Avg Class Accuracy: 0.5322\n"
     ]
    },
    {
     "name": "stderr",
     "output_type": "stream",
     "text": [
      "Epoch 13/50 (training): 100%|██████████| 551/551 [03:23<00:00,  2.71it/s]\n",
      "Epoch 13/50 (validation): 100%|██████████| 69/69 [00:18<00:00,  3.65it/s]\n"
     ]
    },
    {
     "name": "stdout",
     "output_type": "stream",
     "text": [
      "Epoch 13/50: Train Loss: 1.8613, Val Loss: 1.6796, Avg Class Accuracy: 0.5343\n"
     ]
    },
    {
     "name": "stderr",
     "output_type": "stream",
     "text": [
      "Epoch 14/50 (training): 100%|██████████| 551/551 [03:22<00:00,  2.72it/s]\n",
      "Epoch 14/50 (validation): 100%|██████████| 69/69 [00:19<00:00,  3.62it/s]\n"
     ]
    },
    {
     "name": "stdout",
     "output_type": "stream",
     "text": [
      "Epoch 14/50: Train Loss: 1.8287, Val Loss: 1.6300, Avg Class Accuracy: 0.5455\n"
     ]
    },
    {
     "name": "stderr",
     "output_type": "stream",
     "text": [
      "Epoch 15/50 (training): 100%|██████████| 551/551 [03:22<00:00,  2.72it/s]\n",
      "Epoch 15/50 (validation): 100%|██████████| 69/69 [00:18<00:00,  3.70it/s]\n"
     ]
    },
    {
     "name": "stdout",
     "output_type": "stream",
     "text": [
      "Epoch 15/50: Train Loss: 1.8080, Val Loss: 1.6446, Avg Class Accuracy: 0.5438\n"
     ]
    },
    {
     "name": "stderr",
     "output_type": "stream",
     "text": [
      "Epoch 16/50 (training): 100%|██████████| 551/551 [03:22<00:00,  2.73it/s]\n",
      "Epoch 16/50 (validation): 100%|██████████| 69/69 [00:18<00:00,  3.70it/s]\n"
     ]
    },
    {
     "name": "stdout",
     "output_type": "stream",
     "text": [
      "Epoch 16/50: Train Loss: 1.7817, Val Loss: 1.6105, Avg Class Accuracy: 0.5497\n"
     ]
    },
    {
     "name": "stderr",
     "output_type": "stream",
     "text": [
      "Epoch 17/50 (training): 100%|██████████| 551/551 [34:05<00:00,  3.71s/it]    \n",
      "Epoch 17/50 (validation): 100%|██████████| 69/69 [00:19<00:00,  3.51it/s]\n"
     ]
    },
    {
     "name": "stdout",
     "output_type": "stream",
     "text": [
      "Epoch 17/50: Train Loss: 1.7564, Val Loss: 1.5896, Avg Class Accuracy: 0.5605\n"
     ]
    },
    {
     "name": "stderr",
     "output_type": "stream",
     "text": [
      "Epoch 18/50 (training): 100%|██████████| 551/551 [03:47<00:00,  2.42it/s]\n",
      "Epoch 18/50 (validation): 100%|██████████| 69/69 [00:19<00:00,  3.54it/s]\n"
     ]
    },
    {
     "name": "stdout",
     "output_type": "stream",
     "text": [
      "Epoch 18/50: Train Loss: 1.7390, Val Loss: 1.5692, Avg Class Accuracy: 0.5613\n"
     ]
    },
    {
     "name": "stderr",
     "output_type": "stream",
     "text": [
      "Epoch 19/50 (training): 100%|██████████| 551/551 [03:27<00:00,  2.66it/s]\n",
      "Epoch 19/50 (validation): 100%|██████████| 69/69 [00:19<00:00,  3.54it/s]\n"
     ]
    },
    {
     "name": "stdout",
     "output_type": "stream",
     "text": [
      "Epoch 19/50: Train Loss: 1.7168, Val Loss: 1.5630, Avg Class Accuracy: 0.5650\n"
     ]
    },
    {
     "name": "stderr",
     "output_type": "stream",
     "text": [
      "Epoch 20/50 (training): 100%|██████████| 551/551 [03:27<00:00,  2.65it/s]\n",
      "Epoch 20/50 (validation): 100%|██████████| 69/69 [00:21<00:00,  3.16it/s]\n"
     ]
    },
    {
     "name": "stdout",
     "output_type": "stream",
     "text": [
      "Epoch 20/50: Train Loss: 1.6948, Val Loss: 1.5477, Avg Class Accuracy: 0.5677\n"
     ]
    },
    {
     "name": "stderr",
     "output_type": "stream",
     "text": [
      "Epoch 21/50 (training): 100%|██████████| 551/551 [03:26<00:00,  2.66it/s]\n",
      "Epoch 21/50 (validation): 100%|██████████| 69/69 [00:19<00:00,  3.51it/s]\n"
     ]
    },
    {
     "name": "stdout",
     "output_type": "stream",
     "text": [
      "Epoch 21/50: Train Loss: 1.6796, Val Loss: 1.5438, Avg Class Accuracy: 0.5698\n"
     ]
    },
    {
     "name": "stderr",
     "output_type": "stream",
     "text": [
      "Epoch 22/50 (training): 100%|██████████| 551/551 [03:26<00:00,  2.67it/s]\n",
      "Epoch 22/50 (validation): 100%|██████████| 69/69 [00:19<00:00,  3.53it/s]\n"
     ]
    },
    {
     "name": "stdout",
     "output_type": "stream",
     "text": [
      "Epoch 22/50: Train Loss: 1.6616, Val Loss: 1.5222, Avg Class Accuracy: 0.5737\n"
     ]
    },
    {
     "name": "stderr",
     "output_type": "stream",
     "text": [
      "Epoch 23/50 (training): 100%|██████████| 551/551 [03:26<00:00,  2.67it/s]\n",
      "Epoch 23/50 (validation): 100%|██████████| 69/69 [00:19<00:00,  3.53it/s]\n"
     ]
    },
    {
     "name": "stdout",
     "output_type": "stream",
     "text": [
      "Epoch 23/50: Train Loss: 1.6412, Val Loss: 1.4954, Avg Class Accuracy: 0.5810\n"
     ]
    },
    {
     "name": "stderr",
     "output_type": "stream",
     "text": [
      "Epoch 24/50 (training): 100%|██████████| 551/551 [03:26<00:00,  2.67it/s]\n",
      "Epoch 24/50 (validation): 100%|██████████| 69/69 [00:19<00:00,  3.52it/s]\n"
     ]
    },
    {
     "name": "stdout",
     "output_type": "stream",
     "text": [
      "Epoch 24/50: Train Loss: 1.6235, Val Loss: 1.5052, Avg Class Accuracy: 0.5771\n"
     ]
    },
    {
     "name": "stderr",
     "output_type": "stream",
     "text": [
      "Epoch 25/50 (training): 100%|██████████| 551/551 [03:27<00:00,  2.66it/s]\n",
      "Epoch 25/50 (validation): 100%|██████████| 69/69 [00:19<00:00,  3.53it/s]\n"
     ]
    },
    {
     "name": "stdout",
     "output_type": "stream",
     "text": [
      "Epoch 25/50: Train Loss: 1.6128, Val Loss: 1.4841, Avg Class Accuracy: 0.5881\n"
     ]
    },
    {
     "name": "stderr",
     "output_type": "stream",
     "text": [
      "Epoch 26/50 (training): 100%|██████████| 551/551 [03:27<00:00,  2.66it/s]\n",
      "Epoch 26/50 (validation): 100%|██████████| 69/69 [00:19<00:00,  3.52it/s]\n"
     ]
    },
    {
     "name": "stdout",
     "output_type": "stream",
     "text": [
      "Epoch 26/50: Train Loss: 1.5957, Val Loss: 1.4880, Avg Class Accuracy: 0.5865\n"
     ]
    },
    {
     "name": "stderr",
     "output_type": "stream",
     "text": [
      "Epoch 27/50 (training): 100%|██████████| 551/551 [03:27<00:00,  2.66it/s]\n",
      "Epoch 27/50 (validation): 100%|██████████| 69/69 [00:19<00:00,  3.50it/s]\n"
     ]
    },
    {
     "name": "stdout",
     "output_type": "stream",
     "text": [
      "Epoch 27/50: Train Loss: 1.5816, Val Loss: 1.4717, Avg Class Accuracy: 0.5860\n"
     ]
    },
    {
     "name": "stderr",
     "output_type": "stream",
     "text": [
      "Epoch 28/50 (training): 100%|██████████| 551/551 [03:27<00:00,  2.66it/s]\n",
      "Epoch 28/50 (validation): 100%|██████████| 69/69 [00:19<00:00,  3.48it/s]\n"
     ]
    },
    {
     "name": "stdout",
     "output_type": "stream",
     "text": [
      "Epoch 28/50: Train Loss: 1.5673, Val Loss: 1.4759, Avg Class Accuracy: 0.5870\n"
     ]
    },
    {
     "name": "stderr",
     "output_type": "stream",
     "text": [
      "Epoch 29/50 (training): 100%|██████████| 551/551 [03:27<00:00,  2.66it/s]\n",
      "Epoch 29/50 (validation): 100%|██████████| 69/69 [00:19<00:00,  3.53it/s]\n"
     ]
    },
    {
     "name": "stdout",
     "output_type": "stream",
     "text": [
      "Epoch 29/50: Train Loss: 1.5549, Val Loss: 1.4822, Avg Class Accuracy: 0.5866\n"
     ]
    },
    {
     "name": "stderr",
     "output_type": "stream",
     "text": [
      "Epoch 30/50 (training): 100%|██████████| 551/551 [03:26<00:00,  2.67it/s]\n",
      "Epoch 30/50 (validation): 100%|██████████| 69/69 [00:19<00:00,  3.51it/s]\n"
     ]
    },
    {
     "name": "stdout",
     "output_type": "stream",
     "text": [
      "Epoch 30/50: Train Loss: 1.5414, Val Loss: 1.4462, Avg Class Accuracy: 0.5928\n"
     ]
    },
    {
     "name": "stderr",
     "output_type": "stream",
     "text": [
      "Epoch 31/50 (training): 100%|██████████| 551/551 [03:26<00:00,  2.67it/s]\n",
      "Epoch 31/50 (validation): 100%|██████████| 69/69 [00:19<00:00,  3.57it/s]\n"
     ]
    },
    {
     "name": "stdout",
     "output_type": "stream",
     "text": [
      "Epoch 31/50: Train Loss: 1.5294, Val Loss: 1.4426, Avg Class Accuracy: 0.5980\n"
     ]
    },
    {
     "name": "stderr",
     "output_type": "stream",
     "text": [
      "Epoch 32/50 (training): 100%|██████████| 551/551 [03:25<00:00,  2.68it/s]\n",
      "Epoch 32/50 (validation): 100%|██████████| 69/69 [00:19<00:00,  3.51it/s]\n"
     ]
    },
    {
     "name": "stdout",
     "output_type": "stream",
     "text": [
      "Epoch 32/50: Train Loss: 1.5187, Val Loss: 1.4450, Avg Class Accuracy: 0.5967\n"
     ]
    },
    {
     "name": "stderr",
     "output_type": "stream",
     "text": [
      "Epoch 33/50 (training): 100%|██████████| 551/551 [03:27<00:00,  2.66it/s]\n",
      "Epoch 33/50 (validation): 100%|██████████| 69/69 [00:19<00:00,  3.52it/s]\n"
     ]
    },
    {
     "name": "stdout",
     "output_type": "stream",
     "text": [
      "Epoch 33/50: Train Loss: 1.5063, Val Loss: 1.4363, Avg Class Accuracy: 0.5979\n"
     ]
    },
    {
     "name": "stderr",
     "output_type": "stream",
     "text": [
      "Epoch 34/50 (training): 100%|██████████| 551/551 [03:29<00:00,  2.62it/s]\n",
      "Epoch 34/50 (validation): 100%|██████████| 69/69 [00:19<00:00,  3.50it/s]\n"
     ]
    },
    {
     "name": "stdout",
     "output_type": "stream",
     "text": [
      "Epoch 34/50: Train Loss: 1.4932, Val Loss: 1.4097, Avg Class Accuracy: 0.6042\n"
     ]
    },
    {
     "name": "stderr",
     "output_type": "stream",
     "text": [
      "Epoch 35/50 (training): 100%|██████████| 551/551 [03:28<00:00,  2.64it/s]\n",
      "Epoch 35/50 (validation): 100%|██████████| 69/69 [00:19<00:00,  3.47it/s]\n"
     ]
    },
    {
     "name": "stdout",
     "output_type": "stream",
     "text": [
      "Epoch 35/50: Train Loss: 1.4823, Val Loss: 1.4245, Avg Class Accuracy: 0.6009\n"
     ]
    },
    {
     "name": "stderr",
     "output_type": "stream",
     "text": [
      "Epoch 36/50 (training): 100%|██████████| 551/551 [03:28<00:00,  2.65it/s]\n",
      "Epoch 36/50 (validation): 100%|██████████| 69/69 [00:24<00:00,  2.82it/s]\n"
     ]
    },
    {
     "name": "stdout",
     "output_type": "stream",
     "text": [
      "Epoch 36/50: Train Loss: 1.4734, Val Loss: 1.3891, Avg Class Accuracy: 0.6103\n"
     ]
    },
    {
     "name": "stderr",
     "output_type": "stream",
     "text": [
      "Epoch 37/50 (training): 100%|██████████| 551/551 [03:25<00:00,  2.68it/s]\n",
      "Epoch 37/50 (validation): 100%|██████████| 69/69 [00:19<00:00,  3.55it/s]\n"
     ]
    },
    {
     "name": "stdout",
     "output_type": "stream",
     "text": [
      "Epoch 37/50: Train Loss: 1.4627, Val Loss: 1.4298, Avg Class Accuracy: 0.6036\n"
     ]
    },
    {
     "name": "stderr",
     "output_type": "stream",
     "text": [
      "Epoch 38/50 (training): 100%|██████████| 551/551 [03:26<00:00,  2.67it/s]\n",
      "Epoch 38/50 (validation): 100%|██████████| 69/69 [00:19<00:00,  3.54it/s]\n"
     ]
    },
    {
     "name": "stdout",
     "output_type": "stream",
     "text": [
      "Epoch 38/50: Train Loss: 1.4511, Val Loss: 1.3981, Avg Class Accuracy: 0.6077\n"
     ]
    },
    {
     "name": "stderr",
     "output_type": "stream",
     "text": [
      "Epoch 39/50 (training): 100%|██████████| 551/551 [03:25<00:00,  2.68it/s]\n",
      "Epoch 39/50 (validation): 100%|██████████| 69/69 [00:19<00:00,  3.55it/s]\n"
     ]
    },
    {
     "name": "stdout",
     "output_type": "stream",
     "text": [
      "Epoch 39/50: Train Loss: 1.4402, Val Loss: 1.4015, Avg Class Accuracy: 0.6089\n"
     ]
    },
    {
     "name": "stderr",
     "output_type": "stream",
     "text": [
      "Epoch 40/50 (training): 100%|██████████| 551/551 [03:27<00:00,  2.66it/s]\n",
      "Epoch 40/50 (validation): 100%|██████████| 69/69 [00:19<00:00,  3.50it/s]\n"
     ]
    },
    {
     "name": "stdout",
     "output_type": "stream",
     "text": [
      "Epoch 40/50: Train Loss: 1.4333, Val Loss: 1.3995, Avg Class Accuracy: 0.6105\n"
     ]
    },
    {
     "name": "stderr",
     "output_type": "stream",
     "text": [
      "Epoch 41/50 (training): 100%|██████████| 551/551 [03:26<00:00,  2.67it/s]\n",
      "Epoch 41/50 (validation): 100%|██████████| 69/69 [00:19<00:00,  3.57it/s]\n"
     ]
    },
    {
     "name": "stdout",
     "output_type": "stream",
     "text": [
      "Epoch 41/50: Train Loss: 1.4269, Val Loss: 1.3966, Avg Class Accuracy: 0.6083\n"
     ]
    },
    {
     "name": "stderr",
     "output_type": "stream",
     "text": [
      "Epoch 42/50 (training): 100%|██████████| 551/551 [03:26<00:00,  2.66it/s]\n",
      "Epoch 42/50 (validation): 100%|██████████| 69/69 [00:19<00:00,  3.51it/s]\n"
     ]
    },
    {
     "name": "stdout",
     "output_type": "stream",
     "text": [
      "Epoch 42/50: Train Loss: 1.4137, Val Loss: 1.3685, Avg Class Accuracy: 0.6148\n"
     ]
    },
    {
     "name": "stderr",
     "output_type": "stream",
     "text": [
      "Epoch 43/50 (training): 100%|██████████| 551/551 [03:26<00:00,  2.67it/s]\n",
      "Epoch 43/50 (validation): 100%|██████████| 69/69 [00:19<00:00,  3.53it/s]\n"
     ]
    },
    {
     "name": "stdout",
     "output_type": "stream",
     "text": [
      "Epoch 43/50: Train Loss: 1.4070, Val Loss: 1.3773, Avg Class Accuracy: 0.6132\n"
     ]
    },
    {
     "name": "stderr",
     "output_type": "stream",
     "text": [
      "Epoch 44/50 (training): 100%|██████████| 551/551 [03:28<00:00,  2.64it/s]\n",
      "Epoch 44/50 (validation): 100%|██████████| 69/69 [00:19<00:00,  3.50it/s]\n"
     ]
    },
    {
     "name": "stdout",
     "output_type": "stream",
     "text": [
      "Epoch 44/50: Train Loss: 1.3951, Val Loss: 1.3464, Avg Class Accuracy: 0.6213\n"
     ]
    },
    {
     "name": "stderr",
     "output_type": "stream",
     "text": [
      "Epoch 45/50 (training): 100%|██████████| 551/551 [03:27<00:00,  2.65it/s]\n",
      "Epoch 45/50 (validation): 100%|██████████| 69/69 [00:19<00:00,  3.53it/s]\n"
     ]
    },
    {
     "name": "stdout",
     "output_type": "stream",
     "text": [
      "Epoch 45/50: Train Loss: 1.3900, Val Loss: 1.3517, Avg Class Accuracy: 0.6193\n"
     ]
    },
    {
     "name": "stderr",
     "output_type": "stream",
     "text": [
      "Epoch 46/50 (training): 100%|██████████| 551/551 [03:26<00:00,  2.67it/s]\n",
      "Epoch 46/50 (validation): 100%|██████████| 69/69 [00:19<00:00,  3.48it/s]\n"
     ]
    },
    {
     "name": "stdout",
     "output_type": "stream",
     "text": [
      "Epoch 46/50: Train Loss: 1.3762, Val Loss: 1.3612, Avg Class Accuracy: 0.6155\n"
     ]
    },
    {
     "name": "stderr",
     "output_type": "stream",
     "text": [
      "Epoch 47/50 (training): 100%|██████████| 551/551 [03:27<00:00,  2.66it/s]\n",
      "Epoch 47/50 (validation): 100%|██████████| 69/69 [00:19<00:00,  3.48it/s]\n"
     ]
    },
    {
     "name": "stdout",
     "output_type": "stream",
     "text": [
      "Epoch 47/50: Train Loss: 1.3679, Val Loss: 1.3599, Avg Class Accuracy: 0.6215\n"
     ]
    },
    {
     "name": "stderr",
     "output_type": "stream",
     "text": [
      "Epoch 48/50 (training): 100%|██████████| 551/551 [03:26<00:00,  2.67it/s]\n",
      "Epoch 48/50 (validation): 100%|██████████| 69/69 [00:19<00:00,  3.56it/s]\n"
     ]
    },
    {
     "name": "stdout",
     "output_type": "stream",
     "text": [
      "Epoch 48/50: Train Loss: 1.3654, Val Loss: 1.3407, Avg Class Accuracy: 0.6229\n"
     ]
    },
    {
     "name": "stderr",
     "output_type": "stream",
     "text": [
      "Epoch 49/50 (training): 100%|██████████| 551/551 [03:28<00:00,  2.64it/s]\n",
      "Epoch 49/50 (validation): 100%|██████████| 69/69 [00:19<00:00,  3.52it/s]\n"
     ]
    },
    {
     "name": "stdout",
     "output_type": "stream",
     "text": [
      "Epoch 49/50: Train Loss: 1.3560, Val Loss: 1.3394, Avg Class Accuracy: 0.6222\n"
     ]
    },
    {
     "name": "stderr",
     "output_type": "stream",
     "text": [
      "Epoch 50/50 (training): 100%|██████████| 551/551 [03:28<00:00,  2.64it/s]\n",
      "Epoch 50/50 (validation): 100%|██████████| 69/69 [00:19<00:00,  3.54it/s]"
     ]
    },
    {
     "name": "stdout",
     "output_type": "stream",
     "text": [
      "Epoch 50/50: Train Loss: 1.3465, Val Loss: 1.3286, Avg Class Accuracy: 0.6269\n"
     ]
    },
    {
     "name": "stderr",
     "output_type": "stream",
     "text": [
      "\n"
     ]
    }
   ],
   "source": [
    "from models import BasicNet\n",
    "\n",
    "basicNet = BasicNet(num_classes=num_classes)\n",
    "\n",
    "optimizer = optim.Adam(basicNet.to(device).parameters(), lr=1e-4, weight_decay=1e-5)\n",
    "\n",
    "trainer = Trainer(basicNet, train_dl, val_dl, optimizer, device=device)\n",
    "trainer.train(num_epochs=50)"
   ]
  },
  {
   "cell_type": "markdown",
   "id": "8f378a19",
   "metadata": {},
   "source": [
    "### Using AvgPool"
   ]
  },
  {
   "cell_type": "code",
   "execution_count": 12,
   "id": "da78941b",
   "metadata": {},
   "outputs": [
    {
     "name": "stderr",
     "output_type": "stream",
     "text": [
      "Epoch 1/20 (training): 100%|██████████| 138/138 [00:55<00:00,  2.51it/s]\n",
      "Epoch 1/20 (validation): 100%|██████████| 18/18 [00:04<00:00,  3.79it/s]\n"
     ]
    },
    {
     "name": "stdout",
     "output_type": "stream",
     "text": [
      "Epoch 1/20: Train Loss: 3.5519, Val Loss: 3.1893, Avg Class Accuracy: 0.1791\n"
     ]
    },
    {
     "name": "stderr",
     "output_type": "stream",
     "text": [
      "Epoch 2/20 (training): 100%|██████████| 138/138 [00:54<00:00,  2.55it/s]\n",
      "Epoch 2/20 (validation): 100%|██████████| 18/18 [00:04<00:00,  3.96it/s]\n"
     ]
    },
    {
     "name": "stdout",
     "output_type": "stream",
     "text": [
      "Epoch 2/20: Train Loss: 3.2039, Val Loss: 2.9163, Avg Class Accuracy: 0.2359\n"
     ]
    },
    {
     "name": "stderr",
     "output_type": "stream",
     "text": [
      "Epoch 3/20 (training): 100%|██████████| 138/138 [00:50<00:00,  2.72it/s]\n",
      "Epoch 3/20 (validation): 100%|██████████| 18/18 [00:04<00:00,  4.00it/s]\n"
     ]
    },
    {
     "name": "stdout",
     "output_type": "stream",
     "text": [
      "Epoch 3/20: Train Loss: 3.0018, Val Loss: 2.7232, Avg Class Accuracy: 0.2865\n"
     ]
    },
    {
     "name": "stderr",
     "output_type": "stream",
     "text": [
      "Epoch 4/20 (training): 100%|██████████| 138/138 [00:50<00:00,  2.71it/s]\n",
      "Epoch 4/20 (validation): 100%|██████████| 18/18 [00:04<00:00,  3.97it/s]\n"
     ]
    },
    {
     "name": "stdout",
     "output_type": "stream",
     "text": [
      "Epoch 4/20: Train Loss: 2.8473, Val Loss: 2.6173, Avg Class Accuracy: 0.3054\n"
     ]
    },
    {
     "name": "stderr",
     "output_type": "stream",
     "text": [
      "Epoch 5/20 (training): 100%|██████████| 138/138 [00:50<00:00,  2.73it/s]\n",
      "Epoch 5/20 (validation): 100%|██████████| 18/18 [00:04<00:00,  3.91it/s]\n"
     ]
    },
    {
     "name": "stdout",
     "output_type": "stream",
     "text": [
      "Epoch 5/20: Train Loss: 2.7407, Val Loss: 2.5357, Avg Class Accuracy: 0.3214\n"
     ]
    },
    {
     "name": "stderr",
     "output_type": "stream",
     "text": [
      "Epoch 6/20 (training): 100%|██████████| 138/138 [00:51<00:00,  2.68it/s]\n",
      "Epoch 6/20 (validation): 100%|██████████| 18/18 [00:04<00:00,  3.94it/s]\n"
     ]
    },
    {
     "name": "stdout",
     "output_type": "stream",
     "text": [
      "Epoch 6/20: Train Loss: 2.6482, Val Loss: 2.4430, Avg Class Accuracy: 0.3424\n"
     ]
    },
    {
     "name": "stderr",
     "output_type": "stream",
     "text": [
      "Epoch 7/20 (training): 100%|██████████| 138/138 [00:50<00:00,  2.71it/s]\n",
      "Epoch 7/20 (validation): 100%|██████████| 18/18 [00:04<00:00,  3.96it/s]\n"
     ]
    },
    {
     "name": "stdout",
     "output_type": "stream",
     "text": [
      "Epoch 7/20: Train Loss: 2.5674, Val Loss: 2.3899, Avg Class Accuracy: 0.3511\n"
     ]
    },
    {
     "name": "stderr",
     "output_type": "stream",
     "text": [
      "Epoch 8/20 (training): 100%|██████████| 138/138 [00:51<00:00,  2.70it/s]\n",
      "Epoch 8/20 (validation): 100%|██████████| 18/18 [00:04<00:00,  4.02it/s]\n"
     ]
    },
    {
     "name": "stdout",
     "output_type": "stream",
     "text": [
      "Epoch 8/20: Train Loss: 2.4828, Val Loss: 2.4825, Avg Class Accuracy: 0.3355\n"
     ]
    },
    {
     "name": "stderr",
     "output_type": "stream",
     "text": [
      "Epoch 9/20 (training): 100%|██████████| 138/138 [00:50<00:00,  2.74it/s]\n",
      "Epoch 9/20 (validation): 100%|██████████| 18/18 [00:04<00:00,  3.97it/s]\n"
     ]
    },
    {
     "name": "stdout",
     "output_type": "stream",
     "text": [
      "Epoch 9/20: Train Loss: 2.4221, Val Loss: 2.3141, Avg Class Accuracy: 0.3703\n"
     ]
    },
    {
     "name": "stderr",
     "output_type": "stream",
     "text": [
      "Epoch 10/20 (training): 100%|██████████| 138/138 [00:51<00:00,  2.67it/s]\n",
      "Epoch 10/20 (validation): 100%|██████████| 18/18 [00:04<00:00,  3.94it/s]\n"
     ]
    },
    {
     "name": "stdout",
     "output_type": "stream",
     "text": [
      "Epoch 10/20: Train Loss: 2.3714, Val Loss: 2.2475, Avg Class Accuracy: 0.3917\n"
     ]
    },
    {
     "name": "stderr",
     "output_type": "stream",
     "text": [
      "Epoch 11/20 (training): 100%|██████████| 138/138 [00:50<00:00,  2.75it/s]\n",
      "Epoch 11/20 (validation): 100%|██████████| 18/18 [00:04<00:00,  3.97it/s]\n"
     ]
    },
    {
     "name": "stdout",
     "output_type": "stream",
     "text": [
      "Epoch 11/20: Train Loss: 2.3183, Val Loss: 2.2660, Avg Class Accuracy: 0.3872\n"
     ]
    },
    {
     "name": "stderr",
     "output_type": "stream",
     "text": [
      "Epoch 12/20 (training): 100%|██████████| 138/138 [00:49<00:00,  2.80it/s]\n",
      "Epoch 12/20 (validation): 100%|██████████| 18/18 [00:04<00:00,  4.06it/s]\n"
     ]
    },
    {
     "name": "stdout",
     "output_type": "stream",
     "text": [
      "Epoch 12/20: Train Loss: 2.2730, Val Loss: 2.1535, Avg Class Accuracy: 0.4097\n"
     ]
    },
    {
     "name": "stderr",
     "output_type": "stream",
     "text": [
      "Epoch 13/20 (training): 100%|██████████| 138/138 [00:49<00:00,  2.80it/s]\n",
      "Epoch 13/20 (validation): 100%|██████████| 18/18 [00:04<00:00,  4.07it/s]\n"
     ]
    },
    {
     "name": "stdout",
     "output_type": "stream",
     "text": [
      "Epoch 13/20: Train Loss: 2.2267, Val Loss: 2.1056, Avg Class Accuracy: 0.4186\n"
     ]
    },
    {
     "name": "stderr",
     "output_type": "stream",
     "text": [
      "Epoch 14/20 (training): 100%|██████████| 138/138 [00:49<00:00,  2.81it/s]\n",
      "Epoch 14/20 (validation): 100%|██████████| 18/18 [00:04<00:00,  4.11it/s]\n"
     ]
    },
    {
     "name": "stdout",
     "output_type": "stream",
     "text": [
      "Epoch 14/20: Train Loss: 2.1863, Val Loss: 2.0864, Avg Class Accuracy: 0.4259\n"
     ]
    },
    {
     "name": "stderr",
     "output_type": "stream",
     "text": [
      "Epoch 15/20 (training): 100%|██████████| 138/138 [00:48<00:00,  2.83it/s]\n",
      "Epoch 15/20 (validation): 100%|██████████| 18/18 [00:04<00:00,  4.05it/s]\n"
     ]
    },
    {
     "name": "stdout",
     "output_type": "stream",
     "text": [
      "Epoch 15/20: Train Loss: 2.1445, Val Loss: 2.1005, Avg Class Accuracy: 0.4210\n"
     ]
    },
    {
     "name": "stderr",
     "output_type": "stream",
     "text": [
      "Epoch 16/20 (training): 100%|██████████| 138/138 [00:48<00:00,  2.83it/s]\n",
      "Epoch 16/20 (validation): 100%|██████████| 18/18 [00:04<00:00,  4.04it/s]\n"
     ]
    },
    {
     "name": "stdout",
     "output_type": "stream",
     "text": [
      "Epoch 16/20: Train Loss: 2.1160, Val Loss: 2.0568, Avg Class Accuracy: 0.4305\n"
     ]
    },
    {
     "name": "stderr",
     "output_type": "stream",
     "text": [
      "Epoch 17/20 (training):  54%|█████▎    | 74/138 [00:28<00:24,  2.62it/s]\n"
     ]
    },
    {
     "ename": "KeyboardInterrupt",
     "evalue": "",
     "output_type": "error",
     "traceback": [
      "\u001b[31m---------------------------------------------------------------------------\u001b[39m",
      "\u001b[31mKeyboardInterrupt\u001b[39m                         Traceback (most recent call last)",
      "\u001b[36mCell\u001b[39m\u001b[36m \u001b[39m\u001b[32mIn[12]\u001b[39m\u001b[32m, line 8\u001b[39m\n\u001b[32m      5\u001b[39m optimizer = optim.Adam(basicNet.to(device).parameters(), lr=\u001b[32m1e-4\u001b[39m, weight_decay=\u001b[32m1e-5\u001b[39m)\n\u001b[32m      7\u001b[39m trainer = Trainer(basicNet, train_dl, val_dl, optimizer, device=device)\n\u001b[32m----> \u001b[39m\u001b[32m8\u001b[39m \u001b[43mtrainer\u001b[49m\u001b[43m.\u001b[49m\u001b[43mtrain\u001b[49m\u001b[43m(\u001b[49m\u001b[43mnum_epochs\u001b[49m\u001b[43m=\u001b[49m\u001b[32;43m20\u001b[39;49m\u001b[43m)\u001b[49m\n",
      "\u001b[36mFile \u001b[39m\u001b[32md:\\projekty\\ssne\\ex4\\training.py:80\u001b[39m, in \u001b[36mTrainer.train\u001b[39m\u001b[34m(self, num_epochs)\u001b[39m\n\u001b[32m     78\u001b[39m \u001b[38;5;28;01mdef\u001b[39;00m\u001b[38;5;250m \u001b[39m\u001b[34mtrain\u001b[39m(\u001b[38;5;28mself\u001b[39m, num_epochs):\n\u001b[32m     79\u001b[39m     \u001b[38;5;28;01mfor\u001b[39;00m epoch \u001b[38;5;129;01min\u001b[39;00m \u001b[38;5;28mrange\u001b[39m(\u001b[32m1\u001b[39m, num_epochs + \u001b[32m1\u001b[39m):\n\u001b[32m---> \u001b[39m\u001b[32m80\u001b[39m         train_loss = \u001b[38;5;28;43mself\u001b[39;49m\u001b[43m.\u001b[49m\u001b[43mtrain_step\u001b[49m\u001b[43m(\u001b[49m\u001b[43mepoch\u001b[49m\u001b[43m,\u001b[49m\u001b[43m \u001b[49m\u001b[43mnum_epochs\u001b[49m\u001b[43m)\u001b[49m\n\u001b[32m     81\u001b[39m         val_loss, avg_class_acc = \u001b[38;5;28mself\u001b[39m.evaluation_step(epoch, num_epochs)\n\u001b[32m     83\u001b[39m         \u001b[38;5;28mprint\u001b[39m(\u001b[33mf\u001b[39m\u001b[33m\"\u001b[39m\u001b[33mEpoch \u001b[39m\u001b[38;5;132;01m{\u001b[39;00mepoch\u001b[38;5;132;01m}\u001b[39;00m\u001b[33m/\u001b[39m\u001b[38;5;132;01m{\u001b[39;00mnum_epochs\u001b[38;5;132;01m}\u001b[39;00m\u001b[33m: Train Loss: \u001b[39m\u001b[38;5;132;01m{\u001b[39;00mtrain_loss\u001b[38;5;132;01m:\u001b[39;00m\u001b[33m.4f\u001b[39m\u001b[38;5;132;01m}\u001b[39;00m\u001b[33m, Val Loss: \u001b[39m\u001b[38;5;132;01m{\u001b[39;00mval_loss\u001b[38;5;132;01m:\u001b[39;00m\u001b[33m.4f\u001b[39m\u001b[38;5;132;01m}\u001b[39;00m\u001b[33m, Avg Class Accuracy: \u001b[39m\u001b[38;5;132;01m{\u001b[39;00mavg_class_acc\u001b[38;5;132;01m:\u001b[39;00m\u001b[33m.4f\u001b[39m\u001b[38;5;132;01m}\u001b[39;00m\u001b[33m\"\u001b[39m)\n",
      "\u001b[36mFile \u001b[39m\u001b[32md:\\projekty\\ssne\\ex4\\training.py:44\u001b[39m, in \u001b[36mTrainer.train_step\u001b[39m\u001b[34m(self, epoch, num_epochs)\u001b[39m\n\u001b[32m     41\u001b[39m     loss.backward()\n\u001b[32m     42\u001b[39m     \u001b[38;5;28mself\u001b[39m.optimizer.step()\n\u001b[32m---> \u001b[39m\u001b[32m44\u001b[39m     total_loss += \u001b[43mloss\u001b[49m\u001b[43m.\u001b[49m\u001b[43mitem\u001b[49m\u001b[43m(\u001b[49m\u001b[43m)\u001b[49m * images.size(\u001b[32m0\u001b[39m)\n\u001b[32m     46\u001b[39m epoch_loss = total_loss / \u001b[38;5;28mlen\u001b[39m(\u001b[38;5;28mself\u001b[39m.train_dl.dataset)\n\u001b[32m     47\u001b[39m \u001b[38;5;28;01mreturn\u001b[39;00m epoch_loss\n",
      "\u001b[31mKeyboardInterrupt\u001b[39m: "
     ]
    }
   ],
   "source": [
    "from models import AVGPoolNet_Kernel5\n",
    "\n",
    "basicNet = AVGPoolNet_Kernel5(num_classes=num_classes)\n",
    "\n",
    "optimizer = optim.Adam(basicNet.to(device).parameters(), lr=1e-4, weight_decay=1e-5)\n",
    "\n",
    "trainer = Trainer(basicNet, train_dl, val_dl, optimizer, device=device)\n",
    "trainer.train(num_epochs=20)"
   ]
  },
  {
   "cell_type": "code",
   "execution_count": 10,
   "id": "b027faf6",
   "metadata": {},
   "outputs": [
    {
     "name": "stderr",
     "output_type": "stream",
     "text": [
      "Epoch 1/20 (training): 100%|██████████| 138/138 [00:51<00:00,  2.67it/s]\n",
      "Epoch 1/20 (validation): 100%|██████████| 18/18 [00:05<00:00,  3.53it/s]\n"
     ]
    },
    {
     "name": "stdout",
     "output_type": "stream",
     "text": [
      "Epoch 1/20: Train Loss: 3.6056, Val Loss: 3.2587, Avg Class Accuracy: 0.1653\n"
     ]
    },
    {
     "name": "stderr",
     "output_type": "stream",
     "text": [
      "Epoch 2/20 (training): 100%|██████████| 138/138 [00:52<00:00,  2.64it/s]\n",
      "Epoch 2/20 (validation): 100%|██████████| 18/18 [00:04<00:00,  3.89it/s]\n"
     ]
    },
    {
     "name": "stdout",
     "output_type": "stream",
     "text": [
      "Epoch 2/20: Train Loss: 3.2894, Val Loss: 3.0086, Avg Class Accuracy: 0.2249\n"
     ]
    },
    {
     "name": "stderr",
     "output_type": "stream",
     "text": [
      "Epoch 3/20 (training): 100%|██████████| 138/138 [00:51<00:00,  2.67it/s]\n",
      "Epoch 3/20 (validation): 100%|██████████| 18/18 [00:04<00:00,  4.03it/s]\n"
     ]
    },
    {
     "name": "stdout",
     "output_type": "stream",
     "text": [
      "Epoch 3/20: Train Loss: 3.1105, Val Loss: 2.8311, Avg Class Accuracy: 0.2505\n"
     ]
    },
    {
     "name": "stderr",
     "output_type": "stream",
     "text": [
      "Epoch 4/20 (training): 100%|██████████| 138/138 [00:51<00:00,  2.66it/s]\n",
      "Epoch 4/20 (validation): 100%|██████████| 18/18 [00:04<00:00,  3.96it/s]\n"
     ]
    },
    {
     "name": "stdout",
     "output_type": "stream",
     "text": [
      "Epoch 4/20: Train Loss: 2.9690, Val Loss: 2.7241, Avg Class Accuracy: 0.2778\n"
     ]
    },
    {
     "name": "stderr",
     "output_type": "stream",
     "text": [
      "Epoch 5/20 (training): 100%|██████████| 138/138 [00:51<00:00,  2.67it/s]\n",
      "Epoch 5/20 (validation): 100%|██████████| 18/18 [00:04<00:00,  4.00it/s]\n"
     ]
    },
    {
     "name": "stdout",
     "output_type": "stream",
     "text": [
      "Epoch 5/20: Train Loss: 2.8552, Val Loss: 2.5964, Avg Class Accuracy: 0.3081\n"
     ]
    },
    {
     "name": "stderr",
     "output_type": "stream",
     "text": [
      "Epoch 6/20 (training): 100%|██████████| 138/138 [00:51<00:00,  2.66it/s]\n",
      "Epoch 6/20 (validation): 100%|██████████| 18/18 [00:04<00:00,  3.96it/s]\n"
     ]
    },
    {
     "name": "stdout",
     "output_type": "stream",
     "text": [
      "Epoch 6/20: Train Loss: 2.7637, Val Loss: 2.5547, Avg Class Accuracy: 0.3171\n"
     ]
    },
    {
     "name": "stderr",
     "output_type": "stream",
     "text": [
      "Epoch 7/20 (training): 100%|██████████| 138/138 [00:51<00:00,  2.66it/s]\n",
      "Epoch 7/20 (validation): 100%|██████████| 18/18 [00:04<00:00,  3.89it/s]\n"
     ]
    },
    {
     "name": "stdout",
     "output_type": "stream",
     "text": [
      "Epoch 7/20: Train Loss: 2.6879, Val Loss: 2.4556, Avg Class Accuracy: 0.3433\n"
     ]
    },
    {
     "name": "stderr",
     "output_type": "stream",
     "text": [
      "Epoch 8/20 (training): 100%|██████████| 138/138 [00:52<00:00,  2.65it/s]\n",
      "Epoch 8/20 (validation): 100%|██████████| 18/18 [00:04<00:00,  3.81it/s]\n"
     ]
    },
    {
     "name": "stdout",
     "output_type": "stream",
     "text": [
      "Epoch 8/20: Train Loss: 2.6138, Val Loss: 2.3922, Avg Class Accuracy: 0.3509\n"
     ]
    },
    {
     "name": "stderr",
     "output_type": "stream",
     "text": [
      "Epoch 9/20 (training): 100%|██████████| 138/138 [00:51<00:00,  2.66it/s]\n",
      "Epoch 9/20 (validation): 100%|██████████| 18/18 [00:04<00:00,  3.91it/s]\n"
     ]
    },
    {
     "name": "stdout",
     "output_type": "stream",
     "text": [
      "Epoch 9/20: Train Loss: 2.5552, Val Loss: 2.3663, Avg Class Accuracy: 0.3565\n"
     ]
    },
    {
     "name": "stderr",
     "output_type": "stream",
     "text": [
      "Epoch 10/20 (training): 100%|██████████| 138/138 [00:51<00:00,  2.66it/s]\n",
      "Epoch 10/20 (validation): 100%|██████████| 18/18 [00:04<00:00,  4.11it/s]\n"
     ]
    },
    {
     "name": "stdout",
     "output_type": "stream",
     "text": [
      "Epoch 10/20: Train Loss: 2.5071, Val Loss: 2.2936, Avg Class Accuracy: 0.3762\n"
     ]
    },
    {
     "name": "stderr",
     "output_type": "stream",
     "text": [
      "Epoch 11/20 (training): 100%|██████████| 138/138 [00:51<00:00,  2.67it/s]\n",
      "Epoch 11/20 (validation): 100%|██████████| 18/18 [00:04<00:00,  3.96it/s]\n"
     ]
    },
    {
     "name": "stdout",
     "output_type": "stream",
     "text": [
      "Epoch 11/20: Train Loss: 2.4516, Val Loss: 2.2685, Avg Class Accuracy: 0.3804\n"
     ]
    },
    {
     "name": "stderr",
     "output_type": "stream",
     "text": [
      "Epoch 12/20 (training): 100%|██████████| 138/138 [00:51<00:00,  2.67it/s]\n",
      "Epoch 12/20 (validation): 100%|██████████| 18/18 [00:04<00:00,  3.99it/s]\n"
     ]
    },
    {
     "name": "stdout",
     "output_type": "stream",
     "text": [
      "Epoch 12/20: Train Loss: 2.4129, Val Loss: 2.2203, Avg Class Accuracy: 0.3916\n"
     ]
    },
    {
     "name": "stderr",
     "output_type": "stream",
     "text": [
      "Epoch 13/20 (training): 100%|██████████| 138/138 [00:51<00:00,  2.65it/s]\n",
      "Epoch 13/20 (validation): 100%|██████████| 18/18 [00:04<00:00,  3.95it/s]\n"
     ]
    },
    {
     "name": "stdout",
     "output_type": "stream",
     "text": [
      "Epoch 13/20: Train Loss: 2.3655, Val Loss: 2.2525, Avg Class Accuracy: 0.3869\n"
     ]
    },
    {
     "name": "stderr",
     "output_type": "stream",
     "text": [
      "Epoch 14/20 (training): 100%|██████████| 138/138 [00:52<00:00,  2.61it/s]\n",
      "Epoch 14/20 (validation): 100%|██████████| 18/18 [00:04<00:00,  3.94it/s]\n"
     ]
    },
    {
     "name": "stdout",
     "output_type": "stream",
     "text": [
      "Epoch 14/20: Train Loss: 2.3395, Val Loss: 2.2128, Avg Class Accuracy: 0.3902\n"
     ]
    },
    {
     "name": "stderr",
     "output_type": "stream",
     "text": [
      "Epoch 15/20 (training): 100%|██████████| 138/138 [00:52<00:00,  2.64it/s]\n",
      "Epoch 15/20 (validation): 100%|██████████| 18/18 [00:04<00:00,  3.87it/s]\n"
     ]
    },
    {
     "name": "stdout",
     "output_type": "stream",
     "text": [
      "Epoch 15/20: Train Loss: 2.3060, Val Loss: 2.1868, Avg Class Accuracy: 0.4021\n"
     ]
    },
    {
     "name": "stderr",
     "output_type": "stream",
     "text": [
      "Epoch 16/20 (training): 100%|██████████| 138/138 [00:51<00:00,  2.67it/s]\n",
      "Epoch 16/20 (validation): 100%|██████████| 18/18 [00:04<00:00,  3.74it/s]\n"
     ]
    },
    {
     "name": "stdout",
     "output_type": "stream",
     "text": [
      "Epoch 16/20: Train Loss: 2.2720, Val Loss: 2.1091, Avg Class Accuracy: 0.4196\n"
     ]
    },
    {
     "name": "stderr",
     "output_type": "stream",
     "text": [
      "Epoch 17/20 (training): 100%|██████████| 138/138 [00:52<00:00,  2.65it/s]\n",
      "Epoch 17/20 (validation): 100%|██████████| 18/18 [00:04<00:00,  3.90it/s]\n"
     ]
    },
    {
     "name": "stdout",
     "output_type": "stream",
     "text": [
      "Epoch 17/20: Train Loss: 2.2431, Val Loss: 2.1306, Avg Class Accuracy: 0.4175\n"
     ]
    },
    {
     "name": "stderr",
     "output_type": "stream",
     "text": [
      "Epoch 18/20 (training): 100%|██████████| 138/138 [00:51<00:00,  2.66it/s]\n",
      "Epoch 18/20 (validation): 100%|██████████| 18/18 [00:04<00:00,  3.97it/s]\n"
     ]
    },
    {
     "name": "stdout",
     "output_type": "stream",
     "text": [
      "Epoch 18/20: Train Loss: 2.2123, Val Loss: 2.1298, Avg Class Accuracy: 0.4178\n"
     ]
    },
    {
     "name": "stderr",
     "output_type": "stream",
     "text": [
      "Epoch 19/20 (training): 100%|██████████| 138/138 [00:52<00:00,  2.65it/s]\n",
      "Epoch 19/20 (validation): 100%|██████████| 18/18 [00:04<00:00,  3.96it/s]\n"
     ]
    },
    {
     "name": "stdout",
     "output_type": "stream",
     "text": [
      "Epoch 19/20: Train Loss: 2.1843, Val Loss: 2.0676, Avg Class Accuracy: 0.4377\n"
     ]
    },
    {
     "name": "stderr",
     "output_type": "stream",
     "text": [
      "Epoch 20/20 (training): 100%|██████████| 138/138 [00:51<00:00,  2.67it/s]\n",
      "Epoch 20/20 (validation): 100%|██████████| 18/18 [00:04<00:00,  3.72it/s]"
     ]
    },
    {
     "name": "stdout",
     "output_type": "stream",
     "text": [
      "Epoch 20/20: Train Loss: 2.1691, Val Loss: 2.0930, Avg Class Accuracy: 0.4242\n"
     ]
    },
    {
     "name": "stderr",
     "output_type": "stream",
     "text": [
      "\n"
     ]
    }
   ],
   "source": [
    "from models import AVGPoolNet_Kernel3\n",
    "\n",
    "basicNet = AVGPoolNet_Kernel3(num_classes=num_classes)\n",
    "\n",
    "optimizer = optim.Adam(basicNet.to(device).parameters(), lr=1e-4, weight_decay=1e-5)\n",
    "\n",
    "trainer = Trainer(basicNet, train_dl, val_dl, optimizer, device=device)\n",
    "trainer.train(num_epochs=20)"
   ]
  },
  {
   "cell_type": "markdown",
   "id": "e04f1af9",
   "metadata": {},
   "source": [
    "#### Not using pooling"
   ]
  },
  {
   "cell_type": "code",
   "execution_count": 13,
   "id": "71c28fc7",
   "metadata": {},
   "outputs": [
    {
     "name": "stderr",
     "output_type": "stream",
     "text": [
      "Epoch 1/30 (training): 100%|██████████| 138/138 [00:48<00:00,  2.85it/s]\n",
      "Epoch 1/30 (validation): 100%|██████████| 18/18 [00:04<00:00,  4.34it/s]\n"
     ]
    },
    {
     "name": "stdout",
     "output_type": "stream",
     "text": [
      "Epoch 1/30: Train Loss: 3.6513, Val Loss: 3.3290, Avg Class Accuracy: 0.1511\n"
     ]
    },
    {
     "name": "stderr",
     "output_type": "stream",
     "text": [
      "Epoch 2/30 (training): 100%|██████████| 138/138 [00:48<00:00,  2.86it/s]\n",
      "Epoch 2/30 (validation): 100%|██████████| 18/18 [00:04<00:00,  4.30it/s]\n"
     ]
    },
    {
     "name": "stdout",
     "output_type": "stream",
     "text": [
      "Epoch 2/30: Train Loss: 3.3556, Val Loss: 3.1075, Avg Class Accuracy: 0.1935\n"
     ]
    },
    {
     "name": "stderr",
     "output_type": "stream",
     "text": [
      "Epoch 3/30 (training): 100%|██████████| 138/138 [00:48<00:00,  2.86it/s]\n",
      "Epoch 3/30 (validation): 100%|██████████| 18/18 [00:04<00:00,  4.15it/s]\n"
     ]
    },
    {
     "name": "stdout",
     "output_type": "stream",
     "text": [
      "Epoch 3/30: Train Loss: 3.1828, Val Loss: 2.9245, Avg Class Accuracy: 0.2326\n"
     ]
    },
    {
     "name": "stderr",
     "output_type": "stream",
     "text": [
      "Epoch 4/30 (training): 100%|██████████| 138/138 [00:47<00:00,  2.88it/s]\n",
      "Epoch 4/30 (validation): 100%|██████████| 18/18 [00:04<00:00,  3.91it/s]\n"
     ]
    },
    {
     "name": "stdout",
     "output_type": "stream",
     "text": [
      "Epoch 4/30: Train Loss: 3.0407, Val Loss: 2.8046, Avg Class Accuracy: 0.2699\n"
     ]
    },
    {
     "name": "stderr",
     "output_type": "stream",
     "text": [
      "Epoch 5/30 (training): 100%|██████████| 138/138 [00:47<00:00,  2.88it/s]\n",
      "Epoch 5/30 (validation): 100%|██████████| 18/18 [00:04<00:00,  3.81it/s]\n"
     ]
    },
    {
     "name": "stdout",
     "output_type": "stream",
     "text": [
      "Epoch 5/30: Train Loss: 2.9307, Val Loss: 2.7194, Avg Class Accuracy: 0.2773\n"
     ]
    },
    {
     "name": "stderr",
     "output_type": "stream",
     "text": [
      "Epoch 6/30 (training): 100%|██████████| 138/138 [00:48<00:00,  2.86it/s]\n",
      "Epoch 6/30 (validation): 100%|██████████| 18/18 [00:04<00:00,  4.05it/s]\n"
     ]
    },
    {
     "name": "stdout",
     "output_type": "stream",
     "text": [
      "Epoch 6/30: Train Loss: 2.8368, Val Loss: 2.6641, Avg Class Accuracy: 0.2851\n"
     ]
    },
    {
     "name": "stderr",
     "output_type": "stream",
     "text": [
      "Epoch 7/30 (training): 100%|██████████| 138/138 [00:48<00:00,  2.83it/s]\n",
      "Epoch 7/30 (validation): 100%|██████████| 18/18 [00:04<00:00,  3.98it/s]\n"
     ]
    },
    {
     "name": "stdout",
     "output_type": "stream",
     "text": [
      "Epoch 7/30: Train Loss: 2.7550, Val Loss: 2.5602, Avg Class Accuracy: 0.3180\n"
     ]
    },
    {
     "name": "stderr",
     "output_type": "stream",
     "text": [
      "Epoch 8/30 (training): 100%|██████████| 138/138 [00:48<00:00,  2.82it/s]\n",
      "Epoch 8/30 (validation): 100%|██████████| 18/18 [00:04<00:00,  3.99it/s]\n"
     ]
    },
    {
     "name": "stdout",
     "output_type": "stream",
     "text": [
      "Epoch 8/30: Train Loss: 2.6783, Val Loss: 2.4966, Avg Class Accuracy: 0.3262\n"
     ]
    },
    {
     "name": "stderr",
     "output_type": "stream",
     "text": [
      "Epoch 9/30 (training): 100%|██████████| 138/138 [00:48<00:00,  2.83it/s]\n",
      "Epoch 9/30 (validation): 100%|██████████| 18/18 [00:04<00:00,  3.80it/s]\n"
     ]
    },
    {
     "name": "stdout",
     "output_type": "stream",
     "text": [
      "Epoch 9/30: Train Loss: 2.6033, Val Loss: 2.4735, Avg Class Accuracy: 0.3338\n"
     ]
    },
    {
     "name": "stderr",
     "output_type": "stream",
     "text": [
      "Epoch 10/30 (training): 100%|██████████| 138/138 [00:49<00:00,  2.79it/s]\n",
      "Epoch 10/30 (validation): 100%|██████████| 18/18 [00:04<00:00,  4.12it/s]\n"
     ]
    },
    {
     "name": "stdout",
     "output_type": "stream",
     "text": [
      "Epoch 10/30: Train Loss: 2.5440, Val Loss: 2.3983, Avg Class Accuracy: 0.3416\n"
     ]
    },
    {
     "name": "stderr",
     "output_type": "stream",
     "text": [
      "Epoch 11/30 (training): 100%|██████████| 138/138 [00:48<00:00,  2.87it/s]\n",
      "Epoch 11/30 (validation): 100%|██████████| 18/18 [00:04<00:00,  3.97it/s]\n"
     ]
    },
    {
     "name": "stdout",
     "output_type": "stream",
     "text": [
      "Epoch 11/30: Train Loss: 2.4882, Val Loss: 2.4008, Avg Class Accuracy: 0.3532\n"
     ]
    },
    {
     "name": "stderr",
     "output_type": "stream",
     "text": [
      "Epoch 12/30 (training): 100%|██████████| 138/138 [00:48<00:00,  2.82it/s]\n",
      "Epoch 12/30 (validation): 100%|██████████| 18/18 [00:04<00:00,  3.75it/s]\n"
     ]
    },
    {
     "name": "stdout",
     "output_type": "stream",
     "text": [
      "Epoch 12/30: Train Loss: 2.4311, Val Loss: 2.3477, Avg Class Accuracy: 0.3573\n"
     ]
    },
    {
     "name": "stderr",
     "output_type": "stream",
     "text": [
      "Epoch 13/30 (training): 100%|██████████| 138/138 [00:48<00:00,  2.82it/s]\n",
      "Epoch 13/30 (validation): 100%|██████████| 18/18 [00:04<00:00,  3.93it/s]\n"
     ]
    },
    {
     "name": "stdout",
     "output_type": "stream",
     "text": [
      "Epoch 13/30: Train Loss: 2.3787, Val Loss: 2.3147, Avg Class Accuracy: 0.3634\n"
     ]
    },
    {
     "name": "stderr",
     "output_type": "stream",
     "text": [
      "Epoch 14/30 (training): 100%|██████████| 138/138 [00:47<00:00,  2.93it/s]\n",
      "Epoch 14/30 (validation): 100%|██████████| 18/18 [00:04<00:00,  3.97it/s]\n"
     ]
    },
    {
     "name": "stdout",
     "output_type": "stream",
     "text": [
      "Epoch 14/30: Train Loss: 2.3369, Val Loss: 2.3540, Avg Class Accuracy: 0.3623\n"
     ]
    },
    {
     "name": "stderr",
     "output_type": "stream",
     "text": [
      "Epoch 15/30 (training): 100%|██████████| 138/138 [00:48<00:00,  2.85it/s]\n",
      "Epoch 15/30 (validation): 100%|██████████| 18/18 [00:04<00:00,  3.88it/s]\n"
     ]
    },
    {
     "name": "stdout",
     "output_type": "stream",
     "text": [
      "Epoch 15/30: Train Loss: 2.2836, Val Loss: 2.2616, Avg Class Accuracy: 0.3809\n"
     ]
    },
    {
     "name": "stderr",
     "output_type": "stream",
     "text": [
      "Epoch 16/30 (training): 100%|██████████| 138/138 [00:48<00:00,  2.83it/s]\n",
      "Epoch 16/30 (validation): 100%|██████████| 18/18 [00:04<00:00,  3.98it/s]\n"
     ]
    },
    {
     "name": "stdout",
     "output_type": "stream",
     "text": [
      "Epoch 16/30: Train Loss: 2.2415, Val Loss: 2.2297, Avg Class Accuracy: 0.3918\n"
     ]
    },
    {
     "name": "stderr",
     "output_type": "stream",
     "text": [
      "Epoch 17/30 (training): 100%|██████████| 138/138 [00:47<00:00,  2.89it/s]\n",
      "Epoch 17/30 (validation): 100%|██████████| 18/18 [00:04<00:00,  4.32it/s]\n"
     ]
    },
    {
     "name": "stdout",
     "output_type": "stream",
     "text": [
      "Epoch 17/30: Train Loss: 2.1964, Val Loss: 2.2054, Avg Class Accuracy: 0.3934\n"
     ]
    },
    {
     "name": "stderr",
     "output_type": "stream",
     "text": [
      "Epoch 18/30 (training): 100%|██████████| 138/138 [00:47<00:00,  2.88it/s]\n",
      "Epoch 18/30 (validation): 100%|██████████| 18/18 [00:04<00:00,  3.76it/s]\n"
     ]
    },
    {
     "name": "stdout",
     "output_type": "stream",
     "text": [
      "Epoch 18/30: Train Loss: 2.1603, Val Loss: 2.2154, Avg Class Accuracy: 0.3951\n"
     ]
    },
    {
     "name": "stderr",
     "output_type": "stream",
     "text": [
      "Epoch 19/30 (training): 100%|██████████| 138/138 [00:48<00:00,  2.85it/s]\n",
      "Epoch 19/30 (validation): 100%|██████████| 18/18 [00:04<00:00,  3.89it/s]\n"
     ]
    },
    {
     "name": "stdout",
     "output_type": "stream",
     "text": [
      "Epoch 19/30: Train Loss: 2.1262, Val Loss: 2.2037, Avg Class Accuracy: 0.3871\n"
     ]
    },
    {
     "name": "stderr",
     "output_type": "stream",
     "text": [
      "Epoch 20/30 (training): 100%|██████████| 138/138 [00:50<00:00,  2.74it/s]\n",
      "Epoch 20/30 (validation): 100%|██████████| 18/18 [00:04<00:00,  3.75it/s]\n"
     ]
    },
    {
     "name": "stdout",
     "output_type": "stream",
     "text": [
      "Epoch 20/30: Train Loss: 2.0866, Val Loss: 2.1822, Avg Class Accuracy: 0.3980\n"
     ]
    },
    {
     "name": "stderr",
     "output_type": "stream",
     "text": [
      "Epoch 21/30 (training): 100%|██████████| 138/138 [00:49<00:00,  2.79it/s]\n",
      "Epoch 21/30 (validation): 100%|██████████| 18/18 [00:04<00:00,  4.39it/s]\n"
     ]
    },
    {
     "name": "stdout",
     "output_type": "stream",
     "text": [
      "Epoch 21/30: Train Loss: 2.0529, Val Loss: 2.1814, Avg Class Accuracy: 0.4049\n"
     ]
    },
    {
     "name": "stderr",
     "output_type": "stream",
     "text": [
      "Epoch 22/30 (training): 100%|██████████| 138/138 [00:49<00:00,  2.81it/s]\n",
      "Epoch 22/30 (validation): 100%|██████████| 18/18 [00:04<00:00,  4.04it/s]\n"
     ]
    },
    {
     "name": "stdout",
     "output_type": "stream",
     "text": [
      "Epoch 22/30: Train Loss: 2.0234, Val Loss: 2.1696, Avg Class Accuracy: 0.4034\n"
     ]
    },
    {
     "name": "stderr",
     "output_type": "stream",
     "text": [
      "Epoch 23/30 (training): 100%|██████████| 138/138 [00:48<00:00,  2.85it/s]\n",
      "Epoch 23/30 (validation): 100%|██████████| 18/18 [00:04<00:00,  4.15it/s]\n"
     ]
    },
    {
     "name": "stdout",
     "output_type": "stream",
     "text": [
      "Epoch 23/30: Train Loss: 1.9774, Val Loss: 2.1546, Avg Class Accuracy: 0.4051\n"
     ]
    },
    {
     "name": "stderr",
     "output_type": "stream",
     "text": [
      "Epoch 24/30 (training): 100%|██████████| 138/138 [00:48<00:00,  2.83it/s]\n",
      "Epoch 24/30 (validation): 100%|██████████| 18/18 [00:04<00:00,  3.90it/s]\n"
     ]
    },
    {
     "name": "stdout",
     "output_type": "stream",
     "text": [
      "Epoch 24/30: Train Loss: 1.9570, Val Loss: 2.1302, Avg Class Accuracy: 0.4103\n"
     ]
    },
    {
     "name": "stderr",
     "output_type": "stream",
     "text": [
      "Epoch 25/30 (training): 100%|██████████| 138/138 [00:48<00:00,  2.83it/s]\n",
      "Epoch 25/30 (validation): 100%|██████████| 18/18 [00:04<00:00,  3.72it/s]\n"
     ]
    },
    {
     "name": "stdout",
     "output_type": "stream",
     "text": [
      "Epoch 25/30: Train Loss: 1.9268, Val Loss: 2.1574, Avg Class Accuracy: 0.4118\n"
     ]
    },
    {
     "name": "stderr",
     "output_type": "stream",
     "text": [
      "Epoch 26/30 (training): 100%|██████████| 138/138 [00:50<00:00,  2.73it/s]\n",
      "Epoch 26/30 (validation): 100%|██████████| 18/18 [00:04<00:00,  4.03it/s]\n"
     ]
    },
    {
     "name": "stdout",
     "output_type": "stream",
     "text": [
      "Epoch 26/30: Train Loss: 1.9028, Val Loss: 2.1213, Avg Class Accuracy: 0.4208\n"
     ]
    },
    {
     "name": "stderr",
     "output_type": "stream",
     "text": [
      "Epoch 27/30 (training): 100%|██████████| 138/138 [00:48<00:00,  2.83it/s]\n",
      "Epoch 27/30 (validation): 100%|██████████| 18/18 [00:04<00:00,  3.76it/s]\n"
     ]
    },
    {
     "name": "stdout",
     "output_type": "stream",
     "text": [
      "Epoch 27/30: Train Loss: 1.8780, Val Loss: 2.1505, Avg Class Accuracy: 0.4138\n"
     ]
    },
    {
     "name": "stderr",
     "output_type": "stream",
     "text": [
      "Epoch 28/30 (training): 100%|██████████| 138/138 [00:48<00:00,  2.82it/s]\n",
      "Epoch 28/30 (validation): 100%|██████████| 18/18 [00:04<00:00,  4.07it/s]\n"
     ]
    },
    {
     "name": "stdout",
     "output_type": "stream",
     "text": [
      "Epoch 28/30: Train Loss: 1.8506, Val Loss: 2.1272, Avg Class Accuracy: 0.4211\n"
     ]
    },
    {
     "name": "stderr",
     "output_type": "stream",
     "text": [
      "Epoch 29/30 (training): 100%|██████████| 138/138 [00:48<00:00,  2.87it/s]\n",
      "Epoch 29/30 (validation): 100%|██████████| 18/18 [00:04<00:00,  4.20it/s]\n"
     ]
    },
    {
     "name": "stdout",
     "output_type": "stream",
     "text": [
      "Epoch 29/30: Train Loss: 1.8240, Val Loss: 2.1564, Avg Class Accuracy: 0.4191\n"
     ]
    },
    {
     "name": "stderr",
     "output_type": "stream",
     "text": [
      "Epoch 30/30 (training): 100%|██████████| 138/138 [00:48<00:00,  2.86it/s]\n",
      "Epoch 30/30 (validation): 100%|██████████| 18/18 [00:04<00:00,  3.86it/s]"
     ]
    },
    {
     "name": "stdout",
     "output_type": "stream",
     "text": [
      "Epoch 30/30: Train Loss: 1.8038, Val Loss: 2.1300, Avg Class Accuracy: 0.4200\n"
     ]
    },
    {
     "name": "stderr",
     "output_type": "stream",
     "text": [
      "\n"
     ]
    }
   ],
   "source": [
    "from models import No_PoolNet\n",
    "\n",
    "basicNet = No_PoolNet(num_classes=num_classes)\n",
    "\n",
    "optimizer = optim.Adam(basicNet.to(device).parameters(), lr=1e-4, weight_decay=1e-5)\n",
    "\n",
    "trainer = Trainer(basicNet, train_dl, val_dl, optimizer, device=device)\n",
    "trainer.train(num_epochs=30)"
   ]
  },
  {
   "cell_type": "markdown",
   "id": "e39016aa",
   "metadata": {},
   "source": [
    "### Renset-like model"
   ]
  },
  {
   "cell_type": "code",
   "execution_count": null,
   "id": "5d69386e",
   "metadata": {},
   "outputs": [],
   "source": [
    "from models import SimpleResNet\n",
    "\n",
    "simpleResNet = SimpleResNet(num_classes=num_classes)\n",
    "\n",
    "optimizer = optim.Adam(simpleResNet.to(device).parameters(), lr=1e-4, weight_decay=1e-5)\n",
    "\n",
    "trainer = Trainer(simpleResNet, train_dl, val_dl, optimizer, device=device)\n",
    "trainer.train(num_epochs=20)"
   ]
  },
  {
   "cell_type": "markdown",
   "id": "657afee3",
   "metadata": {},
   "source": [
    "### Four-block CNN"
   ]
  },
  {
   "cell_type": "code",
   "execution_count": null,
   "id": "82ec7286",
   "metadata": {},
   "outputs": [],
   "source": [
    "from models import FourBlockCNN\n",
    "\n",
    "fourBlockCNN = FourBlockCNN(num_classes=50)\n",
    "\n",
    "optimizer = optim.Adam(fourBlockCNN.to(device).parameters(), lr=1e-3, weight_decay=1e-5)\n",
    "\n",
    "trainer = Trainer(fourBlockCNN, train_dl, val_dl, optimizer, device=device)\n",
    "trainer.train(num_epochs=30)\n",
    "\n",
    "# Results:\n",
    "# Without augmentation: Epoch 10/10: Train Loss: 2.2281, Val Loss: 2.4054, Avg Class Accuracy: 0.3387\n",
    "# With augmentation: Epoch 10/10: Train Loss: 1.7477, Val Loss: 1.8611, Avg Class Accuracy: 0.4847"
   ]
  },
  {
   "cell_type": "markdown",
   "id": "9d66a126",
   "metadata": {},
   "source": [
    "## Resnet18\n",
    "\n",
    "Here we train the ResNet18 model on the dataset to see the state of the art performance."
   ]
  },
  {
   "cell_type": "code",
   "execution_count": null,
   "id": "2c7b45fd",
   "metadata": {},
   "outputs": [],
   "source": [
    "import torch.nn as nn\n",
    "\n",
    "resnet18 = torch.hub.load('pytorch/vision:v0.10.0', 'resnet18', pretrained=False)\n",
    "\n",
    "in_features = resnet18.fc.in_features\n",
    "resnet18.fc = nn.Linear(in_features, num_classes)\n",
    "\n",
    "resnet18 = resnet18.to(device)\n",
    "\n",
    "optimizer = optim.Adam(resnet18.parameters(), lr=1e-4, weight_decay=1e-5)\n",
    "\n",
    "trainer = Trainer(resnet18, train_dl, val_dl, optimizer, device=device)\n",
    "trainer.train(num_epochs=30)"
   ]
  }
 ],
 "metadata": {
  "kernelspec": {
   "display_name": "anotherssne",
   "language": "python",
   "name": "myenv"
  },
  "language_info": {
   "codemirror_mode": {
    "name": "ipython",
    "version": 3
   },
   "file_extension": ".py",
   "mimetype": "text/x-python",
   "name": "python",
   "nbconvert_exporter": "python",
   "pygments_lexer": "ipython3",
   "version": "3.13.2"
  }
 },
 "nbformat": 4,
 "nbformat_minor": 5
}
