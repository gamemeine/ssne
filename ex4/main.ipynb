{
 "cells": [
  {
   "cell_type": "markdown",
   "id": "7cc72ded",
   "metadata": {},
   "source": [
    "# Image classification"
   ]
  },
  {
   "cell_type": "code",
   "execution_count": 16,
   "id": "21f91952",
   "metadata": {},
   "outputs": [],
   "source": [
    "import torch\n",
    "from torch import Generator\n",
    "\n",
    "# Set the random seed for reproducibility\n",
    "random_state = 42"
   ]
  },
  {
   "cell_type": "code",
   "execution_count": 17,
   "id": "abf3d6e8",
   "metadata": {},
   "outputs": [
    {
     "name": "stdout",
     "output_type": "stream",
     "text": [
      "Using device: mps\n"
     ]
    }
   ],
   "source": [
    "device = \"cuda\" if torch.cuda.is_available() else \"mps\" if torch.backends.mps.is_available() else \"cpu\"\n",
    "print(f\"Using device: {device}\")"
   ]
  },
  {
   "cell_type": "markdown",
   "id": "8fa6528d",
   "metadata": {},
   "source": [
    "## Preprocessing"
   ]
  },
  {
   "cell_type": "code",
   "execution_count": 18,
   "id": "3e6f0be5",
   "metadata": {},
   "outputs": [
    {
     "name": "stdout",
     "output_type": "stream",
     "text": [
      "Train and validation directories already exist.\n"
     ]
    }
   ],
   "source": [
    "import os\n",
    "from data import train_val_split\n",
    "\n",
    "base_dir = './data/train'\n",
    "train_dir = './data/preprocessed/train'\n",
    "val_dir = './data/preprocessed/val'\n",
    "\n",
    "val_ratio = 0.2\n",
    "\n",
    "if not os.path.exists(train_dir) and not os.path.exists(val_dir):\n",
    "    train_val_split(base_dir, train_dir, val_dir, val_ratio, random_state) \n",
    "\n",
    "    print(\"Saved train data to:\", train_dir)\n",
    "    print(\"Saved validation data to:\", val_dir)\n",
    "else:\n",
    "    print(\"Train and validation directories already exist.\")"
   ]
  },
  {
   "cell_type": "markdown",
   "id": "a6777f43",
   "metadata": {},
   "source": [
    "## Data"
   ]
  },
  {
   "cell_type": "markdown",
   "id": "833482c0",
   "metadata": {},
   "source": [
    "### Augmentation"
   ]
  },
  {
   "cell_type": "code",
   "execution_count": 19,
   "id": "5abda140",
   "metadata": {},
   "outputs": [],
   "source": [
    "import torchvision.transforms as transforms\n",
    "\n",
    "mean_tensor = torch.tensor([0.5, 0.5, 0.5])\n",
    "std_tensor = torch.tensor([0.5, 0.5, 0.5])\n",
    "\n",
    "# mean_tensor = torch.tensor([0.5209, 0.4955, 0.4384])\n",
    "# std_tensor = torch.tensor([0.2111, 0.2103, 0.2101])\n",
    "\n",
    "default_transform = transforms.Compose([\n",
    "    transforms.ToTensor(),\n",
    "    transforms.Normalize(mean_tensor, std_tensor)\n",
    "])\n",
    "\n",
    "augmented_transform = transforms.Compose([\n",
    "    transforms.RandomCrop(64, padding=4),\n",
    "    transforms.RandomHorizontalFlip(),\n",
    "    transforms.RandomAffine(degrees=10, translate=(0.05, 0.05), scale=(0.95, 1.05)),\n",
    "    transforms.ColorJitter(brightness=0.2, contrast=0.2, saturation=0.2, hue=0.1),\n",
    "    transforms.ToTensor(),\n",
    "    transforms.Normalize(mean_tensor, std_tensor)\n",
    "])"
   ]
  },
  {
   "cell_type": "markdown",
   "id": "47c2c647",
   "metadata": {},
   "source": [
    "### Datasets and sampling"
   ]
  },
  {
   "cell_type": "code",
   "execution_count": 20,
   "id": "f8f1f0a9",
   "metadata": {},
   "outputs": [
    {
     "name": "stdout",
     "output_type": "stream",
     "text": [
      "Number of training samples: 140818\n",
      "Number of validation samples: 17602\n"
     ]
    }
   ],
   "source": [
    "from torchvision.datasets import ImageFolder\n",
    "from torch.utils.data import DataLoader, ConcatDataset\n",
    "from data import sample_dataset\n",
    "\n",
    "train_default_ds = ImageFolder(train_dir, transform=default_transform)\n",
    "train_augmented_ds = ImageFolder(train_dir, transform=augmented_transform)\n",
    "train_ds = ConcatDataset([train_default_ds, train_augmented_ds])\n",
    "\n",
    "val_ds = ImageFolder(val_dir, transform=default_transform)\n",
    "\n",
    "# downsample the dataset\n",
    "sample_ratio = 1\n",
    "sampled_train_ds = sample_dataset(train_ds, sample_ratio, seed=random_state)\n",
    "sampled_val_ds = sample_dataset(val_ds, sample_ratio, seed=random_state)\n",
    "\n",
    "num_classes = len(train_default_ds.classes)\n",
    "\n",
    "print(f\"Number of training samples: {len(sampled_train_ds)}\")\n",
    "print(f\"Number of validation samples: {len(sampled_val_ds)}\")"
   ]
  },
  {
   "cell_type": "code",
   "execution_count": 21,
   "id": "d1fab604",
   "metadata": {},
   "outputs": [],
   "source": [
    "# from plots import plot_class_distribution\n",
    "\n",
    "# plot_class_distribution(sampled_train_ds)"
   ]
  },
  {
   "cell_type": "markdown",
   "id": "9af49b73",
   "metadata": {},
   "source": [
    "### Data loaders"
   ]
  },
  {
   "cell_type": "code",
   "execution_count": 26,
   "id": "96654c04",
   "metadata": {},
   "outputs": [],
   "source": [
    "batch_size = 256\n",
    "num_workers = 0\n",
    "\n",
    "# setup data loaders\n",
    "train_dl = DataLoader(sampled_train_ds,\n",
    "                      batch_size=batch_size,\n",
    "                      num_workers=num_workers,\n",
    "                      shuffle=True,\n",
    "                      generator=Generator().manual_seed(random_state))\n",
    "\n",
    "val_dl = DataLoader(sampled_val_ds,\n",
    "                    batch_size=batch_size,\n",
    "                    num_workers=num_workers,\n",
    "                    shuffle=False)"
   ]
  },
  {
   "cell_type": "markdown",
   "id": "54161cc6",
   "metadata": {},
   "source": [
    "### Example"
   ]
  },
  {
   "cell_type": "code",
   "execution_count": 23,
   "id": "d0dedbb4",
   "metadata": {},
   "outputs": [
    {
     "name": "stdout",
     "output_type": "stream",
     "text": [
      "Sample image shape: torch.Size([3, 64, 64])\n",
      "Sample label: 0\n"
     ]
    },
    {
     "data": {
      "image/png": "[encoded data removed]",
      "text/plain": [
       "<Figure size 640x480 with 1 Axes>"
      ]
     },
     "metadata": {},
     "output_type": "display_data"
    }
   ],
   "source": [
    "from utils import show_image\n",
    "\n",
    "sample_img, sample_label = train_ds[0]\n",
    "\n",
    "print(f\"Sample image shape: {sample_img.size()}\")\n",
    "print(f\"Sample label: {sample_label}\")\n",
    "\n",
    "show_image(sample_img)"
   ]
  },
  {
   "cell_type": "markdown",
   "id": "517c5072",
   "metadata": {},
   "source": [
    "## Training"
   ]
  },
  {
   "cell_type": "code",
   "execution_count": 24,
   "id": "8d21d357",
   "metadata": {},
   "outputs": [],
   "source": [
    "from training import Trainer\n",
    "import torch.optim as optim"
   ]
  },
  {
   "cell_type": "markdown",
   "id": "465789b2",
   "metadata": {},
   "source": [
    "### BasicModel"
   ]
  },
  {
   "cell_type": "code",
   "execution_count": 10,
   "id": "184c7b8d",
   "metadata": {},
   "outputs": [
    {
     "name": "stderr",
     "output_type": "stream",
     "text": [
      "Epoch 1/20 (training): 100%|██████████| 28/28 [00:13<00:00,  2.03it/s]\n",
      "Epoch 1/20 (validation): 100%|██████████| 4/4 [00:01<00:00,  2.55it/s]\n"
     ]
    },
    {
     "name": "stdout",
     "output_type": "stream",
     "text": [
      "Epoch 1/20: Train Loss: 3.8354, Val Loss: 3.6940, Avg Class Accuracy: 0.0769\n"
     ]
    },
    {
     "name": "stderr",
     "output_type": "stream",
     "text": [
      "Epoch 2/20 (training): 100%|██████████| 28/28 [00:13<00:00,  2.10it/s]\n",
      "Epoch 2/20 (validation): 100%|██████████| 4/4 [00:01<00:00,  2.71it/s]\n"
     ]
    },
    {
     "name": "stdout",
     "output_type": "stream",
     "text": [
      "Epoch 2/20: Train Loss: 3.5811, Val Loss: 3.3599, Avg Class Accuracy: 0.1300\n"
     ]
    },
    {
     "name": "stderr",
     "output_type": "stream",
     "text": [
      "Epoch 3/20 (training): 100%|██████████| 28/28 [00:12<00:00,  2.21it/s]\n",
      "Epoch 3/20 (validation): 100%|██████████| 4/4 [00:01<00:00,  2.85it/s]\n"
     ]
    },
    {
     "name": "stdout",
     "output_type": "stream",
     "text": [
      "Epoch 3/20: Train Loss: 3.4320, Val Loss: 3.2043, Avg Class Accuracy: 0.1515\n"
     ]
    },
    {
     "name": "stderr",
     "output_type": "stream",
     "text": [
      "Epoch 4/20 (training): 100%|██████████| 28/28 [00:11<00:00,  2.35it/s]\n",
      "Epoch 4/20 (validation): 100%|██████████| 4/4 [00:01<00:00,  2.78it/s]\n"
     ]
    },
    {
     "name": "stdout",
     "output_type": "stream",
     "text": [
      "Epoch 4/20: Train Loss: 3.3193, Val Loss: 3.1242, Avg Class Accuracy: 0.1950\n"
     ]
    },
    {
     "name": "stderr",
     "output_type": "stream",
     "text": [
      "Epoch 5/20 (training): 100%|██████████| 28/28 [00:12<00:00,  2.21it/s]\n",
      "Epoch 5/20 (validation): 100%|██████████| 4/4 [00:01<00:00,  2.68it/s]\n"
     ]
    },
    {
     "name": "stdout",
     "output_type": "stream",
     "text": [
      "Epoch 5/20: Train Loss: 3.2187, Val Loss: 3.0076, Avg Class Accuracy: 0.2057\n"
     ]
    },
    {
     "name": "stderr",
     "output_type": "stream",
     "text": [
      "Epoch 6/20 (training): 100%|██████████| 28/28 [00:12<00:00,  2.24it/s]\n",
      "Epoch 6/20 (validation): 100%|██████████| 4/4 [00:01<00:00,  2.77it/s]\n"
     ]
    },
    {
     "name": "stdout",
     "output_type": "stream",
     "text": [
      "Epoch 6/20: Train Loss: 3.1299, Val Loss: 2.8990, Avg Class Accuracy: 0.2498\n"
     ]
    },
    {
     "name": "stderr",
     "output_type": "stream",
     "text": [
      "Epoch 7/20 (training): 100%|██████████| 28/28 [00:12<00:00,  2.29it/s]\n",
      "Epoch 7/20 (validation): 100%|██████████| 4/4 [00:01<00:00,  2.87it/s]\n"
     ]
    },
    {
     "name": "stdout",
     "output_type": "stream",
     "text": [
      "Epoch 7/20: Train Loss: 3.0629, Val Loss: 2.8780, Avg Class Accuracy: 0.2563\n"
     ]
    },
    {
     "name": "stderr",
     "output_type": "stream",
     "text": [
      "Epoch 8/20 (training): 100%|██████████| 28/28 [00:12<00:00,  2.19it/s]\n",
      "Epoch 8/20 (validation): 100%|██████████| 4/4 [00:01<00:00,  2.55it/s]\n"
     ]
    },
    {
     "name": "stdout",
     "output_type": "stream",
     "text": [
      "Epoch 8/20: Train Loss: 2.9860, Val Loss: 2.8073, Avg Class Accuracy: 0.2691\n"
     ]
    },
    {
     "name": "stderr",
     "output_type": "stream",
     "text": [
      "Epoch 9/20 (training): 100%|██████████| 28/28 [00:12<00:00,  2.22it/s]\n",
      "Epoch 9/20 (validation): 100%|██████████| 4/4 [00:01<00:00,  2.48it/s]\n"
     ]
    },
    {
     "name": "stdout",
     "output_type": "stream",
     "text": [
      "Epoch 9/20: Train Loss: 2.9233, Val Loss: 2.7752, Avg Class Accuracy: 0.2676\n"
     ]
    },
    {
     "name": "stderr",
     "output_type": "stream",
     "text": [
      "Epoch 10/20 (training): 100%|██████████| 28/28 [00:11<00:00,  2.52it/s]\n",
      "Epoch 10/20 (validation): 100%|██████████| 4/4 [00:01<00:00,  2.81it/s]\n"
     ]
    },
    {
     "name": "stdout",
     "output_type": "stream",
     "text": [
      "Epoch 10/20: Train Loss: 2.8682, Val Loss: 2.7093, Avg Class Accuracy: 0.2840\n"
     ]
    },
    {
     "name": "stderr",
     "output_type": "stream",
     "text": [
      "Epoch 11/20 (training): 100%|██████████| 28/28 [00:10<00:00,  2.60it/s]\n",
      "Epoch 11/20 (validation): 100%|██████████| 4/4 [00:01<00:00,  2.69it/s]\n"
     ]
    },
    {
     "name": "stdout",
     "output_type": "stream",
     "text": [
      "Epoch 11/20: Train Loss: 2.8165, Val Loss: 2.6399, Avg Class Accuracy: 0.2865\n"
     ]
    },
    {
     "name": "stderr",
     "output_type": "stream",
     "text": [
      "Epoch 12/20 (training): 100%|██████████| 28/28 [00:11<00:00,  2.35it/s]\n",
      "Epoch 12/20 (validation): 100%|██████████| 4/4 [00:01<00:00,  2.48it/s]\n"
     ]
    },
    {
     "name": "stdout",
     "output_type": "stream",
     "text": [
      "Epoch 12/20: Train Loss: 2.7481, Val Loss: 2.5963, Avg Class Accuracy: 0.2978\n"
     ]
    },
    {
     "name": "stderr",
     "output_type": "stream",
     "text": [
      "Epoch 13/20 (training): 100%|██████████| 28/28 [00:12<00:00,  2.22it/s]\n",
      "Epoch 13/20 (validation): 100%|██████████| 4/4 [00:01<00:00,  2.26it/s]\n"
     ]
    },
    {
     "name": "stdout",
     "output_type": "stream",
     "text": [
      "Epoch 13/20: Train Loss: 2.6967, Val Loss: 2.5657, Avg Class Accuracy: 0.3158\n"
     ]
    },
    {
     "name": "stderr",
     "output_type": "stream",
     "text": [
      "Epoch 14/20 (training): 100%|██████████| 28/28 [00:11<00:00,  2.43it/s]\n",
      "Epoch 14/20 (validation): 100%|██████████| 4/4 [00:01<00:00,  2.63it/s]\n"
     ]
    },
    {
     "name": "stdout",
     "output_type": "stream",
     "text": [
      "Epoch 14/20: Train Loss: 2.6512, Val Loss: 2.5418, Avg Class Accuracy: 0.3106\n"
     ]
    },
    {
     "name": "stderr",
     "output_type": "stream",
     "text": [
      "Epoch 15/20 (training): 100%|██████████| 28/28 [00:11<00:00,  2.37it/s]\n",
      "Epoch 15/20 (validation): 100%|██████████| 4/4 [00:01<00:00,  2.74it/s]\n"
     ]
    },
    {
     "name": "stdout",
     "output_type": "stream",
     "text": [
      "Epoch 15/20: Train Loss: 2.6086, Val Loss: 2.4970, Avg Class Accuracy: 0.3209\n"
     ]
    },
    {
     "name": "stderr",
     "output_type": "stream",
     "text": [
      "Epoch 16/20 (training): 100%|██████████| 28/28 [00:11<00:00,  2.42it/s]\n",
      "Epoch 16/20 (validation): 100%|██████████| 4/4 [00:01<00:00,  3.23it/s]\n"
     ]
    },
    {
     "name": "stdout",
     "output_type": "stream",
     "text": [
      "Epoch 16/20: Train Loss: 2.5816, Val Loss: 2.4758, Avg Class Accuracy: 0.3291\n"
     ]
    },
    {
     "name": "stderr",
     "output_type": "stream",
     "text": [
      "Epoch 17/20 (training): 100%|██████████| 28/28 [00:10<00:00,  2.55it/s]\n",
      "Epoch 17/20 (validation): 100%|██████████| 4/4 [00:01<00:00,  2.85it/s]\n"
     ]
    },
    {
     "name": "stdout",
     "output_type": "stream",
     "text": [
      "Epoch 17/20: Train Loss: 2.5344, Val Loss: 2.4542, Avg Class Accuracy: 0.3409\n"
     ]
    },
    {
     "name": "stderr",
     "output_type": "stream",
     "text": [
      "Epoch 18/20 (training): 100%|██████████| 28/28 [00:11<00:00,  2.38it/s]\n",
      "Epoch 18/20 (validation): 100%|██████████| 4/4 [00:01<00:00,  2.65it/s]\n"
     ]
    },
    {
     "name": "stdout",
     "output_type": "stream",
     "text": [
      "Epoch 18/20: Train Loss: 2.5081, Val Loss: 2.4027, Avg Class Accuracy: 0.3378\n"
     ]
    },
    {
     "name": "stderr",
     "output_type": "stream",
     "text": [
      "Epoch 19/20 (training): 100%|██████████| 28/28 [00:11<00:00,  2.37it/s]\n",
      "Epoch 19/20 (validation): 100%|██████████| 4/4 [00:01<00:00,  2.82it/s]\n"
     ]
    },
    {
     "name": "stdout",
     "output_type": "stream",
     "text": [
      "Epoch 19/20: Train Loss: 2.4579, Val Loss: 2.3929, Avg Class Accuracy: 0.3376\n"
     ]
    },
    {
     "name": "stderr",
     "output_type": "stream",
     "text": [
      "Epoch 20/20 (training): 100%|██████████| 28/28 [00:12<00:00,  2.22it/s]\n",
      "Epoch 20/20 (validation): 100%|██████████| 4/4 [00:01<00:00,  2.44it/s]"
     ]
    },
    {
     "name": "stdout",
     "output_type": "stream",
     "text": [
      "Epoch 20/20: Train Loss: 2.4334, Val Loss: 2.3557, Avg Class Accuracy: 0.3519\n"
     ]
    },
    {
     "name": "stderr",
     "output_type": "stream",
     "text": [
      "\n"
     ]
    }
   ],
   "source": [
    "from models import BasicNet\n",
    "\n",
    "basicNet = BasicNet(num_classes=num_classes)\n",
    "\n",
    "optimizer = optim.AdamW(basicNet.to(device).parameters(), lr=1e-4, weight_decay=1e-5)\n",
    "\n",
    "trainer = Trainer(basicNet, train_dl, val_dl, optimizer, device=device)\n",
    "trainer.train(num_epochs=20)"
   ]
  },
  {
   "cell_type": "markdown",
   "id": "dd097198",
   "metadata": {},
   "source": [
    "### Basic ResNet"
   ]
  },
  {
   "cell_type": "code",
   "execution_count": 27,
   "id": "a0a153d6",
   "metadata": {},
   "outputs": [
    {
     "name": "stderr",
     "output_type": "stream",
     "text": [
      "Epoch 1/50 (training): 100%|██████████| 551/551 [03:35<00:00,  2.56it/s]\n",
      "Epoch 1/50 (validation): 100%|██████████| 69/69 [00:18<00:00,  3.78it/s]\n"
     ]
    },
    {
     "name": "stdout",
     "output_type": "stream",
     "text": [
      "Epoch 1/50: Train Loss: 2.8239, Val Loss: 2.4377, Avg Class Accuracy: 0.3323\n"
     ]
    },
    {
     "name": "stderr",
     "output_type": "stream",
     "text": [
      "Epoch 2/50 (training): 100%|██████████| 551/551 [03:26<00:00,  2.66it/s]\n",
      "Epoch 2/50 (validation): 100%|██████████| 69/69 [00:18<00:00,  3.75it/s]\n"
     ]
    },
    {
     "name": "stdout",
     "output_type": "stream",
     "text": [
      "Epoch 2/50: Train Loss: 2.2333, Val Loss: 2.2033, Avg Class Accuracy: 0.4042\n"
     ]
    },
    {
     "name": "stderr",
     "output_type": "stream",
     "text": [
      "Epoch 3/50 (training): 100%|██████████| 551/551 [03:28<00:00,  2.64it/s]\n",
      "Epoch 3/50 (validation): 100%|██████████| 69/69 [00:18<00:00,  3.73it/s]\n"
     ]
    },
    {
     "name": "stdout",
     "output_type": "stream",
     "text": [
      "Epoch 3/50: Train Loss: 1.9612, Val Loss: 1.9874, Avg Class Accuracy: 0.4531\n"
     ]
    },
    {
     "name": "stderr",
     "output_type": "stream",
     "text": [
      "Epoch 4/50 (training): 100%|██████████| 551/551 [03:30<00:00,  2.62it/s]\n",
      "Epoch 4/50 (validation): 100%|██████████| 69/69 [00:18<00:00,  3.68it/s]\n"
     ]
    },
    {
     "name": "stdout",
     "output_type": "stream",
     "text": [
      "Epoch 4/50: Train Loss: 1.7686, Val Loss: 1.7886, Avg Class Accuracy: 0.5068\n"
     ]
    },
    {
     "name": "stderr",
     "output_type": "stream",
     "text": [
      "Epoch 5/50 (training): 100%|██████████| 551/551 [03:31<00:00,  2.61it/s]\n",
      "Epoch 5/50 (validation): 100%|██████████| 69/69 [00:18<00:00,  3.65it/s]\n"
     ]
    },
    {
     "name": "stdout",
     "output_type": "stream",
     "text": [
      "Epoch 5/50: Train Loss: 1.6128, Val Loss: 1.7283, Avg Class Accuracy: 0.5146\n"
     ]
    },
    {
     "name": "stderr",
     "output_type": "stream",
     "text": [
      "Epoch 6/50 (training): 100%|██████████| 551/551 [03:25<00:00,  2.68it/s]\n",
      "Epoch 6/50 (validation): 100%|██████████| 69/69 [00:18<00:00,  3.68it/s]\n"
     ]
    },
    {
     "name": "stdout",
     "output_type": "stream",
     "text": [
      "Epoch 6/50: Train Loss: 1.4916, Val Loss: 1.5974, Avg Class Accuracy: 0.5515\n"
     ]
    },
    {
     "name": "stderr",
     "output_type": "stream",
     "text": [
      "Epoch 7/50 (training): 100%|██████████| 551/551 [03:23<00:00,  2.70it/s]\n",
      "Epoch 7/50 (validation): 100%|██████████| 69/69 [00:18<00:00,  3.68it/s]\n"
     ]
    },
    {
     "name": "stdout",
     "output_type": "stream",
     "text": [
      "Epoch 7/50: Train Loss: 1.3862, Val Loss: 1.5549, Avg Class Accuracy: 0.5608\n"
     ]
    },
    {
     "name": "stderr",
     "output_type": "stream",
     "text": [
      "Epoch 8/50 (training): 100%|██████████| 551/551 [03:24<00:00,  2.70it/s]\n",
      "Epoch 8/50 (validation): 100%|██████████| 69/69 [00:18<00:00,  3.73it/s]\n"
     ]
    },
    {
     "name": "stdout",
     "output_type": "stream",
     "text": [
      "Epoch 8/50: Train Loss: 1.2940, Val Loss: 1.5526, Avg Class Accuracy: 0.5663\n"
     ]
    },
    {
     "name": "stderr",
     "output_type": "stream",
     "text": [
      "Epoch 9/50 (training): 100%|██████████| 551/551 [03:25<00:00,  2.69it/s]\n",
      "Epoch 9/50 (validation): 100%|██████████| 69/69 [00:20<00:00,  3.36it/s]\n"
     ]
    },
    {
     "name": "stdout",
     "output_type": "stream",
     "text": [
      "Epoch 9/50: Train Loss: 1.2144, Val Loss: 1.5295, Avg Class Accuracy: 0.5766\n"
     ]
    },
    {
     "name": "stderr",
     "output_type": "stream",
     "text": [
      "Epoch 10/50 (training): 100%|██████████| 551/551 [03:32<00:00,  2.59it/s]\n",
      "Epoch 10/50 (validation): 100%|██████████| 69/69 [00:19<00:00,  3.45it/s]\n"
     ]
    },
    {
     "name": "stdout",
     "output_type": "stream",
     "text": [
      "Epoch 10/50: Train Loss: 1.1474, Val Loss: 1.4671, Avg Class Accuracy: 0.5932\n"
     ]
    },
    {
     "name": "stderr",
     "output_type": "stream",
     "text": [
      "Epoch 11/50 (training): 100%|██████████| 551/551 [03:33<00:00,  2.58it/s]\n",
      "Epoch 11/50 (validation): 100%|██████████| 69/69 [00:19<00:00,  3.52it/s]\n"
     ]
    },
    {
     "name": "stdout",
     "output_type": "stream",
     "text": [
      "Epoch 11/50: Train Loss: 1.0796, Val Loss: 1.5496, Avg Class Accuracy: 0.5773\n"
     ]
    },
    {
     "name": "stderr",
     "output_type": "stream",
     "text": [
      "Epoch 12/50 (training): 100%|██████████| 551/551 [03:30<00:00,  2.61it/s]\n",
      "Epoch 12/50 (validation): 100%|██████████| 69/69 [00:18<00:00,  3.71it/s]\n"
     ]
    },
    {
     "name": "stdout",
     "output_type": "stream",
     "text": [
      "Epoch 12/50: Train Loss: 1.0202, Val Loss: 1.4111, Avg Class Accuracy: 0.6100\n"
     ]
    },
    {
     "name": "stderr",
     "output_type": "stream",
     "text": [
      "Epoch 13/50 (training): 100%|██████████| 551/551 [03:16<00:00,  2.81it/s]\n",
      "Epoch 13/50 (validation): 100%|██████████| 69/69 [00:18<00:00,  3.69it/s]\n"
     ]
    },
    {
     "name": "stdout",
     "output_type": "stream",
     "text": [
      "Epoch 13/50: Train Loss: 0.9655, Val Loss: 1.5639, Avg Class Accuracy: 0.5865\n"
     ]
    },
    {
     "name": "stderr",
     "output_type": "stream",
     "text": [
      "Epoch 14/50 (training): 100%|██████████| 551/551 [03:15<00:00,  2.82it/s]\n",
      "Epoch 14/50 (validation): 100%|██████████| 69/69 [00:18<00:00,  3.74it/s]\n"
     ]
    },
    {
     "name": "stdout",
     "output_type": "stream",
     "text": [
      "Epoch 14/50: Train Loss: 0.9126, Val Loss: 1.4164, Avg Class Accuracy: 0.6180\n"
     ]
    },
    {
     "name": "stderr",
     "output_type": "stream",
     "text": [
      "Epoch 15/50 (training): 100%|██████████| 551/551 [03:18<00:00,  2.77it/s]\n",
      "Epoch 15/50 (validation): 100%|██████████| 69/69 [00:18<00:00,  3.75it/s]\n"
     ]
    },
    {
     "name": "stdout",
     "output_type": "stream",
     "text": [
      "Epoch 15/50: Train Loss: 0.8664, Val Loss: 1.4535, Avg Class Accuracy: 0.6087\n"
     ]
    },
    {
     "name": "stderr",
     "output_type": "stream",
     "text": [
      "Epoch 16/50 (training): 100%|██████████| 551/551 [03:27<00:00,  2.65it/s]\n",
      "Epoch 16/50 (validation): 100%|██████████| 69/69 [00:18<00:00,  3.72it/s]\n"
     ]
    },
    {
     "name": "stdout",
     "output_type": "stream",
     "text": [
      "Epoch 16/50: Train Loss: 0.8228, Val Loss: 1.4319, Avg Class Accuracy: 0.6168\n"
     ]
    },
    {
     "name": "stderr",
     "output_type": "stream",
     "text": [
      "Epoch 17/50 (training): 100%|██████████| 551/551 [03:28<00:00,  2.64it/s]\n",
      "Epoch 17/50 (validation): 100%|██████████| 69/69 [00:18<00:00,  3.67it/s]\n"
     ]
    },
    {
     "name": "stdout",
     "output_type": "stream",
     "text": [
      "Epoch 17/50: Train Loss: 0.7864, Val Loss: 1.5126, Avg Class Accuracy: 0.6043\n"
     ]
    },
    {
     "name": "stderr",
     "output_type": "stream",
     "text": [
      "Epoch 18/50 (training): 100%|██████████| 551/551 [03:26<00:00,  2.67it/s]\n",
      "Epoch 18/50 (validation): 100%|██████████| 69/69 [00:18<00:00,  3.69it/s]\n"
     ]
    },
    {
     "name": "stdout",
     "output_type": "stream",
     "text": [
      "Epoch 18/50: Train Loss: 0.7429, Val Loss: 1.3737, Avg Class Accuracy: 0.6274\n"
     ]
    },
    {
     "name": "stderr",
     "output_type": "stream",
     "text": [
      "Epoch 19/50 (training): 100%|██████████| 551/551 [03:24<00:00,  2.69it/s]\n",
      "Epoch 19/50 (validation): 100%|██████████| 69/69 [00:18<00:00,  3.73it/s]\n"
     ]
    },
    {
     "name": "stdout",
     "output_type": "stream",
     "text": [
      "Epoch 19/50: Train Loss: 0.7041, Val Loss: 1.4430, Avg Class Accuracy: 0.6181\n"
     ]
    },
    {
     "name": "stderr",
     "output_type": "stream",
     "text": [
      "Epoch 20/50 (training): 100%|██████████| 551/551 [03:27<00:00,  2.65it/s]\n",
      "Epoch 20/50 (validation): 100%|██████████| 69/69 [00:18<00:00,  3.69it/s]\n"
     ]
    },
    {
     "name": "stdout",
     "output_type": "stream",
     "text": [
      "Epoch 20/50: Train Loss: 0.6761, Val Loss: 1.4727, Avg Class Accuracy: 0.6206\n"
     ]
    },
    {
     "name": "stderr",
     "output_type": "stream",
     "text": [
      "Epoch 21/50 (training): 100%|██████████| 551/551 [03:23<00:00,  2.71it/s]\n",
      "Epoch 21/50 (validation): 100%|██████████| 69/69 [00:18<00:00,  3.72it/s]\n"
     ]
    },
    {
     "name": "stdout",
     "output_type": "stream",
     "text": [
      "Epoch 21/50: Train Loss: 0.6541, Val Loss: 1.4759, Avg Class Accuracy: 0.6231\n"
     ]
    },
    {
     "name": "stderr",
     "output_type": "stream",
     "text": [
      "Epoch 22/50 (training): 100%|██████████| 551/551 [03:22<00:00,  2.72it/s]\n",
      "Epoch 22/50 (validation): 100%|██████████| 69/69 [00:18<00:00,  3.77it/s]\n"
     ]
    },
    {
     "name": "stdout",
     "output_type": "stream",
     "text": [
      "Epoch 22/50: Train Loss: 0.6196, Val Loss: 1.5446, Avg Class Accuracy: 0.6250\n"
     ]
    },
    {
     "name": "stderr",
     "output_type": "stream",
     "text": [
      "Epoch 23/50 (training): 100%|██████████| 551/551 [03:21<00:00,  2.73it/s]\n",
      "Epoch 23/50 (validation): 100%|██████████| 69/69 [00:18<00:00,  3.78it/s]\n"
     ]
    },
    {
     "name": "stdout",
     "output_type": "stream",
     "text": [
      "Epoch 23/50: Train Loss: 0.5927, Val Loss: 1.4938, Avg Class Accuracy: 0.6322\n"
     ]
    },
    {
     "name": "stderr",
     "output_type": "stream",
     "text": [
      "Epoch 24/50 (training): 100%|██████████| 551/551 [03:24<00:00,  2.70it/s]\n",
      "Epoch 24/50 (validation): 100%|██████████| 69/69 [00:18<00:00,  3.77it/s]\n"
     ]
    },
    {
     "name": "stdout",
     "output_type": "stream",
     "text": [
      "Epoch 24/50: Train Loss: 0.5705, Val Loss: 1.4914, Avg Class Accuracy: 0.6292\n"
     ]
    },
    {
     "name": "stderr",
     "output_type": "stream",
     "text": [
      "Epoch 25/50 (training): 100%|██████████| 551/551 [03:23<00:00,  2.70it/s]\n",
      "Epoch 25/50 (validation): 100%|██████████| 69/69 [00:18<00:00,  3.77it/s]\n"
     ]
    },
    {
     "name": "stdout",
     "output_type": "stream",
     "text": [
      "Epoch 25/50: Train Loss: 0.5483, Val Loss: 1.4775, Avg Class Accuracy: 0.6349\n"
     ]
    },
    {
     "name": "stderr",
     "output_type": "stream",
     "text": [
      "Epoch 26/50 (training): 100%|██████████| 551/551 [03:23<00:00,  2.71it/s]\n",
      "Epoch 26/50 (validation): 100%|██████████| 69/69 [00:18<00:00,  3.75it/s]\n"
     ]
    },
    {
     "name": "stdout",
     "output_type": "stream",
     "text": [
      "Epoch 26/50: Train Loss: 0.5313, Val Loss: 1.5059, Avg Class Accuracy: 0.6340\n"
     ]
    },
    {
     "name": "stderr",
     "output_type": "stream",
     "text": [
      "Epoch 27/50 (training): 100%|██████████| 551/551 [03:25<00:00,  2.68it/s]\n",
      "Epoch 27/50 (validation): 100%|██████████| 69/69 [00:18<00:00,  3.66it/s]\n"
     ]
    },
    {
     "name": "stdout",
     "output_type": "stream",
     "text": [
      "Epoch 27/50: Train Loss: 0.5126, Val Loss: 1.4565, Avg Class Accuracy: 0.6397\n"
     ]
    },
    {
     "name": "stderr",
     "output_type": "stream",
     "text": [
      "Epoch 28/50 (training): 100%|██████████| 551/551 [03:25<00:00,  2.68it/s]\n",
      "Epoch 28/50 (validation): 100%|██████████| 69/69 [00:18<00:00,  3.65it/s]\n"
     ]
    },
    {
     "name": "stdout",
     "output_type": "stream",
     "text": [
      "Epoch 28/50: Train Loss: 0.4967, Val Loss: 1.4610, Avg Class Accuracy: 0.6385\n"
     ]
    },
    {
     "name": "stderr",
     "output_type": "stream",
     "text": [
      "Epoch 29/50 (training): 100%|██████████| 551/551 [03:31<00:00,  2.61it/s]\n",
      "Epoch 29/50 (validation): 100%|██████████| 69/69 [00:18<00:00,  3.75it/s]\n"
     ]
    },
    {
     "name": "stdout",
     "output_type": "stream",
     "text": [
      "Epoch 29/50: Train Loss: 0.4802, Val Loss: 1.4760, Avg Class Accuracy: 0.6409\n"
     ]
    },
    {
     "name": "stderr",
     "output_type": "stream",
     "text": [
      "Epoch 30/50 (training): 100%|██████████| 551/551 [03:27<00:00,  2.66it/s]\n",
      "Epoch 30/50 (validation): 100%|██████████| 69/69 [00:18<00:00,  3.76it/s]\n"
     ]
    },
    {
     "name": "stdout",
     "output_type": "stream",
     "text": [
      "Epoch 30/50: Train Loss: 0.4643, Val Loss: 1.4632, Avg Class Accuracy: 0.6415\n"
     ]
    },
    {
     "name": "stderr",
     "output_type": "stream",
     "text": [
      "Epoch 31/50 (training): 100%|██████████| 551/551 [03:29<00:00,  2.64it/s]\n",
      "Epoch 31/50 (validation): 100%|██████████| 69/69 [00:18<00:00,  3.72it/s]\n"
     ]
    },
    {
     "name": "stdout",
     "output_type": "stream",
     "text": [
      "Epoch 31/50: Train Loss: 0.4568, Val Loss: 1.4802, Avg Class Accuracy: 0.6439\n"
     ]
    },
    {
     "name": "stderr",
     "output_type": "stream",
     "text": [
      "Epoch 32/50 (training): 100%|██████████| 551/551 [03:24<00:00,  2.70it/s]\n",
      "Epoch 32/50 (validation): 100%|██████████| 69/69 [00:18<00:00,  3.67it/s]\n"
     ]
    },
    {
     "name": "stdout",
     "output_type": "stream",
     "text": [
      "Epoch 32/50: Train Loss: 0.4381, Val Loss: 1.5263, Avg Class Accuracy: 0.6407\n"
     ]
    },
    {
     "name": "stderr",
     "output_type": "stream",
     "text": [
      "Epoch 33/50 (training): 100%|██████████| 551/551 [03:24<00:00,  2.69it/s]\n",
      "Epoch 33/50 (validation): 100%|██████████| 69/69 [00:18<00:00,  3.75it/s]\n"
     ]
    },
    {
     "name": "stdout",
     "output_type": "stream",
     "text": [
      "Epoch 33/50: Train Loss: 0.4255, Val Loss: 1.4726, Avg Class Accuracy: 0.6472\n"
     ]
    },
    {
     "name": "stderr",
     "output_type": "stream",
     "text": [
      "Epoch 34/50 (training): 100%|██████████| 551/551 [03:19<00:00,  2.76it/s]\n",
      "Epoch 34/50 (validation): 100%|██████████| 69/69 [00:18<00:00,  3.67it/s]\n"
     ]
    },
    {
     "name": "stdout",
     "output_type": "stream",
     "text": [
      "Epoch 34/50: Train Loss: 0.4128, Val Loss: 1.5213, Avg Class Accuracy: 0.6498\n"
     ]
    },
    {
     "name": "stderr",
     "output_type": "stream",
     "text": [
      "Epoch 35/50 (training): 100%|██████████| 551/551 [03:18<00:00,  2.77it/s]\n",
      "Epoch 35/50 (validation): 100%|██████████| 69/69 [00:18<00:00,  3.65it/s]\n"
     ]
    },
    {
     "name": "stdout",
     "output_type": "stream",
     "text": [
      "Epoch 35/50: Train Loss: 0.3994, Val Loss: 1.5918, Avg Class Accuracy: 0.6447\n"
     ]
    },
    {
     "name": "stderr",
     "output_type": "stream",
     "text": [
      "Epoch 36/50 (training): 100%|██████████| 551/551 [03:16<00:00,  2.81it/s]\n",
      "Epoch 36/50 (validation): 100%|██████████| 69/69 [00:18<00:00,  3.68it/s]\n"
     ]
    },
    {
     "name": "stdout",
     "output_type": "stream",
     "text": [
      "Epoch 36/50: Train Loss: 0.3923, Val Loss: 1.5485, Avg Class Accuracy: 0.6440\n"
     ]
    },
    {
     "name": "stderr",
     "output_type": "stream",
     "text": [
      "Epoch 37/50 (training): 100%|██████████| 551/551 [03:13<00:00,  2.84it/s]\n",
      "Epoch 37/50 (validation): 100%|██████████| 69/69 [00:18<00:00,  3.71it/s]\n"
     ]
    },
    {
     "name": "stdout",
     "output_type": "stream",
     "text": [
      "Epoch 37/50: Train Loss: 0.3788, Val Loss: 1.5804, Avg Class Accuracy: 0.6405\n"
     ]
    },
    {
     "name": "stderr",
     "output_type": "stream",
     "text": [
      "Epoch 38/50 (training): 100%|██████████| 551/551 [03:16<00:00,  2.81it/s]\n",
      "Epoch 38/50 (validation): 100%|██████████| 69/69 [00:18<00:00,  3.71it/s]\n"
     ]
    },
    {
     "name": "stdout",
     "output_type": "stream",
     "text": [
      "Epoch 38/50: Train Loss: 0.3743, Val Loss: 1.5534, Avg Class Accuracy: 0.6469\n"
     ]
    },
    {
     "name": "stderr",
     "output_type": "stream",
     "text": [
      "Epoch 39/50 (training): 100%|██████████| 551/551 [03:19<00:00,  2.76it/s]\n",
      "Epoch 39/50 (validation): 100%|██████████| 69/69 [00:18<00:00,  3.75it/s]\n"
     ]
    },
    {
     "name": "stdout",
     "output_type": "stream",
     "text": [
      "Epoch 39/50: Train Loss: 0.3599, Val Loss: 1.5862, Avg Class Accuracy: 0.6481\n"
     ]
    },
    {
     "name": "stderr",
     "output_type": "stream",
     "text": [
      "Epoch 40/50 (training): 100%|██████████| 551/551 [03:24<00:00,  2.70it/s]\n",
      "Epoch 40/50 (validation): 100%|██████████| 69/69 [00:19<00:00,  3.62it/s]\n"
     ]
    },
    {
     "name": "stdout",
     "output_type": "stream",
     "text": [
      "Epoch 40/50: Train Loss: 0.3537, Val Loss: 1.5596, Avg Class Accuracy: 0.6423\n"
     ]
    },
    {
     "name": "stderr",
     "output_type": "stream",
     "text": [
      "Epoch 41/50 (training): 100%|██████████| 551/551 [03:16<00:00,  2.80it/s]\n",
      "Epoch 41/50 (validation): 100%|██████████| 69/69 [00:19<00:00,  3.51it/s]\n"
     ]
    },
    {
     "name": "stdout",
     "output_type": "stream",
     "text": [
      "Epoch 41/50: Train Loss: 0.3458, Val Loss: 1.6147, Avg Class Accuracy: 0.6420\n"
     ]
    },
    {
     "name": "stderr",
     "output_type": "stream",
     "text": [
      "Epoch 42/50 (training): 100%|██████████| 551/551 [03:13<00:00,  2.85it/s]\n",
      "Epoch 42/50 (validation): 100%|██████████| 69/69 [00:20<00:00,  3.29it/s]\n"
     ]
    },
    {
     "name": "stdout",
     "output_type": "stream",
     "text": [
      "Epoch 42/50: Train Loss: 0.3357, Val Loss: 1.5304, Avg Class Accuracy: 0.6478\n"
     ]
    },
    {
     "name": "stderr",
     "output_type": "stream",
     "text": [
      "Epoch 43/50 (training): 100%|██████████| 551/551 [03:14<00:00,  2.84it/s]\n",
      "Epoch 43/50 (validation): 100%|██████████| 69/69 [00:18<00:00,  3.69it/s]\n"
     ]
    },
    {
     "name": "stdout",
     "output_type": "stream",
     "text": [
      "Epoch 43/50: Train Loss: 0.3327, Val Loss: 1.5647, Avg Class Accuracy: 0.6562\n"
     ]
    },
    {
     "name": "stderr",
     "output_type": "stream",
     "text": [
      "Epoch 44/50 (training): 100%|██████████| 551/551 [03:17<00:00,  2.79it/s]\n",
      "Epoch 44/50 (validation): 100%|██████████| 69/69 [00:18<00:00,  3.67it/s]\n"
     ]
    },
    {
     "name": "stdout",
     "output_type": "stream",
     "text": [
      "Epoch 44/50: Train Loss: 0.3208, Val Loss: 1.5456, Avg Class Accuracy: 0.6512\n"
     ]
    },
    {
     "name": "stderr",
     "output_type": "stream",
     "text": [
      "Epoch 45/50 (training): 100%|██████████| 551/551 [03:19<00:00,  2.76it/s]\n",
      "Epoch 45/50 (validation): 100%|██████████| 69/69 [00:19<00:00,  3.59it/s]\n"
     ]
    },
    {
     "name": "stdout",
     "output_type": "stream",
     "text": [
      "Epoch 45/50: Train Loss: 0.3155, Val Loss: 1.5821, Avg Class Accuracy: 0.6459\n"
     ]
    },
    {
     "name": "stderr",
     "output_type": "stream",
     "text": [
      "Epoch 46/50 (training): 100%|██████████| 551/551 [03:28<00:00,  2.64it/s]\n",
      "Epoch 46/50 (validation): 100%|██████████| 69/69 [00:20<00:00,  3.30it/s]\n"
     ]
    },
    {
     "name": "stdout",
     "output_type": "stream",
     "text": [
      "Epoch 46/50: Train Loss: 0.3118, Val Loss: 1.6188, Avg Class Accuracy: 0.6486\n"
     ]
    },
    {
     "name": "stderr",
     "output_type": "stream",
     "text": [
      "Epoch 47/50 (training): 100%|██████████| 551/551 [03:29<00:00,  2.63it/s]\n",
      "Epoch 47/50 (validation): 100%|██████████| 69/69 [00:19<00:00,  3.47it/s]\n"
     ]
    },
    {
     "name": "stdout",
     "output_type": "stream",
     "text": [
      "Epoch 47/50: Train Loss: 0.3028, Val Loss: 1.5328, Avg Class Accuracy: 0.6611\n"
     ]
    },
    {
     "name": "stderr",
     "output_type": "stream",
     "text": [
      "Epoch 48/50 (training): 100%|██████████| 551/551 [03:30<00:00,  2.62it/s]\n",
      "Epoch 48/50 (validation): 100%|██████████| 69/69 [00:19<00:00,  3.57it/s]\n"
     ]
    },
    {
     "name": "stdout",
     "output_type": "stream",
     "text": [
      "Epoch 48/50: Train Loss: 0.2979, Val Loss: 1.6162, Avg Class Accuracy: 0.6487\n"
     ]
    },
    {
     "name": "stderr",
     "output_type": "stream",
     "text": [
      "Epoch 49/50 (training): 100%|██████████| 551/551 [03:41<00:00,  2.49it/s]\n",
      "Epoch 49/50 (validation): 100%|██████████| 69/69 [00:21<00:00,  3.14it/s]\n"
     ]
    },
    {
     "name": "stdout",
     "output_type": "stream",
     "text": [
      "Epoch 49/50: Train Loss: 0.2882, Val Loss: 1.5942, Avg Class Accuracy: 0.6505\n"
     ]
    },
    {
     "name": "stderr",
     "output_type": "stream",
     "text": [
      "Epoch 50/50 (training): 100%|██████████| 551/551 [03:45<00:00,  2.44it/s]\n",
      "Epoch 50/50 (validation): 100%|██████████| 69/69 [00:22<00:00,  3.12it/s]"
     ]
    },
    {
     "name": "stdout",
     "output_type": "stream",
     "text": [
      "Epoch 50/50: Train Loss: 0.2801, Val Loss: 1.6138, Avg Class Accuracy: 0.6516\n"
     ]
    },
    {
     "name": "stderr",
     "output_type": "stream",
     "text": [
      "\n"
     ]
    }
   ],
   "source": [
    "from models import BasicResNet\n",
    "\n",
    "basicResNet = BasicResNet(num_classes=num_classes)\n",
    "\n",
    "optimizer = optim.AdamW(basicResNet.to(device).parameters(), lr=1e-4, weight_decay=1e-4)\n",
    "\n",
    "trainer = Trainer(basicResNet, train_dl, val_dl, optimizer, device=device)\n",
    "trainer.train(num_epochs=50)\n",
    "\n",
    "# simplier arch 0.3616"
   ]
  },
  {
   "cell_type": "markdown",
   "id": "657afee3",
   "metadata": {},
   "source": [
    "### Four-block CNN"
   ]
  },
  {
   "cell_type": "code",
   "execution_count": 9,
   "id": "82ec7286",
   "metadata": {},
   "outputs": [
    {
     "name": "stderr",
     "output_type": "stream",
     "text": [
      "Epoch 1/20 (training): 100%|██████████| 551/551 [03:14<00:00,  2.83it/s]\n",
      "Epoch 1/20 (validation): 100%|██████████| 69/69 [00:16<00:00,  4.10it/s]\n"
     ]
    },
    {
     "name": "stdout",
     "output_type": "stream",
     "text": [
      "Epoch 1/20: Train Loss: 3.3024, Val Loss: 3.5733, Avg Class Accuracy: 0.1213\n"
     ]
    },
    {
     "name": "stderr",
     "output_type": "stream",
     "text": [
      "Epoch 2/20 (training): 100%|██████████| 551/551 [03:23<00:00,  2.70it/s]\n",
      "Epoch 2/20 (validation): 100%|██████████| 69/69 [00:17<00:00,  3.92it/s]\n"
     ]
    },
    {
     "name": "stdout",
     "output_type": "stream",
     "text": [
      "Epoch 2/20: Train Loss: 2.7460, Val Loss: 3.4901, Avg Class Accuracy: 0.1737\n"
     ]
    },
    {
     "name": "stderr",
     "output_type": "stream",
     "text": [
      "Epoch 3/20 (training): 100%|██████████| 551/551 [03:24<00:00,  2.69it/s]\n",
      "Epoch 3/20 (validation): 100%|██████████| 69/69 [00:17<00:00,  3.91it/s]\n"
     ]
    },
    {
     "name": "stdout",
     "output_type": "stream",
     "text": [
      "Epoch 3/20: Train Loss: 2.4540, Val Loss: 2.9737, Avg Class Accuracy: 0.2378\n"
     ]
    },
    {
     "name": "stderr",
     "output_type": "stream",
     "text": [
      "Epoch 4/20 (training): 100%|██████████| 551/551 [03:23<00:00,  2.70it/s]\n",
      "Epoch 4/20 (validation): 100%|██████████| 69/69 [00:17<00:00,  3.85it/s]\n"
     ]
    },
    {
     "name": "stdout",
     "output_type": "stream",
     "text": [
      "Epoch 4/20: Train Loss: 2.2556, Val Loss: 2.8185, Avg Class Accuracy: 0.2789\n"
     ]
    },
    {
     "name": "stderr",
     "output_type": "stream",
     "text": [
      "Epoch 5/20 (training): 100%|██████████| 551/551 [03:22<00:00,  2.72it/s]\n",
      "Epoch 5/20 (validation): 100%|██████████| 69/69 [00:18<00:00,  3.80it/s]\n"
     ]
    },
    {
     "name": "stdout",
     "output_type": "stream",
     "text": [
      "Epoch 5/20: Train Loss: 2.1076, Val Loss: 2.7340, Avg Class Accuracy: 0.2892\n"
     ]
    },
    {
     "name": "stderr",
     "output_type": "stream",
     "text": [
      "Epoch 6/20 (training): 100%|██████████| 551/551 [03:23<00:00,  2.71it/s]\n",
      "Epoch 6/20 (validation): 100%|██████████| 69/69 [00:18<00:00,  3.78it/s]\n"
     ]
    },
    {
     "name": "stdout",
     "output_type": "stream",
     "text": [
      "Epoch 6/20: Train Loss: 1.9881, Val Loss: 2.6600, Avg Class Accuracy: 0.3135\n"
     ]
    },
    {
     "name": "stderr",
     "output_type": "stream",
     "text": [
      "Epoch 7/20 (training): 100%|██████████| 551/551 [03:21<00:00,  2.73it/s]\n",
      "Epoch 7/20 (validation): 100%|██████████| 69/69 [00:18<00:00,  3.74it/s]\n"
     ]
    },
    {
     "name": "stdout",
     "output_type": "stream",
     "text": [
      "Epoch 7/20: Train Loss: 1.8871, Val Loss: 2.5154, Avg Class Accuracy: 0.3494\n"
     ]
    },
    {
     "name": "stderr",
     "output_type": "stream",
     "text": [
      "Epoch 8/20 (training): 100%|██████████| 551/551 [03:23<00:00,  2.71it/s]\n",
      "Epoch 8/20 (validation): 100%|██████████| 69/69 [00:18<00:00,  3.78it/s]\n"
     ]
    },
    {
     "name": "stdout",
     "output_type": "stream",
     "text": [
      "Epoch 8/20: Train Loss: 1.7981, Val Loss: 2.3087, Avg Class Accuracy: 0.3861\n"
     ]
    },
    {
     "name": "stderr",
     "output_type": "stream",
     "text": [
      "Epoch 9/20 (training): 100%|██████████| 551/551 [03:23<00:00,  2.71it/s]\n",
      "Epoch 9/20 (validation): 100%|██████████| 69/69 [00:18<00:00,  3.75it/s]\n"
     ]
    },
    {
     "name": "stdout",
     "output_type": "stream",
     "text": [
      "Epoch 9/20: Train Loss: 1.7298, Val Loss: 2.1465, Avg Class Accuracy: 0.4234\n"
     ]
    },
    {
     "name": "stderr",
     "output_type": "stream",
     "text": [
      "Epoch 10/20 (training): 100%|██████████| 551/551 [03:22<00:00,  2.72it/s]\n",
      "Epoch 10/20 (validation): 100%|██████████| 69/69 [00:18<00:00,  3.74it/s]\n"
     ]
    },
    {
     "name": "stdout",
     "output_type": "stream",
     "text": [
      "Epoch 10/20: Train Loss: 1.6585, Val Loss: 2.0331, Avg Class Accuracy: 0.4497\n"
     ]
    },
    {
     "name": "stderr",
     "output_type": "stream",
     "text": [
      "Epoch 11/20 (training): 100%|██████████| 551/551 [03:23<00:00,  2.71it/s]\n",
      "Epoch 11/20 (validation): 100%|██████████| 69/69 [00:19<00:00,  3.62it/s]\n"
     ]
    },
    {
     "name": "stdout",
     "output_type": "stream",
     "text": [
      "Epoch 11/20: Train Loss: 1.5961, Val Loss: 1.9840, Avg Class Accuracy: 0.4616\n"
     ]
    },
    {
     "name": "stderr",
     "output_type": "stream",
     "text": [
      "Epoch 12/20 (training): 100%|██████████| 551/551 [03:24<00:00,  2.70it/s]\n",
      "Epoch 12/20 (validation): 100%|██████████| 69/69 [00:18<00:00,  3.69it/s]\n"
     ]
    },
    {
     "name": "stdout",
     "output_type": "stream",
     "text": [
      "Epoch 12/20: Train Loss: 1.5370, Val Loss: 1.9631, Avg Class Accuracy: 0.4698\n"
     ]
    },
    {
     "name": "stderr",
     "output_type": "stream",
     "text": [
      "Epoch 13/20 (training): 100%|██████████| 551/551 [03:23<00:00,  2.71it/s]\n",
      "Epoch 13/20 (validation): 100%|██████████| 69/69 [00:18<00:00,  3.66it/s]\n"
     ]
    },
    {
     "name": "stdout",
     "output_type": "stream",
     "text": [
      "Epoch 13/20: Train Loss: 1.4848, Val Loss: 1.8858, Avg Class Accuracy: 0.4844\n"
     ]
    },
    {
     "name": "stderr",
     "output_type": "stream",
     "text": [
      "Epoch 14/20 (training): 100%|██████████| 551/551 [03:22<00:00,  2.72it/s]\n",
      "Epoch 14/20 (validation): 100%|██████████| 69/69 [00:19<00:00,  3.57it/s]\n"
     ]
    },
    {
     "name": "stdout",
     "output_type": "stream",
     "text": [
      "Epoch 14/20: Train Loss: 1.4421, Val Loss: 1.8203, Avg Class Accuracy: 0.5091\n"
     ]
    },
    {
     "name": "stderr",
     "output_type": "stream",
     "text": [
      "Epoch 15/20 (training): 100%|██████████| 551/551 [03:23<00:00,  2.71it/s]\n",
      "Epoch 15/20 (validation): 100%|██████████| 69/69 [00:18<00:00,  3.67it/s]\n"
     ]
    },
    {
     "name": "stdout",
     "output_type": "stream",
     "text": [
      "Epoch 15/20: Train Loss: 1.3988, Val Loss: 1.8170, Avg Class Accuracy: 0.5063\n"
     ]
    },
    {
     "name": "stderr",
     "output_type": "stream",
     "text": [
      "Epoch 16/20 (training): 100%|██████████| 551/551 [03:22<00:00,  2.71it/s]\n",
      "Epoch 16/20 (validation): 100%|██████████| 69/69 [00:18<00:00,  3.65it/s]\n"
     ]
    },
    {
     "name": "stdout",
     "output_type": "stream",
     "text": [
      "Epoch 16/20: Train Loss: 1.3530, Val Loss: 1.7241, Avg Class Accuracy: 0.5261\n"
     ]
    },
    {
     "name": "stderr",
     "output_type": "stream",
     "text": [
      "Epoch 17/20 (training): 100%|██████████| 551/551 [03:22<00:00,  2.72it/s]\n",
      "Epoch 17/20 (validation): 100%|██████████| 69/69 [00:18<00:00,  3.65it/s]\n"
     ]
    },
    {
     "name": "stdout",
     "output_type": "stream",
     "text": [
      "Epoch 17/20: Train Loss: 1.3146, Val Loss: 1.7582, Avg Class Accuracy: 0.5270\n"
     ]
    },
    {
     "name": "stderr",
     "output_type": "stream",
     "text": [
      "Epoch 18/20 (training): 100%|██████████| 551/551 [03:22<00:00,  2.72it/s]\n",
      "Epoch 18/20 (validation): 100%|██████████| 69/69 [00:18<00:00,  3.65it/s]\n"
     ]
    },
    {
     "name": "stdout",
     "output_type": "stream",
     "text": [
      "Epoch 18/20: Train Loss: 1.2846, Val Loss: 1.6729, Avg Class Accuracy: 0.5446\n"
     ]
    },
    {
     "name": "stderr",
     "output_type": "stream",
     "text": [
      "Epoch 19/20 (training): 100%|██████████| 551/551 [03:23<00:00,  2.71it/s]\n",
      "Epoch 19/20 (validation): 100%|██████████| 69/69 [00:19<00:00,  3.62it/s]\n"
     ]
    },
    {
     "name": "stdout",
     "output_type": "stream",
     "text": [
      "Epoch 19/20: Train Loss: 1.2455, Val Loss: 1.5932, Avg Class Accuracy: 0.5629\n"
     ]
    },
    {
     "name": "stderr",
     "output_type": "stream",
     "text": [
      "Epoch 20/20 (training): 100%|██████████| 551/551 [03:24<00:00,  2.70it/s]\n",
      "Epoch 20/20 (validation): 100%|██████████| 69/69 [00:18<00:00,  3.66it/s]"
     ]
    },
    {
     "name": "stdout",
     "output_type": "stream",
     "text": [
      "Epoch 20/20: Train Loss: 1.2140, Val Loss: 1.6710, Avg Class Accuracy: 0.5481\n"
     ]
    },
    {
     "name": "stderr",
     "output_type": "stream",
     "text": [
      "\n"
     ]
    }
   ],
   "source": [
    "from models import FourBlockCNN\n",
    "\n",
    "fourBlockCNN = FourBlockCNN(num_classes=50)\n",
    "\n",
    "optimizer = optim.Adam(fourBlockCNN.to(device).parameters(), lr=1e-4, weight_decay=1e-5)\n",
    "\n",
    "trainer = Trainer(fourBlockCNN, train_dl, val_dl, optimizer, device=device)\n",
    "trainer.train(num_epochs=20)\n",
    "\n",
    "# Results:\n",
    "# Without augmentation: Epoch 10/10: Train Loss: 2.2281, Val Loss: 2.4054, Avg Class Accuracy: 0.3387\n",
    "# With augmentation: Epoch 10/10: Train Loss: 1.7477, Val Loss: 1.8611, Avg Class Accuracy: 0.4847"
   ]
  },
  {
   "cell_type": "markdown",
   "id": "9d66a126",
   "metadata": {},
   "source": [
    "## Resnet18\n",
    "\n",
    "Here we train the ResNet18 model on the dataset to see the state of the art performance."
   ]
  },
  {
   "cell_type": "code",
   "execution_count": 10,
   "id": "2c7b45fd",
   "metadata": {},
   "outputs": [
    {
     "name": "stderr",
     "output_type": "stream",
     "text": [
      "Using cache found in /Users/grzegorzstatkiewicz/.cache/torch/hub/pytorch_vision_v0.10.0\n",
      "/Users/grzegorzstatkiewicz/Documents/studies/ssne/.venv/lib/python3.12/site-packages/torchvision/models/_utils.py:208: UserWarning: The parameter 'pretrained' is deprecated since 0.13 and may be removed in the future, please use 'weights' instead.\n",
      "  warnings.warn(\n",
      "/Users/grzegorzstatkiewicz/Documents/studies/ssne/.venv/lib/python3.12/site-packages/torchvision/models/_utils.py:223: UserWarning: Arguments other than a weight enum or `None` for 'weights' are deprecated since 0.13 and may be removed in the future. The current behavior is equivalent to passing `weights=None`.\n",
      "  warnings.warn(msg)\n",
      "Epoch 1/20 (training): 100%|██████████| 551/551 [01:47<00:00,  5.11it/s]\n",
      "Epoch 1/20 (validation): 100%|██████████| 69/69 [00:15<00:00,  4.50it/s]\n"
     ]
    },
    {
     "name": "stdout",
     "output_type": "stream",
     "text": [
      "Epoch 1/20: Train Loss: 2.7824, Val Loss: 2.4378, Avg Class Accuracy: 0.3320\n"
     ]
    },
    {
     "name": "stderr",
     "output_type": "stream",
     "text": [
      "Epoch 2/20 (training): 100%|██████████| 551/551 [01:45<00:00,  5.21it/s]\n",
      "Epoch 2/20 (validation): 100%|██████████| 69/69 [00:15<00:00,  4.38it/s]\n"
     ]
    },
    {
     "name": "stdout",
     "output_type": "stream",
     "text": [
      "Epoch 2/20: Train Loss: 2.1387, Val Loss: 2.1194, Avg Class Accuracy: 0.4181\n"
     ]
    },
    {
     "name": "stderr",
     "output_type": "stream",
     "text": [
      "Epoch 3/20 (training): 100%|██████████| 551/551 [01:45<00:00,  5.22it/s]\n",
      "Epoch 3/20 (validation): 100%|██████████| 69/69 [00:15<00:00,  4.34it/s]\n"
     ]
    },
    {
     "name": "stdout",
     "output_type": "stream",
     "text": [
      "Epoch 3/20: Train Loss: 1.8145, Val Loss: 2.0159, Avg Class Accuracy: 0.4526\n"
     ]
    },
    {
     "name": "stderr",
     "output_type": "stream",
     "text": [
      "Epoch 4/20 (training): 100%|██████████| 551/551 [01:43<00:00,  5.35it/s]\n",
      "Epoch 4/20 (validation): 100%|██████████| 69/69 [00:15<00:00,  4.37it/s]\n"
     ]
    },
    {
     "name": "stdout",
     "output_type": "stream",
     "text": [
      "Epoch 4/20: Train Loss: 1.5512, Val Loss: 1.9710, Avg Class Accuracy: 0.4640\n"
     ]
    },
    {
     "name": "stderr",
     "output_type": "stream",
     "text": [
      "Epoch 5/20 (training): 100%|██████████| 551/551 [01:41<00:00,  5.43it/s]\n",
      "Epoch 5/20 (validation): 100%|██████████| 69/69 [00:16<00:00,  4.31it/s]\n"
     ]
    },
    {
     "name": "stdout",
     "output_type": "stream",
     "text": [
      "Epoch 5/20: Train Loss: 1.3172, Val Loss: 1.9486, Avg Class Accuracy: 0.4789\n"
     ]
    },
    {
     "name": "stderr",
     "output_type": "stream",
     "text": [
      "Epoch 6/20 (training): 100%|██████████| 551/551 [01:42<00:00,  5.37it/s]\n",
      "Epoch 6/20 (validation): 100%|██████████| 69/69 [00:15<00:00,  4.32it/s]\n"
     ]
    },
    {
     "name": "stdout",
     "output_type": "stream",
     "text": [
      "Epoch 6/20: Train Loss: 1.1019, Val Loss: 1.9828, Avg Class Accuracy: 0.4856\n"
     ]
    },
    {
     "name": "stderr",
     "output_type": "stream",
     "text": [
      "Epoch 7/20 (training): 100%|██████████| 551/551 [01:41<00:00,  5.44it/s]\n",
      "Epoch 7/20 (validation): 100%|██████████| 69/69 [00:16<00:00,  4.31it/s]\n"
     ]
    },
    {
     "name": "stdout",
     "output_type": "stream",
     "text": [
      "Epoch 7/20: Train Loss: 0.9306, Val Loss: 2.0348, Avg Class Accuracy: 0.4912\n"
     ]
    },
    {
     "name": "stderr",
     "output_type": "stream",
     "text": [
      "Epoch 8/20 (training): 100%|██████████| 551/551 [01:44<00:00,  5.27it/s]\n",
      "Epoch 8/20 (validation): 100%|██████████| 69/69 [00:15<00:00,  4.45it/s]\n"
     ]
    },
    {
     "name": "stdout",
     "output_type": "stream",
     "text": [
      "Epoch 8/20: Train Loss: 0.7978, Val Loss: 2.1219, Avg Class Accuracy: 0.4962\n"
     ]
    },
    {
     "name": "stderr",
     "output_type": "stream",
     "text": [
      "Epoch 9/20 (training): 100%|██████████| 551/551 [01:43<00:00,  5.33it/s]\n",
      "Epoch 9/20 (validation): 100%|██████████| 69/69 [00:15<00:00,  4.42it/s]\n"
     ]
    },
    {
     "name": "stdout",
     "output_type": "stream",
     "text": [
      "Epoch 9/20: Train Loss: 0.7041, Val Loss: 2.1299, Avg Class Accuracy: 0.4963\n"
     ]
    },
    {
     "name": "stderr",
     "output_type": "stream",
     "text": [
      "Epoch 10/20 (training): 100%|██████████| 551/551 [01:41<00:00,  5.41it/s]\n",
      "Epoch 10/20 (validation): 100%|██████████| 69/69 [00:15<00:00,  4.39it/s]\n"
     ]
    },
    {
     "name": "stdout",
     "output_type": "stream",
     "text": [
      "Epoch 10/20: Train Loss: 0.6226, Val Loss: 2.1874, Avg Class Accuracy: 0.4970\n"
     ]
    },
    {
     "name": "stderr",
     "output_type": "stream",
     "text": [
      "Epoch 11/20 (training): 100%|██████████| 551/551 [01:42<00:00,  5.38it/s]\n",
      "Epoch 11/20 (validation): 100%|██████████| 69/69 [00:15<00:00,  4.38it/s]\n"
     ]
    },
    {
     "name": "stdout",
     "output_type": "stream",
     "text": [
      "Epoch 11/20: Train Loss: 0.5756, Val Loss: 2.2226, Avg Class Accuracy: 0.4987\n"
     ]
    },
    {
     "name": "stderr",
     "output_type": "stream",
     "text": [
      "Epoch 12/20 (training): 100%|██████████| 551/551 [01:42<00:00,  5.38it/s]\n",
      "Epoch 12/20 (validation): 100%|██████████| 69/69 [00:15<00:00,  4.39it/s]\n"
     ]
    },
    {
     "name": "stdout",
     "output_type": "stream",
     "text": [
      "Epoch 12/20: Train Loss: 0.5304, Val Loss: 2.2860, Avg Class Accuracy: 0.4952\n"
     ]
    },
    {
     "name": "stderr",
     "output_type": "stream",
     "text": [
      "Epoch 13/20 (training): 100%|██████████| 551/551 [01:42<00:00,  5.36it/s]\n",
      "Epoch 13/20 (validation): 100%|██████████| 69/69 [00:15<00:00,  4.41it/s]\n"
     ]
    },
    {
     "name": "stdout",
     "output_type": "stream",
     "text": [
      "Epoch 13/20: Train Loss: 0.4914, Val Loss: 2.2734, Avg Class Accuracy: 0.5028\n"
     ]
    },
    {
     "name": "stderr",
     "output_type": "stream",
     "text": [
      "Epoch 14/20 (training): 100%|██████████| 551/551 [01:43<00:00,  5.35it/s]\n",
      "Epoch 14/20 (validation): 100%|██████████| 69/69 [00:15<00:00,  4.41it/s]\n"
     ]
    },
    {
     "name": "stdout",
     "output_type": "stream",
     "text": [
      "Epoch 14/20: Train Loss: 0.4575, Val Loss: 2.2841, Avg Class Accuracy: 0.5050\n"
     ]
    },
    {
     "name": "stderr",
     "output_type": "stream",
     "text": [
      "Epoch 15/20 (training): 100%|██████████| 551/551 [01:42<00:00,  5.37it/s]\n",
      "Epoch 15/20 (validation): 100%|██████████| 69/69 [00:15<00:00,  4.35it/s]\n"
     ]
    },
    {
     "name": "stdout",
     "output_type": "stream",
     "text": [
      "Epoch 15/20: Train Loss: 0.4213, Val Loss: 2.3178, Avg Class Accuracy: 0.5096\n"
     ]
    },
    {
     "name": "stderr",
     "output_type": "stream",
     "text": [
      "Epoch 16/20 (training): 100%|██████████| 551/551 [01:41<00:00,  5.43it/s]\n",
      "Epoch 16/20 (validation): 100%|██████████| 69/69 [00:15<00:00,  4.40it/s]\n"
     ]
    },
    {
     "name": "stdout",
     "output_type": "stream",
     "text": [
      "Epoch 16/20: Train Loss: 0.3918, Val Loss: 2.3276, Avg Class Accuracy: 0.5065\n"
     ]
    },
    {
     "name": "stderr",
     "output_type": "stream",
     "text": [
      "Epoch 17/20 (training): 100%|██████████| 551/551 [01:42<00:00,  5.38it/s]\n",
      "Epoch 17/20 (validation): 100%|██████████| 69/69 [00:15<00:00,  4.37it/s]\n"
     ]
    },
    {
     "name": "stdout",
     "output_type": "stream",
     "text": [
      "Epoch 17/20: Train Loss: 0.3736, Val Loss: 2.3495, Avg Class Accuracy: 0.5092\n"
     ]
    },
    {
     "name": "stderr",
     "output_type": "stream",
     "text": [
      "Epoch 18/20 (training): 100%|██████████| 551/551 [01:42<00:00,  5.36it/s]\n",
      "Epoch 18/20 (validation): 100%|██████████| 69/69 [00:15<00:00,  4.40it/s]\n"
     ]
    },
    {
     "name": "stdout",
     "output_type": "stream",
     "text": [
      "Epoch 18/20: Train Loss: 0.3491, Val Loss: 2.4328, Avg Class Accuracy: 0.5094\n"
     ]
    },
    {
     "name": "stderr",
     "output_type": "stream",
     "text": [
      "Epoch 19/20 (training): 100%|██████████| 551/551 [01:42<00:00,  5.35it/s]\n",
      "Epoch 19/20 (validation): 100%|██████████| 69/69 [00:15<00:00,  4.39it/s]\n"
     ]
    },
    {
     "name": "stdout",
     "output_type": "stream",
     "text": [
      "Epoch 19/20: Train Loss: 0.3224, Val Loss: 2.4313, Avg Class Accuracy: 0.5070\n"
     ]
    },
    {
     "name": "stderr",
     "output_type": "stream",
     "text": [
      "Epoch 20/20 (training): 100%|██████████| 551/551 [01:42<00:00,  5.38it/s]\n",
      "Epoch 20/20 (validation): 100%|██████████| 69/69 [00:15<00:00,  4.38it/s]"
     ]
    },
    {
     "name": "stdout",
     "output_type": "stream",
     "text": [
      "Epoch 20/20: Train Loss: 0.3031, Val Loss: 2.4299, Avg Class Accuracy: 0.5105\n"
     ]
    },
    {
     "name": "stderr",
     "output_type": "stream",
     "text": [
      "\n"
     ]
    }
   ],
   "source": [
    "import torch.nn as nn\n",
    "\n",
    "resnet18 = torch.hub.load('pytorch/vision:v0.10.0', 'resnet18', pretrained=False)\n",
    "\n",
    "in_features = resnet18.fc.in_features\n",
    "resnet18.fc = nn.Linear(in_features, num_classes)\n",
    "\n",
    "resnet18 = resnet18.to(device)\n",
    "\n",
    "optimizer = optim.Adam(resnet18.parameters(), lr=1e-4, weight_decay=1e-5)\n",
    "\n",
    "trainer = Trainer(resnet18, train_dl, val_dl, optimizer, device=device)\n",
    "trainer.train(num_epochs=20)"
   ]
  },
  {
   "cell_type": "markdown",
   "id": "9667b0c6",
   "metadata": {},
   "source": [
    "## Save models"
   ]
  },
  {
   "cell_type": "code",
   "execution_count": 11,
   "id": "b74656ae",
   "metadata": {},
   "outputs": [],
   "source": [
    "torch.save(basicNet.state_dict(), \"./models/basicNet.pth\")"
   ]
  },
  {
   "cell_type": "code",
   "execution_count": 12,
   "id": "ff821150",
   "metadata": {},
   "outputs": [],
   "source": [
    "torch.save(fourBlockCNN.state_dict(), \"./models/fourBlockCNN.pth\")"
   ]
  },
  {
   "cell_type": "code",
   "execution_count": 13,
   "id": "09e8c8eb",
   "metadata": {},
   "outputs": [],
   "source": [
    "torch.save(resnet18.state_dict(), \"./models/resnet18.pth\")"
   ]
  },
  {
   "cell_type": "code",
   "execution_count": 28,
   "id": "5c9c1cdc",
   "metadata": {},
   "outputs": [],
   "source": [
    "torch.save(basicResNet.state_dict(), \"./models/basicResNet.pth\")"
   ]
  }
 ],
 "metadata": {
  "kernelspec": {
   "display_name": ".venv",
   "language": "python",
   "name": "python3"
  },
  "language_info": {
   "codemirror_mode": {
    "name": "ipython",
    "version": 3
   },
   "file_extension": ".py",
   "mimetype": "text/x-python",
   "name": "python",
   "nbconvert_exporter": "python",
   "pygments_lexer": "ipython3",
   "version": "3.12.0"
  }
 },
 "nbformat": 4,
 "nbformat_minor": 5
}
