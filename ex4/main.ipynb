{
 "cells": [
  {
   "cell_type": "markdown",
   "id": "7cc72ded",
   "metadata": {},
   "source": [
    "# Image classification"
   ]
  },
  {
   "cell_type": "code",
   "execution_count": 7,
   "id": "21f91952",
   "metadata": {},
   "outputs": [],
   "source": [
    "import torch\n",
    "from torch import Generator\n",
    "\n",
    "# Set the random seed for reproducibility\n",
    "random_state = 42"
   ]
  },
  {
   "cell_type": "code",
   "execution_count": 8,
   "id": "abf3d6e8",
   "metadata": {},
   "outputs": [
    {
     "name": "stdout",
     "output_type": "stream",
     "text": [
      "Using device: mps\n"
     ]
    }
   ],
   "source": [
    "device = \"cuda\" if torch.cuda.is_available() else \"mps\" if torch.backends.mps.is_available() else \"cpu\"\n",
    "print(f\"Using device: {device}\")"
   ]
  },
  {
   "cell_type": "markdown",
   "id": "8fa6528d",
   "metadata": {},
   "source": [
    "## Preprocessing"
   ]
  },
  {
   "cell_type": "code",
   "execution_count": 9,
   "id": "3e6f0be5",
   "metadata": {},
   "outputs": [
    {
     "name": "stdout",
     "output_type": "stream",
     "text": [
      "Train and validation directories already exist.\n"
     ]
    }
   ],
   "source": [
    "import os\n",
    "from data import train_val_split\n",
    "\n",
    "base_dir = './data/train'\n",
    "train_dir = './data/preprocessed/train'\n",
    "val_dir = './data/preprocessed/val'\n",
    "\n",
    "val_ratio = 0.2\n",
    "\n",
    "if not os.path.exists(train_dir) and not os.path.exists(val_dir):\n",
    "    train_val_split(base_dir, train_dir, val_dir, val_ratio, random_state) \n",
    "\n",
    "    print(\"Saved train data to:\", train_dir)\n",
    "    print(\"Saved validation data to:\", val_dir)\n",
    "else:\n",
    "    print(\"Train and validation directories already exist.\")"
   ]
  },
  {
   "cell_type": "markdown",
   "id": "a6777f43",
   "metadata": {},
   "source": [
    "## Data"
   ]
  },
  {
   "cell_type": "code",
   "execution_count": 10,
   "id": "f8f1f0a9",
   "metadata": {},
   "outputs": [
    {
     "name": "stdout",
     "output_type": "stream",
     "text": [
      "Number of training samples: 70409\n",
      "Number of validation samples: 8801\n"
     ]
    }
   ],
   "source": [
    "import torchvision.transforms as transforms\n",
    "from torchvision.datasets import ImageFolder\n",
    "from torch.utils.data import DataLoader, ConcatDataset\n",
    "from data import sample_dataset\n",
    "\n",
    "default_transform = transforms.Compose([\n",
    "    transforms.ToTensor(),\n",
    "    transforms.Normalize((0.5, 0.5, 0.5), (0.5, 0.5, 0.5))\n",
    "])\n",
    "\n",
    "augmented_transform = transforms.Compose([\n",
    "    transforms.RandomCrop(64, padding=4),\n",
    "    transforms.RandomHorizontalFlip(),\n",
    "    transforms.RandomRotation(10),\n",
    "    # transforms.ColorJitter(brightness=0.1, contrast=0.1, saturation=0.1),\n",
    "    transforms.Resize(64),\n",
    "    transforms.ToTensor(),\n",
    "    transforms.Normalize((0.5, 0.5, 0.5), (0.5, 0.5, 0.5))\n",
    "])\n",
    "\n",
    "train_default_ds = ImageFolder(train_dir, transform=default_transform)\n",
    "train_augmented_ds = ImageFolder(train_dir, transform=augmented_transform)\n",
    "train_ds = ConcatDataset([train_default_ds, train_augmented_ds])\n",
    "\n",
    "val_ds = ImageFolder(val_dir, transform=default_transform)\n",
    "\n",
    "# downsample the dataset\n",
    "sample_ratio = 0.5\n",
    "sampled_train_ds = sample_dataset(train_ds, sample_ratio, seed=random_state)\n",
    "sampled_val_ds = sample_dataset(val_ds, sample_ratio, seed=random_state)\n",
    "\n",
    "num_classes = len(train_default_ds.classes)\n",
    "\n",
    "print(f\"Number of training samples: {len(sampled_train_ds)}\")\n",
    "print(f\"Number of validation samples: {len(sampled_val_ds)}\")\n",
    "\n",
    "batch_size = 128\n",
    "num_workers = 0\n",
    "\n",
    "# setup data loaders\n",
    "train_dl = DataLoader(sampled_train_ds,\n",
    "                      batch_size=batch_size,\n",
    "                      num_workers=num_workers,\n",
    "                      shuffle=True,\n",
    "                      generator=Generator().manual_seed(random_state))\n",
    "\n",
    "val_dl = DataLoader(sampled_val_ds,\n",
    "                    batch_size=batch_size,\n",
    "                    num_workers=num_workers, \n",
    "                    shuffle=False)"
   ]
  },
  {
   "cell_type": "code",
   "execution_count": 11,
   "id": "d0dedbb4",
   "metadata": {},
   "outputs": [
    {
     "name": "stdout",
     "output_type": "stream",
     "text": [
      "Sample image shape: torch.Size([3, 64, 64])\n",
      "Sample label: 0\n"
     ]
    },
    {
     "data": {
      "image/png": "[encoded data removed]",
      "text/plain": [
       "<Figure size 640x480 with 1 Axes>"
      ]
     },
     "metadata": {},
     "output_type": "display_data"
    }
   ],
   "source": [
    "from utils import show_image\n",
    "\n",
    "sample_img, sample_label = train_ds[0]\n",
    "\n",
    "print(f\"Sample image shape: {sample_img.size()}\")\n",
    "print(f\"Sample label: {sample_label}\")\n",
    "\n",
    "show_image(sample_img)"
   ]
  },
  {
   "cell_type": "markdown",
   "id": "517c5072",
   "metadata": {},
   "source": [
    "## Training"
   ]
  },
  {
   "cell_type": "code",
   "execution_count": 12,
   "id": "8d21d357",
   "metadata": {},
   "outputs": [],
   "source": [
    "from training import Trainer\n",
    "import torch.optim as optim"
   ]
  },
  {
   "cell_type": "markdown",
   "id": "465789b2",
   "metadata": {},
   "source": [
    "### BasicModel"
   ]
  },
  {
   "cell_type": "code",
   "execution_count": 17,
   "id": "184c7b8d",
   "metadata": {},
   "outputs": [
    {
     "name": "stderr",
     "output_type": "stream",
     "text": [
      "Epoch 1/10 (training): 100%|██████████| 551/551 [00:45<00:00, 12.00it/s]\n",
      "Epoch 1/10 (validation): 100%|██████████| 69/69 [00:07<00:00,  8.95it/s]\n"
     ]
    },
    {
     "name": "stdout",
     "output_type": "stream",
     "text": [
      "Epoch 1/10: Train Loss: 3.2696, Val Loss: 2.7665, Avg Class Accuracy: 0.2707\n"
     ]
    },
    {
     "name": "stderr",
     "output_type": "stream",
     "text": [
      "Epoch 2/10 (training): 100%|██████████| 551/551 [00:50<00:00, 10.97it/s]\n",
      "Epoch 2/10 (validation): 100%|██████████| 69/69 [00:07<00:00,  8.91it/s]\n"
     ]
    },
    {
     "name": "stdout",
     "output_type": "stream",
     "text": [
      "Epoch 2/10: Train Loss: 2.7737, Val Loss: 2.4604, Avg Class Accuracy: 0.3353\n"
     ]
    },
    {
     "name": "stderr",
     "output_type": "stream",
     "text": [
      "Epoch 3/10 (training): 100%|██████████| 551/551 [00:50<00:00, 10.84it/s]\n",
      "Epoch 3/10 (validation): 100%|██████████| 69/69 [00:07<00:00,  8.86it/s]\n"
     ]
    },
    {
     "name": "stdout",
     "output_type": "stream",
     "text": [
      "Epoch 3/10: Train Loss: 2.5412, Val Loss: 2.2696, Avg Class Accuracy: 0.3827\n"
     ]
    },
    {
     "name": "stderr",
     "output_type": "stream",
     "text": [
      "Epoch 4/10 (training): 100%|██████████| 551/551 [00:48<00:00, 11.36it/s]\n",
      "Epoch 4/10 (validation): 100%|██████████| 69/69 [00:07<00:00,  8.87it/s]\n"
     ]
    },
    {
     "name": "stdout",
     "output_type": "stream",
     "text": [
      "Epoch 4/10: Train Loss: 2.3905, Val Loss: 2.1767, Avg Class Accuracy: 0.4029\n"
     ]
    },
    {
     "name": "stderr",
     "output_type": "stream",
     "text": [
      "Epoch 5/10 (training): 100%|██████████| 551/551 [00:45<00:00, 12.09it/s]\n",
      "Epoch 5/10 (validation): 100%|██████████| 69/69 [00:07<00:00,  8.92it/s]\n"
     ]
    },
    {
     "name": "stdout",
     "output_type": "stream",
     "text": [
      "Epoch 5/10: Train Loss: 2.2854, Val Loss: 2.1152, Avg Class Accuracy: 0.4140\n"
     ]
    },
    {
     "name": "stderr",
     "output_type": "stream",
     "text": [
      "Epoch 6/10 (training): 100%|██████████| 551/551 [00:45<00:00, 12.09it/s]\n",
      "Epoch 6/10 (validation): 100%|██████████| 69/69 [00:07<00:00,  8.85it/s]\n"
     ]
    },
    {
     "name": "stdout",
     "output_type": "stream",
     "text": [
      "Epoch 6/10: Train Loss: 2.2003, Val Loss: 2.0349, Avg Class Accuracy: 0.4384\n"
     ]
    },
    {
     "name": "stderr",
     "output_type": "stream",
     "text": [
      "Epoch 7/10 (training): 100%|██████████| 551/551 [00:45<00:00, 12.21it/s]\n",
      "Epoch 7/10 (validation): 100%|██████████| 69/69 [00:07<00:00,  8.82it/s]\n"
     ]
    },
    {
     "name": "stdout",
     "output_type": "stream",
     "text": [
      "Epoch 7/10: Train Loss: 2.1270, Val Loss: 1.9695, Avg Class Accuracy: 0.4526\n"
     ]
    },
    {
     "name": "stderr",
     "output_type": "stream",
     "text": [
      "Epoch 8/10 (training): 100%|██████████| 551/551 [00:46<00:00, 11.80it/s]\n",
      "Epoch 8/10 (validation): 100%|██████████| 69/69 [00:07<00:00,  8.89it/s]\n"
     ]
    },
    {
     "name": "stdout",
     "output_type": "stream",
     "text": [
      "Epoch 8/10: Train Loss: 2.0670, Val Loss: 1.9643, Avg Class Accuracy: 0.4529\n"
     ]
    },
    {
     "name": "stderr",
     "output_type": "stream",
     "text": [
      "Epoch 9/10 (training): 100%|██████████| 551/551 [00:45<00:00, 12.16it/s]\n",
      "Epoch 9/10 (validation): 100%|██████████| 69/69 [00:07<00:00,  8.77it/s]\n"
     ]
    },
    {
     "name": "stdout",
     "output_type": "stream",
     "text": [
      "Epoch 9/10: Train Loss: 2.0232, Val Loss: 1.9026, Avg Class Accuracy: 0.4757\n"
     ]
    },
    {
     "name": "stderr",
     "output_type": "stream",
     "text": [
      "Epoch 10/10 (training): 100%|██████████| 551/551 [00:45<00:00, 12.12it/s]\n",
      "Epoch 10/10 (validation): 100%|██████████| 69/69 [00:07<00:00,  8.76it/s]"
     ]
    },
    {
     "name": "stdout",
     "output_type": "stream",
     "text": [
      "Epoch 10/10: Train Loss: 1.9739, Val Loss: 1.8580, Avg Class Accuracy: 0.4804\n"
     ]
    },
    {
     "name": "stderr",
     "output_type": "stream",
     "text": [
      "\n"
     ]
    }
   ],
   "source": [
    "from models import BasicNet\n",
    "\n",
    "basicNet = BasicNet(num_classes=num_classes)\n",
    "\n",
    "optimizer = optim.Adam(basicNet.to(device).parameters(), lr=1e-4, weight_decay=1e-5)\n",
    "\n",
    "trainer = Trainer(basicNet, train_dl, val_dl, optimizer, device=device)\n",
    "trainer.train(num_epochs=10)"
   ]
  },
  {
   "cell_type": "markdown",
   "id": "e39016aa",
   "metadata": {},
   "source": [
    "### Renset-like model"
   ]
  },
  {
   "cell_type": "code",
   "execution_count": 14,
   "id": "5d69386e",
   "metadata": {},
   "outputs": [],
   "source": [
    "# from models import SimpleResNet\n",
    "\n",
    "# simpleResNet = SimpleResNet(num_classes=num_classes)\n",
    "\n",
    "# optimizer = optim.Adam(simpleResNet.to(device).parameters(), lr=1e-3, weight_decay=1e-5)\n",
    "\n",
    "# trainer = Trainer(simpleResNet, train_dl, val_dl, optimizer, device=device)\n",
    "# trainer.train(num_epochs=10)"
   ]
  },
  {
   "cell_type": "markdown",
   "id": "657afee3",
   "metadata": {},
   "source": [
    "### Four-block CNN"
   ]
  },
  {
   "cell_type": "code",
   "execution_count": null,
   "id": "82ec7286",
   "metadata": {},
   "outputs": [
    {
     "name": "stderr",
     "output_type": "stream",
     "text": [
      "Epoch 1/10 (training): 100%|██████████| 551/551 [01:41<00:00,  5.45it/s]\n",
      "Epoch 1/10 (validation): 100%|██████████| 69/69 [00:08<00:00,  7.93it/s]\n"
     ]
    },
    {
     "name": "stdout",
     "output_type": "stream",
     "text": [
      "Epoch 1/10: Train Loss: 3.2531, Val Loss: 3.1608, Avg Class Accuracy: 0.1574\n"
     ]
    },
    {
     "name": "stderr",
     "output_type": "stream",
     "text": [
      "Epoch 2/10 (training): 100%|██████████| 551/551 [01:40<00:00,  5.47it/s]\n",
      "Epoch 2/10 (validation): 100%|██████████| 69/69 [00:08<00:00,  7.87it/s]\n"
     ]
    },
    {
     "name": "stdout",
     "output_type": "stream",
     "text": [
      "Epoch 2/10: Train Loss: 2.8960, Val Loss: 2.8528, Avg Class Accuracy: 0.2164\n"
     ]
    },
    {
     "name": "stderr",
     "output_type": "stream",
     "text": [
      "Epoch 3/10 (training): 100%|██████████| 551/551 [01:40<00:00,  5.47it/s]\n",
      "Epoch 3/10 (validation): 100%|██████████| 69/69 [00:08<00:00,  7.81it/s]\n"
     ]
    },
    {
     "name": "stdout",
     "output_type": "stream",
     "text": [
      "Epoch 3/10: Train Loss: 2.6463, Val Loss: 2.6242, Avg Class Accuracy: 0.2767\n"
     ]
    },
    {
     "name": "stderr",
     "output_type": "stream",
     "text": [
      "Epoch 4/10 (training): 100%|██████████| 551/551 [01:39<00:00,  5.53it/s]\n",
      "Epoch 4/10 (validation): 100%|██████████| 69/69 [00:08<00:00,  7.73it/s]\n"
     ]
    },
    {
     "name": "stdout",
     "output_type": "stream",
     "text": [
      "Epoch 4/10: Train Loss: 2.4411, Val Loss: 2.4591, Avg Class Accuracy: 0.3124\n"
     ]
    },
    {
     "name": "stderr",
     "output_type": "stream",
     "text": [
      "Epoch 5/10 (training): 100%|██████████| 551/551 [01:41<00:00,  5.41it/s]\n",
      "Epoch 5/10 (validation): 100%|██████████| 69/69 [00:09<00:00,  7.49it/s]\n"
     ]
    },
    {
     "name": "stdout",
     "output_type": "stream",
     "text": [
      "Epoch 5/10: Train Loss: 2.2763, Val Loss: 2.2984, Avg Class Accuracy: 0.3614\n"
     ]
    },
    {
     "name": "stderr",
     "output_type": "stream",
     "text": [
      "Epoch 6/10 (training): 100%|██████████| 551/551 [01:40<00:00,  5.49it/s]\n",
      "Epoch 6/10 (validation): 100%|██████████| 69/69 [00:09<00:00,  7.63it/s]\n"
     ]
    },
    {
     "name": "stdout",
     "output_type": "stream",
     "text": [
      "Epoch 6/10: Train Loss: 2.1424, Val Loss: 2.1042, Avg Class Accuracy: 0.4088\n"
     ]
    },
    {
     "name": "stderr",
     "output_type": "stream",
     "text": [
      "Epoch 7/10 (training): 100%|██████████| 551/551 [01:38<00:00,  5.62it/s]\n",
      "Epoch 7/10 (validation): 100%|██████████| 69/69 [00:09<00:00,  7.60it/s]\n"
     ]
    },
    {
     "name": "stdout",
     "output_type": "stream",
     "text": [
      "Epoch 7/10: Train Loss: 2.0279, Val Loss: 2.0566, Avg Class Accuracy: 0.4231\n"
     ]
    },
    {
     "name": "stderr",
     "output_type": "stream",
     "text": [
      "Epoch 8/10 (training): 100%|██████████| 551/551 [01:38<00:00,  5.61it/s]\n",
      "Epoch 8/10 (validation): 100%|██████████| 69/69 [00:09<00:00,  7.65it/s]\n"
     ]
    },
    {
     "name": "stdout",
     "output_type": "stream",
     "text": [
      "Epoch 8/10: Train Loss: 1.9191, Val Loss: 2.1329, Avg Class Accuracy: 0.4211\n"
     ]
    },
    {
     "name": "stderr",
     "output_type": "stream",
     "text": [
      "Epoch 9/10 (training): 100%|██████████| 551/551 [01:38<00:00,  5.59it/s]\n",
      "Epoch 9/10 (validation): 100%|██████████| 69/69 [00:09<00:00,  7.60it/s]\n"
     ]
    },
    {
     "name": "stdout",
     "output_type": "stream",
     "text": [
      "Epoch 9/10: Train Loss: 1.8304, Val Loss: 1.9594, Avg Class Accuracy: 0.4600\n"
     ]
    },
    {
     "name": "stderr",
     "output_type": "stream",
     "text": [
      "Epoch 10/10 (training): 100%|██████████| 551/551 [01:37<00:00,  5.68it/s]\n",
      "Epoch 10/10 (validation): 100%|██████████| 69/69 [00:09<00:00,  7.50it/s]"
     ]
    },
    {
     "name": "stdout",
     "output_type": "stream",
     "text": [
      "Epoch 10/10: Train Loss: 1.7477, Val Loss: 1.8611, Avg Class Accuracy: 0.4847\n"
     ]
    },
    {
     "name": "stderr",
     "output_type": "stream",
     "text": [
      "\n"
     ]
    }
   ],
   "source": [
    "from models import FourBlockCNN\n",
    "\n",
    "fourBlockCNN = FourBlockCNN(num_classes=50)\n",
    "\n",
    "optimizer = optim.Adam(fourBlockCNN.to(device).parameters(), lr=1e-3, weight_decay=1e-5)\n",
    "\n",
    "trainer = Trainer(fourBlockCNN, train_dl, val_dl, optimizer, device=device)\n",
    "trainer.train(num_epochs=10)\n",
    "\n",
    "# Results:\n",
    "# Without augmentation: Epoch 10/10: Train Loss: 2.2281, Val Loss: 2.4054, Avg Class Accuracy: 0.3387\n",
    "# With augmentation: Epoch 10/10: Train Loss: 1.7477, Val Loss: 1.8611, Avg Class Accuracy: 0.4847"
   ]
  },
  {
   "cell_type": "markdown",
   "id": "9d66a126",
   "metadata": {},
   "source": [
    "## Resnet18\n",
    "\n",
    "Here we train the ResNet18 model on the dataset to see the state of the art performance."
   ]
  },
  {
   "cell_type": "code",
   "execution_count": 16,
   "id": "2c7b45fd",
   "metadata": {},
   "outputs": [
    {
     "name": "stderr",
     "output_type": "stream",
     "text": [
      "Using cache found in /Users/grzegorzstatkiewicz/.cache/torch/hub/pytorch_vision_v0.10.0\n",
      "/Users/grzegorzstatkiewicz/Documents/studies/ssne/.venv/lib/python3.12/site-packages/torchvision/models/_utils.py:208: UserWarning: The parameter 'pretrained' is deprecated since 0.13 and may be removed in the future, please use 'weights' instead.\n",
      "  warnings.warn(\n",
      "/Users/grzegorzstatkiewicz/Documents/studies/ssne/.venv/lib/python3.12/site-packages/torchvision/models/_utils.py:223: UserWarning: Arguments other than a weight enum or `None` for 'weights' are deprecated since 0.13 and may be removed in the future. The current behavior is equivalent to passing `weights=None`.\n",
      "  warnings.warn(msg)\n",
      "Epoch 1/10 (training): 100%|██████████| 551/551 [01:04<00:00,  8.49it/s]\n",
      "Epoch 1/10 (validation): 100%|██████████| 69/69 [00:07<00:00,  9.11it/s]\n"
     ]
    },
    {
     "name": "stdout",
     "output_type": "stream",
     "text": [
      "Epoch 1/10: Train Loss: 2.9296, Val Loss: 2.5798, Avg Class Accuracy: 0.3070\n"
     ]
    },
    {
     "name": "stderr",
     "output_type": "stream",
     "text": [
      "Epoch 2/10 (training): 100%|██████████| 551/551 [01:01<00:00,  9.01it/s]\n",
      "Epoch 2/10 (validation): 100%|██████████| 69/69 [00:08<00:00,  8.07it/s]\n"
     ]
    },
    {
     "name": "stdout",
     "output_type": "stream",
     "text": [
      "Epoch 2/10: Train Loss: 2.3317, Val Loss: 2.3422, Avg Class Accuracy: 0.3667\n"
     ]
    },
    {
     "name": "stderr",
     "output_type": "stream",
     "text": [
      "Epoch 3/10 (training): 100%|██████████| 551/551 [01:10<00:00,  7.86it/s]\n",
      "Epoch 3/10 (validation): 100%|██████████| 69/69 [00:09<00:00,  7.48it/s]\n"
     ]
    },
    {
     "name": "stdout",
     "output_type": "stream",
     "text": [
      "Epoch 3/10: Train Loss: 2.0132, Val Loss: 2.2255, Avg Class Accuracy: 0.4022\n"
     ]
    },
    {
     "name": "stderr",
     "output_type": "stream",
     "text": [
      "Epoch 4/10 (training): 100%|██████████| 551/551 [01:03<00:00,  8.67it/s]\n",
      "Epoch 4/10 (validation): 100%|██████████| 69/69 [00:08<00:00,  7.77it/s]\n"
     ]
    },
    {
     "name": "stdout",
     "output_type": "stream",
     "text": [
      "Epoch 4/10: Train Loss: 1.7531, Val Loss: 2.1050, Avg Class Accuracy: 0.4324\n"
     ]
    },
    {
     "name": "stderr",
     "output_type": "stream",
     "text": [
      "Epoch 5/10 (training): 100%|██████████| 551/551 [01:10<00:00,  7.87it/s]\n",
      "Epoch 5/10 (validation): 100%|██████████| 69/69 [00:08<00:00,  7.74it/s]\n"
     ]
    },
    {
     "name": "stdout",
     "output_type": "stream",
     "text": [
      "Epoch 5/10: Train Loss: 1.5111, Val Loss: 2.0847, Avg Class Accuracy: 0.4436\n"
     ]
    },
    {
     "name": "stderr",
     "output_type": "stream",
     "text": [
      "Epoch 6/10 (training): 100%|██████████| 551/551 [01:09<00:00,  7.88it/s]\n",
      "Epoch 6/10 (validation): 100%|██████████| 69/69 [00:08<00:00,  7.78it/s]\n"
     ]
    },
    {
     "name": "stdout",
     "output_type": "stream",
     "text": [
      "Epoch 6/10: Train Loss: 1.2983, Val Loss: 2.1678, Avg Class Accuracy: 0.4384\n"
     ]
    },
    {
     "name": "stderr",
     "output_type": "stream",
     "text": [
      "Epoch 7/10 (training): 100%|██████████| 551/551 [01:09<00:00,  7.98it/s]\n",
      "Epoch 7/10 (validation): 100%|██████████| 69/69 [00:08<00:00,  8.03it/s]\n"
     ]
    },
    {
     "name": "stdout",
     "output_type": "stream",
     "text": [
      "Epoch 7/10: Train Loss: 1.1273, Val Loss: 2.1908, Avg Class Accuracy: 0.4495\n"
     ]
    },
    {
     "name": "stderr",
     "output_type": "stream",
     "text": [
      "Epoch 8/10 (training): 100%|██████████| 551/551 [01:09<00:00,  7.94it/s]\n",
      "Epoch 8/10 (validation): 100%|██████████| 69/69 [00:08<00:00,  8.20it/s]\n"
     ]
    },
    {
     "name": "stdout",
     "output_type": "stream",
     "text": [
      "Epoch 8/10: Train Loss: 0.9858, Val Loss: 2.2460, Avg Class Accuracy: 0.4447\n"
     ]
    },
    {
     "name": "stderr",
     "output_type": "stream",
     "text": [
      "Epoch 9/10 (training): 100%|██████████| 551/551 [01:08<00:00,  7.99it/s]\n",
      "Epoch 9/10 (validation): 100%|██████████| 69/69 [00:08<00:00,  7.82it/s]\n"
     ]
    },
    {
     "name": "stdout",
     "output_type": "stream",
     "text": [
      "Epoch 9/10: Train Loss: 0.8803, Val Loss: 2.2935, Avg Class Accuracy: 0.4512\n"
     ]
    },
    {
     "name": "stderr",
     "output_type": "stream",
     "text": [
      "Epoch 10/10 (training): 100%|██████████| 551/551 [01:06<00:00,  8.26it/s]\n",
      "Epoch 10/10 (validation): 100%|██████████| 69/69 [00:08<00:00,  7.88it/s]"
     ]
    },
    {
     "name": "stdout",
     "output_type": "stream",
     "text": [
      "Epoch 10/10: Train Loss: 0.8006, Val Loss: 2.3406, Avg Class Accuracy: 0.4562\n"
     ]
    },
    {
     "name": "stderr",
     "output_type": "stream",
     "text": [
      "\n"
     ]
    }
   ],
   "source": [
    "import torch.nn as nn\n",
    "\n",
    "resnet18 = torch.hub.load('pytorch/vision:v0.10.0', 'resnet18', pretrained=False)\n",
    "\n",
    "in_features = resnet18.fc.in_features\n",
    "resnet18.fc = nn.Linear(in_features, num_classes)\n",
    "\n",
    "resnet18 = resnet18.to(device)\n",
    "\n",
    "optimizer = optim.Adam(resnet18.parameters(), lr=1e-4, weight_decay=1e-5)\n",
    "\n",
    "trainer = Trainer(resnet18, train_dl, val_dl, optimizer, device=device)\n",
    "trainer.train(num_epochs=10)"
   ]
  }
 ],
 "metadata": {
  "kernelspec": {
   "display_name": ".venv",
   "language": "python",
   "name": "python3"
  },
  "language_info": {
   "codemirror_mode": {
    "name": "ipython",
    "version": 3
   },
   "file_extension": ".py",
   "mimetype": "text/x-python",
   "name": "python",
   "nbconvert_exporter": "python",
   "pygments_lexer": "ipython3",
   "version": "3.12.0"
  }
 },
 "nbformat": 4,
 "nbformat_minor": 5
}
