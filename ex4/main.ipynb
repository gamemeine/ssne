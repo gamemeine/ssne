{
 "cells": [
  {
   "cell_type": "markdown",
   "id": "7cc72ded",
   "metadata": {},
   "source": [
    "# Image classification"
   ]
  },
  {
   "cell_type": "code",
   "execution_count": 1,
   "id": "21f91952",
   "metadata": {},
   "outputs": [],
   "source": [
    "import torch\n",
    "from torch import Generator\n",
    "\n",
    "# Set the random seed for reproducibility\n",
    "random_state = 42"
   ]
  },
  {
   "cell_type": "code",
   "execution_count": 2,
   "id": "abf3d6e8",
   "metadata": {},
   "outputs": [
    {
     "name": "stdout",
     "output_type": "stream",
     "text": [
      "Using device: mps\n"
     ]
    }
   ],
   "source": [
    "device = \"cuda\" if torch.cuda.is_available() else \"mps\" if torch.backends.mps.is_available() else \"cpu\"\n",
    "print(f\"Using device: {device}\")"
   ]
  },
  {
   "cell_type": "markdown",
   "id": "8fa6528d",
   "metadata": {},
   "source": [
    "## Preprocessing"
   ]
  },
  {
   "cell_type": "code",
   "execution_count": 3,
   "id": "3e6f0be5",
   "metadata": {},
   "outputs": [
    {
     "name": "stdout",
     "output_type": "stream",
     "text": [
      "Train and validation directories already exist.\n"
     ]
    }
   ],
   "source": [
    "import os\n",
    "from data import train_val_split\n",
    "\n",
    "base_dir = './data/train'\n",
    "train_dir = './data/preprocessed/train'\n",
    "val_dir = './data/preprocessed/val'\n",
    "\n",
    "val_ratio = 0.2\n",
    "\n",
    "if not os.path.exists(train_dir) and not os.path.exists(val_dir):\n",
    "    train_val_split(base_dir, train_dir, val_dir, val_ratio, random_state) \n",
    "\n",
    "    print(\"Saved train data to:\", train_dir)\n",
    "    print(\"Saved validation data to:\", val_dir)\n",
    "else:\n",
    "    print(\"Train and validation directories already exist.\")"
   ]
  },
  {
   "cell_type": "markdown",
   "id": "a6777f43",
   "metadata": {},
   "source": [
    "## Data"
   ]
  },
  {
   "cell_type": "code",
   "execution_count": 4,
   "id": "f8f1f0a9",
   "metadata": {},
   "outputs": [
    {
     "name": "stdout",
     "output_type": "stream",
     "text": [
      "Number of training samples: 17602\n",
      "Number of validation samples: 4400\n"
     ]
    }
   ],
   "source": [
    "import torchvision.transforms as transforms\n",
    "from torchvision.datasets import ImageFolder\n",
    "from torch.utils.data import DataLoader\n",
    "from data import sample_dataset\n",
    "\n",
    "train_transform = transforms.Compose([\n",
    "    transforms.ToTensor(),\n",
    "    transforms.Normalize((0.5, 0.5, 0.5), (0.5, 0.5, 0.5))])\n",
    "\n",
    "val_transform = transforms.Compose([\n",
    "    transforms.ToTensor(),\n",
    "    transforms.Normalize((0.5, 0.5, 0.5), (0.5, 0.5, 0.5))])\n",
    "\n",
    "train_ds = ImageFolder(train_dir, transform=train_transform)\n",
    "val_ds = ImageFolder(val_dir, transform=val_transform)\n",
    "\n",
    "# downsample the dataset\n",
    "sample_ratio = 0.25\n",
    "sampled_train_ds = sample_dataset(train_ds, sample_ratio, seed=random_state)\n",
    "sampled_val_ds = sample_dataset(val_ds, sample_ratio, seed=random_state)\n",
    "\n",
    "num_classes = len(train_ds.classes)\n",
    "\n",
    "print(f\"Number of training samples: {len(sampled_train_ds)}\")\n",
    "print(f\"Number of validation samples: {len(sampled_val_ds)}\")\n",
    "\n",
    "batch_size = 256\n",
    "num_workers = 0\n",
    "\n",
    "# setup data loaders\n",
    "train_dl = DataLoader(sampled_train_ds,\n",
    "                      batch_size=batch_size,\n",
    "                      num_workers=num_workers,\n",
    "                      shuffle=True,\n",
    "                      generator=Generator().manual_seed(random_state))\n",
    "\n",
    "val_dl = DataLoader(sampled_val_ds,\n",
    "                    batch_size=batch_size,\n",
    "                    num_workers=num_workers, \n",
    "                    shuffle=False)"
   ]
  },
  {
   "cell_type": "code",
   "execution_count": 5,
   "id": "d0dedbb4",
   "metadata": {},
   "outputs": [
    {
     "name": "stdout",
     "output_type": "stream",
     "text": [
      "Sample image shape: torch.Size([3, 64, 64])\n",
      "Sample label: 0\n"
     ]
    },
    {
     "data": {
      "image/png": "[encoded data removed]",
      "text/plain": [
       "<Figure size 640x480 with 1 Axes>"
      ]
     },
     "metadata": {},
     "output_type": "display_data"
    }
   ],
   "source": [
    "from utils import show_image\n",
    "\n",
    "sample_img, sample_label = train_ds[0]\n",
    "\n",
    "print(f\"Sample image shape: {sample_img.size()}\")\n",
    "print(f\"Sample label: {sample_label}\")\n",
    "\n",
    "show_image(sample_img)"
   ]
  },
  {
   "cell_type": "markdown",
   "id": "20b3bd43",
   "metadata": {},
   "source": [
    "## Model"
   ]
  },
  {
   "cell_type": "code",
   "execution_count": 6,
   "id": "93bb43e8",
   "metadata": {},
   "outputs": [],
   "source": [
    "from models import BasicNet\n",
    "\n",
    "model = BasicNet(num_classes=num_classes)"
   ]
  },
  {
   "cell_type": "markdown",
   "id": "517c5072",
   "metadata": {},
   "source": [
    "## Training"
   ]
  },
  {
   "cell_type": "code",
   "execution_count": null,
   "id": "184c7b8d",
   "metadata": {},
   "outputs": [
    {
     "name": "stderr",
     "output_type": "stream",
     "text": [
      "Epoch 1/10 (training): 100%|██████████| 69/69 [00:12<00:00,  5.69it/s]\n",
      "Epoch 1/10 (validation): 100%|██████████| 18/18 [00:03<00:00,  5.22it/s]\n"
     ]
    },
    {
     "name": "stdout",
     "output_type": "stream",
     "text": [
      "Epoch 1/10: Train Loss: 3.5194, Val Loss: 3.2008, Avg Class Accuracy: 0.1653\n"
     ]
    },
    {
     "name": "stderr",
     "output_type": "stream",
     "text": [
      "Epoch 2/10 (training): 100%|██████████| 69/69 [00:10<00:00,  6.79it/s]\n",
      "Epoch 2/10 (validation): 100%|██████████| 18/18 [00:03<00:00,  5.31it/s]\n"
     ]
    },
    {
     "name": "stdout",
     "output_type": "stream",
     "text": [
      "Epoch 2/10: Train Loss: 3.1127, Val Loss: 2.9467, Avg Class Accuracy: 0.2196\n"
     ]
    },
    {
     "name": "stderr",
     "output_type": "stream",
     "text": [
      "Epoch 3/10 (training): 100%|██████████| 69/69 [00:10<00:00,  6.69it/s]\n",
      "Epoch 3/10 (validation): 100%|██████████| 18/18 [00:03<00:00,  5.33it/s]\n"
     ]
    },
    {
     "name": "stdout",
     "output_type": "stream",
     "text": [
      "Epoch 3/10: Train Loss: 2.8664, Val Loss: 2.7668, Avg Class Accuracy: 0.2476\n"
     ]
    },
    {
     "name": "stderr",
     "output_type": "stream",
     "text": [
      "Epoch 4/10 (training): 100%|██████████| 69/69 [00:10<00:00,  6.71it/s]\n",
      "Epoch 4/10 (validation): 100%|██████████| 18/18 [00:03<00:00,  5.16it/s]\n"
     ]
    },
    {
     "name": "stdout",
     "output_type": "stream",
     "text": [
      "Epoch 4/10: Train Loss: 2.7160, Val Loss: 2.6703, Avg Class Accuracy: 0.2718\n"
     ]
    },
    {
     "name": "stderr",
     "output_type": "stream",
     "text": [
      "Epoch 5/10 (training): 100%|██████████| 69/69 [00:09<00:00,  6.97it/s]\n",
      "Epoch 5/10 (validation): 100%|██████████| 18/18 [00:03<00:00,  5.32it/s]\n"
     ]
    },
    {
     "name": "stdout",
     "output_type": "stream",
     "text": [
      "Epoch 5/10: Train Loss: 2.5901, Val Loss: 2.9365, Avg Class Accuracy: 0.2348\n"
     ]
    },
    {
     "name": "stderr",
     "output_type": "stream",
     "text": [
      "Epoch 6/10 (training): 100%|██████████| 69/69 [00:09<00:00,  6.92it/s]\n",
      "Epoch 6/10 (validation): 100%|██████████| 18/18 [00:03<00:00,  5.24it/s]\n"
     ]
    },
    {
     "name": "stdout",
     "output_type": "stream",
     "text": [
      "Epoch 6/10: Train Loss: 2.5164, Val Loss: 2.5153, Avg Class Accuracy: 0.3054\n"
     ]
    },
    {
     "name": "stderr",
     "output_type": "stream",
     "text": [
      "Epoch 7/10 (training): 100%|██████████| 69/69 [00:09<00:00,  6.99it/s]\n",
      "Epoch 7/10 (validation): 100%|██████████| 18/18 [00:03<00:00,  5.24it/s]\n"
     ]
    },
    {
     "name": "stdout",
     "output_type": "stream",
     "text": [
      "Epoch 7/10: Train Loss: 2.4322, Val Loss: 2.3872, Avg Class Accuracy: 0.3316\n"
     ]
    },
    {
     "name": "stderr",
     "output_type": "stream",
     "text": [
      "Epoch 8/10 (training): 100%|██████████| 69/69 [00:10<00:00,  6.85it/s]\n",
      "Epoch 8/10 (validation): 100%|██████████| 18/18 [00:03<00:00,  4.85it/s]\n"
     ]
    },
    {
     "name": "stdout",
     "output_type": "stream",
     "text": [
      "Epoch 8/10: Train Loss: 2.3819, Val Loss: 2.3938, Avg Class Accuracy: 0.3334\n"
     ]
    },
    {
     "name": "stderr",
     "output_type": "stream",
     "text": [
      "Epoch 9/10 (training): 100%|██████████| 69/69 [00:10<00:00,  6.53it/s]\n",
      "Epoch 9/10 (validation): 100%|██████████| 18/18 [00:04<00:00,  4.46it/s]\n"
     ]
    },
    {
     "name": "stdout",
     "output_type": "stream",
     "text": [
      "Epoch 9/10: Train Loss: 2.2996, Val Loss: 2.3435, Avg Class Accuracy: 0.3565\n"
     ]
    },
    {
     "name": "stderr",
     "output_type": "stream",
     "text": [
      "Epoch 10/10 (training):  33%|███▎      | 23/69 [00:03<00:07,  6.24it/s]"
     ]
    }
   ],
   "source": [
    "from training import Trainer\n",
    "import torch.optim as optim\n",
    "\n",
    "optimizer = optim.Adam(model.to(device).parameters(), lr=1e-3, weight_decay=1e-5)\n",
    "\n",
    "trainer = Trainer(model, train_dl, val_dl, optimizer, device=device)\n",
    "trainer.train(num_epochs=10)"
   ]
  }
 ],
 "metadata": {
  "kernelspec": {
   "display_name": ".venv",
   "language": "python",
   "name": "python3"
  },
  "language_info": {
   "codemirror_mode": {
    "name": "ipython",
    "version": 3
   },
   "file_extension": ".py",
   "mimetype": "text/x-python",
   "name": "python",
   "nbconvert_exporter": "python",
   "pygments_lexer": "ipython3",
   "version": "3.12.0"
  }
 },
 "nbformat": 4,
 "nbformat_minor": 5
}
