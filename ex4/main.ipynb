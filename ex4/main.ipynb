{
 "cells": [
  {
   "cell_type": "markdown",
   "id": "7cc72ded",
   "metadata": {},
   "source": [
    "# Image classification"
   ]
  },
  {
   "cell_type": "code",
   "execution_count": 1,
   "id": "21f91952",
   "metadata": {},
   "outputs": [],
   "source": [
    "import torch\n",
    "from torch import Generator\n",
    "\n",
    "# Set the random seed for reproducibility\n",
    "random_state = 42"
   ]
  },
  {
   "cell_type": "code",
   "execution_count": 2,
   "id": "abf3d6e8",
   "metadata": {},
   "outputs": [
    {
     "name": "stdout",
     "output_type": "stream",
     "text": [
      "Using device: mps\n"
     ]
    }
   ],
   "source": [
    "device = \"cuda\" if torch.cuda.is_available() else \"mps\" if torch.backends.mps.is_available() else \"cpu\"\n",
    "print(f\"Using device: {device}\")"
   ]
  },
  {
   "cell_type": "markdown",
   "id": "8fa6528d",
   "metadata": {},
   "source": [
    "## Preprocessing"
   ]
  },
  {
   "cell_type": "code",
   "execution_count": 3,
   "id": "3e6f0be5",
   "metadata": {},
   "outputs": [
    {
     "name": "stdout",
     "output_type": "stream",
     "text": [
      "Train and validation directories already exist.\n"
     ]
    }
   ],
   "source": [
    "import os\n",
    "from data import train_val_split\n",
    "\n",
    "base_dir = './data/train'\n",
    "train_dir = './data/preprocessed/train'\n",
    "val_dir = './data/preprocessed/val'\n",
    "\n",
    "val_ratio = 0.2\n",
    "\n",
    "if not os.path.exists(train_dir) and not os.path.exists(val_dir):\n",
    "    train_val_split(base_dir, train_dir, val_dir, val_ratio, random_state) \n",
    "\n",
    "    print(\"Saved train data to:\", train_dir)\n",
    "    print(\"Saved validation data to:\", val_dir)\n",
    "else:\n",
    "    print(\"Train and validation directories already exist.\")"
   ]
  },
  {
   "cell_type": "markdown",
   "id": "a6777f43",
   "metadata": {},
   "source": [
    "## Data"
   ]
  },
  {
   "cell_type": "markdown",
   "id": "833482c0",
   "metadata": {},
   "source": [
    "### Augmentation"
   ]
  },
  {
   "cell_type": "code",
   "execution_count": 4,
   "id": "5abda140",
   "metadata": {},
   "outputs": [],
   "source": [
    "import torchvision.transforms as transforms\n",
    "\n",
    "mean_tensor = torch.tensor([0.5, 0.5, 0.5])\n",
    "std_tensor = torch.tensor([0.5, 0.5, 0.5])\n",
    "\n",
    "# mean_tensor = torch.tensor([0.5209, 0.4955, 0.4384])\n",
    "# std_tensor = torch.tensor([0.2111, 0.2103, 0.2101])\n",
    "\n",
    "default_transform = transforms.Compose([\n",
    "    transforms.ToTensor(),\n",
    "    transforms.Normalize(mean_tensor, std_tensor)\n",
    "])\n",
    "\n",
    "augmented_transform = transforms.Compose([\n",
    "    transforms.RandomCrop(64, padding=4),\n",
    "    transforms.RandomHorizontalFlip(),\n",
    "    transforms.RandomAffine(degrees=10, translate=(0.05, 0.05), scale=(0.95, 1.05)),\n",
    "    transforms.ColorJitter(brightness=0.2, contrast=0.2, saturation=0.2, hue=0.1),\n",
    "    transforms.ToTensor(),\n",
    "    transforms.Normalize(mean_tensor, std_tensor)\n",
    "])"
   ]
  },
  {
   "cell_type": "markdown",
   "id": "47c2c647",
   "metadata": {},
   "source": [
    "### Datasets and sampling"
   ]
  },
  {
   "cell_type": "code",
   "execution_count": 5,
   "id": "f8f1f0a9",
   "metadata": {},
   "outputs": [
    {
     "name": "stdout",
     "output_type": "stream",
     "text": [
      "Number of training samples: 140818\n",
      "Number of validation samples: 17602\n"
     ]
    }
   ],
   "source": [
    "from torchvision.datasets import ImageFolder\n",
    "from torch.utils.data import DataLoader, ConcatDataset\n",
    "from data import sample_dataset\n",
    "\n",
    "train_default_ds = ImageFolder(train_dir, transform=default_transform)\n",
    "train_augmented_ds = ImageFolder(train_dir, transform=augmented_transform)\n",
    "train_ds = ConcatDataset([train_default_ds, train_augmented_ds])\n",
    "\n",
    "val_ds = ImageFolder(val_dir, transform=default_transform)\n",
    "\n",
    "# downsample the dataset\n",
    "sample_ratio = 1\n",
    "sampled_train_ds = sample_dataset(train_ds, sample_ratio, seed=random_state)\n",
    "sampled_val_ds = sample_dataset(val_ds, sample_ratio, seed=random_state)\n",
    "\n",
    "num_classes = len(train_default_ds.classes)\n",
    "\n",
    "print(f\"Number of training samples: {len(sampled_train_ds)}\")\n",
    "print(f\"Number of validation samples: {len(sampled_val_ds)}\")"
   ]
  },
  {
   "cell_type": "code",
   "execution_count": 6,
   "id": "d1fab604",
   "metadata": {},
   "outputs": [],
   "source": [
    "# from plots import plot_class_distribution\n",
    "\n",
    "# plot_class_distribution(sampled_train_ds)"
   ]
  },
  {
   "cell_type": "markdown",
   "id": "9af49b73",
   "metadata": {},
   "source": [
    "### Data loaders"
   ]
  },
  {
   "cell_type": "code",
   "execution_count": 7,
   "id": "96654c04",
   "metadata": {},
   "outputs": [],
   "source": [
    "batch_size = 256\n",
    "num_workers = 0\n",
    "\n",
    "# setup data loaders\n",
    "train_dl = DataLoader(sampled_train_ds,\n",
    "                      batch_size=batch_size,\n",
    "                      num_workers=num_workers,\n",
    "                      shuffle=True,\n",
    "                      generator=Generator().manual_seed(random_state))\n",
    "\n",
    "val_dl = DataLoader(sampled_val_ds,\n",
    "                    batch_size=batch_size,\n",
    "                    num_workers=num_workers,\n",
    "                    shuffle=False)"
   ]
  },
  {
   "cell_type": "markdown",
   "id": "54161cc6",
   "metadata": {},
   "source": [
    "### Example"
   ]
  },
  {
   "cell_type": "code",
   "execution_count": 8,
   "id": "d0dedbb4",
   "metadata": {},
   "outputs": [
    {
     "name": "stdout",
     "output_type": "stream",
     "text": [
      "Sample image shape: torch.Size([3, 64, 64])\n",
      "Sample label: 0\n"
     ]
    },
    {
     "data": {
      "image/png": "[encoded data removed]",
      "text/plain": [
       "<Figure size 640x480 with 1 Axes>"
      ]
     },
     "metadata": {},
     "output_type": "display_data"
    }
   ],
   "source": [
    "from utils import show_image\n",
    "\n",
    "sample_img, sample_label = train_ds[0]\n",
    "\n",
    "print(f\"Sample image shape: {sample_img.size()}\")\n",
    "print(f\"Sample label: {sample_label}\")\n",
    "\n",
    "show_image(sample_img)"
   ]
  },
  {
   "cell_type": "markdown",
   "id": "517c5072",
   "metadata": {},
   "source": [
    "## Training"
   ]
  },
  {
   "cell_type": "code",
   "execution_count": 9,
   "id": "8d21d357",
   "metadata": {},
   "outputs": [],
   "source": [
    "from training import Trainer\n",
    "import torch.optim as optim"
   ]
  },
  {
   "cell_type": "markdown",
   "id": "465789b2",
   "metadata": {},
   "source": [
    "### BasicModel"
   ]
  },
  {
   "cell_type": "code",
   "execution_count": 10,
   "id": "184c7b8d",
   "metadata": {},
   "outputs": [
    {
     "name": "stderr",
     "output_type": "stream",
     "text": [
      "Epoch 1/20 (training): 100%|██████████| 28/28 [00:13<00:00,  2.03it/s]\n",
      "Epoch 1/20 (validation): 100%|██████████| 4/4 [00:01<00:00,  2.55it/s]\n"
     ]
    },
    {
     "name": "stdout",
     "output_type": "stream",
     "text": [
      "Epoch 1/20: Train Loss: 3.8354, Val Loss: 3.6940, Avg Class Accuracy: 0.0769\n"
     ]
    },
    {
     "name": "stderr",
     "output_type": "stream",
     "text": [
      "Epoch 2/20 (training): 100%|██████████| 28/28 [00:13<00:00,  2.10it/s]\n",
      "Epoch 2/20 (validation): 100%|██████████| 4/4 [00:01<00:00,  2.71it/s]\n"
     ]
    },
    {
     "name": "stdout",
     "output_type": "stream",
     "text": [
      "Epoch 2/20: Train Loss: 3.5811, Val Loss: 3.3599, Avg Class Accuracy: 0.1300\n"
     ]
    },
    {
     "name": "stderr",
     "output_type": "stream",
     "text": [
      "Epoch 3/20 (training): 100%|██████████| 28/28 [00:12<00:00,  2.21it/s]\n",
      "Epoch 3/20 (validation): 100%|██████████| 4/4 [00:01<00:00,  2.85it/s]\n"
     ]
    },
    {
     "name": "stdout",
     "output_type": "stream",
     "text": [
      "Epoch 3/20: Train Loss: 3.4320, Val Loss: 3.2043, Avg Class Accuracy: 0.1515\n"
     ]
    },
    {
     "name": "stderr",
     "output_type": "stream",
     "text": [
      "Epoch 4/20 (training): 100%|██████████| 28/28 [00:11<00:00,  2.35it/s]\n",
      "Epoch 4/20 (validation): 100%|██████████| 4/4 [00:01<00:00,  2.78it/s]\n"
     ]
    },
    {
     "name": "stdout",
     "output_type": "stream",
     "text": [
      "Epoch 4/20: Train Loss: 3.3193, Val Loss: 3.1242, Avg Class Accuracy: 0.1950\n"
     ]
    },
    {
     "name": "stderr",
     "output_type": "stream",
     "text": [
      "Epoch 5/20 (training): 100%|██████████| 28/28 [00:12<00:00,  2.21it/s]\n",
      "Epoch 5/20 (validation): 100%|██████████| 4/4 [00:01<00:00,  2.68it/s]\n"
     ]
    },
    {
     "name": "stdout",
     "output_type": "stream",
     "text": [
      "Epoch 5/20: Train Loss: 3.2187, Val Loss: 3.0076, Avg Class Accuracy: 0.2057\n"
     ]
    },
    {
     "name": "stderr",
     "output_type": "stream",
     "text": [
      "Epoch 6/20 (training): 100%|██████████| 28/28 [00:12<00:00,  2.24it/s]\n",
      "Epoch 6/20 (validation): 100%|██████████| 4/4 [00:01<00:00,  2.77it/s]\n"
     ]
    },
    {
     "name": "stdout",
     "output_type": "stream",
     "text": [
      "Epoch 6/20: Train Loss: 3.1299, Val Loss: 2.8990, Avg Class Accuracy: 0.2498\n"
     ]
    },
    {
     "name": "stderr",
     "output_type": "stream",
     "text": [
      "Epoch 7/20 (training): 100%|██████████| 28/28 [00:12<00:00,  2.29it/s]\n",
      "Epoch 7/20 (validation): 100%|██████████| 4/4 [00:01<00:00,  2.87it/s]\n"
     ]
    },
    {
     "name": "stdout",
     "output_type": "stream",
     "text": [
      "Epoch 7/20: Train Loss: 3.0629, Val Loss: 2.8780, Avg Class Accuracy: 0.2563\n"
     ]
    },
    {
     "name": "stderr",
     "output_type": "stream",
     "text": [
      "Epoch 8/20 (training): 100%|██████████| 28/28 [00:12<00:00,  2.19it/s]\n",
      "Epoch 8/20 (validation): 100%|██████████| 4/4 [00:01<00:00,  2.55it/s]\n"
     ]
    },
    {
     "name": "stdout",
     "output_type": "stream",
     "text": [
      "Epoch 8/20: Train Loss: 2.9860, Val Loss: 2.8073, Avg Class Accuracy: 0.2691\n"
     ]
    },
    {
     "name": "stderr",
     "output_type": "stream",
     "text": [
      "Epoch 9/20 (training): 100%|██████████| 28/28 [00:12<00:00,  2.22it/s]\n",
      "Epoch 9/20 (validation): 100%|██████████| 4/4 [00:01<00:00,  2.48it/s]\n"
     ]
    },
    {
     "name": "stdout",
     "output_type": "stream",
     "text": [
      "Epoch 9/20: Train Loss: 2.9233, Val Loss: 2.7752, Avg Class Accuracy: 0.2676\n"
     ]
    },
    {
     "name": "stderr",
     "output_type": "stream",
     "text": [
      "Epoch 10/20 (training): 100%|██████████| 28/28 [00:11<00:00,  2.52it/s]\n",
      "Epoch 10/20 (validation): 100%|██████████| 4/4 [00:01<00:00,  2.81it/s]\n"
     ]
    },
    {
     "name": "stdout",
     "output_type": "stream",
     "text": [
      "Epoch 10/20: Train Loss: 2.8682, Val Loss: 2.7093, Avg Class Accuracy: 0.2840\n"
     ]
    },
    {
     "name": "stderr",
     "output_type": "stream",
     "text": [
      "Epoch 11/20 (training): 100%|██████████| 28/28 [00:10<00:00,  2.60it/s]\n",
      "Epoch 11/20 (validation): 100%|██████████| 4/4 [00:01<00:00,  2.69it/s]\n"
     ]
    },
    {
     "name": "stdout",
     "output_type": "stream",
     "text": [
      "Epoch 11/20: Train Loss: 2.8165, Val Loss: 2.6399, Avg Class Accuracy: 0.2865\n"
     ]
    },
    {
     "name": "stderr",
     "output_type": "stream",
     "text": [
      "Epoch 12/20 (training): 100%|██████████| 28/28 [00:11<00:00,  2.35it/s]\n",
      "Epoch 12/20 (validation): 100%|██████████| 4/4 [00:01<00:00,  2.48it/s]\n"
     ]
    },
    {
     "name": "stdout",
     "output_type": "stream",
     "text": [
      "Epoch 12/20: Train Loss: 2.7481, Val Loss: 2.5963, Avg Class Accuracy: 0.2978\n"
     ]
    },
    {
     "name": "stderr",
     "output_type": "stream",
     "text": [
      "Epoch 13/20 (training): 100%|██████████| 28/28 [00:12<00:00,  2.22it/s]\n",
      "Epoch 13/20 (validation): 100%|██████████| 4/4 [00:01<00:00,  2.26it/s]\n"
     ]
    },
    {
     "name": "stdout",
     "output_type": "stream",
     "text": [
      "Epoch 13/20: Train Loss: 2.6967, Val Loss: 2.5657, Avg Class Accuracy: 0.3158\n"
     ]
    },
    {
     "name": "stderr",
     "output_type": "stream",
     "text": [
      "Epoch 14/20 (training): 100%|██████████| 28/28 [00:11<00:00,  2.43it/s]\n",
      "Epoch 14/20 (validation): 100%|██████████| 4/4 [00:01<00:00,  2.63it/s]\n"
     ]
    },
    {
     "name": "stdout",
     "output_type": "stream",
     "text": [
      "Epoch 14/20: Train Loss: 2.6512, Val Loss: 2.5418, Avg Class Accuracy: 0.3106\n"
     ]
    },
    {
     "name": "stderr",
     "output_type": "stream",
     "text": [
      "Epoch 15/20 (training): 100%|██████████| 28/28 [00:11<00:00,  2.37it/s]\n",
      "Epoch 15/20 (validation): 100%|██████████| 4/4 [00:01<00:00,  2.74it/s]\n"
     ]
    },
    {
     "name": "stdout",
     "output_type": "stream",
     "text": [
      "Epoch 15/20: Train Loss: 2.6086, Val Loss: 2.4970, Avg Class Accuracy: 0.3209\n"
     ]
    },
    {
     "name": "stderr",
     "output_type": "stream",
     "text": [
      "Epoch 16/20 (training): 100%|██████████| 28/28 [00:11<00:00,  2.42it/s]\n",
      "Epoch 16/20 (validation): 100%|██████████| 4/4 [00:01<00:00,  3.23it/s]\n"
     ]
    },
    {
     "name": "stdout",
     "output_type": "stream",
     "text": [
      "Epoch 16/20: Train Loss: 2.5816, Val Loss: 2.4758, Avg Class Accuracy: 0.3291\n"
     ]
    },
    {
     "name": "stderr",
     "output_type": "stream",
     "text": [
      "Epoch 17/20 (training): 100%|██████████| 28/28 [00:10<00:00,  2.55it/s]\n",
      "Epoch 17/20 (validation): 100%|██████████| 4/4 [00:01<00:00,  2.85it/s]\n"
     ]
    },
    {
     "name": "stdout",
     "output_type": "stream",
     "text": [
      "Epoch 17/20: Train Loss: 2.5344, Val Loss: 2.4542, Avg Class Accuracy: 0.3409\n"
     ]
    },
    {
     "name": "stderr",
     "output_type": "stream",
     "text": [
      "Epoch 18/20 (training): 100%|██████████| 28/28 [00:11<00:00,  2.38it/s]\n",
      "Epoch 18/20 (validation): 100%|██████████| 4/4 [00:01<00:00,  2.65it/s]\n"
     ]
    },
    {
     "name": "stdout",
     "output_type": "stream",
     "text": [
      "Epoch 18/20: Train Loss: 2.5081, Val Loss: 2.4027, Avg Class Accuracy: 0.3378\n"
     ]
    },
    {
     "name": "stderr",
     "output_type": "stream",
     "text": [
      "Epoch 19/20 (training): 100%|██████████| 28/28 [00:11<00:00,  2.37it/s]\n",
      "Epoch 19/20 (validation): 100%|██████████| 4/4 [00:01<00:00,  2.82it/s]\n"
     ]
    },
    {
     "name": "stdout",
     "output_type": "stream",
     "text": [
      "Epoch 19/20: Train Loss: 2.4579, Val Loss: 2.3929, Avg Class Accuracy: 0.3376\n"
     ]
    },
    {
     "name": "stderr",
     "output_type": "stream",
     "text": [
      "Epoch 20/20 (training): 100%|██████████| 28/28 [00:12<00:00,  2.22it/s]\n",
      "Epoch 20/20 (validation): 100%|██████████| 4/4 [00:01<00:00,  2.44it/s]"
     ]
    },
    {
     "name": "stdout",
     "output_type": "stream",
     "text": [
      "Epoch 20/20: Train Loss: 2.4334, Val Loss: 2.3557, Avg Class Accuracy: 0.3519\n"
     ]
    },
    {
     "name": "stderr",
     "output_type": "stream",
     "text": [
      "\n"
     ]
    }
   ],
   "source": [
    "from models import BasicNet\n",
    "\n",
    "basicNet = BasicNet(num_classes=num_classes)\n",
    "\n",
    "optimizer = optim.AdamW(basicNet.to(device).parameters(), lr=1e-4, weight_decay=1e-5)\n",
    "\n",
    "trainer = Trainer(basicNet, train_dl, val_dl, optimizer, device=device)\n",
    "trainer.train(num_epochs=20)"
   ]
  },
  {
   "cell_type": "markdown",
   "id": "dd097198",
   "metadata": {},
   "source": [
    "### Basic ResNet"
   ]
  },
  {
   "cell_type": "code",
   "execution_count": null,
   "id": "a0a153d6",
   "metadata": {},
   "outputs": [
    {
     "name": "stderr",
     "output_type": "stream",
     "text": [
      "Epoch 1/50 (training): 100%|██████████| 551/551 [03:35<00:00,  2.56it/s]\n",
      "Epoch 1/50 (validation): 100%|██████████| 69/69 [00:18<00:00,  3.78it/s]\n"
     ]
    },
    {
     "name": "stdout",
     "output_type": "stream",
     "text": [
      "Epoch 1/50: Train Loss: 2.8239, Val Loss: 2.4377, Avg Class Accuracy: 0.3323\n"
     ]
    },
    {
     "name": "stderr",
     "output_type": "stream",
     "text": [
      "Epoch 2/50 (training): 100%|██████████| 551/551 [03:26<00:00,  2.66it/s]\n",
      "Epoch 2/50 (validation): 100%|██████████| 69/69 [00:18<00:00,  3.75it/s]\n"
     ]
    },
    {
     "name": "stdout",
     "output_type": "stream",
     "text": [
      "Epoch 2/50: Train Loss: 2.2333, Val Loss: 2.2033, Avg Class Accuracy: 0.4042\n"
     ]
    },
    {
     "name": "stderr",
     "output_type": "stream",
     "text": [
      "Epoch 3/50 (training): 100%|██████████| 551/551 [03:28<00:00,  2.64it/s]\n",
      "Epoch 3/50 (validation): 100%|██████████| 69/69 [00:18<00:00,  3.73it/s]\n"
     ]
    },
    {
     "name": "stdout",
     "output_type": "stream",
     "text": [
      "Epoch 3/50: Train Loss: 1.9612, Val Loss: 1.9874, Avg Class Accuracy: 0.4531\n"
     ]
    },
    {
     "name": "stderr",
     "output_type": "stream",
     "text": [
      "Epoch 4/50 (training): 100%|██████████| 551/551 [03:30<00:00,  2.62it/s]\n",
      "Epoch 4/50 (validation): 100%|██████████| 69/69 [00:18<00:00,  3.68it/s]\n"
     ]
    },
    {
     "name": "stdout",
     "output_type": "stream",
     "text": [
      "Epoch 4/50: Train Loss: 1.7686, Val Loss: 1.7886, Avg Class Accuracy: 0.5068\n"
     ]
    },
    {
     "name": "stderr",
     "output_type": "stream",
     "text": [
      "Epoch 5/50 (training): 100%|██████████| 551/551 [03:31<00:00,  2.61it/s]\n",
      "Epoch 5/50 (validation): 100%|██████████| 69/69 [00:18<00:00,  3.65it/s]\n"
     ]
    },
    {
     "name": "stdout",
     "output_type": "stream",
     "text": [
      "Epoch 5/50: Train Loss: 1.6128, Val Loss: 1.7283, Avg Class Accuracy: 0.5146\n"
     ]
    },
    {
     "name": "stderr",
     "output_type": "stream",
     "text": [
      "Epoch 6/50 (training): 100%|██████████| 551/551 [03:25<00:00,  2.68it/s]\n",
      "Epoch 6/50 (validation): 100%|██████████| 69/69 [00:18<00:00,  3.68it/s]\n"
     ]
    },
    {
     "name": "stdout",
     "output_type": "stream",
     "text": [
      "Epoch 6/50: Train Loss: 1.4916, Val Loss: 1.5974, Avg Class Accuracy: 0.5515\n"
     ]
    },
    {
     "name": "stderr",
     "output_type": "stream",
     "text": [
      "Epoch 7/50 (training): 100%|██████████| 551/551 [03:23<00:00,  2.70it/s]\n",
      "Epoch 7/50 (validation): 100%|██████████| 69/69 [00:18<00:00,  3.68it/s]\n"
     ]
    },
    {
     "name": "stdout",
     "output_type": "stream",
     "text": [
      "Epoch 7/50: Train Loss: 1.3862, Val Loss: 1.5549, Avg Class Accuracy: 0.5608\n"
     ]
    },
    {
     "name": "stderr",
     "output_type": "stream",
     "text": [
      "Epoch 8/50 (training): 100%|██████████| 551/551 [03:24<00:00,  2.70it/s]\n",
      "Epoch 8/50 (validation): 100%|██████████| 69/69 [00:18<00:00,  3.73it/s]\n"
     ]
    },
    {
     "name": "stdout",
     "output_type": "stream",
     "text": [
      "Epoch 8/50: Train Loss: 1.2940, Val Loss: 1.5526, Avg Class Accuracy: 0.5663\n"
     ]
    },
    {
     "name": "stderr",
     "output_type": "stream",
     "text": [
      "Epoch 9/50 (training): 100%|██████████| 551/551 [03:25<00:00,  2.69it/s]\n",
      "Epoch 9/50 (validation): 100%|██████████| 69/69 [00:20<00:00,  3.36it/s]\n"
     ]
    },
    {
     "name": "stdout",
     "output_type": "stream",
     "text": [
      "Epoch 9/50: Train Loss: 1.2144, Val Loss: 1.5295, Avg Class Accuracy: 0.5766\n"
     ]
    },
    {
     "name": "stderr",
     "output_type": "stream",
     "text": [
      "Epoch 10/50 (training): 100%|██████████| 551/551 [03:32<00:00,  2.59it/s]\n",
      "Epoch 10/50 (validation): 100%|██████████| 69/69 [00:19<00:00,  3.45it/s]\n"
     ]
    },
    {
     "name": "stdout",
     "output_type": "stream",
     "text": [
      "Epoch 10/50: Train Loss: 1.1474, Val Loss: 1.4671, Avg Class Accuracy: 0.5932\n"
     ]
    },
    {
     "name": "stderr",
     "output_type": "stream",
     "text": [
      "Epoch 11/50 (training): 100%|██████████| 551/551 [03:33<00:00,  2.58it/s]\n",
      "Epoch 11/50 (validation): 100%|██████████| 69/69 [00:19<00:00,  3.52it/s]\n"
     ]
    },
    {
     "name": "stdout",
     "output_type": "stream",
     "text": [
      "Epoch 11/50: Train Loss: 1.0796, Val Loss: 1.5496, Avg Class Accuracy: 0.5773\n"
     ]
    },
    {
     "name": "stderr",
     "output_type": "stream",
     "text": [
      "Epoch 12/50 (training): 100%|██████████| 551/551 [03:30<00:00,  2.61it/s]\n",
      "Epoch 12/50 (validation): 100%|██████████| 69/69 [00:18<00:00,  3.71it/s]\n"
     ]
    },
    {
     "name": "stdout",
     "output_type": "stream",
     "text": [
      "Epoch 12/50: Train Loss: 1.0202, Val Loss: 1.4111, Avg Class Accuracy: 0.6100\n"
     ]
    },
    {
     "name": "stderr",
     "output_type": "stream",
     "text": [
      "Epoch 13/50 (training): 100%|██████████| 551/551 [03:16<00:00,  2.81it/s]\n",
      "Epoch 13/50 (validation): 100%|██████████| 69/69 [00:18<00:00,  3.69it/s]\n"
     ]
    },
    {
     "name": "stdout",
     "output_type": "stream",
     "text": [
      "Epoch 13/50: Train Loss: 0.9655, Val Loss: 1.5639, Avg Class Accuracy: 0.5865\n"
     ]
    },
    {
     "name": "stderr",
     "output_type": "stream",
     "text": [
      "Epoch 14/50 (training): 100%|██████████| 551/551 [03:15<00:00,  2.82it/s]\n",
      "Epoch 14/50 (validation): 100%|██████████| 69/69 [00:18<00:00,  3.74it/s]\n"
     ]
    },
    {
     "name": "stdout",
     "output_type": "stream",
     "text": [
      "Epoch 14/50: Train Loss: 0.9126, Val Loss: 1.4164, Avg Class Accuracy: 0.6180\n"
     ]
    },
    {
     "name": "stderr",
     "output_type": "stream",
     "text": [
      "Epoch 15/50 (training): 100%|██████████| 551/551 [03:18<00:00,  2.77it/s]\n",
      "Epoch 15/50 (validation): 100%|██████████| 69/69 [00:18<00:00,  3.75it/s]\n"
     ]
    },
    {
     "name": "stdout",
     "output_type": "stream",
     "text": [
      "Epoch 15/50: Train Loss: 0.8664, Val Loss: 1.4535, Avg Class Accuracy: 0.6087\n"
     ]
    },
    {
     "name": "stderr",
     "output_type": "stream",
     "text": [
      "Epoch 16/50 (training): 100%|██████████| 551/551 [03:27<00:00,  2.65it/s]\n",
      "Epoch 16/50 (validation): 100%|██████████| 69/69 [00:18<00:00,  3.72it/s]\n"
     ]
    },
    {
     "name": "stdout",
     "output_type": "stream",
     "text": [
      "Epoch 16/50: Train Loss: 0.8228, Val Loss: 1.4319, Avg Class Accuracy: 0.6168\n"
     ]
    },
    {
     "name": "stderr",
     "output_type": "stream",
     "text": [
      "Epoch 17/50 (training): 100%|██████████| 551/551 [03:28<00:00,  2.64it/s]\n",
      "Epoch 17/50 (validation): 100%|██████████| 69/69 [00:18<00:00,  3.67it/s]\n"
     ]
    },
    {
     "name": "stdout",
     "output_type": "stream",
     "text": [
      "Epoch 17/50: Train Loss: 0.7864, Val Loss: 1.5126, Avg Class Accuracy: 0.6043\n"
     ]
    },
    {
     "name": "stderr",
     "output_type": "stream",
     "text": [
      "Epoch 18/50 (training): 100%|██████████| 551/551 [03:26<00:00,  2.67it/s]\n",
      "Epoch 18/50 (validation): 100%|██████████| 69/69 [00:18<00:00,  3.69it/s]\n"
     ]
    },
    {
     "name": "stdout",
     "output_type": "stream",
     "text": [
      "Epoch 18/50: Train Loss: 0.7429, Val Loss: 1.3737, Avg Class Accuracy: 0.6274\n"
     ]
    },
    {
     "name": "stderr",
     "output_type": "stream",
     "text": [
      "Epoch 19/50 (training): 100%|██████████| 551/551 [03:24<00:00,  2.69it/s]\n",
      "Epoch 19/50 (validation): 100%|██████████| 69/69 [00:18<00:00,  3.73it/s]\n"
     ]
    },
    {
     "name": "stdout",
     "output_type": "stream",
     "text": [
      "Epoch 19/50: Train Loss: 0.7041, Val Loss: 1.4430, Avg Class Accuracy: 0.6181\n"
     ]
    },
    {
     "name": "stderr",
     "output_type": "stream",
     "text": [
      "Epoch 20/50 (training): 100%|██████████| 551/551 [03:27<00:00,  2.65it/s]\n",
      "Epoch 20/50 (validation): 100%|██████████| 69/69 [00:18<00:00,  3.69it/s]\n"
     ]
    },
    {
     "name": "stdout",
     "output_type": "stream",
     "text": [
      "Epoch 20/50: Train Loss: 0.6761, Val Loss: 1.4727, Avg Class Accuracy: 0.6206\n"
     ]
    },
    {
     "name": "stderr",
     "output_type": "stream",
     "text": [
      "Epoch 21/50 (training): 100%|██████████| 551/551 [03:23<00:00,  2.71it/s]\n",
      "Epoch 21/50 (validation): 100%|██████████| 69/69 [00:18<00:00,  3.72it/s]\n"
     ]
    },
    {
     "name": "stdout",
     "output_type": "stream",
     "text": [
      "Epoch 21/50: Train Loss: 0.6541, Val Loss: 1.4759, Avg Class Accuracy: 0.6231\n"
     ]
    },
    {
     "name": "stderr",
     "output_type": "stream",
     "text": [
      "Epoch 22/50 (training): 100%|██████████| 551/551 [03:22<00:00,  2.72it/s]\n",
      "Epoch 22/50 (validation): 100%|██████████| 69/69 [00:18<00:00,  3.77it/s]\n"
     ]
    },
    {
     "name": "stdout",
     "output_type": "stream",
     "text": [
      "Epoch 22/50: Train Loss: 0.6196, Val Loss: 1.5446, Avg Class Accuracy: 0.6250\n"
     ]
    },
    {
     "name": "stderr",
     "output_type": "stream",
     "text": [
      "Epoch 23/50 (training): 100%|██████████| 551/551 [03:21<00:00,  2.73it/s]\n",
      "Epoch 23/50 (validation): 100%|██████████| 69/69 [00:18<00:00,  3.78it/s]\n"
     ]
    },
    {
     "name": "stdout",
     "output_type": "stream",
     "text": [
      "Epoch 23/50: Train Loss: 0.5927, Val Loss: 1.4938, Avg Class Accuracy: 0.6322\n"
     ]
    },
    {
     "name": "stderr",
     "output_type": "stream",
     "text": [
      "Epoch 24/50 (training): 100%|██████████| 551/551 [03:24<00:00,  2.70it/s]\n",
      "Epoch 24/50 (validation): 100%|██████████| 69/69 [00:18<00:00,  3.77it/s]\n"
     ]
    },
    {
     "name": "stdout",
     "output_type": "stream",
     "text": [
      "Epoch 24/50: Train Loss: 0.5705, Val Loss: 1.4914, Avg Class Accuracy: 0.6292\n"
     ]
    },
    {
     "name": "stderr",
     "output_type": "stream",
     "text": [
      "Epoch 25/50 (training): 100%|██████████| 551/551 [03:23<00:00,  2.70it/s]\n",
      "Epoch 25/50 (validation): 100%|██████████| 69/69 [00:18<00:00,  3.77it/s]\n"
     ]
    },
    {
     "name": "stdout",
     "output_type": "stream",
     "text": [
      "Epoch 25/50: Train Loss: 0.5483, Val Loss: 1.4775, Avg Class Accuracy: 0.6349\n"
     ]
    },
    {
     "name": "stderr",
     "output_type": "stream",
     "text": [
      "Epoch 26/50 (training): 100%|██████████| 551/551 [03:23<00:00,  2.71it/s]\n",
      "Epoch 26/50 (validation): 100%|██████████| 69/69 [00:18<00:00,  3.75it/s]\n"
     ]
    },
    {
     "name": "stdout",
     "output_type": "stream",
     "text": [
      "Epoch 26/50: Train Loss: 0.5313, Val Loss: 1.5059, Avg Class Accuracy: 0.6340\n"
     ]
    },
    {
     "name": "stderr",
     "output_type": "stream",
     "text": [
      "Epoch 27/50 (training): 100%|██████████| 551/551 [03:25<00:00,  2.68it/s]\n",
      "Epoch 27/50 (validation): 100%|██████████| 69/69 [00:18<00:00,  3.66it/s]\n"
     ]
    },
    {
     "name": "stdout",
     "output_type": "stream",
     "text": [
      "Epoch 27/50: Train Loss: 0.5126, Val Loss: 1.4565, Avg Class Accuracy: 0.6397\n"
     ]
    },
    {
     "name": "stderr",
     "output_type": "stream",
     "text": [
      "Epoch 28/50 (training): 100%|██████████| 551/551 [03:25<00:00,  2.68it/s]\n",
      "Epoch 28/50 (validation): 100%|██████████| 69/69 [00:18<00:00,  3.65it/s]\n"
     ]
    },
    {
     "name": "stdout",
     "output_type": "stream",
     "text": [
      "Epoch 28/50: Train Loss: 0.4967, Val Loss: 1.4610, Avg Class Accuracy: 0.6385\n"
     ]
    },
    {
     "name": "stderr",
     "output_type": "stream",
     "text": [
      "Epoch 29/50 (training): 100%|██████████| 551/551 [03:31<00:00,  2.61it/s]\n",
      "Epoch 29/50 (validation): 100%|██████████| 69/69 [00:18<00:00,  3.75it/s]\n"
     ]
    },
    {
     "name": "stdout",
     "output_type": "stream",
     "text": [
      "Epoch 29/50: Train Loss: 0.4802, Val Loss: 1.4760, Avg Class Accuracy: 0.6409\n"
     ]
    },
    {
     "name": "stderr",
     "output_type": "stream",
     "text": [
      "Epoch 30/50 (training): 100%|██████████| 551/551 [03:27<00:00,  2.66it/s]\n",
      "Epoch 30/50 (validation): 100%|██████████| 69/69 [00:18<00:00,  3.76it/s]\n"
     ]
    },
    {
     "name": "stdout",
     "output_type": "stream",
     "text": [
      "Epoch 30/50: Train Loss: 0.4643, Val Loss: 1.4632, Avg Class Accuracy: 0.6415\n"
     ]
    },
    {
     "name": "stderr",
     "output_type": "stream",
     "text": [
      "Epoch 31/50 (training): 100%|██████████| 551/551 [03:29<00:00,  2.64it/s]\n",
      "Epoch 31/50 (validation): 100%|██████████| 69/69 [00:18<00:00,  3.72it/s]\n"
     ]
    },
    {
     "name": "stdout",
     "output_type": "stream",
     "text": [
      "Epoch 31/50: Train Loss: 0.4568, Val Loss: 1.4802, Avg Class Accuracy: 0.6439\n"
     ]
    },
    {
     "name": "stderr",
     "output_type": "stream",
     "text": [
      "Epoch 32/50 (training): 100%|██████████| 551/551 [03:24<00:00,  2.70it/s]\n",
      "Epoch 32/50 (validation): 100%|██████████| 69/69 [00:18<00:00,  3.67it/s]\n"
     ]
    },
    {
     "name": "stdout",
     "output_type": "stream",
     "text": [
      "Epoch 32/50: Train Loss: 0.4381, Val Loss: 1.5263, Avg Class Accuracy: 0.6407\n"
     ]
    },
    {
     "name": "stderr",
     "output_type": "stream",
     "text": [
      "Epoch 33/50 (training): 100%|██████████| 551/551 [03:24<00:00,  2.69it/s]\n",
      "Epoch 33/50 (validation): 100%|██████████| 69/69 [00:18<00:00,  3.75it/s]\n"
     ]
    },
    {
     "name": "stdout",
     "output_type": "stream",
     "text": [
      "Epoch 33/50: Train Loss: 0.4255, Val Loss: 1.4726, Avg Class Accuracy: 0.6472\n"
     ]
    },
    {
     "name": "stderr",
     "output_type": "stream",
     "text": [
      "Epoch 34/50 (training): 100%|██████████| 551/551 [03:19<00:00,  2.76it/s]\n",
      "Epoch 34/50 (validation): 100%|██████████| 69/69 [00:18<00:00,  3.67it/s]\n"
     ]
    },
    {
     "name": "stdout",
     "output_type": "stream",
     "text": [
      "Epoch 34/50: Train Loss: 0.4128, Val Loss: 1.5213, Avg Class Accuracy: 0.6498\n"
     ]
    },
    {
     "name": "stderr",
     "output_type": "stream",
     "text": [
      "Epoch 35/50 (training): 100%|██████████| 551/551 [03:18<00:00,  2.77it/s]\n",
      "Epoch 35/50 (validation): 100%|██████████| 69/69 [00:18<00:00,  3.65it/s]\n"
     ]
    },
    {
     "name": "stdout",
     "output_type": "stream",
     "text": [
      "Epoch 35/50: Train Loss: 0.3994, Val Loss: 1.5918, Avg Class Accuracy: 0.6447\n"
     ]
    },
    {
     "name": "stderr",
     "output_type": "stream",
     "text": [
      "Epoch 36/50 (training): 100%|██████████| 551/551 [03:16<00:00,  2.81it/s]\n",
      "Epoch 36/50 (validation): 100%|██████████| 69/69 [00:18<00:00,  3.68it/s]\n"
     ]
    },
    {
     "name": "stdout",
     "output_type": "stream",
     "text": [
      "Epoch 36/50: Train Loss: 0.3923, Val Loss: 1.5485, Avg Class Accuracy: 0.6440\n"
     ]
    },
    {
     "name": "stderr",
     "output_type": "stream",
     "text": [
      "Epoch 37/50 (training): 100%|██████████| 551/551 [03:13<00:00,  2.84it/s]\n",
      "Epoch 37/50 (validation): 100%|██████████| 69/69 [00:18<00:00,  3.71it/s]\n"
     ]
    },
    {
     "name": "stdout",
     "output_type": "stream",
     "text": [
      "Epoch 37/50: Train Loss: 0.3788, Val Loss: 1.5804, Avg Class Accuracy: 0.6405\n"
     ]
    },
    {
     "name": "stderr",
     "output_type": "stream",
     "text": [
      "Epoch 38/50 (training): 100%|██████████| 551/551 [03:16<00:00,  2.81it/s]\n",
      "Epoch 38/50 (validation): 100%|██████████| 69/69 [00:18<00:00,  3.71it/s]\n"
     ]
    },
    {
     "name": "stdout",
     "output_type": "stream",
     "text": [
      "Epoch 38/50: Train Loss: 0.3743, Val Loss: 1.5534, Avg Class Accuracy: 0.6469\n"
     ]
    },
    {
     "name": "stderr",
     "output_type": "stream",
     "text": [
      "Epoch 39/50 (training): 100%|██████████| 551/551 [03:19<00:00,  2.76it/s]\n",
      "Epoch 39/50 (validation): 100%|██████████| 69/69 [00:18<00:00,  3.75it/s]\n"
     ]
    },
    {
     "name": "stdout",
     "output_type": "stream",
     "text": [
      "Epoch 39/50: Train Loss: 0.3599, Val Loss: 1.5862, Avg Class Accuracy: 0.6481\n"
     ]
    },
    {
     "name": "stderr",
     "output_type": "stream",
     "text": [
      "Epoch 40/50 (training): 100%|██████████| 551/551 [03:24<00:00,  2.70it/s]\n",
      "Epoch 40/50 (validation): 100%|██████████| 69/69 [00:19<00:00,  3.62it/s]\n"
     ]
    },
    {
     "name": "stdout",
     "output_type": "stream",
     "text": [
      "Epoch 40/50: Train Loss: 0.3537, Val Loss: 1.5596, Avg Class Accuracy: 0.6423\n"
     ]
    },
    {
     "name": "stderr",
     "output_type": "stream",
     "text": [
      "Epoch 41/50 (training): 100%|██████████| 551/551 [03:16<00:00,  2.80it/s]\n",
      "Epoch 41/50 (validation): 100%|██████████| 69/69 [00:19<00:00,  3.51it/s]\n"
     ]
    },
    {
     "name": "stdout",
     "output_type": "stream",
     "text": [
      "Epoch 41/50: Train Loss: 0.3458, Val Loss: 1.6147, Avg Class Accuracy: 0.6420\n"
     ]
    },
    {
     "name": "stderr",
     "output_type": "stream",
     "text": [
      "Epoch 42/50 (training): 100%|██████████| 551/551 [03:13<00:00,  2.85it/s]\n",
      "Epoch 42/50 (validation): 100%|██████████| 69/69 [00:20<00:00,  3.29it/s]\n"
     ]
    },
    {
     "name": "stdout",
     "output_type": "stream",
     "text": [
      "Epoch 42/50: Train Loss: 0.3357, Val Loss: 1.5304, Avg Class Accuracy: 0.6478\n"
     ]
    },
    {
     "name": "stderr",
     "output_type": "stream",
     "text": [
      "Epoch 43/50 (training): 100%|██████████| 551/551 [03:14<00:00,  2.84it/s]\n",
      "Epoch 43/50 (validation): 100%|██████████| 69/69 [00:18<00:00,  3.69it/s]\n"
     ]
    },
    {
     "name": "stdout",
     "output_type": "stream",
     "text": [
      "Epoch 43/50: Train Loss: 0.3327, Val Loss: 1.5647, Avg Class Accuracy: 0.6562\n"
     ]
    },
    {
     "name": "stderr",
     "output_type": "stream",
     "text": [
      "Epoch 44/50 (training): 100%|██████████| 551/551 [03:17<00:00,  2.79it/s]\n",
      "Epoch 44/50 (validation): 100%|██████████| 69/69 [00:18<00:00,  3.67it/s]\n"
     ]
    },
    {
     "name": "stdout",
     "output_type": "stream",
     "text": [
      "Epoch 44/50: Train Loss: 0.3208, Val Loss: 1.5456, Avg Class Accuracy: 0.6512\n"
     ]
    },
    {
     "name": "stderr",
     "output_type": "stream",
     "text": [
      "Epoch 45/50 (training): 100%|██████████| 551/551 [03:19<00:00,  2.76it/s]\n",
      "Epoch 45/50 (validation): 100%|██████████| 69/69 [00:19<00:00,  3.59it/s]\n"
     ]
    },
    {
     "name": "stdout",
     "output_type": "stream",
     "text": [
      "Epoch 45/50: Train Loss: 0.3155, Val Loss: 1.5821, Avg Class Accuracy: 0.6459\n"
     ]
    },
    {
     "name": "stderr",
     "output_type": "stream",
     "text": [
      "Epoch 46/50 (training): 100%|██████████| 551/551 [03:28<00:00,  2.64it/s]\n",
      "Epoch 46/50 (validation): 100%|██████████| 69/69 [00:20<00:00,  3.30it/s]\n"
     ]
    },
    {
     "name": "stdout",
     "output_type": "stream",
     "text": [
      "Epoch 46/50: Train Loss: 0.3118, Val Loss: 1.6188, Avg Class Accuracy: 0.6486\n"
     ]
    },
    {
     "name": "stderr",
     "output_type": "stream",
     "text": [
      "Epoch 47/50 (training): 100%|██████████| 551/551 [03:29<00:00,  2.63it/s]\n",
      "Epoch 47/50 (validation): 100%|██████████| 69/69 [00:19<00:00,  3.47it/s]\n"
     ]
    },
    {
     "name": "stdout",
     "output_type": "stream",
     "text": [
      "Epoch 47/50: Train Loss: 0.3028, Val Loss: 1.5328, Avg Class Accuracy: 0.6611\n"
     ]
    },
    {
     "name": "stderr",
     "output_type": "stream",
     "text": [
      "Epoch 48/50 (training): 100%|██████████| 551/551 [03:30<00:00,  2.62it/s]\n",
      "Epoch 48/50 (validation): 100%|██████████| 69/69 [00:19<00:00,  3.57it/s]\n"
     ]
    },
    {
     "name": "stdout",
     "output_type": "stream",
     "text": [
      "Epoch 48/50: Train Loss: 0.2979, Val Loss: 1.6162, Avg Class Accuracy: 0.6487\n"
     ]
    },
    {
     "name": "stderr",
     "output_type": "stream",
     "text": [
      "Epoch 49/50 (training): 100%|██████████| 551/551 [03:41<00:00,  2.49it/s]\n",
      "Epoch 49/50 (validation): 100%|██████████| 69/69 [00:21<00:00,  3.14it/s]\n"
     ]
    },
    {
     "name": "stdout",
     "output_type": "stream",
     "text": [
      "Epoch 49/50: Train Loss: 0.2882, Val Loss: 1.5942, Avg Class Accuracy: 0.6505\n"
     ]
    },
    {
     "name": "stderr",
     "output_type": "stream",
     "text": [
      "Epoch 50/50 (training): 100%|██████████| 551/551 [03:45<00:00,  2.44it/s]\n",
      "Epoch 50/50 (validation): 100%|██████████| 69/69 [00:22<00:00,  3.12it/s]"
     ]
    },
    {
     "name": "stdout",
     "output_type": "stream",
     "text": [
      "Epoch 50/50: Train Loss: 0.2801, Val Loss: 1.6138, Avg Class Accuracy: 0.6516\n"
     ]
    },
    {
     "name": "stderr",
     "output_type": "stream",
     "text": [
      "\n"
     ]
    }
   ],
   "source": [
    "from models import BasicResNet\n",
    "\n",
    "basicResNet = BasicResNet(num_classes=num_classes)\n",
    "\n",
    "optimizer = optim.AdamW(basicResNet.to(device).parameters(), lr=1e-4, weight_decay=1e-4)\n",
    "\n",
    "trainer = Trainer(basicResNet, train_dl, val_dl, optimizer, device=device)\n",
    "trainer.train(num_epochs=50)"
   ]
  },
  {
   "cell_type": "code",
   "execution_count": null,
   "id": "5c9c1cdc",
   "metadata": {},
   "outputs": [],
   "source": [
    "torch.save(basicResNet.state_dict(), \"./models/basicResNet.pth\")"
   ]
  },
  {
   "cell_type": "markdown",
   "id": "9a2bce9a",
   "metadata": {},
   "source": [
    "#### Base ResNet"
   ]
  },
  {
   "cell_type": "code",
   "execution_count": 13,
   "id": "394e224a",
   "metadata": {},
   "outputs": [
    {
     "name": "stderr",
     "output_type": "stream",
     "text": [
      "Epoch 1/50 (training): 100%|██████████| 551/551 [02:03<00:00,  4.48it/s]\n",
      "Epoch 1/50 (validation): 100%|██████████| 69/69 [00:16<00:00,  4.30it/s]\n"
     ]
    },
    {
     "name": "stdout",
     "output_type": "stream",
     "text": [
      "Epoch 1/50: Train Loss: 2.8614, Val Loss: 2.4147, Avg Class Accuracy: 0.3351\n"
     ]
    },
    {
     "name": "stderr",
     "output_type": "stream",
     "text": [
      "Epoch 2/50 (training): 100%|██████████| 551/551 [02:00<00:00,  4.58it/s]\n",
      "Epoch 2/50 (validation): 100%|██████████| 69/69 [00:15<00:00,  4.32it/s]\n"
     ]
    },
    {
     "name": "stdout",
     "output_type": "stream",
     "text": [
      "Epoch 2/50: Train Loss: 2.2776, Val Loss: 2.2111, Avg Class Accuracy: 0.3858\n"
     ]
    },
    {
     "name": "stderr",
     "output_type": "stream",
     "text": [
      "Epoch 3/50 (training): 100%|██████████| 551/551 [02:01<00:00,  4.53it/s]\n",
      "Epoch 3/50 (validation): 100%|██████████| 69/69 [00:16<00:00,  4.27it/s]\n"
     ]
    },
    {
     "name": "stdout",
     "output_type": "stream",
     "text": [
      "Epoch 3/50: Train Loss: 2.0026, Val Loss: 1.9712, Avg Class Accuracy: 0.4556\n"
     ]
    },
    {
     "name": "stderr",
     "output_type": "stream",
     "text": [
      "Epoch 4/50 (training): 100%|██████████| 551/551 [02:00<00:00,  4.59it/s]\n",
      "Epoch 4/50 (validation): 100%|██████████| 69/69 [00:15<00:00,  4.34it/s]\n"
     ]
    },
    {
     "name": "stdout",
     "output_type": "stream",
     "text": [
      "Epoch 4/50: Train Loss: 1.8114, Val Loss: 1.8380, Avg Class Accuracy: 0.4942\n"
     ]
    },
    {
     "name": "stderr",
     "output_type": "stream",
     "text": [
      "Epoch 5/50 (training): 100%|██████████| 551/551 [02:03<00:00,  4.46it/s]\n",
      "Epoch 5/50 (validation): 100%|██████████| 69/69 [00:16<00:00,  4.26it/s]\n"
     ]
    },
    {
     "name": "stdout",
     "output_type": "stream",
     "text": [
      "Epoch 5/50: Train Loss: 1.6583, Val Loss: 1.8106, Avg Class Accuracy: 0.5000\n"
     ]
    },
    {
     "name": "stderr",
     "output_type": "stream",
     "text": [
      "Epoch 6/50 (training): 100%|██████████| 551/551 [02:04<00:00,  4.42it/s]\n",
      "Epoch 6/50 (validation): 100%|██████████| 69/69 [00:16<00:00,  4.23it/s]\n"
     ]
    },
    {
     "name": "stdout",
     "output_type": "stream",
     "text": [
      "Epoch 6/50: Train Loss: 1.5261, Val Loss: 1.7664, Avg Class Accuracy: 0.5131\n"
     ]
    },
    {
     "name": "stderr",
     "output_type": "stream",
     "text": [
      "Epoch 7/50 (training): 100%|██████████| 551/551 [02:02<00:00,  4.49it/s]\n",
      "Epoch 7/50 (validation): 100%|██████████| 69/69 [00:16<00:00,  4.18it/s]\n"
     ]
    },
    {
     "name": "stdout",
     "output_type": "stream",
     "text": [
      "Epoch 7/50: Train Loss: 1.4120, Val Loss: 1.7158, Avg Class Accuracy: 0.5298\n"
     ]
    },
    {
     "name": "stderr",
     "output_type": "stream",
     "text": [
      "Epoch 8/50 (training): 100%|██████████| 551/551 [02:02<00:00,  4.50it/s]\n",
      "Epoch 8/50 (validation): 100%|██████████| 69/69 [00:16<00:00,  4.24it/s]\n"
     ]
    },
    {
     "name": "stdout",
     "output_type": "stream",
     "text": [
      "Epoch 8/50: Train Loss: 1.3118, Val Loss: 1.6830, Avg Class Accuracy: 0.5415\n"
     ]
    },
    {
     "name": "stderr",
     "output_type": "stream",
     "text": [
      "Epoch 9/50 (training): 100%|██████████| 551/551 [02:00<00:00,  4.57it/s]\n",
      "Epoch 9/50 (validation): 100%|██████████| 69/69 [00:16<00:00,  4.22it/s]\n"
     ]
    },
    {
     "name": "stdout",
     "output_type": "stream",
     "text": [
      "Epoch 9/50: Train Loss: 1.2137, Val Loss: 1.6824, Avg Class Accuracy: 0.5423\n"
     ]
    },
    {
     "name": "stderr",
     "output_type": "stream",
     "text": [
      "Epoch 10/50 (training): 100%|██████████| 551/551 [02:01<00:00,  4.54it/s]\n",
      "Epoch 10/50 (validation): 100%|██████████| 69/69 [00:16<00:00,  4.23it/s]\n"
     ]
    },
    {
     "name": "stdout",
     "output_type": "stream",
     "text": [
      "Epoch 10/50: Train Loss: 1.1326, Val Loss: 1.6905, Avg Class Accuracy: 0.5488\n"
     ]
    },
    {
     "name": "stderr",
     "output_type": "stream",
     "text": [
      "Epoch 11/50 (training): 100%|██████████| 551/551 [02:00<00:00,  4.57it/s]\n",
      "Epoch 11/50 (validation): 100%|██████████| 69/69 [00:16<00:00,  4.21it/s]\n"
     ]
    },
    {
     "name": "stdout",
     "output_type": "stream",
     "text": [
      "Epoch 11/50: Train Loss: 1.0581, Val Loss: 1.6572, Avg Class Accuracy: 0.5565\n"
     ]
    },
    {
     "name": "stderr",
     "output_type": "stream",
     "text": [
      "Epoch 12/50 (training): 100%|██████████| 551/551 [02:01<00:00,  4.55it/s]\n",
      "Epoch 12/50 (validation): 100%|██████████| 69/69 [00:16<00:00,  4.23it/s]\n"
     ]
    },
    {
     "name": "stdout",
     "output_type": "stream",
     "text": [
      "Epoch 12/50: Train Loss: 0.9864, Val Loss: 1.7076, Avg Class Accuracy: 0.5503\n"
     ]
    },
    {
     "name": "stderr",
     "output_type": "stream",
     "text": [
      "Epoch 13/50 (training): 100%|██████████| 551/551 [02:00<00:00,  4.57it/s]\n",
      "Epoch 13/50 (validation): 100%|██████████| 69/69 [00:16<00:00,  4.20it/s]\n"
     ]
    },
    {
     "name": "stdout",
     "output_type": "stream",
     "text": [
      "Epoch 13/50: Train Loss: 0.9253, Val Loss: 1.6993, Avg Class Accuracy: 0.5613\n"
     ]
    },
    {
     "name": "stderr",
     "output_type": "stream",
     "text": [
      "Epoch 14/50 (training): 100%|██████████| 551/551 [02:02<00:00,  4.50it/s]\n",
      "Epoch 14/50 (validation): 100%|██████████| 69/69 [00:16<00:00,  4.15it/s]\n"
     ]
    },
    {
     "name": "stdout",
     "output_type": "stream",
     "text": [
      "Epoch 14/50: Train Loss: 0.8768, Val Loss: 1.6878, Avg Class Accuracy: 0.5652\n"
     ]
    },
    {
     "name": "stderr",
     "output_type": "stream",
     "text": [
      "Epoch 15/50 (training): 100%|██████████| 551/551 [02:00<00:00,  4.56it/s]\n",
      "Epoch 15/50 (validation): 100%|██████████| 69/69 [00:16<00:00,  4.17it/s]\n"
     ]
    },
    {
     "name": "stdout",
     "output_type": "stream",
     "text": [
      "Epoch 15/50: Train Loss: 0.8276, Val Loss: 1.6793, Avg Class Accuracy: 0.5727\n"
     ]
    },
    {
     "name": "stderr",
     "output_type": "stream",
     "text": [
      "Epoch 16/50 (training): 100%|██████████| 551/551 [01:59<00:00,  4.60it/s]\n",
      "Epoch 16/50 (validation): 100%|██████████| 69/69 [00:16<00:00,  4.29it/s]\n"
     ]
    },
    {
     "name": "stdout",
     "output_type": "stream",
     "text": [
      "Epoch 16/50: Train Loss: 0.7867, Val Loss: 1.7074, Avg Class Accuracy: 0.5686\n"
     ]
    },
    {
     "name": "stderr",
     "output_type": "stream",
     "text": [
      "Epoch 17/50 (training): 100%|██████████| 551/551 [02:00<00:00,  4.57it/s]\n",
      "Epoch 17/50 (validation): 100%|██████████| 69/69 [00:16<00:00,  4.22it/s]\n"
     ]
    },
    {
     "name": "stdout",
     "output_type": "stream",
     "text": [
      "Epoch 17/50: Train Loss: 0.7477, Val Loss: 1.7059, Avg Class Accuracy: 0.5696\n"
     ]
    },
    {
     "name": "stderr",
     "output_type": "stream",
     "text": [
      "Epoch 18/50 (training): 100%|██████████| 551/551 [02:00<00:00,  4.56it/s]\n",
      "Epoch 18/50 (validation): 100%|██████████| 69/69 [00:16<00:00,  4.21it/s]\n"
     ]
    },
    {
     "name": "stdout",
     "output_type": "stream",
     "text": [
      "Epoch 18/50: Train Loss: 0.7118, Val Loss: 1.7088, Avg Class Accuracy: 0.5758\n"
     ]
    },
    {
     "name": "stderr",
     "output_type": "stream",
     "text": [
      "Epoch 19/50 (training): 100%|██████████| 551/551 [01:59<00:00,  4.63it/s]\n",
      "Epoch 19/50 (validation): 100%|██████████| 69/69 [00:16<00:00,  4.26it/s]\n"
     ]
    },
    {
     "name": "stdout",
     "output_type": "stream",
     "text": [
      "Epoch 19/50: Train Loss: 0.6857, Val Loss: 1.7116, Avg Class Accuracy: 0.5796\n"
     ]
    },
    {
     "name": "stderr",
     "output_type": "stream",
     "text": [
      "Epoch 20/50 (training): 100%|██████████| 551/551 [02:00<00:00,  4.56it/s]\n",
      "Epoch 20/50 (validation): 100%|██████████| 69/69 [00:16<00:00,  4.20it/s]\n"
     ]
    },
    {
     "name": "stdout",
     "output_type": "stream",
     "text": [
      "Epoch 20/50: Train Loss: 0.6558, Val Loss: 1.7238, Avg Class Accuracy: 0.5749\n"
     ]
    },
    {
     "name": "stderr",
     "output_type": "stream",
     "text": [
      "Epoch 21/50 (training): 100%|██████████| 551/551 [02:00<00:00,  4.56it/s]\n",
      "Epoch 21/50 (validation): 100%|██████████| 69/69 [00:16<00:00,  4.26it/s]\n"
     ]
    },
    {
     "name": "stdout",
     "output_type": "stream",
     "text": [
      "Epoch 21/50: Train Loss: 0.6365, Val Loss: 1.6990, Avg Class Accuracy: 0.5869\n"
     ]
    },
    {
     "name": "stderr",
     "output_type": "stream",
     "text": [
      "Epoch 22/50 (training): 100%|██████████| 551/551 [02:02<00:00,  4.49it/s]\n",
      "Epoch 22/50 (validation): 100%|██████████| 69/69 [00:16<00:00,  4.24it/s]\n"
     ]
    },
    {
     "name": "stdout",
     "output_type": "stream",
     "text": [
      "Epoch 22/50: Train Loss: 0.6201, Val Loss: 1.7060, Avg Class Accuracy: 0.5846\n"
     ]
    },
    {
     "name": "stderr",
     "output_type": "stream",
     "text": [
      "Epoch 23/50 (training): 100%|██████████| 551/551 [02:01<00:00,  4.54it/s]\n",
      "Epoch 23/50 (validation): 100%|██████████| 69/69 [00:16<00:00,  4.15it/s]\n"
     ]
    },
    {
     "name": "stdout",
     "output_type": "stream",
     "text": [
      "Epoch 23/50: Train Loss: 0.5972, Val Loss: 1.7625, Avg Class Accuracy: 0.5794\n"
     ]
    },
    {
     "name": "stderr",
     "output_type": "stream",
     "text": [
      "Epoch 24/50 (training): 100%|██████████| 551/551 [02:03<00:00,  4.46it/s]\n",
      "Epoch 24/50 (validation): 100%|██████████| 69/69 [00:16<00:00,  4.14it/s]\n"
     ]
    },
    {
     "name": "stdout",
     "output_type": "stream",
     "text": [
      "Epoch 24/50: Train Loss: 0.5741, Val Loss: 1.7228, Avg Class Accuracy: 0.5840\n"
     ]
    },
    {
     "name": "stderr",
     "output_type": "stream",
     "text": [
      "Epoch 25/50 (training): 100%|██████████| 551/551 [02:02<00:00,  4.49it/s]\n",
      "Epoch 25/50 (validation): 100%|██████████| 69/69 [00:16<00:00,  4.16it/s]\n"
     ]
    },
    {
     "name": "stdout",
     "output_type": "stream",
     "text": [
      "Epoch 25/50: Train Loss: 0.5571, Val Loss: 1.7103, Avg Class Accuracy: 0.5920\n"
     ]
    },
    {
     "name": "stderr",
     "output_type": "stream",
     "text": [
      "Epoch 26/50 (training): 100%|██████████| 551/551 [02:07<00:00,  4.32it/s]\n",
      "Epoch 26/50 (validation): 100%|██████████| 69/69 [00:16<00:00,  4.22it/s]\n"
     ]
    },
    {
     "name": "stdout",
     "output_type": "stream",
     "text": [
      "Epoch 26/50: Train Loss: 0.5388, Val Loss: 1.7354, Avg Class Accuracy: 0.5895\n"
     ]
    },
    {
     "name": "stderr",
     "output_type": "stream",
     "text": [
      "Epoch 27/50 (training): 100%|██████████| 551/551 [02:05<00:00,  4.39it/s]\n",
      "Epoch 27/50 (validation): 100%|██████████| 69/69 [00:16<00:00,  4.16it/s]\n"
     ]
    },
    {
     "name": "stdout",
     "output_type": "stream",
     "text": [
      "Epoch 27/50: Train Loss: 0.5241, Val Loss: 1.7023, Avg Class Accuracy: 0.5942\n"
     ]
    },
    {
     "name": "stderr",
     "output_type": "stream",
     "text": [
      "Epoch 28/50 (training): 100%|██████████| 551/551 [02:01<00:00,  4.55it/s]\n",
      "Epoch 28/50 (validation): 100%|██████████| 69/69 [00:16<00:00,  4.27it/s]\n"
     ]
    },
    {
     "name": "stdout",
     "output_type": "stream",
     "text": [
      "Epoch 28/50: Train Loss: 0.5093, Val Loss: 1.7312, Avg Class Accuracy: 0.5931\n"
     ]
    },
    {
     "name": "stderr",
     "output_type": "stream",
     "text": [
      "Epoch 29/50 (training): 100%|██████████| 551/551 [02:01<00:00,  4.53it/s]\n",
      "Epoch 29/50 (validation): 100%|██████████| 69/69 [00:16<00:00,  4.28it/s]\n"
     ]
    },
    {
     "name": "stdout",
     "output_type": "stream",
     "text": [
      "Epoch 29/50: Train Loss: 0.4960, Val Loss: 1.7085, Avg Class Accuracy: 0.5945\n"
     ]
    },
    {
     "name": "stderr",
     "output_type": "stream",
     "text": [
      "Epoch 30/50 (training): 100%|██████████| 551/551 [02:01<00:00,  4.53it/s]\n",
      "Epoch 30/50 (validation): 100%|██████████| 69/69 [00:16<00:00,  4.21it/s]\n"
     ]
    },
    {
     "name": "stdout",
     "output_type": "stream",
     "text": [
      "Epoch 30/50: Train Loss: 0.4819, Val Loss: 1.7185, Avg Class Accuracy: 0.5981\n"
     ]
    },
    {
     "name": "stderr",
     "output_type": "stream",
     "text": [
      "Epoch 31/50 (training): 100%|██████████| 551/551 [02:00<00:00,  4.57it/s]\n",
      "Epoch 31/50 (validation): 100%|██████████| 69/69 [00:16<00:00,  4.11it/s]\n"
     ]
    },
    {
     "name": "stdout",
     "output_type": "stream",
     "text": [
      "Epoch 31/50: Train Loss: 0.4714, Val Loss: 1.7257, Avg Class Accuracy: 0.5955\n"
     ]
    },
    {
     "name": "stderr",
     "output_type": "stream",
     "text": [
      "Epoch 32/50 (training): 100%|██████████| 551/551 [02:00<00:00,  4.58it/s]\n",
      "Epoch 32/50 (validation): 100%|██████████| 69/69 [00:16<00:00,  4.13it/s]\n"
     ]
    },
    {
     "name": "stdout",
     "output_type": "stream",
     "text": [
      "Epoch 32/50: Train Loss: 0.4596, Val Loss: 1.6956, Avg Class Accuracy: 0.6016\n"
     ]
    },
    {
     "name": "stderr",
     "output_type": "stream",
     "text": [
      "Epoch 33/50 (training): 100%|██████████| 551/551 [01:58<00:00,  4.64it/s]\n",
      "Epoch 33/50 (validation): 100%|██████████| 69/69 [00:17<00:00,  4.06it/s]\n"
     ]
    },
    {
     "name": "stdout",
     "output_type": "stream",
     "text": [
      "Epoch 33/50: Train Loss: 0.4461, Val Loss: 1.7118, Avg Class Accuracy: 0.6000\n"
     ]
    },
    {
     "name": "stderr",
     "output_type": "stream",
     "text": [
      "Epoch 34/50 (training): 100%|██████████| 551/551 [02:00<00:00,  4.58it/s]\n",
      "Epoch 34/50 (validation): 100%|██████████| 69/69 [00:16<00:00,  4.26it/s]\n"
     ]
    },
    {
     "name": "stdout",
     "output_type": "stream",
     "text": [
      "Epoch 34/50: Train Loss: 0.4349, Val Loss: 1.6904, Avg Class Accuracy: 0.6041\n"
     ]
    },
    {
     "name": "stderr",
     "output_type": "stream",
     "text": [
      "Epoch 35/50 (training): 100%|██████████| 551/551 [02:01<00:00,  4.53it/s]\n",
      "Epoch 35/50 (validation): 100%|██████████| 69/69 [00:16<00:00,  4.19it/s]\n"
     ]
    },
    {
     "name": "stdout",
     "output_type": "stream",
     "text": [
      "Epoch 35/50: Train Loss: 0.4215, Val Loss: 1.6753, Avg Class Accuracy: 0.6072\n"
     ]
    },
    {
     "name": "stderr",
     "output_type": "stream",
     "text": [
      "Epoch 36/50 (training): 100%|██████████| 551/551 [02:00<00:00,  4.56it/s]\n",
      "Epoch 36/50 (validation): 100%|██████████| 69/69 [00:16<00:00,  4.13it/s]\n"
     ]
    },
    {
     "name": "stdout",
     "output_type": "stream",
     "text": [
      "Epoch 36/50: Train Loss: 0.4141, Val Loss: 1.6837, Avg Class Accuracy: 0.6054\n"
     ]
    },
    {
     "name": "stderr",
     "output_type": "stream",
     "text": [
      "Epoch 37/50 (training): 100%|██████████| 551/551 [02:02<00:00,  4.50it/s]\n",
      "Epoch 37/50 (validation): 100%|██████████| 69/69 [00:16<00:00,  4.11it/s]\n"
     ]
    },
    {
     "name": "stdout",
     "output_type": "stream",
     "text": [
      "Epoch 37/50: Train Loss: 0.4053, Val Loss: 1.6840, Avg Class Accuracy: 0.6060\n"
     ]
    },
    {
     "name": "stderr",
     "output_type": "stream",
     "text": [
      "Epoch 38/50 (training): 100%|██████████| 551/551 [02:00<00:00,  4.55it/s]\n",
      "Epoch 38/50 (validation): 100%|██████████| 69/69 [00:16<00:00,  4.19it/s]\n"
     ]
    },
    {
     "name": "stdout",
     "output_type": "stream",
     "text": [
      "Epoch 38/50: Train Loss: 0.3987, Val Loss: 1.6767, Avg Class Accuracy: 0.6070\n"
     ]
    },
    {
     "name": "stderr",
     "output_type": "stream",
     "text": [
      "Epoch 39/50 (training): 100%|██████████| 551/551 [02:01<00:00,  4.53it/s]\n",
      "Epoch 39/50 (validation): 100%|██████████| 69/69 [00:16<00:00,  4.19it/s]\n"
     ]
    },
    {
     "name": "stdout",
     "output_type": "stream",
     "text": [
      "Epoch 39/50: Train Loss: 0.3903, Val Loss: 1.6758, Avg Class Accuracy: 0.6067\n"
     ]
    },
    {
     "name": "stderr",
     "output_type": "stream",
     "text": [
      "Epoch 40/50 (training): 100%|██████████| 551/551 [02:01<00:00,  4.55it/s]\n",
      "Epoch 40/50 (validation): 100%|██████████| 69/69 [00:16<00:00,  4.23it/s]\n"
     ]
    },
    {
     "name": "stdout",
     "output_type": "stream",
     "text": [
      "Epoch 40/50: Train Loss: 0.3837, Val Loss: 1.6812, Avg Class Accuracy: 0.6064\n"
     ]
    },
    {
     "name": "stderr",
     "output_type": "stream",
     "text": [
      "Epoch 41/50 (training): 100%|██████████| 551/551 [02:01<00:00,  4.55it/s]\n",
      "Epoch 41/50 (validation): 100%|██████████| 69/69 [00:16<00:00,  4.19it/s]\n"
     ]
    },
    {
     "name": "stdout",
     "output_type": "stream",
     "text": [
      "Epoch 41/50: Train Loss: 0.3784, Val Loss: 1.6708, Avg Class Accuracy: 0.6092\n"
     ]
    },
    {
     "name": "stderr",
     "output_type": "stream",
     "text": [
      "Epoch 42/50 (training): 100%|██████████| 551/551 [02:00<00:00,  4.58it/s]\n",
      "Epoch 42/50 (validation): 100%|██████████| 69/69 [00:16<00:00,  4.23it/s]\n"
     ]
    },
    {
     "name": "stdout",
     "output_type": "stream",
     "text": [
      "Epoch 42/50: Train Loss: 0.3712, Val Loss: 1.6599, Avg Class Accuracy: 0.6098\n"
     ]
    },
    {
     "name": "stderr",
     "output_type": "stream",
     "text": [
      "Epoch 43/50 (training): 100%|██████████| 551/551 [01:59<00:00,  4.63it/s]\n",
      "Epoch 43/50 (validation): 100%|██████████| 69/69 [00:16<00:00,  4.27it/s]\n"
     ]
    },
    {
     "name": "stdout",
     "output_type": "stream",
     "text": [
      "Epoch 43/50: Train Loss: 0.3680, Val Loss: 1.6636, Avg Class Accuracy: 0.6092\n"
     ]
    },
    {
     "name": "stderr",
     "output_type": "stream",
     "text": [
      "Epoch 44/50 (training): 100%|██████████| 551/551 [02:00<00:00,  4.56it/s]\n",
      "Epoch 44/50 (validation): 100%|██████████| 69/69 [00:16<00:00,  4.15it/s]\n"
     ]
    },
    {
     "name": "stdout",
     "output_type": "stream",
     "text": [
      "Epoch 44/50: Train Loss: 0.3645, Val Loss: 1.6611, Avg Class Accuracy: 0.6102\n"
     ]
    },
    {
     "name": "stderr",
     "output_type": "stream",
     "text": [
      "Epoch 45/50 (training): 100%|██████████| 551/551 [02:00<00:00,  4.57it/s]\n",
      "Epoch 45/50 (validation): 100%|██████████| 69/69 [00:16<00:00,  4.25it/s]\n"
     ]
    },
    {
     "name": "stdout",
     "output_type": "stream",
     "text": [
      "Epoch 45/50: Train Loss: 0.3611, Val Loss: 1.6651, Avg Class Accuracy: 0.6113\n"
     ]
    },
    {
     "name": "stderr",
     "output_type": "stream",
     "text": [
      "Epoch 46/50 (training): 100%|██████████| 551/551 [02:00<00:00,  4.56it/s]\n",
      "Epoch 46/50 (validation): 100%|██████████| 69/69 [00:16<00:00,  4.15it/s]\n"
     ]
    },
    {
     "name": "stdout",
     "output_type": "stream",
     "text": [
      "Epoch 46/50: Train Loss: 0.3548, Val Loss: 1.6633, Avg Class Accuracy: 0.6097\n"
     ]
    },
    {
     "name": "stderr",
     "output_type": "stream",
     "text": [
      "Epoch 47/50 (training): 100%|██████████| 551/551 [02:01<00:00,  4.54it/s]\n",
      "Epoch 47/50 (validation): 100%|██████████| 69/69 [00:16<00:00,  4.23it/s]\n"
     ]
    },
    {
     "name": "stdout",
     "output_type": "stream",
     "text": [
      "Epoch 47/50: Train Loss: 0.3569, Val Loss: 1.6635, Avg Class Accuracy: 0.6103\n"
     ]
    },
    {
     "name": "stderr",
     "output_type": "stream",
     "text": [
      "Epoch 48/50 (training): 100%|██████████| 551/551 [01:59<00:00,  4.60it/s]\n",
      "Epoch 48/50 (validation): 100%|██████████| 69/69 [00:16<00:00,  4.29it/s]\n"
     ]
    },
    {
     "name": "stdout",
     "output_type": "stream",
     "text": [
      "Epoch 48/50: Train Loss: 0.3534, Val Loss: 1.6617, Avg Class Accuracy: 0.6111\n"
     ]
    },
    {
     "name": "stderr",
     "output_type": "stream",
     "text": [
      "Epoch 49/50 (training): 100%|██████████| 551/551 [02:01<00:00,  4.54it/s]\n",
      "Epoch 49/50 (validation): 100%|██████████| 69/69 [00:16<00:00,  4.21it/s]\n"
     ]
    },
    {
     "name": "stdout",
     "output_type": "stream",
     "text": [
      "Epoch 49/50: Train Loss: 0.3525, Val Loss: 1.6594, Avg Class Accuracy: 0.6103\n"
     ]
    },
    {
     "name": "stderr",
     "output_type": "stream",
     "text": [
      "Epoch 50/50 (training): 100%|██████████| 551/551 [02:00<00:00,  4.56it/s]\n",
      "Epoch 50/50 (validation): 100%|██████████| 69/69 [00:16<00:00,  4.24it/s]"
     ]
    },
    {
     "name": "stdout",
     "output_type": "stream",
     "text": [
      "Epoch 50/50: Train Loss: 0.3501, Val Loss: 1.6611, Avg Class Accuracy: 0.6104\n"
     ]
    },
    {
     "name": "stderr",
     "output_type": "stream",
     "text": [
      "\n"
     ]
    }
   ],
   "source": [
    "from models import BasicResNet\n",
    "\n",
    "lr = 1e-4\n",
    "weight_decay = 1e-3\n",
    "epochs = 50\n",
    "\n",
    "pretrainedResNet = BasicResNet(num_classes=num_classes)\n",
    "\n",
    "optimizer = optim.AdamW(pretrainedResNet.to(device).parameters(), lr=lr, weight_decay=weight_decay)\n",
    "scheduler = optim.lr_scheduler.CosineAnnealingLR(optimizer, T_max=epochs)\n",
    "\n",
    "trainer = Trainer(pretrainedResNet, train_dl, val_dl,optimizer, scheduler=scheduler, device=device)\n",
    "trainer.train(num_epochs=epochs)"
   ]
  },
  {
   "cell_type": "markdown",
   "id": "0a535464",
   "metadata": {},
   "source": [
    "#### Finetuning"
   ]
  },
  {
   "cell_type": "code",
   "execution_count": 10,
   "id": "07ca15ef",
   "metadata": {},
   "outputs": [
    {
     "name": "stderr",
     "output_type": "stream",
     "text": [
      "Epoch 1/10 (training): 100%|██████████| 551/551 [01:59<00:00,  4.60it/s]\n",
      "Epoch 1/10 (validation): 100%|██████████| 69/69 [00:15<00:00,  4.35it/s]\n"
     ]
    },
    {
     "name": "stdout",
     "output_type": "stream",
     "text": [
      "Epoch 1/10: Train Loss: 2.1945, Val Loss: 2.4021, Avg Class Accuracy: 0.5381\n"
     ]
    },
    {
     "name": "stderr",
     "output_type": "stream",
     "text": [
      "Epoch 2/10 (training):   2%|▏         | 13/551 [00:03<02:19,  3.84it/s]\n"
     ]
    },
    {
     "ename": "KeyboardInterrupt",
     "evalue": "",
     "output_type": "error",
     "traceback": [
      "\u001b[31m---------------------------------------------------------------------------\u001b[39m",
      "\u001b[31mKeyboardInterrupt\u001b[39m                         Traceback (most recent call last)",
      "\u001b[36mCell\u001b[39m\u001b[36m \u001b[39m\u001b[32mIn[10]\u001b[39m\u001b[32m, line 14\u001b[39m\n\u001b[32m     11\u001b[39m scheduler = optim.lr_scheduler.CosineAnnealingLR(optimizer, T_max=epochs)\n\u001b[32m     13\u001b[39m trainer = Trainer(fineTunedResNet, train_dl, val_dl, optimizer, scheduler=scheduler, device=device)\n\u001b[32m---> \u001b[39m\u001b[32m14\u001b[39m \u001b[43mtrainer\u001b[49m\u001b[43m.\u001b[49m\u001b[43mtrain\u001b[49m\u001b[43m(\u001b[49m\u001b[43mnum_epochs\u001b[49m\u001b[43m=\u001b[49m\u001b[43mepochs\u001b[49m\u001b[43m)\u001b[49m\n",
      "\u001b[36mFile \u001b[39m\u001b[32m~/Documents/studies/ssne/ex4/training.py:83\u001b[39m, in \u001b[36mTrainer.train\u001b[39m\u001b[34m(self, num_epochs)\u001b[39m\n\u001b[32m     80\u001b[39m best_val_acc = \u001b[32m0.0\u001b[39m\n\u001b[32m     82\u001b[39m \u001b[38;5;28;01mfor\u001b[39;00m epoch \u001b[38;5;129;01min\u001b[39;00m \u001b[38;5;28mrange\u001b[39m(\u001b[32m1\u001b[39m, num_epochs + \u001b[32m1\u001b[39m):\n\u001b[32m---> \u001b[39m\u001b[32m83\u001b[39m     train_loss = \u001b[38;5;28;43mself\u001b[39;49m\u001b[43m.\u001b[49m\u001b[43mtrain_step\u001b[49m\u001b[43m(\u001b[49m\u001b[43mepoch\u001b[49m\u001b[43m,\u001b[49m\u001b[43m \u001b[49m\u001b[43mnum_epochs\u001b[49m\u001b[43m)\u001b[49m\n\u001b[32m     84\u001b[39m     val_loss, avg_class_acc = \u001b[38;5;28mself\u001b[39m.evaluation_step(epoch, num_epochs)\n\u001b[32m     86\u001b[39m     \u001b[38;5;28mprint\u001b[39m(\u001b[33mf\u001b[39m\u001b[33m\"\u001b[39m\u001b[33mEpoch \u001b[39m\u001b[38;5;132;01m{\u001b[39;00mepoch\u001b[38;5;132;01m}\u001b[39;00m\u001b[33m/\u001b[39m\u001b[38;5;132;01m{\u001b[39;00mnum_epochs\u001b[38;5;132;01m}\u001b[39;00m\u001b[33m: Train Loss: \u001b[39m\u001b[38;5;132;01m{\u001b[39;00mtrain_loss\u001b[38;5;132;01m:\u001b[39;00m\u001b[33m.4f\u001b[39m\u001b[38;5;132;01m}\u001b[39;00m\u001b[33m, Val Loss: \u001b[39m\u001b[38;5;132;01m{\u001b[39;00mval_loss\u001b[38;5;132;01m:\u001b[39;00m\u001b[33m.4f\u001b[39m\u001b[38;5;132;01m}\u001b[39;00m\u001b[33m, Avg Class Accuracy: \u001b[39m\u001b[38;5;132;01m{\u001b[39;00mavg_class_acc\u001b[38;5;132;01m:\u001b[39;00m\u001b[33m.4f\u001b[39m\u001b[38;5;132;01m}\u001b[39;00m\u001b[33m\"\u001b[39m)\n",
      "\u001b[36mFile \u001b[39m\u001b[32m~/Documents/studies/ssne/ex4/training.py:45\u001b[39m, in \u001b[36mTrainer.train_step\u001b[39m\u001b[34m(self, epoch, num_epochs)\u001b[39m\n\u001b[32m     42\u001b[39m     loss.backward()\n\u001b[32m     43\u001b[39m     \u001b[38;5;28mself\u001b[39m.optimizer.step()\n\u001b[32m---> \u001b[39m\u001b[32m45\u001b[39m     total_loss += \u001b[43mloss\u001b[49m\u001b[43m.\u001b[49m\u001b[43mitem\u001b[49m\u001b[43m(\u001b[49m\u001b[43m)\u001b[49m * images.size(\u001b[32m0\u001b[39m)\n\u001b[32m     47\u001b[39m epoch_loss = total_loss / \u001b[38;5;28mlen\u001b[39m(\u001b[38;5;28mself\u001b[39m.train_dl.dataset)\n\u001b[32m     48\u001b[39m \u001b[38;5;28;01mreturn\u001b[39;00m epoch_loss\n",
      "\u001b[31mKeyboardInterrupt\u001b[39m: "
     ]
    }
   ],
   "source": [
    "from models import BasicResNet\n",
    "\n",
    "lr = 1e-5\n",
    "weight_decay = 1e-3\n",
    "epochs = 10\n",
    "\n",
    "fineTunedResNet = BasicResNet(num_classes=num_classes)\n",
    "fineTunedResNet.load_state_dict(torch.load(\"./models/basicResNet.pth\"))\n",
    "\n",
    "optimizer = optim.AdamW(fineTunedResNet.to(device).parameters(), lr=lr, weight_decay=weight_decay)\n",
    "scheduler = optim.lr_scheduler.CosineAnnealingLR(optimizer, T_max=epochs)\n",
    "\n",
    "trainer = Trainer(fineTunedResNet, train_dl, val_dl, optimizer, scheduler=scheduler, device=device)\n",
    "trainer.train(num_epochs=epochs)"
   ]
  },
  {
   "cell_type": "markdown",
   "id": "657afee3",
   "metadata": {},
   "source": [
    "### Four-block CNN"
   ]
  },
  {
   "cell_type": "code",
   "execution_count": 14,
   "id": "82ec7286",
   "metadata": {},
   "outputs": [
    {
     "name": "stderr",
     "output_type": "stream",
     "text": [
      "Epoch 1/50 (training): 100%|██████████| 551/551 [03:51<00:00,  2.38it/s]\n",
      "Epoch 1/50 (validation): 100%|██████████| 69/69 [00:17<00:00,  3.94it/s]\n"
     ]
    },
    {
     "name": "stdout",
     "output_type": "stream",
     "text": [
      "Epoch 1/50: Train Loss: 3.3547, Val Loss: 3.4746, Avg Class Accuracy: 0.1251\n"
     ]
    },
    {
     "name": "stderr",
     "output_type": "stream",
     "text": [
      "Epoch 2/50 (training): 100%|██████████| 551/551 [03:52<00:00,  2.37it/s]\n",
      "Epoch 2/50 (validation): 100%|██████████| 69/69 [00:18<00:00,  3.82it/s]\n"
     ]
    },
    {
     "name": "stdout",
     "output_type": "stream",
     "text": [
      "Epoch 2/50: Train Loss: 2.8859, Val Loss: 3.2544, Avg Class Accuracy: 0.1744\n"
     ]
    },
    {
     "name": "stderr",
     "output_type": "stream",
     "text": [
      "Epoch 3/50 (training): 100%|██████████| 551/551 [03:50<00:00,  2.39it/s]\n",
      "Epoch 3/50 (validation): 100%|██████████| 69/69 [00:18<00:00,  3.80it/s]\n"
     ]
    },
    {
     "name": "stdout",
     "output_type": "stream",
     "text": [
      "Epoch 3/50: Train Loss: 2.5974, Val Loss: 2.8474, Avg Class Accuracy: 0.2500\n"
     ]
    },
    {
     "name": "stderr",
     "output_type": "stream",
     "text": [
      "Epoch 4/50 (training): 100%|██████████| 551/551 [03:50<00:00,  2.39it/s]\n",
      "Epoch 4/50 (validation): 100%|██████████| 69/69 [00:18<00:00,  3.80it/s]\n"
     ]
    },
    {
     "name": "stdout",
     "output_type": "stream",
     "text": [
      "Epoch 4/50: Train Loss: 2.3765, Val Loss: 2.7263, Avg Class Accuracy: 0.2770\n"
     ]
    },
    {
     "name": "stderr",
     "output_type": "stream",
     "text": [
      "Epoch 5/50 (training): 100%|██████████| 551/551 [03:48<00:00,  2.41it/s]\n",
      "Epoch 5/50 (validation): 100%|██████████| 69/69 [00:18<00:00,  3.79it/s]\n"
     ]
    },
    {
     "name": "stdout",
     "output_type": "stream",
     "text": [
      "Epoch 5/50: Train Loss: 2.2149, Val Loss: 2.7148, Avg Class Accuracy: 0.2829\n"
     ]
    },
    {
     "name": "stderr",
     "output_type": "stream",
     "text": [
      "Epoch 6/50 (training): 100%|██████████| 551/551 [03:51<00:00,  2.38it/s]\n",
      "Epoch 6/50 (validation): 100%|██████████| 69/69 [00:18<00:00,  3.65it/s]\n"
     ]
    },
    {
     "name": "stdout",
     "output_type": "stream",
     "text": [
      "Epoch 6/50: Train Loss: 2.0740, Val Loss: 2.3367, Avg Class Accuracy: 0.3616\n"
     ]
    },
    {
     "name": "stderr",
     "output_type": "stream",
     "text": [
      "Epoch 7/50 (training): 100%|██████████| 551/551 [03:49<00:00,  2.40it/s]\n",
      "Epoch 7/50 (validation): 100%|██████████| 69/69 [00:19<00:00,  3.59it/s]\n"
     ]
    },
    {
     "name": "stdout",
     "output_type": "stream",
     "text": [
      "Epoch 7/50: Train Loss: 1.9690, Val Loss: 2.1734, Avg Class Accuracy: 0.4010\n"
     ]
    },
    {
     "name": "stderr",
     "output_type": "stream",
     "text": [
      "Epoch 8/50 (training): 100%|██████████| 551/551 [03:48<00:00,  2.41it/s]\n",
      "Epoch 8/50 (validation): 100%|██████████| 69/69 [00:18<00:00,  3.67it/s]\n"
     ]
    },
    {
     "name": "stdout",
     "output_type": "stream",
     "text": [
      "Epoch 8/50: Train Loss: 1.8728, Val Loss: 2.2262, Avg Class Accuracy: 0.3993\n"
     ]
    },
    {
     "name": "stderr",
     "output_type": "stream",
     "text": [
      "Epoch 9/50 (training): 100%|██████████| 551/551 [03:49<00:00,  2.40it/s]\n",
      "Epoch 9/50 (validation): 100%|██████████| 69/69 [00:18<00:00,  3.68it/s]\n"
     ]
    },
    {
     "name": "stdout",
     "output_type": "stream",
     "text": [
      "Epoch 9/50: Train Loss: 1.7945, Val Loss: 2.0234, Avg Class Accuracy: 0.4414\n"
     ]
    },
    {
     "name": "stderr",
     "output_type": "stream",
     "text": [
      "Epoch 10/50 (training): 100%|██████████| 551/551 [03:49<00:00,  2.41it/s]\n",
      "Epoch 10/50 (validation): 100%|██████████| 69/69 [00:19<00:00,  3.61it/s]\n"
     ]
    },
    {
     "name": "stdout",
     "output_type": "stream",
     "text": [
      "Epoch 10/50: Train Loss: 1.7209, Val Loss: 1.8866, Avg Class Accuracy: 0.4860\n"
     ]
    },
    {
     "name": "stderr",
     "output_type": "stream",
     "text": [
      "Epoch 11/50 (training): 100%|██████████| 551/551 [03:53<00:00,  2.36it/s]\n",
      "Epoch 11/50 (validation): 100%|██████████| 69/69 [00:18<00:00,  3.64it/s]\n"
     ]
    },
    {
     "name": "stdout",
     "output_type": "stream",
     "text": [
      "Epoch 11/50: Train Loss: 1.6552, Val Loss: 2.0018, Avg Class Accuracy: 0.4536\n"
     ]
    },
    {
     "name": "stderr",
     "output_type": "stream",
     "text": [
      "Epoch 12/50 (training): 100%|██████████| 551/551 [03:52<00:00,  2.37it/s]\n",
      "Epoch 12/50 (validation): 100%|██████████| 69/69 [00:19<00:00,  3.63it/s]\n"
     ]
    },
    {
     "name": "stdout",
     "output_type": "stream",
     "text": [
      "Epoch 12/50: Train Loss: 1.5989, Val Loss: 1.8563, Avg Class Accuracy: 0.4852\n"
     ]
    },
    {
     "name": "stderr",
     "output_type": "stream",
     "text": [
      "Epoch 13/50 (training): 100%|██████████| 551/551 [03:49<00:00,  2.40it/s]\n",
      "Epoch 13/50 (validation): 100%|██████████| 69/69 [00:19<00:00,  3.63it/s]\n"
     ]
    },
    {
     "name": "stdout",
     "output_type": "stream",
     "text": [
      "Epoch 13/50: Train Loss: 1.5465, Val Loss: 1.8307, Avg Class Accuracy: 0.4929\n"
     ]
    },
    {
     "name": "stderr",
     "output_type": "stream",
     "text": [
      "Epoch 14/50 (training): 100%|██████████| 551/551 [03:50<00:00,  2.39it/s]\n",
      "Epoch 14/50 (validation): 100%|██████████| 69/69 [00:19<00:00,  3.61it/s]\n"
     ]
    },
    {
     "name": "stdout",
     "output_type": "stream",
     "text": [
      "Epoch 14/50: Train Loss: 1.4941, Val Loss: 1.7430, Avg Class Accuracy: 0.5210\n"
     ]
    },
    {
     "name": "stderr",
     "output_type": "stream",
     "text": [
      "Epoch 15/50 (training): 100%|██████████| 551/551 [03:53<00:00,  2.36it/s]\n",
      "Epoch 15/50 (validation): 100%|██████████| 69/69 [00:19<00:00,  3.52it/s]\n"
     ]
    },
    {
     "name": "stdout",
     "output_type": "stream",
     "text": [
      "Epoch 15/50: Train Loss: 1.4501, Val Loss: 1.5602, Avg Class Accuracy: 0.5670\n"
     ]
    },
    {
     "name": "stderr",
     "output_type": "stream",
     "text": [
      "Epoch 16/50 (training): 100%|██████████| 551/551 [03:55<00:00,  2.34it/s]\n",
      "Epoch 16/50 (validation): 100%|██████████| 69/69 [00:19<00:00,  3.61it/s]\n"
     ]
    },
    {
     "name": "stdout",
     "output_type": "stream",
     "text": [
      "Epoch 16/50: Train Loss: 1.4121, Val Loss: 1.6713, Avg Class Accuracy: 0.5381\n"
     ]
    },
    {
     "name": "stderr",
     "output_type": "stream",
     "text": [
      "Epoch 17/50 (training): 100%|██████████| 551/551 [03:50<00:00,  2.39it/s]\n",
      "Epoch 17/50 (validation): 100%|██████████| 69/69 [00:19<00:00,  3.56it/s]\n"
     ]
    },
    {
     "name": "stdout",
     "output_type": "stream",
     "text": [
      "Epoch 17/50: Train Loss: 1.3731, Val Loss: 1.5135, Avg Class Accuracy: 0.5821\n"
     ]
    },
    {
     "name": "stderr",
     "output_type": "stream",
     "text": [
      "Epoch 18/50 (training): 100%|██████████| 551/551 [03:49<00:00,  2.40it/s]\n",
      "Epoch 18/50 (validation): 100%|██████████| 69/69 [00:19<00:00,  3.60it/s]\n"
     ]
    },
    {
     "name": "stdout",
     "output_type": "stream",
     "text": [
      "Epoch 18/50: Train Loss: 1.3390, Val Loss: 1.5478, Avg Class Accuracy: 0.5701\n"
     ]
    },
    {
     "name": "stderr",
     "output_type": "stream",
     "text": [
      "Epoch 19/50 (training): 100%|██████████| 551/551 [03:51<00:00,  2.38it/s]\n",
      "Epoch 19/50 (validation): 100%|██████████| 69/69 [00:19<00:00,  3.52it/s]\n"
     ]
    },
    {
     "name": "stdout",
     "output_type": "stream",
     "text": [
      "Epoch 19/50: Train Loss: 1.3069, Val Loss: 1.4722, Avg Class Accuracy: 0.5908\n"
     ]
    },
    {
     "name": "stderr",
     "output_type": "stream",
     "text": [
      "Epoch 20/50 (training): 100%|██████████| 551/551 [03:52<00:00,  2.37it/s]\n",
      "Epoch 20/50 (validation): 100%|██████████| 69/69 [00:19<00:00,  3.55it/s]\n"
     ]
    },
    {
     "name": "stdout",
     "output_type": "stream",
     "text": [
      "Epoch 20/50: Train Loss: 1.2735, Val Loss: 1.5357, Avg Class Accuracy: 0.5750\n"
     ]
    },
    {
     "name": "stderr",
     "output_type": "stream",
     "text": [
      "Epoch 21/50 (training): 100%|██████████| 551/551 [03:48<00:00,  2.41it/s]\n",
      "Epoch 21/50 (validation): 100%|██████████| 69/69 [00:19<00:00,  3.56it/s]\n"
     ]
    },
    {
     "name": "stdout",
     "output_type": "stream",
     "text": [
      "Epoch 21/50: Train Loss: 1.2468, Val Loss: 1.4524, Avg Class Accuracy: 0.5943\n"
     ]
    },
    {
     "name": "stderr",
     "output_type": "stream",
     "text": [
      "Epoch 22/50 (training): 100%|██████████| 551/551 [03:50<00:00,  2.39it/s]\n",
      "Epoch 22/50 (validation): 100%|██████████| 69/69 [00:19<00:00,  3.57it/s]\n"
     ]
    },
    {
     "name": "stdout",
     "output_type": "stream",
     "text": [
      "Epoch 22/50: Train Loss: 1.2157, Val Loss: 1.3776, Avg Class Accuracy: 0.6137\n"
     ]
    },
    {
     "name": "stderr",
     "output_type": "stream",
     "text": [
      "Epoch 23/50 (training): 100%|██████████| 551/551 [03:51<00:00,  2.38it/s]\n",
      "Epoch 23/50 (validation): 100%|██████████| 69/69 [00:20<00:00,  3.39it/s]\n"
     ]
    },
    {
     "name": "stdout",
     "output_type": "stream",
     "text": [
      "Epoch 23/50: Train Loss: 1.1880, Val Loss: 1.4575, Avg Class Accuracy: 0.6004\n"
     ]
    },
    {
     "name": "stderr",
     "output_type": "stream",
     "text": [
      "Epoch 24/50 (training): 100%|██████████| 551/551 [03:50<00:00,  2.39it/s]\n",
      "Epoch 24/50 (validation): 100%|██████████| 69/69 [00:19<00:00,  3.47it/s]\n"
     ]
    },
    {
     "name": "stdout",
     "output_type": "stream",
     "text": [
      "Epoch 24/50: Train Loss: 1.1603, Val Loss: 1.4478, Avg Class Accuracy: 0.6009\n"
     ]
    },
    {
     "name": "stderr",
     "output_type": "stream",
     "text": [
      "Epoch 25/50 (training): 100%|██████████| 551/551 [03:50<00:00,  2.39it/s]\n",
      "Epoch 25/50 (validation): 100%|██████████| 69/69 [00:19<00:00,  3.56it/s]\n"
     ]
    },
    {
     "name": "stdout",
     "output_type": "stream",
     "text": [
      "Epoch 25/50: Train Loss: 1.1399, Val Loss: 1.4318, Avg Class Accuracy: 0.6064\n"
     ]
    },
    {
     "name": "stderr",
     "output_type": "stream",
     "text": [
      "Epoch 26/50 (training): 100%|██████████| 551/551 [03:50<00:00,  2.39it/s]\n",
      "Epoch 26/50 (validation): 100%|██████████| 69/69 [00:19<00:00,  3.48it/s]\n"
     ]
    },
    {
     "name": "stdout",
     "output_type": "stream",
     "text": [
      "Epoch 26/50: Train Loss: 1.1173, Val Loss: 1.3780, Avg Class Accuracy: 0.6181\n"
     ]
    },
    {
     "name": "stderr",
     "output_type": "stream",
     "text": [
      "Epoch 27/50 (training): 100%|██████████| 551/551 [03:50<00:00,  2.39it/s]\n",
      "Epoch 27/50 (validation): 100%|██████████| 69/69 [00:19<00:00,  3.52it/s]\n"
     ]
    },
    {
     "name": "stdout",
     "output_type": "stream",
     "text": [
      "Epoch 27/50: Train Loss: 1.0967, Val Loss: 1.3692, Avg Class Accuracy: 0.6184\n"
     ]
    },
    {
     "name": "stderr",
     "output_type": "stream",
     "text": [
      "Epoch 28/50 (training): 100%|██████████| 551/551 [03:51<00:00,  2.38it/s]\n",
      "Epoch 28/50 (validation): 100%|██████████| 69/69 [00:20<00:00,  3.45it/s]\n"
     ]
    },
    {
     "name": "stdout",
     "output_type": "stream",
     "text": [
      "Epoch 28/50: Train Loss: 1.0734, Val Loss: 1.3605, Avg Class Accuracy: 0.6250\n"
     ]
    },
    {
     "name": "stderr",
     "output_type": "stream",
     "text": [
      "Epoch 29/50 (training): 100%|██████████| 551/551 [03:52<00:00,  2.37it/s]\n",
      "Epoch 29/50 (validation): 100%|██████████| 69/69 [00:19<00:00,  3.53it/s]\n"
     ]
    },
    {
     "name": "stdout",
     "output_type": "stream",
     "text": [
      "Epoch 29/50: Train Loss: 1.0537, Val Loss: 1.3339, Avg Class Accuracy: 0.6304\n"
     ]
    },
    {
     "name": "stderr",
     "output_type": "stream",
     "text": [
      "Epoch 30/50 (training): 100%|██████████| 551/551 [03:50<00:00,  2.39it/s]\n",
      "Epoch 30/50 (validation): 100%|██████████| 69/69 [00:19<00:00,  3.52it/s]\n"
     ]
    },
    {
     "name": "stdout",
     "output_type": "stream",
     "text": [
      "Epoch 30/50: Train Loss: 1.0357, Val Loss: 1.3468, Avg Class Accuracy: 0.6269\n"
     ]
    },
    {
     "name": "stderr",
     "output_type": "stream",
     "text": [
      "Epoch 31/50 (training): 100%|██████████| 551/551 [03:51<00:00,  2.38it/s]\n",
      "Epoch 31/50 (validation): 100%|██████████| 69/69 [00:19<00:00,  3.47it/s]\n"
     ]
    },
    {
     "name": "stdout",
     "output_type": "stream",
     "text": [
      "Epoch 31/50: Train Loss: 1.0149, Val Loss: 1.2751, Avg Class Accuracy: 0.6459\n"
     ]
    },
    {
     "name": "stderr",
     "output_type": "stream",
     "text": [
      "Epoch 32/50 (training): 100%|██████████| 551/551 [03:56<00:00,  2.33it/s]\n",
      "Epoch 32/50 (validation): 100%|██████████| 69/69 [00:20<00:00,  3.40it/s]\n"
     ]
    },
    {
     "name": "stdout",
     "output_type": "stream",
     "text": [
      "Epoch 32/50: Train Loss: 1.0005, Val Loss: 1.3039, Avg Class Accuracy: 0.6393\n"
     ]
    },
    {
     "name": "stderr",
     "output_type": "stream",
     "text": [
      "Epoch 33/50 (training): 100%|██████████| 551/551 [03:56<00:00,  2.33it/s]\n",
      "Epoch 33/50 (validation): 100%|██████████| 69/69 [00:20<00:00,  3.44it/s]\n"
     ]
    },
    {
     "name": "stdout",
     "output_type": "stream",
     "text": [
      "Epoch 33/50: Train Loss: 0.9747, Val Loss: 1.3577, Avg Class Accuracy: 0.6271\n"
     ]
    },
    {
     "name": "stderr",
     "output_type": "stream",
     "text": [
      "Epoch 34/50 (training): 100%|██████████| 551/551 [03:51<00:00,  2.38it/s]\n",
      "Epoch 34/50 (validation): 100%|██████████| 69/69 [00:19<00:00,  3.47it/s]\n"
     ]
    },
    {
     "name": "stdout",
     "output_type": "stream",
     "text": [
      "Epoch 34/50: Train Loss: 0.9645, Val Loss: 1.2894, Avg Class Accuracy: 0.6447\n"
     ]
    },
    {
     "name": "stderr",
     "output_type": "stream",
     "text": [
      "Epoch 35/50 (training): 100%|██████████| 551/551 [03:50<00:00,  2.39it/s]\n",
      "Epoch 35/50 (validation): 100%|██████████| 69/69 [00:19<00:00,  3.52it/s]\n"
     ]
    },
    {
     "name": "stdout",
     "output_type": "stream",
     "text": [
      "Epoch 35/50: Train Loss: 0.9473, Val Loss: 1.3243, Avg Class Accuracy: 0.6338\n"
     ]
    },
    {
     "name": "stderr",
     "output_type": "stream",
     "text": [
      "Epoch 36/50 (training): 100%|██████████| 551/551 [03:51<00:00,  2.38it/s]\n",
      "Epoch 36/50 (validation): 100%|██████████| 69/69 [00:19<00:00,  3.50it/s]\n"
     ]
    },
    {
     "name": "stdout",
     "output_type": "stream",
     "text": [
      "Epoch 36/50: Train Loss: 0.9329, Val Loss: 1.4098, Avg Class Accuracy: 0.6147\n"
     ]
    },
    {
     "name": "stderr",
     "output_type": "stream",
     "text": [
      "Epoch 37/50 (training): 100%|██████████| 551/551 [03:53<00:00,  2.36it/s]\n",
      "Epoch 37/50 (validation): 100%|██████████| 69/69 [00:19<00:00,  3.48it/s]\n"
     ]
    },
    {
     "name": "stdout",
     "output_type": "stream",
     "text": [
      "Epoch 37/50: Train Loss: 0.9162, Val Loss: 1.2929, Avg Class Accuracy: 0.6459\n"
     ]
    },
    {
     "name": "stderr",
     "output_type": "stream",
     "text": [
      "Epoch 38/50 (training): 100%|██████████| 551/551 [03:50<00:00,  2.39it/s]\n",
      "Epoch 38/50 (validation): 100%|██████████| 69/69 [00:19<00:00,  3.49it/s]\n"
     ]
    },
    {
     "name": "stdout",
     "output_type": "stream",
     "text": [
      "Epoch 38/50: Train Loss: 0.9005, Val Loss: 1.2198, Avg Class Accuracy: 0.6643\n"
     ]
    },
    {
     "name": "stderr",
     "output_type": "stream",
     "text": [
      "Epoch 39/50 (training): 100%|██████████| 551/551 [03:49<00:00,  2.40it/s]\n",
      "Epoch 39/50 (validation): 100%|██████████| 69/69 [00:19<00:00,  3.50it/s]\n"
     ]
    },
    {
     "name": "stdout",
     "output_type": "stream",
     "text": [
      "Epoch 39/50: Train Loss: 0.8859, Val Loss: 1.2849, Avg Class Accuracy: 0.6486\n"
     ]
    },
    {
     "name": "stderr",
     "output_type": "stream",
     "text": [
      "Epoch 40/50 (training): 100%|██████████| 551/551 [03:51<00:00,  2.38it/s]\n",
      "Epoch 40/50 (validation): 100%|██████████| 69/69 [00:20<00:00,  3.41it/s]\n"
     ]
    },
    {
     "name": "stdout",
     "output_type": "stream",
     "text": [
      "Epoch 40/50: Train Loss: 0.8738, Val Loss: 1.3259, Avg Class Accuracy: 0.6417\n"
     ]
    },
    {
     "name": "stderr",
     "output_type": "stream",
     "text": [
      "Epoch 41/50 (training): 100%|██████████| 551/551 [03:54<00:00,  2.35it/s]\n",
      "Epoch 41/50 (validation): 100%|██████████| 69/69 [00:19<00:00,  3.49it/s]\n"
     ]
    },
    {
     "name": "stdout",
     "output_type": "stream",
     "text": [
      "Epoch 41/50: Train Loss: 0.8603, Val Loss: 1.2907, Avg Class Accuracy: 0.6474\n"
     ]
    },
    {
     "name": "stderr",
     "output_type": "stream",
     "text": [
      "Epoch 42/50 (training): 100%|██████████| 551/551 [03:50<00:00,  2.39it/s]\n",
      "Epoch 42/50 (validation): 100%|██████████| 69/69 [00:19<00:00,  3.56it/s]\n"
     ]
    },
    {
     "name": "stdout",
     "output_type": "stream",
     "text": [
      "Epoch 42/50: Train Loss: 0.8452, Val Loss: 1.2787, Avg Class Accuracy: 0.6556\n"
     ]
    },
    {
     "name": "stderr",
     "output_type": "stream",
     "text": [
      "Epoch 43/50 (training): 100%|██████████| 551/551 [03:50<00:00,  2.39it/s]\n",
      "Epoch 43/50 (validation): 100%|██████████| 69/69 [00:19<00:00,  3.49it/s]\n"
     ]
    },
    {
     "name": "stdout",
     "output_type": "stream",
     "text": [
      "Epoch 43/50: Train Loss: 0.8377, Val Loss: 1.3209, Avg Class Accuracy: 0.6464\n"
     ]
    },
    {
     "name": "stderr",
     "output_type": "stream",
     "text": [
      "Epoch 44/50 (training): 100%|██████████| 551/551 [03:56<00:00,  2.33it/s]\n",
      "Epoch 44/50 (validation): 100%|██████████| 69/69 [00:20<00:00,  3.39it/s]\n"
     ]
    },
    {
     "name": "stdout",
     "output_type": "stream",
     "text": [
      "Epoch 44/50: Train Loss: 0.8263, Val Loss: 1.2282, Avg Class Accuracy: 0.6636\n"
     ]
    },
    {
     "name": "stderr",
     "output_type": "stream",
     "text": [
      "Epoch 45/50 (training): 100%|██████████| 551/551 [03:55<00:00,  2.34it/s]\n",
      "Epoch 45/50 (validation): 100%|██████████| 69/69 [00:19<00:00,  3.55it/s]\n"
     ]
    },
    {
     "name": "stdout",
     "output_type": "stream",
     "text": [
      "Epoch 45/50: Train Loss: 0.8114, Val Loss: 1.2937, Avg Class Accuracy: 0.6479\n"
     ]
    },
    {
     "name": "stderr",
     "output_type": "stream",
     "text": [
      "Epoch 46/50 (training): 100%|██████████| 551/551 [03:51<00:00,  2.38it/s]\n",
      "Epoch 46/50 (validation): 100%|██████████| 69/69 [00:19<00:00,  3.48it/s]\n"
     ]
    },
    {
     "name": "stdout",
     "output_type": "stream",
     "text": [
      "Epoch 46/50: Train Loss: 0.8022, Val Loss: 1.2591, Avg Class Accuracy: 0.6638\n"
     ]
    },
    {
     "name": "stderr",
     "output_type": "stream",
     "text": [
      "Epoch 47/50 (training): 100%|██████████| 551/551 [03:48<00:00,  2.41it/s]\n",
      "Epoch 47/50 (validation): 100%|██████████| 69/69 [00:19<00:00,  3.53it/s]\n"
     ]
    },
    {
     "name": "stdout",
     "output_type": "stream",
     "text": [
      "Epoch 47/50: Train Loss: 0.7948, Val Loss: 1.2627, Avg Class Accuracy: 0.6606\n"
     ]
    },
    {
     "name": "stderr",
     "output_type": "stream",
     "text": [
      "Epoch 48/50 (training): 100%|██████████| 551/551 [03:50<00:00,  2.40it/s]\n",
      "Epoch 48/50 (validation): 100%|██████████| 69/69 [00:19<00:00,  3.51it/s]\n"
     ]
    },
    {
     "name": "stdout",
     "output_type": "stream",
     "text": [
      "Epoch 48/50: Train Loss: 0.7814, Val Loss: 1.2561, Avg Class Accuracy: 0.6589\n"
     ]
    },
    {
     "name": "stderr",
     "output_type": "stream",
     "text": [
      "Epoch 49/50 (training): 100%|██████████| 551/551 [03:50<00:00,  2.39it/s]\n",
      "Epoch 49/50 (validation): 100%|██████████| 69/69 [00:19<00:00,  3.52it/s]\n"
     ]
    },
    {
     "name": "stdout",
     "output_type": "stream",
     "text": [
      "Epoch 49/50: Train Loss: 0.7729, Val Loss: 1.2780, Avg Class Accuracy: 0.6576\n"
     ]
    },
    {
     "name": "stderr",
     "output_type": "stream",
     "text": [
      "Epoch 50/50 (training): 100%|██████████| 551/551 [03:51<00:00,  2.38it/s]\n",
      "Epoch 50/50 (validation): 100%|██████████| 69/69 [00:19<00:00,  3.46it/s]"
     ]
    },
    {
     "name": "stdout",
     "output_type": "stream",
     "text": [
      "Epoch 50/50: Train Loss: 0.7614, Val Loss: 1.2005, Avg Class Accuracy: 0.6779\n"
     ]
    },
    {
     "name": "stderr",
     "output_type": "stream",
     "text": [
      "\n"
     ]
    }
   ],
   "source": [
    "from models import FourBlockCNN\n",
    "\n",
    "epochs = 50\n",
    "lr = 1e-4\n",
    "weight_decay = 1e-3\n",
    "\n",
    "fourBlockCNN = FourBlockCNN(num_classes=num_classes)\n",
    "\n",
    "optimizer = optim.Adam(fourBlockCNN.to(device).parameters(), lr=lr, weight_decay=weight_decay)\n",
    "scheduler = optim.lr_scheduler.CosineAnnealingLR(optimizer, T_max=epochs)\n",
    "\n",
    "trainer = Trainer(fourBlockCNN, train_dl, val_dl, optimizer, device=device)\n",
    "trainer.train(num_epochs=epochs)"
   ]
  },
  {
   "cell_type": "markdown",
   "id": "9f980950",
   "metadata": {},
   "source": [
    "## Save results"
   ]
  },
  {
   "cell_type": "code",
   "execution_count": 15,
   "id": "90c9615c",
   "metadata": {},
   "outputs": [
    {
     "name": "stderr",
     "output_type": "stream",
     "text": [
      "Processing images: 100%|██████████| 10000/10000 [00:36<00:00, 277.09it/s]"
     ]
    },
    {
     "name": "stdout",
     "output_type": "stream",
     "text": [
      "Saved 10000 predictions to pred.csv\n"
     ]
    },
    {
     "name": "stderr",
     "output_type": "stream",
     "text": [
      "\n"
     ]
    }
   ],
   "source": [
    "from evaluation import save_results\n",
    "\n",
    "test_dir = './data/test_all'\n",
    "\n",
    "test_transform = transforms.Compose([\n",
    "    transforms.ToTensor(),\n",
    "    transforms.Normalize(mean_tensor, std_tensor)\n",
    "])\n",
    "\n",
    "save_results(fourBlockCNN, test_dir, test_transform, device=device)"
   ]
  }
 ],
 "metadata": {
  "kernelspec": {
   "display_name": ".venv",
   "language": "python",
   "name": "python3"
  },
  "language_info": {
   "codemirror_mode": {
    "name": "ipython",
    "version": 3
   },
   "file_extension": ".py",
   "mimetype": "text/x-python",
   "name": "python",
   "nbconvert_exporter": "python",
   "pygments_lexer": "ipython3",
   "version": "3.12.0"
  }
 },
 "nbformat": 4,
 "nbformat_minor": 5
}
