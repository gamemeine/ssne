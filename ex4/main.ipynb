{
 "cells": [
  {
   "cell_type": "markdown",
   "id": "7cc72ded",
   "metadata": {},
   "source": [
    "# Image classification"
   ]
  },
  {
   "cell_type": "code",
   "execution_count": 1,
   "id": "21f91952",
   "metadata": {},
   "outputs": [],
   "source": [
    "import torch\n",
    "from torch import Generator\n",
    "\n",
    "# Set the random seed for reproducibility\n",
    "random_state = 42"
   ]
  },
  {
   "cell_type": "code",
   "execution_count": 2,
   "id": "abf3d6e8",
   "metadata": {},
   "outputs": [
    {
     "name": "stdout",
     "output_type": "stream",
     "text": [
      "Using device: mps\n"
     ]
    }
   ],
   "source": [
    "device = \"cuda\" if torch.cuda.is_available() else \"mps\" if torch.backends.mps.is_available() else \"cpu\"\n",
    "print(f\"Using device: {device}\")"
   ]
  },
  {
   "cell_type": "markdown",
   "id": "a6777f43",
   "metadata": {},
   "source": [
    "## Data"
   ]
  },
  {
   "cell_type": "code",
   "execution_count": 3,
   "id": "f8f1f0a9",
   "metadata": {},
   "outputs": [
    {
     "name": "stdout",
     "output_type": "stream",
     "text": [
      "Number of classes: 50\n",
      "Number of samples: 88011\n"
     ]
    }
   ],
   "source": [
    "import torchvision.transforms as transforms\n",
    "from torchvision.datasets import ImageFolder\n",
    "\n",
    "transform = transforms.Compose([\n",
    "    transforms.ToTensor(),\n",
    "    transforms.Normalize((0.5, 0.5, 0.5), (0.5, 0.5, 0.5))])\n",
    "\n",
    "# Load the main training dataset\n",
    "base_dir = './data/train'\n",
    "base_ds = ImageFolder(base_dir, transform=transform)\n",
    "\n",
    "total_samples = len(base_ds)\n",
    "total_classes = len(base_ds.classes)\n",
    "\n",
    "print(f\"Number of classes: {total_classes}\")\n",
    "print(f\"Number of samples: {total_samples}\")"
   ]
  },
  {
   "cell_type": "code",
   "execution_count": 4,
   "id": "d0dedbb4",
   "metadata": {},
   "outputs": [
    {
     "name": "stdout",
     "output_type": "stream",
     "text": [
      "Sample image shape: <built-in method size of Tensor object at 0x167d02d00>\n",
      "Sample label: 0\n"
     ]
    }
   ],
   "source": [
    "sample_img, sample_label = base_ds[0]\n",
    "\n",
    "print(f\"Sample image shape: {sample_img.size}\")\n",
    "print(f\"Sample label: {sample_label}\")"
   ]
  },
  {
   "cell_type": "code",
   "execution_count": 5,
   "id": "e8b79692",
   "metadata": {},
   "outputs": [
    {
     "name": "stdout",
     "output_type": "stream",
     "text": [
      "Training size: 70409\n",
      "Validation size: 17602\n"
     ]
    }
   ],
   "source": [
    "from torch.utils.data import random_split, DataLoader\n",
    "\n",
    "val_ratio = 0.2\n",
    "total_size = len(base_ds)\n",
    "val_size = int(total_size * val_ratio)\n",
    "train_size = total_size - val_size\n",
    "\n",
    "# train validation split\n",
    "train_ds, val_ds = random_split(base_ds, [train_size, val_size], generator=Generator().manual_seed(random_state))\n",
    "\n",
    "print(f\"Training size: {len(train_ds)}\")\n",
    "print(f\"Validation size: {len(val_ds)}\")\n",
    "\n",
    "batch_size = 256\n",
    "num_workers = 0\n",
    "\n",
    "# setup data loaders\n",
    "train_dl = DataLoader(train_ds, batch_size=batch_size, num_workers=num_workers, shuffle=True, generator=Generator().manual_seed(random_state))\n",
    "val_dl = DataLoader(val_ds, batch_size=batch_size, num_workers=num_workers, shuffle=False)"
   ]
  },
  {
   "cell_type": "markdown",
   "id": "20b3bd43",
   "metadata": {},
   "source": [
    "## Model"
   ]
  },
  {
   "cell_type": "code",
   "execution_count": null,
   "id": "93bb43e8",
   "metadata": {},
   "outputs": [],
   "source": [
    "from models import BasicNet\n",
    "\n",
    "model = BasicNet(num_classes=total_classes)"
   ]
  },
  {
   "cell_type": "markdown",
   "id": "517c5072",
   "metadata": {},
   "source": [
    "## Training"
   ]
  },
  {
   "cell_type": "code",
   "execution_count": null,
   "id": "184c7b8d",
   "metadata": {},
   "outputs": [
    {
     "name": "stderr",
     "output_type": "stream",
     "text": [
      "Epoch 1/10 (training): 100%|██████████| 276/276 [00:41<00:00,  6.64it/s]\n",
      "Epoch 1/10 (validation): 100%|██████████| 69/69 [00:13<00:00,  5.15it/s]\n"
     ]
    },
    {
     "name": "stdout",
     "output_type": "stream",
     "text": [
      "Epoch 1/10: Train Loss: 3.0815, Val Loss: 2.7171, Avg Class Accuracy: 0.2611\n"
     ]
    },
    {
     "name": "stderr",
     "output_type": "stream",
     "text": [
      "Epoch 2/10 (training): 100%|██████████| 276/276 [00:36<00:00,  7.60it/s]\n",
      "Epoch 2/10 (validation): 100%|██████████| 69/69 [00:13<00:00,  5.08it/s]\n"
     ]
    },
    {
     "name": "stdout",
     "output_type": "stream",
     "text": [
      "Epoch 2/10: Train Loss: 2.6197, Val Loss: 2.3970, Avg Class Accuracy: 0.3446\n"
     ]
    },
    {
     "name": "stderr",
     "output_type": "stream",
     "text": [
      "Epoch 3/10 (training): 100%|██████████| 276/276 [00:41<00:00,  6.68it/s]\n",
      "Epoch 3/10 (validation): 100%|██████████| 69/69 [00:14<00:00,  4.76it/s]\n"
     ]
    },
    {
     "name": "stdout",
     "output_type": "stream",
     "text": [
      "Epoch 3/10: Train Loss: 2.4312, Val Loss: 2.3280, Avg Class Accuracy: 0.3588\n"
     ]
    },
    {
     "name": "stderr",
     "output_type": "stream",
     "text": [
      "Epoch 4/10 (training): 100%|██████████| 276/276 [00:40<00:00,  6.74it/s]\n",
      "Epoch 4/10 (validation): 100%|██████████| 69/69 [00:14<00:00,  4.69it/s]\n"
     ]
    },
    {
     "name": "stdout",
     "output_type": "stream",
     "text": [
      "Epoch 4/10: Train Loss: 2.3118, Val Loss: 2.1310, Avg Class Accuracy: 0.4070\n"
     ]
    },
    {
     "name": "stderr",
     "output_type": "stream",
     "text": [
      "Epoch 5/10 (training): 100%|██████████| 276/276 [00:41<00:00,  6.70it/s]\n",
      "Epoch 5/10 (validation): 100%|██████████| 69/69 [00:14<00:00,  4.64it/s]\n"
     ]
    },
    {
     "name": "stdout",
     "output_type": "stream",
     "text": [
      "Epoch 5/10: Train Loss: 2.1967, Val Loss: 1.9932, Avg Class Accuracy: 0.4404\n"
     ]
    },
    {
     "name": "stderr",
     "output_type": "stream",
     "text": [
      "Epoch 6/10 (training): 100%|██████████| 276/276 [00:41<00:00,  6.69it/s]\n",
      "Epoch 6/10 (validation): 100%|██████████| 69/69 [00:15<00:00,  4.52it/s]\n"
     ]
    },
    {
     "name": "stdout",
     "output_type": "stream",
     "text": [
      "Epoch 6/10: Train Loss: 2.1149, Val Loss: 2.0325, Avg Class Accuracy: 0.4430\n"
     ]
    },
    {
     "name": "stderr",
     "output_type": "stream",
     "text": [
      "Epoch 7/10 (training): 100%|██████████| 276/276 [00:42<00:00,  6.49it/s]\n",
      "Epoch 7/10 (validation): 100%|██████████| 69/69 [00:14<00:00,  4.64it/s]\n"
     ]
    },
    {
     "name": "stdout",
     "output_type": "stream",
     "text": [
      "Epoch 7/10: Train Loss: 2.0548, Val Loss: 1.8883, Avg Class Accuracy: 0.4769\n"
     ]
    },
    {
     "name": "stderr",
     "output_type": "stream",
     "text": [
      "Epoch 8/10 (training): 100%|██████████| 276/276 [00:41<00:00,  6.64it/s]\n",
      "Epoch 8/10 (validation): 100%|██████████| 69/69 [00:15<00:00,  4.55it/s]\n"
     ]
    },
    {
     "name": "stdout",
     "output_type": "stream",
     "text": [
      "Epoch 8/10: Train Loss: 1.9718, Val Loss: 1.8377, Avg Class Accuracy: 0.4911\n"
     ]
    },
    {
     "name": "stderr",
     "output_type": "stream",
     "text": [
      "Epoch 9/10 (training): 100%|██████████| 276/276 [00:41<00:00,  6.69it/s]\n",
      "Epoch 9/10 (validation): 100%|██████████| 69/69 [00:15<00:00,  4.56it/s]\n"
     ]
    },
    {
     "name": "stdout",
     "output_type": "stream",
     "text": [
      "Epoch 9/10: Train Loss: 1.9128, Val Loss: 1.9217, Avg Class Accuracy: 0.4704\n"
     ]
    },
    {
     "name": "stderr",
     "output_type": "stream",
     "text": [
      "Epoch 10/10 (training): 100%|██████████| 276/276 [00:41<00:00,  6.66it/s]\n",
      "Epoch 10/10 (validation): 100%|██████████| 69/69 [00:14<00:00,  4.60it/s]"
     ]
    },
    {
     "name": "stdout",
     "output_type": "stream",
     "text": [
      "Epoch 10/10: Train Loss: 1.8612, Val Loss: 1.9441, Avg Class Accuracy: 0.4673\n"
     ]
    },
    {
     "name": "stderr",
     "output_type": "stream",
     "text": [
      "\n"
     ]
    }
   ],
   "source": [
    "from training import Trainer\n",
    "\n",
    "trainer = Trainer(model, train_dl, val_dl, device=device, lr=1e-3)\n",
    "trainer.train(num_epochs=10)"
   ]
  }
 ],
 "metadata": {
  "kernelspec": {
   "display_name": ".venv",
   "language": "python",
   "name": "python3"
  },
  "language_info": {
   "codemirror_mode": {
    "name": "ipython",
    "version": 3
   },
   "file_extension": ".py",
   "mimetype": "text/x-python",
   "name": "python",
   "nbconvert_exporter": "python",
   "pygments_lexer": "ipython3",
   "version": "3.12.0"
  }
 },
 "nbformat": 4,
 "nbformat_minor": 5
}
