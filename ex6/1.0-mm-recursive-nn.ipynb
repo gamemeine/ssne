{
 "cells": [
  {
   "cell_type": "markdown",
   "id": "02dec845",
   "metadata": {},
   "source": [
    "# Recurrent Neural Networks\n",
    "\n",
    "Grzegorz Statkiewicz, Mateusz Matukiewicz"
   ]
  },
  {
   "cell_type": "markdown",
   "id": "c644fa77",
   "metadata": {},
   "source": [
    "## Overview\n",
    "\n",
    "The structure of the direcotry should be as follows:\n",
    "\n",
    "```\n",
    ".\n",
    "├── data\n",
    "│   ├── train.pkl\n",
    "│   └── test_no_target.pkl\n",
    "└── main.ipynb\n",
    "```\n",
    "\n"
   ]
  },
  {
   "cell_type": "markdown",
   "id": "5290e644",
   "metadata": {},
   "source": [
    "## Setup"
   ]
  },
  {
   "cell_type": "markdown",
   "id": "e92cc3a2",
   "metadata": {},
   "source": [
    "Select the device to use"
   ]
  },
  {
   "cell_type": "code",
   "execution_count": 1,
   "id": "c26c9c02",
   "metadata": {},
   "outputs": [
    {
     "name": "stdout",
     "output_type": "stream",
     "text": [
      "Sun May 25 15:07:17 2025       \n",
      "+-----------------------------------------------------------------------------------------+\n",
      "| NVIDIA-SMI 560.35.02              Driver Version: 560.94         CUDA Version: 12.6     |\n",
      "|-----------------------------------------+------------------------+----------------------+\n",
      "| GPU  Name                 Persistence-M | Bus-Id          Disp.A | Volatile Uncorr. ECC |\n",
      "| Fan  Temp   Perf          Pwr:Usage/Cap |           Memory-Usage | GPU-Util  Compute M. |\n",
      "|                                         |                        |               MIG M. |\n",
      "|=========================================+========================+======================|\n",
      "|   0  NVIDIA GeForce GTX 1660 Ti     On  |   00000000:1C:00.0  On |                  N/A |\n",
      "|  0%   55C    P8             17W /  130W |     799MiB /   6144MiB |      6%      Default |\n",
      "|                                         |                        |                  N/A |\n",
      "+-----------------------------------------+------------------------+----------------------+\n",
      "                                                                                         \n",
      "+-----------------------------------------------------------------------------------------+\n",
      "| Processes:                                                                              |\n",
      "|  GPU   GI   CI        PID   Type   Process name                              GPU Memory |\n",
      "|        ID   ID                                                               Usage      |\n",
      "|=========================================================================================|\n",
      "|    0   N/A  N/A       377      G   /Xwayland                                   N/A      |\n",
      "+-----------------------------------------------------------------------------------------+\n"
     ]
    }
   ],
   "source": [
    "!nvidia-smi"
   ]
  },
  {
   "cell_type": "code",
   "execution_count": 2,
   "id": "0b8098fd",
   "metadata": {},
   "outputs": [],
   "source": [
    "import os\n",
    "os.environ['CUDA_LAUNCH_BLOCKING'] = \"1\"\n",
    "\n"
   ]
  },
  {
   "cell_type": "code",
   "execution_count": 2,
   "id": "746dc9f6",
   "metadata": {},
   "outputs": [
    {
     "name": "stdout",
     "output_type": "stream",
     "text": [
      "Using device: cuda\n"
     ]
    }
   ],
   "source": [
    "import pickle\n",
    "import torch\n",
    "import torch.nn as nn\n",
    "import torch.optim as optim\n",
    "from torch.utils.data import Dataset, DataLoader\n",
    "from collections import Counter\n",
    "import numpy as np\n",
    "import os\n",
    "import random\n",
    "from torch.nn.utils.rnn import pad_sequence\n",
    "\n",
    "device = torch.device(\"cuda\") if torch.cuda.is_available() else \"mps\" if torch.backends.mps.is_available() else \"cpu\"\n",
    "print(f\"Using device: {device}\")"
   ]
  },
  {
   "cell_type": "markdown",
   "id": "ebff3e06",
   "metadata": {},
   "source": [
    "### Config for reproductivity"
   ]
  },
  {
   "cell_type": "code",
   "execution_count": 3,
   "id": "c99387ab",
   "metadata": {},
   "outputs": [],
   "source": [
    "SEED = 42\n",
    "\n",
    "random.seed(SEED)\n",
    "np.random.seed(SEED)\n",
    "torch.manual_seed(SEED)\n",
    "if torch.cuda.is_available():\n",
    "    torch.cuda.manual_seed(SEED)\n",
    "    torch.cuda.manual_seed_all(SEED)\n",
    "torch.backends.cudnn.deterministic = True\n",
    "torch.backends.cudnn.benchmark = False"
   ]
  },
  {
   "cell_type": "markdown",
   "id": "d05f8042",
   "metadata": {},
   "source": [
    "## Data preparation"
   ]
  },
  {
   "cell_type": "markdown",
   "id": "0c7b2553",
   "metadata": {},
   "source": [
    "Load the data"
   ]
  },
  {
   "cell_type": "code",
   "execution_count": 4,
   "id": "fd66a60a",
   "metadata": {},
   "outputs": [],
   "source": [
    "train_path = \"data/train.pkl\""
   ]
  },
  {
   "cell_type": "code",
   "execution_count": 5,
   "id": "3ab81607",
   "metadata": {},
   "outputs": [],
   "source": [
    "def load_data(file_path):\n",
    "    \"\"\"Loads data from a pickle file.\"\"\"\n",
    "    try:\n",
    "        with open(file_path, \"rb\") as f:\n",
    "            data = pickle.load(f)\n",
    "        return data\n",
    "    except FileNotFoundError:\n",
    "        print(f\"Error: File not found at {file_path}\")\n",
    "        return None\n"
   ]
  },
  {
   "cell_type": "code",
   "execution_count": 6,
   "id": "6a560b6b",
   "metadata": {},
   "outputs": [
    {
     "name": "stdout",
     "output_type": "stream",
     "text": [
      "Loaded 2939 training samples.\n",
      "(array([ -1.,  -1.,  -1., ...,  78.,  40., 144.], shape=(4756,)), 0)\n"
     ]
    }
   ],
   "source": [
    "train_data = load_data(train_path)\n",
    "\n",
    "print(f\"Loaded {len(train_data)} training samples.\")\n",
    "\n",
    "print(train_data[0])"
   ]
  },
  {
   "cell_type": "code",
   "execution_count": 7,
   "id": "b0a373d4",
   "metadata": {},
   "outputs": [],
   "source": [
    "compositors = {0: 'bach', 1: 'beethoven', 2: 'debussy', 3: 'scarlatti', 4: 'victoria'}\n",
    "num_classes = len(compositors)"
   ]
  },
  {
   "cell_type": "code",
   "execution_count": 8,
   "id": "c2d8c8b7",
   "metadata": {},
   "outputs": [
    {
     "name": "stdout",
     "output_type": "stream",
     "text": [
      "Vocab size: 193\n"
     ]
    }
   ],
   "source": [
    "import numpy as np\n",
    "\n",
    "sequences = [torch.tensor(seq, dtype=torch.long) for (seq, label) in train_data]\n",
    "labels = [label for (seq, label) in train_data]\n",
    "\n",
    "# Find the max chord index (vocab size, since chords are ints)\n",
    "all_chords = set()\n",
    "for seq in sequences:\n",
    "    all_chords.update(seq.tolist())\n",
    "vocab_size = int(max(all_chords)) + 2  # +1 for max, +1 for padding idx=0\n",
    "\n",
    "print(f\"Vocab size: {vocab_size}\")"
   ]
  },
  {
   "cell_type": "code",
   "execution_count": 9,
   "id": "408de834",
   "metadata": {},
   "outputs": [],
   "source": [
    "from torch.utils.data import Dataset, DataLoader\n",
    "from torch.nn.utils.rnn import pad_sequence\n",
    "\n",
    "class ChordDataset(Dataset):\n",
    "    def __init__(self, sequences, labels):\n",
    "        self.sequences = [seq + 1 for seq in sequences]\n",
    "        self.labels = labels\n",
    "    def __len__(self):\n",
    "        return len(self.sequences)\n",
    "    def __getitem__(self, idx):\n",
    "        return self.sequences[idx], self.labels[idx]\n",
    "\n",
    "def collate_fn(batch):\n",
    "    seqs, labels = zip(*batch)\n",
    "    lengths = torch.tensor([len(s) for s in seqs], dtype=torch.long)\n",
    "    padded_seqs = pad_sequence(seqs, batch_first=True, padding_value=0)\n",
    "    return padded_seqs, lengths, torch.tensor(labels, dtype=torch.long)\n"
   ]
  },
  {
   "cell_type": "code",
   "execution_count": 10,
   "id": "61595462",
   "metadata": {},
   "outputs": [],
   "source": [
    "from sklearn.model_selection import train_test_split\n",
    "\n",
    "BATCH_SIZE = 256\n",
    "\n",
    "train_data_split, val_data_split = train_test_split(train_data, test_size=0.2, random_state=42)\n",
    "\n",
    "train_sequences = [torch.tensor(seq, dtype=torch.long) for (seq, label) in train_data_split]\n",
    "train_labels = [label for (seq, label) in train_data_split]\n",
    "val_sequences = [torch.tensor(seq, dtype=torch.long) for (seq, label) in val_data_split]\n",
    "val_labels = [label for (seq, label) in val_data_split]\n",
    "\n",
    "train_dataset = ChordDataset(train_sequences, train_labels)\n",
    "val_dataset = ChordDataset(val_sequences, val_labels)\n",
    "\n",
    "\n",
    "train_loader = DataLoader(train_dataset, batch_size=BATCH_SIZE, shuffle=True, collate_fn=collate_fn)\n",
    "val_loader = DataLoader(val_dataset, batch_size=BATCH_SIZE, shuffle=False, collate_fn=collate_fn)\n"
   ]
  },
  {
   "cell_type": "code",
   "execution_count": 11,
   "id": "1e772fe0",
   "metadata": {},
   "outputs": [],
   "source": [
    "from torch.utils.data import WeightedRandomSampler\n",
    "\n",
    "class_sample_counts = np.array([train_labels.count(i) for i in range(num_classes)])\n",
    "weights = 1. / class_sample_counts\n",
    "\n",
    "sample_weights = np.array([weights[label] for label in train_labels])\n",
    "sample_weights = torch.DoubleTensor(sample_weights)\n",
    "\n",
    "sampler = WeightedRandomSampler(\n",
    "    weights=sample_weights,\n",
    "    num_samples=len(sample_weights),\n",
    "    replacement=True\n",
    ")\n",
    "\n",
    "sampled_train_loader = DataLoader(train_dataset, batch_size=BATCH_SIZE, sampler=sampler, collate_fn=collate_fn)"
   ]
  },
  {
   "cell_type": "markdown",
   "id": "649c4f44",
   "metadata": {},
   "source": [
    "## Model small"
   ]
  },
  {
   "cell_type": "code",
   "execution_count": 12,
   "id": "c0031c1c",
   "metadata": {},
   "outputs": [],
   "source": [
    "import torch.nn as nn\n",
    "\n",
    "class LSTMClassifier(nn.Module):\n",
    "    def __init__(self, vocab_size, embed_dim, hidden_dim, output_dim, num_layers, dropout_p=0.5, bidirectional=False):\n",
    "        super().__init__()\n",
    "        self.embedding = nn.Embedding(vocab_size, embed_dim, padding_idx=0) # padding_idx=0 assumes 0 is used for padding\n",
    "\n",
    "        self.lstm = nn.LSTM(\n",
    "            input_size=embed_dim,\n",
    "            hidden_size=hidden_dim,\n",
    "            num_layers=num_layers,\n",
    "            batch_first=True,  \n",
    "            dropout=dropout_p if num_layers > 1 else 0,\n",
    "            bidirectional=bidirectional\n",
    "        )\n",
    "\n",
    "        self.dropout = nn.Dropout(dropout_p)\n",
    "\n",
    "        fc_input_dim = hidden_dim * 2 if bidirectional else hidden_dim\n",
    "        self.fc = nn.Linear(fc_input_dim, output_dim)\n",
    "\n",
    "        self.hidden_dim = hidden_dim\n",
    "        self.num_layers = num_layers\n",
    "        self.bidirectional = bidirectional\n",
    "\n",
    "    def forward(self, x, lengths):\n",
    "        embedded = self.embedding(x)\n",
    "        packed_embedded = nn.utils.rnn.pack_padded_sequence(\n",
    "            embedded, lengths.cpu(), batch_first=True, enforce_sorted=False\n",
    "        )\n",
    "\n",
    "        # LSTM\n",
    "        packed_output, (h_n, c_n) = self.lstm(packed_embedded)\n",
    "\n",
    "    \n",
    "        if self.bidirectional:\n",
    "            h_n_last_layer_forward = h_n[-2, :, :]\n",
    "            h_n_last_layer_backward = h_n[-1, :, :]\n",
    "            hidden = torch.cat((h_n_last_layer_forward, h_n_last_layer_backward), dim=1)\n",
    "        else:\n",
    "            hidden = h_n[-1, :, :]\n",
    "\n",
    "\n",
    "        hidden = self.dropout(hidden)\n",
    "        logits = self.fc(hidden)\n",
    "        return logits"
   ]
  },
  {
   "cell_type": "code",
   "execution_count": null,
   "id": "05700535",
   "metadata": {},
   "outputs": [],
   "source": [
    "VOCAB_SIZE = vocab_size\n",
    "EMBED_DIM = 32\n",
    "HIDDEN_DIM = 64\n",
    "OUTPUT_DIM = 5\n",
    "NUM_LAYERS = 2\n",
    "DROPOUT_P = 0.4\n",
    "LEARNING_RATE = 1e-3\n",
    "WEIGHT_DECAY = 1e-5"
   ]
  },
  {
   "cell_type": "code",
   "execution_count": null,
   "id": "25d5b87f",
   "metadata": {},
   "outputs": [],
   "source": [
    "model = LSTMClassifier(\n",
    "        vocab_size=VOCAB_SIZE,\n",
    "        embed_dim=EMBED_DIM,\n",
    "        hidden_dim=HIDDEN_DIM,\n",
    "        output_dim=OUTPUT_DIM,\n",
    "        num_layers=NUM_LAYERS,\n",
    "        dropout_p=DROPOUT_P,\n",
    "        bidirectional=False\n",
    "    ).to(device)"
   ]
  },
  {
   "cell_type": "code",
   "execution_count": 15,
   "id": "f22bd911",
   "metadata": {},
   "outputs": [],
   "source": [
    "# norm\n",
    "counts = torch.tensor([1630, 478, 154, 441, 236], dtype=torch.float) # from data-exploration\n",
    "class_weights = 1.0 / counts\n",
    "class_weights = class_weights / class_weights.sum() * len(counts)  # Normalize to num_classes"
   ]
  },
  {
   "cell_type": "code",
   "execution_count": null,
   "id": "0e893b0e",
   "metadata": {},
   "outputs": [],
   "source": [
    "criterion = nn.CrossEntropyLoss(weight=class_weights.to(device))\n",
    "optimizer = optim.Adam(model.parameters(), lr=LEARNING_RATE, weight_decay=WEIGHT_DECAY)\n",
    "scheduler = torch.optim.lr_scheduler.ReduceLROnPlateau(optimizer, mode='min', patience=5, factor=0.5)\n",
    "\n"
   ]
  },
  {
   "cell_type": "code",
   "execution_count": null,
   "id": "248571d7",
   "metadata": {},
   "outputs": [
    {
     "name": "stdout",
     "output_type": "stream",
     "text": [
      "LSTMClassifier(\n",
      "  (embedding): Embedding(193, 32, padding_idx=0)\n",
      "  (lstm): LSTM(32, 64, num_layers=2, batch_first=True, dropout=0.4)\n",
      "  (dropout): Dropout(p=0.4, inplace=False)\n",
      "  (fc): Linear(in_features=64, out_features=5, bias=True)\n",
      ")\n",
      "Number of parameters: 64869\n"
     ]
    }
   ],
   "source": [
    "print(model)\n",
    "print(f\"Number of parameters: {sum(p.numel() for p in model.parameters() if p.requires_grad)}\")\n"
   ]
  },
  {
   "cell_type": "code",
   "execution_count": null,
   "id": "fbe50858",
   "metadata": {},
   "outputs": [
    {
     "name": "stderr",
     "output_type": "stream",
     "text": [
      "Epoch 1/100: 100%|██████████| 10/10 [00:32<00:00,  3.21s/it]\n"
     ]
    },
    {
     "name": "stdout",
     "output_type": "stream",
     "text": [
      "Epoch 1/100 | Train Loss: 1.6058 | Train Acc: 0.0910 | Val Loss: 1.5870 | Val Acc: 0.1190 | LR: 0.001000\n"
     ]
    },
    {
     "name": "stderr",
     "output_type": "stream",
     "text": [
      "Epoch 2/100: 100%|██████████| 10/10 [00:36<00:00,  3.66s/it]\n"
     ]
    },
    {
     "name": "stdout",
     "output_type": "stream",
     "text": [
      "Epoch 2/100 | Train Loss: 1.5789 | Train Acc: 0.2318 | Val Loss: 1.5474 | Val Acc: 0.3588 | LR: 0.001000\n"
     ]
    },
    {
     "name": "stderr",
     "output_type": "stream",
     "text": [
      "Epoch 3/100: 100%|██████████| 10/10 [00:34<00:00,  3.47s/it]\n"
     ]
    },
    {
     "name": "stdout",
     "output_type": "stream",
     "text": [
      "Epoch 3/100 | Train Loss: 1.5296 | Train Acc: 0.4266 | Val Loss: 1.4894 | Val Acc: 0.5340 | LR: 0.001000\n"
     ]
    },
    {
     "name": "stderr",
     "output_type": "stream",
     "text": [
      "Epoch 4/100: 100%|██████████| 10/10 [00:34<00:00,  3.43s/it]\n"
     ]
    },
    {
     "name": "stdout",
     "output_type": "stream",
     "text": [
      "Epoch 4/100 | Train Loss: 1.4773 | Train Acc: 0.5427 | Val Loss: 1.4677 | Val Acc: 0.5816 | LR: 0.001000\n"
     ]
    },
    {
     "name": "stderr",
     "output_type": "stream",
     "text": [
      "Epoch 5/100: 100%|██████████| 10/10 [00:34<00:00,  3.43s/it]\n"
     ]
    },
    {
     "name": "stdout",
     "output_type": "stream",
     "text": [
      "Epoch 5/100 | Train Loss: 1.4219 | Train Acc: 0.5572 | Val Loss: 1.3863 | Val Acc: 0.5527 | LR: 0.001000\n"
     ]
    },
    {
     "name": "stderr",
     "output_type": "stream",
     "text": [
      "Epoch 6/100: 100%|██████████| 10/10 [00:37<00:00,  3.73s/it]\n"
     ]
    },
    {
     "name": "stdout",
     "output_type": "stream",
     "text": [
      "Epoch 6/100 | Train Loss: 1.3388 | Train Acc: 0.5402 | Val Loss: 1.2640 | Val Acc: 0.6054 | LR: 0.001000\n"
     ]
    },
    {
     "name": "stderr",
     "output_type": "stream",
     "text": [
      "Epoch 7/100: 100%|██████████| 10/10 [00:37<00:00,  3.77s/it]\n"
     ]
    },
    {
     "name": "stdout",
     "output_type": "stream",
     "text": [
      "Epoch 7/100 | Train Loss: 1.2136 | Train Acc: 0.5483 | Val Loss: 1.1348 | Val Acc: 0.5680 | LR: 0.001000\n"
     ]
    },
    {
     "name": "stderr",
     "output_type": "stream",
     "text": [
      "Epoch 8/100: 100%|██████████| 10/10 [00:31<00:00,  3.18s/it]\n"
     ]
    },
    {
     "name": "stdout",
     "output_type": "stream",
     "text": [
      "Epoch 8/100 | Train Loss: 1.1091 | Train Acc: 0.5980 | Val Loss: 1.0562 | Val Acc: 0.6190 | LR: 0.001000\n"
     ]
    },
    {
     "name": "stderr",
     "output_type": "stream",
     "text": [
      "Epoch 9/100: 100%|██████████| 10/10 [00:33<00:00,  3.33s/it]\n"
     ]
    },
    {
     "name": "stdout",
     "output_type": "stream",
     "text": [
      "Epoch 9/100 | Train Loss: 1.0320 | Train Acc: 0.6223 | Val Loss: 0.9935 | Val Acc: 0.6582 | LR: 0.001000\n"
     ]
    },
    {
     "name": "stderr",
     "output_type": "stream",
     "text": [
      "Epoch 10/100: 100%|██████████| 10/10 [00:36<00:00,  3.69s/it]\n"
     ]
    },
    {
     "name": "stdout",
     "output_type": "stream",
     "text": [
      "Epoch 10/100 | Train Loss: 0.9509 | Train Acc: 0.6767 | Val Loss: 0.9627 | Val Acc: 0.7194 | LR: 0.001000\n"
     ]
    },
    {
     "name": "stderr",
     "output_type": "stream",
     "text": [
      "Epoch 11/100: 100%|██████████| 10/10 [00:36<00:00,  3.69s/it]\n"
     ]
    },
    {
     "name": "stdout",
     "output_type": "stream",
     "text": [
      "Epoch 11/100 | Train Loss: 0.8807 | Train Acc: 0.7023 | Val Loss: 0.9241 | Val Acc: 0.6701 | LR: 0.001000\n"
     ]
    },
    {
     "name": "stderr",
     "output_type": "stream",
     "text": [
      "Epoch 12/100: 100%|██████████| 10/10 [00:39<00:00,  3.95s/it]\n"
     ]
    },
    {
     "name": "stdout",
     "output_type": "stream",
     "text": [
      "Epoch 12/100 | Train Loss: 0.8821 | Train Acc: 0.6972 | Val Loss: 0.9153 | Val Acc: 0.7126 | LR: 0.001000\n"
     ]
    },
    {
     "name": "stderr",
     "output_type": "stream",
     "text": [
      "Epoch 13/100: 100%|██████████| 10/10 [00:34<00:00,  3.46s/it]\n"
     ]
    },
    {
     "name": "stdout",
     "output_type": "stream",
     "text": [
      "Epoch 13/100 | Train Loss: 0.8859 | Train Acc: 0.6908 | Val Loss: 0.8512 | Val Acc: 0.6769 | LR: 0.001000\n"
     ]
    },
    {
     "name": "stderr",
     "output_type": "stream",
     "text": [
      "Epoch 14/100: 100%|██████████| 10/10 [00:35<00:00,  3.59s/it]\n"
     ]
    },
    {
     "name": "stdout",
     "output_type": "stream",
     "text": [
      "Epoch 14/100 | Train Loss: 0.7847 | Train Acc: 0.7150 | Val Loss: 0.8303 | Val Acc: 0.6956 | LR: 0.001000\n"
     ]
    },
    {
     "name": "stderr",
     "output_type": "stream",
     "text": [
      "Epoch 15/100: 100%|██████████| 10/10 [00:37<00:00,  3.78s/it]\n"
     ]
    },
    {
     "name": "stdout",
     "output_type": "stream",
     "text": [
      "Epoch 15/100 | Train Loss: 0.7394 | Train Acc: 0.7184 | Val Loss: 0.8490 | Val Acc: 0.7109 | LR: 0.001000\n",
      "Early stopping counter: 1/8\n"
     ]
    },
    {
     "name": "stderr",
     "output_type": "stream",
     "text": [
      "Epoch 16/100: 100%|██████████| 10/10 [00:36<00:00,  3.67s/it]\n"
     ]
    },
    {
     "name": "stdout",
     "output_type": "stream",
     "text": [
      "Epoch 16/100 | Train Loss: 0.6928 | Train Acc: 0.7363 | Val Loss: 0.8019 | Val Acc: 0.7007 | LR: 0.001000\n"
     ]
    },
    {
     "name": "stderr",
     "output_type": "stream",
     "text": [
      "Epoch 17/100: 100%|██████████| 10/10 [00:36<00:00,  3.64s/it]\n"
     ]
    },
    {
     "name": "stdout",
     "output_type": "stream",
     "text": [
      "Epoch 17/100 | Train Loss: 0.6666 | Train Acc: 0.7478 | Val Loss: 0.7761 | Val Acc: 0.7466 | LR: 0.001000\n"
     ]
    },
    {
     "name": "stderr",
     "output_type": "stream",
     "text": [
      "Epoch 18/100: 100%|██████████| 10/10 [00:38<00:00,  3.84s/it]\n"
     ]
    },
    {
     "name": "stdout",
     "output_type": "stream",
     "text": [
      "Epoch 18/100 | Train Loss: 0.6247 | Train Acc: 0.7720 | Val Loss: 0.7411 | Val Acc: 0.7160 | LR: 0.001000\n"
     ]
    },
    {
     "name": "stderr",
     "output_type": "stream",
     "text": [
      "Epoch 19/100: 100%|██████████| 10/10 [00:32<00:00,  3.20s/it]\n"
     ]
    },
    {
     "name": "stdout",
     "output_type": "stream",
     "text": [
      "Epoch 19/100 | Train Loss: 0.5778 | Train Acc: 0.7797 | Val Loss: 0.7099 | Val Acc: 0.7670 | LR: 0.001000\n"
     ]
    },
    {
     "name": "stderr",
     "output_type": "stream",
     "text": [
      "Epoch 20/100: 100%|██████████| 10/10 [00:32<00:00,  3.30s/it]\n"
     ]
    },
    {
     "name": "stdout",
     "output_type": "stream",
     "text": [
      "Epoch 20/100 | Train Loss: 0.7094 | Train Acc: 0.6325 | Val Loss: 0.7333 | Val Acc: 0.7483 | LR: 0.001000\n",
      "Early stopping counter: 1/8\n"
     ]
    },
    {
     "name": "stderr",
     "output_type": "stream",
     "text": [
      "Epoch 21/100: 100%|██████████| 10/10 [00:34<00:00,  3.41s/it]\n"
     ]
    },
    {
     "name": "stdout",
     "output_type": "stream",
     "text": [
      "Epoch 21/100 | Train Loss: 0.5807 | Train Acc: 0.7869 | Val Loss: 0.7292 | Val Acc: 0.7245 | LR: 0.001000\n",
      "Early stopping counter: 2/8\n"
     ]
    },
    {
     "name": "stderr",
     "output_type": "stream",
     "text": [
      "Epoch 22/100: 100%|██████████| 10/10 [00:31<00:00,  3.17s/it]\n"
     ]
    },
    {
     "name": "stdout",
     "output_type": "stream",
     "text": [
      "Epoch 22/100 | Train Loss: 0.6004 | Train Acc: 0.7320 | Val Loss: 1.0446 | Val Acc: 0.3452 | LR: 0.001000\n",
      "Early stopping counter: 3/8\n"
     ]
    },
    {
     "name": "stderr",
     "output_type": "stream",
     "text": [
      "Epoch 23/100: 100%|██████████| 10/10 [00:35<00:00,  3.56s/it]\n"
     ]
    },
    {
     "name": "stdout",
     "output_type": "stream",
     "text": [
      "Epoch 23/100 | Train Loss: 0.7897 | Train Acc: 0.4109 | Val Loss: 0.8280 | Val Acc: 0.4422 | LR: 0.001000\n",
      "Early stopping counter: 4/8\n"
     ]
    },
    {
     "name": "stderr",
     "output_type": "stream",
     "text": [
      "Epoch 24/100: 100%|██████████| 10/10 [00:35<00:00,  3.56s/it]\n"
     ]
    },
    {
     "name": "stdout",
     "output_type": "stream",
     "text": [
      "Epoch 24/100 | Train Loss: 0.6907 | Train Acc: 0.6410 | Val Loss: 0.8003 | Val Acc: 0.7143 | LR: 0.001000\n",
      "Early stopping counter: 5/8\n"
     ]
    },
    {
     "name": "stderr",
     "output_type": "stream",
     "text": [
      "Epoch 25/100: 100%|██████████| 10/10 [00:33<00:00,  3.32s/it]\n"
     ]
    },
    {
     "name": "stdout",
     "output_type": "stream",
     "text": [
      "Epoch 25/100 | Train Loss: 0.6110 | Train Acc: 0.7227 | Val Loss: 0.7291 | Val Acc: 0.7517 | LR: 0.000500\n",
      "Early stopping counter: 6/8\n"
     ]
    },
    {
     "name": "stderr",
     "output_type": "stream",
     "text": [
      "Epoch 26/100: 100%|██████████| 10/10 [00:36<00:00,  3.66s/it]\n"
     ]
    },
    {
     "name": "stdout",
     "output_type": "stream",
     "text": [
      "Epoch 26/100 | Train Loss: 0.5536 | Train Acc: 0.7707 | Val Loss: 0.7199 | Val Acc: 0.7483 | LR: 0.000500\n",
      "Early stopping counter: 7/8\n"
     ]
    },
    {
     "name": "stderr",
     "output_type": "stream",
     "text": [
      "Epoch 27/100: 100%|██████████| 10/10 [00:37<00:00,  3.79s/it]\n"
     ]
    },
    {
     "name": "stdout",
     "output_type": "stream",
     "text": [
      "Epoch 27/100 | Train Loss: 0.5256 | Train Acc: 0.7771 | Val Loss: 0.7001 | Val Acc: 0.7823 | LR: 0.000500\n"
     ]
    },
    {
     "name": "stderr",
     "output_type": "stream",
     "text": [
      "Epoch 28/100: 100%|██████████| 10/10 [00:38<00:00,  3.88s/it]\n"
     ]
    },
    {
     "name": "stdout",
     "output_type": "stream",
     "text": [
      "Epoch 28/100 | Train Loss: 0.5304 | Train Acc: 0.8124 | Val Loss: 0.7586 | Val Acc: 0.7143 | LR: 0.000500\n",
      "Early stopping counter: 1/8\n"
     ]
    },
    {
     "name": "stderr",
     "output_type": "stream",
     "text": [
      "Epoch 29/100: 100%|██████████| 10/10 [00:35<00:00,  3.57s/it]\n"
     ]
    },
    {
     "name": "stdout",
     "output_type": "stream",
     "text": [
      "Epoch 29/100 | Train Loss: 0.5591 | Train Acc: 0.7516 | Val Loss: 0.7265 | Val Acc: 0.7432 | LR: 0.000500\n",
      "Early stopping counter: 2/8\n"
     ]
    },
    {
     "name": "stderr",
     "output_type": "stream",
     "text": [
      "Epoch 30/100: 100%|██████████| 10/10 [00:32<00:00,  3.20s/it]\n"
     ]
    },
    {
     "name": "stdout",
     "output_type": "stream",
     "text": [
      "Epoch 30/100 | Train Loss: 0.4963 | Train Acc: 0.7886 | Val Loss: 0.7470 | Val Acc: 0.7687 | LR: 0.000500\n",
      "Early stopping counter: 3/8\n"
     ]
    },
    {
     "name": "stderr",
     "output_type": "stream",
     "text": [
      "Epoch 31/100: 100%|██████████| 10/10 [00:35<00:00,  3.52s/it]\n"
     ]
    },
    {
     "name": "stdout",
     "output_type": "stream",
     "text": [
      "Epoch 31/100 | Train Loss: 0.4795 | Train Acc: 0.8056 | Val Loss: 0.6733 | Val Acc: 0.7670 | LR: 0.000500\n"
     ]
    },
    {
     "name": "stderr",
     "output_type": "stream",
     "text": [
      "Epoch 32/100: 100%|██████████| 10/10 [00:35<00:00,  3.55s/it]\n"
     ]
    },
    {
     "name": "stdout",
     "output_type": "stream",
     "text": [
      "Epoch 32/100 | Train Loss: 0.4560 | Train Acc: 0.8116 | Val Loss: 0.7232 | Val Acc: 0.7772 | LR: 0.000500\n",
      "Early stopping counter: 1/8\n"
     ]
    },
    {
     "name": "stderr",
     "output_type": "stream",
     "text": [
      "Epoch 33/100: 100%|██████████| 10/10 [00:34<00:00,  3.50s/it]\n"
     ]
    },
    {
     "name": "stdout",
     "output_type": "stream",
     "text": [
      "Epoch 33/100 | Train Loss: 0.4545 | Train Acc: 0.8124 | Val Loss: 0.6638 | Val Acc: 0.7636 | LR: 0.000500\n"
     ]
    },
    {
     "name": "stderr",
     "output_type": "stream",
     "text": [
      "Epoch 34/100: 100%|██████████| 10/10 [00:32<00:00,  3.21s/it]\n"
     ]
    },
    {
     "name": "stdout",
     "output_type": "stream",
     "text": [
      "Epoch 34/100 | Train Loss: 0.4321 | Train Acc: 0.8265 | Val Loss: 0.6813 | Val Acc: 0.8010 | LR: 0.000500\n",
      "Early stopping counter: 1/8\n"
     ]
    },
    {
     "name": "stderr",
     "output_type": "stream",
     "text": [
      "Epoch 35/100: 100%|██████████| 10/10 [00:33<00:00,  3.39s/it]\n"
     ]
    },
    {
     "name": "stdout",
     "output_type": "stream",
     "text": [
      "Epoch 35/100 | Train Loss: 0.4253 | Train Acc: 0.8324 | Val Loss: 0.7056 | Val Acc: 0.7925 | LR: 0.000500\n",
      "Early stopping counter: 2/8\n"
     ]
    },
    {
     "name": "stderr",
     "output_type": "stream",
     "text": [
      "Epoch 36/100: 100%|██████████| 10/10 [00:35<00:00,  3.57s/it]\n"
     ]
    },
    {
     "name": "stdout",
     "output_type": "stream",
     "text": [
      "Epoch 36/100 | Train Loss: 0.4376 | Train Acc: 0.8111 | Val Loss: 0.7105 | Val Acc: 0.7806 | LR: 0.000500\n",
      "Early stopping counter: 3/8\n"
     ]
    },
    {
     "name": "stderr",
     "output_type": "stream",
     "text": [
      "Epoch 37/100: 100%|██████████| 10/10 [00:37<00:00,  3.74s/it]\n"
     ]
    },
    {
     "name": "stdout",
     "output_type": "stream",
     "text": [
      "Epoch 37/100 | Train Loss: 0.4454 | Train Acc: 0.8307 | Val Loss: 0.6468 | Val Acc: 0.7602 | LR: 0.000500\n"
     ]
    },
    {
     "name": "stderr",
     "output_type": "stream",
     "text": [
      "Epoch 38/100: 100%|██████████| 10/10 [00:34<00:00,  3.50s/it]\n"
     ]
    },
    {
     "name": "stdout",
     "output_type": "stream",
     "text": [
      "Epoch 38/100 | Train Loss: 0.4916 | Train Acc: 0.7903 | Val Loss: 0.6268 | Val Acc: 0.8010 | LR: 0.000500\n"
     ]
    },
    {
     "name": "stderr",
     "output_type": "stream",
     "text": [
      "Epoch 39/100: 100%|██████████| 10/10 [00:39<00:00,  3.93s/it]\n"
     ]
    },
    {
     "name": "stdout",
     "output_type": "stream",
     "text": [
      "Epoch 39/100 | Train Loss: 0.4354 | Train Acc: 0.8358 | Val Loss: 0.7692 | Val Acc: 0.7925 | LR: 0.000500\n",
      "Early stopping counter: 1/8\n"
     ]
    },
    {
     "name": "stderr",
     "output_type": "stream",
     "text": [
      "Epoch 40/100: 100%|██████████| 10/10 [00:34<00:00,  3.48s/it]\n"
     ]
    },
    {
     "name": "stdout",
     "output_type": "stream",
     "text": [
      "Epoch 40/100 | Train Loss: 0.4128 | Train Acc: 0.8307 | Val Loss: 0.7266 | Val Acc: 0.8061 | LR: 0.000500\n",
      "Early stopping counter: 2/8\n"
     ]
    },
    {
     "name": "stderr",
     "output_type": "stream",
     "text": [
      "Epoch 41/100: 100%|██████████| 10/10 [00:32<00:00,  3.27s/it]\n"
     ]
    },
    {
     "name": "stdout",
     "output_type": "stream",
     "text": [
      "Epoch 41/100 | Train Loss: 0.3922 | Train Acc: 0.8520 | Val Loss: 0.6711 | Val Acc: 0.8163 | LR: 0.000500\n",
      "Early stopping counter: 3/8\n"
     ]
    },
    {
     "name": "stderr",
     "output_type": "stream",
     "text": [
      "Epoch 42/100: 100%|██████████| 10/10 [00:40<00:00,  4.05s/it]\n"
     ]
    },
    {
     "name": "stdout",
     "output_type": "stream",
     "text": [
      "Epoch 42/100 | Train Loss: 0.3796 | Train Acc: 0.8460 | Val Loss: 0.6760 | Val Acc: 0.8214 | LR: 0.000500\n",
      "Early stopping counter: 4/8\n"
     ]
    },
    {
     "name": "stderr",
     "output_type": "stream",
     "text": [
      "Epoch 43/100: 100%|██████████| 10/10 [00:37<00:00,  3.78s/it]\n"
     ]
    },
    {
     "name": "stdout",
     "output_type": "stream",
     "text": [
      "Epoch 43/100 | Train Loss: 0.3712 | Train Acc: 0.8503 | Val Loss: 0.6298 | Val Acc: 0.7891 | LR: 0.000500\n",
      "Early stopping counter: 5/8\n"
     ]
    },
    {
     "name": "stderr",
     "output_type": "stream",
     "text": [
      "Epoch 44/100: 100%|██████████| 10/10 [00:34<00:00,  3.41s/it]\n"
     ]
    },
    {
     "name": "stdout",
     "output_type": "stream",
     "text": [
      "Epoch 44/100 | Train Loss: 0.3698 | Train Acc: 0.8464 | Val Loss: 0.7511 | Val Acc: 0.8231 | LR: 0.000250\n",
      "Early stopping counter: 6/8\n"
     ]
    },
    {
     "name": "stderr",
     "output_type": "stream",
     "text": [
      "Epoch 45/100: 100%|██████████| 10/10 [00:37<00:00,  3.72s/it]\n"
     ]
    },
    {
     "name": "stdout",
     "output_type": "stream",
     "text": [
      "Epoch 45/100 | Train Loss: 0.3831 | Train Acc: 0.8558 | Val Loss: 0.7010 | Val Acc: 0.8214 | LR: 0.000250\n",
      "Early stopping counter: 7/8\n"
     ]
    },
    {
     "name": "stderr",
     "output_type": "stream",
     "text": [
      "Epoch 46/100: 100%|██████████| 10/10 [00:32<00:00,  3.23s/it]\n"
     ]
    },
    {
     "name": "stdout",
     "output_type": "stream",
     "text": [
      "Epoch 46/100 | Train Loss: 0.3515 | Train Acc: 0.8550 | Val Loss: 0.6673 | Val Acc: 0.8146 | LR: 0.000250\n",
      "Early stopping counter: 8/8\n",
      "Early stopping triggered after 46 epochs.\n"
     ]
    }
   ],
   "source": [
    "from training import Trainer\n",
    "\n",
    "trainer = Trainer(\n",
    "    model=model,\n",
    "    criterion=criterion,\n",
    "    optimizer=optimizer,\n",
    "    scheduler=scheduler,\n",
    "    device=device,\n",
    "    early_stopping=True,\n",
    ")\n",
    "\n",
    "trainer.train(train_loader, val_loader, epochs=100)\n"
   ]
  },
  {
   "cell_type": "code",
   "execution_count": 19,
   "id": "384761a5",
   "metadata": {},
   "outputs": [
    {
     "data": {
      "image/png": "[encoded data removed]",
      "text/plain": [
       "<Figure size 1600x500 with 2 Axes>"
      ]
     },
     "metadata": {},
     "output_type": "display_data"
    }
   ],
   "source": [
    "trainer.plot_training_history()\n"
   ]
  },
  {
   "cell_type": "code",
   "execution_count": 20,
   "id": "018ac341",
   "metadata": {},
   "outputs": [
    {
     "name": "stdout",
     "output_type": "stream",
     "text": [
      "Model saved to ./lstm_model_small.pt\n"
     ]
    }
   ],
   "source": [
    "trainer.save_model(\"./lstm_model_small.pt\")"
   ]
  },
  {
   "cell_type": "markdown",
   "id": "2aa837e1",
   "metadata": {},
   "source": [
    "## Bigger model + bidirectional"
   ]
  },
  {
   "cell_type": "code",
   "execution_count": 21,
   "id": "7e58ad42",
   "metadata": {},
   "outputs": [],
   "source": [
    "VOCAB_SIZE = vocab_size\n",
    "EMBED_DIM = 64\n",
    "HIDDEN_DIM = 128\n",
    "OUTPUT_DIM = 5\n",
    "NUM_LAYERS = 4\n",
    "DROPOUT_P = 0.4\n",
    "LEARNING_RATE = 1e-3\n",
    "WEIGHT_DECAY = 1e-5\n",
    "BI = True\n"
   ]
  },
  {
   "cell_type": "code",
   "execution_count": 22,
   "id": "7d5c48bc",
   "metadata": {},
   "outputs": [],
   "source": [
    "model = LSTMClassifier(\n",
    "        vocab_size=VOCAB_SIZE,\n",
    "        embed_dim=EMBED_DIM,\n",
    "        hidden_dim=HIDDEN_DIM,\n",
    "        output_dim=OUTPUT_DIM,\n",
    "        num_layers=NUM_LAYERS,\n",
    "        dropout_p=DROPOUT_P,\n",
    "        bidirectional=BI\n",
    "    ).to(device)\n"
   ]
  },
  {
   "cell_type": "code",
   "execution_count": 23,
   "id": "1f67faae",
   "metadata": {},
   "outputs": [
    {
     "name": "stdout",
     "output_type": "stream",
     "text": [
      "LSTMClassifier(\n",
      "  (embedding): Embedding(193, 64, padding_idx=0)\n",
      "  (lstm): LSTM(64, 128, num_layers=4, batch_first=True, dropout=0.4, bidirectional=True)\n",
      "  (dropout): Dropout(p=0.4, inplace=False)\n",
      "  (fc): Linear(in_features=256, out_features=5, bias=True)\n",
      ")\n",
      "Number of parameters: 1398085\n"
     ]
    }
   ],
   "source": [
    "criterion = nn.CrossEntropyLoss(weight=class_weights.to(device))\n",
    "optimizer = optim.Adam(model.parameters(), lr=LEARNING_RATE, weight_decay=WEIGHT_DECAY)\n",
    "scheduler = torch.optim.lr_scheduler.ReduceLROnPlateau(optimizer, mode='min', patience=5, factor=0.5)\n",
    "\n",
    "print(model)\n",
    "print(f\"Number of parameters: {sum(p.numel() for p in model.parameters() if p.requires_grad)}\")\n"
   ]
  },
  {
   "cell_type": "code",
   "execution_count": 25,
   "id": "42a68f4d",
   "metadata": {},
   "outputs": [
    {
     "name": "stderr",
     "output_type": "stream",
     "text": [
      "Epoch 1/100:   0%|          | 0/10 [00:00<?, ?it/s]"
     ]
    },
    {
     "name": "stderr",
     "output_type": "stream",
     "text": [
      "Epoch 1/100: 100%|██████████| 10/10 [01:53<00:00, 11.31s/it]\n"
     ]
    },
    {
     "name": "stdout",
     "output_type": "stream",
     "text": [
      "Epoch 1/100 | Train Loss: 1.4118 | Train Acc: 0.4487 | Val Loss: 1.2397 | Val Acc: 0.5867 | LR: 0.001000\n"
     ]
    },
    {
     "name": "stderr",
     "output_type": "stream",
     "text": [
      "Epoch 2/100: 100%|██████████| 10/10 [01:53<00:00, 11.37s/it]\n"
     ]
    },
    {
     "name": "stdout",
     "output_type": "stream",
     "text": [
      "Epoch 2/100 | Train Loss: 1.1865 | Train Acc: 0.5853 | Val Loss: 1.1111 | Val Acc: 0.6105 | LR: 0.001000\n"
     ]
    },
    {
     "name": "stderr",
     "output_type": "stream",
     "text": [
      "Epoch 3/100: 100%|██████████| 10/10 [01:52<00:00, 11.25s/it]\n"
     ]
    },
    {
     "name": "stdout",
     "output_type": "stream",
     "text": [
      "Epoch 3/100 | Train Loss: 1.0162 | Train Acc: 0.6151 | Val Loss: 0.9276 | Val Acc: 0.6786 | LR: 0.001000\n"
     ]
    },
    {
     "name": "stderr",
     "output_type": "stream",
     "text": [
      "Epoch 4/100: 100%|██████████| 10/10 [01:56<00:00, 11.69s/it]\n"
     ]
    },
    {
     "name": "stdout",
     "output_type": "stream",
     "text": [
      "Epoch 4/100 | Train Loss: 0.8863 | Train Acc: 0.6555 | Val Loss: 0.9289 | Val Acc: 0.7126 | LR: 0.001000\n",
      "Early stopping counter: 1/8\n"
     ]
    },
    {
     "name": "stderr",
     "output_type": "stream",
     "text": [
      "Epoch 5/100: 100%|██████████| 10/10 [01:54<00:00, 11.45s/it]\n"
     ]
    },
    {
     "name": "stdout",
     "output_type": "stream",
     "text": [
      "Epoch 5/100 | Train Loss: 0.7917 | Train Acc: 0.6963 | Val Loss: 0.8455 | Val Acc: 0.6446 | LR: 0.001000\n"
     ]
    },
    {
     "name": "stderr",
     "output_type": "stream",
     "text": [
      "Epoch 6/100: 100%|██████████| 10/10 [02:03<00:00, 12.34s/it]\n"
     ]
    },
    {
     "name": "stdout",
     "output_type": "stream",
     "text": [
      "Epoch 6/100 | Train Loss: 0.6784 | Train Acc: 0.7197 | Val Loss: 0.6960 | Val Acc: 0.7602 | LR: 0.001000\n"
     ]
    },
    {
     "name": "stderr",
     "output_type": "stream",
     "text": [
      "Epoch 7/100: 100%|██████████| 10/10 [01:54<00:00, 11.43s/it]\n"
     ]
    },
    {
     "name": "stdout",
     "output_type": "stream",
     "text": [
      "Epoch 7/100 | Train Loss: 0.5489 | Train Acc: 0.7788 | Val Loss: 0.6272 | Val Acc: 0.8146 | LR: 0.001000\n"
     ]
    },
    {
     "name": "stderr",
     "output_type": "stream",
     "text": [
      "Epoch 8/100: 100%|██████████| 10/10 [02:05<00:00, 12.54s/it]\n"
     ]
    },
    {
     "name": "stdout",
     "output_type": "stream",
     "text": [
      "Epoch 8/100 | Train Loss: 0.5109 | Train Acc: 0.7950 | Val Loss: 0.7040 | Val Acc: 0.7432 | LR: 0.001000\n",
      "Early stopping counter: 1/8\n"
     ]
    },
    {
     "name": "stderr",
     "output_type": "stream",
     "text": [
      "Epoch 9/100: 100%|██████████| 10/10 [01:48<00:00, 10.80s/it]\n"
     ]
    },
    {
     "name": "stdout",
     "output_type": "stream",
     "text": [
      "Epoch 9/100 | Train Loss: 0.4592 | Train Acc: 0.8056 | Val Loss: 0.7081 | Val Acc: 0.8095 | LR: 0.001000\n",
      "Early stopping counter: 2/8\n"
     ]
    },
    {
     "name": "stderr",
     "output_type": "stream",
     "text": [
      "Epoch 10/100: 100%|██████████| 10/10 [02:07<00:00, 12.74s/it]\n"
     ]
    },
    {
     "name": "stdout",
     "output_type": "stream",
     "text": [
      "Epoch 10/100 | Train Loss: 0.4931 | Train Acc: 0.8124 | Val Loss: 0.5339 | Val Acc: 0.8537 | LR: 0.001000\n"
     ]
    },
    {
     "name": "stderr",
     "output_type": "stream",
     "text": [
      "Epoch 11/100: 100%|██████████| 10/10 [02:16<00:00, 13.63s/it]\n"
     ]
    },
    {
     "name": "stdout",
     "output_type": "stream",
     "text": [
      "Epoch 11/100 | Train Loss: 0.3968 | Train Acc: 0.8681 | Val Loss: 0.5617 | Val Acc: 0.8571 | LR: 0.001000\n",
      "Early stopping counter: 1/8\n"
     ]
    },
    {
     "name": "stderr",
     "output_type": "stream",
     "text": [
      "Epoch 12/100: 100%|██████████| 10/10 [02:23<00:00, 14.35s/it]\n"
     ]
    },
    {
     "name": "stdout",
     "output_type": "stream",
     "text": [
      "Epoch 12/100 | Train Loss: 0.3434 | Train Acc: 0.8775 | Val Loss: 0.5566 | Val Acc: 0.8520 | LR: 0.001000\n",
      "Early stopping counter: 2/8\n"
     ]
    },
    {
     "name": "stderr",
     "output_type": "stream",
     "text": [
      "Epoch 13/100: 100%|██████████| 10/10 [02:05<00:00, 12.50s/it]\n"
     ]
    },
    {
     "name": "stdout",
     "output_type": "stream",
     "text": [
      "Epoch 13/100 | Train Loss: 0.2639 | Train Acc: 0.9030 | Val Loss: 0.5730 | Val Acc: 0.8741 | LR: 0.001000\n",
      "Early stopping counter: 3/8\n"
     ]
    },
    {
     "name": "stderr",
     "output_type": "stream",
     "text": [
      "Epoch 14/100: 100%|██████████| 10/10 [02:04<00:00, 12.41s/it]\n"
     ]
    },
    {
     "name": "stdout",
     "output_type": "stream",
     "text": [
      "Epoch 14/100 | Train Loss: 0.2271 | Train Acc: 0.9192 | Val Loss: 0.4465 | Val Acc: 0.8486 | LR: 0.001000\n"
     ]
    },
    {
     "name": "stderr",
     "output_type": "stream",
     "text": [
      "Epoch 15/100: 100%|██████████| 10/10 [01:58<00:00, 11.86s/it]\n"
     ]
    },
    {
     "name": "stdout",
     "output_type": "stream",
     "text": [
      "Epoch 15/100 | Train Loss: 0.2328 | Train Acc: 0.9017 | Val Loss: 0.4917 | Val Acc: 0.8759 | LR: 0.001000\n",
      "Early stopping counter: 1/8\n"
     ]
    },
    {
     "name": "stderr",
     "output_type": "stream",
     "text": [
      "Epoch 16/100: 100%|██████████| 10/10 [02:01<00:00, 12.10s/it]\n"
     ]
    },
    {
     "name": "stdout",
     "output_type": "stream",
     "text": [
      "Epoch 16/100 | Train Loss: 0.2173 | Train Acc: 0.9200 | Val Loss: 0.4868 | Val Acc: 0.8622 | LR: 0.001000\n",
      "Early stopping counter: 2/8\n"
     ]
    },
    {
     "name": "stderr",
     "output_type": "stream",
     "text": [
      "Epoch 17/100: 100%|██████████| 10/10 [02:04<00:00, 12.45s/it]\n"
     ]
    },
    {
     "name": "stdout",
     "output_type": "stream",
     "text": [
      "Epoch 17/100 | Train Loss: 0.2002 | Train Acc: 0.9256 | Val Loss: 0.4649 | Val Acc: 0.8520 | LR: 0.001000\n",
      "Early stopping counter: 3/8\n"
     ]
    },
    {
     "name": "stderr",
     "output_type": "stream",
     "text": [
      "Epoch 18/100: 100%|██████████| 10/10 [01:58<00:00, 11.90s/it]\n"
     ]
    },
    {
     "name": "stdout",
     "output_type": "stream",
     "text": [
      "Epoch 18/100 | Train Loss: 0.2037 | Train Acc: 0.9226 | Val Loss: 0.5058 | Val Acc: 0.8469 | LR: 0.001000\n",
      "Early stopping counter: 4/8\n"
     ]
    },
    {
     "name": "stderr",
     "output_type": "stream",
     "text": [
      "Epoch 19/100: 100%|██████████| 10/10 [01:59<00:00, 11.93s/it]\n"
     ]
    },
    {
     "name": "stdout",
     "output_type": "stream",
     "text": [
      "Epoch 19/100 | Train Loss: 0.1912 | Train Acc: 0.9268 | Val Loss: 0.4337 | Val Acc: 0.8878 | LR: 0.001000\n"
     ]
    },
    {
     "name": "stderr",
     "output_type": "stream",
     "text": [
      "Epoch 20/100: 100%|██████████| 10/10 [02:03<00:00, 12.36s/it]\n"
     ]
    },
    {
     "name": "stdout",
     "output_type": "stream",
     "text": [
      "Epoch 20/100 | Train Loss: 0.2109 | Train Acc: 0.9260 | Val Loss: 0.5021 | Val Acc: 0.8350 | LR: 0.001000\n",
      "Early stopping counter: 1/8\n"
     ]
    },
    {
     "name": "stderr",
     "output_type": "stream",
     "text": [
      "Epoch 21/100: 100%|██████████| 10/10 [02:14<00:00, 13.44s/it]\n"
     ]
    },
    {
     "name": "stdout",
     "output_type": "stream",
     "text": [
      "Epoch 21/100 | Train Loss: 0.1923 | Train Acc: 0.9209 | Val Loss: 0.5211 | Val Acc: 0.8878 | LR: 0.001000\n",
      "Early stopping counter: 2/8\n"
     ]
    },
    {
     "name": "stderr",
     "output_type": "stream",
     "text": [
      "Epoch 22/100: 100%|██████████| 10/10 [02:08<00:00, 12.82s/it]\n"
     ]
    },
    {
     "name": "stdout",
     "output_type": "stream",
     "text": [
      "Epoch 22/100 | Train Loss: 0.1396 | Train Acc: 0.9430 | Val Loss: 0.4901 | Val Acc: 0.8605 | LR: 0.001000\n",
      "Early stopping counter: 3/8\n"
     ]
    },
    {
     "name": "stderr",
     "output_type": "stream",
     "text": [
      "Epoch 23/100: 100%|██████████| 10/10 [02:01<00:00, 12.12s/it]\n"
     ]
    },
    {
     "name": "stdout",
     "output_type": "stream",
     "text": [
      "Epoch 23/100 | Train Loss: 0.1233 | Train Acc: 0.9490 | Val Loss: 0.4918 | Val Acc: 0.8690 | LR: 0.001000\n",
      "Early stopping counter: 4/8\n"
     ]
    },
    {
     "name": "stderr",
     "output_type": "stream",
     "text": [
      "Epoch 24/100: 100%|██████████| 10/10 [02:03<00:00, 12.39s/it]\n"
     ]
    },
    {
     "name": "stdout",
     "output_type": "stream",
     "text": [
      "Epoch 24/100 | Train Loss: 0.1124 | Train Acc: 0.9558 | Val Loss: 0.4747 | Val Acc: 0.8776 | LR: 0.001000\n",
      "Early stopping counter: 5/8\n"
     ]
    },
    {
     "name": "stderr",
     "output_type": "stream",
     "text": [
      "Epoch 25/100: 100%|██████████| 10/10 [02:08<00:00, 12.82s/it]\n"
     ]
    },
    {
     "name": "stdout",
     "output_type": "stream",
     "text": [
      "Epoch 25/100 | Train Loss: 0.1167 | Train Acc: 0.9519 | Val Loss: 0.5259 | Val Acc: 0.8690 | LR: 0.000500\n",
      "Early stopping counter: 6/8\n"
     ]
    },
    {
     "name": "stderr",
     "output_type": "stream",
     "text": [
      "Epoch 26/100: 100%|██████████| 10/10 [02:03<00:00, 12.31s/it]\n"
     ]
    },
    {
     "name": "stdout",
     "output_type": "stream",
     "text": [
      "Epoch 26/100 | Train Loss: 0.1008 | Train Acc: 0.9609 | Val Loss: 0.5169 | Val Acc: 0.8793 | LR: 0.000500\n",
      "Early stopping counter: 7/8\n"
     ]
    },
    {
     "name": "stderr",
     "output_type": "stream",
     "text": [
      "Epoch 27/100: 100%|██████████| 10/10 [02:04<00:00, 12.43s/it]\n"
     ]
    },
    {
     "name": "stdout",
     "output_type": "stream",
     "text": [
      "Epoch 27/100 | Train Loss: 0.0979 | Train Acc: 0.9532 | Val Loss: 0.5067 | Val Acc: 0.8946 | LR: 0.000500\n",
      "Early stopping counter: 8/8\n",
      "Early stopping triggered after 27 epochs.\n"
     ]
    }
   ],
   "source": [
    "from training import Trainer\n",
    "\n",
    "trainer = Trainer(\n",
    "    model=model,\n",
    "    criterion=criterion,\n",
    "    optimizer=optimizer,\n",
    "    scheduler=scheduler,\n",
    "    device=device,\n",
    "    early_stopping=True,\n",
    ")\n",
    "\n",
    "trainer.train(train_loader, val_loader, epochs=100)\n"
   ]
  },
  {
   "cell_type": "code",
   "execution_count": 26,
   "id": "4b9f40e8",
   "metadata": {},
   "outputs": [
    {
     "data": {
      "image/png": "[encoded data removed]",
      "text/plain": [
       "<Figure size 1600x500 with 2 Axes>"
      ]
     },
     "metadata": {},
     "output_type": "display_data"
    }
   ],
   "source": [
    "trainer.plot_training_history()"
   ]
  },
  {
   "cell_type": "code",
   "execution_count": 27,
   "id": "a621e0dc",
   "metadata": {},
   "outputs": [
    {
     "name": "stdout",
     "output_type": "stream",
     "text": [
      "Model saved to ./lstm_model_big.pt\n"
     ]
    }
   ],
   "source": [
    "trainer.save_model(\"./lstm_model_big.pt\")"
   ]
  },
  {
   "cell_type": "markdown",
   "id": "8ea7b250",
   "metadata": {},
   "source": [
    "## Small lstm with just bidirection + info acc per class"
   ]
  },
  {
   "cell_type": "code",
   "execution_count": 13,
   "id": "367995a7",
   "metadata": {},
   "outputs": [],
   "source": [
    "VOCAB_SIZE = vocab_size\n",
    "EMBED_DIM = 32\n",
    "HIDDEN_DIM = 64\n",
    "OUTPUT_DIM = 5\n",
    "NUM_LAYERS = 2\n",
    "DROPOUT_P = 0.4\n",
    "LEARNING_RATE = 1e-3\n",
    "WEIGHT_DECAY = 1e-5\n",
    "BIDIRECTIONAL = True\n"
   ]
  },
  {
   "cell_type": "code",
   "execution_count": 16,
   "id": "f4840795",
   "metadata": {},
   "outputs": [
    {
     "name": "stdout",
     "output_type": "stream",
     "text": [
      "LSTMClassifier(\n",
      "  (embedding): Embedding(193, 32, padding_idx=0)\n",
      "  (lstm): LSTM(32, 64, num_layers=2, batch_first=True, dropout=0.4, bidirectional=True)\n",
      "  (dropout): Dropout(p=0.4, inplace=False)\n",
      "  (fc): Linear(in_features=128, out_features=5, bias=True)\n",
      ")\n",
      "Number of parameters: 156325\n"
     ]
    }
   ],
   "source": [
    "model = LSTMClassifier(\n",
    "        vocab_size=VOCAB_SIZE,\n",
    "        embed_dim=EMBED_DIM,\n",
    "        hidden_dim=HIDDEN_DIM,\n",
    "        output_dim=OUTPUT_DIM,\n",
    "        num_layers=NUM_LAYERS,\n",
    "        dropout_p=DROPOUT_P,\n",
    "        bidirectional=BIDIRECTIONAL\n",
    "    ).to(device)\n",
    "\n",
    "criterion = nn.CrossEntropyLoss(weight=class_weights.to(device))\n",
    "optimizer = optim.Adam(model.parameters(), lr=LEARNING_RATE, weight_decay=WEIGHT_DECAY)\n",
    "scheduler = torch.optim.lr_scheduler.ReduceLROnPlateau(optimizer, mode='min', patience=5, factor=0.5)\n",
    "\n",
    "print(model)\n",
    "print(f\"Number of parameters: {sum(p.numel() for p in model.parameters() if p.requires_grad)}\")"
   ]
  },
  {
   "cell_type": "code",
   "execution_count": 17,
   "id": "0992bb42",
   "metadata": {},
   "outputs": [],
   "source": [
    "from training import Trainer\n",
    "\n",
    "trainer = Trainer(\n",
    "    model=model,\n",
    "    criterion=criterion,\n",
    "    optimizer=optimizer,\n",
    "    scheduler=scheduler,\n",
    "    device=device,\n",
    "    early_stopping=True,\n",
    "    early_stopping_patience=5 # more impatient model\n",
    ")\n"
   ]
  },
  {
   "cell_type": "code",
   "execution_count": 18,
   "id": "c5581b50",
   "metadata": {},
   "outputs": [
    {
     "name": "stderr",
     "output_type": "stream",
     "text": [
      "Epoch 1/100: 100%|██████████| 10/10 [00:15<00:00,  1.56s/it]\n"
     ]
    },
    {
     "name": "stdout",
     "output_type": "stream",
     "text": [
      "Per-class accuracy:\n",
      "  bach: 0.5361 (178/332)\n",
      "  beethoven: 0.4286 (36/84)\n",
      "  debussy: 0.0000 (0/27)\n",
      "  scarlatti: 0.2857 (28/98)\n",
      "  victoria: 0.8298 (39/47)\n",
      "Epoch 1/100 | Train Loss: 1.5984 | Train Acc: 0.3097 | Val Loss: 1.5791 | Val Acc: 0.4779 | LR: 0.001000\n"
     ]
    },
    {
     "name": "stderr",
     "output_type": "stream",
     "text": [
      "Epoch 2/100: 100%|██████████| 10/10 [00:13<00:00,  1.40s/it]\n"
     ]
    },
    {
     "name": "stdout",
     "output_type": "stream",
     "text": [
      "Per-class accuracy:\n",
      "  bach: 0.4729 (157/332)\n",
      "  beethoven: 0.2976 (25/84)\n",
      "  debussy: 0.0370 (1/27)\n",
      "  scarlatti: 0.3265 (32/98)\n",
      "  victoria: 0.9149 (43/47)\n",
      "Epoch 2/100 | Train Loss: 1.5541 | Train Acc: 0.4296 | Val Loss: 1.5196 | Val Acc: 0.4388 | LR: 0.001000\n"
     ]
    },
    {
     "name": "stderr",
     "output_type": "stream",
     "text": [
      "Epoch 3/100: 100%|██████████| 10/10 [00:12<00:00,  1.23s/it]\n"
     ]
    },
    {
     "name": "stdout",
     "output_type": "stream",
     "text": [
      "Per-class accuracy:\n",
      "  bach: 0.5994 (199/332)\n",
      "  beethoven: 0.2024 (17/84)\n",
      "  debussy: 0.2593 (7/27)\n",
      "  scarlatti: 0.4082 (40/98)\n",
      "  victoria: 0.8936 (42/47)\n",
      "Epoch 3/100 | Train Loss: 1.4594 | Train Acc: 0.4645 | Val Loss: 1.3964 | Val Acc: 0.5187 | LR: 0.001000\n"
     ]
    },
    {
     "name": "stderr",
     "output_type": "stream",
     "text": [
      "Epoch 4/100: 100%|██████████| 10/10 [00:14<00:00,  1.41s/it]\n"
     ]
    },
    {
     "name": "stdout",
     "output_type": "stream",
     "text": [
      "Per-class accuracy:\n",
      "  bach: 0.7169 (238/332)\n",
      "  beethoven: 0.2262 (19/84)\n",
      "  debussy: 0.4444 (12/27)\n",
      "  scarlatti: 0.5408 (53/98)\n",
      "  victoria: 0.6383 (30/47)\n",
      "Epoch 4/100 | Train Loss: 1.3186 | Train Acc: 0.5487 | Val Loss: 1.2736 | Val Acc: 0.5986 | LR: 0.001000\n"
     ]
    },
    {
     "name": "stderr",
     "output_type": "stream",
     "text": [
      "Epoch 5/100: 100%|██████████| 10/10 [00:11<00:00,  1.20s/it]\n"
     ]
    },
    {
     "name": "stdout",
     "output_type": "stream",
     "text": [
      "Per-class accuracy:\n",
      "  bach: 0.6867 (228/332)\n",
      "  beethoven: 0.2976 (25/84)\n",
      "  debussy: 0.5556 (15/27)\n",
      "  scarlatti: 0.4898 (48/98)\n",
      "  victoria: 0.8298 (39/47)\n",
      "Epoch 5/100 | Train Loss: 1.1821 | Train Acc: 0.5891 | Val Loss: 1.1487 | Val Acc: 0.6037 | LR: 0.001000\n"
     ]
    },
    {
     "name": "stderr",
     "output_type": "stream",
     "text": [
      "Epoch 6/100: 100%|██████████| 10/10 [00:13<00:00,  1.37s/it]\n"
     ]
    },
    {
     "name": "stdout",
     "output_type": "stream",
     "text": [
      "Per-class accuracy:\n",
      "  bach: 0.6416 (213/332)\n",
      "  beethoven: 0.3571 (30/84)\n",
      "  debussy: 0.5556 (15/27)\n",
      "  scarlatti: 0.6224 (61/98)\n",
      "  victoria: 0.8511 (40/47)\n",
      "Epoch 6/100 | Train Loss: 1.0808 | Train Acc: 0.5980 | Val Loss: 1.0480 | Val Acc: 0.6105 | LR: 0.001000\n"
     ]
    },
    {
     "name": "stderr",
     "output_type": "stream",
     "text": [
      "Epoch 7/100: 100%|██████████| 10/10 [00:13<00:00,  1.31s/it]\n"
     ]
    },
    {
     "name": "stdout",
     "output_type": "stream",
     "text": [
      "Per-class accuracy:\n",
      "  bach: 0.6566 (218/332)\n",
      "  beethoven: 0.4524 (38/84)\n",
      "  debussy: 0.5185 (14/27)\n",
      "  scarlatti: 0.6633 (65/98)\n",
      "  victoria: 0.9149 (43/47)\n",
      "Epoch 7/100 | Train Loss: 0.9763 | Train Acc: 0.6321 | Val Loss: 0.9771 | Val Acc: 0.6429 | LR: 0.001000\n"
     ]
    },
    {
     "name": "stderr",
     "output_type": "stream",
     "text": [
      "Epoch 8/100: 100%|██████████| 10/10 [00:12<00:00,  1.25s/it]\n"
     ]
    },
    {
     "name": "stdout",
     "output_type": "stream",
     "text": [
      "Per-class accuracy:\n",
      "  bach: 0.7651 (254/332)\n",
      "  beethoven: 0.5119 (43/84)\n",
      "  debussy: 0.5926 (16/27)\n",
      "  scarlatti: 0.6735 (66/98)\n",
      "  victoria: 0.8936 (42/47)\n",
      "Epoch 8/100 | Train Loss: 0.8809 | Train Acc: 0.6533 | Val Loss: 0.8664 | Val Acc: 0.7160 | LR: 0.001000\n"
     ]
    },
    {
     "name": "stderr",
     "output_type": "stream",
     "text": [
      "Epoch 9/100: 100%|██████████| 10/10 [00:14<00:00,  1.47s/it]\n"
     ]
    },
    {
     "name": "stdout",
     "output_type": "stream",
     "text": [
      "Per-class accuracy:\n",
      "  bach: 0.7590 (252/332)\n",
      "  beethoven: 0.6429 (54/84)\n",
      "  debussy: 0.4074 (11/27)\n",
      "  scarlatti: 0.7245 (71/98)\n",
      "  victoria: 0.9149 (43/47)\n",
      "Epoch 9/100 | Train Loss: 0.8054 | Train Acc: 0.6818 | Val Loss: 0.8112 | Val Acc: 0.7330 | LR: 0.001000\n"
     ]
    },
    {
     "name": "stderr",
     "output_type": "stream",
     "text": [
      "Epoch 10/100: 100%|██████████| 10/10 [00:13<00:00,  1.36s/it]\n"
     ]
    },
    {
     "name": "stdout",
     "output_type": "stream",
     "text": [
      "Per-class accuracy:\n",
      "  bach: 0.7229 (240/332)\n",
      "  beethoven: 0.6667 (56/84)\n",
      "  debussy: 0.5926 (16/27)\n",
      "  scarlatti: 0.6224 (61/98)\n",
      "  victoria: 0.9787 (46/47)\n",
      "Epoch 10/100 | Train Loss: 0.7184 | Train Acc: 0.7214 | Val Loss: 0.7837 | Val Acc: 0.7126 | LR: 0.001000\n"
     ]
    },
    {
     "name": "stderr",
     "output_type": "stream",
     "text": [
      "Epoch 11/100: 100%|██████████| 10/10 [00:15<00:00,  1.50s/it]\n"
     ]
    },
    {
     "name": "stdout",
     "output_type": "stream",
     "text": [
      "Per-class accuracy:\n",
      "  bach: 0.7861 (261/332)\n",
      "  beethoven: 0.7500 (63/84)\n",
      "  debussy: 0.4815 (13/27)\n",
      "  scarlatti: 0.7143 (70/98)\n",
      "  victoria: 0.9149 (43/47)\n",
      "Epoch 11/100 | Train Loss: 0.6804 | Train Acc: 0.7248 | Val Loss: 0.7812 | Val Acc: 0.7653 | LR: 0.001000\n"
     ]
    },
    {
     "name": "stderr",
     "output_type": "stream",
     "text": [
      "Epoch 12/100: 100%|██████████| 10/10 [00:12<00:00,  1.30s/it]\n"
     ]
    },
    {
     "name": "stdout",
     "output_type": "stream",
     "text": [
      "Per-class accuracy:\n",
      "  bach: 0.8253 (274/332)\n",
      "  beethoven: 0.7143 (60/84)\n",
      "  debussy: 0.5556 (15/27)\n",
      "  scarlatti: 0.6837 (67/98)\n",
      "  victoria: 0.9362 (44/47)\n",
      "Epoch 12/100 | Train Loss: 0.6513 | Train Acc: 0.7325 | Val Loss: 0.7519 | Val Acc: 0.7823 | LR: 0.001000\n"
     ]
    },
    {
     "name": "stderr",
     "output_type": "stream",
     "text": [
      "Epoch 13/100: 100%|██████████| 10/10 [00:15<00:00,  1.55s/it]\n"
     ]
    },
    {
     "name": "stdout",
     "output_type": "stream",
     "text": [
      "Per-class accuracy:\n",
      "  bach: 0.7048 (234/332)\n",
      "  beethoven: 0.7381 (62/84)\n",
      "  debussy: 0.5556 (15/27)\n",
      "  scarlatti: 0.7449 (73/98)\n",
      "  victoria: 0.9362 (44/47)\n",
      "Epoch 13/100 | Train Loss: 0.5892 | Train Acc: 0.7712 | Val Loss: 0.7351 | Val Acc: 0.7279 | LR: 0.001000\n"
     ]
    },
    {
     "name": "stderr",
     "output_type": "stream",
     "text": [
      "Epoch 14/100: 100%|██████████| 10/10 [00:12<00:00,  1.23s/it]\n"
     ]
    },
    {
     "name": "stdout",
     "output_type": "stream",
     "text": [
      "Per-class accuracy:\n",
      "  bach: 0.8614 (286/332)\n",
      "  beethoven: 0.6071 (51/84)\n",
      "  debussy: 0.6296 (17/27)\n",
      "  scarlatti: 0.6939 (68/98)\n",
      "  victoria: 0.9574 (45/47)\n",
      "Epoch 14/100 | Train Loss: 0.5718 | Train Acc: 0.7410 | Val Loss: 0.7222 | Val Acc: 0.7942 | LR: 0.001000\n"
     ]
    },
    {
     "name": "stderr",
     "output_type": "stream",
     "text": [
      "Epoch 15/100: 100%|██████████| 10/10 [00:16<00:00,  1.62s/it]\n"
     ]
    },
    {
     "name": "stdout",
     "output_type": "stream",
     "text": [
      "Per-class accuracy:\n",
      "  bach: 0.3886 (129/332)\n",
      "  beethoven: 0.7143 (60/84)\n",
      "  debussy: 0.4815 (13/27)\n",
      "  scarlatti: 0.7857 (77/98)\n",
      "  victoria: 0.9574 (45/47)\n",
      "Epoch 15/100 | Train Loss: 0.5193 | Train Acc: 0.7929 | Val Loss: 0.8688 | Val Acc: 0.5510 | LR: 0.001000\n",
      "Early stopping counter: 1/5\n"
     ]
    },
    {
     "name": "stderr",
     "output_type": "stream",
     "text": [
      "Epoch 16/100: 100%|██████████| 10/10 [00:17<00:00,  1.75s/it]\n"
     ]
    },
    {
     "name": "stdout",
     "output_type": "stream",
     "text": [
      "Per-class accuracy:\n",
      "  bach: 0.8373 (278/332)\n",
      "  beethoven: 0.6190 (52/84)\n",
      "  debussy: 0.5556 (15/27)\n",
      "  scarlatti: 0.7551 (74/98)\n",
      "  victoria: 0.9149 (43/47)\n",
      "Epoch 16/100 | Train Loss: 0.6247 | Train Acc: 0.6784 | Val Loss: 0.7398 | Val Acc: 0.7857 | LR: 0.001000\n",
      "Early stopping counter: 2/5\n"
     ]
    },
    {
     "name": "stderr",
     "output_type": "stream",
     "text": [
      "Epoch 17/100: 100%|██████████| 10/10 [00:18<00:00,  1.83s/it]\n"
     ]
    },
    {
     "name": "stdout",
     "output_type": "stream",
     "text": [
      "Per-class accuracy:\n",
      "  bach: 0.7771 (258/332)\n",
      "  beethoven: 0.6905 (58/84)\n",
      "  debussy: 0.5185 (14/27)\n",
      "  scarlatti: 0.7551 (74/98)\n",
      "  victoria: 0.9574 (45/47)\n",
      "Epoch 17/100 | Train Loss: 0.5509 | Train Acc: 0.7754 | Val Loss: 0.7311 | Val Acc: 0.7636 | LR: 0.001000\n",
      "Early stopping counter: 3/5\n"
     ]
    },
    {
     "name": "stderr",
     "output_type": "stream",
     "text": [
      "Epoch 18/100: 100%|██████████| 10/10 [00:15<00:00,  1.54s/it]\n"
     ]
    },
    {
     "name": "stdout",
     "output_type": "stream",
     "text": [
      "Per-class accuracy:\n",
      "  bach: 0.7861 (261/332)\n",
      "  beethoven: 0.7024 (59/84)\n",
      "  debussy: 0.5185 (14/27)\n",
      "  scarlatti: 0.7857 (77/98)\n",
      "  victoria: 0.9149 (43/47)\n",
      "Epoch 18/100 | Train Loss: 0.4954 | Train Acc: 0.8043 | Val Loss: 0.7215 | Val Acc: 0.7721 | LR: 0.001000\n"
     ]
    },
    {
     "name": "stderr",
     "output_type": "stream",
     "text": [
      "Epoch 19/100: 100%|██████████| 10/10 [00:18<00:00,  1.82s/it]\n"
     ]
    },
    {
     "name": "stdout",
     "output_type": "stream",
     "text": [
      "Per-class accuracy:\n",
      "  bach: 0.8404 (279/332)\n",
      "  beethoven: 0.7262 (61/84)\n",
      "  debussy: 0.4815 (13/27)\n",
      "  scarlatti: 0.7653 (75/98)\n",
      "  victoria: 0.9362 (44/47)\n",
      "Epoch 19/100 | Train Loss: 0.4446 | Train Acc: 0.8171 | Val Loss: 0.7244 | Val Acc: 0.8027 | LR: 0.001000\n",
      "Early stopping counter: 1/5\n"
     ]
    },
    {
     "name": "stderr",
     "output_type": "stream",
     "text": [
      "Epoch 20/100: 100%|██████████| 10/10 [00:19<00:00,  1.96s/it]\n"
     ]
    },
    {
     "name": "stdout",
     "output_type": "stream",
     "text": [
      "Per-class accuracy:\n",
      "  bach: 0.7620 (253/332)\n",
      "  beethoven: 0.7262 (61/84)\n",
      "  debussy: 0.4815 (13/27)\n",
      "  scarlatti: 0.8163 (80/98)\n",
      "  victoria: 0.8723 (41/47)\n",
      "Epoch 20/100 | Train Loss: 0.4006 | Train Acc: 0.8362 | Val Loss: 0.7124 | Val Acc: 0.7619 | LR: 0.001000\n"
     ]
    },
    {
     "name": "stderr",
     "output_type": "stream",
     "text": [
      "Epoch 21/100: 100%|██████████| 10/10 [00:15<00:00,  1.57s/it]\n"
     ]
    },
    {
     "name": "stdout",
     "output_type": "stream",
     "text": [
      "Per-class accuracy:\n",
      "  bach: 0.8404 (279/332)\n",
      "  beethoven: 0.7381 (62/84)\n",
      "  debussy: 0.5185 (14/27)\n",
      "  scarlatti: 0.7959 (78/98)\n",
      "  victoria: 0.9574 (45/47)\n",
      "Epoch 21/100 | Train Loss: 0.3568 | Train Acc: 0.8635 | Val Loss: 0.7004 | Val Acc: 0.8129 | LR: 0.001000\n"
     ]
    },
    {
     "name": "stderr",
     "output_type": "stream",
     "text": [
      "Epoch 22/100: 100%|██████████| 10/10 [00:19<00:00,  1.97s/it]\n"
     ]
    },
    {
     "name": "stdout",
     "output_type": "stream",
     "text": [
      "Per-class accuracy:\n",
      "  bach: 0.7651 (254/332)\n",
      "  beethoven: 0.7381 (62/84)\n",
      "  debussy: 0.5556 (15/27)\n",
      "  scarlatti: 0.8163 (80/98)\n",
      "  victoria: 0.9149 (43/47)\n",
      "Epoch 22/100 | Train Loss: 0.3338 | Train Acc: 0.8818 | Val Loss: 0.6893 | Val Acc: 0.7721 | LR: 0.001000\n"
     ]
    },
    {
     "name": "stderr",
     "output_type": "stream",
     "text": [
      "Epoch 23/100: 100%|██████████| 10/10 [00:14<00:00,  1.41s/it]\n"
     ]
    },
    {
     "name": "stdout",
     "output_type": "stream",
     "text": [
      "Per-class accuracy:\n",
      "  bach: 0.8102 (269/332)\n",
      "  beethoven: 0.7024 (59/84)\n",
      "  debussy: 0.5185 (14/27)\n",
      "  scarlatti: 0.5816 (57/98)\n",
      "  victoria: 0.9574 (45/47)\n",
      "Epoch 23/100 | Train Loss: 0.5142 | Train Acc: 0.7486 | Val Loss: 0.8094 | Val Acc: 0.7551 | LR: 0.001000\n",
      "Early stopping counter: 1/5\n"
     ]
    },
    {
     "name": "stderr",
     "output_type": "stream",
     "text": [
      "Epoch 24/100: 100%|██████████| 10/10 [00:17<00:00,  1.74s/it]\n"
     ]
    },
    {
     "name": "stdout",
     "output_type": "stream",
     "text": [
      "Per-class accuracy:\n",
      "  bach: 0.8645 (287/332)\n",
      "  beethoven: 0.6548 (55/84)\n",
      "  debussy: 0.4074 (11/27)\n",
      "  scarlatti: 0.7245 (71/98)\n",
      "  victoria: 0.9574 (45/47)\n",
      "Epoch 24/100 | Train Loss: 0.4954 | Train Acc: 0.7775 | Val Loss: 0.7269 | Val Acc: 0.7976 | LR: 0.001000\n",
      "Early stopping counter: 2/5\n"
     ]
    },
    {
     "name": "stderr",
     "output_type": "stream",
     "text": [
      "Epoch 25/100: 100%|██████████| 10/10 [00:18<00:00,  1.87s/it]\n"
     ]
    },
    {
     "name": "stdout",
     "output_type": "stream",
     "text": [
      "Per-class accuracy:\n",
      "  bach: 0.7681 (255/332)\n",
      "  beethoven: 0.6548 (55/84)\n",
      "  debussy: 0.5185 (14/27)\n",
      "  scarlatti: 0.7551 (74/98)\n",
      "  victoria: 0.8511 (40/47)\n",
      "Epoch 25/100 | Train Loss: 0.4364 | Train Acc: 0.8248 | Val Loss: 0.7072 | Val Acc: 0.7449 | LR: 0.001000\n",
      "Early stopping counter: 3/5\n"
     ]
    },
    {
     "name": "stderr",
     "output_type": "stream",
     "text": [
      "Epoch 26/100: 100%|██████████| 10/10 [00:22<00:00,  2.22s/it]\n"
     ]
    },
    {
     "name": "stdout",
     "output_type": "stream",
     "text": [
      "Per-class accuracy:\n",
      "  bach: 0.8614 (286/332)\n",
      "  beethoven: 0.7262 (61/84)\n",
      "  debussy: 0.4815 (13/27)\n",
      "  scarlatti: 0.7755 (76/98)\n",
      "  victoria: 0.9574 (45/47)\n",
      "Epoch 26/100 | Train Loss: 0.4051 | Train Acc: 0.8541 | Val Loss: 0.6761 | Val Acc: 0.8180 | LR: 0.001000\n"
     ]
    },
    {
     "name": "stderr",
     "output_type": "stream",
     "text": [
      "Epoch 27/100: 100%|██████████| 10/10 [00:17<00:00,  1.72s/it]\n"
     ]
    },
    {
     "name": "stdout",
     "output_type": "stream",
     "text": [
      "Per-class accuracy:\n",
      "  bach: 0.8163 (271/332)\n",
      "  beethoven: 0.7619 (64/84)\n",
      "  debussy: 0.5556 (15/27)\n",
      "  scarlatti: 0.7653 (75/98)\n",
      "  victoria: 0.8936 (42/47)\n",
      "Epoch 27/100 | Train Loss: 0.3256 | Train Acc: 0.8669 | Val Loss: 0.6755 | Val Acc: 0.7942 | LR: 0.001000\n"
     ]
    },
    {
     "name": "stderr",
     "output_type": "stream",
     "text": [
      "Epoch 28/100: 100%|██████████| 10/10 [00:14<00:00,  1.48s/it]\n"
     ]
    },
    {
     "name": "stdout",
     "output_type": "stream",
     "text": [
      "Per-class accuracy:\n",
      "  bach: 0.8765 (291/332)\n",
      "  beethoven: 0.6548 (55/84)\n",
      "  debussy: 0.5926 (16/27)\n",
      "  scarlatti: 0.8061 (79/98)\n",
      "  victoria: 0.9362 (44/47)\n",
      "Epoch 28/100 | Train Loss: 0.3346 | Train Acc: 0.8516 | Val Loss: 0.6745 | Val Acc: 0.8248 | LR: 0.001000\n"
     ]
    },
    {
     "name": "stderr",
     "output_type": "stream",
     "text": [
      "Epoch 29/100: 100%|██████████| 10/10 [00:19<00:00,  1.92s/it]\n"
     ]
    },
    {
     "name": "stdout",
     "output_type": "stream",
     "text": [
      "Per-class accuracy:\n",
      "  bach: 0.8494 (282/332)\n",
      "  beethoven: 0.8095 (68/84)\n",
      "  debussy: 0.5926 (16/27)\n",
      "  scarlatti: 0.7653 (75/98)\n",
      "  victoria: 0.9149 (43/47)\n",
      "Epoch 29/100 | Train Loss: 0.3192 | Train Acc: 0.8643 | Val Loss: 0.6925 | Val Acc: 0.8231 | LR: 0.001000\n",
      "Early stopping counter: 1/5\n"
     ]
    },
    {
     "name": "stderr",
     "output_type": "stream",
     "text": [
      "Epoch 30/100: 100%|██████████| 10/10 [00:15<00:00,  1.51s/it]\n"
     ]
    },
    {
     "name": "stdout",
     "output_type": "stream",
     "text": [
      "Per-class accuracy:\n",
      "  bach: 0.8946 (297/332)\n",
      "  beethoven: 0.7024 (59/84)\n",
      "  debussy: 0.5926 (16/27)\n",
      "  scarlatti: 0.7959 (78/98)\n",
      "  victoria: 0.9362 (44/47)\n",
      "Epoch 30/100 | Train Loss: 0.2895 | Train Acc: 0.8898 | Val Loss: 0.6923 | Val Acc: 0.8401 | LR: 0.001000\n",
      "Early stopping counter: 2/5\n"
     ]
    },
    {
     "name": "stderr",
     "output_type": "stream",
     "text": [
      "Epoch 31/100: 100%|██████████| 10/10 [00:16<00:00,  1.61s/it]\n"
     ]
    },
    {
     "name": "stdout",
     "output_type": "stream",
     "text": [
      "Per-class accuracy:\n",
      "  bach: 0.8464 (281/332)\n",
      "  beethoven: 0.7500 (63/84)\n",
      "  debussy: 0.5556 (15/27)\n",
      "  scarlatti: 0.8061 (79/98)\n",
      "  victoria: 0.8723 (41/47)\n",
      "Epoch 31/100 | Train Loss: 0.2552 | Train Acc: 0.8915 | Val Loss: 0.7344 | Val Acc: 0.8146 | LR: 0.001000\n",
      "Early stopping counter: 3/5\n"
     ]
    },
    {
     "name": "stderr",
     "output_type": "stream",
     "text": [
      "Epoch 32/100: 100%|██████████| 10/10 [00:17<00:00,  1.77s/it]\n"
     ]
    },
    {
     "name": "stdout",
     "output_type": "stream",
     "text": [
      "Per-class accuracy:\n",
      "  bach: 0.8072 (268/332)\n",
      "  beethoven: 0.7262 (61/84)\n",
      "  debussy: 0.6296 (17/27)\n",
      "  scarlatti: 0.7959 (78/98)\n",
      "  victoria: 0.9149 (43/47)\n",
      "Epoch 32/100 | Train Loss: 0.2832 | Train Acc: 0.8898 | Val Loss: 0.6493 | Val Acc: 0.7942 | LR: 0.001000\n"
     ]
    },
    {
     "name": "stderr",
     "output_type": "stream",
     "text": [
      "Epoch 33/100: 100%|██████████| 10/10 [00:23<00:00,  2.32s/it]\n"
     ]
    },
    {
     "name": "stdout",
     "output_type": "stream",
     "text": [
      "Per-class accuracy:\n",
      "  bach: 0.9036 (300/332)\n",
      "  beethoven: 0.7262 (61/84)\n",
      "  debussy: 0.6296 (17/27)\n",
      "  scarlatti: 0.7551 (74/98)\n",
      "  victoria: 0.9149 (43/47)\n",
      "Epoch 33/100 | Train Loss: 0.2651 | Train Acc: 0.8860 | Val Loss: 0.6598 | Val Acc: 0.8418 | LR: 0.001000\n",
      "Early stopping counter: 1/5\n"
     ]
    },
    {
     "name": "stderr",
     "output_type": "stream",
     "text": [
      "Epoch 34/100: 100%|██████████| 10/10 [00:20<00:00,  2.01s/it]\n"
     ]
    },
    {
     "name": "stdout",
     "output_type": "stream",
     "text": [
      "Per-class accuracy:\n",
      "  bach: 0.9217 (306/332)\n",
      "  beethoven: 0.7143 (60/84)\n",
      "  debussy: 0.6296 (17/27)\n",
      "  scarlatti: 0.7959 (78/98)\n",
      "  victoria: 0.8511 (40/47)\n",
      "Epoch 34/100 | Train Loss: 0.2311 | Train Acc: 0.9000 | Val Loss: 0.6902 | Val Acc: 0.8520 | LR: 0.001000\n",
      "Early stopping counter: 2/5\n"
     ]
    },
    {
     "name": "stderr",
     "output_type": "stream",
     "text": [
      "Epoch 35/100: 100%|██████████| 10/10 [00:15<00:00,  1.51s/it]\n"
     ]
    },
    {
     "name": "stdout",
     "output_type": "stream",
     "text": [
      "Per-class accuracy:\n",
      "  bach: 0.8705 (289/332)\n",
      "  beethoven: 0.7500 (63/84)\n",
      "  debussy: 0.5926 (16/27)\n",
      "  scarlatti: 0.8163 (80/98)\n",
      "  victoria: 0.9574 (45/47)\n",
      "Epoch 35/100 | Train Loss: 0.2329 | Train Acc: 0.9132 | Val Loss: 0.6803 | Val Acc: 0.8384 | LR: 0.001000\n",
      "Early stopping counter: 3/5\n"
     ]
    },
    {
     "name": "stderr",
     "output_type": "stream",
     "text": [
      "Epoch 36/100: 100%|██████████| 10/10 [00:24<00:00,  2.42s/it]\n"
     ]
    },
    {
     "name": "stdout",
     "output_type": "stream",
     "text": [
      "Per-class accuracy:\n",
      "  bach: 0.9187 (305/332)\n",
      "  beethoven: 0.6429 (54/84)\n",
      "  debussy: 0.5926 (16/27)\n",
      "  scarlatti: 0.8265 (81/98)\n",
      "  victoria: 0.9574 (45/47)\n",
      "Epoch 36/100 | Train Loss: 0.2115 | Train Acc: 0.9256 | Val Loss: 0.7605 | Val Acc: 0.8520 | LR: 0.001000\n",
      "Early stopping counter: 4/5\n"
     ]
    },
    {
     "name": "stderr",
     "output_type": "stream",
     "text": [
      "Epoch 37/100: 100%|██████████| 10/10 [00:18<00:00,  1.80s/it]\n"
     ]
    },
    {
     "name": "stdout",
     "output_type": "stream",
     "text": [
      "Per-class accuracy:\n",
      "  bach: 0.8886 (295/332)\n",
      "  beethoven: 0.6667 (56/84)\n",
      "  debussy: 0.5556 (15/27)\n",
      "  scarlatti: 0.8163 (80/98)\n",
      "  victoria: 0.9787 (46/47)\n",
      "Epoch 37/100 | Train Loss: 0.2459 | Train Acc: 0.8618 | Val Loss: 0.6768 | Val Acc: 0.8367 | LR: 0.001000\n",
      "Early stopping counter: 5/5\n",
      "Early stopping triggered after 37 epochs.\n"
     ]
    }
   ],
   "source": [
    "trainer.train(train_loader, val_loader, epochs=100)"
   ]
  },
  {
   "cell_type": "code",
   "execution_count": 19,
   "id": "1b026222",
   "metadata": {},
   "outputs": [
    {
     "data": {
      "image/png": "[encoded data removed]",
      "text/plain": [
       "<Figure size 1600x500 with 2 Axes>"
      ]
     },
     "metadata": {},
     "output_type": "display_data"
    },
    {
     "name": "stdout",
     "output_type": "stream",
     "text": [
      "Model saved to ./lstm_model_small_bi.pt\n"
     ]
    }
   ],
   "source": [
    "trainer.plot_training_history()\n",
    "trainer.save_model(\"./lstm_model_small_bi.pt\")"
   ]
  }
 ],
 "metadata": {
  "kernelspec": {
   "display_name": ".venv",
   "language": "python",
   "name": "python3"
  },
  "language_info": {
   "codemirror_mode": {
    "name": "ipython",
    "version": 3
   },
   "file_extension": ".py",
   "mimetype": "text/x-python",
   "name": "python",
   "nbconvert_exporter": "python",
   "pygments_lexer": "ipython3",
   "version": "3.10.12"
  }
 },
 "nbformat": 4,
 "nbformat_minor": 5
}
