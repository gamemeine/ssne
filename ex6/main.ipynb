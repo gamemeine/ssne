{
 "cells": [
  {
   "cell_type": "markdown",
   "id": "02dec845",
   "metadata": {},
   "source": [
    "# Recurrent Neural Networks\n",
    "\n",
    "Grzegorz Statkiewicz, Mateusz Matukiewicz"
   ]
  },
  {
   "cell_type": "markdown",
   "id": "c644fa77",
   "metadata": {},
   "source": [
    "## Overview\n",
    "\n",
    "The structure of the direcotry should be as follows:\n",
    "\n",
    "```\n",
    ".\n",
    "├── data\n",
    "│   ├── train.pkl\n",
    "│   └── test_no_target.pkl\n",
    "└── main.ipynb\n",
    "```\n",
    "\n"
   ]
  },
  {
   "cell_type": "markdown",
   "id": "5290e644",
   "metadata": {},
   "source": [
    "## Setup"
   ]
  },
  {
   "cell_type": "markdown",
   "id": "e92cc3a2",
   "metadata": {},
   "source": [
    "Select the device to use"
   ]
  },
  {
   "cell_type": "code",
   "execution_count": 1,
   "id": "0b8098fd",
   "metadata": {},
   "outputs": [
    {
     "name": "stdout",
     "output_type": "stream",
     "text": [
      "Using device: mps\n"
     ]
    }
   ],
   "source": [
    "import torch\n",
    "\n",
    "device = torch.device(\"cuda\") if torch.cuda.is_available() else \"mps\" if torch.backends.mps.is_available() else \"cpu\"\n",
    "print(f\"Using device: {device}\")"
   ]
  },
  {
   "cell_type": "markdown",
   "id": "d05f8042",
   "metadata": {},
   "source": [
    "## Data preparation"
   ]
  },
  {
   "cell_type": "markdown",
   "id": "0c7b2553",
   "metadata": {},
   "source": [
    "Load the data"
   ]
  },
  {
   "cell_type": "code",
   "execution_count": 2,
   "id": "fd66a60a",
   "metadata": {},
   "outputs": [],
   "source": [
    "train_path = \"data/train.pkl\""
   ]
  },
  {
   "cell_type": "code",
   "execution_count": 3,
   "id": "3ab81607",
   "metadata": {},
   "outputs": [
    {
     "name": "stdout",
     "output_type": "stream",
     "text": [
      "Loaded 2939 training samples.\n"
     ]
    }
   ],
   "source": [
    "import pickle\n",
    "\n",
    "with open(train_path, \"rb\") as f:\n",
    "    train_data = pickle.load(f)\n",
    "\n",
    "print(f\"Loaded {len(train_data)} training samples.\")"
   ]
  },
  {
   "cell_type": "markdown",
   "id": "754bdf9f",
   "metadata": {},
   "source": [
    "Print sample data"
   ]
  },
  {
   "cell_type": "code",
   "execution_count": 4,
   "id": "f678d994",
   "metadata": {},
   "outputs": [
    {
     "name": "stdout",
     "output_type": "stream",
     "text": [
      "Sample data: (array([ -1.,  64.,  36., 112.,  47.,  47.,  12.,  12.,  12.,  47.,  92.,\n",
      "        12.,  12.,  12.,  92.,  93.,  15.,  15.,  15., 124., 159.,   6.,\n",
      "        79.,  92.,  45.,  12.,  45., 124.,  12.,  12., 124.,  12., 112.,\n",
      "       112.,  78.,   2.,  47.,  47.,  12.,  12.,  12.,  47.,  92.,  12.,\n",
      "        12.,  12.,  92.,  93.,  15.,  15.,  15., 124., 159.,   6.,  79.,\n",
      "        92.,  45.,  12.,  45., 124.,  12.,  15., 124.,  12., 120., 112.,\n",
      "         8.,   1.,  77.,  44.,  13., 125., 125.,  44.,  44.,  60., 127.,\n",
      "       127.,  92., 127., 127.,  60.,  78.,  12.,  12.,  78.,  30.,  47.,\n",
      "        12.,  47.,  78.,  12.,  12.,  12.,  92.,  92.,  92., 145.,  88.,\n",
      "         2.,  47.,  47.,  13.,  28.,  28.,  92.,   7.,  92., 172., 127.,\n",
      "        28.,  28., 127., 158.,  28., 121.,  60.,  60.,  28.,  12.,  12.,\n",
      "       159.,  77.,  28.,  13.,  28.,  73.,  73.,   0.,   0.,  88.,   1.,\n",
      "        77.,  44.,  13., 125., 125.,  44.,  44.,  60., 127., 127.,  92.,\n",
      "       127., 127.,  60.,  78.,  12.,  12.,  78.,  30.,  47.,  12.,  47.,\n",
      "        78.,  12.,  12.,  12.,  92.,  92.,  92., 145.,  88.,   2.,  47.,\n",
      "        47.,  13.,  28.,  28.,  92.,   7.,  92., 172., 127.,  28.,  28.,\n",
      "       127., 158.,  28., 121.,  60.,  60.,  28.,  12.,  12., 159.,  77.,\n",
      "        28.,  13.,  28.,  73.,  73.,   0.,   0.,  47.,  28.,  36.,  36.,\n",
      "        12.,  12.,  95.,   8., 126.,  28.,  28.,  36.,  12., 140.,  12.,\n",
      "        12.,  95.,  95.,  36.,  36.,  12., 140.,  95.,  89.,  60.,  56.,\n",
      "        95.,  84.,  60.,  60.,  48., 115.,  28.,  28.,  36.,  36.,  12.,\n",
      "        28.,  28., 126., 126.,  28.,  28.,  36.,  12., 140.,  12.,  12.,\n",
      "        95.,  95.,  36.,  36.,  12., 140.,  89.,  60.,  60.,  60.,  95.,\n",
      "        60.,  60.,  56.,  56., 115.,  93., 127., 140., 148.,  15.,  15.,\n",
      "        15., 173.,  47.,  92.,  61., 116.,  92.,  28.,   5.,  12.,  60.,\n",
      "       140.,  41.,  41.,  60., 140., 107.,  11.,  46.,   9., 140., 172.,\n",
      "        60.,  60.,  60.,  34.,  68.,  92.,  14., 158.,   9.,  14., 175.,\n",
      "       167., 126., 126.,  15., 108.,  28.,  12.,  29.,  28.,  60.,  28.,\n",
      "        28., 119.,  12., 140.,  28.,  95., 126.,  28.,  28.,  36., 140.,\n",
      "       140.,  42.,   1.,  93.,  60., 140., 148.,  15.,  15.,  15., 173.,\n",
      "        47.,  92.,  61., 116.,  92.,  28.,   5.,  12.,  60., 140.,  41.,\n",
      "        41.,  60., 140., 107.,  11.,  46.,  34., 140., 124.,  60.,  60.,\n",
      "        60.,  34.,  68.,  92.,  14., 158.,   9.,  14., 175., 167., 126.,\n",
      "       126.,  15., 140.,  28.,  12.,  29.,  28.,  60.,  28.,  28., 119.,\n",
      "        12.,  42.,  95.,  29., 126.,  28.,  28.,  12.,  12., 140.,  53.,\n",
      "         1.,  89.,   2.,  47.,  47.,  12.,  12.,  12.,  47.,  92.,  12.,\n",
      "        12.,  12.,  92.,  93.,  15.,  15.,  15., 124., 159.,   6.,  79.,\n",
      "        92.,  45.,  12.,  45., 124.,  12.,  12., 124.,  12., 112., 112.,\n",
      "        78.,   2.,  47.,  47.,  12.,  12.,  12.,  47.,  92.,  12.,  12.,\n",
      "        12.,  92.,  93.,  15.,  15.,  15., 124., 159.,   6.,  79.,  92.,\n",
      "        45.,  12.,  45., 124.,  12.,  15., 124.,  12., 120., 112.,   8.,\n",
      "         1.,  77.,  44.,  13., 125., 125.,  44.,  44.,  60., 127., 127.,\n",
      "        92., 127., 127.,  60.,  78.,  12.,  12.,  78.,  30.,  47.,  12.,\n",
      "        47.,  78.,  12.,  12.,  12.,  92.,  92.,  92., 145.,  88.,   2.,\n",
      "        47.,  47.,  13.,  28.,  28.,  92.,   7.,  92., 172., 127.,  28.,\n",
      "        28., 127., 158.,  28., 121.,  60.,  60.,  28.,  12.,  12., 159.,\n",
      "        77.,  28.,  13.,  28.,  73.,  73.,   0.,   0.,  88.,   1.,  77.,\n",
      "        44.,  13., 125., 125.,  44.,  44.,  60., 127., 127.,  92., 127.,\n",
      "       127.,  60.,  78.,  12.,  12.,  78.,  30.,  47.,  12.,  47.,  78.,\n",
      "        12.,  12.,  12.,  92.,  92.,  92., 145.,  88.,   2.,  47.,  47.,\n",
      "        13.,  28.,  28.,  92.,   7.,  92., 172., 127.,  28.,  28., 127.,\n",
      "       158.,  28., 121.,  60.,  60.,  28.,  12.,  12., 159.,  77.,  28.,\n",
      "        13.,  28.,  12.,  73.,   0.,   0.,   0.,  -1.]), 0)\n"
     ]
    }
   ],
   "source": [
    "import random\n",
    "\n",
    "\n",
    "idx = random.randint(0, len(train_data) - 1)\n",
    "print(f\"Sample data: {train_data[idx]}\")"
   ]
  },
  {
   "cell_type": "code",
   "execution_count": 5,
   "id": "a51ae7cf",
   "metadata": {},
   "outputs": [
    {
     "name": "stdout",
     "output_type": "stream",
     "text": [
      "Vocab size: 193\n"
     ]
    }
   ],
   "source": [
    "import numpy as np\n",
    "\n",
    "sequences = [torch.tensor(seq, dtype=torch.long) for (seq, label) in train_data]\n",
    "labels = [label for (seq, label) in train_data]\n",
    "\n",
    "# Find the max chord index (vocab size, since chords are ints)\n",
    "all_chords = set()\n",
    "for seq in sequences:\n",
    "    all_chords.update(seq.tolist())\n",
    "vocab_size = int(max(all_chords)) + 2  # +1 for max, +1 for padding idx=0\n",
    "\n",
    "print(f\"Vocab size: {vocab_size}\")"
   ]
  },
  {
   "cell_type": "markdown",
   "id": "871d52c0",
   "metadata": {},
   "source": [
    "Determine the compositors"
   ]
  },
  {
   "cell_type": "code",
   "execution_count": 16,
   "id": "c7c286dc",
   "metadata": {},
   "outputs": [],
   "source": [
    "compositors = {0: 'bach', 1: 'beethoven', 2: 'debussy', 3: 'scarlatti', 4: 'victoria'}"
   ]
  },
  {
   "cell_type": "markdown",
   "id": "d793e311",
   "metadata": {},
   "source": [
    "Prepare the train and test datasets"
   ]
  },
  {
   "cell_type": "code",
   "execution_count": 6,
   "id": "131fa0ae",
   "metadata": {},
   "outputs": [],
   "source": [
    "from torch.utils.data import Dataset, DataLoader\n",
    "from torch.nn.utils.rnn import pad_sequence\n",
    "\n",
    "class ChordDataset(Dataset):\n",
    "    def __init__(self, sequences, labels):\n",
    "        self.sequences = sequences\n",
    "        self.labels = labels\n",
    "    def __len__(self):\n",
    "        return len(self.sequences)\n",
    "    def __getitem__(self, idx):\n",
    "        return self.sequences[idx], self.labels[idx]\n",
    "\n",
    "def collate_fn(batch):\n",
    "    seqs, labels = zip(*batch)\n",
    "    lengths = torch.tensor([len(s) for s in seqs], dtype=torch.long)\n",
    "    padded_seqs = pad_sequence(seqs, batch_first=True, padding_value=0)\n",
    "    return padded_seqs, lengths, torch.tensor(labels, dtype=torch.long)"
   ]
  },
  {
   "cell_type": "code",
   "execution_count": 7,
   "id": "057000a8",
   "metadata": {},
   "outputs": [],
   "source": [
    "from sklearn.model_selection import train_test_split\n",
    "\n",
    "BATCH_SIZE = 256\n",
    "\n",
    "train_data_split, val_data_split = train_test_split(train_data, test_size=0.2, random_state=42)\n",
    "\n",
    "train_sequences = [torch.tensor(seq, dtype=torch.long) for (seq, label) in train_data_split]\n",
    "train_labels = [label for (seq, label) in train_data_split]\n",
    "val_sequences = [torch.tensor(seq, dtype=torch.long) for (seq, label) in val_data_split]\n",
    "val_labels = [label for (seq, label) in val_data_split]"
   ]
  },
  {
   "cell_type": "code",
   "execution_count": 8,
   "id": "c6fc0851",
   "metadata": {},
   "outputs": [],
   "source": [
    "train_dataset = ChordDataset(train_sequences, train_labels)\n",
    "val_dataset = ChordDataset(val_sequences, val_labels)\n",
    "\n",
    "train_loader = DataLoader(train_dataset, batch_size=BATCH_SIZE, shuffle=True, collate_fn=collate_fn)\n",
    "val_loader = DataLoader(val_dataset, batch_size=BATCH_SIZE, shuffle=False, collate_fn=collate_fn)"
   ]
  },
  {
   "cell_type": "markdown",
   "id": "e27f1908",
   "metadata": {},
   "source": [
    "## Create the model"
   ]
  },
  {
   "cell_type": "code",
   "execution_count": 9,
   "id": "c98a55fa",
   "metadata": {},
   "outputs": [],
   "source": [
    "import torch.nn as nn\n",
    "\n",
    "class SimpleRNNClassifier(nn.Module):\n",
    "    def __init__(self, vocab_size, embed_dim, hidden_dim, output_dim, dropout_p=0.5):\n",
    "        super().__init__()\n",
    "        self.embedding = nn.Embedding(vocab_size, embed_dim, padding_idx=0)\n",
    "        self.rnn = nn.GRU(embed_dim, hidden_dim, batch_first=True)\n",
    "        self.dropout = nn.Dropout(dropout_p)\n",
    "        self.fc = nn.Linear(hidden_dim, output_dim)\n",
    "    def forward(self, x, lengths):\n",
    "        x = self.embedding(x)\n",
    "        x = self.dropout(x)\n",
    "        packed = nn.utils.rnn.pack_padded_sequence(x, lengths.cpu(), batch_first=True, enforce_sorted=False)\n",
    "        packed_out, h_n = self.rnn(packed)\n",
    "        h_n = self.dropout(h_n[-1])\n",
    "        logits = self.fc(h_n)\n",
    "        return logits"
   ]
  },
  {
   "cell_type": "markdown",
   "id": "bfa12a00",
   "metadata": {},
   "source": [
    "## Train the model"
   ]
  },
  {
   "cell_type": "code",
   "execution_count": 10,
   "id": "4625a487",
   "metadata": {},
   "outputs": [],
   "source": [
    "def evaluate(model, val_loader, device):\n",
    "    model.eval()\n",
    "    total_correct = 0\n",
    "    total_samples = 0\n",
    "    total_loss = 0\n",
    "    with torch.no_grad():\n",
    "        for batch_seqs, batch_lengths, batch_labels in val_loader:\n",
    "            batch_seqs = batch_seqs.to(device)\n",
    "            batch_lengths = batch_lengths.to(device)\n",
    "            batch_labels = batch_labels.to(device)\n",
    "            logits = model(batch_seqs, batch_lengths)\n",
    "            loss = criterion(logits, batch_labels)\n",
    "            preds = torch.argmax(logits, dim=1)\n",
    "            total_correct += (preds == batch_labels).sum().item()\n",
    "            total_samples += batch_labels.size(0)\n",
    "            total_loss += loss.item() * batch_seqs.size(0)\n",
    "    avg_loss = total_loss / total_samples\n",
    "    accuracy = total_correct / total_samples\n",
    "    return avg_loss, accuracy"
   ]
  },
  {
   "cell_type": "code",
   "execution_count": 11,
   "id": "cb2e39f3",
   "metadata": {},
   "outputs": [],
   "source": [
    "EMBED_DIM = 32\n",
    "HIDDEN_DIM = 64\n",
    "OUTPUT_DIM = 5\n",
    "DROPOUT_P = 0\n",
    "\n",
    "model = SimpleRNNClassifier(vocab_size, EMBED_DIM, HIDDEN_DIM, OUTPUT_DIM, DROPOUT_P).to(device)"
   ]
  },
  {
   "cell_type": "code",
   "execution_count": 12,
   "id": "0aa787b8",
   "metadata": {},
   "outputs": [],
   "source": [
    "counts = torch.tensor([1630, 478, 154, 441, 236], dtype=torch.float)\n",
    "class_weights = 1.0 / counts\n",
    "class_weights = class_weights / class_weights.sum() * len(counts)  # Normalize to num_classes\n",
    "\n",
    "criterion = nn.CrossEntropyLoss(weight=class_weights.to(device))"
   ]
  },
  {
   "cell_type": "code",
   "execution_count": 13,
   "id": "d2ca7223",
   "metadata": {},
   "outputs": [
    {
     "name": "stderr",
     "output_type": "stream",
     "text": [
      "Epoch 1/50: 100%|██████████| 10/10 [00:50<00:00,  5.10s/it]\n"
     ]
    },
    {
     "name": "stdout",
     "output_type": "stream",
     "text": [
      "Epoch 1/50 | Train Loss: 1.5869 | Train Acc: 0.2493 | Val Loss: 1.5515 | Val Acc: 0.3486\n"
     ]
    },
    {
     "name": "stderr",
     "output_type": "stream",
     "text": [
      "Epoch 2/50: 100%|██████████| 10/10 [00:45<00:00,  4.56s/it]\n"
     ]
    },
    {
     "name": "stdout",
     "output_type": "stream",
     "text": [
      "Epoch 2/50 | Train Loss: 1.5194 | Train Acc: 0.3781 | Val Loss: 1.4895 | Val Acc: 0.4320\n"
     ]
    },
    {
     "name": "stderr",
     "output_type": "stream",
     "text": [
      "Epoch 3/50: 100%|██████████| 10/10 [00:44<00:00,  4.44s/it]\n"
     ]
    },
    {
     "name": "stdout",
     "output_type": "stream",
     "text": [
      "Epoch 3/50 | Train Loss: 1.4646 | Train Acc: 0.4551 | Val Loss: 1.4340 | Val Acc: 0.4830\n"
     ]
    },
    {
     "name": "stderr",
     "output_type": "stream",
     "text": [
      "Epoch 4/50: 100%|██████████| 10/10 [00:52<00:00,  5.27s/it]\n"
     ]
    },
    {
     "name": "stdout",
     "output_type": "stream",
     "text": [
      "Epoch 4/50 | Train Loss: 1.4070 | Train Acc: 0.4904 | Val Loss: 1.3800 | Val Acc: 0.5221\n"
     ]
    },
    {
     "name": "stderr",
     "output_type": "stream",
     "text": [
      "Epoch 5/50: 100%|██████████| 10/10 [00:44<00:00,  4.47s/it]\n"
     ]
    },
    {
     "name": "stdout",
     "output_type": "stream",
     "text": [
      "Epoch 5/50 | Train Loss: 1.3482 | Train Acc: 0.5202 | Val Loss: 1.3301 | Val Acc: 0.5578\n"
     ]
    },
    {
     "name": "stderr",
     "output_type": "stream",
     "text": [
      "Epoch 6/50: 100%|██████████| 10/10 [00:51<00:00,  5.19s/it]\n"
     ]
    },
    {
     "name": "stdout",
     "output_type": "stream",
     "text": [
      "Epoch 6/50 | Train Loss: 1.2963 | Train Acc: 0.5623 | Val Loss: 1.2847 | Val Acc: 0.5731\n"
     ]
    },
    {
     "name": "stderr",
     "output_type": "stream",
     "text": [
      "Epoch 7/50: 100%|██████████| 10/10 [00:47<00:00,  4.70s/it]\n"
     ]
    },
    {
     "name": "stdout",
     "output_type": "stream",
     "text": [
      "Epoch 7/50 | Train Loss: 1.2373 | Train Acc: 0.5291 | Val Loss: 1.2121 | Val Acc: 0.5612\n"
     ]
    },
    {
     "name": "stderr",
     "output_type": "stream",
     "text": [
      "Epoch 8/50: 100%|██████████| 10/10 [00:47<00:00,  4.70s/it]\n"
     ]
    },
    {
     "name": "stdout",
     "output_type": "stream",
     "text": [
      "Epoch 8/50 | Train Loss: 1.1626 | Train Acc: 0.5695 | Val Loss: 1.1405 | Val Acc: 0.6259\n"
     ]
    },
    {
     "name": "stderr",
     "output_type": "stream",
     "text": [
      "Epoch 9/50: 100%|██████████| 10/10 [00:44<00:00,  4.49s/it]\n"
     ]
    },
    {
     "name": "stdout",
     "output_type": "stream",
     "text": [
      "Epoch 9/50 | Train Loss: 1.0669 | Train Acc: 0.6027 | Val Loss: 1.0170 | Val Acc: 0.6514\n"
     ]
    },
    {
     "name": "stderr",
     "output_type": "stream",
     "text": [
      "Epoch 10/50: 100%|██████████| 10/10 [00:47<00:00,  4.72s/it]\n"
     ]
    },
    {
     "name": "stdout",
     "output_type": "stream",
     "text": [
      "Epoch 10/50 | Train Loss: 0.9810 | Train Acc: 0.6350 | Val Loss: 0.9569 | Val Acc: 0.6497\n"
     ]
    },
    {
     "name": "stderr",
     "output_type": "stream",
     "text": [
      "Epoch 11/50: 100%|██████████| 10/10 [00:47<00:00,  4.71s/it]\n"
     ]
    },
    {
     "name": "stdout",
     "output_type": "stream",
     "text": [
      "Epoch 11/50 | Train Loss: 0.9078 | Train Acc: 0.6576 | Val Loss: 0.8794 | Val Acc: 0.6939\n"
     ]
    },
    {
     "name": "stderr",
     "output_type": "stream",
     "text": [
      "Epoch 12/50: 100%|██████████| 10/10 [00:42<00:00,  4.26s/it]\n"
     ]
    },
    {
     "name": "stdout",
     "output_type": "stream",
     "text": [
      "Epoch 12/50 | Train Loss: 0.8402 | Train Acc: 0.6823 | Val Loss: 0.8037 | Val Acc: 0.7075\n"
     ]
    },
    {
     "name": "stderr",
     "output_type": "stream",
     "text": [
      "Epoch 13/50: 100%|██████████| 10/10 [00:47<00:00,  4.76s/it]\n"
     ]
    },
    {
     "name": "stdout",
     "output_type": "stream",
     "text": [
      "Epoch 13/50 | Train Loss: 0.7863 | Train Acc: 0.6899 | Val Loss: 0.7713 | Val Acc: 0.7347\n"
     ]
    },
    {
     "name": "stderr",
     "output_type": "stream",
     "text": [
      "Epoch 14/50: 100%|██████████| 10/10 [00:47<00:00,  4.80s/it]\n"
     ]
    },
    {
     "name": "stdout",
     "output_type": "stream",
     "text": [
      "Epoch 14/50 | Train Loss: 0.7467 | Train Acc: 0.7116 | Val Loss: 0.7627 | Val Acc: 0.7075\n"
     ]
    },
    {
     "name": "stderr",
     "output_type": "stream",
     "text": [
      "Epoch 15/50: 100%|██████████| 10/10 [00:45<00:00,  4.56s/it]\n"
     ]
    },
    {
     "name": "stdout",
     "output_type": "stream",
     "text": [
      "Epoch 15/50 | Train Loss: 0.6981 | Train Acc: 0.7210 | Val Loss: 0.7130 | Val Acc: 0.7211\n"
     ]
    },
    {
     "name": "stderr",
     "output_type": "stream",
     "text": [
      "Epoch 16/50: 100%|██████████| 10/10 [00:46<00:00,  4.63s/it]\n"
     ]
    },
    {
     "name": "stdout",
     "output_type": "stream",
     "text": [
      "Epoch 16/50 | Train Loss: 0.6562 | Train Acc: 0.7444 | Val Loss: 0.6719 | Val Acc: 0.7534\n"
     ]
    },
    {
     "name": "stderr",
     "output_type": "stream",
     "text": [
      "Epoch 17/50: 100%|██████████| 10/10 [00:46<00:00,  4.60s/it]\n"
     ]
    },
    {
     "name": "stdout",
     "output_type": "stream",
     "text": [
      "Epoch 17/50 | Train Loss: 0.6182 | Train Acc: 0.7631 | Val Loss: 0.6620 | Val Acc: 0.7670\n"
     ]
    },
    {
     "name": "stderr",
     "output_type": "stream",
     "text": [
      "Epoch 18/50: 100%|██████████| 10/10 [00:55<00:00,  5.53s/it]\n"
     ]
    },
    {
     "name": "stdout",
     "output_type": "stream",
     "text": [
      "Epoch 18/50 | Train Loss: 0.5810 | Train Acc: 0.7877 | Val Loss: 0.6178 | Val Acc: 0.7942\n"
     ]
    },
    {
     "name": "stderr",
     "output_type": "stream",
     "text": [
      "Epoch 19/50: 100%|██████████| 10/10 [00:46<00:00,  4.69s/it]\n"
     ]
    },
    {
     "name": "stdout",
     "output_type": "stream",
     "text": [
      "Epoch 19/50 | Train Loss: 0.5329 | Train Acc: 0.8035 | Val Loss: 0.6094 | Val Acc: 0.7874\n"
     ]
    },
    {
     "name": "stderr",
     "output_type": "stream",
     "text": [
      "Epoch 20/50: 100%|██████████| 10/10 [00:48<00:00,  4.87s/it]\n"
     ]
    },
    {
     "name": "stdout",
     "output_type": "stream",
     "text": [
      "Epoch 20/50 | Train Loss: 0.4949 | Train Acc: 0.8141 | Val Loss: 0.5948 | Val Acc: 0.8112\n"
     ]
    },
    {
     "name": "stderr",
     "output_type": "stream",
     "text": [
      "Epoch 21/50: 100%|██████████| 10/10 [00:47<00:00,  4.75s/it]\n"
     ]
    },
    {
     "name": "stdout",
     "output_type": "stream",
     "text": [
      "Epoch 21/50 | Train Loss: 0.5040 | Train Acc: 0.7988 | Val Loss: 0.6871 | Val Acc: 0.8248\n"
     ]
    },
    {
     "name": "stderr",
     "output_type": "stream",
     "text": [
      "Epoch 22/50: 100%|██████████| 10/10 [00:44<00:00,  4.44s/it]\n"
     ]
    },
    {
     "name": "stdout",
     "output_type": "stream",
     "text": [
      "Epoch 22/50 | Train Loss: 0.5308 | Train Acc: 0.7843 | Val Loss: 0.6333 | Val Acc: 0.7483\n"
     ]
    },
    {
     "name": "stderr",
     "output_type": "stream",
     "text": [
      "Epoch 23/50: 100%|██████████| 10/10 [00:45<00:00,  4.57s/it]\n"
     ]
    },
    {
     "name": "stdout",
     "output_type": "stream",
     "text": [
      "Epoch 23/50 | Train Loss: 0.4946 | Train Acc: 0.8167 | Val Loss: 0.6179 | Val Acc: 0.7806\n"
     ]
    },
    {
     "name": "stderr",
     "output_type": "stream",
     "text": [
      "Epoch 24/50: 100%|██████████| 10/10 [00:46<00:00,  4.69s/it]\n"
     ]
    },
    {
     "name": "stdout",
     "output_type": "stream",
     "text": [
      "Epoch 24/50 | Train Loss: 0.4446 | Train Acc: 0.8252 | Val Loss: 0.5749 | Val Acc: 0.7976\n"
     ]
    },
    {
     "name": "stderr",
     "output_type": "stream",
     "text": [
      "Epoch 25/50: 100%|██████████| 10/10 [00:46<00:00,  4.70s/it]\n"
     ]
    },
    {
     "name": "stdout",
     "output_type": "stream",
     "text": [
      "Epoch 25/50 | Train Loss: 0.4141 | Train Acc: 0.8418 | Val Loss: 0.4979 | Val Acc: 0.8299\n"
     ]
    },
    {
     "name": "stderr",
     "output_type": "stream",
     "text": [
      "Epoch 26/50: 100%|██████████| 10/10 [00:44<00:00,  4.43s/it]\n"
     ]
    },
    {
     "name": "stdout",
     "output_type": "stream",
     "text": [
      "Epoch 26/50 | Train Loss: 0.3739 | Train Acc: 0.8545 | Val Loss: 0.4962 | Val Acc: 0.8452\n"
     ]
    },
    {
     "name": "stderr",
     "output_type": "stream",
     "text": [
      "Epoch 27/50: 100%|██████████| 10/10 [00:45<00:00,  4.60s/it]\n"
     ]
    },
    {
     "name": "stdout",
     "output_type": "stream",
     "text": [
      "Epoch 27/50 | Train Loss: 0.3453 | Train Acc: 0.8652 | Val Loss: 0.4659 | Val Acc: 0.8469\n"
     ]
    },
    {
     "name": "stderr",
     "output_type": "stream",
     "text": [
      "Epoch 28/50: 100%|██████████| 10/10 [00:44<00:00,  4.48s/it]\n"
     ]
    },
    {
     "name": "stdout",
     "output_type": "stream",
     "text": [
      "Epoch 28/50 | Train Loss: 0.3411 | Train Acc: 0.8647 | Val Loss: 0.4586 | Val Acc: 0.8520\n"
     ]
    },
    {
     "name": "stderr",
     "output_type": "stream",
     "text": [
      "Epoch 29/50: 100%|██████████| 10/10 [00:44<00:00,  4.41s/it]\n"
     ]
    },
    {
     "name": "stdout",
     "output_type": "stream",
     "text": [
      "Epoch 29/50 | Train Loss: 0.3061 | Train Acc: 0.8843 | Val Loss: 0.4201 | Val Acc: 0.8622\n"
     ]
    },
    {
     "name": "stderr",
     "output_type": "stream",
     "text": [
      "Epoch 30/50: 100%|██████████| 10/10 [00:47<00:00,  4.70s/it]\n"
     ]
    },
    {
     "name": "stdout",
     "output_type": "stream",
     "text": [
      "Epoch 30/50 | Train Loss: 0.3019 | Train Acc: 0.8864 | Val Loss: 0.4229 | Val Acc: 0.8418\n"
     ]
    },
    {
     "name": "stderr",
     "output_type": "stream",
     "text": [
      "Epoch 31/50: 100%|██████████| 10/10 [00:43<00:00,  4.36s/it]\n"
     ]
    },
    {
     "name": "stdout",
     "output_type": "stream",
     "text": [
      "Epoch 31/50 | Train Loss: 0.2800 | Train Acc: 0.8924 | Val Loss: 0.3907 | Val Acc: 0.8724\n"
     ]
    },
    {
     "name": "stderr",
     "output_type": "stream",
     "text": [
      "Epoch 32/50: 100%|██████████| 10/10 [00:45<00:00,  4.52s/it]\n"
     ]
    },
    {
     "name": "stdout",
     "output_type": "stream",
     "text": [
      "Epoch 32/50 | Train Loss: 0.2524 | Train Acc: 0.9060 | Val Loss: 0.4373 | Val Acc: 0.8503\n"
     ]
    },
    {
     "name": "stderr",
     "output_type": "stream",
     "text": [
      "Epoch 33/50: 100%|██████████| 10/10 [00:46<00:00,  4.61s/it]\n"
     ]
    },
    {
     "name": "stdout",
     "output_type": "stream",
     "text": [
      "Epoch 33/50 | Train Loss: 0.2574 | Train Acc: 0.9022 | Val Loss: 0.4646 | Val Acc: 0.8690\n"
     ]
    },
    {
     "name": "stderr",
     "output_type": "stream",
     "text": [
      "Epoch 34/50: 100%|██████████| 10/10 [00:45<00:00,  4.53s/it]\n"
     ]
    },
    {
     "name": "stdout",
     "output_type": "stream",
     "text": [
      "Epoch 34/50 | Train Loss: 0.2451 | Train Acc: 0.9115 | Val Loss: 0.3916 | Val Acc: 0.8656\n"
     ]
    },
    {
     "name": "stderr",
     "output_type": "stream",
     "text": [
      "Epoch 35/50: 100%|██████████| 10/10 [00:44<00:00,  4.44s/it]\n"
     ]
    },
    {
     "name": "stdout",
     "output_type": "stream",
     "text": [
      "Epoch 35/50 | Train Loss: 0.2251 | Train Acc: 0.9115 | Val Loss: 0.3980 | Val Acc: 0.8486\n"
     ]
    },
    {
     "name": "stderr",
     "output_type": "stream",
     "text": [
      "Epoch 36/50: 100%|██████████| 10/10 [00:44<00:00,  4.44s/it]\n"
     ]
    },
    {
     "name": "stdout",
     "output_type": "stream",
     "text": [
      "Epoch 36/50 | Train Loss: 0.2290 | Train Acc: 0.9124 | Val Loss: 0.4059 | Val Acc: 0.8724\n"
     ]
    },
    {
     "name": "stderr",
     "output_type": "stream",
     "text": [
      "Epoch 37/50: 100%|██████████| 10/10 [00:51<00:00,  5.14s/it]\n"
     ]
    },
    {
     "name": "stdout",
     "output_type": "stream",
     "text": [
      "Epoch 37/50 | Train Loss: 0.2258 | Train Acc: 0.9141 | Val Loss: 0.3946 | Val Acc: 0.8793\n"
     ]
    },
    {
     "name": "stderr",
     "output_type": "stream",
     "text": [
      "Epoch 38/50: 100%|██████████| 10/10 [00:45<00:00,  4.56s/it]\n"
     ]
    },
    {
     "name": "stdout",
     "output_type": "stream",
     "text": [
      "Epoch 38/50 | Train Loss: 0.1944 | Train Acc: 0.9222 | Val Loss: 0.4126 | Val Acc: 0.8878\n"
     ]
    },
    {
     "name": "stderr",
     "output_type": "stream",
     "text": [
      "Epoch 39/50: 100%|██████████| 10/10 [00:47<00:00,  4.72s/it]\n"
     ]
    },
    {
     "name": "stdout",
     "output_type": "stream",
     "text": [
      "Epoch 39/50 | Train Loss: 0.2017 | Train Acc: 0.9188 | Val Loss: 0.3918 | Val Acc: 0.8827\n"
     ]
    },
    {
     "name": "stderr",
     "output_type": "stream",
     "text": [
      "Epoch 40/50: 100%|██████████| 10/10 [00:44<00:00,  4.45s/it]\n"
     ]
    },
    {
     "name": "stdout",
     "output_type": "stream",
     "text": [
      "Epoch 40/50 | Train Loss: 0.1925 | Train Acc: 0.9205 | Val Loss: 0.4465 | Val Acc: 0.8759\n"
     ]
    },
    {
     "name": "stderr",
     "output_type": "stream",
     "text": [
      "Epoch 41/50: 100%|██████████| 10/10 [00:46<00:00,  4.68s/it]\n"
     ]
    },
    {
     "name": "stdout",
     "output_type": "stream",
     "text": [
      "Epoch 41/50 | Train Loss: 0.1954 | Train Acc: 0.9149 | Val Loss: 0.3843 | Val Acc: 0.8827\n"
     ]
    },
    {
     "name": "stderr",
     "output_type": "stream",
     "text": [
      "Epoch 42/50: 100%|██████████| 10/10 [00:43<00:00,  4.35s/it]\n"
     ]
    },
    {
     "name": "stdout",
     "output_type": "stream",
     "text": [
      "Epoch 42/50 | Train Loss: 0.1725 | Train Acc: 0.9302 | Val Loss: 0.3799 | Val Acc: 0.8810\n"
     ]
    },
    {
     "name": "stderr",
     "output_type": "stream",
     "text": [
      "Epoch 43/50: 100%|██████████| 10/10 [00:44<00:00,  4.41s/it]\n"
     ]
    },
    {
     "name": "stdout",
     "output_type": "stream",
     "text": [
      "Epoch 43/50 | Train Loss: 0.1923 | Train Acc: 0.9256 | Val Loss: 0.4429 | Val Acc: 0.8418\n"
     ]
    },
    {
     "name": "stderr",
     "output_type": "stream",
     "text": [
      "Epoch 44/50: 100%|██████████| 10/10 [00:45<00:00,  4.51s/it]\n"
     ]
    },
    {
     "name": "stdout",
     "output_type": "stream",
     "text": [
      "Epoch 44/50 | Train Loss: 0.1946 | Train Acc: 0.9171 | Val Loss: 0.3820 | Val Acc: 0.8690\n"
     ]
    },
    {
     "name": "stderr",
     "output_type": "stream",
     "text": [
      "Epoch 45/50: 100%|██████████| 10/10 [00:46<00:00,  4.60s/it]\n"
     ]
    },
    {
     "name": "stdout",
     "output_type": "stream",
     "text": [
      "Epoch 45/50 | Train Loss: 0.1595 | Train Acc: 0.9379 | Val Loss: 0.4096 | Val Acc: 0.8793\n"
     ]
    },
    {
     "name": "stderr",
     "output_type": "stream",
     "text": [
      "Epoch 46/50: 100%|██████████| 10/10 [00:48<00:00,  4.84s/it]\n"
     ]
    },
    {
     "name": "stdout",
     "output_type": "stream",
     "text": [
      "Epoch 46/50 | Train Loss: 0.1534 | Train Acc: 0.9379 | Val Loss: 0.4046 | Val Acc: 0.8759\n"
     ]
    },
    {
     "name": "stderr",
     "output_type": "stream",
     "text": [
      "Epoch 47/50: 100%|██████████| 10/10 [00:52<00:00,  5.24s/it]\n"
     ]
    },
    {
     "name": "stdout",
     "output_type": "stream",
     "text": [
      "Epoch 47/50 | Train Loss: 0.1475 | Train Acc: 0.9400 | Val Loss: 0.4333 | Val Acc: 0.8759\n"
     ]
    },
    {
     "name": "stderr",
     "output_type": "stream",
     "text": [
      "Epoch 48/50: 100%|██████████| 10/10 [00:50<00:00,  5.05s/it]\n"
     ]
    },
    {
     "name": "stdout",
     "output_type": "stream",
     "text": [
      "Epoch 48/50 | Train Loss: 0.1358 | Train Acc: 0.9451 | Val Loss: 0.4657 | Val Acc: 0.8776\n"
     ]
    },
    {
     "name": "stderr",
     "output_type": "stream",
     "text": [
      "Epoch 49/50: 100%|██████████| 10/10 [00:45<00:00,  4.55s/it]\n"
     ]
    },
    {
     "name": "stdout",
     "output_type": "stream",
     "text": [
      "Epoch 49/50 | Train Loss: 0.1258 | Train Acc: 0.9524 | Val Loss: 0.4421 | Val Acc: 0.8759\n"
     ]
    },
    {
     "name": "stderr",
     "output_type": "stream",
     "text": [
      "Epoch 50/50: 100%|██████████| 10/10 [00:49<00:00,  4.95s/it]\n"
     ]
    },
    {
     "name": "stdout",
     "output_type": "stream",
     "text": [
      "Epoch 50/50 | Train Loss: 0.1264 | Train Acc: 0.9481 | Val Loss: 0.4483 | Val Acc: 0.8759\n"
     ]
    }
   ],
   "source": [
    "from tqdm import tqdm\n",
    "\n",
    "EPOCHS = 50\n",
    "\n",
    "optimizer = torch.optim.Adam(model.parameters(), lr=1e-3, weight_decay=1e-4)\n",
    "scheduler = torch.optim.lr_scheduler.ReduceLROnPlateau(optimizer, mode='min', patience=5, factor=0.5, verbose=True)\n",
    "\n",
    "for epoch in range(EPOCHS):\n",
    "    model.train()\n",
    "    total_loss = 0\n",
    "    total_correct = 0\n",
    "    total_samples = 0\n",
    "    for batch_seqs, batch_lengths, batch_labels in tqdm(train_loader, desc=f\"Epoch {epoch+1}/{EPOCHS}\"):\n",
    "        batch_seqs = batch_seqs.to(device)\n",
    "        batch_lengths = batch_lengths.to(device)\n",
    "        batch_labels = batch_labels.to(device)\n",
    "\n",
    "        optimizer.zero_grad()\n",
    "        logits = model(batch_seqs, batch_lengths)\n",
    "        loss = criterion(logits, batch_labels)\n",
    "        loss.backward()\n",
    "        optimizer.step()\n",
    "        \n",
    "        total_loss += loss.item() * batch_seqs.size(0)\n",
    "        preds = torch.argmax(logits, dim=1)\n",
    "        total_correct += (preds == batch_labels).sum().item()\n",
    "        total_samples += batch_labels.size(0)\n",
    "    \n",
    "    avg_loss = total_loss / total_samples\n",
    "    train_acc = total_correct / total_samples\n",
    "\n",
    "    val_loss, val_acc = evaluate(model, val_loader, device)\n",
    "    scheduler.step(val_loss)\n",
    "    \n",
    "    print(f\"Epoch {epoch+1}/{EPOCHS} | Train Loss: {avg_loss:.4f} | Train Acc: {train_acc:.4f} | Val Loss: {val_loss:.4f} | Val Acc: {val_acc:.4f}\")"
   ]
  },
  {
   "cell_type": "markdown",
   "id": "4ddff7dc",
   "metadata": {},
   "source": [
    "## Evaluate the results"
   ]
  },
  {
   "cell_type": "markdown",
   "id": "5fe47aa8",
   "metadata": {},
   "source": [
    "Check the true and false positives per class"
   ]
  },
  {
   "cell_type": "code",
   "execution_count": 17,
   "id": "54ba8b5f",
   "metadata": {},
   "outputs": [
    {
     "data": {
      "image/png": "[encoded data removed]",
      "text/plain": [
       "<Figure size 800x600 with 1 Axes>"
      ]
     },
     "metadata": {},
     "output_type": "display_data"
    }
   ],
   "source": [
    "import matplotlib.pyplot as plt\n",
    "\n",
    "model.eval()\n",
    "all_preds = []\n",
    "all_labels = []\n",
    "with torch.no_grad():\n",
    "    for seqs, lengths, labels in val_loader:\n",
    "        seqs = seqs.to(device)\n",
    "        lengths = lengths.to(device)\n",
    "        logits = model(seqs, lengths)\n",
    "        preds = torch.argmax(logits, dim=1).cpu().numpy()\n",
    "        all_preds.extend(preds)\n",
    "        all_labels.extend(labels.numpy())\n",
    "\n",
    "# Compute true positives and false positives per class\n",
    "num_classes = OUTPUT_DIM\n",
    "tp = np.zeros(num_classes, dtype=int)\n",
    "fp = np.zeros(num_classes, dtype=int)\n",
    "for pred, true in zip(all_preds, all_labels):\n",
    "    if pred == true:\n",
    "        tp[pred] += 1\n",
    "    else:\n",
    "        fp[pred] += 1\n",
    "\n",
    "# Plot\n",
    "x = np.arange(num_classes)\n",
    "width = 0.35\n",
    "fig, ax = plt.subplots(figsize=(8, 6))\n",
    "ax.bar(x - width/2, tp, width, label='True Positives')\n",
    "ax.bar(x + width/2, fp, width, label='False Positives')\n",
    "ax.set_xticks(x)\n",
    "ax.set_xticklabels([compositors[i] for i in range(num_classes)])\n",
    "ax.set_xlabel('Class')\n",
    "ax.set_ylabel('Count')\n",
    "ax.set_title('True vs False Positives per Class on Validation Set')\n",
    "ax.legend()\n",
    "plt.show()"
   ]
  },
  {
   "cell_type": "markdown",
   "id": "d9a44368",
   "metadata": {},
   "source": [
    "Check the average class accuracy"
   ]
  },
  {
   "cell_type": "code",
   "execution_count": 21,
   "id": "5e17951a",
   "metadata": {},
   "outputs": [
    {
     "name": "stdout",
     "output_type": "stream",
     "text": [
      "bach: 0.9367\n",
      "beethoven: 0.7262\n",
      "debussy: 0.8519\n",
      "scarlatti: 0.7755\n",
      "victoria: 0.9362\n",
      "Average overall accuracy: 0.8453\n"
     ]
    }
   ],
   "source": [
    "# Calculate average accuracy per class\n",
    "all_preds = np.array(all_preds)\n",
    "all_labels = np.array(all_labels)\n",
    "num_classes = OUTPUT_DIM\n",
    "\n",
    "avg_acc_per_class = {}\n",
    "for i in range(num_classes):\n",
    "    mask = all_labels == i\n",
    "    total = mask.sum()\n",
    "    correct = (all_preds[mask] == i).sum()\n",
    "    avg_acc_per_class[compositors[i]] = correct / total if total > 0 else 0.0\n",
    "\n",
    "for comp, acc in avg_acc_per_class.items():\n",
    "    print(f\"{comp}: {acc:.4f}\")\n",
    "\n",
    "avg_overall_acc = np.mean(list(avg_acc_per_class.values()))\n",
    "print(f\"Average overall accuracy: {avg_overall_acc:.4f}\")"
   ]
  }
 ],
 "metadata": {
  "kernelspec": {
   "display_name": ".venv",
   "language": "python",
   "name": "python3"
  },
  "language_info": {
   "codemirror_mode": {
    "name": "ipython",
    "version": 3
   },
   "file_extension": ".py",
   "mimetype": "text/x-python",
   "name": "python",
   "nbconvert_exporter": "python",
   "pygments_lexer": "ipython3",
   "version": "3.12.0"
  }
 },
 "nbformat": 4,
 "nbformat_minor": 5
}
