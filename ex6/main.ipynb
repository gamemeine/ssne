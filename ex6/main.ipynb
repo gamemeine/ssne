{
 "cells": [
  {
   "cell_type": "markdown",
   "id": "02dec845",
   "metadata": {},
   "source": [
    "# Recurrent Neural Networks\n",
    "\n",
    "Grzegorz Statkiewicz, Mateusz Matukiewicz"
   ]
  },
  {
   "cell_type": "markdown",
   "id": "c644fa77",
   "metadata": {},
   "source": [
    "# Overview\n",
    "\n",
    "The structure of the direcotry should be as follows:\n",
    "\n",
    "```\n",
    ".\n",
    "├── data\n",
    "│   ├── train.pkl\n",
    "│   └── test_no_target.pkl\n",
    "└── main.ipynb\n",
    "```\n",
    "\n"
   ]
  },
  {
   "cell_type": "markdown",
   "id": "5290e644",
   "metadata": {},
   "source": [
    "## Setup"
   ]
  },
  {
   "cell_type": "markdown",
   "id": "e92cc3a2",
   "metadata": {},
   "source": [
    "Select the device to use"
   ]
  },
  {
   "cell_type": "code",
   "execution_count": 1,
   "id": "0b8098fd",
   "metadata": {},
   "outputs": [
    {
     "name": "stdout",
     "output_type": "stream",
     "text": [
      "Using device: mps\n"
     ]
    }
   ],
   "source": [
    "import torch\n",
    "\n",
    "device = torch.device(\"cuda\") if torch.cuda.is_available() else \"mps\" if torch.backends.mps.is_available() else \"cpu\"\n",
    "print(f\"Using device: {device}\")"
   ]
  },
  {
   "cell_type": "markdown",
   "id": "d05f8042",
   "metadata": {},
   "source": [
    "## Data preparation"
   ]
  },
  {
   "cell_type": "markdown",
   "id": "0c7b2553",
   "metadata": {},
   "source": [
    "Load the data"
   ]
  },
  {
   "cell_type": "code",
   "execution_count": 3,
   "id": "fd66a60a",
   "metadata": {},
   "outputs": [],
   "source": [
    "train_path = \"data/train.pkl\""
   ]
  },
  {
   "cell_type": "code",
   "execution_count": null,
   "id": "3ab81607",
   "metadata": {},
   "outputs": [
    {
     "name": "stdout",
     "output_type": "stream",
     "text": [
      "Loaded 2939 training samples.\n",
      "(array([-1., -1., -1., ..., -1., -1., -1.], shape=(3489,)), 1)\n"
     ]
    }
   ],
   "source": [
    "import pickle\n",
    "\n",
    "with open(train_path, \"rb\") as f:\n",
    "    train_data = pickle.load(f)\n",
    "\n",
    "print(f\"Loaded {len(train_data)} training samples.\")"
   ]
  },
  {
   "cell_type": "markdown",
   "id": "754bdf9f",
   "metadata": {},
   "source": [
    "Print sample data"
   ]
  },
  {
   "cell_type": "code",
   "execution_count": 10,
   "id": "f678d994",
   "metadata": {},
   "outputs": [
    {
     "name": "stdout",
     "output_type": "stream",
     "text": [
      "Sample data: (array([  0., 114.,  12.,  12.,  28.,  28.,  28.,  78.,  13.,  28.,  13.,\n",
      "        28.,  28.,  12.,  92.,  12.,  12.,  28.,  12.,  13.,  13., 125.,\n",
      "        28.,  28.,  28.,  78.,  13.,  28.,  13.,  93.,  28.,  28.,  28.,\n",
      "        28.,  13., 124.,  12.,  73.,  12.,  12.,  28.,  28.,  28.,  78.,\n",
      "        13.,  28.,  13.,  28.,  28.,  12.,  92.,  12.,  12.,  28.,  12.,\n",
      "        13.,  13., 125.,  28.,  28.,  28.,  78.,  13.,  28.,  13.,  93.,\n",
      "        28.,  28.,  28.,  28.,  13., 124.,  12.,  73.,  12.,  12.,  28.,\n",
      "        28.,  28.,  78.,  13.,  28.,  13.,  79.,  79.,  93.,  13.,  13.,\n",
      "        92.,  92.,  15.,  15., 124., 124.,  15.,  79.,  79., 159., 125.,\n",
      "        28.,  79.,  15.,  15.,  15., 159.,  28.,  28.,  28.,  28.,  13.,\n",
      "        13.,  28.,  73.,  73.,  12.,  12.,  28.,  28.,  28.,  78.,  13.,\n",
      "        28.,  13.,  28.,  28.,  12.,  92.,   0.]), 0)\n"
     ]
    }
   ],
   "source": [
    "import random\n",
    "\n",
    "\n",
    "idx = random.randint(0, len(train_data) - 1)\n",
    "print(f\"Sample data: {train_data[idx]}\")"
   ]
  }
 ],
 "metadata": {
  "kernelspec": {
   "display_name": ".venv",
   "language": "python",
   "name": "python3"
  },
  "language_info": {
   "codemirror_mode": {
    "name": "ipython",
    "version": 3
   },
   "file_extension": ".py",
   "mimetype": "text/x-python",
   "name": "python",
   "nbconvert_exporter": "python",
   "pygments_lexer": "ipython3",
   "version": "3.12.0"
  }
 },
 "nbformat": 4,
 "nbformat_minor": 5
}
