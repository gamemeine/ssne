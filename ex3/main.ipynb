{
 "cells": [
  {
   "cell_type": "markdown",
   "metadata": {},
   "source": [
    "# Setup"
   ]
  },
  {
   "cell_type": "markdown",
   "metadata": {},
   "source": [
    "## Device"
   ]
  },
  {
   "cell_type": "code",
   "execution_count": 1,
   "metadata": {},
   "outputs": [
    {
     "name": "stdout",
     "output_type": "stream",
     "text": [
      "Using mps device\n"
     ]
    }
   ],
   "source": [
    "import torch\n",
    "\n",
    "device = torch.accelerator.current_accelerator().type if torch.accelerator.is_available() else \"cpu\"\n",
    "print(f\"Using {device} device\")"
   ]
  },
  {
   "cell_type": "markdown",
   "metadata": {},
   "source": [
    "# Data preparation"
   ]
  },
  {
   "cell_type": "markdown",
   "metadata": {},
   "source": [
    "## Load data"
   ]
  },
  {
   "cell_type": "code",
   "execution_count": 2,
   "metadata": {},
   "outputs": [
    {
     "data": {
      "text/html": [
       "<div>\n",
       "<style scoped>\n",
       "    .dataframe tbody tr th:only-of-type {\n",
       "        vertical-align: middle;\n",
       "    }\n",
       "\n",
       "    .dataframe tbody tr th {\n",
       "        vertical-align: top;\n",
       "    }\n",
       "\n",
       "    .dataframe thead th {\n",
       "        text-align: right;\n",
       "    }\n",
       "</style>\n",
       "<table border=\"1\" class=\"dataframe\">\n",
       "  <thead>\n",
       "    <tr style=\"text-align: right;\">\n",
       "      <th></th>\n",
       "      <th>YearBuilt</th>\n",
       "      <th>Size(sqf)</th>\n",
       "      <th>Floor</th>\n",
       "      <th>HallwayType</th>\n",
       "      <th>HeatingType</th>\n",
       "      <th>AptManageType</th>\n",
       "      <th>N_Parkinglot(Ground)</th>\n",
       "      <th>N_Parkinglot(Basement)</th>\n",
       "      <th>TimeToBusStop</th>\n",
       "      <th>TimeToSubway</th>\n",
       "      <th>N_manager</th>\n",
       "      <th>N_elevators</th>\n",
       "      <th>SubwayStation</th>\n",
       "      <th>N_FacilitiesInApt</th>\n",
       "      <th>N_FacilitiesNearBy(Total)</th>\n",
       "      <th>N_SchoolNearBy(Total)</th>\n",
       "    </tr>\n",
       "  </thead>\n",
       "  <tbody>\n",
       "    <tr>\n",
       "      <th>0</th>\n",
       "      <td>2006</td>\n",
       "      <td>814</td>\n",
       "      <td>3</td>\n",
       "      <td>terraced</td>\n",
       "      <td>individual_heating</td>\n",
       "      <td>management_in_trust</td>\n",
       "      <td>111.0</td>\n",
       "      <td>184.0</td>\n",
       "      <td>5min~10min</td>\n",
       "      <td>10min~15min</td>\n",
       "      <td>3.0</td>\n",
       "      <td>0.0</td>\n",
       "      <td>Kyungbuk_uni_hospital</td>\n",
       "      <td>5</td>\n",
       "      <td>6.0</td>\n",
       "      <td>9.0</td>\n",
       "    </tr>\n",
       "    <tr>\n",
       "      <th>1</th>\n",
       "      <td>1985</td>\n",
       "      <td>587</td>\n",
       "      <td>8</td>\n",
       "      <td>corridor</td>\n",
       "      <td>individual_heating</td>\n",
       "      <td>self_management</td>\n",
       "      <td>80.0</td>\n",
       "      <td>76.0</td>\n",
       "      <td>0~5min</td>\n",
       "      <td>5min~10min</td>\n",
       "      <td>2.0</td>\n",
       "      <td>2.0</td>\n",
       "      <td>Daegu</td>\n",
       "      <td>3</td>\n",
       "      <td>12.0</td>\n",
       "      <td>4.0</td>\n",
       "    </tr>\n",
       "    <tr>\n",
       "      <th>2</th>\n",
       "      <td>1985</td>\n",
       "      <td>587</td>\n",
       "      <td>6</td>\n",
       "      <td>corridor</td>\n",
       "      <td>individual_heating</td>\n",
       "      <td>self_management</td>\n",
       "      <td>80.0</td>\n",
       "      <td>76.0</td>\n",
       "      <td>0~5min</td>\n",
       "      <td>5min~10min</td>\n",
       "      <td>2.0</td>\n",
       "      <td>2.0</td>\n",
       "      <td>Daegu</td>\n",
       "      <td>3</td>\n",
       "      <td>12.0</td>\n",
       "      <td>4.0</td>\n",
       "    </tr>\n",
       "    <tr>\n",
       "      <th>3</th>\n",
       "      <td>2006</td>\n",
       "      <td>2056</td>\n",
       "      <td>8</td>\n",
       "      <td>terraced</td>\n",
       "      <td>individual_heating</td>\n",
       "      <td>management_in_trust</td>\n",
       "      <td>249.0</td>\n",
       "      <td>536.0</td>\n",
       "      <td>0~5min</td>\n",
       "      <td>0-5min</td>\n",
       "      <td>5.0</td>\n",
       "      <td>11.0</td>\n",
       "      <td>Sin-nam</td>\n",
       "      <td>5</td>\n",
       "      <td>3.0</td>\n",
       "      <td>7.0</td>\n",
       "    </tr>\n",
       "    <tr>\n",
       "      <th>4</th>\n",
       "      <td>1992</td>\n",
       "      <td>644</td>\n",
       "      <td>2</td>\n",
       "      <td>mixed</td>\n",
       "      <td>individual_heating</td>\n",
       "      <td>self_management</td>\n",
       "      <td>142.0</td>\n",
       "      <td>79.0</td>\n",
       "      <td>5min~10min</td>\n",
       "      <td>15min~20min</td>\n",
       "      <td>4.0</td>\n",
       "      <td>8.0</td>\n",
       "      <td>Myung-duk</td>\n",
       "      <td>3</td>\n",
       "      <td>9.0</td>\n",
       "      <td>14.0</td>\n",
       "    </tr>\n",
       "  </tbody>\n",
       "</table>\n",
       "</div>"
      ],
      "text/plain": [
       "   YearBuilt  Size(sqf)  Floor HallwayType         HeatingType  \\\n",
       "0       2006        814      3    terraced  individual_heating   \n",
       "1       1985        587      8    corridor  individual_heating   \n",
       "2       1985        587      6    corridor  individual_heating   \n",
       "3       2006       2056      8    terraced  individual_heating   \n",
       "4       1992        644      2       mixed  individual_heating   \n",
       "\n",
       "         AptManageType  N_Parkinglot(Ground)  N_Parkinglot(Basement)  \\\n",
       "0  management_in_trust                 111.0                   184.0   \n",
       "1      self_management                  80.0                    76.0   \n",
       "2      self_management                  80.0                    76.0   \n",
       "3  management_in_trust                 249.0                   536.0   \n",
       "4      self_management                 142.0                    79.0   \n",
       "\n",
       "  TimeToBusStop TimeToSubway  N_manager  N_elevators          SubwayStation  \\\n",
       "0    5min~10min  10min~15min        3.0          0.0  Kyungbuk_uni_hospital   \n",
       "1        0~5min   5min~10min        2.0          2.0                  Daegu   \n",
       "2        0~5min   5min~10min        2.0          2.0                  Daegu   \n",
       "3        0~5min       0-5min        5.0         11.0                Sin-nam   \n",
       "4    5min~10min  15min~20min        4.0          8.0              Myung-duk   \n",
       "\n",
       "   N_FacilitiesInApt  N_FacilitiesNearBy(Total)  N_SchoolNearBy(Total)  \n",
       "0                  5                        6.0                    9.0  \n",
       "1                  3                       12.0                    4.0  \n",
       "2                  3                       12.0                    4.0  \n",
       "3                  5                        3.0                    7.0  \n",
       "4                  3                        9.0                   14.0  "
      ]
     },
     "execution_count": 2,
     "metadata": {},
     "output_type": "execute_result"
    }
   ],
   "source": [
    "from data import load_data\n",
    "\n",
    "train_path = './data/train_data.csv'\n",
    "test_path = './data/test_data.csv'\n",
    "\n",
    "X_train_all, y_train_all = load_data(train_path, target='SalePrice')\n",
    "X_test, _ = load_data(test_path)\n",
    "\n",
    "X_train_all.head()"
   ]
  },
  {
   "cell_type": "markdown",
   "metadata": {},
   "source": [
    "## Preprocess data"
   ]
  },
  {
   "cell_type": "markdown",
   "metadata": {},
   "source": [
    "### Split data"
   ]
  },
  {
   "cell_type": "code",
   "execution_count": 3,
   "metadata": {},
   "outputs": [
    {
     "name": "stdout",
     "output_type": "stream",
     "text": [
      "Size of training set:  (3299, 16)\n",
      "Size of validation set:  (825, 16)\n"
     ]
    }
   ],
   "source": [
    "from sklearn.model_selection import train_test_split\n",
    "\n",
    "\n",
    "X_train, X_val, y_train, y_val = train_test_split(X_train_all, y_train_all, test_size=0.2, random_state=42)\n",
    "\n",
    "print(\"Size of training set: \", X_train.shape)\n",
    "print(\"Size of validation set: \", X_val.shape)"
   ]
  },
  {
   "cell_type": "markdown",
   "metadata": {},
   "source": [
    "### Polynomial features"
   ]
  },
  {
   "cell_type": "code",
   "execution_count": 4,
   "metadata": {},
   "outputs": [],
   "source": [
    "# from data import polynomial_expansion\n",
    "# import numpy as np\n",
    "\n",
    "# numeric_features = ['Floor', 'N_FacilitiesNearBy(Total)', 'N_SchoolNearBy(Total)']\n",
    "# numeric_features = X_train_all.select_dtypes(include=np.number).columns.tolist()\n",
    "\n",
    "# X_train_poly = polynomial_expansion(X_train, numeric_features, degree=2)\n",
    "# X_val_poly = polynomial_expansion(X_val, numeric_features, degree=2)\n",
    "\n",
    "# X_train_poly.head()"
   ]
  },
  {
   "cell_type": "markdown",
   "metadata": {},
   "source": [
    "### Categorical features"
   ]
  },
  {
   "cell_type": "code",
   "execution_count": 5,
   "metadata": {},
   "outputs": [
    {
     "data": {
      "text/html": [
       "<div>\n",
       "<style scoped>\n",
       "    .dataframe tbody tr th:only-of-type {\n",
       "        vertical-align: middle;\n",
       "    }\n",
       "\n",
       "    .dataframe tbody tr th {\n",
       "        vertical-align: top;\n",
       "    }\n",
       "\n",
       "    .dataframe thead th {\n",
       "        text-align: right;\n",
       "    }\n",
       "</style>\n",
       "<table border=\"1\" class=\"dataframe\">\n",
       "  <thead>\n",
       "    <tr style=\"text-align: right;\">\n",
       "      <th></th>\n",
       "      <th>YearBuilt</th>\n",
       "      <th>Size(sqf)</th>\n",
       "      <th>Floor</th>\n",
       "      <th>N_Parkinglot(Ground)</th>\n",
       "      <th>N_Parkinglot(Basement)</th>\n",
       "      <th>N_manager</th>\n",
       "      <th>N_elevators</th>\n",
       "      <th>N_FacilitiesInApt</th>\n",
       "      <th>N_FacilitiesNearBy(Total)</th>\n",
       "      <th>N_SchoolNearBy(Total)</th>\n",
       "      <th>...</th>\n",
       "      <th>TimeToSubway_5min~10min</th>\n",
       "      <th>TimeToSubway_no_bus_stop_nearby</th>\n",
       "      <th>SubwayStation_Bangoge</th>\n",
       "      <th>SubwayStation_Banwoldang</th>\n",
       "      <th>SubwayStation_Chil-sung-market</th>\n",
       "      <th>SubwayStation_Daegu</th>\n",
       "      <th>SubwayStation_Kyungbuk_uni_hospital</th>\n",
       "      <th>SubwayStation_Myung-duk</th>\n",
       "      <th>SubwayStation_Sin-nam</th>\n",
       "      <th>SubwayStation_no_subway_nearby</th>\n",
       "    </tr>\n",
       "  </thead>\n",
       "  <tbody>\n",
       "    <tr>\n",
       "      <th>3162</th>\n",
       "      <td>1993</td>\n",
       "      <td>914</td>\n",
       "      <td>9</td>\n",
       "      <td>523.0</td>\n",
       "      <td>536.0</td>\n",
       "      <td>8.0</td>\n",
       "      <td>20.0</td>\n",
       "      <td>4</td>\n",
       "      <td>14.0</td>\n",
       "      <td>17.0</td>\n",
       "      <td>...</td>\n",
       "      <td>False</td>\n",
       "      <td>False</td>\n",
       "      <td>False</td>\n",
       "      <td>False</td>\n",
       "      <td>False</td>\n",
       "      <td>False</td>\n",
       "      <td>False</td>\n",
       "      <td>True</td>\n",
       "      <td>False</td>\n",
       "      <td>False</td>\n",
       "    </tr>\n",
       "    <tr>\n",
       "      <th>2514</th>\n",
       "      <td>2007</td>\n",
       "      <td>868</td>\n",
       "      <td>24</td>\n",
       "      <td>0.0</td>\n",
       "      <td>1270.0</td>\n",
       "      <td>14.0</td>\n",
       "      <td>16.0</td>\n",
       "      <td>10</td>\n",
       "      <td>9.0</td>\n",
       "      <td>10.0</td>\n",
       "      <td>...</td>\n",
       "      <td>False</td>\n",
       "      <td>False</td>\n",
       "      <td>False</td>\n",
       "      <td>False</td>\n",
       "      <td>False</td>\n",
       "      <td>False</td>\n",
       "      <td>True</td>\n",
       "      <td>False</td>\n",
       "      <td>False</td>\n",
       "      <td>False</td>\n",
       "    </tr>\n",
       "    <tr>\n",
       "      <th>1894</th>\n",
       "      <td>2006</td>\n",
       "      <td>1149</td>\n",
       "      <td>18</td>\n",
       "      <td>249.0</td>\n",
       "      <td>536.0</td>\n",
       "      <td>5.0</td>\n",
       "      <td>11.0</td>\n",
       "      <td>5</td>\n",
       "      <td>3.0</td>\n",
       "      <td>7.0</td>\n",
       "      <td>...</td>\n",
       "      <td>False</td>\n",
       "      <td>False</td>\n",
       "      <td>False</td>\n",
       "      <td>False</td>\n",
       "      <td>False</td>\n",
       "      <td>False</td>\n",
       "      <td>False</td>\n",
       "      <td>False</td>\n",
       "      <td>True</td>\n",
       "      <td>False</td>\n",
       "    </tr>\n",
       "    <tr>\n",
       "      <th>3612</th>\n",
       "      <td>2005</td>\n",
       "      <td>914</td>\n",
       "      <td>12</td>\n",
       "      <td>67.0</td>\n",
       "      <td>798.0</td>\n",
       "      <td>6.0</td>\n",
       "      <td>0.0</td>\n",
       "      <td>7</td>\n",
       "      <td>13.0</td>\n",
       "      <td>15.0</td>\n",
       "      <td>...</td>\n",
       "      <td>True</td>\n",
       "      <td>False</td>\n",
       "      <td>True</td>\n",
       "      <td>False</td>\n",
       "      <td>False</td>\n",
       "      <td>False</td>\n",
       "      <td>False</td>\n",
       "      <td>False</td>\n",
       "      <td>False</td>\n",
       "      <td>False</td>\n",
       "    </tr>\n",
       "    <tr>\n",
       "      <th>3349</th>\n",
       "      <td>2013</td>\n",
       "      <td>644</td>\n",
       "      <td>3</td>\n",
       "      <td>8.0</td>\n",
       "      <td>930.0</td>\n",
       "      <td>6.0</td>\n",
       "      <td>14.0</td>\n",
       "      <td>7</td>\n",
       "      <td>9.0</td>\n",
       "      <td>11.0</td>\n",
       "      <td>...</td>\n",
       "      <td>False</td>\n",
       "      <td>False</td>\n",
       "      <td>False</td>\n",
       "      <td>False</td>\n",
       "      <td>False</td>\n",
       "      <td>False</td>\n",
       "      <td>True</td>\n",
       "      <td>False</td>\n",
       "      <td>False</td>\n",
       "      <td>False</td>\n",
       "    </tr>\n",
       "  </tbody>\n",
       "</table>\n",
       "<p>5 rows × 33 columns</p>\n",
       "</div>"
      ],
      "text/plain": [
       "      YearBuilt  Size(sqf)  Floor  N_Parkinglot(Ground)  \\\n",
       "3162       1993        914      9                 523.0   \n",
       "2514       2007        868     24                   0.0   \n",
       "1894       2006       1149     18                 249.0   \n",
       "3612       2005        914     12                  67.0   \n",
       "3349       2013        644      3                   8.0   \n",
       "\n",
       "      N_Parkinglot(Basement)  N_manager  N_elevators  N_FacilitiesInApt  \\\n",
       "3162                   536.0        8.0         20.0                  4   \n",
       "2514                  1270.0       14.0         16.0                 10   \n",
       "1894                   536.0        5.0         11.0                  5   \n",
       "3612                   798.0        6.0          0.0                  7   \n",
       "3349                   930.0        6.0         14.0                  7   \n",
       "\n",
       "      N_FacilitiesNearBy(Total)  N_SchoolNearBy(Total)  ...  \\\n",
       "3162                       14.0                   17.0  ...   \n",
       "2514                        9.0                   10.0  ...   \n",
       "1894                        3.0                    7.0  ...   \n",
       "3612                       13.0                   15.0  ...   \n",
       "3349                        9.0                   11.0  ...   \n",
       "\n",
       "      TimeToSubway_5min~10min  TimeToSubway_no_bus_stop_nearby  \\\n",
       "3162                    False                            False   \n",
       "2514                    False                            False   \n",
       "1894                    False                            False   \n",
       "3612                     True                            False   \n",
       "3349                    False                            False   \n",
       "\n",
       "      SubwayStation_Bangoge  SubwayStation_Banwoldang  \\\n",
       "3162                  False                     False   \n",
       "2514                  False                     False   \n",
       "1894                  False                     False   \n",
       "3612                   True                     False   \n",
       "3349                  False                     False   \n",
       "\n",
       "      SubwayStation_Chil-sung-market  SubwayStation_Daegu  \\\n",
       "3162                           False                False   \n",
       "2514                           False                False   \n",
       "1894                           False                False   \n",
       "3612                           False                False   \n",
       "3349                           False                False   \n",
       "\n",
       "      SubwayStation_Kyungbuk_uni_hospital  SubwayStation_Myung-duk  \\\n",
       "3162                                False                     True   \n",
       "2514                                 True                    False   \n",
       "1894                                False                    False   \n",
       "3612                                False                    False   \n",
       "3349                                 True                    False   \n",
       "\n",
       "      SubwayStation_Sin-nam  SubwayStation_no_subway_nearby  \n",
       "3162                  False                           False  \n",
       "2514                  False                           False  \n",
       "1894                   True                           False  \n",
       "3612                  False                           False  \n",
       "3349                  False                           False  \n",
       "\n",
       "[5 rows x 33 columns]"
      ]
     },
     "execution_count": 5,
     "metadata": {},
     "output_type": "execute_result"
    }
   ],
   "source": [
    "from data import one_hot_encode\n",
    "\n",
    "categorical_cols = X_train_all.select_dtypes(include=['object']).columns.tolist()\n",
    "\n",
    "for col in categorical_cols:\n",
    "    X_train = one_hot_encode(X_train, col)\n",
    "    X_val = one_hot_encode(X_val, col)\n",
    "    X_test = one_hot_encode(X_test, col)\n",
    "\n",
    "X_train.head()"
   ]
  },
  {
   "cell_type": "markdown",
   "metadata": {},
   "source": [
    "### Standardize numerical features"
   ]
  },
  {
   "cell_type": "code",
   "execution_count": 6,
   "metadata": {},
   "outputs": [],
   "source": [
    "from sklearn.preprocessing import StandardScaler\n",
    "\n",
    "scaler = StandardScaler()\n",
    "scaler.fit(X_train)\n",
    "\n",
    "X_train = scaler.transform(X_train)\n",
    "X_val = scaler.transform(X_val)\n",
    "X_test = scaler.transform(X_test)"
   ]
  },
  {
   "cell_type": "markdown",
   "metadata": {},
   "source": [
    "### Upsample minority classes"
   ]
  },
  {
   "cell_type": "code",
   "execution_count": 7,
   "metadata": {},
   "outputs": [
    {
     "data": {
      "text/plain": [
       "SalePrice\n",
       "1    0.726887\n",
       "2    0.140042\n",
       "0    0.133071\n",
       "Name: proportion, dtype: float64"
      ]
     },
     "execution_count": 7,
     "metadata": {},
     "output_type": "execute_result"
    }
   ],
   "source": [
    "class_distribution = y_train.value_counts(normalize=True)\n",
    "class_distribution"
   ]
  },
  {
   "cell_type": "code",
   "execution_count": 8,
   "metadata": {},
   "outputs": [],
   "source": [
    "# TODO: maybe use SMOTE?\n",
    "\n",
    "# from imblearn.over_sampling import SMOTE\n",
    "# import numpy as np\n",
    "\n",
    "# smote = SMOTE()\n",
    "# X_train, y_train = smote.fit_resample(X_train, y_train)\n",
    "\n",
    "# print(\"After SMOTE:\", np.bincount(y_train))"
   ]
  },
  {
   "cell_type": "markdown",
   "metadata": {},
   "source": [
    "### Datasets"
   ]
  },
  {
   "cell_type": "code",
   "execution_count": 9,
   "metadata": {},
   "outputs": [
    {
     "data": {
      "text/plain": [
       "{0: np.float64(15.029612756264235),\n",
       " 1: np.float64(1.3757297748123436),\n",
       " 2: np.float64(14.281385281385282)}"
      ]
     },
     "execution_count": 9,
     "metadata": {},
     "output_type": "execute_result"
    }
   ],
   "source": [
    "class_weights = { 0: 1 / class_distribution[0], 1: 1 / class_distribution[1], 2: 1 / class_distribution[2] }\n",
    "\n",
    "# TODO: remove\n",
    "\n",
    "class_weights[0] *= 2\n",
    "class_weights[2] *= 2\n",
    "\n",
    "class_weights"
   ]
  },
  {
   "cell_type": "code",
   "execution_count": 10,
   "metadata": {},
   "outputs": [],
   "source": [
    "from data import to_dataloader\n",
    "\n",
    "train_loader = to_dataloader(X_train, y_train.values, batch_size=1024, class_weights=class_weights)\n",
    "val_loader = to_dataloader(X_val, y_val.values)"
   ]
  },
  {
   "cell_type": "code",
   "execution_count": 11,
   "metadata": {},
   "outputs": [
    {
     "name": "stdout",
     "output_type": "stream",
     "text": [
      "Vector size:  33\n"
     ]
    }
   ],
   "source": [
    "vector_size = X_train.shape[1]\n",
    "\n",
    "print(\"Vector size: \", vector_size)"
   ]
  },
  {
   "cell_type": "code",
   "execution_count": 12,
   "metadata": {},
   "outputs": [
    {
     "name": "stdout",
     "output_type": "stream",
     "text": [
      "Number of classes:  3\n"
     ]
    }
   ],
   "source": [
    "num_classes = len(class_distribution)\n",
    "\n",
    "print(\"Number of classes: \", num_classes)"
   ]
  },
  {
   "cell_type": "markdown",
   "metadata": {},
   "source": [
    "# Model"
   ]
  },
  {
   "cell_type": "code",
   "execution_count": 13,
   "metadata": {},
   "outputs": [],
   "source": [
    "import torch.nn as nn\n",
    "\n",
    "class NeuralNetwork(nn.Module):\n",
    "    def __init__(self, input_size: int, output_size: int = 1, dropout: float = 0.2):\n",
    "        super().__init__()\n",
    "\n",
    "        self.seq = nn.Sequential(\n",
    "            nn.Linear(input_size, 1024),\n",
    "            nn.BatchNorm1d(1024),\n",
    "            nn.LeakyReLU(),\n",
    "            nn.Dropout(dropout),\n",
    "            nn.Linear(1024, 1024),\n",
    "            nn.BatchNorm1d(1024),\n",
    "            nn.LeakyReLU(),\n",
    "            nn.Dropout(dropout),\n",
    "            nn.Linear(1024, 1024),\n",
    "            nn.BatchNorm1d(1024),\n",
    "            nn.LeakyReLU(),\n",
    "            nn.Dropout(dropout),\n",
    "            nn.Linear(1024, 1024),\n",
    "            nn.BatchNorm1d(1024),\n",
    "            nn.LeakyReLU(),\n",
    "            nn.Dropout(dropout),\n",
    "            nn.Linear(1024, output_size),\n",
    "            # nn.Sigmoid()\n",
    "        )\n",
    "\n",
    "    def forward(self, x):\n",
    "        return self.seq(x)"
   ]
  },
  {
   "cell_type": "markdown",
   "metadata": {},
   "source": [
    "# Experiments"
   ]
  },
  {
   "cell_type": "code",
   "execution_count": 14,
   "metadata": {},
   "outputs": [],
   "source": [
    "def ordinal_loss(preds, targets):\n",
    "    target1 = (targets > 0).float()\n",
    "    target2 = (targets > 1).float()\n",
    "\n",
    "    loss1 = nn.BCEWithLogitsLoss(pos_weight=torch.tensor(0.75))(preds[:, 0], target1)\n",
    "    loss2 = nn.BCEWithLogitsLoss(pos_weight=torch.tensor(2))(preds[:, 1], target2)\n",
    "\n",
    "    return loss1 + loss2"
   ]
  },
  {
   "cell_type": "code",
   "execution_count": 15,
   "metadata": {},
   "outputs": [
    {
     "name": "stdout",
     "output_type": "stream",
     "text": [
      "Epoch  1/150 - Train Loss: 1.13 - Val Loss: 1.27 - Val Acc: 0.1491 - LR: 0.0001\n",
      "Epoch  2/150 - Train Loss: 0.85 - Val Loss: 1.20 - Val Acc: 0.1491 - LR: 0.0001\n",
      "Epoch  3/150 - Train Loss: 0.70 - Val Loss: 1.07 - Val Acc: 0.1515 - LR: 0.0001\n",
      "Epoch  4/150 - Train Loss: 0.61 - Val Loss: 0.92 - Val Acc: 0.7418 - LR: 0.0001\n",
      "Epoch  5/150 - Train Loss: 0.52 - Val Loss: 0.77 - Val Acc: 0.7418 - LR: 0.0001\n",
      "Epoch  6/150 - Train Loss: 0.51 - Val Loss: 0.66 - Val Acc: 0.8109 - LR: 0.0001\n",
      "Epoch  7/150 - Train Loss: 0.48 - Val Loss: 0.57 - Val Acc: 0.8279 - LR: 0.0001\n",
      "Epoch  8/150 - Train Loss: 0.45 - Val Loss: 0.49 - Val Acc: 0.8461 - LR: 0.0001\n",
      "Epoch  9/150 - Train Loss: 0.43 - Val Loss: 0.46 - Val Acc: 0.8412 - LR: 0.0001\n",
      "Epoch 10/150 - Train Loss: 0.43 - Val Loss: 0.43 - Val Acc: 0.8485 - LR: 0.0001\n",
      "Epoch 11/150 - Train Loss: 0.42 - Val Loss: 0.41 - Val Acc: 0.8424 - LR: 0.0001\n",
      "Epoch 12/150 - Train Loss: 0.40 - Val Loss: 0.40 - Val Acc: 0.8606 - LR: 0.0001\n",
      "Epoch 13/150 - Train Loss: 0.40 - Val Loss: 0.38 - Val Acc: 0.8594 - LR: 0.0001\n",
      "Epoch 14/150 - Train Loss: 0.37 - Val Loss: 0.38 - Val Acc: 0.8473 - LR: 0.0001\n",
      "Epoch 15/150 - Train Loss: 0.39 - Val Loss: 0.38 - Val Acc: 0.8679 - LR: 0.0001\n",
      "Epoch 16/150 - Train Loss: 0.37 - Val Loss: 0.38 - Val Acc: 0.8388 - LR: 0.0001\n",
      "Epoch 17/150 - Train Loss: 0.41 - Val Loss: 0.37 - Val Acc: 0.8497 - LR: 0.0001\n",
      "Epoch 18/150 - Train Loss: 0.38 - Val Loss: 0.35 - Val Acc: 0.8667 - LR: 0.0001\n",
      "Epoch 19/150 - Train Loss: 0.37 - Val Loss: 0.35 - Val Acc: 0.8630 - LR: 0.0001\n",
      "Epoch 20/150 - Train Loss: 0.38 - Val Loss: 0.35 - Val Acc: 0.8618 - LR: 0.0001\n",
      "Epoch 21/150 - Train Loss: 0.36 - Val Loss: 0.36 - Val Acc: 0.8533 - LR: 0.0001\n",
      "Epoch 22/150 - Train Loss: 0.37 - Val Loss: 0.37 - Val Acc: 0.8509 - LR: 0.0001\n",
      "Epoch 23/150 - Train Loss: 0.36 - Val Loss: 0.36 - Val Acc: 0.8424 - LR: 0.0001\n",
      "Epoch 24/150 - Train Loss: 0.36 - Val Loss: 0.36 - Val Acc: 0.8436 - LR: 0.0001\n",
      "Epoch 25/150 - Train Loss: 0.36 - Val Loss: 0.35 - Val Acc: 0.8473 - LR: 0.0001\n",
      "Epoch 26/150 - Train Loss: 0.37 - Val Loss: 0.35 - Val Acc: 0.8400 - LR: 0.0001\n",
      "Epoch 27/150 - Train Loss: 0.38 - Val Loss: 0.34 - Val Acc: 0.8655 - LR: 0.0001\n",
      "Epoch 28/150 - Train Loss: 0.34 - Val Loss: 0.35 - Val Acc: 0.8570 - LR: 0.0001\n",
      "Epoch 29/150 - Train Loss: 0.38 - Val Loss: 0.35 - Val Acc: 0.8618 - LR: 0.0001\n",
      "Epoch 30/150 - Train Loss: 0.35 - Val Loss: 0.35 - Val Acc: 0.8642 - LR: 0.0001\n",
      "Epoch 31/150 - Train Loss: 0.33 - Val Loss: 0.35 - Val Acc: 0.8558 - LR: 0.0001\n",
      "Epoch 32/150 - Train Loss: 0.39 - Val Loss: 0.35 - Val Acc: 0.8509 - LR: 0.0001\n",
      "Epoch 33/150 - Train Loss: 0.37 - Val Loss: 0.35 - Val Acc: 0.8630 - LR: 0.0001\n",
      "Epoch 34/150 - Train Loss: 0.33 - Val Loss: 0.35 - Val Acc: 0.8533 - LR: 0.0001\n",
      "Epoch 35/150 - Train Loss: 0.37 - Val Loss: 0.34 - Val Acc: 0.8485 - LR: 0.0001\n",
      "Epoch 36/150 - Train Loss: 0.34 - Val Loss: 0.33 - Val Acc: 0.8533 - LR: 0.0001\n",
      "Epoch 37/150 - Train Loss: 0.35 - Val Loss: 0.34 - Val Acc: 0.8497 - LR: 0.0001\n",
      "Epoch 38/150 - Train Loss: 0.34 - Val Loss: 0.34 - Val Acc: 0.8509 - LR: 0.0001\n",
      "Epoch 39/150 - Train Loss: 0.34 - Val Loss: 0.34 - Val Acc: 0.8497 - LR: 0.0001\n",
      "Epoch 40/150 - Train Loss: 0.35 - Val Loss: 0.34 - Val Acc: 0.8570 - LR: 0.0001\n",
      "Epoch 41/150 - Train Loss: 0.32 - Val Loss: 0.34 - Val Acc: 0.8655 - LR: 0.0001\n",
      "Epoch 42/150 - Train Loss: 0.34 - Val Loss: 0.34 - Val Acc: 0.8545 - LR: 0.0001\n",
      "Epoch 43/150 - Train Loss: 0.36 - Val Loss: 0.34 - Val Acc: 0.8509 - LR: 0.0001\n",
      "Epoch 44/150 - Train Loss: 0.34 - Val Loss: 0.33 - Val Acc: 0.8509 - LR: 0.0001\n",
      "Epoch 45/150 - Train Loss: 0.33 - Val Loss: 0.33 - Val Acc: 0.8582 - LR: 0.0001\n",
      "Epoch 46/150 - Train Loss: 0.33 - Val Loss: 0.33 - Val Acc: 0.8545 - LR: 0.0001\n",
      "Epoch 47/150 - Train Loss: 0.36 - Val Loss: 0.34 - Val Acc: 0.8485 - LR: 0.0001\n",
      "Epoch 48/150 - Train Loss: 0.33 - Val Loss: 0.34 - Val Acc: 0.8448 - LR: 0.0001\n",
      "Epoch 49/150 - Train Loss: 0.34 - Val Loss: 0.34 - Val Acc: 0.8473 - LR: 0.0001\n",
      "Epoch 50/150 - Train Loss: 0.32 - Val Loss: 0.33 - Val Acc: 0.8436 - LR: 0.0001\n",
      "Epoch 51/150 - Train Loss: 0.33 - Val Loss: 0.33 - Val Acc: 0.8545 - LR: 0.0001\n",
      "Epoch 52/150 - Train Loss: 0.32 - Val Loss: 0.34 - Val Acc: 0.8545 - LR: 0.0001\n",
      "Epoch 53/150 - Train Loss: 0.33 - Val Loss: 0.33 - Val Acc: 0.8497 - LR: 0.0001\n",
      "Epoch 54/150 - Train Loss: 0.32 - Val Loss: 0.33 - Val Acc: 0.8545 - LR: 0.0001\n",
      "Epoch 55/150 - Train Loss: 0.34 - Val Loss: 0.32 - Val Acc: 0.8558 - LR: 0.0001\n",
      "Epoch 56/150 - Train Loss: 0.35 - Val Loss: 0.33 - Val Acc: 0.8461 - LR: 0.0001\n",
      "Epoch 57/150 - Train Loss: 0.32 - Val Loss: 0.34 - Val Acc: 0.8497 - LR: 0.0001\n",
      "Epoch 58/150 - Train Loss: 0.34 - Val Loss: 0.34 - Val Acc: 0.8448 - LR: 0.0001\n",
      "Epoch 59/150 - Train Loss: 0.36 - Val Loss: 0.32 - Val Acc: 0.8509 - LR: 0.0001\n",
      "Epoch 60/150 - Train Loss: 0.32 - Val Loss: 0.32 - Val Acc: 0.8533 - LR: 0.0001\n",
      "Epoch 61/150 - Train Loss: 0.34 - Val Loss: 0.32 - Val Acc: 0.8533 - LR: 0.0001\n",
      "Epoch 62/150 - Train Loss: 0.31 - Val Loss: 0.32 - Val Acc: 0.8533 - LR: 0.0001\n",
      "Epoch 63/150 - Train Loss: 0.33 - Val Loss: 0.32 - Val Acc: 0.8618 - LR: 0.0001\n",
      "Epoch 64/150 - Train Loss: 0.34 - Val Loss: 0.32 - Val Acc: 0.8606 - LR: 0.0001\n",
      "Epoch 65/150 - Train Loss: 0.32 - Val Loss: 0.33 - Val Acc: 0.8667 - LR: 0.0001\n",
      "Epoch 66/150 - Train Loss: 0.32 - Val Loss: 0.33 - Val Acc: 0.8618 - LR: 0.0001\n",
      "Epoch 67/150 - Train Loss: 0.34 - Val Loss: 0.33 - Val Acc: 0.8606 - LR: 0.0001\n",
      "Epoch 68/150 - Train Loss: 0.34 - Val Loss: 0.33 - Val Acc: 0.8582 - LR: 0.0001\n",
      "Epoch 69/150 - Train Loss: 0.34 - Val Loss: 0.33 - Val Acc: 0.8594 - LR: 0.0001\n",
      "Epoch 70/150 - Train Loss: 0.32 - Val Loss: 0.33 - Val Acc: 0.8558 - LR: 0.0001\n",
      "Epoch 71/150 - Train Loss: 0.32 - Val Loss: 0.33 - Val Acc: 0.8497 - LR: 0.0001\n",
      "Epoch 72/150 - Train Loss: 0.34 - Val Loss: 0.33 - Val Acc: 0.8485 - LR: 0.0001\n",
      "Epoch 73/150 - Train Loss: 0.33 - Val Loss: 0.32 - Val Acc: 0.8509 - LR: 0.0001\n",
      "Epoch 74/150 - Train Loss: 0.30 - Val Loss: 0.33 - Val Acc: 0.8497 - LR: 0.0001\n",
      "Epoch 75/150 - Train Loss: 0.32 - Val Loss: 0.33 - Val Acc: 0.8521 - LR: 5e-05\n",
      "Epoch 76/150 - Train Loss: 0.33 - Val Loss: 0.33 - Val Acc: 0.8533 - LR: 5e-05\n",
      "Epoch 77/150 - Train Loss: 0.31 - Val Loss: 0.32 - Val Acc: 0.8545 - LR: 5e-05\n",
      "Epoch 78/150 - Train Loss: 0.32 - Val Loss: 0.33 - Val Acc: 0.8533 - LR: 5e-05\n",
      "Epoch 79/150 - Train Loss: 0.33 - Val Loss: 0.33 - Val Acc: 0.8485 - LR: 5e-05\n",
      "Epoch 80/150 - Train Loss: 0.34 - Val Loss: 0.33 - Val Acc: 0.8473 - LR: 5e-05\n",
      "Epoch 81/150 - Train Loss: 0.32 - Val Loss: 0.33 - Val Acc: 0.8461 - LR: 5e-05\n",
      "Epoch 82/150 - Train Loss: 0.33 - Val Loss: 0.33 - Val Acc: 0.8521 - LR: 5e-05\n",
      "Epoch 83/150 - Train Loss: 0.33 - Val Loss: 0.33 - Val Acc: 0.8545 - LR: 5e-05\n",
      "Epoch 84/150 - Train Loss: 0.33 - Val Loss: 0.33 - Val Acc: 0.8630 - LR: 5e-05\n",
      "Epoch 85/150 - Train Loss: 0.34 - Val Loss: 0.33 - Val Acc: 0.8594 - LR: 5e-05\n",
      "Epoch 86/150 - Train Loss: 0.34 - Val Loss: 0.33 - Val Acc: 0.8533 - LR: 2.5e-05\n",
      "Epoch 87/150 - Train Loss: 0.28 - Val Loss: 0.33 - Val Acc: 0.8558 - LR: 2.5e-05\n",
      "Epoch 88/150 - Train Loss: 0.31 - Val Loss: 0.32 - Val Acc: 0.8558 - LR: 2.5e-05\n",
      "Epoch 89/150 - Train Loss: 0.31 - Val Loss: 0.32 - Val Acc: 0.8606 - LR: 2.5e-05\n",
      "Epoch 90/150 - Train Loss: 0.31 - Val Loss: 0.32 - Val Acc: 0.8594 - LR: 2.5e-05\n",
      "Epoch 91/150 - Train Loss: 0.33 - Val Loss: 0.33 - Val Acc: 0.8558 - LR: 2.5e-05\n",
      "Epoch 92/150 - Train Loss: 0.32 - Val Loss: 0.32 - Val Acc: 0.8545 - LR: 2.5e-05\n",
      "Epoch 93/150 - Train Loss: 0.31 - Val Loss: 0.32 - Val Acc: 0.8533 - LR: 2.5e-05\n",
      "Epoch 94/150 - Train Loss: 0.34 - Val Loss: 0.32 - Val Acc: 0.8521 - LR: 2.5e-05\n",
      "Epoch 95/150 - Train Loss: 0.33 - Val Loss: 0.32 - Val Acc: 0.8497 - LR: 2.5e-05\n",
      "Epoch 96/150 - Train Loss: 0.33 - Val Loss: 0.32 - Val Acc: 0.8509 - LR: 2.5e-05\n",
      "Epoch 97/150 - Train Loss: 0.29 - Val Loss: 0.32 - Val Acc: 0.8497 - LR: 1.25e-05\n",
      "Epoch 98/150 - Train Loss: 0.32 - Val Loss: 0.32 - Val Acc: 0.8461 - LR: 1.25e-05\n",
      "Epoch 99/150 - Train Loss: 0.33 - Val Loss: 0.32 - Val Acc: 0.8497 - LR: 1.25e-05\n",
      "Epoch 100/150 - Train Loss: 0.29 - Val Loss: 0.32 - Val Acc: 0.8521 - LR: 1.25e-05\n",
      "Epoch 101/150 - Train Loss: 0.33 - Val Loss: 0.32 - Val Acc: 0.8509 - LR: 1.25e-05\n",
      "Epoch 102/150 - Train Loss: 0.30 - Val Loss: 0.32 - Val Acc: 0.8533 - LR: 1.25e-05\n",
      "Epoch 103/150 - Train Loss: 0.32 - Val Loss: 0.32 - Val Acc: 0.8533 - LR: 1.25e-05\n",
      "Epoch 104/150 - Train Loss: 0.31 - Val Loss: 0.32 - Val Acc: 0.8545 - LR: 1.25e-05\n",
      "Epoch 105/150 - Train Loss: 0.32 - Val Loss: 0.32 - Val Acc: 0.8545 - LR: 1.25e-05\n",
      "Epoch 106/150 - Train Loss: 0.35 - Val Loss: 0.32 - Val Acc: 0.8570 - LR: 1.25e-05\n",
      "Epoch 107/150 - Train Loss: 0.30 - Val Loss: 0.32 - Val Acc: 0.8594 - LR: 1.25e-05\n",
      "Epoch 108/150 - Train Loss: 0.33 - Val Loss: 0.32 - Val Acc: 0.8630 - LR: 1.25e-05\n",
      "Epoch 109/150 - Train Loss: 0.31 - Val Loss: 0.32 - Val Acc: 0.8655 - LR: 1.25e-05\n",
      "Epoch 110/150 - Train Loss: 0.33 - Val Loss: 0.32 - Val Acc: 0.8606 - LR: 1.25e-05\n",
      "Epoch 111/150 - Train Loss: 0.33 - Val Loss: 0.32 - Val Acc: 0.8655 - LR: 1.25e-05\n",
      "Epoch 112/150 - Train Loss: 0.30 - Val Loss: 0.32 - Val Acc: 0.8618 - LR: 1.25e-05\n",
      "Epoch 113/150 - Train Loss: 0.30 - Val Loss: 0.32 - Val Acc: 0.8618 - LR: 1.25e-05\n",
      "Epoch 114/150 - Train Loss: 0.32 - Val Loss: 0.32 - Val Acc: 0.8606 - LR: 1.25e-05\n",
      "Epoch 115/150 - Train Loss: 0.32 - Val Loss: 0.32 - Val Acc: 0.8594 - LR: 1.25e-05\n",
      "Epoch 116/150 - Train Loss: 0.32 - Val Loss: 0.32 - Val Acc: 0.8594 - LR: 1.25e-05\n",
      "Epoch 117/150 - Train Loss: 0.31 - Val Loss: 0.32 - Val Acc: 0.8582 - LR: 6.25e-06\n",
      "Epoch 118/150 - Train Loss: 0.34 - Val Loss: 0.32 - Val Acc: 0.8594 - LR: 6.25e-06\n",
      "Epoch 119/150 - Train Loss: 0.31 - Val Loss: 0.32 - Val Acc: 0.8582 - LR: 6.25e-06\n",
      "Epoch 120/150 - Train Loss: 0.31 - Val Loss: 0.32 - Val Acc: 0.8594 - LR: 6.25e-06\n",
      "Epoch 121/150 - Train Loss: 0.32 - Val Loss: 0.32 - Val Acc: 0.8594 - LR: 6.25e-06\n",
      "Epoch 122/150 - Train Loss: 0.31 - Val Loss: 0.32 - Val Acc: 0.8582 - LR: 6.25e-06\n",
      "Epoch 123/150 - Train Loss: 0.32 - Val Loss: 0.32 - Val Acc: 0.8570 - LR: 6.25e-06\n",
      "Epoch 124/150 - Train Loss: 0.30 - Val Loss: 0.32 - Val Acc: 0.8606 - LR: 6.25e-06\n",
      "Epoch 125/150 - Train Loss: 0.33 - Val Loss: 0.32 - Val Acc: 0.8618 - LR: 6.25e-06\n",
      "Epoch 126/150 - Train Loss: 0.33 - Val Loss: 0.32 - Val Acc: 0.8582 - LR: 6.25e-06\n",
      "Epoch 127/150 - Train Loss: 0.34 - Val Loss: 0.32 - Val Acc: 0.8570 - LR: 6.25e-06\n",
      "Epoch 128/150 - Train Loss: 0.31 - Val Loss: 0.32 - Val Acc: 0.8558 - LR: 6.25e-06\n",
      "Epoch 129/150 - Train Loss: 0.33 - Val Loss: 0.32 - Val Acc: 0.8545 - LR: 6.25e-06\n",
      "Epoch 130/150 - Train Loss: 0.32 - Val Loss: 0.32 - Val Acc: 0.8582 - LR: 6.25e-06\n",
      "Epoch 131/150 - Train Loss: 0.34 - Val Loss: 0.32 - Val Acc: 0.8558 - LR: 6.25e-06\n",
      "Epoch 132/150 - Train Loss: 0.31 - Val Loss: 0.32 - Val Acc: 0.8594 - LR: 6.25e-06\n",
      "Epoch 133/150 - Train Loss: 0.31 - Val Loss: 0.32 - Val Acc: 0.8570 - LR: 6.25e-06\n",
      "Epoch 134/150 - Train Loss: 0.30 - Val Loss: 0.32 - Val Acc: 0.8570 - LR: 6.25e-06\n",
      "Epoch 135/150 - Train Loss: 0.33 - Val Loss: 0.32 - Val Acc: 0.8558 - LR: 6.25e-06\n",
      "Epoch 136/150 - Train Loss: 0.32 - Val Loss: 0.32 - Val Acc: 0.8521 - LR: 6.25e-06\n",
      "Epoch 137/150 - Train Loss: 0.29 - Val Loss: 0.32 - Val Acc: 0.8521 - LR: 6.25e-06\n",
      "Epoch 138/150 - Train Loss: 0.31 - Val Loss: 0.32 - Val Acc: 0.8582 - LR: 6.25e-06\n",
      "Epoch 139/150 - Train Loss: 0.33 - Val Loss: 0.32 - Val Acc: 0.8570 - LR: 3.125e-06\n",
      "Epoch 140/150 - Train Loss: 0.32 - Val Loss: 0.32 - Val Acc: 0.8582 - LR: 3.125e-06\n",
      "Epoch 141/150 - Train Loss: 0.31 - Val Loss: 0.32 - Val Acc: 0.8545 - LR: 3.125e-06\n",
      "Epoch 142/150 - Train Loss: 0.32 - Val Loss: 0.32 - Val Acc: 0.8545 - LR: 3.125e-06\n",
      "Epoch 143/150 - Train Loss: 0.31 - Val Loss: 0.32 - Val Acc: 0.8521 - LR: 3.125e-06\n",
      "Epoch 144/150 - Train Loss: 0.32 - Val Loss: 0.32 - Val Acc: 0.8533 - LR: 3.125e-06\n",
      "Epoch 145/150 - Train Loss: 0.29 - Val Loss: 0.32 - Val Acc: 0.8545 - LR: 3.125e-06\n",
      "Epoch 146/150 - Train Loss: 0.31 - Val Loss: 0.32 - Val Acc: 0.8533 - LR: 3.125e-06\n",
      "Epoch 147/150 - Train Loss: 0.34 - Val Loss: 0.32 - Val Acc: 0.8533 - LR: 3.125e-06\n",
      "Epoch 148/150 - Train Loss: 0.34 - Val Loss: 0.32 - Val Acc: 0.8545 - LR: 3.125e-06\n",
      "Epoch 149/150 - Train Loss: 0.34 - Val Loss: 0.32 - Val Acc: 0.8533 - LR: 3.125e-06\n",
      "Epoch 150/150 - Train Loss: 0.31 - Val Loss: 0.32 - Val Acc: 0.8521 - LR: 1.5625e-06\n"
     ]
    },
    {
     "data": {
      "image/png": "[encoded data removed]",
      "text/plain": [
       "<Figure size 1200x400 with 2 Axes>"
      ]
     },
     "metadata": {},
     "output_type": "display_data"
    }
   ],
   "source": [
    "from train import Trainer\n",
    "\n",
    "model = NeuralNetwork(input_size=vector_size, output_size=num_classes-1, dropout=0.1)\n",
    "optim = torch.optim.AdamW(model.parameters(), lr=1e-4, weight_decay=2e-1)\n",
    "criterion = ordinal_loss\n",
    "\n",
    "trainer = Trainer(model)\n",
    "trainer.to_device(device)\n",
    "trainer.compile(optimizer=optim, criterion=criterion)\n",
    "\n",
    "trainer.fit(train_loader, val_loader, epochs=150)"
   ]
  },
  {
   "cell_type": "markdown",
   "metadata": {},
   "source": [
    "# Evaluation"
   ]
  },
  {
   "cell_type": "code",
   "execution_count": 16,
   "metadata": {},
   "outputs": [],
   "source": [
    "from train import predict\n",
    "\n",
    "y_pred = predict(model, X_val, device)"
   ]
  },
  {
   "cell_type": "markdown",
   "metadata": {},
   "source": [
    "### Accuracy curve"
   ]
  },
  {
   "cell_type": "code",
   "execution_count": 17,
   "metadata": {},
   "outputs": [
    {
     "data": {
      "image/png": "[encoded data removed]",
      "text/plain": [
       "<Figure size 1000x600 with 1 Axes>"
      ]
     },
     "metadata": {},
     "output_type": "display_data"
    }
   ],
   "source": [
    "from plots import plot_acc_over_thresholds\n",
    "\n",
    "plot_acc_over_thresholds(y_val, y_pred)"
   ]
  },
  {
   "cell_type": "code",
   "execution_count": 18,
   "metadata": {},
   "outputs": [],
   "source": [
    "from utils import pred_to_class\n",
    "\n",
    "\n",
    "pred_class = pred_to_class(y_pred, threshold=(0.6, 0.5)).numpy()"
   ]
  },
  {
   "cell_type": "markdown",
   "metadata": {},
   "source": [
    "### Accuracy per class"
   ]
  },
  {
   "cell_type": "code",
   "execution_count": 19,
   "metadata": {},
   "outputs": [
    {
     "name": "stdout",
     "output_type": "stream",
     "text": [
      "Class 0 accuracy: 0.89\n",
      "Class 1 accuracy: 0.83\n",
      "Class 2 accuracy: 0.86\n",
      "Average class accuracy: 0.86\n"
     ]
    },
    {
     "data": {
      "image/png": "[encoded data removed]",
      "text/plain": [
       "<Figure size 800x600 with 1 Axes>"
      ]
     },
     "metadata": {},
     "output_type": "display_data"
    }
   ],
   "source": [
    "from plots import plot_pred_acc\n",
    "\n",
    "\n",
    "plot_pred_acc(y_val, pred_class)"
   ]
  },
  {
   "cell_type": "markdown",
   "metadata": {},
   "source": [
    "### Confusion matrix"
   ]
  },
  {
   "cell_type": "code",
   "execution_count": 20,
   "metadata": {},
   "outputs": [
    {
     "data": {
      "image/png": "[encoded data removed]",
      "text/plain": [
       "<Figure size 800x600 with 2 Axes>"
      ]
     },
     "metadata": {},
     "output_type": "display_data"
    }
   ],
   "source": [
    "from plots import plot_confusion_matrix\n",
    "\n",
    "plot_confusion_matrix(y_val, pred_class)"
   ]
  },
  {
   "cell_type": "markdown",
   "metadata": {},
   "source": [
    "# Save results"
   ]
  },
  {
   "cell_type": "code",
   "execution_count": 21,
   "metadata": {},
   "outputs": [
    {
     "data": {
      "text/html": [
       "<div>\n",
       "<style scoped>\n",
       "    .dataframe tbody tr th:only-of-type {\n",
       "        vertical-align: middle;\n",
       "    }\n",
       "\n",
       "    .dataframe tbody tr th {\n",
       "        vertical-align: top;\n",
       "    }\n",
       "\n",
       "    .dataframe thead th {\n",
       "        text-align: right;\n",
       "    }\n",
       "</style>\n",
       "<table border=\"1\" class=\"dataframe\">\n",
       "  <thead>\n",
       "    <tr style=\"text-align: right;\">\n",
       "      <th></th>\n",
       "      <th>0</th>\n",
       "    </tr>\n",
       "  </thead>\n",
       "  <tbody>\n",
       "    <tr>\n",
       "      <th>0</th>\n",
       "      <td>1</td>\n",
       "    </tr>\n",
       "    <tr>\n",
       "      <th>1</th>\n",
       "      <td>2</td>\n",
       "    </tr>\n",
       "    <tr>\n",
       "      <th>2</th>\n",
       "      <td>2</td>\n",
       "    </tr>\n",
       "    <tr>\n",
       "      <th>3</th>\n",
       "      <td>1</td>\n",
       "    </tr>\n",
       "    <tr>\n",
       "      <th>4</th>\n",
       "      <td>1</td>\n",
       "    </tr>\n",
       "  </tbody>\n",
       "</table>\n",
       "</div>"
      ],
      "text/plain": [
       "   0\n",
       "0  1\n",
       "1  2\n",
       "2  2\n",
       "3  1\n",
       "4  1"
      ]
     },
     "execution_count": 21,
     "metadata": {},
     "output_type": "execute_result"
    }
   ],
   "source": [
    "from train import save_results\n",
    "\n",
    "test_results = save_results(model, X_test, device=device)\n",
    "\n",
    "test_results.head()"
   ]
  }
 ],
 "metadata": {
  "kernelspec": {
   "display_name": "Python (myenv)",
   "language": "python",
   "name": "myenv"
  },
  "language_info": {
   "codemirror_mode": {
    "name": "ipython",
    "version": 3
   },
   "file_extension": ".py",
   "mimetype": "text/x-python",
   "name": "python",
   "nbconvert_exporter": "python",
   "pygments_lexer": "ipython3",
   "version": "3.13.2"
  }
 },
 "nbformat": 4,
 "nbformat_minor": 2
}
