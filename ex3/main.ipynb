{
 "cells": [
  {
   "cell_type": "markdown",
   "metadata": {},
   "source": [
    "# Setup"
   ]
  },
  {
   "cell_type": "markdown",
   "metadata": {},
   "source": [
    "## Device"
   ]
  },
  {
   "cell_type": "code",
   "execution_count": 136,
   "metadata": {},
   "outputs": [
    {
     "name": "stdout",
     "output_type": "stream",
     "text": [
      "Using mps device\n"
     ]
    }
   ],
   "source": [
    "import torch\n",
    "\n",
    "device = torch.accelerator.current_accelerator().type if torch.accelerator.is_available() else \"cpu\"\n",
    "print(f\"Using {device} device\")"
   ]
  },
  {
   "cell_type": "markdown",
   "metadata": {},
   "source": [
    "# Data preparation"
   ]
  },
  {
   "cell_type": "markdown",
   "metadata": {},
   "source": [
    "## Load data"
   ]
  },
  {
   "cell_type": "code",
   "execution_count": 137,
   "metadata": {},
   "outputs": [
    {
     "data": {
      "text/html": [
       "<div>\n",
       "<style scoped>\n",
       "    .dataframe tbody tr th:only-of-type {\n",
       "        vertical-align: middle;\n",
       "    }\n",
       "\n",
       "    .dataframe tbody tr th {\n",
       "        vertical-align: top;\n",
       "    }\n",
       "\n",
       "    .dataframe thead th {\n",
       "        text-align: right;\n",
       "    }\n",
       "</style>\n",
       "<table border=\"1\" class=\"dataframe\">\n",
       "  <thead>\n",
       "    <tr style=\"text-align: right;\">\n",
       "      <th></th>\n",
       "      <th>YearBuilt</th>\n",
       "      <th>Size(sqf)</th>\n",
       "      <th>Floor</th>\n",
       "      <th>HallwayType</th>\n",
       "      <th>HeatingType</th>\n",
       "      <th>AptManageType</th>\n",
       "      <th>N_Parkinglot(Ground)</th>\n",
       "      <th>N_Parkinglot(Basement)</th>\n",
       "      <th>TimeToBusStop</th>\n",
       "      <th>TimeToSubway</th>\n",
       "      <th>N_manager</th>\n",
       "      <th>N_elevators</th>\n",
       "      <th>SubwayStation</th>\n",
       "      <th>N_FacilitiesInApt</th>\n",
       "      <th>N_FacilitiesNearBy(Total)</th>\n",
       "      <th>N_SchoolNearBy(Total)</th>\n",
       "    </tr>\n",
       "  </thead>\n",
       "  <tbody>\n",
       "    <tr>\n",
       "      <th>0</th>\n",
       "      <td>2006</td>\n",
       "      <td>814</td>\n",
       "      <td>3</td>\n",
       "      <td>terraced</td>\n",
       "      <td>individual_heating</td>\n",
       "      <td>management_in_trust</td>\n",
       "      <td>111.0</td>\n",
       "      <td>184.0</td>\n",
       "      <td>5min~10min</td>\n",
       "      <td>10min~15min</td>\n",
       "      <td>3.0</td>\n",
       "      <td>0.0</td>\n",
       "      <td>Kyungbuk_uni_hospital</td>\n",
       "      <td>5</td>\n",
       "      <td>6.0</td>\n",
       "      <td>9.0</td>\n",
       "    </tr>\n",
       "    <tr>\n",
       "      <th>1</th>\n",
       "      <td>1985</td>\n",
       "      <td>587</td>\n",
       "      <td>8</td>\n",
       "      <td>corridor</td>\n",
       "      <td>individual_heating</td>\n",
       "      <td>self_management</td>\n",
       "      <td>80.0</td>\n",
       "      <td>76.0</td>\n",
       "      <td>0~5min</td>\n",
       "      <td>5min~10min</td>\n",
       "      <td>2.0</td>\n",
       "      <td>2.0</td>\n",
       "      <td>Daegu</td>\n",
       "      <td>3</td>\n",
       "      <td>12.0</td>\n",
       "      <td>4.0</td>\n",
       "    </tr>\n",
       "    <tr>\n",
       "      <th>2</th>\n",
       "      <td>1985</td>\n",
       "      <td>587</td>\n",
       "      <td>6</td>\n",
       "      <td>corridor</td>\n",
       "      <td>individual_heating</td>\n",
       "      <td>self_management</td>\n",
       "      <td>80.0</td>\n",
       "      <td>76.0</td>\n",
       "      <td>0~5min</td>\n",
       "      <td>5min~10min</td>\n",
       "      <td>2.0</td>\n",
       "      <td>2.0</td>\n",
       "      <td>Daegu</td>\n",
       "      <td>3</td>\n",
       "      <td>12.0</td>\n",
       "      <td>4.0</td>\n",
       "    </tr>\n",
       "    <tr>\n",
       "      <th>3</th>\n",
       "      <td>2006</td>\n",
       "      <td>2056</td>\n",
       "      <td>8</td>\n",
       "      <td>terraced</td>\n",
       "      <td>individual_heating</td>\n",
       "      <td>management_in_trust</td>\n",
       "      <td>249.0</td>\n",
       "      <td>536.0</td>\n",
       "      <td>0~5min</td>\n",
       "      <td>0-5min</td>\n",
       "      <td>5.0</td>\n",
       "      <td>11.0</td>\n",
       "      <td>Sin-nam</td>\n",
       "      <td>5</td>\n",
       "      <td>3.0</td>\n",
       "      <td>7.0</td>\n",
       "    </tr>\n",
       "    <tr>\n",
       "      <th>4</th>\n",
       "      <td>1992</td>\n",
       "      <td>644</td>\n",
       "      <td>2</td>\n",
       "      <td>mixed</td>\n",
       "      <td>individual_heating</td>\n",
       "      <td>self_management</td>\n",
       "      <td>142.0</td>\n",
       "      <td>79.0</td>\n",
       "      <td>5min~10min</td>\n",
       "      <td>15min~20min</td>\n",
       "      <td>4.0</td>\n",
       "      <td>8.0</td>\n",
       "      <td>Myung-duk</td>\n",
       "      <td>3</td>\n",
       "      <td>9.0</td>\n",
       "      <td>14.0</td>\n",
       "    </tr>\n",
       "  </tbody>\n",
       "</table>\n",
       "</div>"
      ],
      "text/plain": [
       "   YearBuilt  Size(sqf)  Floor HallwayType         HeatingType  \\\n",
       "0       2006        814      3    terraced  individual_heating   \n",
       "1       1985        587      8    corridor  individual_heating   \n",
       "2       1985        587      6    corridor  individual_heating   \n",
       "3       2006       2056      8    terraced  individual_heating   \n",
       "4       1992        644      2       mixed  individual_heating   \n",
       "\n",
       "         AptManageType  N_Parkinglot(Ground)  N_Parkinglot(Basement)  \\\n",
       "0  management_in_trust                 111.0                   184.0   \n",
       "1      self_management                  80.0                    76.0   \n",
       "2      self_management                  80.0                    76.0   \n",
       "3  management_in_trust                 249.0                   536.0   \n",
       "4      self_management                 142.0                    79.0   \n",
       "\n",
       "  TimeToBusStop TimeToSubway  N_manager  N_elevators          SubwayStation  \\\n",
       "0    5min~10min  10min~15min        3.0          0.0  Kyungbuk_uni_hospital   \n",
       "1        0~5min   5min~10min        2.0          2.0                  Daegu   \n",
       "2        0~5min   5min~10min        2.0          2.0                  Daegu   \n",
       "3        0~5min       0-5min        5.0         11.0                Sin-nam   \n",
       "4    5min~10min  15min~20min        4.0          8.0              Myung-duk   \n",
       "\n",
       "   N_FacilitiesInApt  N_FacilitiesNearBy(Total)  N_SchoolNearBy(Total)  \n",
       "0                  5                        6.0                    9.0  \n",
       "1                  3                       12.0                    4.0  \n",
       "2                  3                       12.0                    4.0  \n",
       "3                  5                        3.0                    7.0  \n",
       "4                  3                        9.0                   14.0  "
      ]
     },
     "execution_count": 137,
     "metadata": {},
     "output_type": "execute_result"
    }
   ],
   "source": [
    "from data import load_data\n",
    "\n",
    "train_path = './data/train_data.csv'\n",
    "test_path = './data/test_data.csv'\n",
    "\n",
    "X_train_all, y_train_all = load_data(train_path, target='SalePrice')\n",
    "X_test, _ = load_data(test_path)\n",
    "\n",
    "X_train_all.head()"
   ]
  },
  {
   "cell_type": "markdown",
   "metadata": {},
   "source": [
    "## Preprocess data"
   ]
  },
  {
   "cell_type": "markdown",
   "metadata": {},
   "source": [
    "### Split data"
   ]
  },
  {
   "cell_type": "code",
   "execution_count": 138,
   "metadata": {},
   "outputs": [
    {
     "name": "stdout",
     "output_type": "stream",
     "text": [
      "Size of training set:  (3299, 16)\n",
      "Size of validation set:  (825, 16)\n"
     ]
    }
   ],
   "source": [
    "from sklearn.model_selection import train_test_split\n",
    "\n",
    "\n",
    "X_train, X_val, y_train, y_val = train_test_split(X_train_all, y_train_all, test_size=0.2, random_state=42)\n",
    "\n",
    "print(\"Size of training set: \", X_train.shape)\n",
    "print(\"Size of validation set: \", X_val.shape)"
   ]
  },
  {
   "cell_type": "markdown",
   "metadata": {},
   "source": [
    "### Polynomial features"
   ]
  },
  {
   "cell_type": "code",
   "execution_count": 139,
   "metadata": {},
   "outputs": [],
   "source": [
    "# from data import polynomial_expansion\n",
    "# import numpy as np\n",
    "\n",
    "# numeric_features = ['Floor', 'N_FacilitiesNearBy(Total)', 'N_SchoolNearBy(Total)']\n",
    "# numeric_features = X_train_all.select_dtypes(include=np.number).columns.tolist()\n",
    "\n",
    "# X_train_poly = polynomial_expansion(X_train, numeric_features, degree=2)\n",
    "# X_val_poly = polynomial_expansion(X_val, numeric_features, degree=2)\n",
    "\n",
    "# X_train_poly.head()"
   ]
  },
  {
   "cell_type": "markdown",
   "metadata": {},
   "source": [
    "### Categorical features"
   ]
  },
  {
   "cell_type": "code",
   "execution_count": 140,
   "metadata": {},
   "outputs": [
    {
     "name": "stdout",
     "output_type": "stream",
     "text": [
      "Categorical cols:  ['HallwayType', 'HeatingType', 'AptManageType', 'TimeToBusStop', 'TimeToSubway', 'SubwayStation']\n",
      "Numeric cols:  ['YearBuilt', 'Size(sqf)', 'Floor', 'N_Parkinglot(Ground)', 'N_Parkinglot(Basement)', 'N_manager', 'N_elevators', 'N_FacilitiesInApt', 'N_FacilitiesNearBy(Total)', 'N_SchoolNearBy(Total)']\n"
     ]
    }
   ],
   "source": [
    "categorical_cols = X_train_all.select_dtypes(include=['object']).columns.tolist()\n",
    "numeric_cols = X_train_all.select_dtypes(include=['float64', 'int64']).columns.tolist()\n",
    "\n",
    "categorical_indices = [X_train_all.columns.get_loc(col) for col in categorical_cols]\n",
    "numeric_indices = [X_train_all.columns.get_loc(col) for col in numeric_cols]\n",
    "\n",
    "print(\"Categorical cols: \", categorical_cols)\n",
    "print(\"Numeric cols: \", numeric_cols)"
   ]
  },
  {
   "cell_type": "code",
   "execution_count": 141,
   "metadata": {},
   "outputs": [
    {
     "data": {
      "text/html": [
       "<div>\n",
       "<style scoped>\n",
       "    .dataframe tbody tr th:only-of-type {\n",
       "        vertical-align: middle;\n",
       "    }\n",
       "\n",
       "    .dataframe tbody tr th {\n",
       "        vertical-align: top;\n",
       "    }\n",
       "\n",
       "    .dataframe thead th {\n",
       "        text-align: right;\n",
       "    }\n",
       "</style>\n",
       "<table border=\"1\" class=\"dataframe\">\n",
       "  <thead>\n",
       "    <tr style=\"text-align: right;\">\n",
       "      <th></th>\n",
       "      <th>YearBuilt</th>\n",
       "      <th>Size(sqf)</th>\n",
       "      <th>Floor</th>\n",
       "      <th>N_Parkinglot(Ground)</th>\n",
       "      <th>N_Parkinglot(Basement)</th>\n",
       "      <th>N_manager</th>\n",
       "      <th>N_elevators</th>\n",
       "      <th>N_FacilitiesInApt</th>\n",
       "      <th>N_FacilitiesNearBy(Total)</th>\n",
       "      <th>N_SchoolNearBy(Total)</th>\n",
       "      <th>...</th>\n",
       "      <th>TimeToSubway_5min~10min</th>\n",
       "      <th>TimeToSubway_no_bus_stop_nearby</th>\n",
       "      <th>SubwayStation_Bangoge</th>\n",
       "      <th>SubwayStation_Banwoldang</th>\n",
       "      <th>SubwayStation_Chil-sung-market</th>\n",
       "      <th>SubwayStation_Daegu</th>\n",
       "      <th>SubwayStation_Kyungbuk_uni_hospital</th>\n",
       "      <th>SubwayStation_Myung-duk</th>\n",
       "      <th>SubwayStation_Sin-nam</th>\n",
       "      <th>SubwayStation_no_subway_nearby</th>\n",
       "    </tr>\n",
       "  </thead>\n",
       "  <tbody>\n",
       "    <tr>\n",
       "      <th>3162</th>\n",
       "      <td>1993</td>\n",
       "      <td>914</td>\n",
       "      <td>9</td>\n",
       "      <td>523.0</td>\n",
       "      <td>536.0</td>\n",
       "      <td>8.0</td>\n",
       "      <td>20.0</td>\n",
       "      <td>4</td>\n",
       "      <td>14.0</td>\n",
       "      <td>17.0</td>\n",
       "      <td>...</td>\n",
       "      <td>False</td>\n",
       "      <td>False</td>\n",
       "      <td>False</td>\n",
       "      <td>False</td>\n",
       "      <td>False</td>\n",
       "      <td>False</td>\n",
       "      <td>False</td>\n",
       "      <td>True</td>\n",
       "      <td>False</td>\n",
       "      <td>False</td>\n",
       "    </tr>\n",
       "    <tr>\n",
       "      <th>2514</th>\n",
       "      <td>2007</td>\n",
       "      <td>868</td>\n",
       "      <td>24</td>\n",
       "      <td>0.0</td>\n",
       "      <td>1270.0</td>\n",
       "      <td>14.0</td>\n",
       "      <td>16.0</td>\n",
       "      <td>10</td>\n",
       "      <td>9.0</td>\n",
       "      <td>10.0</td>\n",
       "      <td>...</td>\n",
       "      <td>False</td>\n",
       "      <td>False</td>\n",
       "      <td>False</td>\n",
       "      <td>False</td>\n",
       "      <td>False</td>\n",
       "      <td>False</td>\n",
       "      <td>True</td>\n",
       "      <td>False</td>\n",
       "      <td>False</td>\n",
       "      <td>False</td>\n",
       "    </tr>\n",
       "    <tr>\n",
       "      <th>1894</th>\n",
       "      <td>2006</td>\n",
       "      <td>1149</td>\n",
       "      <td>18</td>\n",
       "      <td>249.0</td>\n",
       "      <td>536.0</td>\n",
       "      <td>5.0</td>\n",
       "      <td>11.0</td>\n",
       "      <td>5</td>\n",
       "      <td>3.0</td>\n",
       "      <td>7.0</td>\n",
       "      <td>...</td>\n",
       "      <td>False</td>\n",
       "      <td>False</td>\n",
       "      <td>False</td>\n",
       "      <td>False</td>\n",
       "      <td>False</td>\n",
       "      <td>False</td>\n",
       "      <td>False</td>\n",
       "      <td>False</td>\n",
       "      <td>True</td>\n",
       "      <td>False</td>\n",
       "    </tr>\n",
       "    <tr>\n",
       "      <th>3612</th>\n",
       "      <td>2005</td>\n",
       "      <td>914</td>\n",
       "      <td>12</td>\n",
       "      <td>67.0</td>\n",
       "      <td>798.0</td>\n",
       "      <td>6.0</td>\n",
       "      <td>0.0</td>\n",
       "      <td>7</td>\n",
       "      <td>13.0</td>\n",
       "      <td>15.0</td>\n",
       "      <td>...</td>\n",
       "      <td>True</td>\n",
       "      <td>False</td>\n",
       "      <td>True</td>\n",
       "      <td>False</td>\n",
       "      <td>False</td>\n",
       "      <td>False</td>\n",
       "      <td>False</td>\n",
       "      <td>False</td>\n",
       "      <td>False</td>\n",
       "      <td>False</td>\n",
       "    </tr>\n",
       "    <tr>\n",
       "      <th>3349</th>\n",
       "      <td>2013</td>\n",
       "      <td>644</td>\n",
       "      <td>3</td>\n",
       "      <td>8.0</td>\n",
       "      <td>930.0</td>\n",
       "      <td>6.0</td>\n",
       "      <td>14.0</td>\n",
       "      <td>7</td>\n",
       "      <td>9.0</td>\n",
       "      <td>11.0</td>\n",
       "      <td>...</td>\n",
       "      <td>False</td>\n",
       "      <td>False</td>\n",
       "      <td>False</td>\n",
       "      <td>False</td>\n",
       "      <td>False</td>\n",
       "      <td>False</td>\n",
       "      <td>True</td>\n",
       "      <td>False</td>\n",
       "      <td>False</td>\n",
       "      <td>False</td>\n",
       "    </tr>\n",
       "  </tbody>\n",
       "</table>\n",
       "<p>5 rows × 33 columns</p>\n",
       "</div>"
      ],
      "text/plain": [
       "      YearBuilt  Size(sqf)  Floor  N_Parkinglot(Ground)  \\\n",
       "3162       1993        914      9                 523.0   \n",
       "2514       2007        868     24                   0.0   \n",
       "1894       2006       1149     18                 249.0   \n",
       "3612       2005        914     12                  67.0   \n",
       "3349       2013        644      3                   8.0   \n",
       "\n",
       "      N_Parkinglot(Basement)  N_manager  N_elevators  N_FacilitiesInApt  \\\n",
       "3162                   536.0        8.0         20.0                  4   \n",
       "2514                  1270.0       14.0         16.0                 10   \n",
       "1894                   536.0        5.0         11.0                  5   \n",
       "3612                   798.0        6.0          0.0                  7   \n",
       "3349                   930.0        6.0         14.0                  7   \n",
       "\n",
       "      N_FacilitiesNearBy(Total)  N_SchoolNearBy(Total)  ...  \\\n",
       "3162                       14.0                   17.0  ...   \n",
       "2514                        9.0                   10.0  ...   \n",
       "1894                        3.0                    7.0  ...   \n",
       "3612                       13.0                   15.0  ...   \n",
       "3349                        9.0                   11.0  ...   \n",
       "\n",
       "      TimeToSubway_5min~10min  TimeToSubway_no_bus_stop_nearby  \\\n",
       "3162                    False                            False   \n",
       "2514                    False                            False   \n",
       "1894                    False                            False   \n",
       "3612                     True                            False   \n",
       "3349                    False                            False   \n",
       "\n",
       "      SubwayStation_Bangoge  SubwayStation_Banwoldang  \\\n",
       "3162                  False                     False   \n",
       "2514                  False                     False   \n",
       "1894                  False                     False   \n",
       "3612                   True                     False   \n",
       "3349                  False                     False   \n",
       "\n",
       "      SubwayStation_Chil-sung-market  SubwayStation_Daegu  \\\n",
       "3162                           False                False   \n",
       "2514                           False                False   \n",
       "1894                           False                False   \n",
       "3612                           False                False   \n",
       "3349                           False                False   \n",
       "\n",
       "      SubwayStation_Kyungbuk_uni_hospital  SubwayStation_Myung-duk  \\\n",
       "3162                                False                     True   \n",
       "2514                                 True                    False   \n",
       "1894                                False                    False   \n",
       "3612                                False                    False   \n",
       "3349                                 True                    False   \n",
       "\n",
       "      SubwayStation_Sin-nam  SubwayStation_no_subway_nearby  \n",
       "3162                  False                           False  \n",
       "2514                  False                           False  \n",
       "1894                   True                           False  \n",
       "3612                  False                           False  \n",
       "3349                  False                           False  \n",
       "\n",
       "[5 rows x 33 columns]"
      ]
     },
     "execution_count": 141,
     "metadata": {},
     "output_type": "execute_result"
    }
   ],
   "source": [
    "from data import one_hot_encode\n",
    "\n",
    "X_train_oh = X_train.copy()\n",
    "X_val_oh = X_val.copy()\n",
    "X_test_oh = X_test.copy()\n",
    "\n",
    "for col in categorical_cols:\n",
    "    X_train_oh = one_hot_encode(X_train_oh, col)\n",
    "    X_val_oh = one_hot_encode(X_val_oh, col)\n",
    "    X_test_oh = one_hot_encode(X_test_oh, col)\n",
    "\n",
    "X_train_oh.head()"
   ]
  },
  {
   "cell_type": "code",
   "execution_count": 142,
   "metadata": {},
   "outputs": [
    {
     "data": {
      "text/html": [
       "<div>\n",
       "<style scoped>\n",
       "    .dataframe tbody tr th:only-of-type {\n",
       "        vertical-align: middle;\n",
       "    }\n",
       "\n",
       "    .dataframe tbody tr th {\n",
       "        vertical-align: top;\n",
       "    }\n",
       "\n",
       "    .dataframe thead th {\n",
       "        text-align: right;\n",
       "    }\n",
       "</style>\n",
       "<table border=\"1\" class=\"dataframe\">\n",
       "  <thead>\n",
       "    <tr style=\"text-align: right;\">\n",
       "      <th></th>\n",
       "      <th>YearBuilt</th>\n",
       "      <th>Size(sqf)</th>\n",
       "      <th>Floor</th>\n",
       "      <th>N_Parkinglot(Ground)</th>\n",
       "      <th>N_Parkinglot(Basement)</th>\n",
       "      <th>N_manager</th>\n",
       "      <th>N_elevators</th>\n",
       "      <th>N_FacilitiesInApt</th>\n",
       "      <th>N_FacilitiesNearBy(Total)</th>\n",
       "      <th>N_SchoolNearBy(Total)</th>\n",
       "      <th>HallwayType</th>\n",
       "      <th>HeatingType</th>\n",
       "      <th>AptManageType</th>\n",
       "      <th>TimeToBusStop</th>\n",
       "      <th>TimeToSubway</th>\n",
       "      <th>SubwayStation</th>\n",
       "    </tr>\n",
       "  </thead>\n",
       "  <tbody>\n",
       "    <tr>\n",
       "      <th>3162</th>\n",
       "      <td>1993</td>\n",
       "      <td>914</td>\n",
       "      <td>9</td>\n",
       "      <td>523.0</td>\n",
       "      <td>536.0</td>\n",
       "      <td>8.0</td>\n",
       "      <td>20.0</td>\n",
       "      <td>4</td>\n",
       "      <td>14.0</td>\n",
       "      <td>17.0</td>\n",
       "      <td>0</td>\n",
       "      <td>0</td>\n",
       "      <td>0</td>\n",
       "      <td>0</td>\n",
       "      <td>0</td>\n",
       "      <td>0</td>\n",
       "    </tr>\n",
       "    <tr>\n",
       "      <th>2514</th>\n",
       "      <td>2007</td>\n",
       "      <td>868</td>\n",
       "      <td>24</td>\n",
       "      <td>0.0</td>\n",
       "      <td>1270.0</td>\n",
       "      <td>14.0</td>\n",
       "      <td>16.0</td>\n",
       "      <td>10</td>\n",
       "      <td>9.0</td>\n",
       "      <td>10.0</td>\n",
       "      <td>1</td>\n",
       "      <td>0</td>\n",
       "      <td>0</td>\n",
       "      <td>0</td>\n",
       "      <td>1</td>\n",
       "      <td>1</td>\n",
       "    </tr>\n",
       "    <tr>\n",
       "      <th>1894</th>\n",
       "      <td>2006</td>\n",
       "      <td>1149</td>\n",
       "      <td>18</td>\n",
       "      <td>249.0</td>\n",
       "      <td>536.0</td>\n",
       "      <td>5.0</td>\n",
       "      <td>11.0</td>\n",
       "      <td>5</td>\n",
       "      <td>3.0</td>\n",
       "      <td>7.0</td>\n",
       "      <td>1</td>\n",
       "      <td>0</td>\n",
       "      <td>0</td>\n",
       "      <td>0</td>\n",
       "      <td>1</td>\n",
       "      <td>2</td>\n",
       "    </tr>\n",
       "    <tr>\n",
       "      <th>3612</th>\n",
       "      <td>2005</td>\n",
       "      <td>914</td>\n",
       "      <td>12</td>\n",
       "      <td>67.0</td>\n",
       "      <td>798.0</td>\n",
       "      <td>6.0</td>\n",
       "      <td>0.0</td>\n",
       "      <td>7</td>\n",
       "      <td>13.0</td>\n",
       "      <td>15.0</td>\n",
       "      <td>0</td>\n",
       "      <td>0</td>\n",
       "      <td>0</td>\n",
       "      <td>0</td>\n",
       "      <td>2</td>\n",
       "      <td>3</td>\n",
       "    </tr>\n",
       "    <tr>\n",
       "      <th>3349</th>\n",
       "      <td>2013</td>\n",
       "      <td>644</td>\n",
       "      <td>3</td>\n",
       "      <td>8.0</td>\n",
       "      <td>930.0</td>\n",
       "      <td>6.0</td>\n",
       "      <td>14.0</td>\n",
       "      <td>7</td>\n",
       "      <td>9.0</td>\n",
       "      <td>11.0</td>\n",
       "      <td>1</td>\n",
       "      <td>0</td>\n",
       "      <td>0</td>\n",
       "      <td>0</td>\n",
       "      <td>1</td>\n",
       "      <td>1</td>\n",
       "    </tr>\n",
       "  </tbody>\n",
       "</table>\n",
       "</div>"
      ],
      "text/plain": [
       "      YearBuilt  Size(sqf)  Floor  N_Parkinglot(Ground)  \\\n",
       "3162       1993        914      9                 523.0   \n",
       "2514       2007        868     24                   0.0   \n",
       "1894       2006       1149     18                 249.0   \n",
       "3612       2005        914     12                  67.0   \n",
       "3349       2013        644      3                   8.0   \n",
       "\n",
       "      N_Parkinglot(Basement)  N_manager  N_elevators  N_FacilitiesInApt  \\\n",
       "3162                   536.0        8.0         20.0                  4   \n",
       "2514                  1270.0       14.0         16.0                 10   \n",
       "1894                   536.0        5.0         11.0                  5   \n",
       "3612                   798.0        6.0          0.0                  7   \n",
       "3349                   930.0        6.0         14.0                  7   \n",
       "\n",
       "      N_FacilitiesNearBy(Total)  N_SchoolNearBy(Total)  HallwayType  \\\n",
       "3162                       14.0                   17.0            0   \n",
       "2514                        9.0                   10.0            1   \n",
       "1894                        3.0                    7.0            1   \n",
       "3612                       13.0                   15.0            0   \n",
       "3349                        9.0                   11.0            1   \n",
       "\n",
       "      HeatingType  AptManageType  TimeToBusStop  TimeToSubway  SubwayStation  \n",
       "3162            0              0              0             0              0  \n",
       "2514            0              0              0             1              1  \n",
       "1894            0              0              0             1              2  \n",
       "3612            0              0              0             2              3  \n",
       "3349            0              0              0             1              1  "
      ]
     },
     "execution_count": 142,
     "metadata": {},
     "output_type": "execute_result"
    }
   ],
   "source": [
    "from data import index_encode\n",
    "\n",
    "X_train_ie = X_train.copy()\n",
    "X_val_ie = X_val.copy()\n",
    "X_test_ie = X_test.copy()\n",
    "\n",
    "for col in categorical_cols:\n",
    "    X_train_ie, mappings = index_encode(X_train_ie, col)\n",
    "    X_val_ie, _ = index_encode(X_val_ie, col, mappings=mappings)\n",
    "    X_test_ie, _ = index_encode(X_test_ie, col, mappings=mappings)\n",
    "\n",
    "X_train_ie.head()"
   ]
  },
  {
   "cell_type": "markdown",
   "metadata": {},
   "source": [
    "### Standardize numerical features"
   ]
  },
  {
   "cell_type": "code",
   "execution_count": 143,
   "metadata": {},
   "outputs": [],
   "source": [
    "from sklearn.preprocessing import StandardScaler\n",
    "\n",
    "scaler = StandardScaler()\n",
    "scaler.fit(X_train[numeric_cols])\n",
    "\n",
    "X_train_oh[numeric_cols] = scaler.transform(X_train_oh[numeric_cols])\n",
    "X_val_oh[numeric_cols] = scaler.transform(X_val_oh[numeric_cols])\n",
    "X_test_oh[numeric_cols] = scaler.transform(X_test_oh[numeric_cols])\n",
    "\n",
    "X_train_ie[numeric_cols] = scaler.transform(X_train_ie[numeric_cols])\n",
    "X_val_ie[numeric_cols] = scaler.transform(X_val_ie[numeric_cols])\n",
    "X_test_ie[numeric_cols] = scaler.transform(X_test_ie[numeric_cols])"
   ]
  },
  {
   "cell_type": "markdown",
   "metadata": {},
   "source": [
    "### Upsample minority classes"
   ]
  },
  {
   "cell_type": "code",
   "execution_count": 144,
   "metadata": {},
   "outputs": [
    {
     "data": {
      "text/plain": [
       "SalePrice\n",
       "1    0.726887\n",
       "2    0.140042\n",
       "0    0.133071\n",
       "Name: proportion, dtype: float64"
      ]
     },
     "execution_count": 144,
     "metadata": {},
     "output_type": "execute_result"
    }
   ],
   "source": [
    "class_distribution = y_train.value_counts(normalize=True)\n",
    "class_distribution"
   ]
  },
  {
   "cell_type": "code",
   "execution_count": 145,
   "metadata": {},
   "outputs": [],
   "source": [
    "# TODO: maybe use SMOTE?\n",
    "\n",
    "# from imblearn.over_sampling import SMOTE\n",
    "# import numpy as np\n",
    "\n",
    "# smote = SMOTE()\n",
    "# X_train, y_train = smote.fit_resample(X_train, y_train)\n",
    "\n",
    "# print(\"After SMOTE:\", np.bincount(y_train))"
   ]
  },
  {
   "cell_type": "markdown",
   "metadata": {},
   "source": [
    "### Datasets"
   ]
  },
  {
   "cell_type": "code",
   "execution_count": 146,
   "metadata": {},
   "outputs": [
    {
     "data": {
      "text/plain": [
       "{0: np.float64(7.514806378132118),\n",
       " 1: np.float64(1.3757297748123436),\n",
       " 2: np.float64(7.140692640692641)}"
      ]
     },
     "execution_count": 146,
     "metadata": {},
     "output_type": "execute_result"
    }
   ],
   "source": [
    "class_weights = { 0: 1 / class_distribution[0], 1: 1 / class_distribution[1], 2: 1 / class_distribution[2] }\n",
    "\n",
    "# TODO: remove\n",
    "\n",
    "# class_weights[0] *= 2\n",
    "# class_weights[2] *= 2\n",
    "\n",
    "class_weights"
   ]
  },
  {
   "cell_type": "code",
   "execution_count": 147,
   "metadata": {},
   "outputs": [],
   "source": [
    "# convert all non-numeric values to float32\n",
    "\n",
    "X_train_oh = X_train_oh.values.astype('float32')\n",
    "X_val_oh = X_val_oh.values.astype('float32')\n",
    "X_test_oh = X_test_oh.values.astype('float32')\n",
    "\n",
    "X_train_ie = X_train_ie.values.astype('float32')\n",
    "X_val_ie = X_val_ie.values.astype('float32')\n",
    "X_test_ie = X_test_ie.values.astype('float32')"
   ]
  },
  {
   "cell_type": "code",
   "execution_count": 148,
   "metadata": {},
   "outputs": [],
   "source": [
    "from data import to_dataloader\n",
    "\n",
    "train_loader_oh = to_dataloader(X_train_oh, y_train.values, batch_size=1024, class_weights=class_weights)\n",
    "val_loader_oh = to_dataloader(X_val_oh, y_val.values)\n",
    "\n",
    "train_loader_ie = to_dataloader(X_train_ie, y_train.values, batch_size=1024, class_weights=class_weights)\n",
    "val_loader_ie = to_dataloader(X_val_ie, y_val.values)"
   ]
  },
  {
   "cell_type": "code",
   "execution_count": 149,
   "metadata": {},
   "outputs": [
    {
     "name": "stdout",
     "output_type": "stream",
     "text": [
      "Vector size (one-hot encoded):  33\n",
      "Vector size (index encoded):  16\n"
     ]
    }
   ],
   "source": [
    "vector_size_oh = X_train_oh.shape[1]\n",
    "vector_size_ie = X_train_ie.shape[1]\n",
    "\n",
    "print(\"Vector size (one-hot encoded): \", vector_size_oh)\n",
    "print(\"Vector size (index encoded): \", vector_size_ie)"
   ]
  },
  {
   "cell_type": "code",
   "execution_count": 150,
   "metadata": {},
   "outputs": [
    {
     "name": "stdout",
     "output_type": "stream",
     "text": [
      "Number of classes:  3\n"
     ]
    }
   ],
   "source": [
    "num_classes = len(class_distribution)\n",
    "\n",
    "print(\"Number of classes: \", num_classes)"
   ]
  },
  {
   "cell_type": "markdown",
   "metadata": {},
   "source": [
    "# Model"
   ]
  },
  {
   "cell_type": "code",
   "execution_count": 151,
   "metadata": {},
   "outputs": [],
   "source": [
    "import torch.nn as nn\n",
    "\n",
    "class DefaultNeuralNetwork(nn.Module):\n",
    "    def __init__(self, input_size: int, output_size: int = 1, dropout: float = 0.2):\n",
    "        super().__init__()\n",
    "\n",
    "        self.seq = nn.Sequential(\n",
    "            nn.Linear(input_size, 1024),\n",
    "            nn.BatchNorm1d(1024),\n",
    "            nn.LeakyReLU(),\n",
    "            nn.Dropout(dropout),\n",
    "            nn.Linear(1024, 1024),\n",
    "            nn.BatchNorm1d(1024),\n",
    "            nn.LeakyReLU(),\n",
    "            nn.Dropout(dropout),\n",
    "            nn.Linear(1024, 1024),\n",
    "            nn.BatchNorm1d(1024),\n",
    "            nn.LeakyReLU(),\n",
    "            nn.Dropout(dropout),\n",
    "            nn.Linear(1024, 1024),\n",
    "            nn.BatchNorm1d(1024),\n",
    "            nn.LeakyReLU(),\n",
    "            nn.Dropout(dropout),\n",
    "            nn.Linear(1024, output_size),\n",
    "            # nn.Sigmoid()\n",
    "        )\n",
    "\n",
    "    def forward(self, x):\n",
    "        return self.seq(x)"
   ]
  },
  {
   "cell_type": "code",
   "execution_count": 152,
   "metadata": {},
   "outputs": [],
   "source": [
    "import numpy as np\n",
    "import torch\n",
    "import torch.nn as nn\n",
    "\n",
    "def get_unique_features(X, index, multiplier=2):\n",
    "    return np.unique(X[:, index]).shape[0] * multiplier\n",
    "\n",
    "class EmbeddingNeuralNetwork(nn.Module):\n",
    "    def __init__(self, base_input_size: int,  output_size: int = 1, dropout: float = 0.2):\n",
    "        super().__init__()\n",
    "\n",
    "        embedding_dim = 32\n",
    "        self.embeddings = nn.ModuleDict({\n",
    "            str(feature): nn.Embedding(get_unique_features(X_train, feature), embedding_dim)\n",
    "            for feature in categorical_indices\n",
    "        })\n",
    "\n",
    "        input_size = base_input_size + len(categorical_indices) * (embedding_dim - 1)\n",
    "\n",
    "        self.seq = nn.Sequential(\n",
    "            nn.Linear(input_size, 1024),\n",
    "            nn.BatchNorm1d(1024),\n",
    "            nn.LeakyReLU(),\n",
    "            nn.Dropout(dropout),\n",
    "            nn.Linear(1024, 1024),\n",
    "            nn.BatchNorm1d(1024),\n",
    "            nn.LeakyReLU(),\n",
    "            nn.Dropout(dropout),\n",
    "            nn.Linear(1024, 1024),\n",
    "            nn.BatchNorm1d(1024),\n",
    "            nn.LeakyReLU(),\n",
    "            nn.Dropout(dropout),\n",
    "            nn.Linear(1024, 1024),\n",
    "            nn.BatchNorm1d(1024),\n",
    "            nn.LeakyReLU(),\n",
    "            nn.Dropout(dropout),\n",
    "            nn.Linear(1024, output_size),\n",
    "            # nn.Sigmoid()  # Uncomment if needed.\n",
    "        )\n",
    "\n",
    "    def forward(self, x: list):\n",
    "        numerical = x[:, numeric_indices].float()\n",
    "        embedded_features = []\n",
    "        \n",
    "        for feature in categorical_indices:\n",
    "            cat_column = x[:, feature].long()\n",
    "            emb = self.embeddings[str(feature)](cat_column)\n",
    "            embedded_features.append(emb)\n",
    "\n",
    "        embedded = torch.cat(embedded_features, dim=1)\n",
    "        x_combined = torch.cat([numerical, embedded], dim=1)\n",
    "\n",
    "        return self.seq(x_combined)"
   ]
  },
  {
   "cell_type": "markdown",
   "metadata": {},
   "source": [
    "# Experiments"
   ]
  },
  {
   "cell_type": "code",
   "execution_count": 166,
   "metadata": {},
   "outputs": [],
   "source": [
    "def ordinal_loss(preds, targets, weights=(0.5, 2)):\n",
    "    target1 = (targets > 0).float()\n",
    "    target2 = (targets > 1).float()\n",
    "\n",
    "    target1_weight, target2_weight = weights\n",
    "\n",
    "    loss1 = nn.BCEWithLogitsLoss(pos_weight=torch.tensor(target1_weight))(preds[:, 0], target1)\n",
    "    loss2 = nn.BCEWithLogitsLoss(pos_weight=torch.tensor(target2_weight))(preds[:, 1], target2)\n",
    "\n",
    "    return loss1 + loss2"
   ]
  },
  {
   "cell_type": "markdown",
   "metadata": {},
   "source": [
    "## Default NN"
   ]
  },
  {
   "cell_type": "code",
   "execution_count": 167,
   "metadata": {},
   "outputs": [
    {
     "name": "stderr",
     "output_type": "stream",
     "text": [
      "/Users/grzegorzstatkiewicz/Documents/studies/ssne/.venv/lib/python3.12/site-packages/torch/optim/lr_scheduler.py:62: UserWarning: The verbose parameter is deprecated. Please use get_last_lr() to access the learning rate.\n",
      "  warnings.warn(\n"
     ]
    },
    {
     "name": "stdout",
     "output_type": "stream",
     "text": [
      "Epoch  1/100 - Train Loss: 0.94 - Val Loss: 1.13 - Val Acc: 0.3333 - LR: 0.0001\n",
      "Epoch  2/100 - Train Loss: 0.71 - Val Loss: 1.05 - Val Acc: 0.3333 - LR: 0.0001\n",
      "Epoch  3/100 - Train Loss: 0.62 - Val Loss: 0.94 - Val Acc: 0.4125 - LR: 0.0001\n",
      "Epoch  4/100 - Train Loss: 0.57 - Val Loss: 0.81 - Val Acc: 0.7635 - LR: 0.0001\n",
      "Epoch  5/100 - Train Loss: 0.50 - Val Loss: 0.70 - Val Acc: 0.8002 - LR: 0.0001\n",
      "Epoch  6/100 - Train Loss: 0.47 - Val Loss: 0.60 - Val Acc: 0.8502 - LR: 0.0001\n",
      "Epoch  7/100 - Train Loss: 0.44 - Val Loss: 0.50 - Val Acc: 0.8642 - LR: 0.0001\n",
      "Epoch  8/100 - Train Loss: 0.43 - Val Loss: 0.45 - Val Acc: 0.8580 - LR: 0.0001\n",
      "Epoch  9/100 - Train Loss: 0.41 - Val Loss: 0.41 - Val Acc: 0.8662 - LR: 0.0001\n",
      "Epoch 10/100 - Train Loss: 0.38 - Val Loss: 0.39 - Val Acc: 0.8880 - LR: 0.0001\n",
      "Epoch 11/100 - Train Loss: 0.37 - Val Loss: 0.37 - Val Acc: 0.8779 - LR: 0.0001\n",
      "Epoch 12/100 - Train Loss: 0.35 - Val Loss: 0.36 - Val Acc: 0.8721 - LR: 0.0001\n",
      "Epoch 13/100 - Train Loss: 0.35 - Val Loss: 0.35 - Val Acc: 0.8619 - LR: 0.0001\n",
      "Epoch 14/100 - Train Loss: 0.37 - Val Loss: 0.34 - Val Acc: 0.8860 - LR: 0.0001\n",
      "Epoch 15/100 - Train Loss: 0.38 - Val Loss: 0.33 - Val Acc: 0.8729 - LR: 0.0001\n",
      "Epoch 16/100 - Train Loss: 0.34 - Val Loss: 0.34 - Val Acc: 0.8670 - LR: 0.0001\n",
      "Epoch 17/100 - Train Loss: 0.34 - Val Loss: 0.33 - Val Acc: 0.8779 - LR: 0.0001\n",
      "Epoch 18/100 - Train Loss: 0.34 - Val Loss: 0.33 - Val Acc: 0.8704 - LR: 0.0001\n",
      "Epoch 19/100 - Train Loss: 0.35 - Val Loss: 0.33 - Val Acc: 0.8872 - LR: 0.0001\n",
      "Epoch 20/100 - Train Loss: 0.36 - Val Loss: 0.32 - Val Acc: 0.8734 - LR: 0.0001\n",
      "Epoch 21/100 - Train Loss: 0.33 - Val Loss: 0.33 - Val Acc: 0.8625 - LR: 0.0001\n",
      "Epoch 22/100 - Train Loss: 0.32 - Val Loss: 0.33 - Val Acc: 0.8765 - LR: 0.0001\n",
      "Epoch 23/100 - Train Loss: 0.32 - Val Loss: 0.32 - Val Acc: 0.8849 - LR: 0.0001\n",
      "Epoch 24/100 - Train Loss: 0.35 - Val Loss: 0.32 - Val Acc: 0.8771 - LR: 0.0001\n",
      "Epoch 25/100 - Train Loss: 0.33 - Val Loss: 0.31 - Val Acc: 0.8759 - LR: 0.0001\n",
      "Epoch 26/100 - Train Loss: 0.36 - Val Loss: 0.31 - Val Acc: 0.8768 - LR: 0.0001\n",
      "Epoch 27/100 - Train Loss: 0.31 - Val Loss: 0.31 - Val Acc: 0.8637 - LR: 0.0001\n",
      "Epoch 28/100 - Train Loss: 0.30 - Val Loss: 0.31 - Val Acc: 0.8709 - LR: 0.0001\n",
      "Epoch 29/100 - Train Loss: 0.32 - Val Loss: 0.31 - Val Acc: 0.8660 - LR: 0.0001\n",
      "Epoch 30/100 - Train Loss: 0.30 - Val Loss: 0.31 - Val Acc: 0.8675 - LR: 0.0001\n",
      "Epoch 31/100 - Train Loss: 0.33 - Val Loss: 0.31 - Val Acc: 0.8772 - LR: 0.0001\n",
      "Epoch 32/100 - Train Loss: 0.31 - Val Loss: 0.31 - Val Acc: 0.8685 - LR: 0.0001\n",
      "Epoch 33/100 - Train Loss: 0.30 - Val Loss: 0.31 - Val Acc: 0.8615 - LR: 0.0001\n",
      "Epoch 34/100 - Train Loss: 0.31 - Val Loss: 0.31 - Val Acc: 0.8600 - LR: 0.0001\n",
      "Epoch 35/100 - Train Loss: 0.34 - Val Loss: 0.30 - Val Acc: 0.8624 - LR: 0.0001\n",
      "Epoch 36/100 - Train Loss: 0.30 - Val Loss: 0.31 - Val Acc: 0.8813 - LR: 0.0001\n",
      "Epoch 37/100 - Train Loss: 0.32 - Val Loss: 0.31 - Val Acc: 0.8702 - LR: 0.0001\n",
      "Epoch 38/100 - Train Loss: 0.31 - Val Loss: 0.32 - Val Acc: 0.8693 - LR: 0.0001\n",
      "Epoch 39/100 - Train Loss: 0.30 - Val Loss: 0.32 - Val Acc: 0.8703 - LR: 0.0001\n",
      "Epoch 40/100 - Train Loss: 0.33 - Val Loss: 0.31 - Val Acc: 0.8751 - LR: 0.0001\n",
      "Epoch 41/100 - Train Loss: 0.32 - Val Loss: 0.30 - Val Acc: 0.8736 - LR: 1e-05\n",
      "Epoch 42/100 - Train Loss: 0.33 - Val Loss: 0.30 - Val Acc: 0.8655 - LR: 1e-05\n",
      "Epoch 43/100 - Train Loss: 0.31 - Val Loss: 0.30 - Val Acc: 0.8607 - LR: 1e-05\n",
      "Epoch 44/100 - Train Loss: 0.30 - Val Loss: 0.30 - Val Acc: 0.8585 - LR: 1e-05\n",
      "Epoch 45/100 - Train Loss: 0.32 - Val Loss: 0.30 - Val Acc: 0.8591 - LR: 1e-05\n",
      "Epoch 46/100 - Train Loss: 0.32 - Val Loss: 0.30 - Val Acc: 0.8607 - LR: 1e-05\n",
      "Epoch 47/100 - Train Loss: 0.30 - Val Loss: 0.30 - Val Acc: 0.8694 - LR: 1e-05\n",
      "Epoch 48/100 - Train Loss: 0.29 - Val Loss: 0.30 - Val Acc: 0.8684 - LR: 1e-05\n",
      "Epoch 49/100 - Train Loss: 0.29 - Val Loss: 0.30 - Val Acc: 0.8636 - LR: 1e-05\n",
      "Epoch 50/100 - Train Loss: 0.31 - Val Loss: 0.30 - Val Acc: 0.8641 - LR: 1e-05\n",
      "Epoch 51/100 - Train Loss: 0.28 - Val Loss: 0.30 - Val Acc: 0.8647 - LR: 1e-05\n",
      "Epoch 52/100 - Train Loss: 0.32 - Val Loss: 0.30 - Val Acc: 0.8647 - LR: 1.0000000000000002e-06\n",
      "Epoch 53/100 - Train Loss: 0.31 - Val Loss: 0.30 - Val Acc: 0.8663 - LR: 1.0000000000000002e-06\n",
      "Epoch 54/100 - Train Loss: 0.31 - Val Loss: 0.30 - Val Acc: 0.8647 - LR: 1.0000000000000002e-06\n",
      "Epoch 55/100 - Train Loss: 0.30 - Val Loss: 0.30 - Val Acc: 0.8636 - LR: 1.0000000000000002e-06\n",
      "Epoch 56/100 - Train Loss: 0.29 - Val Loss: 0.30 - Val Acc: 0.8663 - LR: 1.0000000000000002e-06\n",
      "Epoch 57/100 - Train Loss: 0.30 - Val Loss: 0.30 - Val Acc: 0.8694 - LR: 1.0000000000000002e-06\n",
      "Epoch 58/100 - Train Loss: 0.30 - Val Loss: 0.30 - Val Acc: 0.8641 - LR: 1.0000000000000002e-07\n",
      "Epoch 59/100 - Train Loss: 0.27 - Val Loss: 0.30 - Val Acc: 0.8641 - LR: 1.0000000000000002e-07\n",
      "Epoch 60/100 - Train Loss: 0.29 - Val Loss: 0.30 - Val Acc: 0.8614 - LR: 1.0000000000000002e-07\n",
      "Epoch 61/100 - Train Loss: 0.32 - Val Loss: 0.30 - Val Acc: 0.8641 - LR: 1.0000000000000002e-07\n",
      "Epoch 62/100 - Train Loss: 0.30 - Val Loss: 0.30 - Val Acc: 0.8647 - LR: 1.0000000000000002e-07\n",
      "Epoch 63/100 - Train Loss: 0.29 - Val Loss: 0.30 - Val Acc: 0.8625 - LR: 1.0000000000000002e-07\n",
      "Epoch 64/100 - Train Loss: 0.30 - Val Loss: 0.30 - Val Acc: 0.8625 - LR: 1.0000000000000004e-08\n",
      "Epoch 65/100 - Train Loss: 0.28 - Val Loss: 0.30 - Val Acc: 0.8625 - LR: 1.0000000000000004e-08\n",
      "Epoch 66/100 - Train Loss: 0.31 - Val Loss: 0.30 - Val Acc: 0.8647 - LR: 1.0000000000000004e-08\n",
      "Epoch 67/100 - Train Loss: 0.30 - Val Loss: 0.30 - Val Acc: 0.8641 - LR: 1.0000000000000004e-08\n",
      "Epoch 68/100 - Train Loss: 0.29 - Val Loss: 0.30 - Val Acc: 0.8614 - LR: 1.0000000000000004e-08\n",
      "Epoch 69/100 - Train Loss: 0.31 - Val Loss: 0.30 - Val Acc: 0.8614 - LR: 1.0000000000000004e-08\n",
      "Epoch 70/100 - Train Loss: 0.30 - Val Loss: 0.30 - Val Acc: 0.8609 - LR: 1.0000000000000004e-08\n",
      "Epoch 71/100 - Train Loss: 0.30 - Val Loss: 0.30 - Val Acc: 0.8609 - LR: 1.0000000000000004e-08\n",
      "Epoch 72/100 - Train Loss: 0.30 - Val Loss: 0.30 - Val Acc: 0.8614 - LR: 1.0000000000000004e-08\n",
      "Epoch 73/100 - Train Loss: 0.29 - Val Loss: 0.30 - Val Acc: 0.8614 - LR: 1.0000000000000004e-08\n",
      "Epoch 74/100 - Train Loss: 0.30 - Val Loss: 0.30 - Val Acc: 0.8641 - LR: 1.0000000000000004e-08\n",
      "Epoch 75/100 - Train Loss: 0.31 - Val Loss: 0.30 - Val Acc: 0.8663 - LR: 1.0000000000000004e-08\n",
      "Epoch 76/100 - Train Loss: 0.29 - Val Loss: 0.30 - Val Acc: 0.8614 - LR: 1.0000000000000004e-08\n",
      "Epoch 77/100 - Train Loss: 0.30 - Val Loss: 0.30 - Val Acc: 0.8614 - LR: 1.0000000000000004e-08\n",
      "Epoch 78/100 - Train Loss: 0.28 - Val Loss: 0.30 - Val Acc: 0.8614 - LR: 1.0000000000000004e-08\n",
      "Epoch 79/100 - Train Loss: 0.30 - Val Loss: 0.30 - Val Acc: 0.8651 - LR: 1.0000000000000004e-08\n",
      "Epoch 80/100 - Train Loss: 0.29 - Val Loss: 0.30 - Val Acc: 0.8674 - LR: 1.0000000000000004e-08\n",
      "Epoch 81/100 - Train Loss: 0.28 - Val Loss: 0.30 - Val Acc: 0.8668 - LR: 1.0000000000000004e-08\n",
      "Epoch 82/100 - Train Loss: 0.32 - Val Loss: 0.30 - Val Acc: 0.8689 - LR: 1.0000000000000004e-08\n",
      "Epoch 83/100 - Train Loss: 0.29 - Val Loss: 0.30 - Val Acc: 0.8663 - LR: 1.0000000000000004e-08\n",
      "Epoch 84/100 - Train Loss: 0.30 - Val Loss: 0.30 - Val Acc: 0.8614 - LR: 1.0000000000000004e-08\n",
      "Epoch 85/100 - Train Loss: 0.29 - Val Loss: 0.30 - Val Acc: 0.8641 - LR: 1.0000000000000004e-08\n",
      "Epoch 86/100 - Train Loss: 0.30 - Val Loss: 0.30 - Val Acc: 0.8614 - LR: 1.0000000000000004e-08\n",
      "Epoch 87/100 - Train Loss: 0.30 - Val Loss: 0.30 - Val Acc: 0.8614 - LR: 1.0000000000000004e-08\n",
      "Epoch 88/100 - Train Loss: 0.30 - Val Loss: 0.30 - Val Acc: 0.8641 - LR: 1.0000000000000004e-08\n",
      "Epoch 89/100 - Train Loss: 0.29 - Val Loss: 0.30 - Val Acc: 0.8641 - LR: 1.0000000000000004e-08\n",
      "Epoch 90/100 - Train Loss: 0.30 - Val Loss: 0.30 - Val Acc: 0.8614 - LR: 1.0000000000000004e-08\n",
      "Epoch 91/100 - Train Loss: 0.29 - Val Loss: 0.30 - Val Acc: 0.8614 - LR: 1.0000000000000004e-08\n",
      "Epoch 92/100 - Train Loss: 0.31 - Val Loss: 0.30 - Val Acc: 0.8614 - LR: 1.0000000000000004e-08\n",
      "Epoch 93/100 - Train Loss: 0.29 - Val Loss: 0.30 - Val Acc: 0.8641 - LR: 1.0000000000000004e-08\n",
      "Epoch 94/100 - Train Loss: 0.27 - Val Loss: 0.30 - Val Acc: 0.8630 - LR: 1.0000000000000004e-08\n",
      "Epoch 95/100 - Train Loss: 0.30 - Val Loss: 0.30 - Val Acc: 0.8630 - LR: 1.0000000000000004e-08\n",
      "Epoch 96/100 - Train Loss: 0.31 - Val Loss: 0.30 - Val Acc: 0.8651 - LR: 1.0000000000000004e-08\n",
      "Epoch 97/100 - Train Loss: 0.30 - Val Loss: 0.30 - Val Acc: 0.8651 - LR: 1.0000000000000004e-08\n",
      "Epoch 98/100 - Train Loss: 0.30 - Val Loss: 0.30 - Val Acc: 0.8614 - LR: 1.0000000000000004e-08\n",
      "Epoch 99/100 - Train Loss: 0.33 - Val Loss: 0.30 - Val Acc: 0.8624 - LR: 1.0000000000000004e-08\n",
      "Epoch 100/100 - Train Loss: 0.29 - Val Loss: 0.30 - Val Acc: 0.8624 - LR: 1.0000000000000004e-08\n"
     ]
    },
    {
     "data": {
      "image/png": "[encoded data removed]",
      "text/plain": [
       "<Figure size 1200x400 with 2 Axes>"
      ]
     },
     "metadata": {},
     "output_type": "display_data"
    }
   ],
   "source": [
    "from train import Trainer\n",
    "\n",
    "nn_model = DefaultNeuralNetwork(input_size=vector_size_oh, output_size=num_classes-1, dropout=0.1)\n",
    "optim = torch.optim.AdamW(nn_model.parameters(), lr=1e-4, weight_decay=2e-1)\n",
    "scheduler = torch.optim.lr_scheduler.ReduceLROnPlateau(optim, patience=5, factor=0.1, verbose=True)\n",
    "criterion = ordinal_loss\n",
    "\n",
    "trainer = Trainer(nn_model)\n",
    "trainer.to_device(device)\n",
    "trainer.compile(optimizer=optim, criterion=criterion, scheduler=scheduler)\n",
    "\n",
    "trainer.fit(train_loader_oh, val_loader_oh, epochs=100)"
   ]
  },
  {
   "cell_type": "markdown",
   "metadata": {},
   "source": [
    "## Embedding NN"
   ]
  },
  {
   "cell_type": "code",
   "execution_count": 168,
   "metadata": {},
   "outputs": [
    {
     "name": "stdout",
     "output_type": "stream",
     "text": [
      "Epoch  1/100 - Train Loss: 0.94 - Val Loss: 1.12 - Val Acc: 0.3333 - LR: 0.0001\n",
      "Epoch  2/100 - Train Loss: 0.72 - Val Loss: 1.02 - Val Acc: 0.3333 - LR: 0.0001\n",
      "Epoch  3/100 - Train Loss: 0.64 - Val Loss: 0.90 - Val Acc: 0.4231 - LR: 0.0001\n",
      "Epoch  4/100 - Train Loss: 0.58 - Val Loss: 0.78 - Val Acc: 0.7492 - LR: 0.0001\n",
      "Epoch  5/100 - Train Loss: 0.52 - Val Loss: 0.66 - Val Acc: 0.8168 - LR: 0.0001\n",
      "Epoch  6/100 - Train Loss: 0.47 - Val Loss: 0.57 - Val Acc: 0.8288 - LR: 0.0001\n",
      "Epoch  7/100 - Train Loss: 0.46 - Val Loss: 0.50 - Val Acc: 0.8667 - LR: 0.0001\n",
      "Epoch  8/100 - Train Loss: 0.42 - Val Loss: 0.44 - Val Acc: 0.8687 - LR: 0.0001\n",
      "Epoch  9/100 - Train Loss: 0.42 - Val Loss: 0.40 - Val Acc: 0.8614 - LR: 0.0001\n",
      "Epoch 10/100 - Train Loss: 0.39 - Val Loss: 0.39 - Val Acc: 0.8684 - LR: 0.0001\n",
      "Epoch 11/100 - Train Loss: 0.40 - Val Loss: 0.37 - Val Acc: 0.8636 - LR: 0.0001\n",
      "Epoch 12/100 - Train Loss: 0.39 - Val Loss: 0.37 - Val Acc: 0.8690 - LR: 0.0001\n",
      "Epoch 13/100 - Train Loss: 0.38 - Val Loss: 0.36 - Val Acc: 0.8709 - LR: 0.0001\n",
      "Epoch 14/100 - Train Loss: 0.37 - Val Loss: 0.35 - Val Acc: 0.8771 - LR: 0.0001\n",
      "Epoch 15/100 - Train Loss: 0.34 - Val Loss: 0.34 - Val Acc: 0.8765 - LR: 0.0001\n",
      "Epoch 16/100 - Train Loss: 0.33 - Val Loss: 0.33 - Val Acc: 0.8914 - LR: 0.0001\n",
      "Epoch 17/100 - Train Loss: 0.33 - Val Loss: 0.34 - Val Acc: 0.8793 - LR: 0.0001\n",
      "Epoch 18/100 - Train Loss: 0.33 - Val Loss: 0.33 - Val Acc: 0.8793 - LR: 0.0001\n",
      "Epoch 19/100 - Train Loss: 0.35 - Val Loss: 0.32 - Val Acc: 0.8752 - LR: 0.0001\n",
      "Epoch 20/100 - Train Loss: 0.35 - Val Loss: 0.32 - Val Acc: 0.8764 - LR: 0.0001\n",
      "Epoch 21/100 - Train Loss: 0.32 - Val Loss: 0.32 - Val Acc: 0.8725 - LR: 0.0001\n",
      "Epoch 22/100 - Train Loss: 0.33 - Val Loss: 0.33 - Val Acc: 0.8774 - LR: 0.0001\n",
      "Epoch 23/100 - Train Loss: 0.33 - Val Loss: 0.32 - Val Acc: 0.8704 - LR: 0.0001\n",
      "Epoch 24/100 - Train Loss: 0.32 - Val Loss: 0.32 - Val Acc: 0.8729 - LR: 0.0001\n",
      "Epoch 25/100 - Train Loss: 0.32 - Val Loss: 0.32 - Val Acc: 0.8729 - LR: 0.0001\n",
      "Epoch 26/100 - Train Loss: 0.30 - Val Loss: 0.32 - Val Acc: 0.8726 - LR: 0.0001\n",
      "Epoch 27/100 - Train Loss: 0.30 - Val Loss: 0.32 - Val Acc: 0.8689 - LR: 0.0001\n",
      "Epoch 28/100 - Train Loss: 0.34 - Val Loss: 0.31 - Val Acc: 0.8688 - LR: 0.0001\n",
      "Epoch 29/100 - Train Loss: 0.33 - Val Loss: 0.31 - Val Acc: 0.8713 - LR: 0.0001\n",
      "Epoch 30/100 - Train Loss: 0.32 - Val Loss: 0.32 - Val Acc: 0.8766 - LR: 0.0001\n",
      "Epoch 31/100 - Train Loss: 0.33 - Val Loss: 0.32 - Val Acc: 0.8672 - LR: 0.0001\n",
      "Epoch 32/100 - Train Loss: 0.32 - Val Loss: 0.32 - Val Acc: 0.8742 - LR: 0.0001\n",
      "Epoch 33/100 - Train Loss: 0.35 - Val Loss: 0.31 - Val Acc: 0.8760 - LR: 0.0001\n",
      "Epoch 34/100 - Train Loss: 0.31 - Val Loss: 0.32 - Val Acc: 0.8827 - LR: 0.0001\n",
      "Epoch 35/100 - Train Loss: 0.33 - Val Loss: 0.31 - Val Acc: 0.8800 - LR: 0.0001\n",
      "Epoch 36/100 - Train Loss: 0.32 - Val Loss: 0.31 - Val Acc: 0.8677 - LR: 0.0001\n",
      "Epoch 37/100 - Train Loss: 0.30 - Val Loss: 0.32 - Val Acc: 0.8642 - LR: 0.0001\n",
      "Epoch 38/100 - Train Loss: 0.32 - Val Loss: 0.31 - Val Acc: 0.8596 - LR: 0.0001\n",
      "Epoch 39/100 - Train Loss: 0.32 - Val Loss: 0.31 - Val Acc: 0.8613 - LR: 0.0001\n",
      "Epoch 40/100 - Train Loss: 0.33 - Val Loss: 0.31 - Val Acc: 0.8731 - LR: 0.0001\n",
      "Epoch 41/100 - Train Loss: 0.30 - Val Loss: 0.31 - Val Acc: 0.8762 - LR: 0.0001\n",
      "Epoch 42/100 - Train Loss: 0.31 - Val Loss: 0.30 - Val Acc: 0.8810 - LR: 0.0001\n",
      "Epoch 43/100 - Train Loss: 0.32 - Val Loss: 0.30 - Val Acc: 0.8871 - LR: 0.0001\n",
      "Epoch 44/100 - Train Loss: 0.31 - Val Loss: 0.31 - Val Acc: 0.8599 - LR: 0.0001\n",
      "Epoch 45/100 - Train Loss: 0.29 - Val Loss: 0.30 - Val Acc: 0.8791 - LR: 0.0001\n",
      "Epoch 46/100 - Train Loss: 0.31 - Val Loss: 0.30 - Val Acc: 0.8722 - LR: 0.0001\n",
      "Epoch 47/100 - Train Loss: 0.33 - Val Loss: 0.31 - Val Acc: 0.8702 - LR: 0.0001\n",
      "Epoch 48/100 - Train Loss: 0.30 - Val Loss: 0.31 - Val Acc: 0.8754 - LR: 1e-05\n",
      "Epoch 49/100 - Train Loss: 0.28 - Val Loss: 0.30 - Val Acc: 0.8744 - LR: 1e-05\n",
      "Epoch 50/100 - Train Loss: 0.29 - Val Loss: 0.30 - Val Acc: 0.8722 - LR: 1e-05\n",
      "Epoch 51/100 - Train Loss: 0.30 - Val Loss: 0.30 - Val Acc: 0.8765 - LR: 1e-05\n",
      "Epoch 52/100 - Train Loss: 0.31 - Val Loss: 0.30 - Val Acc: 0.8759 - LR: 1e-05\n",
      "Epoch 53/100 - Train Loss: 0.31 - Val Loss: 0.30 - Val Acc: 0.8765 - LR: 1e-05\n",
      "Epoch 54/100 - Train Loss: 0.31 - Val Loss: 0.30 - Val Acc: 0.8759 - LR: 1.0000000000000002e-06\n",
      "Epoch 55/100 - Train Loss: 0.30 - Val Loss: 0.30 - Val Acc: 0.8759 - LR: 1.0000000000000002e-06\n",
      "Epoch 56/100 - Train Loss: 0.31 - Val Loss: 0.30 - Val Acc: 0.8765 - LR: 1.0000000000000002e-06\n",
      "Epoch 57/100 - Train Loss: 0.30 - Val Loss: 0.30 - Val Acc: 0.8753 - LR: 1.0000000000000002e-06\n",
      "Epoch 58/100 - Train Loss: 0.31 - Val Loss: 0.30 - Val Acc: 0.8759 - LR: 1.0000000000000002e-06\n",
      "Epoch 59/100 - Train Loss: 0.29 - Val Loss: 0.30 - Val Acc: 0.8753 - LR: 1.0000000000000002e-06\n",
      "Epoch 60/100 - Train Loss: 0.30 - Val Loss: 0.30 - Val Acc: 0.8748 - LR: 1.0000000000000002e-06\n",
      "Epoch 61/100 - Train Loss: 0.29 - Val Loss: 0.30 - Val Acc: 0.8748 - LR: 1.0000000000000002e-06\n",
      "Epoch 62/100 - Train Loss: 0.30 - Val Loss: 0.30 - Val Acc: 0.8748 - LR: 1.0000000000000002e-07\n",
      "Epoch 63/100 - Train Loss: 0.28 - Val Loss: 0.30 - Val Acc: 0.8742 - LR: 1.0000000000000002e-07\n",
      "Epoch 64/100 - Train Loss: 0.30 - Val Loss: 0.30 - Val Acc: 0.8765 - LR: 1.0000000000000002e-07\n",
      "Epoch 65/100 - Train Loss: 0.31 - Val Loss: 0.30 - Val Acc: 0.8770 - LR: 1.0000000000000002e-07\n",
      "Epoch 66/100 - Train Loss: 0.32 - Val Loss: 0.30 - Val Acc: 0.8770 - LR: 1.0000000000000002e-07\n",
      "Epoch 67/100 - Train Loss: 0.29 - Val Loss: 0.30 - Val Acc: 0.8765 - LR: 1.0000000000000002e-07\n",
      "Epoch 68/100 - Train Loss: 0.27 - Val Loss: 0.30 - Val Acc: 0.8765 - LR: 1.0000000000000002e-07\n",
      "Epoch 69/100 - Train Loss: 0.30 - Val Loss: 0.30 - Val Acc: 0.8765 - LR: 1.0000000000000002e-07\n",
      "Epoch 70/100 - Train Loss: 0.30 - Val Loss: 0.30 - Val Acc: 0.8759 - LR: 1.0000000000000002e-07\n",
      "Epoch 71/100 - Train Loss: 0.29 - Val Loss: 0.30 - Val Acc: 0.8770 - LR: 1.0000000000000002e-07\n",
      "Epoch 72/100 - Train Loss: 0.30 - Val Loss: 0.30 - Val Acc: 0.8765 - LR: 1.0000000000000002e-07\n",
      "Epoch 73/100 - Train Loss: 0.29 - Val Loss: 0.30 - Val Acc: 0.8759 - LR: 1.0000000000000002e-07\n",
      "Epoch 74/100 - Train Loss: 0.30 - Val Loss: 0.30 - Val Acc: 0.8765 - LR: 1.0000000000000004e-08\n",
      "Epoch 75/100 - Train Loss: 0.29 - Val Loss: 0.30 - Val Acc: 0.8759 - LR: 1.0000000000000004e-08\n",
      "Epoch 76/100 - Train Loss: 0.29 - Val Loss: 0.30 - Val Acc: 0.8759 - LR: 1.0000000000000004e-08\n",
      "Epoch 77/100 - Train Loss: 0.29 - Val Loss: 0.30 - Val Acc: 0.8765 - LR: 1.0000000000000004e-08\n",
      "Epoch 78/100 - Train Loss: 0.32 - Val Loss: 0.30 - Val Acc: 0.8765 - LR: 1.0000000000000004e-08\n",
      "Epoch 79/100 - Train Loss: 0.29 - Val Loss: 0.30 - Val Acc: 0.8765 - LR: 1.0000000000000004e-08\n",
      "Epoch 80/100 - Train Loss: 0.30 - Val Loss: 0.30 - Val Acc: 0.8770 - LR: 1.0000000000000004e-08\n",
      "Epoch 81/100 - Train Loss: 0.29 - Val Loss: 0.30 - Val Acc: 0.8765 - LR: 1.0000000000000004e-08\n",
      "Epoch 82/100 - Train Loss: 0.30 - Val Loss: 0.30 - Val Acc: 0.8765 - LR: 1.0000000000000004e-08\n",
      "Epoch 83/100 - Train Loss: 0.30 - Val Loss: 0.30 - Val Acc: 0.8765 - LR: 1.0000000000000004e-08\n",
      "Epoch 84/100 - Train Loss: 0.30 - Val Loss: 0.30 - Val Acc: 0.8759 - LR: 1.0000000000000004e-08\n",
      "Epoch 85/100 - Train Loss: 0.32 - Val Loss: 0.30 - Val Acc: 0.8748 - LR: 1.0000000000000004e-08\n",
      "Epoch 86/100 - Train Loss: 0.29 - Val Loss: 0.30 - Val Acc: 0.8753 - LR: 1.0000000000000004e-08\n",
      "Epoch 87/100 - Train Loss: 0.34 - Val Loss: 0.30 - Val Acc: 0.8753 - LR: 1.0000000000000004e-08\n",
      "Epoch 88/100 - Train Loss: 0.31 - Val Loss: 0.30 - Val Acc: 0.8765 - LR: 1.0000000000000004e-08\n",
      "Epoch 89/100 - Train Loss: 0.30 - Val Loss: 0.30 - Val Acc: 0.8765 - LR: 1.0000000000000004e-08\n",
      "Epoch 90/100 - Train Loss: 0.28 - Val Loss: 0.30 - Val Acc: 0.8770 - LR: 1.0000000000000004e-08\n",
      "Epoch 91/100 - Train Loss: 0.30 - Val Loss: 0.30 - Val Acc: 0.8765 - LR: 1.0000000000000004e-08\n",
      "Epoch 92/100 - Train Loss: 0.31 - Val Loss: 0.30 - Val Acc: 0.8765 - LR: 1.0000000000000004e-08\n",
      "Epoch 93/100 - Train Loss: 0.31 - Val Loss: 0.30 - Val Acc: 0.8765 - LR: 1.0000000000000004e-08\n",
      "Epoch 94/100 - Train Loss: 0.28 - Val Loss: 0.30 - Val Acc: 0.8765 - LR: 1.0000000000000004e-08\n",
      "Epoch 95/100 - Train Loss: 0.30 - Val Loss: 0.30 - Val Acc: 0.8765 - LR: 1.0000000000000004e-08\n",
      "Epoch 96/100 - Train Loss: 0.31 - Val Loss: 0.30 - Val Acc: 0.8765 - LR: 1.0000000000000004e-08\n",
      "Epoch 97/100 - Train Loss: 0.33 - Val Loss: 0.30 - Val Acc: 0.8765 - LR: 1.0000000000000004e-08\n",
      "Epoch 98/100 - Train Loss: 0.30 - Val Loss: 0.30 - Val Acc: 0.8765 - LR: 1.0000000000000004e-08\n",
      "Epoch 99/100 - Train Loss: 0.31 - Val Loss: 0.30 - Val Acc: 0.8765 - LR: 1.0000000000000004e-08\n",
      "Epoch 100/100 - Train Loss: 0.29 - Val Loss: 0.30 - Val Acc: 0.8770 - LR: 1.0000000000000004e-08\n"
     ]
    },
    {
     "data": {
      "image/png": "[encoded data removed]",
      "text/plain": [
       "<Figure size 1200x400 with 2 Axes>"
      ]
     },
     "metadata": {},
     "output_type": "display_data"
    }
   ],
   "source": [
    "from train import Trainer\n",
    "\n",
    "emb_model = DefaultNeuralNetwork(input_size=vector_size_ie, output_size=num_classes-1, dropout=0.1)\n",
    "optim = torch.optim.AdamW(emb_model.parameters(), lr=1e-4, weight_decay=2e-1)\n",
    "scheduler = torch.optim.lr_scheduler.ReduceLROnPlateau(optim, patience=5, factor=0.1, verbose=True)\n",
    "criterion = ordinal_loss\n",
    "\n",
    "trainer = Trainer(emb_model)\n",
    "trainer.to_device(device)\n",
    "trainer.compile(optimizer=optim, criterion=criterion, scheduler=scheduler)\n",
    "\n",
    "trainer.fit(train_loader_ie, val_loader_ie, epochs=100)"
   ]
  },
  {
   "cell_type": "markdown",
   "metadata": {},
   "source": [
    "# Evaluation"
   ]
  },
  {
   "cell_type": "code",
   "execution_count": 169,
   "metadata": {},
   "outputs": [],
   "source": [
    "from train import predict\n",
    "\n",
    "y_pred = predict(nn_model, X_val_oh, device)"
   ]
  },
  {
   "cell_type": "markdown",
   "metadata": {},
   "source": [
    "### Accuracy curve"
   ]
  },
  {
   "cell_type": "code",
   "execution_count": 170,
   "metadata": {},
   "outputs": [
    {
     "data": {
      "image/png": "[encoded data removed]",
      "text/plain": [
       "<Figure size 1000x600 with 1 Axes>"
      ]
     },
     "metadata": {},
     "output_type": "display_data"
    }
   ],
   "source": [
    "from plots import plot_acc_over_thresholds\n",
    "\n",
    "plot_acc_over_thresholds(y_val, y_pred)"
   ]
  },
  {
   "cell_type": "code",
   "execution_count": 171,
   "metadata": {},
   "outputs": [],
   "source": [
    "from utils import pred_to_class\n",
    "\n",
    "\n",
    "pred_class = pred_to_class(y_pred, threshold=(0.5, 0.5)).numpy()"
   ]
  },
  {
   "cell_type": "markdown",
   "metadata": {},
   "source": [
    "### Accuracy per class"
   ]
  },
  {
   "cell_type": "code",
   "execution_count": 172,
   "metadata": {},
   "outputs": [
    {
     "name": "stdout",
     "output_type": "stream",
     "text": [
      "Class 0 accuracy: 0.86\n",
      "Class 1 accuracy: 0.86\n",
      "Class 2 accuracy: 0.81\n",
      "Average class accuracy: 0.84\n"
     ]
    },
    {
     "data": {
      "image/png": "[encoded data removed]",
      "text/plain": [
       "<Figure size 800x600 with 1 Axes>"
      ]
     },
     "metadata": {},
     "output_type": "display_data"
    }
   ],
   "source": [
    "from plots import plot_pred_acc\n",
    "\n",
    "\n",
    "plot_pred_acc(y_val, pred_class)"
   ]
  },
  {
   "cell_type": "markdown",
   "metadata": {},
   "source": [
    "### Confusion matrix"
   ]
  },
  {
   "cell_type": "code",
   "execution_count": 173,
   "metadata": {},
   "outputs": [
    {
     "data": {
      "image/png": "[encoded data removed]",
      "text/plain": [
       "<Figure size 800x600 with 2 Axes>"
      ]
     },
     "metadata": {},
     "output_type": "display_data"
    }
   ],
   "source": [
    "from plots import plot_confusion_matrix\n",
    "\n",
    "plot_confusion_matrix(y_val, pred_class)"
   ]
  },
  {
   "cell_type": "markdown",
   "metadata": {},
   "source": [
    "# Save results"
   ]
  },
  {
   "cell_type": "code",
   "execution_count": 174,
   "metadata": {},
   "outputs": [
    {
     "data": {
      "text/html": [
       "<div>\n",
       "<style scoped>\n",
       "    .dataframe tbody tr th:only-of-type {\n",
       "        vertical-align: middle;\n",
       "    }\n",
       "\n",
       "    .dataframe tbody tr th {\n",
       "        vertical-align: top;\n",
       "    }\n",
       "\n",
       "    .dataframe thead th {\n",
       "        text-align: right;\n",
       "    }\n",
       "</style>\n",
       "<table border=\"1\" class=\"dataframe\">\n",
       "  <thead>\n",
       "    <tr style=\"text-align: right;\">\n",
       "      <th></th>\n",
       "      <th>0</th>\n",
       "    </tr>\n",
       "  </thead>\n",
       "  <tbody>\n",
       "    <tr>\n",
       "      <th>0</th>\n",
       "      <td>1</td>\n",
       "    </tr>\n",
       "    <tr>\n",
       "      <th>1</th>\n",
       "      <td>1</td>\n",
       "    </tr>\n",
       "    <tr>\n",
       "      <th>2</th>\n",
       "      <td>2</td>\n",
       "    </tr>\n",
       "    <tr>\n",
       "      <th>3</th>\n",
       "      <td>1</td>\n",
       "    </tr>\n",
       "    <tr>\n",
       "      <th>4</th>\n",
       "      <td>1</td>\n",
       "    </tr>\n",
       "  </tbody>\n",
       "</table>\n",
       "</div>"
      ],
      "text/plain": [
       "   0\n",
       "0  1\n",
       "1  1\n",
       "2  2\n",
       "3  1\n",
       "4  1"
      ]
     },
     "execution_count": 174,
     "metadata": {},
     "output_type": "execute_result"
    }
   ],
   "source": [
    "from train import save_results\n",
    "\n",
    "test_results = save_results(nn_model, X_test_oh, device=device)\n",
    "\n",
    "test_results.head()"
   ]
  }
 ],
 "metadata": {
  "kernelspec": {
   "display_name": "Python (myenv)",
   "language": "python",
   "name": "myenv"
  },
  "language_info": {
   "codemirror_mode": {
    "name": "ipython",
    "version": 3
   },
   "file_extension": ".py",
   "mimetype": "text/x-python",
   "name": "python",
   "nbconvert_exporter": "python",
   "pygments_lexer": "ipython3",
   "version": "3.13.2"
  }
 },
 "nbformat": 4,
 "nbformat_minor": 2
}
